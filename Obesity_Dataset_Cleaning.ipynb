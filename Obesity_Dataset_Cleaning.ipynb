{
 "cells": [
  {
   "cell_type": "code",
   "execution_count": 1,
   "metadata": {},
   "outputs": [],
   "source": [
    "import pandas as pd\n",
    "import numpy as np"
   ]
  },
  {
   "cell_type": "code",
   "execution_count": 2,
   "metadata": {},
   "outputs": [],
   "source": [
    "obs = pd.read_excel('./obesity_adults.xlsx')"
   ]
  },
  {
   "cell_type": "code",
   "execution_count": 3,
   "metadata": {},
   "outputs": [
    {
     "data": {
      "text/plain": [
       "(24570, 26)"
      ]
     },
     "execution_count": 3,
     "metadata": {},
     "output_type": "execute_result"
    }
   ],
   "source": [
    "obs.shape"
   ]
  },
  {
   "cell_type": "code",
   "execution_count": 4,
   "metadata": {},
   "outputs": [
    {
     "data": {
      "text/html": [
       "<div>\n",
       "<style scoped>\n",
       "    .dataframe tbody tr th:only-of-type {\n",
       "        vertical-align: middle;\n",
       "    }\n",
       "\n",
       "    .dataframe tbody tr th {\n",
       "        vertical-align: top;\n",
       "    }\n",
       "\n",
       "    .dataframe thead th {\n",
       "        text-align: right;\n",
       "    }\n",
       "</style>\n",
       "<table border=\"1\" class=\"dataframe\">\n",
       "  <thead>\n",
       "    <tr style=\"text-align: right;\">\n",
       "      <th></th>\n",
       "      <th>Location</th>\n",
       "      <th>Indicator</th>\n",
       "      <th>Period</th>\n",
       "      <th>Dim1</th>\n",
       "      <th>Dim2</th>\n",
       "      <th>Tooltip</th>\n",
       "      <th>IndicatorCode</th>\n",
       "      <th>FactValueForMeasure</th>\n",
       "      <th>FactValueString</th>\n",
       "      <th>FactValueUoM</th>\n",
       "      <th>...</th>\n",
       "      <th>DataSourceDimValueCode</th>\n",
       "      <th>SpatialDimValueCode</th>\n",
       "      <th>Dim1ValueCode</th>\n",
       "      <th>Dim2ValueCode</th>\n",
       "      <th>Dim3ValueCode</th>\n",
       "      <th>SlicingDimCode</th>\n",
       "      <th>SlicingDimValueCode</th>\n",
       "      <th>IsLatestYear</th>\n",
       "      <th>LatestYearLabel</th>\n",
       "      <th>FactValueNumericPrefix</th>\n",
       "    </tr>\n",
       "  </thead>\n",
       "  <tbody>\n",
       "    <tr>\n",
       "      <th>0</th>\n",
       "      <td>Afghanistan</td>\n",
       "      <td>Prevalence of obesity among adults, BMI &amp;Great...</td>\n",
       "      <td>2016</td>\n",
       "      <td>Female</td>\n",
       "      <td>NaN</td>\n",
       "      <td>6.2 [3.5-10.2]</td>\n",
       "      <td>NCD_BMI_30C</td>\n",
       "      <td>6.2</td>\n",
       "      <td>NaN</td>\n",
       "      <td>NaN</td>\n",
       "      <td>...</td>\n",
       "      <td>NaN</td>\n",
       "      <td>AFG</td>\n",
       "      <td>FMLE</td>\n",
       "      <td>NaN</td>\n",
       "      <td>NaN</td>\n",
       "      <td>NaN</td>\n",
       "      <td>NaN</td>\n",
       "      <td>True</td>\n",
       "      <td>Latest</td>\n",
       "      <td>NaN</td>\n",
       "    </tr>\n",
       "    <tr>\n",
       "      <th>1</th>\n",
       "      <td>Afghanistan</td>\n",
       "      <td>Prevalence of obesity among adults, BMI &amp;Great...</td>\n",
       "      <td>2015</td>\n",
       "      <td>Female</td>\n",
       "      <td>NaN</td>\n",
       "      <td>6 [3.3-9.8]</td>\n",
       "      <td>NCD_BMI_30C</td>\n",
       "      <td>6</td>\n",
       "      <td>NaN</td>\n",
       "      <td>NaN</td>\n",
       "      <td>...</td>\n",
       "      <td>NaN</td>\n",
       "      <td>AFG</td>\n",
       "      <td>FMLE</td>\n",
       "      <td>NaN</td>\n",
       "      <td>NaN</td>\n",
       "      <td>NaN</td>\n",
       "      <td>NaN</td>\n",
       "      <td>False</td>\n",
       "      <td>2015</td>\n",
       "      <td>NaN</td>\n",
       "    </tr>\n",
       "    <tr>\n",
       "      <th>2</th>\n",
       "      <td>Afghanistan</td>\n",
       "      <td>Prevalence of obesity among adults, BMI &amp;Great...</td>\n",
       "      <td>2014</td>\n",
       "      <td>Female</td>\n",
       "      <td>NaN</td>\n",
       "      <td>5.7 [3.2-9.4]</td>\n",
       "      <td>NCD_BMI_30C</td>\n",
       "      <td>5.7</td>\n",
       "      <td>NaN</td>\n",
       "      <td>NaN</td>\n",
       "      <td>...</td>\n",
       "      <td>NaN</td>\n",
       "      <td>AFG</td>\n",
       "      <td>FMLE</td>\n",
       "      <td>NaN</td>\n",
       "      <td>NaN</td>\n",
       "      <td>NaN</td>\n",
       "      <td>NaN</td>\n",
       "      <td>False</td>\n",
       "      <td>2014</td>\n",
       "      <td>NaN</td>\n",
       "    </tr>\n",
       "  </tbody>\n",
       "</table>\n",
       "<p>3 rows × 26 columns</p>\n",
       "</div>"
      ],
      "text/plain": [
       "      Location                                          Indicator  Period  \\\n",
       "0  Afghanistan  Prevalence of obesity among adults, BMI &Great...    2016   \n",
       "1  Afghanistan  Prevalence of obesity among adults, BMI &Great...    2015   \n",
       "2  Afghanistan  Prevalence of obesity among adults, BMI &Great...    2014   \n",
       "\n",
       "     Dim1  Dim2         Tooltip IndicatorCode FactValueForMeasure  \\\n",
       "0  Female   NaN  6.2 [3.5-10.2]   NCD_BMI_30C                 6.2   \n",
       "1  Female   NaN     6 [3.3-9.8]   NCD_BMI_30C                   6   \n",
       "2  Female   NaN   5.7 [3.2-9.4]   NCD_BMI_30C                 5.7   \n",
       "\n",
       "   FactValueString  FactValueUoM  ... DataSourceDimValueCode  \\\n",
       "0              NaN           NaN  ...                    NaN   \n",
       "1              NaN           NaN  ...                    NaN   \n",
       "2              NaN           NaN  ...                    NaN   \n",
       "\n",
       "  SpatialDimValueCode Dim1ValueCode  Dim2ValueCode Dim3ValueCode  \\\n",
       "0                 AFG          FMLE            NaN           NaN   \n",
       "1                 AFG          FMLE            NaN           NaN   \n",
       "2                 AFG          FMLE            NaN           NaN   \n",
       "\n",
       "   SlicingDimCode  SlicingDimValueCode IsLatestYear LatestYearLabel  \\\n",
       "0             NaN                  NaN         True          Latest   \n",
       "1             NaN                  NaN        False            2015   \n",
       "2             NaN                  NaN        False            2014   \n",
       "\n",
       "   FactValueNumericPrefix  \n",
       "0                     NaN  \n",
       "1                     NaN  \n",
       "2                     NaN  \n",
       "\n",
       "[3 rows x 26 columns]"
      ]
     },
     "execution_count": 4,
     "metadata": {},
     "output_type": "execute_result"
    }
   ],
   "source": [
    "obs.head(3)"
   ]
  },
  {
   "cell_type": "code",
   "execution_count": 5,
   "metadata": {},
   "outputs": [
    {
     "data": {
      "text/plain": [
       "[\"'Facts'[LANGUAGE_CODE]\",\n",
       " 'DataSourceDimValueCode',\n",
       " 'Dim1',\n",
       " 'Dim1ValueCode',\n",
       " 'Dim2',\n",
       " 'Dim2ValueCode',\n",
       " 'Dim3ValueCode',\n",
       " 'FactComments',\n",
       " 'FactValueForMeasure',\n",
       " 'FactValueNumericPrefix',\n",
       " 'FactValueString',\n",
       " 'FactValueUoM',\n",
       " 'Indicator',\n",
       " 'IndicatorCode',\n",
       " 'IsLatestYear',\n",
       " 'LanguageName',\n",
       " 'LanguageOrder',\n",
       " 'LatestYearLabel',\n",
       " 'Location',\n",
       " 'Period',\n",
       " 'SlicingDimCode',\n",
       " 'SlicingDimValueCode',\n",
       " 'SpaceTime',\n",
       " 'SpatialDimValueCode',\n",
       " 'TimeDimValueCode',\n",
       " 'Tooltip']"
      ]
     },
     "execution_count": 5,
     "metadata": {},
     "output_type": "execute_result"
    }
   ],
   "source": [
    "# List of features in dataset\n",
    "sorted(obs)"
   ]
  },
  {
   "cell_type": "code",
   "execution_count": 6,
   "metadata": {},
   "outputs": [
    {
     "data": {
      "text/html": [
       "<div>\n",
       "<style scoped>\n",
       "    .dataframe tbody tr th:only-of-type {\n",
       "        vertical-align: middle;\n",
       "    }\n",
       "\n",
       "    .dataframe tbody tr th {\n",
       "        vertical-align: top;\n",
       "    }\n",
       "\n",
       "    .dataframe thead th {\n",
       "        text-align: right;\n",
       "    }\n",
       "</style>\n",
       "<table border=\"1\" class=\"dataframe\">\n",
       "  <thead>\n",
       "    <tr style=\"text-align: right;\">\n",
       "      <th></th>\n",
       "      <th>Location</th>\n",
       "      <th>Indicator</th>\n",
       "      <th>Dim1</th>\n",
       "      <th>Tooltip</th>\n",
       "      <th>IndicatorCode</th>\n",
       "      <th>FactValueForMeasure</th>\n",
       "      <th>FactComments</th>\n",
       "      <th>LanguageName</th>\n",
       "      <th>'Facts'[LANGUAGE_CODE]</th>\n",
       "      <th>SpaceTime</th>\n",
       "      <th>SpatialDimValueCode</th>\n",
       "      <th>Dim1ValueCode</th>\n",
       "      <th>LatestYearLabel</th>\n",
       "    </tr>\n",
       "  </thead>\n",
       "  <tbody>\n",
       "    <tr>\n",
       "      <th>count</th>\n",
       "      <td>24570</td>\n",
       "      <td>24570</td>\n",
       "      <td>24570</td>\n",
       "      <td>24570</td>\n",
       "      <td>24570</td>\n",
       "      <td>24570</td>\n",
       "      <td>504</td>\n",
       "      <td>24570</td>\n",
       "      <td>24570</td>\n",
       "      <td>24570</td>\n",
       "      <td>24570</td>\n",
       "      <td>24570</td>\n",
       "      <td>24570</td>\n",
       "    </tr>\n",
       "    <tr>\n",
       "      <th>unique</th>\n",
       "      <td>199</td>\n",
       "      <td>1</td>\n",
       "      <td>3</td>\n",
       "      <td>15756</td>\n",
       "      <td>1</td>\n",
       "      <td>592</td>\n",
       "      <td>1</td>\n",
       "      <td>1</td>\n",
       "      <td>1</td>\n",
       "      <td>199</td>\n",
       "      <td>199</td>\n",
       "      <td>3</td>\n",
       "      <td>42</td>\n",
       "    </tr>\n",
       "    <tr>\n",
       "      <th>top</th>\n",
       "      <td>Sudan (until 2011)</td>\n",
       "      <td>Prevalence of obesity among adults, BMI &amp;Great...</td>\n",
       "      <td>Both sexes</td>\n",
       "      <td>No data</td>\n",
       "      <td>NCD_BMI_30C</td>\n",
       "      <td>No data</td>\n",
       "      <td>No data available.� Estimate could not be calc...</td>\n",
       "      <td>English</td>\n",
       "      <td>en</td>\n",
       "      <td>SDN736</td>\n",
       "      <td>SDN736</td>\n",
       "      <td>BTSX</td>\n",
       "      <td>Latest</td>\n",
       "    </tr>\n",
       "    <tr>\n",
       "      <th>freq</th>\n",
       "      <td>234</td>\n",
       "      <td>24570</td>\n",
       "      <td>8190</td>\n",
       "      <td>504</td>\n",
       "      <td>24570</td>\n",
       "      <td>504</td>\n",
       "      <td>504</td>\n",
       "      <td>24570</td>\n",
       "      <td>24570</td>\n",
       "      <td>234</td>\n",
       "      <td>234</td>\n",
       "      <td>8190</td>\n",
       "      <td>597</td>\n",
       "    </tr>\n",
       "  </tbody>\n",
       "</table>\n",
       "</div>"
      ],
      "text/plain": [
       "                  Location                                          Indicator  \\\n",
       "count                24570                                              24570   \n",
       "unique                 199                                                  1   \n",
       "top     Sudan (until 2011)  Prevalence of obesity among adults, BMI &Great...   \n",
       "freq                   234                                              24570   \n",
       "\n",
       "              Dim1  Tooltip IndicatorCode FactValueForMeasure  \\\n",
       "count        24570    24570         24570               24570   \n",
       "unique           3    15756             1                 592   \n",
       "top     Both sexes  No data   NCD_BMI_30C             No data   \n",
       "freq          8190      504         24570                 504   \n",
       "\n",
       "                                             FactComments LanguageName  \\\n",
       "count                                                 504        24570   \n",
       "unique                                                  1            1   \n",
       "top     No data available.� Estimate could not be calc...      English   \n",
       "freq                                                  504        24570   \n",
       "\n",
       "       'Facts'[LANGUAGE_CODE] SpaceTime SpatialDimValueCode Dim1ValueCode  \\\n",
       "count                   24570     24570               24570         24570   \n",
       "unique                      1       199                 199             3   \n",
       "top                        en    SDN736              SDN736          BTSX   \n",
       "freq                    24570       234                 234          8190   \n",
       "\n",
       "       LatestYearLabel  \n",
       "count            24570  \n",
       "unique              42  \n",
       "top             Latest  \n",
       "freq               597  "
      ]
     },
     "execution_count": 6,
     "metadata": {},
     "output_type": "execute_result"
    }
   ],
   "source": [
    "obs.describe(include = ['object'])"
   ]
  },
  {
   "cell_type": "code",
   "execution_count": 7,
   "metadata": {},
   "outputs": [],
   "source": [
    "# Dropping Indictor and IndicatorCode from features, all observations have same value\n",
    "obs = obs.drop(['Indicator', 'IndicatorCode'], axis = 1)"
   ]
  },
  {
   "cell_type": "code",
   "execution_count": 8,
   "metadata": {},
   "outputs": [],
   "source": [
    "# Langauge is all english, dropping both columns as well as LanguageOrder \n",
    "obs = obs.drop(['LanguageName', \"'Facts'[LANGUAGE_CODE]\", 'LanguageOrder'], axis = 1)"
   ]
  },
  {
   "cell_type": "code",
   "execution_count": 9,
   "metadata": {},
   "outputs": [],
   "source": [
    "# Dim1 and Dim1ValueCode represent the same features, but the ValueCode is already in factor form. Will drop Dim1 but make note of factors\n",
    "obs = obs.drop(['Dim1'], axis = 1)"
   ]
  },
  {
   "cell_type": "code",
   "execution_count": 10,
   "metadata": {},
   "outputs": [],
   "source": [
    "# Tooltip provides useful data but we will not use it in this analysis\n",
    "obs = obs.drop(['Tooltip'], axis = 1)"
   ]
  },
  {
   "cell_type": "code",
   "execution_count": 11,
   "metadata": {},
   "outputs": [],
   "source": [
    "# SpaceTime and SpatialDimValueCode are the same, basically country codes. \n",
    "obs = obs.drop(['SpatialDimValueCode'], axis = 1)"
   ]
  },
  {
   "cell_type": "code",
   "execution_count": 12,
   "metadata": {},
   "outputs": [],
   "source": [
    "# LatestYearLabel is just a different representation of IsLatestYear withou being Bool, keeping IsLatestYear\n",
    "obs = obs.drop(['LatestYearLabel'], axis = 1)"
   ]
  },
  {
   "cell_type": "code",
   "execution_count": 13,
   "metadata": {},
   "outputs": [
    {
     "data": {
      "text/html": [
       "<div>\n",
       "<style scoped>\n",
       "    .dataframe tbody tr th:only-of-type {\n",
       "        vertical-align: middle;\n",
       "    }\n",
       "\n",
       "    .dataframe tbody tr th {\n",
       "        vertical-align: top;\n",
       "    }\n",
       "\n",
       "    .dataframe thead th {\n",
       "        text-align: right;\n",
       "    }\n",
       "</style>\n",
       "<table border=\"1\" class=\"dataframe\">\n",
       "  <thead>\n",
       "    <tr style=\"text-align: right;\">\n",
       "      <th></th>\n",
       "      <th>Location</th>\n",
       "      <th>Period</th>\n",
       "      <th>Dim2</th>\n",
       "      <th>FactValueForMeasure</th>\n",
       "      <th>FactValueString</th>\n",
       "      <th>FactValueUoM</th>\n",
       "      <th>FactComments</th>\n",
       "      <th>SpaceTime</th>\n",
       "      <th>TimeDimValueCode</th>\n",
       "      <th>DataSourceDimValueCode</th>\n",
       "      <th>Dim1ValueCode</th>\n",
       "      <th>Dim2ValueCode</th>\n",
       "      <th>Dim3ValueCode</th>\n",
       "      <th>SlicingDimCode</th>\n",
       "      <th>SlicingDimValueCode</th>\n",
       "      <th>IsLatestYear</th>\n",
       "      <th>FactValueNumericPrefix</th>\n",
       "    </tr>\n",
       "  </thead>\n",
       "  <tbody>\n",
       "    <tr>\n",
       "      <th>0</th>\n",
       "      <td>Afghanistan</td>\n",
       "      <td>2016</td>\n",
       "      <td>NaN</td>\n",
       "      <td>6.2</td>\n",
       "      <td>NaN</td>\n",
       "      <td>NaN</td>\n",
       "      <td>NaN</td>\n",
       "      <td>AFG</td>\n",
       "      <td>2016</td>\n",
       "      <td>NaN</td>\n",
       "      <td>FMLE</td>\n",
       "      <td>NaN</td>\n",
       "      <td>NaN</td>\n",
       "      <td>NaN</td>\n",
       "      <td>NaN</td>\n",
       "      <td>True</td>\n",
       "      <td>NaN</td>\n",
       "    </tr>\n",
       "    <tr>\n",
       "      <th>1</th>\n",
       "      <td>Afghanistan</td>\n",
       "      <td>2015</td>\n",
       "      <td>NaN</td>\n",
       "      <td>6</td>\n",
       "      <td>NaN</td>\n",
       "      <td>NaN</td>\n",
       "      <td>NaN</td>\n",
       "      <td>AFG</td>\n",
       "      <td>2015</td>\n",
       "      <td>NaN</td>\n",
       "      <td>FMLE</td>\n",
       "      <td>NaN</td>\n",
       "      <td>NaN</td>\n",
       "      <td>NaN</td>\n",
       "      <td>NaN</td>\n",
       "      <td>False</td>\n",
       "      <td>NaN</td>\n",
       "    </tr>\n",
       "    <tr>\n",
       "      <th>2</th>\n",
       "      <td>Afghanistan</td>\n",
       "      <td>2014</td>\n",
       "      <td>NaN</td>\n",
       "      <td>5.7</td>\n",
       "      <td>NaN</td>\n",
       "      <td>NaN</td>\n",
       "      <td>NaN</td>\n",
       "      <td>AFG</td>\n",
       "      <td>2014</td>\n",
       "      <td>NaN</td>\n",
       "      <td>FMLE</td>\n",
       "      <td>NaN</td>\n",
       "      <td>NaN</td>\n",
       "      <td>NaN</td>\n",
       "      <td>NaN</td>\n",
       "      <td>False</td>\n",
       "      <td>NaN</td>\n",
       "    </tr>\n",
       "  </tbody>\n",
       "</table>\n",
       "</div>"
      ],
      "text/plain": [
       "      Location  Period  Dim2 FactValueForMeasure  FactValueString  \\\n",
       "0  Afghanistan    2016   NaN                 6.2              NaN   \n",
       "1  Afghanistan    2015   NaN                   6              NaN   \n",
       "2  Afghanistan    2014   NaN                 5.7              NaN   \n",
       "\n",
       "   FactValueUoM FactComments SpaceTime  TimeDimValueCode  \\\n",
       "0           NaN          NaN       AFG              2016   \n",
       "1           NaN          NaN       AFG              2015   \n",
       "2           NaN          NaN       AFG              2014   \n",
       "\n",
       "   DataSourceDimValueCode Dim1ValueCode  Dim2ValueCode  Dim3ValueCode  \\\n",
       "0                     NaN          FMLE            NaN            NaN   \n",
       "1                     NaN          FMLE            NaN            NaN   \n",
       "2                     NaN          FMLE            NaN            NaN   \n",
       "\n",
       "   SlicingDimCode  SlicingDimValueCode  IsLatestYear  FactValueNumericPrefix  \n",
       "0             NaN                  NaN          True                     NaN  \n",
       "1             NaN                  NaN         False                     NaN  \n",
       "2             NaN                  NaN         False                     NaN  "
      ]
     },
     "execution_count": 13,
     "metadata": {},
     "output_type": "execute_result"
    }
   ],
   "source": [
    "obs.head(3)"
   ]
  },
  {
   "cell_type": "code",
   "execution_count": 14,
   "metadata": {},
   "outputs": [
    {
     "name": "stdout",
     "output_type": "stream",
     "text": [
      "Location                      0\n",
      "Period                        0\n",
      "Dim2                      24570\n",
      "FactValueForMeasure           0\n",
      "FactValueString           24570\n",
      "FactValueUoM              24570\n",
      "FactComments              24066\n",
      "SpaceTime                     0\n",
      "TimeDimValueCode              0\n",
      "DataSourceDimValueCode    24570\n",
      "Dim1ValueCode                 0\n",
      "Dim2ValueCode             24570\n",
      "Dim3ValueCode             24570\n",
      "SlicingDimCode            24570\n",
      "SlicingDimValueCode       24570\n",
      "IsLatestYear                  0\n",
      "FactValueNumericPrefix    24570\n",
      "dtype: int64\n"
     ]
    }
   ],
   "source": [
    "# Inspecting Dim2, FactValueXXX features for any non-NaN values\n",
    "print(obs.isna().sum())"
   ]
  },
  {
   "cell_type": "code",
   "execution_count": 15,
   "metadata": {},
   "outputs": [],
   "source": [
    "# Almost all observations in Dim2 and Fact categories are blank, dropping Dim nans from DF\n",
    "obs = obs.drop(['Dim2', \n",
    "                'Dim2ValueCode', \n",
    "                'Dim3ValueCode', \n",
    "                'SlicingDimCode', \n",
    "                'SlicingDimValueCode', \n",
    "                'DataSourceDimValueCode'], \n",
    "               axis = 1)\n"
   ]
  },
  {
   "cell_type": "code",
   "execution_count": 16,
   "metadata": {},
   "outputs": [],
   "source": [
    "# Dropping FactValue columns due to NA's. Fact Comments also removed.\n",
    "obs = obs.drop(['FactValueString', 'FactValueUoM', 'FactComments', 'FactValueNumericPrefix'], axis = 1)"
   ]
  },
  {
   "cell_type": "code",
   "execution_count": 17,
   "metadata": {},
   "outputs": [
    {
     "data": {
      "text/plain": [
       "Location               object\n",
       "Period                  int64\n",
       "FactValueForMeasure    object\n",
       "SpaceTime              object\n",
       "TimeDimValueCode        int64\n",
       "Dim1ValueCode          object\n",
       "IsLatestYear             bool\n",
       "dtype: object"
      ]
     },
     "execution_count": 17,
     "metadata": {},
     "output_type": "execute_result"
    }
   ],
   "source": [
    "obs.dtypes"
   ]
  },
  {
   "cell_type": "code",
   "execution_count": 18,
   "metadata": {},
   "outputs": [
    {
     "data": {
      "text/html": [
       "<div>\n",
       "<style scoped>\n",
       "    .dataframe tbody tr th:only-of-type {\n",
       "        vertical-align: middle;\n",
       "    }\n",
       "\n",
       "    .dataframe tbody tr th {\n",
       "        vertical-align: top;\n",
       "    }\n",
       "\n",
       "    .dataframe thead th {\n",
       "        text-align: right;\n",
       "    }\n",
       "</style>\n",
       "<table border=\"1\" class=\"dataframe\">\n",
       "  <thead>\n",
       "    <tr style=\"text-align: right;\">\n",
       "      <th></th>\n",
       "      <th>Period</th>\n",
       "      <th>TimeDimValueCode</th>\n",
       "    </tr>\n",
       "  </thead>\n",
       "  <tbody>\n",
       "    <tr>\n",
       "      <th>count</th>\n",
       "      <td>24570.000000</td>\n",
       "      <td>24570.000000</td>\n",
       "    </tr>\n",
       "    <tr>\n",
       "      <th>mean</th>\n",
       "      <td>1995.500000</td>\n",
       "      <td>1995.500000</td>\n",
       "    </tr>\n",
       "    <tr>\n",
       "      <th>std</th>\n",
       "      <td>12.121165</td>\n",
       "      <td>12.121165</td>\n",
       "    </tr>\n",
       "    <tr>\n",
       "      <th>min</th>\n",
       "      <td>1975.000000</td>\n",
       "      <td>1975.000000</td>\n",
       "    </tr>\n",
       "    <tr>\n",
       "      <th>25%</th>\n",
       "      <td>1985.000000</td>\n",
       "      <td>1985.000000</td>\n",
       "    </tr>\n",
       "    <tr>\n",
       "      <th>50%</th>\n",
       "      <td>1995.500000</td>\n",
       "      <td>1995.500000</td>\n",
       "    </tr>\n",
       "    <tr>\n",
       "      <th>75%</th>\n",
       "      <td>2006.000000</td>\n",
       "      <td>2006.000000</td>\n",
       "    </tr>\n",
       "    <tr>\n",
       "      <th>max</th>\n",
       "      <td>2016.000000</td>\n",
       "      <td>2016.000000</td>\n",
       "    </tr>\n",
       "  </tbody>\n",
       "</table>\n",
       "</div>"
      ],
      "text/plain": [
       "             Period  TimeDimValueCode\n",
       "count  24570.000000      24570.000000\n",
       "mean    1995.500000       1995.500000\n",
       "std       12.121165         12.121165\n",
       "min     1975.000000       1975.000000\n",
       "25%     1985.000000       1985.000000\n",
       "50%     1995.500000       1995.500000\n",
       "75%     2006.000000       2006.000000\n",
       "max     2016.000000       2016.000000"
      ]
     },
     "execution_count": 18,
     "metadata": {},
     "output_type": "execute_result"
    }
   ],
   "source": [
    "obs.describe(include = ['int64'])"
   ]
  },
  {
   "cell_type": "code",
   "execution_count": 19,
   "metadata": {},
   "outputs": [],
   "source": [
    "# Period and TimeDimValueCode are identical, keeping Period because it is easier to understand\n",
    "obs = obs.drop(['TimeDimValueCode'], axis = 1)"
   ]
  },
  {
   "cell_type": "code",
   "execution_count": 20,
   "metadata": {},
   "outputs": [
    {
     "data": {
      "text/html": [
       "<div>\n",
       "<style scoped>\n",
       "    .dataframe tbody tr th:only-of-type {\n",
       "        vertical-align: middle;\n",
       "    }\n",
       "\n",
       "    .dataframe tbody tr th {\n",
       "        vertical-align: top;\n",
       "    }\n",
       "\n",
       "    .dataframe thead th {\n",
       "        text-align: right;\n",
       "    }\n",
       "</style>\n",
       "<table border=\"1\" class=\"dataframe\">\n",
       "  <thead>\n",
       "    <tr style=\"text-align: right;\">\n",
       "      <th></th>\n",
       "      <th>Location</th>\n",
       "      <th>FactValueForMeasure</th>\n",
       "      <th>SpaceTime</th>\n",
       "      <th>Dim1ValueCode</th>\n",
       "    </tr>\n",
       "  </thead>\n",
       "  <tbody>\n",
       "    <tr>\n",
       "      <th>count</th>\n",
       "      <td>24570</td>\n",
       "      <td>24570</td>\n",
       "      <td>24570</td>\n",
       "      <td>24570</td>\n",
       "    </tr>\n",
       "    <tr>\n",
       "      <th>unique</th>\n",
       "      <td>199</td>\n",
       "      <td>592</td>\n",
       "      <td>199</td>\n",
       "      <td>3</td>\n",
       "    </tr>\n",
       "    <tr>\n",
       "      <th>top</th>\n",
       "      <td>Sudan (until 2011)</td>\n",
       "      <td>No data</td>\n",
       "      <td>SDN736</td>\n",
       "      <td>BTSX</td>\n",
       "    </tr>\n",
       "    <tr>\n",
       "      <th>freq</th>\n",
       "      <td>234</td>\n",
       "      <td>504</td>\n",
       "      <td>234</td>\n",
       "      <td>8190</td>\n",
       "    </tr>\n",
       "  </tbody>\n",
       "</table>\n",
       "</div>"
      ],
      "text/plain": [
       "                  Location FactValueForMeasure SpaceTime Dim1ValueCode\n",
       "count                24570               24570     24570         24570\n",
       "unique                 199                 592       199             3\n",
       "top     Sudan (until 2011)             No data    SDN736          BTSX\n",
       "freq                   234                 504       234          8190"
      ]
     },
     "execution_count": 20,
     "metadata": {},
     "output_type": "execute_result"
    }
   ],
   "source": [
    "obs.describe(include = ['object'])"
   ]
  },
  {
   "cell_type": "code",
   "execution_count": 21,
   "metadata": {},
   "outputs": [
    {
     "data": {
      "text/html": [
       "<div>\n",
       "<style scoped>\n",
       "    .dataframe tbody tr th:only-of-type {\n",
       "        vertical-align: middle;\n",
       "    }\n",
       "\n",
       "    .dataframe tbody tr th {\n",
       "        vertical-align: top;\n",
       "    }\n",
       "\n",
       "    .dataframe thead th {\n",
       "        text-align: right;\n",
       "    }\n",
       "</style>\n",
       "<table border=\"1\" class=\"dataframe\">\n",
       "  <thead>\n",
       "    <tr style=\"text-align: right;\">\n",
       "      <th></th>\n",
       "      <th>Location</th>\n",
       "      <th>Period</th>\n",
       "      <th>FactValueForMeasure</th>\n",
       "      <th>SpaceTime</th>\n",
       "      <th>Dim1ValueCode</th>\n",
       "      <th>IsLatestYear</th>\n",
       "    </tr>\n",
       "  </thead>\n",
       "  <tbody>\n",
       "    <tr>\n",
       "      <th>0</th>\n",
       "      <td>Afghanistan</td>\n",
       "      <td>2016</td>\n",
       "      <td>6.2</td>\n",
       "      <td>AFG</td>\n",
       "      <td>FMLE</td>\n",
       "      <td>True</td>\n",
       "    </tr>\n",
       "    <tr>\n",
       "      <th>1</th>\n",
       "      <td>Afghanistan</td>\n",
       "      <td>2015</td>\n",
       "      <td>6</td>\n",
       "      <td>AFG</td>\n",
       "      <td>FMLE</td>\n",
       "      <td>False</td>\n",
       "    </tr>\n",
       "    <tr>\n",
       "      <th>2</th>\n",
       "      <td>Afghanistan</td>\n",
       "      <td>2014</td>\n",
       "      <td>5.7</td>\n",
       "      <td>AFG</td>\n",
       "      <td>FMLE</td>\n",
       "      <td>False</td>\n",
       "    </tr>\n",
       "  </tbody>\n",
       "</table>\n",
       "</div>"
      ],
      "text/plain": [
       "      Location  Period FactValueForMeasure SpaceTime Dim1ValueCode  \\\n",
       "0  Afghanistan    2016                 6.2       AFG          FMLE   \n",
       "1  Afghanistan    2015                   6       AFG          FMLE   \n",
       "2  Afghanistan    2014                 5.7       AFG          FMLE   \n",
       "\n",
       "   IsLatestYear  \n",
       "0          True  \n",
       "1         False  \n",
       "2         False  "
      ]
     },
     "execution_count": 21,
     "metadata": {},
     "output_type": "execute_result"
    }
   ],
   "source": [
    "obs.head(3)"
   ]
  },
  {
   "cell_type": "code",
   "execution_count": 22,
   "metadata": {},
   "outputs": [],
   "source": [
    "# Rename columns for easier reading\n",
    "obs.columns = ['country', 'year', 'pct_obese', 'country_code', 'sex', 'latest']"
   ]
  },
  {
   "cell_type": "code",
   "execution_count": 23,
   "metadata": {},
   "outputs": [
    {
     "data": {
      "text/html": [
       "<div>\n",
       "<style scoped>\n",
       "    .dataframe tbody tr th:only-of-type {\n",
       "        vertical-align: middle;\n",
       "    }\n",
       "\n",
       "    .dataframe tbody tr th {\n",
       "        vertical-align: top;\n",
       "    }\n",
       "\n",
       "    .dataframe thead th {\n",
       "        text-align: right;\n",
       "    }\n",
       "</style>\n",
       "<table border=\"1\" class=\"dataframe\">\n",
       "  <thead>\n",
       "    <tr style=\"text-align: right;\">\n",
       "      <th></th>\n",
       "      <th>country</th>\n",
       "      <th>year</th>\n",
       "      <th>pct_obese</th>\n",
       "      <th>country_code</th>\n",
       "      <th>sex</th>\n",
       "      <th>latest</th>\n",
       "    </tr>\n",
       "  </thead>\n",
       "  <tbody>\n",
       "    <tr>\n",
       "      <th>0</th>\n",
       "      <td>Afghanistan</td>\n",
       "      <td>2016</td>\n",
       "      <td>6.2</td>\n",
       "      <td>AFG</td>\n",
       "      <td>FMLE</td>\n",
       "      <td>True</td>\n",
       "    </tr>\n",
       "    <tr>\n",
       "      <th>1</th>\n",
       "      <td>Afghanistan</td>\n",
       "      <td>2015</td>\n",
       "      <td>6</td>\n",
       "      <td>AFG</td>\n",
       "      <td>FMLE</td>\n",
       "      <td>False</td>\n",
       "    </tr>\n",
       "    <tr>\n",
       "      <th>2</th>\n",
       "      <td>Afghanistan</td>\n",
       "      <td>2014</td>\n",
       "      <td>5.7</td>\n",
       "      <td>AFG</td>\n",
       "      <td>FMLE</td>\n",
       "      <td>False</td>\n",
       "    </tr>\n",
       "  </tbody>\n",
       "</table>\n",
       "</div>"
      ],
      "text/plain": [
       "       country  year pct_obese country_code   sex  latest\n",
       "0  Afghanistan  2016       6.2          AFG  FMLE    True\n",
       "1  Afghanistan  2015         6          AFG  FMLE   False\n",
       "2  Afghanistan  2014       5.7          AFG  FMLE   False"
      ]
     },
     "execution_count": 23,
     "metadata": {},
     "output_type": "execute_result"
    }
   ],
   "source": [
    "obs.head(3)"
   ]
  },
  {
   "cell_type": "code",
   "execution_count": 24,
   "metadata": {},
   "outputs": [
    {
     "data": {
      "text/plain": [
       "country         object\n",
       "year             int64\n",
       "pct_obese       object\n",
       "country_code    object\n",
       "sex             object\n",
       "latest            bool\n",
       "dtype: object"
      ]
     },
     "execution_count": 24,
     "metadata": {},
     "output_type": "execute_result"
    }
   ],
   "source": [
    "obs.dtypes"
   ]
  },
  {
   "cell_type": "code",
   "execution_count": 25,
   "metadata": {},
   "outputs": [
    {
     "name": "stdout",
     "output_type": "stream",
     "text": [
      "Number of Observations:     24570\n",
      "Number of Empty Fields:     0\n",
      "Number of non-Alpha Fields: 22310\n",
      "Number of Numeric Fields:   2260\n",
      "Fields with White Space:    0\n"
     ]
    }
   ],
   "source": [
    "# pct_obese should be float...\n",
    "print('Number of Observations:    ', len(obs))\n",
    "print('Number of Empty Fields:    ', len(obs) - obs['pct_obese'].notnull().value_counts()[1])\n",
    "print('Number of non-Alpha Fields:', len(obs) - obs['pct_obese'].str.isalnum().value_counts()[1])\n",
    "print('Number of Numeric Fields:  ', obs['pct_obese'].str.isdigit().value_counts()[1])\n",
    "print('Fields with White Space:   ', len(obs) - obs['pct_obese'].str.isspace().value_counts()[0])"
   ]
  },
  {
   "cell_type": "code",
   "execution_count": 26,
   "metadata": {},
   "outputs": [
    {
     "name": "stdout",
     "output_type": "stream",
     "text": [
      "Fields with no data: 504\n",
      "\n",
      "Countries with no Data: ['Monaco' 'San Marino' 'South Sudan' 'Sudan' 'Sudan (until 2011)']\n"
     ]
    }
   ],
   "source": [
    "# Some values contain the string 'no data' which makes the float values appear as strings.\n",
    "obs['pct_obese'] = pd.to_numeric(obs['pct_obese'], errors = 'coerce')\n",
    "\n",
    "print('Fields with no data:', obs['pct_obese'].isna().value_counts()[1])\n",
    "print('\\nCountries with no Data:', obs[obs['pct_obese'].isna() == True]['country'].unique())"
   ]
  },
  {
   "cell_type": "code",
   "execution_count": 27,
   "metadata": {},
   "outputs": [],
   "source": [
    "# Dropping entries with no data, mostly data from specific sexes\n",
    "obs = obs.dropna()"
   ]
  },
  {
   "cell_type": "code",
   "execution_count": 28,
   "metadata": {},
   "outputs": [
    {
     "name": "stdout",
     "output_type": "stream",
     "text": [
      "<class 'pandas.core.frame.DataFrame'>\n",
      "Int64Index: 24066 entries, 0 to 24569\n",
      "Data columns (total 6 columns):\n",
      "country         24066 non-null object\n",
      "year            24066 non-null int64\n",
      "pct_obese       24066 non-null float64\n",
      "country_code    24066 non-null object\n",
      "sex             24066 non-null object\n",
      "latest          24066 non-null bool\n",
      "dtypes: bool(1), float64(1), int64(1), object(3)\n",
      "memory usage: 1.1+ MB\n"
     ]
    }
   ],
   "source": [
    "obs.info()"
   ]
  },
  {
   "cell_type": "code",
   "execution_count": 29,
   "metadata": {},
   "outputs": [],
   "source": [
    "# Changing SDN736 to SDN, for ISO reading purposes. No data exists for south Sudan\n",
    "obs.loc[obs.country_code == 'SDN736', 'country_code'] = 'SDN'"
   ]
  },
  {
   "cell_type": "code",
   "execution_count": 30,
   "metadata": {},
   "outputs": [
    {
     "data": {
      "text/html": [
       "<div>\n",
       "<style scoped>\n",
       "    .dataframe tbody tr th:only-of-type {\n",
       "        vertical-align: middle;\n",
       "    }\n",
       "\n",
       "    .dataframe tbody tr th {\n",
       "        vertical-align: top;\n",
       "    }\n",
       "\n",
       "    .dataframe thead th {\n",
       "        text-align: right;\n",
       "    }\n",
       "</style>\n",
       "<table border=\"1\" class=\"dataframe\">\n",
       "  <thead>\n",
       "    <tr style=\"text-align: right;\">\n",
       "      <th></th>\n",
       "      <th>country</th>\n",
       "      <th>year</th>\n",
       "      <th>pct_obese</th>\n",
       "      <th>country_code</th>\n",
       "      <th>sex</th>\n",
       "      <th>latest</th>\n",
       "    </tr>\n",
       "  </thead>\n",
       "  <tbody>\n",
       "    <tr>\n",
       "      <th>20796</th>\n",
       "      <td>Sudan (until 2011)</td>\n",
       "      <td>2014</td>\n",
       "      <td>9.9</td>\n",
       "      <td>SDN</td>\n",
       "      <td>FMLE</td>\n",
       "      <td>False</td>\n",
       "    </tr>\n",
       "    <tr>\n",
       "      <th>20797</th>\n",
       "      <td>Sudan (until 2011)</td>\n",
       "      <td>2013</td>\n",
       "      <td>9.6</td>\n",
       "      <td>SDN</td>\n",
       "      <td>FMLE</td>\n",
       "      <td>False</td>\n",
       "    </tr>\n",
       "    <tr>\n",
       "      <th>20798</th>\n",
       "      <td>Sudan (until 2011)</td>\n",
       "      <td>2012</td>\n",
       "      <td>9.2</td>\n",
       "      <td>SDN</td>\n",
       "      <td>FMLE</td>\n",
       "      <td>False</td>\n",
       "    </tr>\n",
       "  </tbody>\n",
       "</table>\n",
       "</div>"
      ],
      "text/plain": [
       "                  country  year  pct_obese country_code   sex  latest\n",
       "20796  Sudan (until 2011)  2014        9.9          SDN  FMLE   False\n",
       "20797  Sudan (until 2011)  2013        9.6          SDN  FMLE   False\n",
       "20798  Sudan (until 2011)  2012        9.2          SDN  FMLE   False"
      ]
     },
     "execution_count": 30,
     "metadata": {},
     "output_type": "execute_result"
    }
   ],
   "source": [
    "obs[obs['country_code'] == 'SDN'].head(3)"
   ]
  },
  {
   "cell_type": "code",
   "execution_count": 31,
   "metadata": {},
   "outputs": [],
   "source": [
    "# Yemen before 1990 is labeled YEM886, let's change that\n",
    "obs.loc[obs.country_code == 'YEM886', 'country_code'] = 'YEM'"
   ]
  },
  {
   "cell_type": "code",
   "execution_count": 32,
   "metadata": {},
   "outputs": [
    {
     "data": {
      "text/html": [
       "<div>\n",
       "<style scoped>\n",
       "    .dataframe tbody tr th:only-of-type {\n",
       "        vertical-align: middle;\n",
       "    }\n",
       "\n",
       "    .dataframe tbody tr th {\n",
       "        vertical-align: top;\n",
       "    }\n",
       "\n",
       "    .dataframe thead th {\n",
       "        text-align: right;\n",
       "    }\n",
       "</style>\n",
       "<table border=\"1\" class=\"dataframe\">\n",
       "  <thead>\n",
       "    <tr style=\"text-align: right;\">\n",
       "      <th></th>\n",
       "      <th>country</th>\n",
       "      <th>year</th>\n",
       "      <th>pct_obese</th>\n",
       "      <th>country_code</th>\n",
       "      <th>sex</th>\n",
       "      <th>latest</th>\n",
       "    </tr>\n",
       "  </thead>\n",
       "  <tbody>\n",
       "    <tr>\n",
       "      <th>24192</th>\n",
       "      <td>Yemen</td>\n",
       "      <td>2016</td>\n",
       "      <td>9.9</td>\n",
       "      <td>YEM</td>\n",
       "      <td>MLE</td>\n",
       "      <td>True</td>\n",
       "    </tr>\n",
       "    <tr>\n",
       "      <th>24193</th>\n",
       "      <td>Yemen</td>\n",
       "      <td>1998</td>\n",
       "      <td>9.7</td>\n",
       "      <td>YEM</td>\n",
       "      <td>FMLE</td>\n",
       "      <td>False</td>\n",
       "    </tr>\n",
       "    <tr>\n",
       "      <th>24194</th>\n",
       "      <td>Yemen</td>\n",
       "      <td>2007</td>\n",
       "      <td>9.6</td>\n",
       "      <td>YEM</td>\n",
       "      <td>BTSX</td>\n",
       "      <td>False</td>\n",
       "    </tr>\n",
       "  </tbody>\n",
       "</table>\n",
       "</div>"
      ],
      "text/plain": [
       "      country  year  pct_obese country_code   sex  latest\n",
       "24192   Yemen  2016        9.9          YEM   MLE    True\n",
       "24193   Yemen  1998        9.7          YEM  FMLE   False\n",
       "24194   Yemen  2007        9.6          YEM  BTSX   False"
      ]
     },
     "execution_count": 32,
     "metadata": {},
     "output_type": "execute_result"
    }
   ],
   "source": [
    "obs[obs['country_code'] == 'YEM'].head(3)"
   ]
  },
  {
   "cell_type": "code",
   "execution_count": 33,
   "metadata": {},
   "outputs": [],
   "source": [
    "# Lets drop the Male and Female codes, as some are missing\n",
    "obs.drop(obs[obs['sex'] != 'BTSX'].index, inplace = True)"
   ]
  },
  {
   "cell_type": "code",
   "execution_count": 34,
   "metadata": {},
   "outputs": [
    {
     "data": {
      "text/html": [
       "<div>\n",
       "<style scoped>\n",
       "    .dataframe tbody tr th:only-of-type {\n",
       "        vertical-align: middle;\n",
       "    }\n",
       "\n",
       "    .dataframe tbody tr th {\n",
       "        vertical-align: top;\n",
       "    }\n",
       "\n",
       "    .dataframe thead th {\n",
       "        text-align: right;\n",
       "    }\n",
       "</style>\n",
       "<table border=\"1\" class=\"dataframe\">\n",
       "  <thead>\n",
       "    <tr style=\"text-align: right;\">\n",
       "      <th></th>\n",
       "      <th>country</th>\n",
       "      <th>year</th>\n",
       "      <th>pct_obese</th>\n",
       "      <th>country_code</th>\n",
       "      <th>sex</th>\n",
       "      <th>latest</th>\n",
       "    </tr>\n",
       "  </thead>\n",
       "  <tbody>\n",
       "    <tr>\n",
       "      <th>7</th>\n",
       "      <td>Afghanistan</td>\n",
       "      <td>2016</td>\n",
       "      <td>4.5</td>\n",
       "      <td>AFG</td>\n",
       "      <td>BTSX</td>\n",
       "      <td>True</td>\n",
       "    </tr>\n",
       "    <tr>\n",
       "      <th>9</th>\n",
       "      <td>Afghanistan</td>\n",
       "      <td>2015</td>\n",
       "      <td>4.3</td>\n",
       "      <td>AFG</td>\n",
       "      <td>BTSX</td>\n",
       "      <td>False</td>\n",
       "    </tr>\n",
       "    <tr>\n",
       "      <th>11</th>\n",
       "      <td>Afghanistan</td>\n",
       "      <td>2014</td>\n",
       "      <td>4.1</td>\n",
       "      <td>AFG</td>\n",
       "      <td>BTSX</td>\n",
       "      <td>False</td>\n",
       "    </tr>\n",
       "    <tr>\n",
       "      <th>13</th>\n",
       "      <td>Afghanistan</td>\n",
       "      <td>2013</td>\n",
       "      <td>3.9</td>\n",
       "      <td>AFG</td>\n",
       "      <td>BTSX</td>\n",
       "      <td>False</td>\n",
       "    </tr>\n",
       "    <tr>\n",
       "      <th>15</th>\n",
       "      <td>Afghanistan</td>\n",
       "      <td>2012</td>\n",
       "      <td>3.7</td>\n",
       "      <td>AFG</td>\n",
       "      <td>BTSX</td>\n",
       "      <td>False</td>\n",
       "    </tr>\n",
       "  </tbody>\n",
       "</table>\n",
       "</div>"
      ],
      "text/plain": [
       "        country  year  pct_obese country_code   sex  latest\n",
       "7   Afghanistan  2016        4.5          AFG  BTSX    True\n",
       "9   Afghanistan  2015        4.3          AFG  BTSX   False\n",
       "11  Afghanistan  2014        4.1          AFG  BTSX   False\n",
       "13  Afghanistan  2013        3.9          AFG  BTSX   False\n",
       "15  Afghanistan  2012        3.7          AFG  BTSX   False"
      ]
     },
     "execution_count": 34,
     "metadata": {},
     "output_type": "execute_result"
    }
   ],
   "source": [
    "obs.head()"
   ]
  },
  {
   "cell_type": "code",
   "execution_count": 35,
   "metadata": {},
   "outputs": [],
   "source": [
    "# All clean, let's save this thing\n",
    "obs.to_csv('./obesity_clean.csv')"
   ]
  }
 ],
 "metadata": {
  "kernelspec": {
   "display_name": "Python 3",
   "language": "python",
   "name": "python3"
  },
  "language_info": {
   "codemirror_mode": {
    "name": "ipython",
    "version": 3
   },
   "file_extension": ".py",
   "mimetype": "text/x-python",
   "name": "python",
   "nbconvert_exporter": "python",
   "pygments_lexer": "ipython3",
   "version": "3.7.3"
  }
 },
 "nbformat": 4,
 "nbformat_minor": 2
}
