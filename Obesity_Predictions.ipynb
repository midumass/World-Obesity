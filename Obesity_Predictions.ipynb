{
 "cells": [
  {
   "cell_type": "code",
   "execution_count": 1,
   "metadata": {},
   "outputs": [
    {
     "data": {
      "text/html": [
       "        <script type=\"text/javascript\">\n",
       "        window.PlotlyConfig = {MathJaxConfig: 'local'};\n",
       "        if (window.MathJax) {MathJax.Hub.Config({SVG: {font: \"STIX-Web\"}});}\n",
       "        if (typeof require !== 'undefined') {\n",
       "        require.undef(\"plotly\");\n",
       "        requirejs.config({\n",
       "            paths: {\n",
       "                'plotly': ['https://cdn.plot.ly/plotly-latest.min']\n",
       "            }\n",
       "        });\n",
       "        require(['plotly'], function(Plotly) {\n",
       "            window._Plotly = Plotly;\n",
       "        });\n",
       "        }\n",
       "        </script>\n",
       "        "
      ]
     },
     "metadata": {},
     "output_type": "display_data"
    }
   ],
   "source": [
    "import numpy as np\n",
    "import pandas as pd\n",
    "from pandas.tseries.offsets import DateOffset\n",
    "from sklearn.preprocessing import MinMaxScaler\n",
    "\n",
    "import os\n",
    "import logging\n",
    "os.environ['TF_CPP_MIN_LOG_LEVEL'] = '0'\n",
    "logging.getLogger(\"tensorflow\").setLevel(logging.ERROR)\n",
    "\n",
    "import tensorflow as tf\n",
    "from tensorflow import keras\n",
    "#tf.autograph.set_verbosity(3)\n",
    "#tf.get_logger().setLevel('ERROR')\n",
    "\n",
    "from tensorflow.keras.preprocessing.sequence import TimeseriesGenerator\n",
    "from tensorflow.keras.models import Sequential\n",
    "from tensorflow.keras.layers import Dense\n",
    "from tensorflow.keras.layers import LSTM\n",
    "from tensorflow.keras.layers import Dropout\n",
    "\n",
    "import chart_studio.plotly as py\n",
    "import plotly.offline as pyoff\n",
    "import plotly.graph_objs as go\n",
    "pyoff.init_notebook_mode(connected=True)"
   ]
  },
  {
   "cell_type": "code",
   "execution_count": 2,
   "metadata": {},
   "outputs": [],
   "source": [
    "obs = pd.read_csv('obesity_sums.csv', index_col = 1)\n",
    "pop = pd.read_csv('pop_sums.csv', index_col = 1)"
   ]
  },
  {
   "cell_type": "code",
   "execution_count": 3,
   "metadata": {},
   "outputs": [],
   "source": [
    "obs.drop(columns = obs.columns[0], inplace = True)\n",
    "pop.drop(columns = pop.columns[0], inplace = True)"
   ]
  },
  {
   "cell_type": "code",
   "execution_count": 4,
   "metadata": {},
   "outputs": [
    {
     "data": {
      "text/html": [
       "<div>\n",
       "<style scoped>\n",
       "    .dataframe tbody tr th:only-of-type {\n",
       "        vertical-align: middle;\n",
       "    }\n",
       "\n",
       "    .dataframe tbody tr th {\n",
       "        vertical-align: top;\n",
       "    }\n",
       "\n",
       "    .dataframe thead th {\n",
       "        text-align: right;\n",
       "    }\n",
       "</style>\n",
       "<table border=\"1\" class=\"dataframe\">\n",
       "  <thead>\n",
       "    <tr style=\"text-align: right;\">\n",
       "      <th></th>\n",
       "      <th>Afghanistan</th>\n",
       "      <th>Albania</th>\n",
       "      <th>Algeria</th>\n",
       "      <th>Andorra</th>\n",
       "      <th>Angola</th>\n",
       "      <th>Antigua and Barbuda</th>\n",
       "      <th>Argentina</th>\n",
       "      <th>Armenia</th>\n",
       "      <th>Australia</th>\n",
       "      <th>Austria</th>\n",
       "      <th>...</th>\n",
       "      <th>Uruguay</th>\n",
       "      <th>Uzbekistan</th>\n",
       "      <th>Vanuatu</th>\n",
       "      <th>Venezuela (Bolivarian Republic of)</th>\n",
       "      <th>Viet Nam</th>\n",
       "      <th>Yemen</th>\n",
       "      <th>Yemen Arab Republic (until 1990)</th>\n",
       "      <th>Zambia</th>\n",
       "      <th>Zimbabwe</th>\n",
       "      <th>sum_yr</th>\n",
       "    </tr>\n",
       "    <tr>\n",
       "      <th>year</th>\n",
       "      <th></th>\n",
       "      <th></th>\n",
       "      <th></th>\n",
       "      <th></th>\n",
       "      <th></th>\n",
       "      <th></th>\n",
       "      <th></th>\n",
       "      <th></th>\n",
       "      <th></th>\n",
       "      <th></th>\n",
       "      <th></th>\n",
       "      <th></th>\n",
       "      <th></th>\n",
       "      <th></th>\n",
       "      <th></th>\n",
       "      <th></th>\n",
       "      <th></th>\n",
       "      <th></th>\n",
       "      <th></th>\n",
       "      <th></th>\n",
       "      <th></th>\n",
       "    </tr>\n",
       "  </thead>\n",
       "  <tbody>\n",
       "    <tr>\n",
       "      <th>1975</th>\n",
       "      <td>27738.248</td>\n",
       "      <td>83895.393</td>\n",
       "      <td>521474.391</td>\n",
       "      <td>4114.470</td>\n",
       "      <td>26463.808</td>\n",
       "      <td>1873.638</td>\n",
       "      <td>2026515.012</td>\n",
       "      <td>122889.228</td>\n",
       "      <td>1057115.850</td>\n",
       "      <td>447584.137</td>\n",
       "      <td>...</td>\n",
       "      <td>241543.050</td>\n",
       "      <td>307490.391</td>\n",
       "      <td>2582.603</td>\n",
       "      <td>620170.937</td>\n",
       "      <td>NaN</td>\n",
       "      <td>NaN</td>\n",
       "      <td>87875.500</td>\n",
       "      <td>33133.776</td>\n",
       "      <td>95983.800</td>\n",
       "      <td>1.016903e+08</td>\n",
       "    </tr>\n",
       "    <tr>\n",
       "      <th>1976</th>\n",
       "      <td>28151.132</td>\n",
       "      <td>87965.642</td>\n",
       "      <td>554596.750</td>\n",
       "      <td>4448.780</td>\n",
       "      <td>31160.800</td>\n",
       "      <td>1968.420</td>\n",
       "      <td>2126952.830</td>\n",
       "      <td>130830.640</td>\n",
       "      <td>1092576.679</td>\n",
       "      <td>455693.472</td>\n",
       "      <td>...</td>\n",
       "      <td>248831.781</td>\n",
       "      <td>326432.240</td>\n",
       "      <td>2781.142</td>\n",
       "      <td>666747.164</td>\n",
       "      <td>NaN</td>\n",
       "      <td>NaN</td>\n",
       "      <td>93129.504</td>\n",
       "      <td>36806.154</td>\n",
       "      <td>105372.064</td>\n",
       "      <td>1.070177e+08</td>\n",
       "    </tr>\n",
       "    <tr>\n",
       "      <th>1977</th>\n",
       "      <td>35650.355</td>\n",
       "      <td>93913.200</td>\n",
       "      <td>580828.214</td>\n",
       "      <td>4751.795</td>\n",
       "      <td>32280.848</td>\n",
       "      <td>2027.484</td>\n",
       "      <td>2208714.442</td>\n",
       "      <td>139175.960</td>\n",
       "      <td>1143350.120</td>\n",
       "      <td>470797.440</td>\n",
       "      <td>...</td>\n",
       "      <td>257016.412</td>\n",
       "      <td>355657.848</td>\n",
       "      <td>2990.079</td>\n",
       "      <td>707066.008</td>\n",
       "      <td>29521.042</td>\n",
       "      <td>NaN</td>\n",
       "      <td>99022.149</td>\n",
       "      <td>40746.735</td>\n",
       "      <td>111814.956</td>\n",
       "      <td>1.122184e+08</td>\n",
       "    </tr>\n",
       "    <tr>\n",
       "      <th>1978</th>\n",
       "      <td>35978.345</td>\n",
       "      <td>98460.161</td>\n",
       "      <td>618651.584</td>\n",
       "      <td>5060.550</td>\n",
       "      <td>33523.400</td>\n",
       "      <td>2122.680</td>\n",
       "      <td>2291126.046</td>\n",
       "      <td>147715.560</td>\n",
       "      <td>1197284.833</td>\n",
       "      <td>485625.648</td>\n",
       "      <td>...</td>\n",
       "      <td>265796.776</td>\n",
       "      <td>378105.493</td>\n",
       "      <td>3207.719</td>\n",
       "      <td>765534.484</td>\n",
       "      <td>30358.912</td>\n",
       "      <td>NaN</td>\n",
       "      <td>105526.792</td>\n",
       "      <td>42152.235</td>\n",
       "      <td>118645.074</td>\n",
       "      <td>1.173522e+08</td>\n",
       "    </tr>\n",
       "    <tr>\n",
       "      <th>1979</th>\n",
       "      <td>36086.650</td>\n",
       "      <td>104711.922</td>\n",
       "      <td>668897.984</td>\n",
       "      <td>5431.608</td>\n",
       "      <td>39113.271</td>\n",
       "      <td>2214.266</td>\n",
       "      <td>2395318.250</td>\n",
       "      <td>158243.475</td>\n",
       "      <td>1240174.030</td>\n",
       "      <td>500297.364</td>\n",
       "      <td>...</td>\n",
       "      <td>274676.220</td>\n",
       "      <td>401084.772</td>\n",
       "      <td>3430.185</td>\n",
       "      <td>818630.390</td>\n",
       "      <td>62448.396</td>\n",
       "      <td>NaN</td>\n",
       "      <td>116458.110</td>\n",
       "      <td>46541.456</td>\n",
       "      <td>129657.888</td>\n",
       "      <td>1.229560e+08</td>\n",
       "    </tr>\n",
       "  </tbody>\n",
       "</table>\n",
       "<p>5 rows × 190 columns</p>\n",
       "</div>"
      ],
      "text/plain": [
       "      Afghanistan     Albania     Algeria   Andorra     Angola  \\\n",
       "year                                                             \n",
       "1975    27738.248   83895.393  521474.391  4114.470  26463.808   \n",
       "1976    28151.132   87965.642  554596.750  4448.780  31160.800   \n",
       "1977    35650.355   93913.200  580828.214  4751.795  32280.848   \n",
       "1978    35978.345   98460.161  618651.584  5060.550  33523.400   \n",
       "1979    36086.650  104711.922  668897.984  5431.608  39113.271   \n",
       "\n",
       "      Antigua and Barbuda    Argentina     Armenia    Australia     Austria  \\\n",
       "year                                                                          \n",
       "1975             1873.638  2026515.012  122889.228  1057115.850  447584.137   \n",
       "1976             1968.420  2126952.830  130830.640  1092576.679  455693.472   \n",
       "1977             2027.484  2208714.442  139175.960  1143350.120  470797.440   \n",
       "1978             2122.680  2291126.046  147715.560  1197284.833  485625.648   \n",
       "1979             2214.266  2395318.250  158243.475  1240174.030  500297.364   \n",
       "\n",
       "      ...     Uruguay  Uzbekistan   Vanuatu  \\\n",
       "year  ...                                     \n",
       "1975  ...  241543.050  307490.391  2582.603   \n",
       "1976  ...  248831.781  326432.240  2781.142   \n",
       "1977  ...  257016.412  355657.848  2990.079   \n",
       "1978  ...  265796.776  378105.493  3207.719   \n",
       "1979  ...  274676.220  401084.772  3430.185   \n",
       "\n",
       "      Venezuela (Bolivarian Republic of)   Viet Nam  Yemen  \\\n",
       "year                                                         \n",
       "1975                          620170.937        NaN    NaN   \n",
       "1976                          666747.164        NaN    NaN   \n",
       "1977                          707066.008  29521.042    NaN   \n",
       "1978                          765534.484  30358.912    NaN   \n",
       "1979                          818630.390  62448.396    NaN   \n",
       "\n",
       "      Yemen Arab Republic (until 1990)     Zambia    Zimbabwe        sum_yr  \n",
       "year                                                                         \n",
       "1975                         87875.500  33133.776   95983.800  1.016903e+08  \n",
       "1976                         93129.504  36806.154  105372.064  1.070177e+08  \n",
       "1977                         99022.149  40746.735  111814.956  1.122184e+08  \n",
       "1978                        105526.792  42152.235  118645.074  1.173522e+08  \n",
       "1979                        116458.110  46541.456  129657.888  1.229560e+08  \n",
       "\n",
       "[5 rows x 190 columns]"
      ]
     },
     "execution_count": 4,
     "metadata": {},
     "output_type": "execute_result"
    }
   ],
   "source": [
    "obs.head()"
   ]
  },
  {
   "cell_type": "code",
   "execution_count": 5,
   "metadata": {},
   "outputs": [
    {
     "data": {
      "text/html": [
       "<div>\n",
       "<style scoped>\n",
       "    .dataframe tbody tr th:only-of-type {\n",
       "        vertical-align: middle;\n",
       "    }\n",
       "\n",
       "    .dataframe tbody tr th {\n",
       "        vertical-align: top;\n",
       "    }\n",
       "\n",
       "    .dataframe thead th {\n",
       "        text-align: right;\n",
       "    }\n",
       "</style>\n",
       "<table border=\"1\" class=\"dataframe\">\n",
       "  <thead>\n",
       "    <tr style=\"text-align: right;\">\n",
       "      <th></th>\n",
       "      <th>Afghanistan</th>\n",
       "      <th>Albania</th>\n",
       "      <th>Algeria</th>\n",
       "      <th>Andorra</th>\n",
       "      <th>Angola</th>\n",
       "      <th>Antigua and Barbuda</th>\n",
       "      <th>Argentina</th>\n",
       "      <th>Armenia</th>\n",
       "      <th>Australia</th>\n",
       "      <th>Austria</th>\n",
       "      <th>...</th>\n",
       "      <th>Uruguay</th>\n",
       "      <th>Uzbekistan</th>\n",
       "      <th>Vanuatu</th>\n",
       "      <th>Venezuela (Bolivarian Republic of)</th>\n",
       "      <th>Viet Nam</th>\n",
       "      <th>Yemen</th>\n",
       "      <th>Yemen Arab Republic (until 1990)</th>\n",
       "      <th>Zambia</th>\n",
       "      <th>Zimbabwe</th>\n",
       "      <th>sum_yr</th>\n",
       "    </tr>\n",
       "    <tr>\n",
       "      <th>year</th>\n",
       "      <th></th>\n",
       "      <th></th>\n",
       "      <th></th>\n",
       "      <th></th>\n",
       "      <th></th>\n",
       "      <th></th>\n",
       "      <th></th>\n",
       "      <th></th>\n",
       "      <th></th>\n",
       "      <th></th>\n",
       "      <th></th>\n",
       "      <th></th>\n",
       "      <th></th>\n",
       "      <th></th>\n",
       "      <th></th>\n",
       "      <th></th>\n",
       "      <th></th>\n",
       "      <th></th>\n",
       "      <th></th>\n",
       "      <th></th>\n",
       "      <th></th>\n",
       "    </tr>\n",
       "  </thead>\n",
       "  <tbody>\n",
       "    <tr>\n",
       "      <th>1975</th>\n",
       "      <td>6934562.0</td>\n",
       "      <td>1471849.0</td>\n",
       "      <td>8838549.0</td>\n",
       "      <td>30705.0</td>\n",
       "      <td>3780544.0</td>\n",
       "      <td>36738.0</td>\n",
       "      <td>18256892.0</td>\n",
       "      <td>1861958.0</td>\n",
       "      <td>10067770.0</td>\n",
       "      <td>5812781.0</td>\n",
       "      <td>...</td>\n",
       "      <td>2046975.0</td>\n",
       "      <td>7884369.0</td>\n",
       "      <td>54949.0</td>\n",
       "      <td>7471939.0</td>\n",
       "      <td>NaN</td>\n",
       "      <td>NaN</td>\n",
       "      <td>3515020.0</td>\n",
       "      <td>2548752.0</td>\n",
       "      <td>3199460.0</td>\n",
       "      <td>2.445823e+09</td>\n",
       "    </tr>\n",
       "    <tr>\n",
       "      <th>1976</th>\n",
       "      <td>7037783.0</td>\n",
       "      <td>1516649.0</td>\n",
       "      <td>9091750.0</td>\n",
       "      <td>31777.0</td>\n",
       "      <td>3895100.0</td>\n",
       "      <td>37140.0</td>\n",
       "      <td>18495242.0</td>\n",
       "      <td>1923980.0</td>\n",
       "      <td>10210997.0</td>\n",
       "      <td>5842224.0</td>\n",
       "      <td>...</td>\n",
       "      <td>2056461.0</td>\n",
       "      <td>8160806.0</td>\n",
       "      <td>56758.0</td>\n",
       "      <td>7752874.0</td>\n",
       "      <td>NaN</td>\n",
       "      <td>NaN</td>\n",
       "      <td>3581904.0</td>\n",
       "      <td>2629011.0</td>\n",
       "      <td>3292877.0</td>\n",
       "      <td>2.498616e+09</td>\n",
       "    </tr>\n",
       "    <tr>\n",
       "      <th>1977</th>\n",
       "      <td>7130071.0</td>\n",
       "      <td>1565220.0</td>\n",
       "      <td>9368197.0</td>\n",
       "      <td>32771.0</td>\n",
       "      <td>4035106.0</td>\n",
       "      <td>37546.0</td>\n",
       "      <td>18717919.0</td>\n",
       "      <td>1988228.0</td>\n",
       "      <td>10394092.0</td>\n",
       "      <td>5884968.0</td>\n",
       "      <td>...</td>\n",
       "      <td>2072713.0</td>\n",
       "      <td>8468044.0</td>\n",
       "      <td>58629.0</td>\n",
       "      <td>8034841.0</td>\n",
       "      <td>29521042.0</td>\n",
       "      <td>NaN</td>\n",
       "      <td>3667487.0</td>\n",
       "      <td>2716449.0</td>\n",
       "      <td>3388332.0</td>\n",
       "      <td>2.583692e+09</td>\n",
       "    </tr>\n",
       "    <tr>\n",
       "      <th>1978</th>\n",
       "      <td>7195669.0</td>\n",
       "      <td>1614101.0</td>\n",
       "      <td>9666431.0</td>\n",
       "      <td>33737.0</td>\n",
       "      <td>4190425.0</td>\n",
       "      <td>37905.0</td>\n",
       "      <td>18934926.0</td>\n",
       "      <td>2051605.0</td>\n",
       "      <td>10595441.0</td>\n",
       "      <td>5922264.0</td>\n",
       "      <td>...</td>\n",
       "      <td>2092888.0</td>\n",
       "      <td>8793151.0</td>\n",
       "      <td>60523.0</td>\n",
       "      <td>8321027.0</td>\n",
       "      <td>30358912.0</td>\n",
       "      <td>NaN</td>\n",
       "      <td>3768814.0</td>\n",
       "      <td>2810149.0</td>\n",
       "      <td>3489561.0</td>\n",
       "      <td>2.643168e+09</td>\n",
       "    </tr>\n",
       "    <tr>\n",
       "      <th>1979</th>\n",
       "      <td>7217330.0</td>\n",
       "      <td>1662094.0</td>\n",
       "      <td>9983552.0</td>\n",
       "      <td>34818.0</td>\n",
       "      <td>4345919.0</td>\n",
       "      <td>38177.0</td>\n",
       "      <td>19162546.0</td>\n",
       "      <td>2109913.0</td>\n",
       "      <td>10784122.0</td>\n",
       "      <td>5955921.0</td>\n",
       "      <td>...</td>\n",
       "      <td>2112894.0</td>\n",
       "      <td>9115563.0</td>\n",
       "      <td>62367.0</td>\n",
       "      <td>8617162.0</td>\n",
       "      <td>31224198.0</td>\n",
       "      <td>NaN</td>\n",
       "      <td>3881937.0</td>\n",
       "      <td>2908841.0</td>\n",
       "      <td>3601608.0</td>\n",
       "      <td>2.705041e+09</td>\n",
       "    </tr>\n",
       "  </tbody>\n",
       "</table>\n",
       "<p>5 rows × 190 columns</p>\n",
       "</div>"
      ],
      "text/plain": [
       "      Afghanistan    Albania    Algeria  Andorra     Angola  \\\n",
       "year                                                          \n",
       "1975    6934562.0  1471849.0  8838549.0  30705.0  3780544.0   \n",
       "1976    7037783.0  1516649.0  9091750.0  31777.0  3895100.0   \n",
       "1977    7130071.0  1565220.0  9368197.0  32771.0  4035106.0   \n",
       "1978    7195669.0  1614101.0  9666431.0  33737.0  4190425.0   \n",
       "1979    7217330.0  1662094.0  9983552.0  34818.0  4345919.0   \n",
       "\n",
       "      Antigua and Barbuda   Argentina    Armenia   Australia    Austria  ...  \\\n",
       "year                                                                     ...   \n",
       "1975              36738.0  18256892.0  1861958.0  10067770.0  5812781.0  ...   \n",
       "1976              37140.0  18495242.0  1923980.0  10210997.0  5842224.0  ...   \n",
       "1977              37546.0  18717919.0  1988228.0  10394092.0  5884968.0  ...   \n",
       "1978              37905.0  18934926.0  2051605.0  10595441.0  5922264.0  ...   \n",
       "1979              38177.0  19162546.0  2109913.0  10784122.0  5955921.0  ...   \n",
       "\n",
       "        Uruguay  Uzbekistan  Vanuatu  Venezuela (Bolivarian Republic of)  \\\n",
       "year                                                                       \n",
       "1975  2046975.0   7884369.0  54949.0                           7471939.0   \n",
       "1976  2056461.0   8160806.0  56758.0                           7752874.0   \n",
       "1977  2072713.0   8468044.0  58629.0                           8034841.0   \n",
       "1978  2092888.0   8793151.0  60523.0                           8321027.0   \n",
       "1979  2112894.0   9115563.0  62367.0                           8617162.0   \n",
       "\n",
       "        Viet Nam  Yemen  Yemen Arab Republic (until 1990)     Zambia  \\\n",
       "year                                                                   \n",
       "1975         NaN    NaN                         3515020.0  2548752.0   \n",
       "1976         NaN    NaN                         3581904.0  2629011.0   \n",
       "1977  29521042.0    NaN                         3667487.0  2716449.0   \n",
       "1978  30358912.0    NaN                         3768814.0  2810149.0   \n",
       "1979  31224198.0    NaN                         3881937.0  2908841.0   \n",
       "\n",
       "       Zimbabwe        sum_yr  \n",
       "year                           \n",
       "1975  3199460.0  2.445823e+09  \n",
       "1976  3292877.0  2.498616e+09  \n",
       "1977  3388332.0  2.583692e+09  \n",
       "1978  3489561.0  2.643168e+09  \n",
       "1979  3601608.0  2.705041e+09  \n",
       "\n",
       "[5 rows x 190 columns]"
      ]
     },
     "execution_count": 5,
     "metadata": {},
     "output_type": "execute_result"
    }
   ],
   "source": [
    "pop.head()"
   ]
  },
  {
   "cell_type": "code",
   "execution_count": 6,
   "metadata": {},
   "outputs": [],
   "source": [
    "obs.index = pd.to_datetime(obs.index, format = '%Y')\n",
    "pop.index = pd.to_datetime(pop.index, format = '%Y')"
   ]
  },
  {
   "cell_type": "code",
   "execution_count": 7,
   "metadata": {},
   "outputs": [],
   "source": [
    "obs_sums = obs[['sum_yr']]\n",
    "pop_sums = pop[['sum_yr']]"
   ]
  },
  {
   "cell_type": "code",
   "execution_count": 8,
   "metadata": {},
   "outputs": [],
   "source": [
    "obs_sums = obs_sums.rename(columns = {'sum_yr' : 'sum_obs'})\n",
    "pop_sums = pop_sums.rename(columns = {'sum_yr' : 'sum_pop'})"
   ]
  },
  {
   "cell_type": "code",
   "execution_count": 9,
   "metadata": {},
   "outputs": [],
   "source": [
    "# this code was derived from another source and modified into a function\n",
    "# https://towardsdatascience.com/time-series-prediction-beyond-test-data-3f4625019fd9\n",
    "\n",
    "def TimeSeriesPredictor(df, output_length, features):\n",
    "    tf.autograph.set_verbosity(1)\n",
    "    \n",
    "    train = df\n",
    "\n",
    "    scaler = MinMaxScaler()\n",
    "\n",
    "    scaler.fit(train)\n",
    "\n",
    "    train = scaler.transform(train)\n",
    "    generator = TimeseriesGenerator(train, train, length = output_length, batch_size = 6)\n",
    "\n",
    "    model = Sequential()\n",
    "    model.add(LSTM(200, activation = 'relu', input_shape = (output_length, features)))\n",
    "    model.add(Dropout(0.15))\n",
    "    model.add(Dense(1))\n",
    "\n",
    "    optimizer = keras.optimizers.Adam(learning_rate = 0.001)\n",
    "\n",
    "    model.compile(optimizer = optimizer, loss = 'mse')\n",
    "\n",
    "    history = model.fit(generator, epochs = 100, verbose = 1)\n",
    "    hist = pd.DataFrame(history.history)\n",
    "    hist['epoch'] = history.epoch\n",
    "\n",
    "    pred_list = []\n",
    "\n",
    "    batch = train[-output_length:].reshape((1, output_length, features))\n",
    "\n",
    "    for i in range(output_length):   \n",
    "        pred_list.append(model.predict(batch)[0]) \n",
    "        batch = np.append(batch[:,1:,:], [[pred_list[i]]], axis = 1)\n",
    "\n",
    "    add_dates = [df.index[-1] + DateOffset(years = x) for x in range(0, output_length + 1)]\n",
    "\n",
    "    future_dates = pd.DataFrame(index = add_dates[1:], columns = df.columns)\n",
    "\n",
    "    predict = pd.DataFrame(scaler.inverse_transform(pred_list), \n",
    "                           index = future_dates[-output_length:].index, \n",
    "                           columns = ['pred'])\n",
    "\n",
    "    project = pd.concat([df, predict], axis=1)\n",
    "\n",
    "    return [hist, project]"
   ]
  },
  {
   "cell_type": "code",
   "execution_count": 16,
   "metadata": {},
   "outputs": [
    {
     "name": "stdout",
     "output_type": "stream",
     "text": [
      "WARNING:tensorflow:sample_weight modes were coerced from\n",
      "  ...\n",
      "    to  \n",
      "  ['...']\n",
      "INFO:tensorflow:Converted call: <function DatasetV2.from_generator.<locals>.flat_map_fn at 0x0000019A0575BAE8>\n",
      "    args: (<tf.Tensor 'args_0:0' shape=() dtype=int32>,)\n",
      "    kwargs: {}\n",
      "\n",
      "INFO:tensorflow:Converted call: <function _process_inputs.<locals>.standardize_function.<locals>.map_fn at 0x0000019A0575BD90>\n",
      "    args: (<tf.Tensor 'args_0:0' shape=(None, None, None) dtype=float64>, <tf.Tensor 'args_1:0' shape=(None, None) dtype=float64>)\n",
      "    kwargs: {}\n",
      "\n",
      "Train for 3 steps\n",
      "Epoch 1/100\n",
      "3/3 [==============================] - 1s 285ms/step - loss: 0.4390\n",
      "Epoch 2/100\n",
      "3/3 [==============================] - 0s 23ms/step - loss: 0.3333\n",
      "Epoch 3/100\n",
      "3/3 [==============================] - 0s 26ms/step - loss: 0.2324\n",
      "Epoch 4/100\n",
      "3/3 [==============================] - 0s 27ms/step - loss: 0.1173\n",
      "Epoch 5/100\n",
      "3/3 [==============================] - 0s 27ms/step - loss: 0.0364\n",
      "Epoch 6/100\n",
      "3/3 [==============================] - 0s 26ms/step - loss: 0.0587\n",
      "Epoch 7/100\n",
      "3/3 [==============================] - 0s 26ms/step - loss: 0.0078\n",
      "Epoch 8/100\n",
      "3/3 [==============================] - 0s 27ms/step - loss: 0.0087\n",
      "Epoch 9/100\n",
      "3/3 [==============================] - 0s 26ms/step - loss: 0.0206\n",
      "Epoch 10/100\n",
      "3/3 [==============================] - 0s 27ms/step - loss: 0.0137\n",
      "Epoch 11/100\n",
      "3/3 [==============================] - 0s 25ms/step - loss: 0.0045\n",
      "Epoch 12/100\n",
      "3/3 [==============================] - 0s 25ms/step - loss: 0.0058\n",
      "Epoch 13/100\n",
      "3/3 [==============================] - 0s 25ms/step - loss: 0.0083\n",
      "Epoch 14/100\n",
      "3/3 [==============================] - 0s 26ms/step - loss: 0.0042\n",
      "Epoch 15/100\n",
      "3/3 [==============================] - 0s 26ms/step - loss: 0.0041\n",
      "Epoch 16/100\n",
      "3/3 [==============================] - 0s 27ms/step - loss: 0.0025\n",
      "Epoch 17/100\n",
      "3/3 [==============================] - 0s 26ms/step - loss: 0.0041\n",
      "Epoch 18/100\n",
      "3/3 [==============================] - 0s 26ms/step - loss: 0.0055\n",
      "Epoch 19/100\n",
      "3/3 [==============================] - 0s 25ms/step - loss: 0.0028\n",
      "Epoch 20/100\n",
      "3/3 [==============================] - 0s 26ms/step - loss: 0.0039\n",
      "Epoch 21/100\n",
      "3/3 [==============================] - 0s 28ms/step - loss: 0.0038\n",
      "Epoch 22/100\n",
      "3/3 [==============================] - 0s 25ms/step - loss: 0.0011\n",
      "Epoch 23/100\n",
      "3/3 [==============================] - 0s 25ms/step - loss: 0.0019\n",
      "Epoch 24/100\n",
      "3/3 [==============================] - 0s 26ms/step - loss: 0.0045\n",
      "Epoch 25/100\n",
      "3/3 [==============================] - 0s 26ms/step - loss: 0.0025\n",
      "Epoch 26/100\n",
      "3/3 [==============================] - 0s 27ms/step - loss: 0.0024\n",
      "Epoch 27/100\n",
      "3/3 [==============================] - 0s 25ms/step - loss: 0.0034\n",
      "Epoch 28/100\n",
      "3/3 [==============================] - 0s 26ms/step - loss: 0.0037\n",
      "Epoch 29/100\n",
      "3/3 [==============================] - 0s 25ms/step - loss: 0.0051\n",
      "Epoch 30/100\n",
      "3/3 [==============================] - 0s 25ms/step - loss: 0.0033\n",
      "Epoch 31/100\n",
      "3/3 [==============================] - 0s 26ms/step - loss: 0.0018\n",
      "Epoch 32/100\n",
      "3/3 [==============================] - 0s 26ms/step - loss: 0.0018\n",
      "Epoch 33/100\n",
      "3/3 [==============================] - 0s 27ms/step - loss: 0.0021\n",
      "Epoch 34/100\n",
      "3/3 [==============================] - 0s 26ms/step - loss: 0.0024\n",
      "Epoch 35/100\n",
      "3/3 [==============================] - 0s 26ms/step - loss: 0.0028\n",
      "Epoch 36/100\n",
      "3/3 [==============================] - 0s 26ms/step - loss: 0.0025\n",
      "Epoch 37/100\n",
      "3/3 [==============================] - 0s 27ms/step - loss: 0.0031\n",
      "Epoch 38/100\n",
      "3/3 [==============================] - 0s 28ms/step - loss: 0.0017\n",
      "Epoch 39/100\n",
      "3/3 [==============================] - 0s 24ms/step - loss: 0.0033\n",
      "Epoch 40/100\n",
      "3/3 [==============================] - 0s 25ms/step - loss: 0.0033\n",
      "Epoch 41/100\n",
      "3/3 [==============================] - 0s 27ms/step - loss: 0.0031\n",
      "Epoch 42/100\n",
      "3/3 [==============================] - 0s 33ms/step - loss: 0.0034\n",
      "Epoch 43/100\n",
      "3/3 [==============================] - 0s 28ms/step - loss: 0.0019\n",
      "Epoch 44/100\n",
      "3/3 [==============================] - 0s 28ms/step - loss: 0.0022\n",
      "Epoch 45/100\n",
      "3/3 [==============================] - 0s 27ms/step - loss: 0.0031\n",
      "Epoch 46/100\n",
      "3/3 [==============================] - 0s 26ms/step - loss: 0.0020\n",
      "Epoch 47/100\n",
      "3/3 [==============================] - 0s 26ms/step - loss: 0.0020\n",
      "Epoch 48/100\n",
      "3/3 [==============================] - 0s 27ms/step - loss: 0.0041\n",
      "Epoch 49/100\n",
      "3/3 [==============================] - 0s 25ms/step - loss: 0.0024\n",
      "Epoch 50/100\n",
      "3/3 [==============================] - 0s 28ms/step - loss: 0.0025\n",
      "Epoch 51/100\n",
      "3/3 [==============================] - 0s 29ms/step - loss: 0.0028\n",
      "Epoch 52/100\n",
      "3/3 [==============================] - 0s 31ms/step - loss: 0.0018\n",
      "Epoch 53/100\n",
      "3/3 [==============================] - 0s 30ms/step - loss: 0.0028\n",
      "Epoch 54/100\n",
      "3/3 [==============================] - 0s 26ms/step - loss: 0.0012\n",
      "Epoch 55/100\n",
      "3/3 [==============================] - 0s 26ms/step - loss: 0.0017\n",
      "Epoch 56/100\n",
      "3/3 [==============================] - 0s 26ms/step - loss: 0.0026\n",
      "Epoch 57/100\n",
      "3/3 [==============================] - 0s 26ms/step - loss: 0.0020\n",
      "Epoch 58/100\n",
      "3/3 [==============================] - 0s 27ms/step - loss: 0.0020\n",
      "Epoch 59/100\n",
      "3/3 [==============================] - 0s 29ms/step - loss: 0.0021\n",
      "Epoch 60/100\n",
      "3/3 [==============================] - 0s 28ms/step - loss: 0.0053\n",
      "Epoch 61/100\n",
      "3/3 [==============================] - 0s 27ms/step - loss: 0.0017\n",
      "Epoch 62/100\n",
      "3/3 [==============================] - 0s 29ms/step - loss: 0.0035\n",
      "Epoch 63/100\n",
      "3/3 [==============================] - 0s 27ms/step - loss: 0.0028\n",
      "Epoch 64/100\n",
      "3/3 [==============================] - 0s 26ms/step - loss: 0.0032\n",
      "Epoch 65/100\n",
      "3/3 [==============================] - 0s 25ms/step - loss: 0.0042\n",
      "Epoch 66/100\n",
      "3/3 [==============================] - 0s 25ms/step - loss: 0.0025\n",
      "Epoch 67/100\n",
      "3/3 [==============================] - 0s 26ms/step - loss: 0.0022\n",
      "Epoch 68/100\n",
      "3/3 [==============================] - 0s 26ms/step - loss: 0.0034\n",
      "Epoch 69/100\n",
      "3/3 [==============================] - 0s 26ms/step - loss: 0.0038\n",
      "Epoch 70/100\n",
      "3/3 [==============================] - 0s 27ms/step - loss: 0.0046\n",
      "Epoch 71/100\n",
      "3/3 [==============================] - 0s 27ms/step - loss: 0.0020\n",
      "Epoch 72/100\n",
      "3/3 [==============================] - 0s 25ms/step - loss: 0.0030\n",
      "Epoch 73/100\n",
      "3/3 [==============================] - 0s 29ms/step - loss: 0.0044\n",
      "Epoch 74/100\n",
      "3/3 [==============================] - 0s 29ms/step - loss: 0.0019\n",
      "Epoch 75/100\n",
      "3/3 [==============================] - 0s 31ms/step - loss: 0.0018\n",
      "Epoch 76/100\n",
      "3/3 [==============================] - 0s 47ms/step - loss: 0.0025\n",
      "Epoch 77/100\n",
      "3/3 [==============================] - 0s 28ms/step - loss: 0.0020\n",
      "Epoch 78/100\n",
      "3/3 [==============================] - 0s 25ms/step - loss: 0.0022\n",
      "Epoch 79/100\n",
      "3/3 [==============================] - 0s 32ms/step - loss: 0.0040\n",
      "Epoch 80/100\n",
      "3/3 [==============================] - 0s 27ms/step - loss: 0.0018\n",
      "Epoch 81/100\n",
      "3/3 [==============================] - 0s 25ms/step - loss: 0.0014\n",
      "Epoch 82/100\n",
      "3/3 [==============================] - 0s 23ms/step - loss: 0.0025\n",
      "Epoch 83/100\n",
      "3/3 [==============================] - 0s 25ms/step - loss: 0.0031\n",
      "Epoch 84/100\n",
      "3/3 [==============================] - 0s 25ms/step - loss: 0.0018\n",
      "Epoch 85/100\n",
      "3/3 [==============================] - 0s 25ms/step - loss: 0.0026\n",
      "Epoch 86/100\n",
      "3/3 [==============================] - 0s 24ms/step - loss: 0.0014\n",
      "Epoch 87/100\n",
      "3/3 [==============================] - 0s 29ms/step - loss: 0.0026\n",
      "Epoch 88/100\n",
      "3/3 [==============================] - 0s 26ms/step - loss: 0.0040\n",
      "Epoch 89/100\n",
      "3/3 [==============================] - 0s 26ms/step - loss: 0.0027\n",
      "Epoch 90/100\n",
      "3/3 [==============================] - 0s 26ms/step - loss: 0.0026\n",
      "Epoch 91/100\n",
      "3/3 [==============================] - 0s 24ms/step - loss: 0.0047\n",
      "Epoch 92/100\n",
      "3/3 [==============================] - 0s 24ms/step - loss: 0.0020\n",
      "Epoch 93/100\n",
      "3/3 [==============================] - 0s 25ms/step - loss: 0.0019\n",
      "Epoch 94/100\n",
      "3/3 [==============================] - 0s 25ms/step - loss: 8.5932e-04\n",
      "Epoch 95/100\n",
      "3/3 [==============================] - 0s 25ms/step - loss: 0.0020\n",
      "Epoch 96/100\n"
     ]
    },
    {
     "name": "stdout",
     "output_type": "stream",
     "text": [
      "3/3 [==============================] - 0s 27ms/step - loss: 0.0018\n",
      "Epoch 97/100\n",
      "3/3 [==============================] - 0s 25ms/step - loss: 0.0014\n",
      "Epoch 98/100\n",
      "3/3 [==============================] - 0s 26ms/step - loss: 0.0025\n",
      "Epoch 99/100\n",
      "3/3 [==============================] - 0s 27ms/step - loss: 0.0018\n",
      "Epoch 100/100\n",
      "3/3 [==============================] - 0s 25ms/step - loss: 0.0016\n",
      "INFO:tensorflow:Converted call: <function TensorLikeDataAdapter.__init__.<locals>.permutation at 0x0000019A06535510>\n",
      "    args: (<tf.Tensor 'args_0:0' shape=() dtype=int64>,)\n",
      "    kwargs: {}\n",
      "\n",
      "INFO:tensorflow:Converted call: <function TensorLikeDataAdapter.__init__.<locals>.slice_batch_indices at 0x0000019A06535E18>\n",
      "    args: (<tf.Tensor 'args_0:0' shape=(1,) dtype=int64>,)\n",
      "    kwargs: {}\n",
      "\n",
      "INFO:tensorflow:Converted call: <function TensorLikeDataAdapter.slice_inputs.<locals>.grab_batch at 0x0000019A7FC41510>\n",
      "    args: (<tf.Tensor 'args_0:0' shape=(None,) dtype=int64>, (<tf.Tensor 'args_1:0' shape=(1, 24, 1) dtype=float64>,))\n",
      "    kwargs: {}\n",
      "\n",
      "INFO:tensorflow:Converted call: <function TensorLikeDataAdapter.__init__.<locals>.permutation at 0x0000019A0775C158>\n",
      "    args: (<tf.Tensor 'args_0:0' shape=() dtype=int64>,)\n",
      "    kwargs: {}\n",
      "\n",
      "INFO:tensorflow:Converted call: <function TensorLikeDataAdapter.__init__.<locals>.slice_batch_indices at 0x0000019A0775CD90>\n",
      "    args: (<tf.Tensor 'args_0:0' shape=(1,) dtype=int64>,)\n",
      "    kwargs: {}\n",
      "\n",
      "INFO:tensorflow:Converted call: <function TensorLikeDataAdapter.slice_inputs.<locals>.grab_batch at 0x0000019A08779158>\n",
      "    args: (<tf.Tensor 'args_0:0' shape=(None,) dtype=int64>, (<tf.Tensor 'args_1:0' shape=(1, 24, 1) dtype=float64>,))\n",
      "    kwargs: {}\n",
      "\n",
      "INFO:tensorflow:Converted call: <function TensorLikeDataAdapter.__init__.<locals>.permutation at 0x0000019A08779400>\n",
      "    args: (<tf.Tensor 'args_0:0' shape=() dtype=int64>,)\n",
      "    kwargs: {}\n",
      "\n",
      "INFO:tensorflow:Converted call: <function TensorLikeDataAdapter.__init__.<locals>.slice_batch_indices at 0x0000019A08779A60>\n",
      "    args: (<tf.Tensor 'args_0:0' shape=(1,) dtype=int64>,)\n",
      "    kwargs: {}\n",
      "\n",
      "INFO:tensorflow:Converted call: <function TensorLikeDataAdapter.slice_inputs.<locals>.grab_batch at 0x0000019A08779C80>\n",
      "    args: (<tf.Tensor 'args_0:0' shape=(None,) dtype=int64>, (<tf.Tensor 'args_1:0' shape=(1, 24, 1) dtype=float64>,))\n",
      "    kwargs: {}\n",
      "\n",
      "INFO:tensorflow:Converted call: <function TensorLikeDataAdapter.__init__.<locals>.permutation at 0x0000019A087A1158>\n",
      "    args: (<tf.Tensor 'args_0:0' shape=() dtype=int64>,)\n",
      "    kwargs: {}\n",
      "\n",
      "INFO:tensorflow:Converted call: <function TensorLikeDataAdapter.__init__.<locals>.slice_batch_indices at 0x0000019A087A16A8>\n",
      "    args: (<tf.Tensor 'args_0:0' shape=(1,) dtype=int64>,)\n",
      "    kwargs: {}\n",
      "\n",
      "INFO:tensorflow:Converted call: <function TensorLikeDataAdapter.slice_inputs.<locals>.grab_batch at 0x0000019A087A18C8>\n",
      "    args: (<tf.Tensor 'args_0:0' shape=(None,) dtype=int64>, (<tf.Tensor 'args_1:0' shape=(1, 24, 1) dtype=float64>,))\n",
      "    kwargs: {}\n",
      "\n",
      "INFO:tensorflow:Converted call: <function TensorLikeDataAdapter.__init__.<locals>.permutation at 0x0000019A087A1BF8>\n",
      "    args: (<tf.Tensor 'args_0:0' shape=() dtype=int64>,)\n",
      "    kwargs: {}\n",
      "\n",
      "INFO:tensorflow:Converted call: <function TensorLikeDataAdapter.__init__.<locals>.slice_batch_indices at 0x0000019A087CF0D0>\n",
      "    args: (<tf.Tensor 'args_0:0' shape=(1,) dtype=int64>,)\n",
      "    kwargs: {}\n",
      "\n",
      "INFO:tensorflow:Converted call: <function TensorLikeDataAdapter.slice_inputs.<locals>.grab_batch at 0x0000019A087CF510>\n",
      "    args: (<tf.Tensor 'args_0:0' shape=(None,) dtype=int64>, (<tf.Tensor 'args_1:0' shape=(1, 24, 1) dtype=float64>,))\n",
      "    kwargs: {}\n",
      "\n",
      "INFO:tensorflow:Converted call: <function TensorLikeDataAdapter.__init__.<locals>.permutation at 0x0000019A087CF950>\n",
      "    args: (<tf.Tensor 'args_0:0' shape=() dtype=int64>,)\n",
      "    kwargs: {}\n",
      "\n",
      "INFO:tensorflow:Converted call: <function TensorLikeDataAdapter.__init__.<locals>.slice_batch_indices at 0x0000019A087CFE18>\n",
      "    args: (<tf.Tensor 'args_0:0' shape=(1,) dtype=int64>,)\n",
      "    kwargs: {}\n",
      "\n",
      "INFO:tensorflow:Converted call: <function TensorLikeDataAdapter.slice_inputs.<locals>.grab_batch at 0x0000019A087EF378>\n",
      "    args: (<tf.Tensor 'args_0:0' shape=(None,) dtype=int64>, (<tf.Tensor 'args_1:0' shape=(1, 24, 1) dtype=float64>,))\n",
      "    kwargs: {}\n",
      "\n",
      "INFO:tensorflow:Converted call: <function TensorLikeDataAdapter.__init__.<locals>.permutation at 0x0000019A087EF620>\n",
      "    args: (<tf.Tensor 'args_0:0' shape=() dtype=int64>,)\n",
      "    kwargs: {}\n",
      "\n",
      "INFO:tensorflow:Converted call: <function TensorLikeDataAdapter.__init__.<locals>.slice_batch_indices at 0x0000019A087EFBF8>\n",
      "    args: (<tf.Tensor 'args_0:0' shape=(1,) dtype=int64>,)\n",
      "    kwargs: {}\n",
      "\n",
      "INFO:tensorflow:Converted call: <function TensorLikeDataAdapter.slice_inputs.<locals>.grab_batch at 0x0000019A087EFE18>\n",
      "    args: (<tf.Tensor 'args_0:0' shape=(None,) dtype=int64>, (<tf.Tensor 'args_1:0' shape=(1, 24, 1) dtype=float64>,))\n",
      "    kwargs: {}\n",
      "\n",
      "INFO:tensorflow:Converted call: <function TensorLikeDataAdapter.__init__.<locals>.permutation at 0x0000019A08816158>\n",
      "    args: (<tf.Tensor 'args_0:0' shape=() dtype=int64>,)\n",
      "    kwargs: {}\n",
      "\n",
      "INFO:tensorflow:Converted call: <function TensorLikeDataAdapter.__init__.<locals>.slice_batch_indices at 0x0000019A087CFD08>\n",
      "    args: (<tf.Tensor 'args_0:0' shape=(1,) dtype=int64>,)\n",
      "    kwargs: {}\n",
      "\n",
      "INFO:tensorflow:Converted call: <function TensorLikeDataAdapter.slice_inputs.<locals>.grab_batch at 0x0000019A087CF378>\n",
      "    args: (<tf.Tensor 'args_0:0' shape=(None,) dtype=int64>, (<tf.Tensor 'args_1:0' shape=(1, 24, 1) dtype=float64>,))\n",
      "    kwargs: {}\n",
      "\n",
      "INFO:tensorflow:Converted call: <function TensorLikeDataAdapter.__init__.<locals>.permutation at 0x0000019A087CF840>\n",
      "    args: (<tf.Tensor 'args_0:0' shape=() dtype=int64>,)\n",
      "    kwargs: {}\n",
      "\n",
      "INFO:tensorflow:Converted call: <function TensorLikeDataAdapter.__init__.<locals>.slice_batch_indices at 0x0000019A087CF1E0>\n",
      "    args: (<tf.Tensor 'args_0:0' shape=(1,) dtype=int64>,)\n",
      "    kwargs: {}\n",
      "\n",
      "INFO:tensorflow:Converted call: <function TensorLikeDataAdapter.slice_inputs.<locals>.grab_batch at 0x0000019A0775CD08>\n",
      "    args: (<tf.Tensor 'args_0:0' shape=(None,) dtype=int64>, (<tf.Tensor 'args_1:0' shape=(1, 24, 1) dtype=float64>,))\n",
      "    kwargs: {}\n",
      "\n",
      "INFO:tensorflow:Converted call: <function TensorLikeDataAdapter.__init__.<locals>.permutation at 0x0000019A088166A8>\n",
      "    args: (<tf.Tensor 'args_0:0' shape=() dtype=int64>,)\n",
      "    kwargs: {}\n",
      "\n",
      "INFO:tensorflow:Converted call: <function TensorLikeDataAdapter.__init__.<locals>.slice_batch_indices at 0x0000019A088160D0>\n",
      "    args: (<tf.Tensor 'args_0:0' shape=(1,) dtype=int64>,)\n",
      "    kwargs: {}\n",
      "\n",
      "INFO:tensorflow:Converted call: <function TensorLikeDataAdapter.slice_inputs.<locals>.grab_batch at 0x0000019A088168C8>\n",
      "    args: (<tf.Tensor 'args_0:0' shape=(None,) dtype=int64>, (<tf.Tensor 'args_1:0' shape=(1, 24, 1) dtype=float64>,))\n",
      "    kwargs: {}\n",
      "\n",
      "INFO:tensorflow:Converted call: <function TensorLikeDataAdapter.__init__.<locals>.permutation at 0x0000019A08816D08>\n",
      "    args: (<tf.Tensor 'args_0:0' shape=() dtype=int64>,)\n",
      "    kwargs: {}\n",
      "\n",
      "INFO:tensorflow:Converted call: <function TensorLikeDataAdapter.__init__.<locals>.slice_batch_indices at 0x0000019A087F3158>\n",
      "    args: (<tf.Tensor 'args_0:0' shape=(1,) dtype=int64>,)\n",
      "    kwargs: {}\n",
      "\n",
      "INFO:tensorflow:Converted call: <function TensorLikeDataAdapter.slice_inputs.<locals>.grab_batch at 0x0000019A087F3510>\n",
      "    args: (<tf.Tensor 'args_0:0' shape=(None,) dtype=int64>, (<tf.Tensor 'args_1:0' shape=(1, 24, 1) dtype=float64>,))\n",
      "    kwargs: {}\n",
      "\n",
      "INFO:tensorflow:Converted call: <function TensorLikeDataAdapter.__init__.<locals>.permutation at 0x0000019A087F38C8>\n",
      "    args: (<tf.Tensor 'args_0:0' shape=() dtype=int64>,)\n",
      "    kwargs: {}\n",
      "\n",
      "INFO:tensorflow:Converted call: <function TensorLikeDataAdapter.__init__.<locals>.slice_batch_indices at 0x0000019A087F3F28>\n",
      "    args: (<tf.Tensor 'args_0:0' shape=(1,) dtype=int64>,)\n",
      "    kwargs: {}\n",
      "\n",
      "INFO:tensorflow:Converted call: <function TensorLikeDataAdapter.slice_inputs.<locals>.grab_batch at 0x0000019A087A1D90>\n",
      "    args: (<tf.Tensor 'args_0:0' shape=(None,) dtype=int64>, (<tf.Tensor 'args_1:0' shape=(1, 24, 1) dtype=float64>,))\n",
      "    kwargs: {}\n",
      "\n",
      "INFO:tensorflow:Converted call: <function TensorLikeDataAdapter.__init__.<locals>.permutation at 0x0000019A087A1E18>\n",
      "    args: (<tf.Tensor 'args_0:0' shape=() dtype=int64>,)\n",
      "    kwargs: {}\n",
      "\n"
     ]
    },
    {
     "name": "stdout",
     "output_type": "stream",
     "text": [
      "INFO:tensorflow:Converted call: <function TensorLikeDataAdapter.__init__.<locals>.slice_batch_indices at 0x0000019A087A1400>\n",
      "    args: (<tf.Tensor 'args_0:0' shape=(1,) dtype=int64>,)\n",
      "    kwargs: {}\n",
      "\n",
      "INFO:tensorflow:Converted call: <function TensorLikeDataAdapter.slice_inputs.<locals>.grab_batch at 0x0000019A087A1158>\n",
      "    args: (<tf.Tensor 'args_0:0' shape=(None,) dtype=int64>, (<tf.Tensor 'args_1:0' shape=(1, 24, 1) dtype=float64>,))\n",
      "    kwargs: {}\n",
      "\n",
      "INFO:tensorflow:Converted call: <function TensorLikeDataAdapter.__init__.<locals>.permutation at 0x0000019A087CC158>\n",
      "    args: (<tf.Tensor 'args_0:0' shape=() dtype=int64>,)\n",
      "    kwargs: {}\n",
      "\n",
      "INFO:tensorflow:Converted call: <function TensorLikeDataAdapter.__init__.<locals>.slice_batch_indices at 0x0000019A087CC840>\n",
      "    args: (<tf.Tensor 'args_0:0' shape=(1,) dtype=int64>,)\n",
      "    kwargs: {}\n",
      "\n",
      "INFO:tensorflow:Converted call: <function TensorLikeDataAdapter.slice_inputs.<locals>.grab_batch at 0x0000019A087CCA60>\n",
      "    args: (<tf.Tensor 'args_0:0' shape=(None,) dtype=int64>, (<tf.Tensor 'args_1:0' shape=(1, 24, 1) dtype=float64>,))\n",
      "    kwargs: {}\n",
      "\n",
      "INFO:tensorflow:Converted call: <function TensorLikeDataAdapter.__init__.<locals>.permutation at 0x0000019A087CCE18>\n",
      "    args: (<tf.Tensor 'args_0:0' shape=() dtype=int64>,)\n",
      "    kwargs: {}\n",
      "\n",
      "INFO:tensorflow:Converted call: <function TensorLikeDataAdapter.__init__.<locals>.slice_batch_indices at 0x0000019A088412F0>\n",
      "    args: (<tf.Tensor 'args_0:0' shape=(1,) dtype=int64>,)\n",
      "    kwargs: {}\n",
      "\n",
      "INFO:tensorflow:Converted call: <function TensorLikeDataAdapter.slice_inputs.<locals>.grab_batch at 0x0000019A088416A8>\n",
      "    args: (<tf.Tensor 'args_0:0' shape=(None,) dtype=int64>, (<tf.Tensor 'args_1:0' shape=(1, 24, 1) dtype=float64>,))\n",
      "    kwargs: {}\n",
      "\n",
      "INFO:tensorflow:Converted call: <function TensorLikeDataAdapter.__init__.<locals>.permutation at 0x0000019A088419D8>\n",
      "    args: (<tf.Tensor 'args_0:0' shape=() dtype=int64>,)\n",
      "    kwargs: {}\n",
      "\n",
      "INFO:tensorflow:Converted call: <function TensorLikeDataAdapter.__init__.<locals>.slice_batch_indices at 0x0000019A08841EA0>\n",
      "    args: (<tf.Tensor 'args_0:0' shape=(1,) dtype=int64>,)\n",
      "    kwargs: {}\n",
      "\n",
      "INFO:tensorflow:Converted call: <function TensorLikeDataAdapter.slice_inputs.<locals>.grab_batch at 0x0000019A08869048>\n",
      "    args: (<tf.Tensor 'args_0:0' shape=(None,) dtype=int64>, (<tf.Tensor 'args_1:0' shape=(1, 24, 1) dtype=float64>,))\n",
      "    kwargs: {}\n",
      "\n",
      "INFO:tensorflow:Converted call: <function TensorLikeDataAdapter.__init__.<locals>.permutation at 0x0000019A08869620>\n",
      "    args: (<tf.Tensor 'args_0:0' shape=() dtype=int64>,)\n",
      "    kwargs: {}\n",
      "\n",
      "INFO:tensorflow:Converted call: <function TensorLikeDataAdapter.__init__.<locals>.slice_batch_indices at 0x0000019A08869C80>\n",
      "    args: (<tf.Tensor 'args_0:0' shape=(1,) dtype=int64>,)\n",
      "    kwargs: {}\n",
      "\n",
      "INFO:tensorflow:Converted call: <function TensorLikeDataAdapter.slice_inputs.<locals>.grab_batch at 0x0000019A08869F28>\n",
      "    args: (<tf.Tensor 'args_0:0' shape=(None,) dtype=int64>, (<tf.Tensor 'args_1:0' shape=(1, 24, 1) dtype=float64>,))\n",
      "    kwargs: {}\n",
      "\n",
      "INFO:tensorflow:Converted call: <function TensorLikeDataAdapter.__init__.<locals>.permutation at 0x0000019A08869840>\n",
      "    args: (<tf.Tensor 'args_0:0' shape=() dtype=int64>,)\n",
      "    kwargs: {}\n",
      "\n",
      "INFO:tensorflow:Converted call: <function TensorLikeDataAdapter.__init__.<locals>.slice_batch_indices at 0x0000019A088690D0>\n",
      "    args: (<tf.Tensor 'args_0:0' shape=(1,) dtype=int64>,)\n",
      "    kwargs: {}\n",
      "\n",
      "INFO:tensorflow:Converted call: <function TensorLikeDataAdapter.slice_inputs.<locals>.grab_batch at 0x0000019A08816D08>\n",
      "    args: (<tf.Tensor 'args_0:0' shape=(None,) dtype=int64>, (<tf.Tensor 'args_1:0' shape=(1, 24, 1) dtype=float64>,))\n",
      "    kwargs: {}\n",
      "\n",
      "INFO:tensorflow:Converted call: <function TensorLikeDataAdapter.__init__.<locals>.permutation at 0x0000019A08816598>\n",
      "    args: (<tf.Tensor 'args_0:0' shape=() dtype=int64>,)\n",
      "    kwargs: {}\n",
      "\n",
      "INFO:tensorflow:Converted call: <function TensorLikeDataAdapter.__init__.<locals>.slice_batch_indices at 0x0000019A08816730>\n",
      "    args: (<tf.Tensor 'args_0:0' shape=(1,) dtype=int64>,)\n",
      "    kwargs: {}\n",
      "\n",
      "INFO:tensorflow:Converted call: <function TensorLikeDataAdapter.slice_inputs.<locals>.grab_batch at 0x0000019A08816510>\n",
      "    args: (<tf.Tensor 'args_0:0' shape=(None,) dtype=int64>, (<tf.Tensor 'args_1:0' shape=(1, 24, 1) dtype=float64>,))\n",
      "    kwargs: {}\n",
      "\n",
      "INFO:tensorflow:Converted call: <function TensorLikeDataAdapter.__init__.<locals>.permutation at 0x0000019A0775C730>\n",
      "    args: (<tf.Tensor 'args_0:0' shape=() dtype=int64>,)\n",
      "    kwargs: {}\n",
      "\n",
      "INFO:tensorflow:Converted call: <function TensorLikeDataAdapter.__init__.<locals>.slice_batch_indices at 0x0000019A087CF2F0>\n",
      "    args: (<tf.Tensor 'args_0:0' shape=(1,) dtype=int64>,)\n",
      "    kwargs: {}\n",
      "\n",
      "INFO:tensorflow:Converted call: <function TensorLikeDataAdapter.slice_inputs.<locals>.grab_batch at 0x0000019A087CF6A8>\n",
      "    args: (<tf.Tensor 'args_0:0' shape=(None,) dtype=int64>, (<tf.Tensor 'args_1:0' shape=(1, 24, 1) dtype=float64>,))\n",
      "    kwargs: {}\n",
      "\n",
      "INFO:tensorflow:Converted call: <function TensorLikeDataAdapter.__init__.<locals>.permutation at 0x0000019A0888F378>\n",
      "    args: (<tf.Tensor 'args_0:0' shape=() dtype=int64>,)\n",
      "    kwargs: {}\n",
      "\n",
      "INFO:tensorflow:Converted call: <function TensorLikeDataAdapter.__init__.<locals>.slice_batch_indices at 0x0000019A0888FAE8>\n",
      "    args: (<tf.Tensor 'args_0:0' shape=(1,) dtype=int64>,)\n",
      "    kwargs: {}\n",
      "\n",
      "INFO:tensorflow:Converted call: <function TensorLikeDataAdapter.slice_inputs.<locals>.grab_batch at 0x0000019A0888FC80>\n",
      "    args: (<tf.Tensor 'args_0:0' shape=(None,) dtype=int64>, (<tf.Tensor 'args_1:0' shape=(1, 24, 1) dtype=float64>,))\n",
      "    kwargs: {}\n",
      "\n",
      "INFO:tensorflow:Converted call: <function TensorLikeDataAdapter.__init__.<locals>.permutation at 0x0000019A0881C0D0>\n",
      "    args: (<tf.Tensor 'args_0:0' shape=() dtype=int64>,)\n",
      "    kwargs: {}\n",
      "\n",
      "INFO:tensorflow:Converted call: <function TensorLikeDataAdapter.__init__.<locals>.slice_batch_indices at 0x0000019A0881C730>\n",
      "    args: (<tf.Tensor 'args_0:0' shape=(1,) dtype=int64>,)\n",
      "    kwargs: {}\n",
      "\n",
      "INFO:tensorflow:Converted call: <function TensorLikeDataAdapter.slice_inputs.<locals>.grab_batch at 0x0000019A0881C950>\n",
      "    args: (<tf.Tensor 'args_0:0' shape=(None,) dtype=int64>, (<tf.Tensor 'args_1:0' shape=(1, 24, 1) dtype=float64>,))\n",
      "    kwargs: {}\n",
      "\n",
      "INFO:tensorflow:Converted call: <function TensorLikeDataAdapter.__init__.<locals>.permutation at 0x0000019A0881CD08>\n",
      "    args: (<tf.Tensor 'args_0:0' shape=() dtype=int64>,)\n",
      "    kwargs: {}\n",
      "\n",
      "INFO:tensorflow:Converted call: <function TensorLikeDataAdapter.__init__.<locals>.slice_batch_indices at 0x0000019A087F5268>\n",
      "    args: (<tf.Tensor 'args_0:0' shape=(1,) dtype=int64>,)\n",
      "    kwargs: {}\n",
      "\n",
      "INFO:tensorflow:Converted call: <function TensorLikeDataAdapter.slice_inputs.<locals>.grab_batch at 0x0000019A087F5598>\n",
      "    args: (<tf.Tensor 'args_0:0' shape=(None,) dtype=int64>, (<tf.Tensor 'args_1:0' shape=(1, 24, 1) dtype=float64>,))\n",
      "    kwargs: {}\n",
      "\n",
      "INFO:tensorflow:Converted call: <function TensorLikeDataAdapter.__init__.<locals>.permutation at 0x0000019A087F59D8>\n",
      "    args: (<tf.Tensor 'args_0:0' shape=() dtype=int64>,)\n",
      "    kwargs: {}\n",
      "\n",
      "INFO:tensorflow:Converted call: <function TensorLikeDataAdapter.__init__.<locals>.slice_batch_indices at 0x0000019A087F5EA0>\n",
      "    args: (<tf.Tensor 'args_0:0' shape=(1,) dtype=int64>,)\n",
      "    kwargs: {}\n",
      "\n",
      "INFO:tensorflow:Converted call: <function TensorLikeDataAdapter.slice_inputs.<locals>.grab_batch at 0x0000019A087A1048>\n",
      "    args: (<tf.Tensor 'args_0:0' shape=(None,) dtype=int64>, (<tf.Tensor 'args_1:0' shape=(1, 24, 1) dtype=float64>,))\n",
      "    kwargs: {}\n",
      "\n"
     ]
    }
   ],
   "source": [
    "# How will the obese population look in 2040?\n",
    "obs_ts = TimeSeriesPredictor(obs_sums, 24, 1)"
   ]
  },
  {
   "cell_type": "code",
   "execution_count": 17,
   "metadata": {},
   "outputs": [
    {
     "name": "stdout",
     "output_type": "stream",
     "text": [
      "WARNING:tensorflow:sample_weight modes were coerced from\n",
      "  ...\n",
      "    to  \n",
      "  ['...']\n",
      "INFO:tensorflow:Converted call: <function DatasetV2.from_generator.<locals>.flat_map_fn at 0x0000019A0888F510>\n",
      "    args: (<tf.Tensor 'args_0:0' shape=() dtype=int32>,)\n",
      "    kwargs: {}\n",
      "\n",
      "INFO:tensorflow:Converted call: <function _process_inputs.<locals>.standardize_function.<locals>.map_fn at 0x0000019A087CFBF8>\n",
      "    args: (<tf.Tensor 'args_0:0' shape=(None, None, None) dtype=float64>, <tf.Tensor 'args_1:0' shape=(None, None) dtype=float64>)\n",
      "    kwargs: {}\n",
      "\n",
      "Train for 3 steps\n",
      "Epoch 1/100\n",
      "3/3 [==============================] - 2s 593ms/step - loss: 0.5661\n",
      "Epoch 2/100\n",
      "3/3 [==============================] - 0s 27ms/step - loss: 0.4247\n",
      "Epoch 3/100\n",
      "3/3 [==============================] - 0s 28ms/step - loss: 0.2891\n",
      "Epoch 4/100\n",
      "3/3 [==============================] - 0s 29ms/step - loss: 0.1337\n",
      "Epoch 5/100\n",
      "3/3 [==============================] - 0s 27ms/step - loss: 0.0175\n",
      "Epoch 6/100\n",
      "3/3 [==============================] - 0s 29ms/step - loss: 0.2418\n",
      "Epoch 7/100\n",
      "3/3 [==============================] - 0s 30ms/step - loss: 0.0052\n",
      "Epoch 8/100\n",
      "3/3 [==============================] - 0s 29ms/step - loss: 0.0236\n",
      "Epoch 9/100\n",
      "3/3 [==============================] - 0s 27ms/step - loss: 0.0437\n",
      "Epoch 10/100\n",
      "3/3 [==============================] - 0s 28ms/step - loss: 0.0482\n",
      "Epoch 11/100\n",
      "3/3 [==============================] - 0s 28ms/step - loss: 0.0394\n",
      "Epoch 12/100\n",
      "3/3 [==============================] - 0s 29ms/step - loss: 0.0285\n",
      "Epoch 13/100\n",
      "3/3 [==============================] - 0s 28ms/step - loss: 0.0166\n",
      "Epoch 14/100\n",
      "3/3 [==============================] - 0s 27ms/step - loss: 0.0088\n",
      "Epoch 15/100\n",
      "3/3 [==============================] - 0s 28ms/step - loss: 0.0033\n",
      "Epoch 16/100\n",
      "3/3 [==============================] - 0s 26ms/step - loss: 0.0081\n",
      "Epoch 17/100\n",
      "3/3 [==============================] - 0s 27ms/step - loss: 0.0084\n",
      "Epoch 18/100\n",
      "3/3 [==============================] - 0s 30ms/step - loss: 0.0037\n",
      "Epoch 19/100\n",
      "3/3 [==============================] - 0s 30ms/step - loss: 0.0053\n",
      "Epoch 20/100\n",
      "3/3 [==============================] - 0s 28ms/step - loss: 0.0057\n",
      "Epoch 21/100\n",
      "3/3 [==============================] - 0s 29ms/step - loss: 0.0042\n",
      "Epoch 22/100\n",
      "3/3 [==============================] - 0s 29ms/step - loss: 0.0036\n",
      "Epoch 23/100\n",
      "3/3 [==============================] - 0s 33ms/step - loss: 0.0027\n",
      "Epoch 24/100\n",
      "3/3 [==============================] - 0s 29ms/step - loss: 0.0027\n",
      "Epoch 25/100\n",
      "3/3 [==============================] - 0s 30ms/step - loss: 0.0036\n",
      "Epoch 26/100\n",
      "3/3 [==============================] - 0s 30ms/step - loss: 0.0045\n",
      "Epoch 27/100\n",
      "3/3 [==============================] - 0s 30ms/step - loss: 0.0034\n",
      "Epoch 28/100\n",
      "3/3 [==============================] - 0s 29ms/step - loss: 0.0091\n",
      "Epoch 29/100\n",
      "3/3 [==============================] - 0s 31ms/step - loss: 0.0051\n",
      "Epoch 30/100\n",
      "3/3 [==============================] - 0s 29ms/step - loss: 0.0035\n",
      "Epoch 31/100\n",
      "3/3 [==============================] - 0s 29ms/step - loss: 0.0062\n",
      "Epoch 32/100\n",
      "3/3 [==============================] - 0s 31ms/step - loss: 0.0033\n",
      "Epoch 33/100\n",
      "3/3 [==============================] - 0s 29ms/step - loss: 0.0050\n",
      "Epoch 34/100\n",
      "3/3 [==============================] - 0s 31ms/step - loss: 0.0041\n",
      "Epoch 35/100\n",
      "3/3 [==============================] - 0s 28ms/step - loss: 0.0029\n",
      "Epoch 36/100\n",
      "3/3 [==============================] - 0s 27ms/step - loss: 0.0044\n",
      "Epoch 37/100\n",
      "3/3 [==============================] - 0s 28ms/step - loss: 9.7684e-04\n",
      "Epoch 38/100\n",
      "3/3 [==============================] - 0s 26ms/step - loss: 0.0054\n",
      "Epoch 39/100\n",
      "3/3 [==============================] - 0s 41ms/step - loss: 0.0029\n",
      "Epoch 40/100\n",
      "3/3 [==============================] - 0s 29ms/step - loss: 0.0020\n",
      "Epoch 41/100\n",
      "3/3 [==============================] - 0s 29ms/step - loss: 0.0036\n",
      "Epoch 42/100\n",
      "3/3 [==============================] - 0s 28ms/step - loss: 0.0044\n",
      "Epoch 43/100\n",
      "3/3 [==============================] - 0s 28ms/step - loss: 0.0048\n",
      "Epoch 44/100\n",
      "3/3 [==============================] - 0s 30ms/step - loss: 0.0014\n",
      "Epoch 45/100\n",
      "3/3 [==============================] - 0s 32ms/step - loss: 0.0045\n",
      "Epoch 46/100\n",
      "3/3 [==============================] - 0s 32ms/step - loss: 0.0053\n",
      "Epoch 47/100\n",
      "3/3 [==============================] - 0s 31ms/step - loss: 0.0050\n",
      "Epoch 48/100\n",
      "3/3 [==============================] - 0s 30ms/step - loss: 0.0051\n",
      "Epoch 49/100\n",
      "3/3 [==============================] - 0s 29ms/step - loss: 0.0046\n",
      "Epoch 50/100\n",
      "3/3 [==============================] - 0s 31ms/step - loss: 0.0058\n",
      "Epoch 51/100\n",
      "3/3 [==============================] - 0s 30ms/step - loss: 0.0028\n",
      "Epoch 52/100\n",
      "3/3 [==============================] - 0s 30ms/step - loss: 0.0021\n",
      "Epoch 53/100\n",
      "3/3 [==============================] - 0s 31ms/step - loss: 0.0038\n",
      "Epoch 54/100\n",
      "3/3 [==============================] - 0s 29ms/step - loss: 0.0027\n",
      "Epoch 55/100\n",
      "3/3 [==============================] - 0s 29ms/step - loss: 0.0036\n",
      "Epoch 56/100\n",
      "3/3 [==============================] - 0s 32ms/step - loss: 0.0024\n",
      "Epoch 57/100\n",
      "3/3 [==============================] - 0s 29ms/step - loss: 0.0056\n",
      "Epoch 58/100\n",
      "3/3 [==============================] - 0s 29ms/step - loss: 0.0024\n",
      "Epoch 59/100\n",
      "3/3 [==============================] - 0s 30ms/step - loss: 0.0046\n",
      "Epoch 60/100\n",
      "3/3 [==============================] - 0s 28ms/step - loss: 0.0021\n",
      "Epoch 61/100\n",
      "3/3 [==============================] - 0s 28ms/step - loss: 0.0023\n",
      "Epoch 62/100\n",
      "3/3 [==============================] - 0s 30ms/step - loss: 0.0023\n",
      "Epoch 63/100\n",
      "3/3 [==============================] - 0s 31ms/step - loss: 0.0036\n",
      "Epoch 64/100\n",
      "3/3 [==============================] - 0s 31ms/step - loss: 0.0038\n",
      "Epoch 65/100\n",
      "3/3 [==============================] - 0s 28ms/step - loss: 0.0047\n",
      "Epoch 66/100\n",
      "3/3 [==============================] - 0s 27ms/step - loss: 0.0024\n",
      "Epoch 67/100\n",
      "3/3 [==============================] - 0s 29ms/step - loss: 0.0031\n",
      "Epoch 68/100\n",
      "3/3 [==============================] - 0s 28ms/step - loss: 0.0043\n",
      "Epoch 69/100\n",
      "3/3 [==============================] - 0s 30ms/step - loss: 0.0043\n",
      "Epoch 70/100\n",
      "3/3 [==============================] - 0s 32ms/step - loss: 0.0045\n",
      "Epoch 71/100\n",
      "3/3 [==============================] - 0s 28ms/step - loss: 0.0036\n",
      "Epoch 72/100\n",
      "3/3 [==============================] - 0s 29ms/step - loss: 0.0024\n",
      "Epoch 73/100\n",
      "3/3 [==============================] - 0s 29ms/step - loss: 0.0032\n",
      "Epoch 74/100\n",
      "3/3 [==============================] - 0s 28ms/step - loss: 0.0027\n",
      "Epoch 75/100\n",
      "3/3 [==============================] - 0s 30ms/step - loss: 0.0016\n",
      "Epoch 76/100\n",
      "3/3 [==============================] - 0s 29ms/step - loss: 0.0013\n",
      "Epoch 77/100\n",
      "3/3 [==============================] - 0s 30ms/step - loss: 0.0022\n",
      "Epoch 78/100\n",
      "3/3 [==============================] - 0s 28ms/step - loss: 0.0016\n",
      "Epoch 79/100\n",
      "3/3 [==============================] - 0s 27ms/step - loss: 0.0030\n",
      "Epoch 80/100\n",
      "3/3 [==============================] - 0s 28ms/step - loss: 0.0042\n",
      "Epoch 81/100\n",
      "3/3 [==============================] - 0s 29ms/step - loss: 0.0026\n",
      "Epoch 82/100\n",
      "3/3 [==============================] - 0s 32ms/step - loss: 0.0020\n",
      "Epoch 83/100\n",
      "3/3 [==============================] - 0s 28ms/step - loss: 0.0025\n",
      "Epoch 84/100\n",
      "3/3 [==============================] - 0s 29ms/step - loss: 0.0041\n",
      "Epoch 85/100\n",
      "3/3 [==============================] - 0s 29ms/step - loss: 0.0034\n",
      "Epoch 86/100\n",
      "3/3 [==============================] - 0s 32ms/step - loss: 0.0019\n",
      "Epoch 87/100\n",
      "3/3 [==============================] - 0s 28ms/step - loss: 0.0038\n",
      "Epoch 88/100\n",
      "3/3 [==============================] - 0s 30ms/step - loss: 0.0048\n",
      "Epoch 89/100\n",
      "3/3 [==============================] - 0s 31ms/step - loss: 0.0023\n",
      "Epoch 90/100\n",
      "3/3 [==============================] - 0s 30ms/step - loss: 0.0038\n",
      "Epoch 91/100\n",
      "3/3 [==============================] - 0s 31ms/step - loss: 0.0022\n",
      "Epoch 92/100\n",
      "3/3 [==============================] - 0s 30ms/step - loss: 0.0026\n",
      "Epoch 93/100\n",
      "3/3 [==============================] - 0s 32ms/step - loss: 0.0017\n",
      "Epoch 94/100\n",
      "3/3 [==============================] - 0s 29ms/step - loss: 0.0031\n",
      "Epoch 95/100\n",
      "3/3 [==============================] - 0s 30ms/step - loss: 0.0042\n",
      "Epoch 96/100\n"
     ]
    },
    {
     "name": "stdout",
     "output_type": "stream",
     "text": [
      "3/3 [==============================] - 0s 30ms/step - loss: 0.0022\n",
      "Epoch 97/100\n",
      "3/3 [==============================] - 0s 28ms/step - loss: 0.0047\n",
      "Epoch 98/100\n",
      "3/3 [==============================] - 0s 29ms/step - loss: 0.0048\n",
      "Epoch 99/100\n",
      "3/3 [==============================] - 0s 28ms/step - loss: 0.0020\n",
      "Epoch 100/100\n",
      "3/3 [==============================] - 0s 29ms/step - loss: 0.0050\n",
      "INFO:tensorflow:Converted call: <function TensorLikeDataAdapter.__init__.<locals>.permutation at 0x0000019A088B4620>\n",
      "    args: (<tf.Tensor 'args_0:0' shape=() dtype=int64>,)\n",
      "    kwargs: {}\n",
      "\n",
      "INFO:tensorflow:Converted call: <function TensorLikeDataAdapter.__init__.<locals>.slice_batch_indices at 0x0000019A0888F1E0>\n",
      "    args: (<tf.Tensor 'args_0:0' shape=(1,) dtype=int64>,)\n",
      "    kwargs: {}\n",
      "\n",
      "INFO:tensorflow:Converted call: <function TensorLikeDataAdapter.slice_inputs.<locals>.grab_batch at 0x0000019A08869D90>\n",
      "    args: (<tf.Tensor 'args_0:0' shape=(None,) dtype=int64>, (<tf.Tensor 'args_1:0' shape=(1, 24, 1) dtype=float64>,))\n",
      "    kwargs: {}\n",
      "\n",
      "INFO:tensorflow:Converted call: <function TensorLikeDataAdapter.__init__.<locals>.permutation at 0x0000019A087CFEA0>\n",
      "    args: (<tf.Tensor 'args_0:0' shape=() dtype=int64>,)\n",
      "    kwargs: {}\n",
      "\n",
      "INFO:tensorflow:Converted call: <function TensorLikeDataAdapter.__init__.<locals>.slice_batch_indices at 0x0000019A087CF8C8>\n",
      "    args: (<tf.Tensor 'args_0:0' shape=(1,) dtype=int64>,)\n",
      "    kwargs: {}\n",
      "\n",
      "INFO:tensorflow:Converted call: <function TensorLikeDataAdapter.slice_inputs.<locals>.grab_batch at 0x0000019A06535510>\n",
      "    args: (<tf.Tensor 'args_0:0' shape=(None,) dtype=int64>, (<tf.Tensor 'args_1:0' shape=(1, 24, 1) dtype=float64>,))\n",
      "    kwargs: {}\n",
      "\n",
      "INFO:tensorflow:Converted call: <function TensorLikeDataAdapter.__init__.<locals>.permutation at 0x0000019A065358C8>\n",
      "    args: (<tf.Tensor 'args_0:0' shape=() dtype=int64>,)\n",
      "    kwargs: {}\n",
      "\n",
      "INFO:tensorflow:Converted call: <function TensorLikeDataAdapter.__init__.<locals>.slice_batch_indices at 0x0000019A089A2F28>\n",
      "    args: (<tf.Tensor 'args_0:0' shape=(1,) dtype=int64>,)\n",
      "    kwargs: {}\n",
      "\n",
      "INFO:tensorflow:Converted call: <function TensorLikeDataAdapter.slice_inputs.<locals>.grab_batch at 0x0000019A088861E0>\n",
      "    args: (<tf.Tensor 'args_0:0' shape=(None,) dtype=int64>, (<tf.Tensor 'args_1:0' shape=(1, 24, 1) dtype=float64>,))\n",
      "    kwargs: {}\n",
      "\n",
      "INFO:tensorflow:Converted call: <function TensorLikeDataAdapter.__init__.<locals>.permutation at 0x0000019A7FC41268>\n",
      "    args: (<tf.Tensor 'args_0:0' shape=() dtype=int64>,)\n",
      "    kwargs: {}\n",
      "\n",
      "INFO:tensorflow:Converted call: <function TensorLikeDataAdapter.__init__.<locals>.slice_batch_indices at 0x0000019A06535510>\n",
      "    args: (<tf.Tensor 'args_0:0' shape=(1,) dtype=int64>,)\n",
      "    kwargs: {}\n",
      "\n",
      "INFO:tensorflow:Converted call: <function TensorLikeDataAdapter.slice_inputs.<locals>.grab_batch at 0x0000019A064E0598>\n",
      "    args: (<tf.Tensor 'args_0:0' shape=(None,) dtype=int64>, (<tf.Tensor 'args_1:0' shape=(1, 24, 1) dtype=float64>,))\n",
      "    kwargs: {}\n",
      "\n",
      "INFO:tensorflow:Converted call: <function TensorLikeDataAdapter.__init__.<locals>.permutation at 0x0000019A088696A8>\n",
      "    args: (<tf.Tensor 'args_0:0' shape=() dtype=int64>,)\n",
      "    kwargs: {}\n",
      "\n",
      "INFO:tensorflow:Converted call: <function TensorLikeDataAdapter.__init__.<locals>.slice_batch_indices at 0x0000019A088698C8>\n",
      "    args: (<tf.Tensor 'args_0:0' shape=(1,) dtype=int64>,)\n",
      "    kwargs: {}\n",
      "\n",
      "INFO:tensorflow:Converted call: <function TensorLikeDataAdapter.slice_inputs.<locals>.grab_batch at 0x0000019A08869400>\n",
      "    args: (<tf.Tensor 'args_0:0' shape=(None,) dtype=int64>, (<tf.Tensor 'args_1:0' shape=(1, 24, 1) dtype=float64>,))\n",
      "    kwargs: {}\n",
      "\n",
      "INFO:tensorflow:Converted call: <function TensorLikeDataAdapter.__init__.<locals>.permutation at 0x0000019A08886510>\n",
      "    args: (<tf.Tensor 'args_0:0' shape=() dtype=int64>,)\n",
      "    kwargs: {}\n",
      "\n",
      "INFO:tensorflow:Converted call: <function TensorLikeDataAdapter.__init__.<locals>.slice_batch_indices at 0x0000019A08886B70>\n",
      "    args: (<tf.Tensor 'args_0:0' shape=(1,) dtype=int64>,)\n",
      "    kwargs: {}\n",
      "\n",
      "INFO:tensorflow:Converted call: <function TensorLikeDataAdapter.slice_inputs.<locals>.grab_batch at 0x0000019A08886D90>\n",
      "    args: (<tf.Tensor 'args_0:0' shape=(None,) dtype=int64>, (<tf.Tensor 'args_1:0' shape=(1, 24, 1) dtype=float64>,))\n",
      "    kwargs: {}\n",
      "\n",
      "INFO:tensorflow:Converted call: <function TensorLikeDataAdapter.__init__.<locals>.permutation at 0x0000019A0614E0D0>\n",
      "    args: (<tf.Tensor 'args_0:0' shape=() dtype=int64>,)\n",
      "    kwargs: {}\n",
      "\n",
      "INFO:tensorflow:Converted call: <function TensorLikeDataAdapter.__init__.<locals>.slice_batch_indices at 0x0000019A0614E7B8>\n",
      "    args: (<tf.Tensor 'args_0:0' shape=(1,) dtype=int64>,)\n",
      "    kwargs: {}\n",
      "\n",
      "INFO:tensorflow:Converted call: <function TensorLikeDataAdapter.slice_inputs.<locals>.grab_batch at 0x0000019A0614E950>\n",
      "    args: (<tf.Tensor 'args_0:0' shape=(None,) dtype=int64>, (<tf.Tensor 'args_1:0' shape=(1, 24, 1) dtype=float64>,))\n",
      "    kwargs: {}\n",
      "\n",
      "INFO:tensorflow:Converted call: <function TensorLikeDataAdapter.__init__.<locals>.permutation at 0x0000019A0614ED08>\n",
      "    args: (<tf.Tensor 'args_0:0' shape=() dtype=int64>,)\n",
      "    kwargs: {}\n",
      "\n",
      "INFO:tensorflow:Converted call: <function TensorLikeDataAdapter.__init__.<locals>.slice_batch_indices at 0x0000019A7FC25158>\n",
      "    args: (<tf.Tensor 'args_0:0' shape=(1,) dtype=int64>,)\n",
      "    kwargs: {}\n",
      "\n",
      "INFO:tensorflow:Converted call: <function TensorLikeDataAdapter.slice_inputs.<locals>.grab_batch at 0x0000019A7FC25620>\n",
      "    args: (<tf.Tensor 'args_0:0' shape=(None,) dtype=int64>, (<tf.Tensor 'args_1:0' shape=(1, 24, 1) dtype=float64>,))\n",
      "    kwargs: {}\n",
      "\n",
      "INFO:tensorflow:Converted call: <function TensorLikeDataAdapter.__init__.<locals>.permutation at 0x0000019A7FC259D8>\n",
      "    args: (<tf.Tensor 'args_0:0' shape=() dtype=int64>,)\n",
      "    kwargs: {}\n",
      "\n",
      "INFO:tensorflow:Converted call: <function TensorLikeDataAdapter.__init__.<locals>.slice_batch_indices at 0x0000019A7FC25F28>\n",
      "    args: (<tf.Tensor 'args_0:0' shape=(1,) dtype=int64>,)\n",
      "    kwargs: {}\n",
      "\n",
      "INFO:tensorflow:Converted call: <function TensorLikeDataAdapter.slice_inputs.<locals>.grab_batch at 0x0000019A05803400>\n",
      "    args: (<tf.Tensor 'args_0:0' shape=(None,) dtype=int64>, (<tf.Tensor 'args_1:0' shape=(1, 24, 1) dtype=float64>,))\n",
      "    kwargs: {}\n",
      "\n",
      "INFO:tensorflow:Converted call: <function TensorLikeDataAdapter.__init__.<locals>.permutation at 0x0000019A058036A8>\n",
      "    args: (<tf.Tensor 'args_0:0' shape=() dtype=int64>,)\n",
      "    kwargs: {}\n",
      "\n",
      "INFO:tensorflow:Converted call: <function TensorLikeDataAdapter.__init__.<locals>.slice_batch_indices at 0x0000019A05803C80>\n",
      "    args: (<tf.Tensor 'args_0:0' shape=(1,) dtype=int64>,)\n",
      "    kwargs: {}\n",
      "\n",
      "INFO:tensorflow:Converted call: <function TensorLikeDataAdapter.slice_inputs.<locals>.grab_batch at 0x0000019A05803F28>\n",
      "    args: (<tf.Tensor 'args_0:0' shape=(None,) dtype=int64>, (<tf.Tensor 'args_1:0' shape=(1, 24, 1) dtype=float64>,))\n",
      "    kwargs: {}\n",
      "\n",
      "INFO:tensorflow:Converted call: <function TensorLikeDataAdapter.__init__.<locals>.permutation at 0x0000019A058021E0>\n",
      "    args: (<tf.Tensor 'args_0:0' shape=() dtype=int64>,)\n",
      "    kwargs: {}\n",
      "\n",
      "INFO:tensorflow:Converted call: <function TensorLikeDataAdapter.__init__.<locals>.slice_batch_indices at 0x0000019A058028C8>\n",
      "    args: (<tf.Tensor 'args_0:0' shape=(1,) dtype=int64>,)\n",
      "    kwargs: {}\n",
      "\n",
      "INFO:tensorflow:Converted call: <function TensorLikeDataAdapter.slice_inputs.<locals>.grab_batch at 0x0000019A05802A60>\n",
      "    args: (<tf.Tensor 'args_0:0' shape=(None,) dtype=int64>, (<tf.Tensor 'args_1:0' shape=(1, 24, 1) dtype=float64>,))\n",
      "    kwargs: {}\n",
      "\n",
      "INFO:tensorflow:Converted call: <function TensorLikeDataAdapter.__init__.<locals>.permutation at 0x0000019A05802EA0>\n",
      "    args: (<tf.Tensor 'args_0:0' shape=() dtype=int64>,)\n",
      "    kwargs: {}\n",
      "\n",
      "INFO:tensorflow:Converted call: <function TensorLikeDataAdapter.__init__.<locals>.slice_batch_indices at 0x0000019A08A5F510>\n",
      "    args: (<tf.Tensor 'args_0:0' shape=(1,) dtype=int64>,)\n",
      "    kwargs: {}\n",
      "\n",
      "INFO:tensorflow:Converted call: <function TensorLikeDataAdapter.slice_inputs.<locals>.grab_batch at 0x0000019A08A5F730>\n",
      "    args: (<tf.Tensor 'args_0:0' shape=(None,) dtype=int64>, (<tf.Tensor 'args_1:0' shape=(1, 24, 1) dtype=float64>,))\n",
      "    kwargs: {}\n",
      "\n",
      "INFO:tensorflow:Converted call: <function TensorLikeDataAdapter.__init__.<locals>.permutation at 0x0000019A08A5FAE8>\n",
      "    args: (<tf.Tensor 'args_0:0' shape=() dtype=int64>,)\n",
      "    kwargs: {}\n",
      "\n"
     ]
    },
    {
     "name": "stdout",
     "output_type": "stream",
     "text": [
      "INFO:tensorflow:Converted call: <function TensorLikeDataAdapter.__init__.<locals>.slice_batch_indices at 0x0000019A08A5FE18>\n",
      "    args: (<tf.Tensor 'args_0:0' shape=(1,) dtype=int64>,)\n",
      "    kwargs: {}\n",
      "\n",
      "INFO:tensorflow:Converted call: <function TensorLikeDataAdapter.slice_inputs.<locals>.grab_batch at 0x0000019A08A5F9D8>\n",
      "    args: (<tf.Tensor 'args_0:0' shape=(None,) dtype=int64>, (<tf.Tensor 'args_1:0' shape=(1, 24, 1) dtype=float64>,))\n",
      "    kwargs: {}\n",
      "\n",
      "INFO:tensorflow:Converted call: <function TensorLikeDataAdapter.__init__.<locals>.permutation at 0x0000019A08A5F268>\n",
      "    args: (<tf.Tensor 'args_0:0' shape=() dtype=int64>,)\n",
      "    kwargs: {}\n",
      "\n",
      "INFO:tensorflow:Converted call: <function TensorLikeDataAdapter.__init__.<locals>.slice_batch_indices at 0x0000019A08A5F840>\n",
      "    args: (<tf.Tensor 'args_0:0' shape=(1,) dtype=int64>,)\n",
      "    kwargs: {}\n",
      "\n",
      "INFO:tensorflow:Converted call: <function TensorLikeDataAdapter.slice_inputs.<locals>.grab_batch at 0x0000019A08886F28>\n",
      "    args: (<tf.Tensor 'args_0:0' shape=(None,) dtype=int64>, (<tf.Tensor 'args_1:0' shape=(1, 24, 1) dtype=float64>,))\n",
      "    kwargs: {}\n",
      "\n",
      "INFO:tensorflow:Converted call: <function TensorLikeDataAdapter.__init__.<locals>.permutation at 0x0000019A08886D90>\n",
      "    args: (<tf.Tensor 'args_0:0' shape=() dtype=int64>,)\n",
      "    kwargs: {}\n",
      "\n",
      "INFO:tensorflow:Converted call: <function TensorLikeDataAdapter.__init__.<locals>.slice_batch_indices at 0x0000019A0888F1E0>\n",
      "    args: (<tf.Tensor 'args_0:0' shape=(1,) dtype=int64>,)\n",
      "    kwargs: {}\n",
      "\n",
      "INFO:tensorflow:Converted call: <function TensorLikeDataAdapter.slice_inputs.<locals>.grab_batch at 0x0000019A088B4158>\n",
      "    args: (<tf.Tensor 'args_0:0' shape=(None,) dtype=int64>, (<tf.Tensor 'args_1:0' shape=(1, 24, 1) dtype=float64>,))\n",
      "    kwargs: {}\n",
      "\n",
      "INFO:tensorflow:Converted call: <function TensorLikeDataAdapter.__init__.<locals>.permutation at 0x0000019A08869D08>\n",
      "    args: (<tf.Tensor 'args_0:0' shape=() dtype=int64>,)\n",
      "    kwargs: {}\n",
      "\n",
      "INFO:tensorflow:Converted call: <function TensorLikeDataAdapter.__init__.<locals>.slice_batch_indices at 0x0000019A08869B70>\n",
      "    args: (<tf.Tensor 'args_0:0' shape=(1,) dtype=int64>,)\n",
      "    kwargs: {}\n",
      "\n",
      "INFO:tensorflow:Converted call: <function TensorLikeDataAdapter.slice_inputs.<locals>.grab_batch at 0x0000019A0664FEA0>\n",
      "    args: (<tf.Tensor 'args_0:0' shape=(None,) dtype=int64>, (<tf.Tensor 'args_1:0' shape=(1, 24, 1) dtype=float64>,))\n",
      "    kwargs: {}\n",
      "\n",
      "INFO:tensorflow:Converted call: <function TensorLikeDataAdapter.__init__.<locals>.permutation at 0x0000019A7FC41268>\n",
      "    args: (<tf.Tensor 'args_0:0' shape=() dtype=int64>,)\n",
      "    kwargs: {}\n",
      "\n",
      "INFO:tensorflow:Converted call: <function TensorLikeDataAdapter.__init__.<locals>.slice_batch_indices at 0x0000019A0664FBF8>\n",
      "    args: (<tf.Tensor 'args_0:0' shape=(1,) dtype=int64>,)\n",
      "    kwargs: {}\n",
      "\n",
      "INFO:tensorflow:Converted call: <function TensorLikeDataAdapter.slice_inputs.<locals>.grab_batch at 0x0000019A08A6A620>\n",
      "    args: (<tf.Tensor 'args_0:0' shape=(None,) dtype=int64>, (<tf.Tensor 'args_1:0' shape=(1, 24, 1) dtype=float64>,))\n",
      "    kwargs: {}\n",
      "\n",
      "INFO:tensorflow:Converted call: <function TensorLikeDataAdapter.__init__.<locals>.permutation at 0x0000019A08A6AA60>\n",
      "    args: (<tf.Tensor 'args_0:0' shape=() dtype=int64>,)\n",
      "    kwargs: {}\n",
      "\n",
      "INFO:tensorflow:Converted call: <function TensorLikeDataAdapter.__init__.<locals>.slice_batch_indices at 0x0000019A08A6AEA0>\n",
      "    args: (<tf.Tensor 'args_0:0' shape=(1,) dtype=int64>,)\n",
      "    kwargs: {}\n",
      "\n",
      "INFO:tensorflow:Converted call: <function TensorLikeDataAdapter.slice_inputs.<locals>.grab_batch at 0x0000019A7FC4F400>\n",
      "    args: (<tf.Tensor 'args_0:0' shape=(None,) dtype=int64>, (<tf.Tensor 'args_1:0' shape=(1, 24, 1) dtype=float64>,))\n",
      "    kwargs: {}\n",
      "\n",
      "INFO:tensorflow:Converted call: <function TensorLikeDataAdapter.__init__.<locals>.permutation at 0x0000019A7FC4F620>\n",
      "    args: (<tf.Tensor 'args_0:0' shape=() dtype=int64>,)\n",
      "    kwargs: {}\n",
      "\n",
      "INFO:tensorflow:Converted call: <function TensorLikeDataAdapter.__init__.<locals>.slice_batch_indices at 0x0000019A7FC4FC80>\n",
      "    args: (<tf.Tensor 'args_0:0' shape=(1,) dtype=int64>,)\n",
      "    kwargs: {}\n",
      "\n",
      "INFO:tensorflow:Converted call: <function TensorLikeDataAdapter.slice_inputs.<locals>.grab_batch at 0x0000019A7FC4FE18>\n",
      "    args: (<tf.Tensor 'args_0:0' shape=(None,) dtype=int64>, (<tf.Tensor 'args_1:0' shape=(1, 24, 1) dtype=float64>,))\n",
      "    kwargs: {}\n",
      "\n",
      "INFO:tensorflow:Converted call: <function TensorLikeDataAdapter.__init__.<locals>.permutation at 0x0000019A08A561E0>\n",
      "    args: (<tf.Tensor 'args_0:0' shape=() dtype=int64>,)\n",
      "    kwargs: {}\n",
      "\n",
      "INFO:tensorflow:Converted call: <function TensorLikeDataAdapter.__init__.<locals>.slice_batch_indices at 0x0000019A08A568C8>\n",
      "    args: (<tf.Tensor 'args_0:0' shape=(1,) dtype=int64>,)\n",
      "    kwargs: {}\n",
      "\n",
      "INFO:tensorflow:Converted call: <function TensorLikeDataAdapter.slice_inputs.<locals>.grab_batch at 0x0000019A08A56AE8>\n",
      "    args: (<tf.Tensor 'args_0:0' shape=(None,) dtype=int64>, (<tf.Tensor 'args_1:0' shape=(1, 24, 1) dtype=float64>,))\n",
      "    kwargs: {}\n",
      "\n",
      "INFO:tensorflow:Converted call: <function TensorLikeDataAdapter.__init__.<locals>.permutation at 0x0000019A057FA0D0>\n",
      "    args: (<tf.Tensor 'args_0:0' shape=() dtype=int64>,)\n",
      "    kwargs: {}\n",
      "\n",
      "INFO:tensorflow:Converted call: <function TensorLikeDataAdapter.__init__.<locals>.slice_batch_indices at 0x0000019A057FA598>\n",
      "    args: (<tf.Tensor 'args_0:0' shape=(1,) dtype=int64>,)\n",
      "    kwargs: {}\n",
      "\n",
      "INFO:tensorflow:Converted call: <function TensorLikeDataAdapter.slice_inputs.<locals>.grab_batch at 0x0000019A057FA730>\n",
      "    args: (<tf.Tensor 'args_0:0' shape=(None,) dtype=int64>, (<tf.Tensor 'args_1:0' shape=(1, 24, 1) dtype=float64>,))\n",
      "    kwargs: {}\n",
      "\n",
      "INFO:tensorflow:Converted call: <function TensorLikeDataAdapter.__init__.<locals>.permutation at 0x0000019A057FAB70>\n",
      "    args: (<tf.Tensor 'args_0:0' shape=() dtype=int64>,)\n",
      "    kwargs: {}\n",
      "\n",
      "INFO:tensorflow:Converted call: <function TensorLikeDataAdapter.__init__.<locals>.slice_batch_indices at 0x0000019A057FA7B8>\n",
      "    args: (<tf.Tensor 'args_0:0' shape=(1,) dtype=int64>,)\n",
      "    kwargs: {}\n",
      "\n",
      "INFO:tensorflow:Converted call: <function TensorLikeDataAdapter.slice_inputs.<locals>.grab_batch at 0x0000019A057FC378>\n",
      "    args: (<tf.Tensor 'args_0:0' shape=(None,) dtype=int64>, (<tf.Tensor 'args_1:0' shape=(1, 24, 1) dtype=float64>,))\n",
      "    kwargs: {}\n",
      "\n",
      "INFO:tensorflow:Converted call: <function TensorLikeDataAdapter.__init__.<locals>.permutation at 0x0000019A057FC730>\n",
      "    args: (<tf.Tensor 'args_0:0' shape=() dtype=int64>,)\n",
      "    kwargs: {}\n",
      "\n",
      "INFO:tensorflow:Converted call: <function TensorLikeDataAdapter.__init__.<locals>.slice_batch_indices at 0x0000019A057FCD90>\n",
      "    args: (<tf.Tensor 'args_0:0' shape=(1,) dtype=int64>,)\n",
      "    kwargs: {}\n",
      "\n",
      "INFO:tensorflow:Converted call: <function TensorLikeDataAdapter.slice_inputs.<locals>.grab_batch at 0x0000019A057FC6A8>\n",
      "    args: (<tf.Tensor 'args_0:0' shape=(None,) dtype=int64>, (<tf.Tensor 'args_1:0' shape=(1, 24, 1) dtype=float64>,))\n",
      "    kwargs: {}\n",
      "\n",
      "INFO:tensorflow:Converted call: <function TensorLikeDataAdapter.__init__.<locals>.permutation at 0x0000019A057FC620>\n",
      "    args: (<tf.Tensor 'args_0:0' shape=() dtype=int64>,)\n",
      "    kwargs: {}\n",
      "\n",
      "INFO:tensorflow:Converted call: <function TensorLikeDataAdapter.__init__.<locals>.slice_batch_indices at 0x0000019A057FC9D8>\n",
      "    args: (<tf.Tensor 'args_0:0' shape=(1,) dtype=int64>,)\n",
      "    kwargs: {}\n",
      "\n",
      "INFO:tensorflow:Converted call: <function TensorLikeDataAdapter.slice_inputs.<locals>.grab_batch at 0x0000019A08A6AE18>\n",
      "    args: (<tf.Tensor 'args_0:0' shape=(None,) dtype=int64>, (<tf.Tensor 'args_1:0' shape=(1, 24, 1) dtype=float64>,))\n",
      "    kwargs: {}\n",
      "\n"
     ]
    }
   ],
   "source": [
    "# Checking the world population in 2030\n",
    "pop_ts = TimeSeriesPredictor(pop_sums, 24 , 1)"
   ]
  },
  {
   "cell_type": "code",
   "execution_count": 18,
   "metadata": {},
   "outputs": [],
   "source": [
    "# Extract out projections from the training functions\n",
    "obs_hist = obs_ts[0]\n",
    "obs_project = obs_ts[1]\n",
    "\n",
    "pop_hist = pop_ts[0]\n",
    "pop_project = pop_ts[1]"
   ]
  },
  {
   "cell_type": "code",
   "execution_count": 19,
   "metadata": {},
   "outputs": [
    {
     "data": {
      "application/vnd.plotly.v1+json": {
       "config": {
        "linkText": "Export to plot.ly",
        "plotlyServerURL": "https://plot.ly",
        "showLink": false
       },
       "data": [
        {
         "name": "Obesity",
         "type": "scatter",
         "x": [
          0,
          1,
          2,
          3,
          4,
          5,
          6,
          7,
          8,
          9,
          10,
          11,
          12,
          13,
          14,
          15,
          16,
          17,
          18,
          19,
          20,
          21,
          22,
          23,
          24,
          25,
          26,
          27,
          28,
          29,
          30,
          31,
          32,
          33,
          34,
          35,
          36,
          37,
          38,
          39,
          40,
          41,
          42,
          43,
          44,
          45,
          46,
          47,
          48,
          49,
          50,
          51,
          52,
          53,
          54,
          55,
          56,
          57,
          58,
          59,
          60,
          61,
          62,
          63,
          64,
          65,
          66,
          67,
          68,
          69,
          70,
          71,
          72,
          73,
          74,
          75,
          76,
          77,
          78,
          79,
          80,
          81,
          82,
          83,
          84,
          85,
          86,
          87,
          88,
          89,
          90,
          91,
          92,
          93,
          94,
          95,
          96,
          97,
          98,
          99
         ],
         "y": [
          0.4390396922826767,
          0.333257590730985,
          0.23237789670626322,
          0.11725619807839394,
          0.03642804967239499,
          0.05865304823964834,
          0.00780456094071269,
          0.00865907136661311,
          0.02064440678805113,
          0.01365419547073543,
          0.004451724972265462,
          0.005781246271605293,
          0.0082962685264647,
          0.004242309679587682,
          0.004055043216794729,
          0.0024809614988043904,
          0.004131935032395025,
          0.005466019657130043,
          0.0028157754180332026,
          0.0038666663070519767,
          0.0037550095779200396,
          0.0011239098384976387,
          0.001876299308302502,
          0.004496737053462614,
          0.0024722017891084156,
          0.0023798551822740896,
          0.003361050427580873,
          0.003723260092859467,
          0.005100424323851864,
          0.003336992464028299,
          0.0017727212980389595,
          0.0017665382862711947,
          0.0020676994851479926,
          0.002378285862505436,
          0.002804259721112127,
          0.0025190366820121803,
          0.003112506412435323,
          0.0016539631178602576,
          0.003268797474447638,
          0.003270316869020462,
          0.0031469208964457116,
          0.003414925808707873,
          0.0019379066846643884,
          0.0021804310381412506,
          0.003062244621105492,
          0.0020321703050285578,
          0.0019605521423121295,
          0.004147969186306,
          0.002442686469294131,
          0.002527609079455336,
          0.0028293078454832235,
          0.0017735872049039851,
          0.0027939769982670746,
          0.0012073599694607158,
          0.0016713821484396856,
          0.002633172902278602,
          0.0019903996920523546,
          0.001998347695916891,
          0.0021007941104471684,
          0.005289188819006085,
          0.001668328351418798,
          0.003495497726059208,
          0.0028301942996525518,
          0.0032439786785592637,
          0.004211341690582533,
          0.002453897711044798,
          0.002173708751797676,
          0.003445189455912138,
          0.003803014250782629,
          0.004573489461715023,
          0.0019946579122915864,
          0.003016894838462273,
          0.0043750313731531305,
          0.0019114289316348732,
          0.0018375641472327213,
          0.002523826260585338,
          0.0019562930101528764,
          0.0021877264177116254,
          0.003978077710295717,
          0.0017772770564382274,
          0.0014233593634950619,
          0.0024816858349367976,
          0.0030952237041977546,
          0.0018139441478221368,
          0.0025777104504716894,
          0.001448032659633706,
          0.002566689159721136,
          0.004010352383678158,
          0.002654300769791007,
          0.0026269489511226616,
          0.004719843855127692,
          0.002005050773732364,
          0.0019171214274441202,
          0.0008593178742254773,
          0.0019621636893134564,
          0.0017687795140470068,
          0.0014093178518426914,
          0.0024878102897976837,
          0.0018171578606901069,
          0.001647106371819973
         ]
        },
        {
         "name": "Population",
         "type": "scatter",
         "x": [
          0,
          1,
          2,
          3,
          4,
          5,
          6,
          7,
          8,
          9,
          10,
          11,
          12,
          13,
          14,
          15,
          16,
          17,
          18,
          19,
          20,
          21,
          22,
          23,
          24,
          25,
          26,
          27,
          28,
          29,
          30,
          31,
          32,
          33,
          34,
          35,
          36,
          37,
          38,
          39,
          40,
          41,
          42,
          43,
          44,
          45,
          46,
          47,
          48,
          49,
          50,
          51,
          52,
          53,
          54,
          55,
          56,
          57,
          58,
          59,
          60,
          61,
          62,
          63,
          64,
          65,
          66,
          67,
          68,
          69,
          70,
          71,
          72,
          73,
          74,
          75,
          76,
          77,
          78,
          79,
          80,
          81,
          82,
          83,
          84,
          85,
          86,
          87,
          88,
          89,
          90,
          91,
          92,
          93,
          94,
          95,
          96,
          97,
          98,
          99
         ],
         "y": [
          0.5660763084888458,
          0.4247395594914754,
          0.2890705317258835,
          0.13371840119361877,
          0.017457544337958097,
          0.2418050685276588,
          0.0052185209933668375,
          0.023600323125720024,
          0.043701877196629844,
          0.0482059878607591,
          0.0393717618038257,
          0.028516946981350582,
          0.01662361901253462,
          0.008841083385050297,
          0.0032877731136977673,
          0.008109503891319036,
          0.00838896220860382,
          0.003694045163380603,
          0.0053291801596060395,
          0.005743236746639013,
          0.004238646167020003,
          0.0035546086340521774,
          0.0026572764424296715,
          0.0027026303578168154,
          0.0035743374610319734,
          0.004538775499289234,
          0.00342218818453451,
          0.009105318070699772,
          0.005090445086049537,
          0.003503796838534375,
          0.006237217031108837,
          0.0033010469439129033,
          0.00504696477825443,
          0.0040747584619869786,
          0.0029289196633423367,
          0.0043820963862041635,
          0.0009768353193067014,
          0.005353296980805074,
          0.002901738897586862,
          0.0019896982897383473,
          0.0036104643174136677,
          0.004387993132695556,
          0.004815099877305329,
          0.0014324693862969677,
          0.004544074414297938,
          0.005288077440733711,
          0.005017027608118951,
          0.005113991559483111,
          0.004637667986874779,
          0.005751022060091297,
          0.0027900820520396032,
          0.002138115814886987,
          0.0038106561987660825,
          0.0026592002832330763,
          0.0035771836216251054,
          0.0024309363895251104,
          0.005639862463188668,
          0.0024030579952523112,
          0.004596816065410773,
          0.0020741458671788373,
          0.002309637415843705,
          0.0023075955493065217,
          0.0036248844699002802,
          0.0037729955511167645,
          0.0046535067570706206,
          0.0023920269838223853,
          0.003082542292152842,
          0.004257391788996756,
          0.0042835838394239545,
          0.004538302969497939,
          0.003598130696142713,
          0.002448973090698322,
          0.0031688648741692305,
          0.002703050777199678,
          0.0015600518478701513,
          0.0013377802485289674,
          0.0021808003851523003,
          0.001580787046502034,
          0.0030087585716197887,
          0.004202242785443862,
          0.002627800451591611,
          0.0019834069923187294,
          0.0025284483951206007,
          0.004149452395116289,
          0.00336128663426886,
          0.0018539673183113337,
          0.0037955060057962933,
          0.004792864279200633,
          0.002267765172291547,
          0.003801627433858812,
          0.002213788917288184,
          0.0026178174884989858,
          0.0016650261241011322,
          0.0030684779242922864,
          0.004205807150962452,
          0.002212845312897116,
          0.004690380611767371,
          0.004784018771412472,
          0.002048082552695026,
          0.005041865166276693
         ]
        }
       ],
       "layout": {
        "template": {
         "data": {
          "bar": [
           {
            "error_x": {
             "color": "#2a3f5f"
            },
            "error_y": {
             "color": "#2a3f5f"
            },
            "marker": {
             "line": {
              "color": "#E5ECF6",
              "width": 0.5
             }
            },
            "type": "bar"
           }
          ],
          "barpolar": [
           {
            "marker": {
             "line": {
              "color": "#E5ECF6",
              "width": 0.5
             }
            },
            "type": "barpolar"
           }
          ],
          "carpet": [
           {
            "aaxis": {
             "endlinecolor": "#2a3f5f",
             "gridcolor": "white",
             "linecolor": "white",
             "minorgridcolor": "white",
             "startlinecolor": "#2a3f5f"
            },
            "baxis": {
             "endlinecolor": "#2a3f5f",
             "gridcolor": "white",
             "linecolor": "white",
             "minorgridcolor": "white",
             "startlinecolor": "#2a3f5f"
            },
            "type": "carpet"
           }
          ],
          "choropleth": [
           {
            "colorbar": {
             "outlinewidth": 0,
             "ticks": ""
            },
            "type": "choropleth"
           }
          ],
          "contour": [
           {
            "colorbar": {
             "outlinewidth": 0,
             "ticks": ""
            },
            "colorscale": [
             [
              0,
              "#0d0887"
             ],
             [
              0.1111111111111111,
              "#46039f"
             ],
             [
              0.2222222222222222,
              "#7201a8"
             ],
             [
              0.3333333333333333,
              "#9c179e"
             ],
             [
              0.4444444444444444,
              "#bd3786"
             ],
             [
              0.5555555555555556,
              "#d8576b"
             ],
             [
              0.6666666666666666,
              "#ed7953"
             ],
             [
              0.7777777777777778,
              "#fb9f3a"
             ],
             [
              0.8888888888888888,
              "#fdca26"
             ],
             [
              1,
              "#f0f921"
             ]
            ],
            "type": "contour"
           }
          ],
          "contourcarpet": [
           {
            "colorbar": {
             "outlinewidth": 0,
             "ticks": ""
            },
            "type": "contourcarpet"
           }
          ],
          "heatmap": [
           {
            "colorbar": {
             "outlinewidth": 0,
             "ticks": ""
            },
            "colorscale": [
             [
              0,
              "#0d0887"
             ],
             [
              0.1111111111111111,
              "#46039f"
             ],
             [
              0.2222222222222222,
              "#7201a8"
             ],
             [
              0.3333333333333333,
              "#9c179e"
             ],
             [
              0.4444444444444444,
              "#bd3786"
             ],
             [
              0.5555555555555556,
              "#d8576b"
             ],
             [
              0.6666666666666666,
              "#ed7953"
             ],
             [
              0.7777777777777778,
              "#fb9f3a"
             ],
             [
              0.8888888888888888,
              "#fdca26"
             ],
             [
              1,
              "#f0f921"
             ]
            ],
            "type": "heatmap"
           }
          ],
          "heatmapgl": [
           {
            "colorbar": {
             "outlinewidth": 0,
             "ticks": ""
            },
            "colorscale": [
             [
              0,
              "#0d0887"
             ],
             [
              0.1111111111111111,
              "#46039f"
             ],
             [
              0.2222222222222222,
              "#7201a8"
             ],
             [
              0.3333333333333333,
              "#9c179e"
             ],
             [
              0.4444444444444444,
              "#bd3786"
             ],
             [
              0.5555555555555556,
              "#d8576b"
             ],
             [
              0.6666666666666666,
              "#ed7953"
             ],
             [
              0.7777777777777778,
              "#fb9f3a"
             ],
             [
              0.8888888888888888,
              "#fdca26"
             ],
             [
              1,
              "#f0f921"
             ]
            ],
            "type": "heatmapgl"
           }
          ],
          "histogram": [
           {
            "marker": {
             "colorbar": {
              "outlinewidth": 0,
              "ticks": ""
             }
            },
            "type": "histogram"
           }
          ],
          "histogram2d": [
           {
            "colorbar": {
             "outlinewidth": 0,
             "ticks": ""
            },
            "colorscale": [
             [
              0,
              "#0d0887"
             ],
             [
              0.1111111111111111,
              "#46039f"
             ],
             [
              0.2222222222222222,
              "#7201a8"
             ],
             [
              0.3333333333333333,
              "#9c179e"
             ],
             [
              0.4444444444444444,
              "#bd3786"
             ],
             [
              0.5555555555555556,
              "#d8576b"
             ],
             [
              0.6666666666666666,
              "#ed7953"
             ],
             [
              0.7777777777777778,
              "#fb9f3a"
             ],
             [
              0.8888888888888888,
              "#fdca26"
             ],
             [
              1,
              "#f0f921"
             ]
            ],
            "type": "histogram2d"
           }
          ],
          "histogram2dcontour": [
           {
            "colorbar": {
             "outlinewidth": 0,
             "ticks": ""
            },
            "colorscale": [
             [
              0,
              "#0d0887"
             ],
             [
              0.1111111111111111,
              "#46039f"
             ],
             [
              0.2222222222222222,
              "#7201a8"
             ],
             [
              0.3333333333333333,
              "#9c179e"
             ],
             [
              0.4444444444444444,
              "#bd3786"
             ],
             [
              0.5555555555555556,
              "#d8576b"
             ],
             [
              0.6666666666666666,
              "#ed7953"
             ],
             [
              0.7777777777777778,
              "#fb9f3a"
             ],
             [
              0.8888888888888888,
              "#fdca26"
             ],
             [
              1,
              "#f0f921"
             ]
            ],
            "type": "histogram2dcontour"
           }
          ],
          "mesh3d": [
           {
            "colorbar": {
             "outlinewidth": 0,
             "ticks": ""
            },
            "type": "mesh3d"
           }
          ],
          "parcoords": [
           {
            "line": {
             "colorbar": {
              "outlinewidth": 0,
              "ticks": ""
             }
            },
            "type": "parcoords"
           }
          ],
          "scatter": [
           {
            "marker": {
             "colorbar": {
              "outlinewidth": 0,
              "ticks": ""
             }
            },
            "type": "scatter"
           }
          ],
          "scatter3d": [
           {
            "line": {
             "colorbar": {
              "outlinewidth": 0,
              "ticks": ""
             }
            },
            "marker": {
             "colorbar": {
              "outlinewidth": 0,
              "ticks": ""
             }
            },
            "type": "scatter3d"
           }
          ],
          "scattercarpet": [
           {
            "marker": {
             "colorbar": {
              "outlinewidth": 0,
              "ticks": ""
             }
            },
            "type": "scattercarpet"
           }
          ],
          "scattergeo": [
           {
            "marker": {
             "colorbar": {
              "outlinewidth": 0,
              "ticks": ""
             }
            },
            "type": "scattergeo"
           }
          ],
          "scattergl": [
           {
            "marker": {
             "colorbar": {
              "outlinewidth": 0,
              "ticks": ""
             }
            },
            "type": "scattergl"
           }
          ],
          "scattermapbox": [
           {
            "marker": {
             "colorbar": {
              "outlinewidth": 0,
              "ticks": ""
             }
            },
            "type": "scattermapbox"
           }
          ],
          "scatterpolar": [
           {
            "marker": {
             "colorbar": {
              "outlinewidth": 0,
              "ticks": ""
             }
            },
            "type": "scatterpolar"
           }
          ],
          "scatterpolargl": [
           {
            "marker": {
             "colorbar": {
              "outlinewidth": 0,
              "ticks": ""
             }
            },
            "type": "scatterpolargl"
           }
          ],
          "scatterternary": [
           {
            "marker": {
             "colorbar": {
              "outlinewidth": 0,
              "ticks": ""
             }
            },
            "type": "scatterternary"
           }
          ],
          "surface": [
           {
            "colorbar": {
             "outlinewidth": 0,
             "ticks": ""
            },
            "colorscale": [
             [
              0,
              "#0d0887"
             ],
             [
              0.1111111111111111,
              "#46039f"
             ],
             [
              0.2222222222222222,
              "#7201a8"
             ],
             [
              0.3333333333333333,
              "#9c179e"
             ],
             [
              0.4444444444444444,
              "#bd3786"
             ],
             [
              0.5555555555555556,
              "#d8576b"
             ],
             [
              0.6666666666666666,
              "#ed7953"
             ],
             [
              0.7777777777777778,
              "#fb9f3a"
             ],
             [
              0.8888888888888888,
              "#fdca26"
             ],
             [
              1,
              "#f0f921"
             ]
            ],
            "type": "surface"
           }
          ],
          "table": [
           {
            "cells": {
             "fill": {
              "color": "#EBF0F8"
             },
             "line": {
              "color": "white"
             }
            },
            "header": {
             "fill": {
              "color": "#C8D4E3"
             },
             "line": {
              "color": "white"
             }
            },
            "type": "table"
           }
          ]
         },
         "layout": {
          "annotationdefaults": {
           "arrowcolor": "#2a3f5f",
           "arrowhead": 0,
           "arrowwidth": 1
          },
          "colorscale": {
           "diverging": [
            [
             0,
             "#8e0152"
            ],
            [
             0.1,
             "#c51b7d"
            ],
            [
             0.2,
             "#de77ae"
            ],
            [
             0.3,
             "#f1b6da"
            ],
            [
             0.4,
             "#fde0ef"
            ],
            [
             0.5,
             "#f7f7f7"
            ],
            [
             0.6,
             "#e6f5d0"
            ],
            [
             0.7,
             "#b8e186"
            ],
            [
             0.8,
             "#7fbc41"
            ],
            [
             0.9,
             "#4d9221"
            ],
            [
             1,
             "#276419"
            ]
           ],
           "sequential": [
            [
             0,
             "#0d0887"
            ],
            [
             0.1111111111111111,
             "#46039f"
            ],
            [
             0.2222222222222222,
             "#7201a8"
            ],
            [
             0.3333333333333333,
             "#9c179e"
            ],
            [
             0.4444444444444444,
             "#bd3786"
            ],
            [
             0.5555555555555556,
             "#d8576b"
            ],
            [
             0.6666666666666666,
             "#ed7953"
            ],
            [
             0.7777777777777778,
             "#fb9f3a"
            ],
            [
             0.8888888888888888,
             "#fdca26"
            ],
            [
             1,
             "#f0f921"
            ]
           ],
           "sequentialminus": [
            [
             0,
             "#0d0887"
            ],
            [
             0.1111111111111111,
             "#46039f"
            ],
            [
             0.2222222222222222,
             "#7201a8"
            ],
            [
             0.3333333333333333,
             "#9c179e"
            ],
            [
             0.4444444444444444,
             "#bd3786"
            ],
            [
             0.5555555555555556,
             "#d8576b"
            ],
            [
             0.6666666666666666,
             "#ed7953"
            ],
            [
             0.7777777777777778,
             "#fb9f3a"
            ],
            [
             0.8888888888888888,
             "#fdca26"
            ],
            [
             1,
             "#f0f921"
            ]
           ]
          },
          "colorway": [
           "#636efa",
           "#EF553B",
           "#00cc96",
           "#ab63fa",
           "#FFA15A",
           "#19d3f3",
           "#FF6692",
           "#B6E880",
           "#FF97FF",
           "#FECB52"
          ],
          "font": {
           "color": "#2a3f5f"
          },
          "geo": {
           "bgcolor": "white",
           "lakecolor": "white",
           "landcolor": "#E5ECF6",
           "showlakes": true,
           "showland": true,
           "subunitcolor": "white"
          },
          "hoverlabel": {
           "align": "left"
          },
          "hovermode": "closest",
          "mapbox": {
           "style": "light"
          },
          "paper_bgcolor": "white",
          "plot_bgcolor": "#E5ECF6",
          "polar": {
           "angularaxis": {
            "gridcolor": "white",
            "linecolor": "white",
            "ticks": ""
           },
           "bgcolor": "#E5ECF6",
           "radialaxis": {
            "gridcolor": "white",
            "linecolor": "white",
            "ticks": ""
           }
          },
          "scene": {
           "xaxis": {
            "backgroundcolor": "#E5ECF6",
            "gridcolor": "white",
            "gridwidth": 2,
            "linecolor": "white",
            "showbackground": true,
            "ticks": "",
            "zerolinecolor": "white"
           },
           "yaxis": {
            "backgroundcolor": "#E5ECF6",
            "gridcolor": "white",
            "gridwidth": 2,
            "linecolor": "white",
            "showbackground": true,
            "ticks": "",
            "zerolinecolor": "white"
           },
           "zaxis": {
            "backgroundcolor": "#E5ECF6",
            "gridcolor": "white",
            "gridwidth": 2,
            "linecolor": "white",
            "showbackground": true,
            "ticks": "",
            "zerolinecolor": "white"
           }
          },
          "shapedefaults": {
           "line": {
            "color": "#2a3f5f"
           }
          },
          "ternary": {
           "aaxis": {
            "gridcolor": "white",
            "linecolor": "white",
            "ticks": ""
           },
           "baxis": {
            "gridcolor": "white",
            "linecolor": "white",
            "ticks": ""
           },
           "bgcolor": "#E5ECF6",
           "caxis": {
            "gridcolor": "white",
            "linecolor": "white",
            "ticks": ""
           }
          },
          "title": {
           "x": 0.05
          },
          "xaxis": {
           "automargin": true,
           "gridcolor": "white",
           "linecolor": "white",
           "ticks": "",
           "zerolinecolor": "white",
           "zerolinewidth": 2
          },
          "yaxis": {
           "automargin": true,
           "gridcolor": "white",
           "linecolor": "white",
           "ticks": "",
           "zerolinecolor": "white",
           "zerolinewidth": 2
          }
         }
        },
        "title": {
         "text": "Training Losses"
        }
       }
      },
      "text/html": [
       "<div>\n",
       "        \n",
       "        \n",
       "            <div id=\"86d2cc12-8d55-498a-b173-59575212c404\" class=\"plotly-graph-div\" style=\"height:525px; width:100%;\"></div>\n",
       "            <script type=\"text/javascript\">\n",
       "                require([\"plotly\"], function(Plotly) {\n",
       "                    window.PLOTLYENV=window.PLOTLYENV || {};\n",
       "                    \n",
       "                if (document.getElementById(\"86d2cc12-8d55-498a-b173-59575212c404\")) {\n",
       "                    Plotly.newPlot(\n",
       "                        '86d2cc12-8d55-498a-b173-59575212c404',\n",
       "                        [{\"name\": \"Obesity\", \"type\": \"scatter\", \"x\": [0, 1, 2, 3, 4, 5, 6, 7, 8, 9, 10, 11, 12, 13, 14, 15, 16, 17, 18, 19, 20, 21, 22, 23, 24, 25, 26, 27, 28, 29, 30, 31, 32, 33, 34, 35, 36, 37, 38, 39, 40, 41, 42, 43, 44, 45, 46, 47, 48, 49, 50, 51, 52, 53, 54, 55, 56, 57, 58, 59, 60, 61, 62, 63, 64, 65, 66, 67, 68, 69, 70, 71, 72, 73, 74, 75, 76, 77, 78, 79, 80, 81, 82, 83, 84, 85, 86, 87, 88, 89, 90, 91, 92, 93, 94, 95, 96, 97, 98, 99], \"y\": [0.4390396922826767, 0.333257590730985, 0.23237789670626322, 0.11725619807839394, 0.03642804967239499, 0.05865304823964834, 0.00780456094071269, 0.00865907136661311, 0.02064440678805113, 0.01365419547073543, 0.004451724972265462, 0.005781246271605293, 0.0082962685264647, 0.004242309679587682, 0.004055043216794729, 0.0024809614988043904, 0.004131935032395025, 0.005466019657130043, 0.0028157754180332026, 0.0038666663070519767, 0.0037550095779200396, 0.0011239098384976387, 0.001876299308302502, 0.004496737053462614, 0.0024722017891084156, 0.0023798551822740896, 0.003361050427580873, 0.003723260092859467, 0.005100424323851864, 0.003336992464028299, 0.0017727212980389595, 0.0017665382862711947, 0.0020676994851479926, 0.002378285862505436, 0.002804259721112127, 0.0025190366820121803, 0.003112506412435323, 0.0016539631178602576, 0.003268797474447638, 0.003270316869020462, 0.0031469208964457116, 0.003414925808707873, 0.0019379066846643884, 0.0021804310381412506, 0.003062244621105492, 0.0020321703050285578, 0.0019605521423121295, 0.004147969186306, 0.002442686469294131, 0.002527609079455336, 0.0028293078454832235, 0.0017735872049039851, 0.0027939769982670746, 0.0012073599694607158, 0.0016713821484396856, 0.002633172902278602, 0.0019903996920523546, 0.001998347695916891, 0.0021007941104471684, 0.005289188819006085, 0.001668328351418798, 0.003495497726059208, 0.0028301942996525518, 0.0032439786785592637, 0.004211341690582533, 0.002453897711044798, 0.002173708751797676, 0.003445189455912138, 0.003803014250782629, 0.004573489461715023, 0.0019946579122915864, 0.003016894838462273, 0.0043750313731531305, 0.0019114289316348732, 0.0018375641472327213, 0.002523826260585338, 0.0019562930101528764, 0.0021877264177116254, 0.003978077710295717, 0.0017772770564382274, 0.0014233593634950619, 0.0024816858349367976, 0.0030952237041977546, 0.0018139441478221368, 0.0025777104504716894, 0.001448032659633706, 0.002566689159721136, 0.004010352383678158, 0.002654300769791007, 0.0026269489511226616, 0.004719843855127692, 0.002005050773732364, 0.0019171214274441202, 0.0008593178742254773, 0.0019621636893134564, 0.0017687795140470068, 0.0014093178518426914, 0.0024878102897976837, 0.0018171578606901069, 0.001647106371819973]}, {\"name\": \"Population\", \"type\": \"scatter\", \"x\": [0, 1, 2, 3, 4, 5, 6, 7, 8, 9, 10, 11, 12, 13, 14, 15, 16, 17, 18, 19, 20, 21, 22, 23, 24, 25, 26, 27, 28, 29, 30, 31, 32, 33, 34, 35, 36, 37, 38, 39, 40, 41, 42, 43, 44, 45, 46, 47, 48, 49, 50, 51, 52, 53, 54, 55, 56, 57, 58, 59, 60, 61, 62, 63, 64, 65, 66, 67, 68, 69, 70, 71, 72, 73, 74, 75, 76, 77, 78, 79, 80, 81, 82, 83, 84, 85, 86, 87, 88, 89, 90, 91, 92, 93, 94, 95, 96, 97, 98, 99], \"y\": [0.5660763084888458, 0.4247395594914754, 0.2890705317258835, 0.13371840119361877, 0.017457544337958097, 0.2418050685276588, 0.0052185209933668375, 0.023600323125720024, 0.043701877196629844, 0.0482059878607591, 0.0393717618038257, 0.028516946981350582, 0.01662361901253462, 0.008841083385050297, 0.0032877731136977673, 0.008109503891319036, 0.00838896220860382, 0.003694045163380603, 0.0053291801596060395, 0.005743236746639013, 0.004238646167020003, 0.0035546086340521774, 0.0026572764424296715, 0.0027026303578168154, 0.0035743374610319734, 0.004538775499289234, 0.00342218818453451, 0.009105318070699772, 0.005090445086049537, 0.003503796838534375, 0.006237217031108837, 0.0033010469439129033, 0.00504696477825443, 0.0040747584619869786, 0.0029289196633423367, 0.0043820963862041635, 0.0009768353193067014, 0.005353296980805074, 0.002901738897586862, 0.0019896982897383473, 0.0036104643174136677, 0.004387993132695556, 0.004815099877305329, 0.0014324693862969677, 0.004544074414297938, 0.005288077440733711, 0.005017027608118951, 0.005113991559483111, 0.004637667986874779, 0.005751022060091297, 0.0027900820520396032, 0.002138115814886987, 0.0038106561987660825, 0.0026592002832330763, 0.0035771836216251054, 0.0024309363895251104, 0.005639862463188668, 0.0024030579952523112, 0.004596816065410773, 0.0020741458671788373, 0.002309637415843705, 0.0023075955493065217, 0.0036248844699002802, 0.0037729955511167645, 0.0046535067570706206, 0.0023920269838223853, 0.003082542292152842, 0.004257391788996756, 0.0042835838394239545, 0.004538302969497939, 0.003598130696142713, 0.002448973090698322, 0.0031688648741692305, 0.002703050777199678, 0.0015600518478701513, 0.0013377802485289674, 0.0021808003851523003, 0.001580787046502034, 0.0030087585716197887, 0.004202242785443862, 0.002627800451591611, 0.0019834069923187294, 0.0025284483951206007, 0.004149452395116289, 0.00336128663426886, 0.0018539673183113337, 0.0037955060057962933, 0.004792864279200633, 0.002267765172291547, 0.003801627433858812, 0.002213788917288184, 0.0026178174884989858, 0.0016650261241011322, 0.0030684779242922864, 0.004205807150962452, 0.002212845312897116, 0.004690380611767371, 0.004784018771412472, 0.002048082552695026, 0.005041865166276693]}],\n",
       "                        {\"template\": {\"data\": {\"bar\": [{\"error_x\": {\"color\": \"#2a3f5f\"}, \"error_y\": {\"color\": \"#2a3f5f\"}, \"marker\": {\"line\": {\"color\": \"#E5ECF6\", \"width\": 0.5}}, \"type\": \"bar\"}], \"barpolar\": [{\"marker\": {\"line\": {\"color\": \"#E5ECF6\", \"width\": 0.5}}, \"type\": \"barpolar\"}], \"carpet\": [{\"aaxis\": {\"endlinecolor\": \"#2a3f5f\", \"gridcolor\": \"white\", \"linecolor\": \"white\", \"minorgridcolor\": \"white\", \"startlinecolor\": \"#2a3f5f\"}, \"baxis\": {\"endlinecolor\": \"#2a3f5f\", \"gridcolor\": \"white\", \"linecolor\": \"white\", \"minorgridcolor\": \"white\", \"startlinecolor\": \"#2a3f5f\"}, \"type\": \"carpet\"}], \"choropleth\": [{\"colorbar\": {\"outlinewidth\": 0, \"ticks\": \"\"}, \"type\": \"choropleth\"}], \"contour\": [{\"colorbar\": {\"outlinewidth\": 0, \"ticks\": \"\"}, \"colorscale\": [[0.0, \"#0d0887\"], [0.1111111111111111, \"#46039f\"], [0.2222222222222222, \"#7201a8\"], [0.3333333333333333, \"#9c179e\"], [0.4444444444444444, \"#bd3786\"], [0.5555555555555556, \"#d8576b\"], [0.6666666666666666, \"#ed7953\"], [0.7777777777777778, \"#fb9f3a\"], [0.8888888888888888, \"#fdca26\"], [1.0, \"#f0f921\"]], \"type\": \"contour\"}], \"contourcarpet\": [{\"colorbar\": {\"outlinewidth\": 0, \"ticks\": \"\"}, \"type\": \"contourcarpet\"}], \"heatmap\": [{\"colorbar\": {\"outlinewidth\": 0, \"ticks\": \"\"}, \"colorscale\": [[0.0, \"#0d0887\"], [0.1111111111111111, \"#46039f\"], [0.2222222222222222, \"#7201a8\"], [0.3333333333333333, \"#9c179e\"], [0.4444444444444444, \"#bd3786\"], [0.5555555555555556, \"#d8576b\"], [0.6666666666666666, \"#ed7953\"], [0.7777777777777778, \"#fb9f3a\"], [0.8888888888888888, \"#fdca26\"], [1.0, \"#f0f921\"]], \"type\": \"heatmap\"}], \"heatmapgl\": [{\"colorbar\": {\"outlinewidth\": 0, \"ticks\": \"\"}, \"colorscale\": [[0.0, \"#0d0887\"], [0.1111111111111111, \"#46039f\"], [0.2222222222222222, \"#7201a8\"], [0.3333333333333333, \"#9c179e\"], [0.4444444444444444, \"#bd3786\"], [0.5555555555555556, \"#d8576b\"], [0.6666666666666666, \"#ed7953\"], [0.7777777777777778, \"#fb9f3a\"], [0.8888888888888888, \"#fdca26\"], [1.0, \"#f0f921\"]], \"type\": \"heatmapgl\"}], \"histogram\": [{\"marker\": {\"colorbar\": {\"outlinewidth\": 0, \"ticks\": \"\"}}, \"type\": \"histogram\"}], \"histogram2d\": [{\"colorbar\": {\"outlinewidth\": 0, \"ticks\": \"\"}, \"colorscale\": [[0.0, \"#0d0887\"], [0.1111111111111111, \"#46039f\"], [0.2222222222222222, \"#7201a8\"], [0.3333333333333333, \"#9c179e\"], [0.4444444444444444, \"#bd3786\"], [0.5555555555555556, \"#d8576b\"], [0.6666666666666666, \"#ed7953\"], [0.7777777777777778, \"#fb9f3a\"], [0.8888888888888888, \"#fdca26\"], [1.0, \"#f0f921\"]], \"type\": \"histogram2d\"}], \"histogram2dcontour\": [{\"colorbar\": {\"outlinewidth\": 0, \"ticks\": \"\"}, \"colorscale\": [[0.0, \"#0d0887\"], [0.1111111111111111, \"#46039f\"], [0.2222222222222222, \"#7201a8\"], [0.3333333333333333, \"#9c179e\"], [0.4444444444444444, \"#bd3786\"], [0.5555555555555556, \"#d8576b\"], [0.6666666666666666, \"#ed7953\"], [0.7777777777777778, \"#fb9f3a\"], [0.8888888888888888, \"#fdca26\"], [1.0, \"#f0f921\"]], \"type\": \"histogram2dcontour\"}], \"mesh3d\": [{\"colorbar\": {\"outlinewidth\": 0, \"ticks\": \"\"}, \"type\": \"mesh3d\"}], \"parcoords\": [{\"line\": {\"colorbar\": {\"outlinewidth\": 0, \"ticks\": \"\"}}, \"type\": \"parcoords\"}], \"scatter\": [{\"marker\": {\"colorbar\": {\"outlinewidth\": 0, \"ticks\": \"\"}}, \"type\": \"scatter\"}], \"scatter3d\": [{\"line\": {\"colorbar\": {\"outlinewidth\": 0, \"ticks\": \"\"}}, \"marker\": {\"colorbar\": {\"outlinewidth\": 0, \"ticks\": \"\"}}, \"type\": \"scatter3d\"}], \"scattercarpet\": [{\"marker\": {\"colorbar\": {\"outlinewidth\": 0, \"ticks\": \"\"}}, \"type\": \"scattercarpet\"}], \"scattergeo\": [{\"marker\": {\"colorbar\": {\"outlinewidth\": 0, \"ticks\": \"\"}}, \"type\": \"scattergeo\"}], \"scattergl\": [{\"marker\": {\"colorbar\": {\"outlinewidth\": 0, \"ticks\": \"\"}}, \"type\": \"scattergl\"}], \"scattermapbox\": [{\"marker\": {\"colorbar\": {\"outlinewidth\": 0, \"ticks\": \"\"}}, \"type\": \"scattermapbox\"}], \"scatterpolar\": [{\"marker\": {\"colorbar\": {\"outlinewidth\": 0, \"ticks\": \"\"}}, \"type\": \"scatterpolar\"}], \"scatterpolargl\": [{\"marker\": {\"colorbar\": {\"outlinewidth\": 0, \"ticks\": \"\"}}, \"type\": \"scatterpolargl\"}], \"scatterternary\": [{\"marker\": {\"colorbar\": {\"outlinewidth\": 0, \"ticks\": \"\"}}, \"type\": \"scatterternary\"}], \"surface\": [{\"colorbar\": {\"outlinewidth\": 0, \"ticks\": \"\"}, \"colorscale\": [[0.0, \"#0d0887\"], [0.1111111111111111, \"#46039f\"], [0.2222222222222222, \"#7201a8\"], [0.3333333333333333, \"#9c179e\"], [0.4444444444444444, \"#bd3786\"], [0.5555555555555556, \"#d8576b\"], [0.6666666666666666, \"#ed7953\"], [0.7777777777777778, \"#fb9f3a\"], [0.8888888888888888, \"#fdca26\"], [1.0, \"#f0f921\"]], \"type\": \"surface\"}], \"table\": [{\"cells\": {\"fill\": {\"color\": \"#EBF0F8\"}, \"line\": {\"color\": \"white\"}}, \"header\": {\"fill\": {\"color\": \"#C8D4E3\"}, \"line\": {\"color\": \"white\"}}, \"type\": \"table\"}]}, \"layout\": {\"annotationdefaults\": {\"arrowcolor\": \"#2a3f5f\", \"arrowhead\": 0, \"arrowwidth\": 1}, \"colorscale\": {\"diverging\": [[0, \"#8e0152\"], [0.1, \"#c51b7d\"], [0.2, \"#de77ae\"], [0.3, \"#f1b6da\"], [0.4, \"#fde0ef\"], [0.5, \"#f7f7f7\"], [0.6, \"#e6f5d0\"], [0.7, \"#b8e186\"], [0.8, \"#7fbc41\"], [0.9, \"#4d9221\"], [1, \"#276419\"]], \"sequential\": [[0.0, \"#0d0887\"], [0.1111111111111111, \"#46039f\"], [0.2222222222222222, \"#7201a8\"], [0.3333333333333333, \"#9c179e\"], [0.4444444444444444, \"#bd3786\"], [0.5555555555555556, \"#d8576b\"], [0.6666666666666666, \"#ed7953\"], [0.7777777777777778, \"#fb9f3a\"], [0.8888888888888888, \"#fdca26\"], [1.0, \"#f0f921\"]], \"sequentialminus\": [[0.0, \"#0d0887\"], [0.1111111111111111, \"#46039f\"], [0.2222222222222222, \"#7201a8\"], [0.3333333333333333, \"#9c179e\"], [0.4444444444444444, \"#bd3786\"], [0.5555555555555556, \"#d8576b\"], [0.6666666666666666, \"#ed7953\"], [0.7777777777777778, \"#fb9f3a\"], [0.8888888888888888, \"#fdca26\"], [1.0, \"#f0f921\"]]}, \"colorway\": [\"#636efa\", \"#EF553B\", \"#00cc96\", \"#ab63fa\", \"#FFA15A\", \"#19d3f3\", \"#FF6692\", \"#B6E880\", \"#FF97FF\", \"#FECB52\"], \"font\": {\"color\": \"#2a3f5f\"}, \"geo\": {\"bgcolor\": \"white\", \"lakecolor\": \"white\", \"landcolor\": \"#E5ECF6\", \"showlakes\": true, \"showland\": true, \"subunitcolor\": \"white\"}, \"hoverlabel\": {\"align\": \"left\"}, \"hovermode\": \"closest\", \"mapbox\": {\"style\": \"light\"}, \"paper_bgcolor\": \"white\", \"plot_bgcolor\": \"#E5ECF6\", \"polar\": {\"angularaxis\": {\"gridcolor\": \"white\", \"linecolor\": \"white\", \"ticks\": \"\"}, \"bgcolor\": \"#E5ECF6\", \"radialaxis\": {\"gridcolor\": \"white\", \"linecolor\": \"white\", \"ticks\": \"\"}}, \"scene\": {\"xaxis\": {\"backgroundcolor\": \"#E5ECF6\", \"gridcolor\": \"white\", \"gridwidth\": 2, \"linecolor\": \"white\", \"showbackground\": true, \"ticks\": \"\", \"zerolinecolor\": \"white\"}, \"yaxis\": {\"backgroundcolor\": \"#E5ECF6\", \"gridcolor\": \"white\", \"gridwidth\": 2, \"linecolor\": \"white\", \"showbackground\": true, \"ticks\": \"\", \"zerolinecolor\": \"white\"}, \"zaxis\": {\"backgroundcolor\": \"#E5ECF6\", \"gridcolor\": \"white\", \"gridwidth\": 2, \"linecolor\": \"white\", \"showbackground\": true, \"ticks\": \"\", \"zerolinecolor\": \"white\"}}, \"shapedefaults\": {\"line\": {\"color\": \"#2a3f5f\"}}, \"ternary\": {\"aaxis\": {\"gridcolor\": \"white\", \"linecolor\": \"white\", \"ticks\": \"\"}, \"baxis\": {\"gridcolor\": \"white\", \"linecolor\": \"white\", \"ticks\": \"\"}, \"bgcolor\": \"#E5ECF6\", \"caxis\": {\"gridcolor\": \"white\", \"linecolor\": \"white\", \"ticks\": \"\"}}, \"title\": {\"x\": 0.05}, \"xaxis\": {\"automargin\": true, \"gridcolor\": \"white\", \"linecolor\": \"white\", \"ticks\": \"\", \"zerolinecolor\": \"white\", \"zerolinewidth\": 2}, \"yaxis\": {\"automargin\": true, \"gridcolor\": \"white\", \"linecolor\": \"white\", \"ticks\": \"\", \"zerolinecolor\": \"white\", \"zerolinewidth\": 2}}}, \"title\": {\"text\": \"Training Losses\"}},\n",
       "                        {\"responsive\": true}\n",
       "                    ).then(function(){\n",
       "                            \n",
       "var gd = document.getElementById('86d2cc12-8d55-498a-b173-59575212c404');\n",
       "var x = new MutationObserver(function (mutations, observer) {{\n",
       "        var display = window.getComputedStyle(gd).display;\n",
       "        if (!display || display === 'none') {{\n",
       "            console.log([gd, 'removed!']);\n",
       "            Plotly.purge(gd);\n",
       "            observer.disconnect();\n",
       "        }}\n",
       "}});\n",
       "\n",
       "// Listen for the removal of the full notebook cells\n",
       "var notebookContainer = gd.closest('#notebook-container');\n",
       "if (notebookContainer) {{\n",
       "    x.observe(notebookContainer, {childList: true});\n",
       "}}\n",
       "\n",
       "// Listen for the clearing of the current output cell\n",
       "var outputEl = gd.closest('.output');\n",
       "if (outputEl) {{\n",
       "    x.observe(outputEl, {childList: true});\n",
       "}}\n",
       "\n",
       "                        })\n",
       "                };\n",
       "                });\n",
       "            </script>\n",
       "        </div>"
      ]
     },
     "metadata": {},
     "output_type": "display_data"
    }
   ],
   "source": [
    "# How much loss did we see when training our model?\n",
    "plot_data = [go.Scatter(x = obs_hist['epoch'], \n",
    "                        y = obs_hist['loss'], \n",
    "                        name = 'Obesity'),\n",
    "             go.Scatter(x = pop_hist['epoch'], \n",
    "                        y = pop_hist['loss'], \n",
    "                        name = 'Population')]\n",
    "\n",
    "plot_layout = go.Layout(title = 'Training Losses')\n",
    "\n",
    "fig = go.Figure(data = plot_data, layout = plot_layout)\n",
    "\n",
    "pyoff.iplot(fig)"
   ]
  },
  {
   "cell_type": "code",
   "execution_count": 29,
   "metadata": {},
   "outputs": [
    {
     "data": {
      "application/vnd.plotly.v1+json": {
       "config": {
        "plotlyServerURL": "https://plot.ly"
       },
       "data": [
        {
         "name": "Actual Pop",
         "opacity": 0.75,
         "type": "bar",
         "x": [
          "1975-01-01T00:00:00",
          "1976-01-01T00:00:00",
          "1977-01-01T00:00:00",
          "1978-01-01T00:00:00",
          "1979-01-01T00:00:00",
          "1980-01-01T00:00:00",
          "1981-01-01T00:00:00",
          "1982-01-01T00:00:00",
          "1983-01-01T00:00:00",
          "1984-01-01T00:00:00",
          "1985-01-01T00:00:00",
          "1986-01-01T00:00:00",
          "1987-01-01T00:00:00",
          "1988-01-01T00:00:00",
          "1989-01-01T00:00:00",
          "1990-01-01T00:00:00",
          "1991-01-01T00:00:00",
          "1992-01-01T00:00:00",
          "1993-01-01T00:00:00",
          "1994-01-01T00:00:00",
          "1995-01-01T00:00:00",
          "1996-01-01T00:00:00",
          "1997-01-01T00:00:00",
          "1998-01-01T00:00:00",
          "1999-01-01T00:00:00",
          "2000-01-01T00:00:00",
          "2001-01-01T00:00:00",
          "2002-01-01T00:00:00",
          "2003-01-01T00:00:00",
          "2004-01-01T00:00:00",
          "2005-01-01T00:00:00",
          "2006-01-01T00:00:00",
          "2007-01-01T00:00:00",
          "2008-01-01T00:00:00",
          "2009-01-01T00:00:00",
          "2010-01-01T00:00:00",
          "2011-01-01T00:00:00",
          "2012-01-01T00:00:00",
          "2013-01-01T00:00:00",
          "2014-01-01T00:00:00",
          "2015-01-01T00:00:00",
          "2016-01-01T00:00:00",
          "2017-01-01T00:00:00",
          "2018-01-01T00:00:00",
          "2019-01-01T00:00:00",
          "2020-01-01T00:00:00",
          "2021-01-01T00:00:00",
          "2022-01-01T00:00:00",
          "2023-01-01T00:00:00",
          "2024-01-01T00:00:00",
          "2025-01-01T00:00:00",
          "2026-01-01T00:00:00",
          "2027-01-01T00:00:00",
          "2028-01-01T00:00:00",
          "2029-01-01T00:00:00",
          "2030-01-01T00:00:00",
          "2031-01-01T00:00:00",
          "2032-01-01T00:00:00",
          "2033-01-01T00:00:00",
          "2034-01-01T00:00:00",
          "2035-01-01T00:00:00",
          "2036-01-01T00:00:00",
          "2037-01-01T00:00:00",
          "2038-01-01T00:00:00",
          "2039-01-01T00:00:00",
          "2040-01-01T00:00:00"
         ],
         "y": [
          2445823297,
          2498616121,
          2583691665,
          2643168001,
          2705040608,
          2767977050,
          2832320001,
          2898084147,
          2964288852,
          3030891648,
          3098855592,
          3162919221,
          3229334431,
          3296907648,
          3364998707,
          3506689498,
          3571209462,
          3637961217,
          3708349412,
          3778999785,
          3850315150,
          3925675840,
          3997880893,
          4069225019,
          4143409388,
          4222081588,
          4297202691,
          4377563123,
          4461123278,
          4543979201,
          4623946080,
          4701004414,
          4775678730,
          4849009647,
          4921496668,
          4993746459,
          5062855853,
          5132133634,
          5204414300,
          5277185538,
          5349933636,
          5422586571,
          null,
          null,
          null,
          null,
          null,
          null,
          null,
          null,
          null,
          null,
          null,
          null,
          null,
          null,
          null,
          null,
          null,
          null,
          null,
          null,
          null,
          null,
          null,
          null
         ]
        },
        {
         "name": "Predicted Pop",
         "opacity": 0.75,
         "type": "bar",
         "x": [
          "1975-01-01T00:00:00",
          "1976-01-01T00:00:00",
          "1977-01-01T00:00:00",
          "1978-01-01T00:00:00",
          "1979-01-01T00:00:00",
          "1980-01-01T00:00:00",
          "1981-01-01T00:00:00",
          "1982-01-01T00:00:00",
          "1983-01-01T00:00:00",
          "1984-01-01T00:00:00",
          "1985-01-01T00:00:00",
          "1986-01-01T00:00:00",
          "1987-01-01T00:00:00",
          "1988-01-01T00:00:00",
          "1989-01-01T00:00:00",
          "1990-01-01T00:00:00",
          "1991-01-01T00:00:00",
          "1992-01-01T00:00:00",
          "1993-01-01T00:00:00",
          "1994-01-01T00:00:00",
          "1995-01-01T00:00:00",
          "1996-01-01T00:00:00",
          "1997-01-01T00:00:00",
          "1998-01-01T00:00:00",
          "1999-01-01T00:00:00",
          "2000-01-01T00:00:00",
          "2001-01-01T00:00:00",
          "2002-01-01T00:00:00",
          "2003-01-01T00:00:00",
          "2004-01-01T00:00:00",
          "2005-01-01T00:00:00",
          "2006-01-01T00:00:00",
          "2007-01-01T00:00:00",
          "2008-01-01T00:00:00",
          "2009-01-01T00:00:00",
          "2010-01-01T00:00:00",
          "2011-01-01T00:00:00",
          "2012-01-01T00:00:00",
          "2013-01-01T00:00:00",
          "2014-01-01T00:00:00",
          "2015-01-01T00:00:00",
          "2016-01-01T00:00:00",
          "2017-01-01T00:00:00",
          "2018-01-01T00:00:00",
          "2019-01-01T00:00:00",
          "2020-01-01T00:00:00",
          "2021-01-01T00:00:00",
          "2022-01-01T00:00:00",
          "2023-01-01T00:00:00",
          "2024-01-01T00:00:00",
          "2025-01-01T00:00:00",
          "2026-01-01T00:00:00",
          "2027-01-01T00:00:00",
          "2028-01-01T00:00:00",
          "2029-01-01T00:00:00",
          "2030-01-01T00:00:00",
          "2031-01-01T00:00:00",
          "2032-01-01T00:00:00",
          "2033-01-01T00:00:00",
          "2034-01-01T00:00:00",
          "2035-01-01T00:00:00",
          "2036-01-01T00:00:00",
          "2037-01-01T00:00:00",
          "2038-01-01T00:00:00",
          "2039-01-01T00:00:00",
          "2040-01-01T00:00:00"
         ],
         "y": [
          null,
          null,
          null,
          null,
          null,
          null,
          null,
          null,
          null,
          null,
          null,
          null,
          null,
          null,
          null,
          null,
          null,
          null,
          null,
          null,
          null,
          null,
          null,
          null,
          null,
          null,
          null,
          null,
          null,
          null,
          null,
          null,
          null,
          null,
          null,
          null,
          null,
          null,
          null,
          null,
          null,
          null,
          5568907586.132825,
          5661896662.377489,
          5758089750.01486,
          5857566337.199989,
          5960679862.336591,
          6067812862.170854,
          6179199542.873914,
          6295173470.810721,
          6416131022.183034,
          6542632517.512401,
          6675132174.827692,
          6814164410.0285,
          6960491457.744521,
          7115011108.298443,
          7278721576.780273,
          7452810927.221776,
          7638593553.04399,
          7837578309.761568,
          8051576036.906793,
          8282795014.787208,
          8533784187.232007,
          8807466163.3707,
          9107374972.382595,
          9438071956.879478
         ]
        },
        {
         "name": "Actual Obese",
         "opacity": 0.75,
         "type": "bar",
         "x": [
          "1975-01-01T00:00:00",
          "1976-01-01T00:00:00",
          "1977-01-01T00:00:00",
          "1978-01-01T00:00:00",
          "1979-01-01T00:00:00",
          "1980-01-01T00:00:00",
          "1981-01-01T00:00:00",
          "1982-01-01T00:00:00",
          "1983-01-01T00:00:00",
          "1984-01-01T00:00:00",
          "1985-01-01T00:00:00",
          "1986-01-01T00:00:00",
          "1987-01-01T00:00:00",
          "1988-01-01T00:00:00",
          "1989-01-01T00:00:00",
          "1990-01-01T00:00:00",
          "1991-01-01T00:00:00",
          "1992-01-01T00:00:00",
          "1993-01-01T00:00:00",
          "1994-01-01T00:00:00",
          "1995-01-01T00:00:00",
          "1996-01-01T00:00:00",
          "1997-01-01T00:00:00",
          "1998-01-01T00:00:00",
          "1999-01-01T00:00:00",
          "2000-01-01T00:00:00",
          "2001-01-01T00:00:00",
          "2002-01-01T00:00:00",
          "2003-01-01T00:00:00",
          "2004-01-01T00:00:00",
          "2005-01-01T00:00:00",
          "2006-01-01T00:00:00",
          "2007-01-01T00:00:00",
          "2008-01-01T00:00:00",
          "2009-01-01T00:00:00",
          "2010-01-01T00:00:00",
          "2011-01-01T00:00:00",
          "2012-01-01T00:00:00",
          "2013-01-01T00:00:00",
          "2014-01-01T00:00:00",
          "2015-01-01T00:00:00",
          "2016-01-01T00:00:00",
          "2017-01-01T00:00:00",
          "2018-01-01T00:00:00",
          "2019-01-01T00:00:00",
          "2020-01-01T00:00:00",
          "2021-01-01T00:00:00",
          "2022-01-01T00:00:00",
          "2023-01-01T00:00:00",
          "2024-01-01T00:00:00",
          "2025-01-01T00:00:00",
          "2026-01-01T00:00:00",
          "2027-01-01T00:00:00",
          "2028-01-01T00:00:00",
          "2029-01-01T00:00:00",
          "2030-01-01T00:00:00",
          "2031-01-01T00:00:00",
          "2032-01-01T00:00:00",
          "2033-01-01T00:00:00",
          "2034-01-01T00:00:00",
          "2035-01-01T00:00:00",
          "2036-01-01T00:00:00",
          "2037-01-01T00:00:00",
          "2038-01-01T00:00:00",
          "2039-01-01T00:00:00",
          "2040-01-01T00:00:00"
         ],
         "y": [
          101690339.65899998,
          107017717.02199998,
          112218401.036,
          117352193.04,
          122956009.07099998,
          129019565.05400002,
          135411155.671,
          141375580.31599998,
          148483688.15600002,
          155433357.38199997,
          163219921.745,
          170567836.225,
          179554514.82900003,
          188338033.543,
          197300566.028,
          217110413.116,
          227997216.902,
          238443915.699,
          250173381.41099998,
          262304006.62300003,
          274716166.614,
          287741489.581,
          301679067.951,
          316248243.72900003,
          330781383.436,
          346938029.704,
          363644299.7880001,
          380313145.18,
          398254940.881,
          417306039.431,
          436394331.238,
          457797506.118,
          478610688.6650001,
          500228275.231,
          523079254.2800001,
          547703378.098,
          572280362.24,
          597090456.54,
          625087423.9760001,
          652936610.336,
          682356315.3980001,
          712785966.787,
          null,
          null,
          null,
          null,
          null,
          null,
          null,
          null,
          null,
          null,
          null,
          null,
          null,
          null,
          null,
          null,
          null,
          null,
          null,
          null,
          null,
          null,
          null,
          null
         ]
        },
        {
         "name": "Predicted Obese",
         "opacity": 0.75,
         "type": "bar",
         "x": [
          "1975-01-01T00:00:00",
          "1976-01-01T00:00:00",
          "1977-01-01T00:00:00",
          "1978-01-01T00:00:00",
          "1979-01-01T00:00:00",
          "1980-01-01T00:00:00",
          "1981-01-01T00:00:00",
          "1982-01-01T00:00:00",
          "1983-01-01T00:00:00",
          "1984-01-01T00:00:00",
          "1985-01-01T00:00:00",
          "1986-01-01T00:00:00",
          "1987-01-01T00:00:00",
          "1988-01-01T00:00:00",
          "1989-01-01T00:00:00",
          "1990-01-01T00:00:00",
          "1991-01-01T00:00:00",
          "1992-01-01T00:00:00",
          "1993-01-01T00:00:00",
          "1994-01-01T00:00:00",
          "1995-01-01T00:00:00",
          "1996-01-01T00:00:00",
          "1997-01-01T00:00:00",
          "1998-01-01T00:00:00",
          "1999-01-01T00:00:00",
          "2000-01-01T00:00:00",
          "2001-01-01T00:00:00",
          "2002-01-01T00:00:00",
          "2003-01-01T00:00:00",
          "2004-01-01T00:00:00",
          "2005-01-01T00:00:00",
          "2006-01-01T00:00:00",
          "2007-01-01T00:00:00",
          "2008-01-01T00:00:00",
          "2009-01-01T00:00:00",
          "2010-01-01T00:00:00",
          "2011-01-01T00:00:00",
          "2012-01-01T00:00:00",
          "2013-01-01T00:00:00",
          "2014-01-01T00:00:00",
          "2015-01-01T00:00:00",
          "2016-01-01T00:00:00",
          "2017-01-01T00:00:00",
          "2018-01-01T00:00:00",
          "2019-01-01T00:00:00",
          "2020-01-01T00:00:00",
          "2021-01-01T00:00:00",
          "2022-01-01T00:00:00",
          "2023-01-01T00:00:00",
          "2024-01-01T00:00:00",
          "2025-01-01T00:00:00",
          "2026-01-01T00:00:00",
          "2027-01-01T00:00:00",
          "2028-01-01T00:00:00",
          "2029-01-01T00:00:00",
          "2030-01-01T00:00:00",
          "2031-01-01T00:00:00",
          "2032-01-01T00:00:00",
          "2033-01-01T00:00:00",
          "2034-01-01T00:00:00",
          "2035-01-01T00:00:00",
          "2036-01-01T00:00:00",
          "2037-01-01T00:00:00",
          "2038-01-01T00:00:00",
          "2039-01-01T00:00:00",
          "2040-01-01T00:00:00"
         ],
         "y": [
          null,
          null,
          null,
          null,
          null,
          null,
          null,
          null,
          null,
          null,
          null,
          null,
          null,
          null,
          null,
          null,
          null,
          null,
          null,
          null,
          null,
          null,
          null,
          null,
          null,
          null,
          null,
          null,
          null,
          null,
          null,
          null,
          null,
          null,
          null,
          null,
          null,
          null,
          null,
          null,
          null,
          null,
          735036015.5905328,
          772934966.7079538,
          814215534.7767547,
          859516963.4149529,
          909541582.8471982,
          965145360.3112917,
          1027376801.0373327,
          1097644644.9780521,
          1177630011.7884915,
          1269570509.1006749,
          1376517824.0259826,
          1502487062.1200428,
          1653082805.462873,
          1836293595.9521108,
          2063564917.5536997,
          2352625418.00042,
          2731072209.521726,
          3244204389.610998,
          3970252264.4239435,
          5052756367.512198,
          6770248875.145808,
          9684824458.98866,
          14944200124.228798,
          24733310120.15942
         ]
        }
       ],
       "layout": {
        "annotations": [
         {
          "font": {
           "color": "rgb(37,37,37)",
           "family": "Arial",
           "size": 24
          },
          "showarrow": false,
          "text": "World Population vs. Obese Population",
          "x": 0,
          "xanchor": "left",
          "xref": "paper",
          "y": 1.05,
          "yanchor": "top",
          "yref": "paper"
         },
         {
          "font": {
           "color": "rgb(150,150,150)",
           "family": "Arial",
           "size": 12
          },
          "showarrow": false,
          "text": "Source: World Health Organization & World Bank",
          "x": 0.5,
          "xanchor": "center",
          "xref": "paper",
          "y": -0.1,
          "yanchor": "top",
          "yref": "paper"
         }
        ],
        "barmode": "overlay",
        "plot_bgcolor": "White",
        "template": {
         "data": {
          "bar": [
           {
            "error_x": {
             "color": "#2a3f5f"
            },
            "error_y": {
             "color": "#2a3f5f"
            },
            "marker": {
             "line": {
              "color": "#E5ECF6",
              "width": 0.5
             }
            },
            "type": "bar"
           }
          ],
          "barpolar": [
           {
            "marker": {
             "line": {
              "color": "#E5ECF6",
              "width": 0.5
             }
            },
            "type": "barpolar"
           }
          ],
          "carpet": [
           {
            "aaxis": {
             "endlinecolor": "#2a3f5f",
             "gridcolor": "white",
             "linecolor": "white",
             "minorgridcolor": "white",
             "startlinecolor": "#2a3f5f"
            },
            "baxis": {
             "endlinecolor": "#2a3f5f",
             "gridcolor": "white",
             "linecolor": "white",
             "minorgridcolor": "white",
             "startlinecolor": "#2a3f5f"
            },
            "type": "carpet"
           }
          ],
          "choropleth": [
           {
            "colorbar": {
             "outlinewidth": 0,
             "ticks": ""
            },
            "type": "choropleth"
           }
          ],
          "contour": [
           {
            "colorbar": {
             "outlinewidth": 0,
             "ticks": ""
            },
            "colorscale": [
             [
              0,
              "#0d0887"
             ],
             [
              0.1111111111111111,
              "#46039f"
             ],
             [
              0.2222222222222222,
              "#7201a8"
             ],
             [
              0.3333333333333333,
              "#9c179e"
             ],
             [
              0.4444444444444444,
              "#bd3786"
             ],
             [
              0.5555555555555556,
              "#d8576b"
             ],
             [
              0.6666666666666666,
              "#ed7953"
             ],
             [
              0.7777777777777778,
              "#fb9f3a"
             ],
             [
              0.8888888888888888,
              "#fdca26"
             ],
             [
              1,
              "#f0f921"
             ]
            ],
            "type": "contour"
           }
          ],
          "contourcarpet": [
           {
            "colorbar": {
             "outlinewidth": 0,
             "ticks": ""
            },
            "type": "contourcarpet"
           }
          ],
          "heatmap": [
           {
            "colorbar": {
             "outlinewidth": 0,
             "ticks": ""
            },
            "colorscale": [
             [
              0,
              "#0d0887"
             ],
             [
              0.1111111111111111,
              "#46039f"
             ],
             [
              0.2222222222222222,
              "#7201a8"
             ],
             [
              0.3333333333333333,
              "#9c179e"
             ],
             [
              0.4444444444444444,
              "#bd3786"
             ],
             [
              0.5555555555555556,
              "#d8576b"
             ],
             [
              0.6666666666666666,
              "#ed7953"
             ],
             [
              0.7777777777777778,
              "#fb9f3a"
             ],
             [
              0.8888888888888888,
              "#fdca26"
             ],
             [
              1,
              "#f0f921"
             ]
            ],
            "type": "heatmap"
           }
          ],
          "heatmapgl": [
           {
            "colorbar": {
             "outlinewidth": 0,
             "ticks": ""
            },
            "colorscale": [
             [
              0,
              "#0d0887"
             ],
             [
              0.1111111111111111,
              "#46039f"
             ],
             [
              0.2222222222222222,
              "#7201a8"
             ],
             [
              0.3333333333333333,
              "#9c179e"
             ],
             [
              0.4444444444444444,
              "#bd3786"
             ],
             [
              0.5555555555555556,
              "#d8576b"
             ],
             [
              0.6666666666666666,
              "#ed7953"
             ],
             [
              0.7777777777777778,
              "#fb9f3a"
             ],
             [
              0.8888888888888888,
              "#fdca26"
             ],
             [
              1,
              "#f0f921"
             ]
            ],
            "type": "heatmapgl"
           }
          ],
          "histogram": [
           {
            "marker": {
             "colorbar": {
              "outlinewidth": 0,
              "ticks": ""
             }
            },
            "type": "histogram"
           }
          ],
          "histogram2d": [
           {
            "colorbar": {
             "outlinewidth": 0,
             "ticks": ""
            },
            "colorscale": [
             [
              0,
              "#0d0887"
             ],
             [
              0.1111111111111111,
              "#46039f"
             ],
             [
              0.2222222222222222,
              "#7201a8"
             ],
             [
              0.3333333333333333,
              "#9c179e"
             ],
             [
              0.4444444444444444,
              "#bd3786"
             ],
             [
              0.5555555555555556,
              "#d8576b"
             ],
             [
              0.6666666666666666,
              "#ed7953"
             ],
             [
              0.7777777777777778,
              "#fb9f3a"
             ],
             [
              0.8888888888888888,
              "#fdca26"
             ],
             [
              1,
              "#f0f921"
             ]
            ],
            "type": "histogram2d"
           }
          ],
          "histogram2dcontour": [
           {
            "colorbar": {
             "outlinewidth": 0,
             "ticks": ""
            },
            "colorscale": [
             [
              0,
              "#0d0887"
             ],
             [
              0.1111111111111111,
              "#46039f"
             ],
             [
              0.2222222222222222,
              "#7201a8"
             ],
             [
              0.3333333333333333,
              "#9c179e"
             ],
             [
              0.4444444444444444,
              "#bd3786"
             ],
             [
              0.5555555555555556,
              "#d8576b"
             ],
             [
              0.6666666666666666,
              "#ed7953"
             ],
             [
              0.7777777777777778,
              "#fb9f3a"
             ],
             [
              0.8888888888888888,
              "#fdca26"
             ],
             [
              1,
              "#f0f921"
             ]
            ],
            "type": "histogram2dcontour"
           }
          ],
          "mesh3d": [
           {
            "colorbar": {
             "outlinewidth": 0,
             "ticks": ""
            },
            "type": "mesh3d"
           }
          ],
          "parcoords": [
           {
            "line": {
             "colorbar": {
              "outlinewidth": 0,
              "ticks": ""
             }
            },
            "type": "parcoords"
           }
          ],
          "scatter": [
           {
            "marker": {
             "colorbar": {
              "outlinewidth": 0,
              "ticks": ""
             }
            },
            "type": "scatter"
           }
          ],
          "scatter3d": [
           {
            "line": {
             "colorbar": {
              "outlinewidth": 0,
              "ticks": ""
             }
            },
            "marker": {
             "colorbar": {
              "outlinewidth": 0,
              "ticks": ""
             }
            },
            "type": "scatter3d"
           }
          ],
          "scattercarpet": [
           {
            "marker": {
             "colorbar": {
              "outlinewidth": 0,
              "ticks": ""
             }
            },
            "type": "scattercarpet"
           }
          ],
          "scattergeo": [
           {
            "marker": {
             "colorbar": {
              "outlinewidth": 0,
              "ticks": ""
             }
            },
            "type": "scattergeo"
           }
          ],
          "scattergl": [
           {
            "marker": {
             "colorbar": {
              "outlinewidth": 0,
              "ticks": ""
             }
            },
            "type": "scattergl"
           }
          ],
          "scattermapbox": [
           {
            "marker": {
             "colorbar": {
              "outlinewidth": 0,
              "ticks": ""
             }
            },
            "type": "scattermapbox"
           }
          ],
          "scatterpolar": [
           {
            "marker": {
             "colorbar": {
              "outlinewidth": 0,
              "ticks": ""
             }
            },
            "type": "scatterpolar"
           }
          ],
          "scatterpolargl": [
           {
            "marker": {
             "colorbar": {
              "outlinewidth": 0,
              "ticks": ""
             }
            },
            "type": "scatterpolargl"
           }
          ],
          "scatterternary": [
           {
            "marker": {
             "colorbar": {
              "outlinewidth": 0,
              "ticks": ""
             }
            },
            "type": "scatterternary"
           }
          ],
          "surface": [
           {
            "colorbar": {
             "outlinewidth": 0,
             "ticks": ""
            },
            "colorscale": [
             [
              0,
              "#0d0887"
             ],
             [
              0.1111111111111111,
              "#46039f"
             ],
             [
              0.2222222222222222,
              "#7201a8"
             ],
             [
              0.3333333333333333,
              "#9c179e"
             ],
             [
              0.4444444444444444,
              "#bd3786"
             ],
             [
              0.5555555555555556,
              "#d8576b"
             ],
             [
              0.6666666666666666,
              "#ed7953"
             ],
             [
              0.7777777777777778,
              "#fb9f3a"
             ],
             [
              0.8888888888888888,
              "#fdca26"
             ],
             [
              1,
              "#f0f921"
             ]
            ],
            "type": "surface"
           }
          ],
          "table": [
           {
            "cells": {
             "fill": {
              "color": "#EBF0F8"
             },
             "line": {
              "color": "white"
             }
            },
            "header": {
             "fill": {
              "color": "#C8D4E3"
             },
             "line": {
              "color": "white"
             }
            },
            "type": "table"
           }
          ]
         },
         "layout": {
          "annotationdefaults": {
           "arrowcolor": "#2a3f5f",
           "arrowhead": 0,
           "arrowwidth": 1
          },
          "colorscale": {
           "diverging": [
            [
             0,
             "#8e0152"
            ],
            [
             0.1,
             "#c51b7d"
            ],
            [
             0.2,
             "#de77ae"
            ],
            [
             0.3,
             "#f1b6da"
            ],
            [
             0.4,
             "#fde0ef"
            ],
            [
             0.5,
             "#f7f7f7"
            ],
            [
             0.6,
             "#e6f5d0"
            ],
            [
             0.7,
             "#b8e186"
            ],
            [
             0.8,
             "#7fbc41"
            ],
            [
             0.9,
             "#4d9221"
            ],
            [
             1,
             "#276419"
            ]
           ],
           "sequential": [
            [
             0,
             "#0d0887"
            ],
            [
             0.1111111111111111,
             "#46039f"
            ],
            [
             0.2222222222222222,
             "#7201a8"
            ],
            [
             0.3333333333333333,
             "#9c179e"
            ],
            [
             0.4444444444444444,
             "#bd3786"
            ],
            [
             0.5555555555555556,
             "#d8576b"
            ],
            [
             0.6666666666666666,
             "#ed7953"
            ],
            [
             0.7777777777777778,
             "#fb9f3a"
            ],
            [
             0.8888888888888888,
             "#fdca26"
            ],
            [
             1,
             "#f0f921"
            ]
           ],
           "sequentialminus": [
            [
             0,
             "#0d0887"
            ],
            [
             0.1111111111111111,
             "#46039f"
            ],
            [
             0.2222222222222222,
             "#7201a8"
            ],
            [
             0.3333333333333333,
             "#9c179e"
            ],
            [
             0.4444444444444444,
             "#bd3786"
            ],
            [
             0.5555555555555556,
             "#d8576b"
            ],
            [
             0.6666666666666666,
             "#ed7953"
            ],
            [
             0.7777777777777778,
             "#fb9f3a"
            ],
            [
             0.8888888888888888,
             "#fdca26"
            ],
            [
             1,
             "#f0f921"
            ]
           ]
          },
          "colorway": [
           "#636efa",
           "#EF553B",
           "#00cc96",
           "#ab63fa",
           "#FFA15A",
           "#19d3f3",
           "#FF6692",
           "#B6E880",
           "#FF97FF",
           "#FECB52"
          ],
          "font": {
           "color": "#2a3f5f"
          },
          "geo": {
           "bgcolor": "white",
           "lakecolor": "white",
           "landcolor": "#E5ECF6",
           "showlakes": true,
           "showland": true,
           "subunitcolor": "white"
          },
          "hoverlabel": {
           "align": "left"
          },
          "hovermode": "closest",
          "mapbox": {
           "style": "light"
          },
          "paper_bgcolor": "white",
          "plot_bgcolor": "#E5ECF6",
          "polar": {
           "angularaxis": {
            "gridcolor": "white",
            "linecolor": "white",
            "ticks": ""
           },
           "bgcolor": "#E5ECF6",
           "radialaxis": {
            "gridcolor": "white",
            "linecolor": "white",
            "ticks": ""
           }
          },
          "scene": {
           "xaxis": {
            "backgroundcolor": "#E5ECF6",
            "gridcolor": "white",
            "gridwidth": 2,
            "linecolor": "white",
            "showbackground": true,
            "ticks": "",
            "zerolinecolor": "white"
           },
           "yaxis": {
            "backgroundcolor": "#E5ECF6",
            "gridcolor": "white",
            "gridwidth": 2,
            "linecolor": "white",
            "showbackground": true,
            "ticks": "",
            "zerolinecolor": "white"
           },
           "zaxis": {
            "backgroundcolor": "#E5ECF6",
            "gridcolor": "white",
            "gridwidth": 2,
            "linecolor": "white",
            "showbackground": true,
            "ticks": "",
            "zerolinecolor": "white"
           }
          },
          "shapedefaults": {
           "line": {
            "color": "#2a3f5f"
           }
          },
          "ternary": {
           "aaxis": {
            "gridcolor": "white",
            "linecolor": "white",
            "ticks": ""
           },
           "baxis": {
            "gridcolor": "white",
            "linecolor": "white",
            "ticks": ""
           },
           "bgcolor": "#E5ECF6",
           "caxis": {
            "gridcolor": "white",
            "linecolor": "white",
            "ticks": ""
           }
          },
          "title": {
           "x": 0.05
          },
          "xaxis": {
           "automargin": true,
           "gridcolor": "white",
           "linecolor": "white",
           "ticks": "",
           "zerolinecolor": "white",
           "zerolinewidth": 2
          },
          "yaxis": {
           "automargin": true,
           "gridcolor": "white",
           "linecolor": "white",
           "ticks": "",
           "zerolinecolor": "white",
           "zerolinewidth": 2
          }
         }
        },
        "xaxis": {
         "linecolor": "rgb(204, 204, 204)",
         "linewidth": 2,
         "showgrid": false,
         "showline": true,
         "showticklabels": true,
         "tickfont": {
          "color": "rgb(82, 82, 82)",
          "family": "Arial",
          "size": 12
         },
         "ticks": "outside"
        },
        "yaxis": {
         "showgrid": false,
         "showline": false,
         "zeroline": false
        }
       }
      },
      "text/html": [
       "<div>\n",
       "        \n",
       "        \n",
       "            <div id=\"fa94b030-cda5-4289-b49d-9f74584efb48\" class=\"plotly-graph-div\" style=\"height:525px; width:100%;\"></div>\n",
       "            <script type=\"text/javascript\">\n",
       "                require([\"plotly\"], function(Plotly) {\n",
       "                    window.PLOTLYENV=window.PLOTLYENV || {};\n",
       "                    \n",
       "                if (document.getElementById(\"fa94b030-cda5-4289-b49d-9f74584efb48\")) {\n",
       "                    Plotly.newPlot(\n",
       "                        'fa94b030-cda5-4289-b49d-9f74584efb48',\n",
       "                        [{\"name\": \"Actual Pop\", \"opacity\": 0.75, \"type\": \"bar\", \"x\": [\"1975-01-01T00:00:00\", \"1976-01-01T00:00:00\", \"1977-01-01T00:00:00\", \"1978-01-01T00:00:00\", \"1979-01-01T00:00:00\", \"1980-01-01T00:00:00\", \"1981-01-01T00:00:00\", \"1982-01-01T00:00:00\", \"1983-01-01T00:00:00\", \"1984-01-01T00:00:00\", \"1985-01-01T00:00:00\", \"1986-01-01T00:00:00\", \"1987-01-01T00:00:00\", \"1988-01-01T00:00:00\", \"1989-01-01T00:00:00\", \"1990-01-01T00:00:00\", \"1991-01-01T00:00:00\", \"1992-01-01T00:00:00\", \"1993-01-01T00:00:00\", \"1994-01-01T00:00:00\", \"1995-01-01T00:00:00\", \"1996-01-01T00:00:00\", \"1997-01-01T00:00:00\", \"1998-01-01T00:00:00\", \"1999-01-01T00:00:00\", \"2000-01-01T00:00:00\", \"2001-01-01T00:00:00\", \"2002-01-01T00:00:00\", \"2003-01-01T00:00:00\", \"2004-01-01T00:00:00\", \"2005-01-01T00:00:00\", \"2006-01-01T00:00:00\", \"2007-01-01T00:00:00\", \"2008-01-01T00:00:00\", \"2009-01-01T00:00:00\", \"2010-01-01T00:00:00\", \"2011-01-01T00:00:00\", \"2012-01-01T00:00:00\", \"2013-01-01T00:00:00\", \"2014-01-01T00:00:00\", \"2015-01-01T00:00:00\", \"2016-01-01T00:00:00\", \"2017-01-01T00:00:00\", \"2018-01-01T00:00:00\", \"2019-01-01T00:00:00\", \"2020-01-01T00:00:00\", \"2021-01-01T00:00:00\", \"2022-01-01T00:00:00\", \"2023-01-01T00:00:00\", \"2024-01-01T00:00:00\", \"2025-01-01T00:00:00\", \"2026-01-01T00:00:00\", \"2027-01-01T00:00:00\", \"2028-01-01T00:00:00\", \"2029-01-01T00:00:00\", \"2030-01-01T00:00:00\", \"2031-01-01T00:00:00\", \"2032-01-01T00:00:00\", \"2033-01-01T00:00:00\", \"2034-01-01T00:00:00\", \"2035-01-01T00:00:00\", \"2036-01-01T00:00:00\", \"2037-01-01T00:00:00\", \"2038-01-01T00:00:00\", \"2039-01-01T00:00:00\", \"2040-01-01T00:00:00\"], \"y\": [2445823297.0, 2498616121.0, 2583691665.0, 2643168001.0, 2705040608.0, 2767977050.0, 2832320001.0, 2898084147.0, 2964288852.0, 3030891648.0, 3098855592.0, 3162919221.0, 3229334431.0, 3296907648.0, 3364998707.0, 3506689498.0, 3571209462.0, 3637961217.0, 3708349412.0, 3778999785.0, 3850315150.0, 3925675840.0, 3997880893.0, 4069225019.0, 4143409388.0, 4222081588.0, 4297202691.0, 4377563123.0, 4461123278.0, 4543979201.0, 4623946080.0, 4701004414.0, 4775678730.0, 4849009647.0, 4921496668.0, 4993746459.0, 5062855853.0, 5132133634.0, 5204414300.0, 5277185538.0, 5349933636.0, 5422586571.0, null, null, null, null, null, null, null, null, null, null, null, null, null, null, null, null, null, null, null, null, null, null, null, null]}, {\"name\": \"Predicted Pop\", \"opacity\": 0.75, \"type\": \"bar\", \"x\": [\"1975-01-01T00:00:00\", \"1976-01-01T00:00:00\", \"1977-01-01T00:00:00\", \"1978-01-01T00:00:00\", \"1979-01-01T00:00:00\", \"1980-01-01T00:00:00\", \"1981-01-01T00:00:00\", \"1982-01-01T00:00:00\", \"1983-01-01T00:00:00\", \"1984-01-01T00:00:00\", \"1985-01-01T00:00:00\", \"1986-01-01T00:00:00\", \"1987-01-01T00:00:00\", \"1988-01-01T00:00:00\", \"1989-01-01T00:00:00\", \"1990-01-01T00:00:00\", \"1991-01-01T00:00:00\", \"1992-01-01T00:00:00\", \"1993-01-01T00:00:00\", \"1994-01-01T00:00:00\", \"1995-01-01T00:00:00\", \"1996-01-01T00:00:00\", \"1997-01-01T00:00:00\", \"1998-01-01T00:00:00\", \"1999-01-01T00:00:00\", \"2000-01-01T00:00:00\", \"2001-01-01T00:00:00\", \"2002-01-01T00:00:00\", \"2003-01-01T00:00:00\", \"2004-01-01T00:00:00\", \"2005-01-01T00:00:00\", \"2006-01-01T00:00:00\", \"2007-01-01T00:00:00\", \"2008-01-01T00:00:00\", \"2009-01-01T00:00:00\", \"2010-01-01T00:00:00\", \"2011-01-01T00:00:00\", \"2012-01-01T00:00:00\", \"2013-01-01T00:00:00\", \"2014-01-01T00:00:00\", \"2015-01-01T00:00:00\", \"2016-01-01T00:00:00\", \"2017-01-01T00:00:00\", \"2018-01-01T00:00:00\", \"2019-01-01T00:00:00\", \"2020-01-01T00:00:00\", \"2021-01-01T00:00:00\", \"2022-01-01T00:00:00\", \"2023-01-01T00:00:00\", \"2024-01-01T00:00:00\", \"2025-01-01T00:00:00\", \"2026-01-01T00:00:00\", \"2027-01-01T00:00:00\", \"2028-01-01T00:00:00\", \"2029-01-01T00:00:00\", \"2030-01-01T00:00:00\", \"2031-01-01T00:00:00\", \"2032-01-01T00:00:00\", \"2033-01-01T00:00:00\", \"2034-01-01T00:00:00\", \"2035-01-01T00:00:00\", \"2036-01-01T00:00:00\", \"2037-01-01T00:00:00\", \"2038-01-01T00:00:00\", \"2039-01-01T00:00:00\", \"2040-01-01T00:00:00\"], \"y\": [null, null, null, null, null, null, null, null, null, null, null, null, null, null, null, null, null, null, null, null, null, null, null, null, null, null, null, null, null, null, null, null, null, null, null, null, null, null, null, null, null, null, 5568907586.132825, 5661896662.377489, 5758089750.01486, 5857566337.199989, 5960679862.336591, 6067812862.170854, 6179199542.873914, 6295173470.810721, 6416131022.183034, 6542632517.512401, 6675132174.827692, 6814164410.0285, 6960491457.744521, 7115011108.298443, 7278721576.780273, 7452810927.221776, 7638593553.04399, 7837578309.761568, 8051576036.906793, 8282795014.787208, 8533784187.232007, 8807466163.3707, 9107374972.382595, 9438071956.879478]}, {\"name\": \"Actual Obese\", \"opacity\": 0.75, \"type\": \"bar\", \"x\": [\"1975-01-01T00:00:00\", \"1976-01-01T00:00:00\", \"1977-01-01T00:00:00\", \"1978-01-01T00:00:00\", \"1979-01-01T00:00:00\", \"1980-01-01T00:00:00\", \"1981-01-01T00:00:00\", \"1982-01-01T00:00:00\", \"1983-01-01T00:00:00\", \"1984-01-01T00:00:00\", \"1985-01-01T00:00:00\", \"1986-01-01T00:00:00\", \"1987-01-01T00:00:00\", \"1988-01-01T00:00:00\", \"1989-01-01T00:00:00\", \"1990-01-01T00:00:00\", \"1991-01-01T00:00:00\", \"1992-01-01T00:00:00\", \"1993-01-01T00:00:00\", \"1994-01-01T00:00:00\", \"1995-01-01T00:00:00\", \"1996-01-01T00:00:00\", \"1997-01-01T00:00:00\", \"1998-01-01T00:00:00\", \"1999-01-01T00:00:00\", \"2000-01-01T00:00:00\", \"2001-01-01T00:00:00\", \"2002-01-01T00:00:00\", \"2003-01-01T00:00:00\", \"2004-01-01T00:00:00\", \"2005-01-01T00:00:00\", \"2006-01-01T00:00:00\", \"2007-01-01T00:00:00\", \"2008-01-01T00:00:00\", \"2009-01-01T00:00:00\", \"2010-01-01T00:00:00\", \"2011-01-01T00:00:00\", \"2012-01-01T00:00:00\", \"2013-01-01T00:00:00\", \"2014-01-01T00:00:00\", \"2015-01-01T00:00:00\", \"2016-01-01T00:00:00\", \"2017-01-01T00:00:00\", \"2018-01-01T00:00:00\", \"2019-01-01T00:00:00\", \"2020-01-01T00:00:00\", \"2021-01-01T00:00:00\", \"2022-01-01T00:00:00\", \"2023-01-01T00:00:00\", \"2024-01-01T00:00:00\", \"2025-01-01T00:00:00\", \"2026-01-01T00:00:00\", \"2027-01-01T00:00:00\", \"2028-01-01T00:00:00\", \"2029-01-01T00:00:00\", \"2030-01-01T00:00:00\", \"2031-01-01T00:00:00\", \"2032-01-01T00:00:00\", \"2033-01-01T00:00:00\", \"2034-01-01T00:00:00\", \"2035-01-01T00:00:00\", \"2036-01-01T00:00:00\", \"2037-01-01T00:00:00\", \"2038-01-01T00:00:00\", \"2039-01-01T00:00:00\", \"2040-01-01T00:00:00\"], \"y\": [101690339.65899998, 107017717.02199998, 112218401.036, 117352193.04, 122956009.07099998, 129019565.05400002, 135411155.671, 141375580.31599998, 148483688.15600002, 155433357.38199997, 163219921.745, 170567836.225, 179554514.82900003, 188338033.543, 197300566.028, 217110413.116, 227997216.902, 238443915.699, 250173381.41099998, 262304006.62300003, 274716166.614, 287741489.581, 301679067.951, 316248243.72900003, 330781383.436, 346938029.704, 363644299.7880001, 380313145.18, 398254940.881, 417306039.431, 436394331.238, 457797506.118, 478610688.6650001, 500228275.231, 523079254.2800001, 547703378.098, 572280362.24, 597090456.54, 625087423.9760001, 652936610.336, 682356315.3980001, 712785966.787, null, null, null, null, null, null, null, null, null, null, null, null, null, null, null, null, null, null, null, null, null, null, null, null]}, {\"name\": \"Predicted Obese\", \"opacity\": 0.75, \"type\": \"bar\", \"x\": [\"1975-01-01T00:00:00\", \"1976-01-01T00:00:00\", \"1977-01-01T00:00:00\", \"1978-01-01T00:00:00\", \"1979-01-01T00:00:00\", \"1980-01-01T00:00:00\", \"1981-01-01T00:00:00\", \"1982-01-01T00:00:00\", \"1983-01-01T00:00:00\", \"1984-01-01T00:00:00\", \"1985-01-01T00:00:00\", \"1986-01-01T00:00:00\", \"1987-01-01T00:00:00\", \"1988-01-01T00:00:00\", \"1989-01-01T00:00:00\", \"1990-01-01T00:00:00\", \"1991-01-01T00:00:00\", \"1992-01-01T00:00:00\", \"1993-01-01T00:00:00\", \"1994-01-01T00:00:00\", \"1995-01-01T00:00:00\", \"1996-01-01T00:00:00\", \"1997-01-01T00:00:00\", \"1998-01-01T00:00:00\", \"1999-01-01T00:00:00\", \"2000-01-01T00:00:00\", \"2001-01-01T00:00:00\", \"2002-01-01T00:00:00\", \"2003-01-01T00:00:00\", \"2004-01-01T00:00:00\", \"2005-01-01T00:00:00\", \"2006-01-01T00:00:00\", \"2007-01-01T00:00:00\", \"2008-01-01T00:00:00\", \"2009-01-01T00:00:00\", \"2010-01-01T00:00:00\", \"2011-01-01T00:00:00\", \"2012-01-01T00:00:00\", \"2013-01-01T00:00:00\", \"2014-01-01T00:00:00\", \"2015-01-01T00:00:00\", \"2016-01-01T00:00:00\", \"2017-01-01T00:00:00\", \"2018-01-01T00:00:00\", \"2019-01-01T00:00:00\", \"2020-01-01T00:00:00\", \"2021-01-01T00:00:00\", \"2022-01-01T00:00:00\", \"2023-01-01T00:00:00\", \"2024-01-01T00:00:00\", \"2025-01-01T00:00:00\", \"2026-01-01T00:00:00\", \"2027-01-01T00:00:00\", \"2028-01-01T00:00:00\", \"2029-01-01T00:00:00\", \"2030-01-01T00:00:00\", \"2031-01-01T00:00:00\", \"2032-01-01T00:00:00\", \"2033-01-01T00:00:00\", \"2034-01-01T00:00:00\", \"2035-01-01T00:00:00\", \"2036-01-01T00:00:00\", \"2037-01-01T00:00:00\", \"2038-01-01T00:00:00\", \"2039-01-01T00:00:00\", \"2040-01-01T00:00:00\"], \"y\": [null, null, null, null, null, null, null, null, null, null, null, null, null, null, null, null, null, null, null, null, null, null, null, null, null, null, null, null, null, null, null, null, null, null, null, null, null, null, null, null, null, null, 735036015.5905328, 772934966.7079538, 814215534.7767547, 859516963.4149529, 909541582.8471982, 965145360.3112917, 1027376801.0373327, 1097644644.9780521, 1177630011.7884915, 1269570509.1006749, 1376517824.0259826, 1502487062.1200428, 1653082805.462873, 1836293595.9521108, 2063564917.5536997, 2352625418.00042, 2731072209.521726, 3244204389.610998, 3970252264.4239435, 5052756367.512198, 6770248875.145808, 9684824458.98866, 14944200124.228798, 24733310120.15942]}],\n",
       "                        {\"annotations\": [{\"font\": {\"color\": \"rgb(37,37,37)\", \"family\": \"Arial\", \"size\": 24}, \"showarrow\": false, \"text\": \"World Population vs. Obese Population\", \"x\": 0.0, \"xanchor\": \"left\", \"xref\": \"paper\", \"y\": 1.05, \"yanchor\": \"top\", \"yref\": \"paper\"}, {\"font\": {\"color\": \"rgb(150,150,150)\", \"family\": \"Arial\", \"size\": 12}, \"showarrow\": false, \"text\": \"Source: World Health Organization & World Bank\", \"x\": 0.5, \"xanchor\": \"center\", \"xref\": \"paper\", \"y\": -0.1, \"yanchor\": \"top\", \"yref\": \"paper\"}], \"barmode\": \"overlay\", \"plot_bgcolor\": \"White\", \"template\": {\"data\": {\"bar\": [{\"error_x\": {\"color\": \"#2a3f5f\"}, \"error_y\": {\"color\": \"#2a3f5f\"}, \"marker\": {\"line\": {\"color\": \"#E5ECF6\", \"width\": 0.5}}, \"type\": \"bar\"}], \"barpolar\": [{\"marker\": {\"line\": {\"color\": \"#E5ECF6\", \"width\": 0.5}}, \"type\": \"barpolar\"}], \"carpet\": [{\"aaxis\": {\"endlinecolor\": \"#2a3f5f\", \"gridcolor\": \"white\", \"linecolor\": \"white\", \"minorgridcolor\": \"white\", \"startlinecolor\": \"#2a3f5f\"}, \"baxis\": {\"endlinecolor\": \"#2a3f5f\", \"gridcolor\": \"white\", \"linecolor\": \"white\", \"minorgridcolor\": \"white\", \"startlinecolor\": \"#2a3f5f\"}, \"type\": \"carpet\"}], \"choropleth\": [{\"colorbar\": {\"outlinewidth\": 0, \"ticks\": \"\"}, \"type\": \"choropleth\"}], \"contour\": [{\"colorbar\": {\"outlinewidth\": 0, \"ticks\": \"\"}, \"colorscale\": [[0.0, \"#0d0887\"], [0.1111111111111111, \"#46039f\"], [0.2222222222222222, \"#7201a8\"], [0.3333333333333333, \"#9c179e\"], [0.4444444444444444, \"#bd3786\"], [0.5555555555555556, \"#d8576b\"], [0.6666666666666666, \"#ed7953\"], [0.7777777777777778, \"#fb9f3a\"], [0.8888888888888888, \"#fdca26\"], [1.0, \"#f0f921\"]], \"type\": \"contour\"}], \"contourcarpet\": [{\"colorbar\": {\"outlinewidth\": 0, \"ticks\": \"\"}, \"type\": \"contourcarpet\"}], \"heatmap\": [{\"colorbar\": {\"outlinewidth\": 0, \"ticks\": \"\"}, \"colorscale\": [[0.0, \"#0d0887\"], [0.1111111111111111, \"#46039f\"], [0.2222222222222222, \"#7201a8\"], [0.3333333333333333, \"#9c179e\"], [0.4444444444444444, \"#bd3786\"], [0.5555555555555556, \"#d8576b\"], [0.6666666666666666, \"#ed7953\"], [0.7777777777777778, \"#fb9f3a\"], [0.8888888888888888, \"#fdca26\"], [1.0, \"#f0f921\"]], \"type\": \"heatmap\"}], \"heatmapgl\": [{\"colorbar\": {\"outlinewidth\": 0, \"ticks\": \"\"}, \"colorscale\": [[0.0, \"#0d0887\"], [0.1111111111111111, \"#46039f\"], [0.2222222222222222, \"#7201a8\"], [0.3333333333333333, \"#9c179e\"], [0.4444444444444444, \"#bd3786\"], [0.5555555555555556, \"#d8576b\"], [0.6666666666666666, \"#ed7953\"], [0.7777777777777778, \"#fb9f3a\"], [0.8888888888888888, \"#fdca26\"], [1.0, \"#f0f921\"]], \"type\": \"heatmapgl\"}], \"histogram\": [{\"marker\": {\"colorbar\": {\"outlinewidth\": 0, \"ticks\": \"\"}}, \"type\": \"histogram\"}], \"histogram2d\": [{\"colorbar\": {\"outlinewidth\": 0, \"ticks\": \"\"}, \"colorscale\": [[0.0, \"#0d0887\"], [0.1111111111111111, \"#46039f\"], [0.2222222222222222, \"#7201a8\"], [0.3333333333333333, \"#9c179e\"], [0.4444444444444444, \"#bd3786\"], [0.5555555555555556, \"#d8576b\"], [0.6666666666666666, \"#ed7953\"], [0.7777777777777778, \"#fb9f3a\"], [0.8888888888888888, \"#fdca26\"], [1.0, \"#f0f921\"]], \"type\": \"histogram2d\"}], \"histogram2dcontour\": [{\"colorbar\": {\"outlinewidth\": 0, \"ticks\": \"\"}, \"colorscale\": [[0.0, \"#0d0887\"], [0.1111111111111111, \"#46039f\"], [0.2222222222222222, \"#7201a8\"], [0.3333333333333333, \"#9c179e\"], [0.4444444444444444, \"#bd3786\"], [0.5555555555555556, \"#d8576b\"], [0.6666666666666666, \"#ed7953\"], [0.7777777777777778, \"#fb9f3a\"], [0.8888888888888888, \"#fdca26\"], [1.0, \"#f0f921\"]], \"type\": \"histogram2dcontour\"}], \"mesh3d\": [{\"colorbar\": {\"outlinewidth\": 0, \"ticks\": \"\"}, \"type\": \"mesh3d\"}], \"parcoords\": [{\"line\": {\"colorbar\": {\"outlinewidth\": 0, \"ticks\": \"\"}}, \"type\": \"parcoords\"}], \"scatter\": [{\"marker\": {\"colorbar\": {\"outlinewidth\": 0, \"ticks\": \"\"}}, \"type\": \"scatter\"}], \"scatter3d\": [{\"line\": {\"colorbar\": {\"outlinewidth\": 0, \"ticks\": \"\"}}, \"marker\": {\"colorbar\": {\"outlinewidth\": 0, \"ticks\": \"\"}}, \"type\": \"scatter3d\"}], \"scattercarpet\": [{\"marker\": {\"colorbar\": {\"outlinewidth\": 0, \"ticks\": \"\"}}, \"type\": \"scattercarpet\"}], \"scattergeo\": [{\"marker\": {\"colorbar\": {\"outlinewidth\": 0, \"ticks\": \"\"}}, \"type\": \"scattergeo\"}], \"scattergl\": [{\"marker\": {\"colorbar\": {\"outlinewidth\": 0, \"ticks\": \"\"}}, \"type\": \"scattergl\"}], \"scattermapbox\": [{\"marker\": {\"colorbar\": {\"outlinewidth\": 0, \"ticks\": \"\"}}, \"type\": \"scattermapbox\"}], \"scatterpolar\": [{\"marker\": {\"colorbar\": {\"outlinewidth\": 0, \"ticks\": \"\"}}, \"type\": \"scatterpolar\"}], \"scatterpolargl\": [{\"marker\": {\"colorbar\": {\"outlinewidth\": 0, \"ticks\": \"\"}}, \"type\": \"scatterpolargl\"}], \"scatterternary\": [{\"marker\": {\"colorbar\": {\"outlinewidth\": 0, \"ticks\": \"\"}}, \"type\": \"scatterternary\"}], \"surface\": [{\"colorbar\": {\"outlinewidth\": 0, \"ticks\": \"\"}, \"colorscale\": [[0.0, \"#0d0887\"], [0.1111111111111111, \"#46039f\"], [0.2222222222222222, \"#7201a8\"], [0.3333333333333333, \"#9c179e\"], [0.4444444444444444, \"#bd3786\"], [0.5555555555555556, \"#d8576b\"], [0.6666666666666666, \"#ed7953\"], [0.7777777777777778, \"#fb9f3a\"], [0.8888888888888888, \"#fdca26\"], [1.0, \"#f0f921\"]], \"type\": \"surface\"}], \"table\": [{\"cells\": {\"fill\": {\"color\": \"#EBF0F8\"}, \"line\": {\"color\": \"white\"}}, \"header\": {\"fill\": {\"color\": \"#C8D4E3\"}, \"line\": {\"color\": \"white\"}}, \"type\": \"table\"}]}, \"layout\": {\"annotationdefaults\": {\"arrowcolor\": \"#2a3f5f\", \"arrowhead\": 0, \"arrowwidth\": 1}, \"colorscale\": {\"diverging\": [[0, \"#8e0152\"], [0.1, \"#c51b7d\"], [0.2, \"#de77ae\"], [0.3, \"#f1b6da\"], [0.4, \"#fde0ef\"], [0.5, \"#f7f7f7\"], [0.6, \"#e6f5d0\"], [0.7, \"#b8e186\"], [0.8, \"#7fbc41\"], [0.9, \"#4d9221\"], [1, \"#276419\"]], \"sequential\": [[0.0, \"#0d0887\"], [0.1111111111111111, \"#46039f\"], [0.2222222222222222, \"#7201a8\"], [0.3333333333333333, \"#9c179e\"], [0.4444444444444444, \"#bd3786\"], [0.5555555555555556, \"#d8576b\"], [0.6666666666666666, \"#ed7953\"], [0.7777777777777778, \"#fb9f3a\"], [0.8888888888888888, \"#fdca26\"], [1.0, \"#f0f921\"]], \"sequentialminus\": [[0.0, \"#0d0887\"], [0.1111111111111111, \"#46039f\"], [0.2222222222222222, \"#7201a8\"], [0.3333333333333333, \"#9c179e\"], [0.4444444444444444, \"#bd3786\"], [0.5555555555555556, \"#d8576b\"], [0.6666666666666666, \"#ed7953\"], [0.7777777777777778, \"#fb9f3a\"], [0.8888888888888888, \"#fdca26\"], [1.0, \"#f0f921\"]]}, \"colorway\": [\"#636efa\", \"#EF553B\", \"#00cc96\", \"#ab63fa\", \"#FFA15A\", \"#19d3f3\", \"#FF6692\", \"#B6E880\", \"#FF97FF\", \"#FECB52\"], \"font\": {\"color\": \"#2a3f5f\"}, \"geo\": {\"bgcolor\": \"white\", \"lakecolor\": \"white\", \"landcolor\": \"#E5ECF6\", \"showlakes\": true, \"showland\": true, \"subunitcolor\": \"white\"}, \"hoverlabel\": {\"align\": \"left\"}, \"hovermode\": \"closest\", \"mapbox\": {\"style\": \"light\"}, \"paper_bgcolor\": \"white\", \"plot_bgcolor\": \"#E5ECF6\", \"polar\": {\"angularaxis\": {\"gridcolor\": \"white\", \"linecolor\": \"white\", \"ticks\": \"\"}, \"bgcolor\": \"#E5ECF6\", \"radialaxis\": {\"gridcolor\": \"white\", \"linecolor\": \"white\", \"ticks\": \"\"}}, \"scene\": {\"xaxis\": {\"backgroundcolor\": \"#E5ECF6\", \"gridcolor\": \"white\", \"gridwidth\": 2, \"linecolor\": \"white\", \"showbackground\": true, \"ticks\": \"\", \"zerolinecolor\": \"white\"}, \"yaxis\": {\"backgroundcolor\": \"#E5ECF6\", \"gridcolor\": \"white\", \"gridwidth\": 2, \"linecolor\": \"white\", \"showbackground\": true, \"ticks\": \"\", \"zerolinecolor\": \"white\"}, \"zaxis\": {\"backgroundcolor\": \"#E5ECF6\", \"gridcolor\": \"white\", \"gridwidth\": 2, \"linecolor\": \"white\", \"showbackground\": true, \"ticks\": \"\", \"zerolinecolor\": \"white\"}}, \"shapedefaults\": {\"line\": {\"color\": \"#2a3f5f\"}}, \"ternary\": {\"aaxis\": {\"gridcolor\": \"white\", \"linecolor\": \"white\", \"ticks\": \"\"}, \"baxis\": {\"gridcolor\": \"white\", \"linecolor\": \"white\", \"ticks\": \"\"}, \"bgcolor\": \"#E5ECF6\", \"caxis\": {\"gridcolor\": \"white\", \"linecolor\": \"white\", \"ticks\": \"\"}}, \"title\": {\"x\": 0.05}, \"xaxis\": {\"automargin\": true, \"gridcolor\": \"white\", \"linecolor\": \"white\", \"ticks\": \"\", \"zerolinecolor\": \"white\", \"zerolinewidth\": 2}, \"yaxis\": {\"automargin\": true, \"gridcolor\": \"white\", \"linecolor\": \"white\", \"ticks\": \"\", \"zerolinecolor\": \"white\", \"zerolinewidth\": 2}}}, \"xaxis\": {\"linecolor\": \"rgb(204, 204, 204)\", \"linewidth\": 2, \"showgrid\": false, \"showline\": true, \"showticklabels\": true, \"tickfont\": {\"color\": \"rgb(82, 82, 82)\", \"family\": \"Arial\", \"size\": 12}, \"ticks\": \"outside\"}, \"yaxis\": {\"showgrid\": false, \"showline\": false, \"zeroline\": false}},\n",
       "                        {\"responsive\": true}\n",
       "                    ).then(function(){\n",
       "                            \n",
       "var gd = document.getElementById('fa94b030-cda5-4289-b49d-9f74584efb48');\n",
       "var x = new MutationObserver(function (mutations, observer) {{\n",
       "        var display = window.getComputedStyle(gd).display;\n",
       "        if (!display || display === 'none') {{\n",
       "            console.log([gd, 'removed!']);\n",
       "            Plotly.purge(gd);\n",
       "            observer.disconnect();\n",
       "        }}\n",
       "}});\n",
       "\n",
       "// Listen for the removal of the full notebook cells\n",
       "var notebookContainer = gd.closest('#notebook-container');\n",
       "if (notebookContainer) {{\n",
       "    x.observe(notebookContainer, {childList: true});\n",
       "}}\n",
       "\n",
       "// Listen for the clearing of the current output cell\n",
       "var outputEl = gd.closest('.output');\n",
       "if (outputEl) {{\n",
       "    x.observe(outputEl, {childList: true});\n",
       "}}\n",
       "\n",
       "                        })\n",
       "                };\n",
       "                });\n",
       "            </script>\n",
       "        </div>"
      ]
     },
     "metadata": {},
     "output_type": "display_data"
    }
   ],
   "source": [
    "fig = go.Figure()\n",
    "\n",
    "fig.add_trace(go.Bar(x = pop_project.index, \n",
    "                     y = pop_project['sum_pop'], \n",
    "                     name = 'Actual Pop'))\n",
    "\n",
    "fig.add_trace(go.Bar(x = pop_project.index, \n",
    "                     y = pop_project['pred'], \n",
    "                     name = 'Predicted Pop'))\n",
    "\n",
    "fig.add_trace(go.Bar(x = obs_project.index, \n",
    "                     y = obs_project['sum_obs'], \n",
    "                     name = 'Actual Obese'))\n",
    "\n",
    "fig.add_trace(go.Bar(x = obs_project.index, \n",
    "                     y = obs_project['pred'], \n",
    "                     name = 'Predicted Obese'))\n",
    "\n",
    "annotations = []\n",
    "\n",
    "# Adding labels\n",
    "# Title\n",
    "annotations.append(dict(xref='paper', yref='paper', x=0.0, y=1.05,\n",
    "                              xanchor = 'left', yanchor = 'top',\n",
    "                              text = 'World Population vs. Obese Population',\n",
    "                              font = dict(family = 'Arial', \n",
    "                                          size = 24, \n",
    "                                          color = 'rgb(37,37,37)'),\n",
    "                              showarrow = False))\n",
    "# Source\n",
    "annotations.append(dict(xref='paper', yref='paper', x=0.5, y=-0.1,\n",
    "                              xanchor = 'center', yanchor = 'top',\n",
    "                              text = 'Source: World Health Organization & World Bank',\n",
    "                              font = dict(family = 'Arial', \n",
    "                                          size = 12, \n",
    "                                          color = 'rgb(150,150,150)'),\n",
    "                              showarrow=False))\n",
    "\n",
    "fig.update_layout(barmode = 'overlay', \n",
    "                  annotations = annotations, \n",
    "                  xaxis=dict(showline=True, \n",
    "                             showgrid=False, \n",
    "                             showticklabels=True, \n",
    "                             linecolor='rgb(204, 204, 204)', \n",
    "                             linewidth=2,ticks='outside', \n",
    "                             tickfont=dict(family='Arial', \n",
    "                                           size=12, \n",
    "                                           color='rgb(82, 82, 82)')), \n",
    "                  yaxis=dict(showgrid=False, \n",
    "                             zeroline=False, \n",
    "                             showline=False),\n",
    "                 plot_bgcolor = 'White')\n",
    "\n",
    "fig.update_traces(opacity = 0.75)\n",
    "\n",
    "fig.show()"
   ]
  }
 ],
 "metadata": {
  "kernelspec": {
   "display_name": "Python 3",
   "language": "python",
   "name": "python3"
  },
  "language_info": {
   "codemirror_mode": {
    "name": "ipython",
    "version": 3
   },
   "file_extension": ".py",
   "mimetype": "text/x-python",
   "name": "python",
   "nbconvert_exporter": "python",
   "pygments_lexer": "ipython3",
   "version": "3.7.3"
  }
 },
 "nbformat": 4,
 "nbformat_minor": 2
}
