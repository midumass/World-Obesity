{
 "cells": [
  {
   "cell_type": "code",
   "execution_count": 1,
   "metadata": {},
   "outputs": [
    {
     "data": {
      "text/html": [
       "        <script type=\"text/javascript\">\n",
       "        window.PlotlyConfig = {MathJaxConfig: 'local'};\n",
       "        if (window.MathJax) {MathJax.Hub.Config({SVG: {font: \"STIX-Web\"}});}\n",
       "        if (typeof require !== 'undefined') {\n",
       "        require.undef(\"plotly\");\n",
       "        requirejs.config({\n",
       "            paths: {\n",
       "                'plotly': ['https://cdn.plot.ly/plotly-latest.min']\n",
       "            }\n",
       "        });\n",
       "        require(['plotly'], function(Plotly) {\n",
       "            window._Plotly = Plotly;\n",
       "        });\n",
       "        }\n",
       "        </script>\n",
       "        "
      ]
     },
     "metadata": {},
     "output_type": "display_data"
    }
   ],
   "source": [
    "import numpy as np\n",
    "import pandas as pd\n",
    "from pandas.tseries.offsets import DateOffset\n",
    "from sklearn.preprocessing import MinMaxScaler\n",
    "\n",
    "import os\n",
    "import logging\n",
    "os.environ['TF_CPP_MIN_LOG_LEVEL'] = '0'\n",
    "logging.getLogger(\"tensorflow\").setLevel(logging.ERROR)\n",
    "\n",
    "import tensorflow as tf\n",
    "from tensorflow import keras\n",
    "#tf.autograph.set_verbosity(3)\n",
    "#tf.get_logger().setLevel('ERROR')\n",
    "\n",
    "from tensorflow.keras.preprocessing.sequence import TimeseriesGenerator\n",
    "from tensorflow.keras.models import Sequential\n",
    "from tensorflow.keras.layers import Dense\n",
    "from tensorflow.keras.layers import LSTM\n",
    "from tensorflow.keras.layers import Dropout\n",
    "\n",
    "import chart_studio.plotly as py\n",
    "import plotly.offline as pyoff\n",
    "import plotly.graph_objs as go\n",
    "pyoff.init_notebook_mode(connected=True)"
   ]
  },
  {
   "cell_type": "code",
   "execution_count": 2,
   "metadata": {},
   "outputs": [],
   "source": [
    "obs = pd.read_csv('obesity_sums.csv', index_col = 1)\n",
    "pop = pd.read_csv('pop_sums.csv', index_col = 1)"
   ]
  },
  {
   "cell_type": "code",
   "execution_count": 3,
   "metadata": {},
   "outputs": [],
   "source": [
    "obs.drop(columns = obs.columns[0], inplace = True)\n",
    "pop.drop(columns = pop.columns[0], inplace = True)"
   ]
  },
  {
   "cell_type": "code",
   "execution_count": 4,
   "metadata": {},
   "outputs": [
    {
     "data": {
      "text/html": [
       "<div>\n",
       "<style scoped>\n",
       "    .dataframe tbody tr th:only-of-type {\n",
       "        vertical-align: middle;\n",
       "    }\n",
       "\n",
       "    .dataframe tbody tr th {\n",
       "        vertical-align: top;\n",
       "    }\n",
       "\n",
       "    .dataframe thead th {\n",
       "        text-align: right;\n",
       "    }\n",
       "</style>\n",
       "<table border=\"1\" class=\"dataframe\">\n",
       "  <thead>\n",
       "    <tr style=\"text-align: right;\">\n",
       "      <th></th>\n",
       "      <th>Afghanistan</th>\n",
       "      <th>Albania</th>\n",
       "      <th>Algeria</th>\n",
       "      <th>Andorra</th>\n",
       "      <th>Angola</th>\n",
       "      <th>Antigua and Barbuda</th>\n",
       "      <th>Argentina</th>\n",
       "      <th>Armenia</th>\n",
       "      <th>Australia</th>\n",
       "      <th>Austria</th>\n",
       "      <th>...</th>\n",
       "      <th>Uruguay</th>\n",
       "      <th>Uzbekistan</th>\n",
       "      <th>Vanuatu</th>\n",
       "      <th>Venezuela (Bolivarian Republic of)</th>\n",
       "      <th>Viet Nam</th>\n",
       "      <th>Yemen</th>\n",
       "      <th>Yemen Arab Republic (until 1990)</th>\n",
       "      <th>Zambia</th>\n",
       "      <th>Zimbabwe</th>\n",
       "      <th>sum_yr</th>\n",
       "    </tr>\n",
       "    <tr>\n",
       "      <th>year</th>\n",
       "      <th></th>\n",
       "      <th></th>\n",
       "      <th></th>\n",
       "      <th></th>\n",
       "      <th></th>\n",
       "      <th></th>\n",
       "      <th></th>\n",
       "      <th></th>\n",
       "      <th></th>\n",
       "      <th></th>\n",
       "      <th></th>\n",
       "      <th></th>\n",
       "      <th></th>\n",
       "      <th></th>\n",
       "      <th></th>\n",
       "      <th></th>\n",
       "      <th></th>\n",
       "      <th></th>\n",
       "      <th></th>\n",
       "      <th></th>\n",
       "      <th></th>\n",
       "    </tr>\n",
       "  </thead>\n",
       "  <tbody>\n",
       "    <tr>\n",
       "      <th>1975</th>\n",
       "      <td>27738.248</td>\n",
       "      <td>83895.393</td>\n",
       "      <td>521474.391</td>\n",
       "      <td>4114.470</td>\n",
       "      <td>26463.808</td>\n",
       "      <td>1873.638</td>\n",
       "      <td>2026515.012</td>\n",
       "      <td>122889.228</td>\n",
       "      <td>1057115.850</td>\n",
       "      <td>447584.137</td>\n",
       "      <td>...</td>\n",
       "      <td>241543.050</td>\n",
       "      <td>307490.391</td>\n",
       "      <td>2582.603</td>\n",
       "      <td>620170.937</td>\n",
       "      <td>NaN</td>\n",
       "      <td>NaN</td>\n",
       "      <td>87875.500</td>\n",
       "      <td>33133.776</td>\n",
       "      <td>95983.800</td>\n",
       "      <td>1.016903e+08</td>\n",
       "    </tr>\n",
       "    <tr>\n",
       "      <th>1976</th>\n",
       "      <td>28151.132</td>\n",
       "      <td>87965.642</td>\n",
       "      <td>554596.750</td>\n",
       "      <td>4448.780</td>\n",
       "      <td>31160.800</td>\n",
       "      <td>1968.420</td>\n",
       "      <td>2126952.830</td>\n",
       "      <td>130830.640</td>\n",
       "      <td>1092576.679</td>\n",
       "      <td>455693.472</td>\n",
       "      <td>...</td>\n",
       "      <td>248831.781</td>\n",
       "      <td>326432.240</td>\n",
       "      <td>2781.142</td>\n",
       "      <td>666747.164</td>\n",
       "      <td>NaN</td>\n",
       "      <td>NaN</td>\n",
       "      <td>93129.504</td>\n",
       "      <td>36806.154</td>\n",
       "      <td>105372.064</td>\n",
       "      <td>1.070177e+08</td>\n",
       "    </tr>\n",
       "    <tr>\n",
       "      <th>1977</th>\n",
       "      <td>35650.355</td>\n",
       "      <td>93913.200</td>\n",
       "      <td>580828.214</td>\n",
       "      <td>4751.795</td>\n",
       "      <td>32280.848</td>\n",
       "      <td>2027.484</td>\n",
       "      <td>2208714.442</td>\n",
       "      <td>139175.960</td>\n",
       "      <td>1143350.120</td>\n",
       "      <td>470797.440</td>\n",
       "      <td>...</td>\n",
       "      <td>257016.412</td>\n",
       "      <td>355657.848</td>\n",
       "      <td>2990.079</td>\n",
       "      <td>707066.008</td>\n",
       "      <td>29521.042</td>\n",
       "      <td>NaN</td>\n",
       "      <td>99022.149</td>\n",
       "      <td>40746.735</td>\n",
       "      <td>111814.956</td>\n",
       "      <td>1.122184e+08</td>\n",
       "    </tr>\n",
       "    <tr>\n",
       "      <th>1978</th>\n",
       "      <td>35978.345</td>\n",
       "      <td>98460.161</td>\n",
       "      <td>618651.584</td>\n",
       "      <td>5060.550</td>\n",
       "      <td>33523.400</td>\n",
       "      <td>2122.680</td>\n",
       "      <td>2291126.046</td>\n",
       "      <td>147715.560</td>\n",
       "      <td>1197284.833</td>\n",
       "      <td>485625.648</td>\n",
       "      <td>...</td>\n",
       "      <td>265796.776</td>\n",
       "      <td>378105.493</td>\n",
       "      <td>3207.719</td>\n",
       "      <td>765534.484</td>\n",
       "      <td>30358.912</td>\n",
       "      <td>NaN</td>\n",
       "      <td>105526.792</td>\n",
       "      <td>42152.235</td>\n",
       "      <td>118645.074</td>\n",
       "      <td>1.173522e+08</td>\n",
       "    </tr>\n",
       "    <tr>\n",
       "      <th>1979</th>\n",
       "      <td>36086.650</td>\n",
       "      <td>104711.922</td>\n",
       "      <td>668897.984</td>\n",
       "      <td>5431.608</td>\n",
       "      <td>39113.271</td>\n",
       "      <td>2214.266</td>\n",
       "      <td>2395318.250</td>\n",
       "      <td>158243.475</td>\n",
       "      <td>1240174.030</td>\n",
       "      <td>500297.364</td>\n",
       "      <td>...</td>\n",
       "      <td>274676.220</td>\n",
       "      <td>401084.772</td>\n",
       "      <td>3430.185</td>\n",
       "      <td>818630.390</td>\n",
       "      <td>62448.396</td>\n",
       "      <td>NaN</td>\n",
       "      <td>116458.110</td>\n",
       "      <td>46541.456</td>\n",
       "      <td>129657.888</td>\n",
       "      <td>1.229560e+08</td>\n",
       "    </tr>\n",
       "  </tbody>\n",
       "</table>\n",
       "<p>5 rows × 190 columns</p>\n",
       "</div>"
      ],
      "text/plain": [
       "      Afghanistan     Albania     Algeria   Andorra     Angola  \\\n",
       "year                                                             \n",
       "1975    27738.248   83895.393  521474.391  4114.470  26463.808   \n",
       "1976    28151.132   87965.642  554596.750  4448.780  31160.800   \n",
       "1977    35650.355   93913.200  580828.214  4751.795  32280.848   \n",
       "1978    35978.345   98460.161  618651.584  5060.550  33523.400   \n",
       "1979    36086.650  104711.922  668897.984  5431.608  39113.271   \n",
       "\n",
       "      Antigua and Barbuda    Argentina     Armenia    Australia     Austria  \\\n",
       "year                                                                          \n",
       "1975             1873.638  2026515.012  122889.228  1057115.850  447584.137   \n",
       "1976             1968.420  2126952.830  130830.640  1092576.679  455693.472   \n",
       "1977             2027.484  2208714.442  139175.960  1143350.120  470797.440   \n",
       "1978             2122.680  2291126.046  147715.560  1197284.833  485625.648   \n",
       "1979             2214.266  2395318.250  158243.475  1240174.030  500297.364   \n",
       "\n",
       "      ...     Uruguay  Uzbekistan   Vanuatu  \\\n",
       "year  ...                                     \n",
       "1975  ...  241543.050  307490.391  2582.603   \n",
       "1976  ...  248831.781  326432.240  2781.142   \n",
       "1977  ...  257016.412  355657.848  2990.079   \n",
       "1978  ...  265796.776  378105.493  3207.719   \n",
       "1979  ...  274676.220  401084.772  3430.185   \n",
       "\n",
       "      Venezuela (Bolivarian Republic of)   Viet Nam  Yemen  \\\n",
       "year                                                         \n",
       "1975                          620170.937        NaN    NaN   \n",
       "1976                          666747.164        NaN    NaN   \n",
       "1977                          707066.008  29521.042    NaN   \n",
       "1978                          765534.484  30358.912    NaN   \n",
       "1979                          818630.390  62448.396    NaN   \n",
       "\n",
       "      Yemen Arab Republic (until 1990)     Zambia    Zimbabwe        sum_yr  \n",
       "year                                                                         \n",
       "1975                         87875.500  33133.776   95983.800  1.016903e+08  \n",
       "1976                         93129.504  36806.154  105372.064  1.070177e+08  \n",
       "1977                         99022.149  40746.735  111814.956  1.122184e+08  \n",
       "1978                        105526.792  42152.235  118645.074  1.173522e+08  \n",
       "1979                        116458.110  46541.456  129657.888  1.229560e+08  \n",
       "\n",
       "[5 rows x 190 columns]"
      ]
     },
     "execution_count": 4,
     "metadata": {},
     "output_type": "execute_result"
    }
   ],
   "source": [
    "obs.head()"
   ]
  },
  {
   "cell_type": "code",
   "execution_count": 5,
   "metadata": {},
   "outputs": [
    {
     "data": {
      "text/html": [
       "<div>\n",
       "<style scoped>\n",
       "    .dataframe tbody tr th:only-of-type {\n",
       "        vertical-align: middle;\n",
       "    }\n",
       "\n",
       "    .dataframe tbody tr th {\n",
       "        vertical-align: top;\n",
       "    }\n",
       "\n",
       "    .dataframe thead th {\n",
       "        text-align: right;\n",
       "    }\n",
       "</style>\n",
       "<table border=\"1\" class=\"dataframe\">\n",
       "  <thead>\n",
       "    <tr style=\"text-align: right;\">\n",
       "      <th></th>\n",
       "      <th>Afghanistan</th>\n",
       "      <th>Albania</th>\n",
       "      <th>Algeria</th>\n",
       "      <th>Andorra</th>\n",
       "      <th>Angola</th>\n",
       "      <th>Antigua and Barbuda</th>\n",
       "      <th>Argentina</th>\n",
       "      <th>Armenia</th>\n",
       "      <th>Australia</th>\n",
       "      <th>Austria</th>\n",
       "      <th>...</th>\n",
       "      <th>Uruguay</th>\n",
       "      <th>Uzbekistan</th>\n",
       "      <th>Vanuatu</th>\n",
       "      <th>Venezuela (Bolivarian Republic of)</th>\n",
       "      <th>Viet Nam</th>\n",
       "      <th>Yemen</th>\n",
       "      <th>Yemen Arab Republic (until 1990)</th>\n",
       "      <th>Zambia</th>\n",
       "      <th>Zimbabwe</th>\n",
       "      <th>sum_yr</th>\n",
       "    </tr>\n",
       "    <tr>\n",
       "      <th>year</th>\n",
       "      <th></th>\n",
       "      <th></th>\n",
       "      <th></th>\n",
       "      <th></th>\n",
       "      <th></th>\n",
       "      <th></th>\n",
       "      <th></th>\n",
       "      <th></th>\n",
       "      <th></th>\n",
       "      <th></th>\n",
       "      <th></th>\n",
       "      <th></th>\n",
       "      <th></th>\n",
       "      <th></th>\n",
       "      <th></th>\n",
       "      <th></th>\n",
       "      <th></th>\n",
       "      <th></th>\n",
       "      <th></th>\n",
       "      <th></th>\n",
       "      <th></th>\n",
       "    </tr>\n",
       "  </thead>\n",
       "  <tbody>\n",
       "    <tr>\n",
       "      <th>1975</th>\n",
       "      <td>6934562.0</td>\n",
       "      <td>1471849.0</td>\n",
       "      <td>8838549.0</td>\n",
       "      <td>30705.0</td>\n",
       "      <td>3780544.0</td>\n",
       "      <td>36738.0</td>\n",
       "      <td>18256892.0</td>\n",
       "      <td>1861958.0</td>\n",
       "      <td>10067770.0</td>\n",
       "      <td>5812781.0</td>\n",
       "      <td>...</td>\n",
       "      <td>2046975.0</td>\n",
       "      <td>7884369.0</td>\n",
       "      <td>54949.0</td>\n",
       "      <td>7471939.0</td>\n",
       "      <td>NaN</td>\n",
       "      <td>NaN</td>\n",
       "      <td>3515020.0</td>\n",
       "      <td>2548752.0</td>\n",
       "      <td>3199460.0</td>\n",
       "      <td>2.445823e+09</td>\n",
       "    </tr>\n",
       "    <tr>\n",
       "      <th>1976</th>\n",
       "      <td>7037783.0</td>\n",
       "      <td>1516649.0</td>\n",
       "      <td>9091750.0</td>\n",
       "      <td>31777.0</td>\n",
       "      <td>3895100.0</td>\n",
       "      <td>37140.0</td>\n",
       "      <td>18495242.0</td>\n",
       "      <td>1923980.0</td>\n",
       "      <td>10210997.0</td>\n",
       "      <td>5842224.0</td>\n",
       "      <td>...</td>\n",
       "      <td>2056461.0</td>\n",
       "      <td>8160806.0</td>\n",
       "      <td>56758.0</td>\n",
       "      <td>7752874.0</td>\n",
       "      <td>NaN</td>\n",
       "      <td>NaN</td>\n",
       "      <td>3581904.0</td>\n",
       "      <td>2629011.0</td>\n",
       "      <td>3292877.0</td>\n",
       "      <td>2.498616e+09</td>\n",
       "    </tr>\n",
       "    <tr>\n",
       "      <th>1977</th>\n",
       "      <td>7130071.0</td>\n",
       "      <td>1565220.0</td>\n",
       "      <td>9368197.0</td>\n",
       "      <td>32771.0</td>\n",
       "      <td>4035106.0</td>\n",
       "      <td>37546.0</td>\n",
       "      <td>18717919.0</td>\n",
       "      <td>1988228.0</td>\n",
       "      <td>10394092.0</td>\n",
       "      <td>5884968.0</td>\n",
       "      <td>...</td>\n",
       "      <td>2072713.0</td>\n",
       "      <td>8468044.0</td>\n",
       "      <td>58629.0</td>\n",
       "      <td>8034841.0</td>\n",
       "      <td>29521042.0</td>\n",
       "      <td>NaN</td>\n",
       "      <td>3667487.0</td>\n",
       "      <td>2716449.0</td>\n",
       "      <td>3388332.0</td>\n",
       "      <td>2.583692e+09</td>\n",
       "    </tr>\n",
       "    <tr>\n",
       "      <th>1978</th>\n",
       "      <td>7195669.0</td>\n",
       "      <td>1614101.0</td>\n",
       "      <td>9666431.0</td>\n",
       "      <td>33737.0</td>\n",
       "      <td>4190425.0</td>\n",
       "      <td>37905.0</td>\n",
       "      <td>18934926.0</td>\n",
       "      <td>2051605.0</td>\n",
       "      <td>10595441.0</td>\n",
       "      <td>5922264.0</td>\n",
       "      <td>...</td>\n",
       "      <td>2092888.0</td>\n",
       "      <td>8793151.0</td>\n",
       "      <td>60523.0</td>\n",
       "      <td>8321027.0</td>\n",
       "      <td>30358912.0</td>\n",
       "      <td>NaN</td>\n",
       "      <td>3768814.0</td>\n",
       "      <td>2810149.0</td>\n",
       "      <td>3489561.0</td>\n",
       "      <td>2.643168e+09</td>\n",
       "    </tr>\n",
       "    <tr>\n",
       "      <th>1979</th>\n",
       "      <td>7217330.0</td>\n",
       "      <td>1662094.0</td>\n",
       "      <td>9983552.0</td>\n",
       "      <td>34818.0</td>\n",
       "      <td>4345919.0</td>\n",
       "      <td>38177.0</td>\n",
       "      <td>19162546.0</td>\n",
       "      <td>2109913.0</td>\n",
       "      <td>10784122.0</td>\n",
       "      <td>5955921.0</td>\n",
       "      <td>...</td>\n",
       "      <td>2112894.0</td>\n",
       "      <td>9115563.0</td>\n",
       "      <td>62367.0</td>\n",
       "      <td>8617162.0</td>\n",
       "      <td>31224198.0</td>\n",
       "      <td>NaN</td>\n",
       "      <td>3881937.0</td>\n",
       "      <td>2908841.0</td>\n",
       "      <td>3601608.0</td>\n",
       "      <td>2.705041e+09</td>\n",
       "    </tr>\n",
       "  </tbody>\n",
       "</table>\n",
       "<p>5 rows × 190 columns</p>\n",
       "</div>"
      ],
      "text/plain": [
       "      Afghanistan    Albania    Algeria  Andorra     Angola  \\\n",
       "year                                                          \n",
       "1975    6934562.0  1471849.0  8838549.0  30705.0  3780544.0   \n",
       "1976    7037783.0  1516649.0  9091750.0  31777.0  3895100.0   \n",
       "1977    7130071.0  1565220.0  9368197.0  32771.0  4035106.0   \n",
       "1978    7195669.0  1614101.0  9666431.0  33737.0  4190425.0   \n",
       "1979    7217330.0  1662094.0  9983552.0  34818.0  4345919.0   \n",
       "\n",
       "      Antigua and Barbuda   Argentina    Armenia   Australia    Austria  ...  \\\n",
       "year                                                                     ...   \n",
       "1975              36738.0  18256892.0  1861958.0  10067770.0  5812781.0  ...   \n",
       "1976              37140.0  18495242.0  1923980.0  10210997.0  5842224.0  ...   \n",
       "1977              37546.0  18717919.0  1988228.0  10394092.0  5884968.0  ...   \n",
       "1978              37905.0  18934926.0  2051605.0  10595441.0  5922264.0  ...   \n",
       "1979              38177.0  19162546.0  2109913.0  10784122.0  5955921.0  ...   \n",
       "\n",
       "        Uruguay  Uzbekistan  Vanuatu  Venezuela (Bolivarian Republic of)  \\\n",
       "year                                                                       \n",
       "1975  2046975.0   7884369.0  54949.0                           7471939.0   \n",
       "1976  2056461.0   8160806.0  56758.0                           7752874.0   \n",
       "1977  2072713.0   8468044.0  58629.0                           8034841.0   \n",
       "1978  2092888.0   8793151.0  60523.0                           8321027.0   \n",
       "1979  2112894.0   9115563.0  62367.0                           8617162.0   \n",
       "\n",
       "        Viet Nam  Yemen  Yemen Arab Republic (until 1990)     Zambia  \\\n",
       "year                                                                   \n",
       "1975         NaN    NaN                         3515020.0  2548752.0   \n",
       "1976         NaN    NaN                         3581904.0  2629011.0   \n",
       "1977  29521042.0    NaN                         3667487.0  2716449.0   \n",
       "1978  30358912.0    NaN                         3768814.0  2810149.0   \n",
       "1979  31224198.0    NaN                         3881937.0  2908841.0   \n",
       "\n",
       "       Zimbabwe        sum_yr  \n",
       "year                           \n",
       "1975  3199460.0  2.445823e+09  \n",
       "1976  3292877.0  2.498616e+09  \n",
       "1977  3388332.0  2.583692e+09  \n",
       "1978  3489561.0  2.643168e+09  \n",
       "1979  3601608.0  2.705041e+09  \n",
       "\n",
       "[5 rows x 190 columns]"
      ]
     },
     "execution_count": 5,
     "metadata": {},
     "output_type": "execute_result"
    }
   ],
   "source": [
    "pop.head()"
   ]
  },
  {
   "cell_type": "code",
   "execution_count": 6,
   "metadata": {},
   "outputs": [],
   "source": [
    "obs.index = pd.to_datetime(obs.index, format = '%Y')\n",
    "pop.index = pd.to_datetime(pop.index, format = '%Y')"
   ]
  },
  {
   "cell_type": "code",
   "execution_count": 7,
   "metadata": {},
   "outputs": [],
   "source": [
    "obs_sums = obs[['sum_yr']]\n",
    "pop_sums = pop[['sum_yr']]"
   ]
  },
  {
   "cell_type": "code",
   "execution_count": 8,
   "metadata": {},
   "outputs": [],
   "source": [
    "obs_sums = obs_sums.rename(columns = {'sum_yr' : 'sum_obs'})\n",
    "pop_sums = pop_sums.rename(columns = {'sum_yr' : 'sum_pop'})"
   ]
  },
  {
   "cell_type": "code",
   "execution_count": 9,
   "metadata": {},
   "outputs": [],
   "source": [
    "# this code was derived from another source and modified into a function\n",
    "# https://towardsdatascience.com/time-series-prediction-beyond-test-data-3f4625019fd9\n",
    "\n",
    "def TimeSeriesPredictor(df, output_length, features):\n",
    "    tf.autograph.set_verbosity(1)\n",
    "    \n",
    "    train = df\n",
    "\n",
    "    scaler = MinMaxScaler()\n",
    "\n",
    "    scaler.fit(train)\n",
    "\n",
    "    train = scaler.transform(train)\n",
    "    generator = TimeseriesGenerator(train, train, length = output_length, batch_size = 6)\n",
    "\n",
    "    model = Sequential()\n",
    "    model.add(LSTM(200, activation = 'relu', input_shape = (output_length, features)))\n",
    "    model.add(Dropout(0.15))\n",
    "    model.add(Dense(1))\n",
    "\n",
    "    optimizer = keras.optimizers.Adam(learning_rate = 0.001)\n",
    "\n",
    "    model.compile(optimizer = optimizer, loss = 'mse')\n",
    "\n",
    "    history = model.fit(generator, epochs = 100, verbose = 1)\n",
    "    hist = pd.DataFrame(history.history)\n",
    "    hist['epoch'] = history.epoch\n",
    "\n",
    "    pred_list = []\n",
    "\n",
    "    batch = train[-output_length:].reshape((1, output_length, features))\n",
    "\n",
    "    for i in range(output_length):   \n",
    "        pred_list.append(model.predict(batch)[0]) \n",
    "        batch = np.append(batch[:,1:,:], [[pred_list[i]]], axis = 1)\n",
    "\n",
    "    add_dates = [df.index[-1] + DateOffset(years = x) for x in range(0, output_length + 1)]\n",
    "\n",
    "    future_dates = pd.DataFrame(index = add_dates[1:], columns = df.columns)\n",
    "\n",
    "    predict = pd.DataFrame(scaler.inverse_transform(pred_list), \n",
    "                           index = future_dates[-output_length:].index, \n",
    "                           columns = ['pred'])\n",
    "\n",
    "    project = pd.concat([df, predict], axis=1)\n",
    "\n",
    "    return [hist, project]"
   ]
  },
  {
   "cell_type": "code",
   "execution_count": 10,
   "metadata": {},
   "outputs": [
    {
     "name": "stdout",
     "output_type": "stream",
     "text": [
      "WARNING:tensorflow:sample_weight modes were coerced from\n",
      "  ...\n",
      "    to  \n",
      "  ['...']\n",
      "INFO:tensorflow:Converted call: <function DatasetV2.from_generator.<locals>.flat_map_fn at 0x0000026EED7547B8>\n",
      "    args: (<tf.Tensor 'args_0:0' shape=() dtype=int32>,)\n",
      "    kwargs: {}\n",
      "\n",
      "INFO:tensorflow:Converted call: <function _process_inputs.<locals>.standardize_function.<locals>.map_fn at 0x0000026EED7549D8>\n",
      "    args: (<tf.Tensor 'args_0:0' shape=(None, None, None) dtype=float64>, <tf.Tensor 'args_1:0' shape=(None, None) dtype=float64>)\n",
      "    kwargs: {}\n",
      "\n",
      "Train for 5 steps\n",
      "Epoch 1/100\n",
      "5/5 [==============================] - 1s 172ms/step - loss: 0.2544\n",
      "Epoch 2/100\n",
      "5/5 [==============================] - 0s 15ms/step - loss: 0.1768\n",
      "Epoch 3/100\n",
      "5/5 [==============================] - 0s 16ms/step - loss: 0.0668\n",
      "Epoch 4/100\n",
      "5/5 [==============================] - 0s 16ms/step - loss: 0.0234\n",
      "Epoch 5/100\n",
      "5/5 [==============================] - 0s 15ms/step - loss: 0.0061\n",
      "Epoch 6/100\n",
      "5/5 [==============================] - 0s 16ms/step - loss: 0.0127\n",
      "Epoch 7/100\n",
      "5/5 [==============================] - 0s 15ms/step - loss: 0.0077\n",
      "Epoch 8/100\n",
      "5/5 [==============================] - 0s 15ms/step - loss: 0.0048\n",
      "Epoch 9/100\n",
      "5/5 [==============================] - 0s 15ms/step - loss: 0.0015\n",
      "Epoch 10/100\n",
      "5/5 [==============================] - 0s 15ms/step - loss: 0.0015\n",
      "Epoch 11/100\n",
      "5/5 [==============================] - 0s 15ms/step - loss: 0.0036\n",
      "Epoch 12/100\n",
      "5/5 [==============================] - 0s 15ms/step - loss: 0.0030\n",
      "Epoch 13/100\n",
      "5/5 [==============================] - 0s 14ms/step - loss: 0.0030\n",
      "Epoch 14/100\n",
      "5/5 [==============================] - 0s 14ms/step - loss: 0.0012\n",
      "Epoch 15/100\n",
      "5/5 [==============================] - 0s 14ms/step - loss: 0.0024\n",
      "Epoch 16/100\n",
      "5/5 [==============================] - 0s 15ms/step - loss: 0.0021\n",
      "Epoch 17/100\n",
      "5/5 [==============================] - 0s 14ms/step - loss: 0.0013\n",
      "Epoch 18/100\n",
      "5/5 [==============================] - 0s 15ms/step - loss: 0.0015\n",
      "Epoch 19/100\n",
      "5/5 [==============================] - 0s 22ms/step - loss: 0.0011\n",
      "Epoch 20/100\n",
      "5/5 [==============================] - 0s 14ms/step - loss: 0.0010\n",
      "Epoch 21/100\n",
      "5/5 [==============================] - 0s 14ms/step - loss: 0.0016\n",
      "Epoch 22/100\n",
      "5/5 [==============================] - 0s 14ms/step - loss: 0.0019\n",
      "Epoch 23/100\n",
      "5/5 [==============================] - 0s 15ms/step - loss: 8.7306e-04\n",
      "Epoch 24/100\n",
      "5/5 [==============================] - 0s 15ms/step - loss: 0.0012\n",
      "Epoch 25/100\n",
      "5/5 [==============================] - 0s 15ms/step - loss: 0.0013\n",
      "Epoch 26/100\n",
      "5/5 [==============================] - 0s 15ms/step - loss: 0.0021\n",
      "Epoch 27/100\n",
      "5/5 [==============================] - 0s 15ms/step - loss: 0.0019\n",
      "Epoch 28/100\n",
      "5/5 [==============================] - 0s 15ms/step - loss: 0.0024\n",
      "Epoch 29/100\n",
      "5/5 [==============================] - 0s 15ms/step - loss: 0.0013\n",
      "Epoch 30/100\n",
      "5/5 [==============================] - 0s 14ms/step - loss: 7.1346e-04\n",
      "Epoch 31/100\n",
      "5/5 [==============================] - 0s 14ms/step - loss: 0.0012\n",
      "Epoch 32/100\n",
      "5/5 [==============================] - 0s 14ms/step - loss: 0.0011\n",
      "Epoch 33/100\n",
      "5/5 [==============================] - 0s 14ms/step - loss: 7.7106e-04\n",
      "Epoch 34/100\n",
      "5/5 [==============================] - 0s 14ms/step - loss: 0.0011\n",
      "Epoch 35/100\n",
      "5/5 [==============================] - 0s 15ms/step - loss: 7.9124e-04\n",
      "Epoch 36/100\n",
      "5/5 [==============================] - 0s 14ms/step - loss: 0.0021\n",
      "Epoch 37/100\n",
      "5/5 [==============================] - 0s 14ms/step - loss: 0.0011\n",
      "Epoch 38/100\n",
      "5/5 [==============================] - 0s 14ms/step - loss: 5.0713e-04\n",
      "Epoch 39/100\n",
      "5/5 [==============================] - 0s 15ms/step - loss: 0.0014\n",
      "Epoch 40/100\n",
      "5/5 [==============================] - 0s 14ms/step - loss: 8.8369e-04\n",
      "Epoch 41/100\n",
      "5/5 [==============================] - 0s 14ms/step - loss: 0.0017\n",
      "Epoch 42/100\n",
      "5/5 [==============================] - 0s 14ms/step - loss: 0.0018\n",
      "Epoch 43/100\n",
      "5/5 [==============================] - 0s 13ms/step - loss: 0.0013\n",
      "Epoch 44/100\n",
      "5/5 [==============================] - 0s 15ms/step - loss: 0.0027\n",
      "Epoch 45/100\n",
      "5/5 [==============================] - 0s 14ms/step - loss: 0.0016\n",
      "Epoch 46/100\n",
      "5/5 [==============================] - 0s 14ms/step - loss: 5.6017e-04\n",
      "Epoch 47/100\n",
      "5/5 [==============================] - 0s 14ms/step - loss: 0.0018\n",
      "Epoch 48/100\n",
      "5/5 [==============================] - 0s 14ms/step - loss: 0.0019\n",
      "Epoch 49/100\n",
      "5/5 [==============================] - 0s 14ms/step - loss: 0.0019\n",
      "Epoch 50/100\n",
      "5/5 [==============================] - 0s 14ms/step - loss: 0.0018\n",
      "Epoch 51/100\n",
      "5/5 [==============================] - 0s 15ms/step - loss: 4.9299e-04\n",
      "Epoch 52/100\n",
      "5/5 [==============================] - 0s 14ms/step - loss: 0.0018\n",
      "Epoch 53/100\n",
      "5/5 [==============================] - 0s 14ms/step - loss: 8.3358e-04\n",
      "Epoch 54/100\n",
      "5/5 [==============================] - 0s 14ms/step - loss: 0.0028\n",
      "Epoch 55/100\n",
      "5/5 [==============================] - 0s 14ms/step - loss: 0.0014\n",
      "Epoch 56/100\n",
      "5/5 [==============================] - ETA: 0s - loss: 7.8368e-0 - 0s 14ms/step - loss: 0.0035\n",
      "Epoch 57/100\n",
      "5/5 [==============================] - 0s 14ms/step - loss: 0.0028\n",
      "Epoch 58/100\n",
      "5/5 [==============================] - 0s 14ms/step - loss: 0.0018\n",
      "Epoch 59/100\n",
      "5/5 [==============================] - 0s 14ms/step - loss: 0.0019\n",
      "Epoch 60/100\n",
      "5/5 [==============================] - 0s 13ms/step - loss: 0.0010\n",
      "Epoch 61/100\n",
      "5/5 [==============================] - 0s 14ms/step - loss: 0.0016\n",
      "Epoch 62/100\n",
      "5/5 [==============================] - 0s 14ms/step - loss: 0.0018\n",
      "Epoch 63/100\n",
      "5/5 [==============================] - 0s 13ms/step - loss: 0.0017\n",
      "Epoch 64/100\n",
      "5/5 [==============================] - 0s 14ms/step - loss: 0.0016\n",
      "Epoch 65/100\n",
      "5/5 [==============================] - 0s 15ms/step - loss: 0.0022\n",
      "Epoch 66/100\n",
      "5/5 [==============================] - 0s 14ms/step - loss: 0.0025\n",
      "Epoch 67/100\n",
      "5/5 [==============================] - 0s 14ms/step - loss: 8.6293e-04\n",
      "Epoch 68/100\n",
      "5/5 [==============================] - 0s 14ms/step - loss: 0.0014\n",
      "Epoch 69/100\n",
      "5/5 [==============================] - 0s 14ms/step - loss: 0.0073\n",
      "Epoch 70/100\n",
      "5/5 [==============================] - 0s 14ms/step - loss: 0.0037\n",
      "Epoch 71/100\n",
      "5/5 [==============================] - 0s 14ms/step - loss: 0.0013\n",
      "Epoch 72/100\n",
      "5/5 [==============================] - 0s 14ms/step - loss: 0.0031\n",
      "Epoch 73/100\n",
      "5/5 [==============================] - 0s 14ms/step - loss: 0.0018\n",
      "Epoch 74/100\n",
      "5/5 [==============================] - 0s 14ms/step - loss: 4.9073e-04\n",
      "Epoch 75/100\n",
      "5/5 [==============================] - 0s 13ms/step - loss: 0.0015\n",
      "Epoch 76/100\n",
      "5/5 [==============================] - 0s 15ms/step - loss: 0.0018\n",
      "Epoch 77/100\n",
      "5/5 [==============================] - 0s 14ms/step - loss: 0.0021\n",
      "Epoch 78/100\n",
      "5/5 [==============================] - 0s 14ms/step - loss: 0.0033\n",
      "Epoch 79/100\n",
      "5/5 [==============================] - 0s 15ms/step - loss: 0.0019\n",
      "Epoch 80/100\n",
      "5/5 [==============================] - 0s 14ms/step - loss: 0.0017\n",
      "Epoch 81/100\n",
      "5/5 [==============================] - 0s 14ms/step - loss: 0.0017\n",
      "Epoch 82/100\n",
      "5/5 [==============================] - 0s 14ms/step - loss: 0.0014\n",
      "Epoch 83/100\n",
      "5/5 [==============================] - 0s 14ms/step - loss: 0.0025\n",
      "Epoch 84/100\n",
      "5/5 [==============================] - 0s 13ms/step - loss: 0.0014\n",
      "Epoch 85/100\n",
      "5/5 [==============================] - 0s 14ms/step - loss: 0.0011\n",
      "Epoch 86/100\n",
      "5/5 [==============================] - 0s 14ms/step - loss: 0.0020\n",
      "Epoch 87/100\n",
      "5/5 [==============================] - 0s 14ms/step - loss: 0.0027\n",
      "Epoch 88/100\n",
      "5/5 [==============================] - 0s 13ms/step - loss: 0.0054\n",
      "Epoch 89/100\n",
      "5/5 [==============================] - 0s 14ms/step - loss: 0.0033\n",
      "Epoch 90/100\n",
      "5/5 [==============================] - 0s 14ms/step - loss: 0.0070\n",
      "Epoch 91/100\n",
      "5/5 [==============================] - 0s 13ms/step - loss: 0.0041\n",
      "Epoch 92/100\n",
      "5/5 [==============================] - 0s 14ms/step - loss: 0.0030\n",
      "Epoch 93/100\n",
      "5/5 [==============================] - 0s 15ms/step - loss: 0.0026\n",
      "Epoch 94/100\n",
      "5/5 [==============================] - 0s 14ms/step - loss: 0.0115\n",
      "Epoch 95/100\n"
     ]
    },
    {
     "name": "stdout",
     "output_type": "stream",
     "text": [
      "5/5 [==============================] - 0s 14ms/step - loss: 0.0047\n",
      "Epoch 96/100\n",
      "5/5 [==============================] - 0s 14ms/step - loss: 0.0043\n",
      "Epoch 97/100\n",
      "5/5 [==============================] - 0s 15ms/step - loss: 0.0081\n",
      "Epoch 98/100\n",
      "5/5 [==============================] - 0s 14ms/step - loss: 0.0034\n",
      "Epoch 99/100\n",
      "5/5 [==============================] - 0s 14ms/step - loss: 0.0027\n",
      "Epoch 100/100\n",
      "5/5 [==============================] - 0s 14ms/step - loss: 0.0023\n",
      "INFO:tensorflow:Converted call: <function TensorLikeDataAdapter.__init__.<locals>.permutation at 0x0000026EEDAC9F28>\n",
      "    args: (<tf.Tensor 'args_0:0' shape=() dtype=int64>,)\n",
      "    kwargs: {}\n",
      "\n",
      "INFO:tensorflow:Converted call: <function TensorLikeDataAdapter.__init__.<locals>.slice_batch_indices at 0x0000026EEDAC9D08>\n",
      "    args: (<tf.Tensor 'args_0:0' shape=(1,) dtype=int64>,)\n",
      "    kwargs: {}\n",
      "\n",
      "INFO:tensorflow:Converted call: <function TensorLikeDataAdapter.slice_inputs.<locals>.grab_batch at 0x0000026EEDAF12F0>\n",
      "    args: (<tf.Tensor 'args_0:0' shape=(None,) dtype=int64>, (<tf.Tensor 'args_1:0' shape=(1, 14, 1) dtype=float64>,))\n",
      "    kwargs: {}\n",
      "\n",
      "INFO:tensorflow:Converted call: <function TensorLikeDataAdapter.__init__.<locals>.permutation at 0x0000026EEDB1F620>\n",
      "    args: (<tf.Tensor 'args_0:0' shape=() dtype=int64>,)\n",
      "    kwargs: {}\n",
      "\n",
      "INFO:tensorflow:Converted call: <function TensorLikeDataAdapter.__init__.<locals>.slice_batch_indices at 0x0000026EEDB75048>\n",
      "    args: (<tf.Tensor 'args_0:0' shape=(1,) dtype=int64>,)\n",
      "    kwargs: {}\n",
      "\n",
      "INFO:tensorflow:Converted call: <function TensorLikeDataAdapter.slice_inputs.<locals>.grab_batch at 0x0000026EEDB75598>\n",
      "    args: (<tf.Tensor 'args_0:0' shape=(None,) dtype=int64>, (<tf.Tensor 'args_1:0' shape=(1, 14, 1) dtype=float64>,))\n",
      "    kwargs: {}\n",
      "\n",
      "INFO:tensorflow:Converted call: <function TensorLikeDataAdapter.__init__.<locals>.permutation at 0x0000026EEDAC9D90>\n",
      "    args: (<tf.Tensor 'args_0:0' shape=() dtype=int64>,)\n",
      "    kwargs: {}\n",
      "\n",
      "INFO:tensorflow:Converted call: <function TensorLikeDataAdapter.__init__.<locals>.slice_batch_indices at 0x0000026EEDAC9C80>\n",
      "    args: (<tf.Tensor 'args_0:0' shape=(1,) dtype=int64>,)\n",
      "    kwargs: {}\n",
      "\n",
      "INFO:tensorflow:Converted call: <function TensorLikeDataAdapter.slice_inputs.<locals>.grab_batch at 0x0000026EEDAF10D0>\n",
      "    args: (<tf.Tensor 'args_0:0' shape=(None,) dtype=int64>, (<tf.Tensor 'args_1:0' shape=(1, 14, 1) dtype=float64>,))\n",
      "    kwargs: {}\n",
      "\n",
      "INFO:tensorflow:Converted call: <function TensorLikeDataAdapter.__init__.<locals>.permutation at 0x0000026EEDB75840>\n",
      "    args: (<tf.Tensor 'args_0:0' shape=() dtype=int64>,)\n",
      "    kwargs: {}\n",
      "\n",
      "INFO:tensorflow:Converted call: <function TensorLikeDataAdapter.__init__.<locals>.slice_batch_indices at 0x0000026EEDB75EA0>\n",
      "    args: (<tf.Tensor 'args_0:0' shape=(1,) dtype=int64>,)\n",
      "    kwargs: {}\n",
      "\n",
      "INFO:tensorflow:Converted call: <function TensorLikeDataAdapter.slice_inputs.<locals>.grab_batch at 0x0000026EEDB97268>\n",
      "    args: (<tf.Tensor 'args_0:0' shape=(None,) dtype=int64>, (<tf.Tensor 'args_1:0' shape=(1, 14, 1) dtype=float64>,))\n",
      "    kwargs: {}\n",
      "\n",
      "INFO:tensorflow:Converted call: <function TensorLikeDataAdapter.__init__.<locals>.permutation at 0x0000026EEDB97510>\n",
      "    args: (<tf.Tensor 'args_0:0' shape=() dtype=int64>,)\n",
      "    kwargs: {}\n",
      "\n",
      "INFO:tensorflow:Converted call: <function TensorLikeDataAdapter.__init__.<locals>.slice_batch_indices at 0x0000026EEDB97AE8>\n",
      "    args: (<tf.Tensor 'args_0:0' shape=(1,) dtype=int64>,)\n",
      "    kwargs: {}\n",
      "\n",
      "INFO:tensorflow:Converted call: <function TensorLikeDataAdapter.slice_inputs.<locals>.grab_batch at 0x0000026EEDB97D08>\n",
      "    args: (<tf.Tensor 'args_0:0' shape=(None,) dtype=int64>, (<tf.Tensor 'args_1:0' shape=(1, 14, 1) dtype=float64>,))\n",
      "    kwargs: {}\n",
      "\n",
      "INFO:tensorflow:Converted call: <function TensorLikeDataAdapter.__init__.<locals>.permutation at 0x0000026EEDBC6268>\n",
      "    args: (<tf.Tensor 'args_0:0' shape=() dtype=int64>,)\n",
      "    kwargs: {}\n",
      "\n",
      "INFO:tensorflow:Converted call: <function TensorLikeDataAdapter.__init__.<locals>.slice_batch_indices at 0x0000026EEDBC6730>\n",
      "    args: (<tf.Tensor 'args_0:0' shape=(1,) dtype=int64>,)\n",
      "    kwargs: {}\n",
      "\n",
      "INFO:tensorflow:Converted call: <function TensorLikeDataAdapter.slice_inputs.<locals>.grab_batch at 0x0000026EEDBC69D8>\n",
      "    args: (<tf.Tensor 'args_0:0' shape=(None,) dtype=int64>, (<tf.Tensor 'args_1:0' shape=(1, 14, 1) dtype=float64>,))\n",
      "    kwargs: {}\n",
      "\n",
      "INFO:tensorflow:Converted call: <function TensorLikeDataAdapter.__init__.<locals>.permutation at 0x0000026EEDBC6C80>\n",
      "    args: (<tf.Tensor 'args_0:0' shape=() dtype=int64>,)\n",
      "    kwargs: {}\n",
      "\n",
      "INFO:tensorflow:Converted call: <function TensorLikeDataAdapter.__init__.<locals>.slice_batch_indices at 0x0000026EFAAFD158>\n",
      "    args: (<tf.Tensor 'args_0:0' shape=(1,) dtype=int64>,)\n",
      "    kwargs: {}\n",
      "\n",
      "INFO:tensorflow:Converted call: <function TensorLikeDataAdapter.slice_inputs.<locals>.grab_batch at 0x0000026EFAAFD6A8>\n",
      "    args: (<tf.Tensor 'args_0:0' shape=(None,) dtype=int64>, (<tf.Tensor 'args_1:0' shape=(1, 14, 1) dtype=float64>,))\n",
      "    kwargs: {}\n",
      "\n",
      "INFO:tensorflow:Converted call: <function TensorLikeDataAdapter.__init__.<locals>.permutation at 0x0000026EFAAFD950>\n",
      "    args: (<tf.Tensor 'args_0:0' shape=() dtype=int64>,)\n",
      "    kwargs: {}\n",
      "\n",
      "INFO:tensorflow:Converted call: <function TensorLikeDataAdapter.__init__.<locals>.slice_batch_indices at 0x0000026EFAAFDF28>\n",
      "    args: (<tf.Tensor 'args_0:0' shape=(1,) dtype=int64>,)\n",
      "    kwargs: {}\n",
      "\n",
      "INFO:tensorflow:Converted call: <function TensorLikeDataAdapter.slice_inputs.<locals>.grab_batch at 0x0000026EFAB1D268>\n",
      "    args: (<tf.Tensor 'args_0:0' shape=(None,) dtype=int64>, (<tf.Tensor 'args_1:0' shape=(1, 14, 1) dtype=float64>,))\n",
      "    kwargs: {}\n",
      "\n",
      "INFO:tensorflow:Converted call: <function TensorLikeDataAdapter.__init__.<locals>.permutation at 0x0000026EFAB1D620>\n",
      "    args: (<tf.Tensor 'args_0:0' shape=() dtype=int64>,)\n",
      "    kwargs: {}\n",
      "\n",
      "INFO:tensorflow:Converted call: <function TensorLikeDataAdapter.__init__.<locals>.slice_batch_indices at 0x0000026EFAB1DBF8>\n",
      "    args: (<tf.Tensor 'args_0:0' shape=(1,) dtype=int64>,)\n",
      "    kwargs: {}\n",
      "\n",
      "INFO:tensorflow:Converted call: <function TensorLikeDataAdapter.slice_inputs.<locals>.grab_batch at 0x0000026EFAB1DE18>\n",
      "    args: (<tf.Tensor 'args_0:0' shape=(None,) dtype=int64>, (<tf.Tensor 'args_1:0' shape=(1, 14, 1) dtype=float64>,))\n",
      "    kwargs: {}\n",
      "\n",
      "INFO:tensorflow:Converted call: <function TensorLikeDataAdapter.__init__.<locals>.permutation at 0x0000026EFAB44158>\n",
      "    args: (<tf.Tensor 'args_0:0' shape=() dtype=int64>,)\n",
      "    kwargs: {}\n",
      "\n",
      "INFO:tensorflow:Converted call: <function TensorLikeDataAdapter.__init__.<locals>.slice_batch_indices at 0x0000026EFAB44840>\n",
      "    args: (<tf.Tensor 'args_0:0' shape=(1,) dtype=int64>,)\n",
      "    kwargs: {}\n",
      "\n",
      "INFO:tensorflow:Converted call: <function TensorLikeDataAdapter.slice_inputs.<locals>.grab_batch at 0x0000026EFAB449D8>\n",
      "    args: (<tf.Tensor 'args_0:0' shape=(None,) dtype=int64>, (<tf.Tensor 'args_1:0' shape=(1, 14, 1) dtype=float64>,))\n",
      "    kwargs: {}\n",
      "\n",
      "INFO:tensorflow:Converted call: <function TensorLikeDataAdapter.__init__.<locals>.permutation at 0x0000026EFAB44D90>\n",
      "    args: (<tf.Tensor 'args_0:0' shape=() dtype=int64>,)\n",
      "    kwargs: {}\n",
      "\n",
      "INFO:tensorflow:Converted call: <function TensorLikeDataAdapter.__init__.<locals>.slice_batch_indices at 0x0000026EFAB6D268>\n",
      "    args: (<tf.Tensor 'args_0:0' shape=(1,) dtype=int64>,)\n",
      "    kwargs: {}\n",
      "\n",
      "INFO:tensorflow:Converted call: <function TensorLikeDataAdapter.slice_inputs.<locals>.grab_batch at 0x0000026EFAB6D7B8>\n",
      "    args: (<tf.Tensor 'args_0:0' shape=(None,) dtype=int64>, (<tf.Tensor 'args_1:0' shape=(1, 14, 1) dtype=float64>,))\n",
      "    kwargs: {}\n",
      "\n",
      "INFO:tensorflow:Converted call: <function TensorLikeDataAdapter.__init__.<locals>.permutation at 0x0000026EFAB6DA60>\n",
      "    args: (<tf.Tensor 'args_0:0' shape=() dtype=int64>,)\n",
      "    kwargs: {}\n",
      "\n",
      "INFO:tensorflow:Converted call: <function TensorLikeDataAdapter.__init__.<locals>.slice_batch_indices at 0x0000026EFAB6DD90>\n",
      "    args: (<tf.Tensor 'args_0:0' shape=(1,) dtype=int64>,)\n",
      "    kwargs: {}\n",
      "\n",
      "INFO:tensorflow:Converted call: <function TensorLikeDataAdapter.slice_inputs.<locals>.grab_batch at 0x0000026EFAB6DC80>\n",
      "    args: (<tf.Tensor 'args_0:0' shape=(None,) dtype=int64>, (<tf.Tensor 'args_1:0' shape=(1, 14, 1) dtype=float64>,))\n",
      "    kwargs: {}\n",
      "\n"
     ]
    },
    {
     "name": "stdout",
     "output_type": "stream",
     "text": [
      "INFO:tensorflow:Converted call: <function TensorLikeDataAdapter.__init__.<locals>.permutation at 0x0000026EFAB6DB70>\n",
      "    args: (<tf.Tensor 'args_0:0' shape=() dtype=int64>,)\n",
      "    kwargs: {}\n",
      "\n",
      "INFO:tensorflow:Converted call: <function TensorLikeDataAdapter.__init__.<locals>.slice_batch_indices at 0x0000026EFAB6D048>\n",
      "    args: (<tf.Tensor 'args_0:0' shape=(1,) dtype=int64>,)\n",
      "    kwargs: {}\n",
      "\n",
      "INFO:tensorflow:Converted call: <function TensorLikeDataAdapter.slice_inputs.<locals>.grab_batch at 0x0000026EEDB75C80>\n",
      "    args: (<tf.Tensor 'args_0:0' shape=(None,) dtype=int64>, (<tf.Tensor 'args_1:0' shape=(1, 14, 1) dtype=float64>,))\n",
      "    kwargs: {}\n",
      "\n",
      "INFO:tensorflow:Converted call: <function TensorLikeDataAdapter.__init__.<locals>.permutation at 0x0000026EEDB759D8>\n",
      "    args: (<tf.Tensor 'args_0:0' shape=() dtype=int64>,)\n",
      "    kwargs: {}\n",
      "\n",
      "INFO:tensorflow:Converted call: <function TensorLikeDataAdapter.__init__.<locals>.slice_batch_indices at 0x0000026EEDAC9D90>\n",
      "    args: (<tf.Tensor 'args_0:0' shape=(1,) dtype=int64>,)\n",
      "    kwargs: {}\n",
      "\n",
      "INFO:tensorflow:Converted call: <function TensorLikeDataAdapter.slice_inputs.<locals>.grab_batch at 0x0000026EEDAF1048>\n",
      "    args: (<tf.Tensor 'args_0:0' shape=(None,) dtype=int64>, (<tf.Tensor 'args_1:0' shape=(1, 14, 1) dtype=float64>,))\n",
      "    kwargs: {}\n",
      "\n"
     ]
    }
   ],
   "source": [
    "# How will the obese population look in 2030?\n",
    "obs_ts = TimeSeriesPredictor(obs_sums, 14, 1)"
   ]
  },
  {
   "cell_type": "code",
   "execution_count": 11,
   "metadata": {},
   "outputs": [
    {
     "name": "stdout",
     "output_type": "stream",
     "text": [
      "WARNING:tensorflow:sample_weight modes were coerced from\n",
      "  ...\n",
      "    to  \n",
      "  ['...']\n",
      "INFO:tensorflow:Converted call: <function DatasetV2.from_generator.<locals>.flat_map_fn at 0x0000026EFAB32F28>\n",
      "    args: (<tf.Tensor 'args_0:0' shape=() dtype=int32>,)\n",
      "    kwargs: {}\n",
      "\n",
      "INFO:tensorflow:Converted call: <function _process_inputs.<locals>.standardize_function.<locals>.map_fn at 0x0000026EFAAE40D0>\n",
      "    args: (<tf.Tensor 'args_0:0' shape=(None, None, None) dtype=float64>, <tf.Tensor 'args_1:0' shape=(None, None) dtype=float64>)\n",
      "    kwargs: {}\n",
      "\n",
      "Train for 5 steps\n",
      "Epoch 1/100\n",
      "5/5 [==============================] - 1s 155ms/step - loss: 0.3787\n",
      "Epoch 2/100\n",
      "5/5 [==============================] - 0s 14ms/step - loss: 0.1856\n",
      "Epoch 3/100\n",
      "5/5 [==============================] - 0s 14ms/step - loss: 0.0378\n",
      "Epoch 4/100\n",
      "5/5 [==============================] - 0s 14ms/step - loss: 0.0356\n",
      "Epoch 5/100\n",
      "5/5 [==============================] - 0s 14ms/step - loss: 0.0019\n",
      "Epoch 6/100\n",
      "5/5 [==============================] - 0s 14ms/step - loss: 0.0136\n",
      "Epoch 7/100\n",
      "5/5 [==============================] - 0s 14ms/step - loss: 0.0040\n",
      "Epoch 8/100\n",
      "5/5 [==============================] - 0s 14ms/step - loss: 0.0024\n",
      "Epoch 9/100\n",
      "5/5 [==============================] - 0s 15ms/step - loss: 0.0062\n",
      "Epoch 10/100\n",
      "5/5 [==============================] - 0s 14ms/step - loss: 0.0025\n",
      "Epoch 11/100\n",
      "5/5 [==============================] - 0s 14ms/step - loss: 0.0012\n",
      "Epoch 12/100\n",
      "5/5 [==============================] - 0s 14ms/step - loss: 0.0023\n",
      "Epoch 13/100\n",
      "5/5 [==============================] - 0s 14ms/step - loss: 0.0024\n",
      "Epoch 14/100\n",
      "5/5 [==============================] - 0s 13ms/step - loss: 0.0036\n",
      "Epoch 15/100\n",
      "5/5 [==============================] - 0s 14ms/step - loss: 0.0029\n",
      "Epoch 16/100\n",
      "5/5 [==============================] - 0s 14ms/step - loss: 0.0062\n",
      "Epoch 17/100\n",
      "5/5 [==============================] - 0s 14ms/step - loss: 0.0034\n",
      "Epoch 18/100\n",
      "5/5 [==============================] - 0s 14ms/step - loss: 0.0035\n",
      "Epoch 19/100\n",
      "5/5 [==============================] - 0s 14ms/step - loss: 0.0026\n",
      "Epoch 20/100\n",
      "5/5 [==============================] - 0s 14ms/step - loss: 0.0027\n",
      "Epoch 21/100\n",
      "5/5 [==============================] - 0s 14ms/step - loss: 0.0020\n",
      "Epoch 22/100\n",
      "5/5 [==============================] - 0s 14ms/step - loss: 0.0034\n",
      "Epoch 23/100\n",
      "5/5 [==============================] - 0s 14ms/step - loss: 0.0025\n",
      "Epoch 24/100\n",
      "5/5 [==============================] - 0s 14ms/step - loss: 0.0016\n",
      "Epoch 25/100\n",
      "5/5 [==============================] - 0s 14ms/step - loss: 0.0015\n",
      "Epoch 26/100\n",
      "5/5 [==============================] - 0s 14ms/step - loss: 0.0025\n",
      "Epoch 27/100\n",
      "5/5 [==============================] - 0s 15ms/step - loss: 0.0015\n",
      "Epoch 28/100\n",
      "5/5 [==============================] - 0s 15ms/step - loss: 0.0036\n",
      "Epoch 29/100\n",
      "5/5 [==============================] - 0s 15ms/step - loss: 0.0018\n",
      "Epoch 30/100\n",
      "5/5 [==============================] - 0s 14ms/step - loss: 0.0023\n",
      "Epoch 31/100\n",
      "5/5 [==============================] - 0s 14ms/step - loss: 0.0035\n",
      "Epoch 32/100\n",
      "5/5 [==============================] - 0s 14ms/step - loss: 0.0014\n",
      "Epoch 33/100\n",
      "5/5 [==============================] - 0s 14ms/step - loss: 0.0017\n",
      "Epoch 34/100\n",
      "5/5 [==============================] - 0s 14ms/step - loss: 6.9114e-04\n",
      "Epoch 35/100\n",
      "5/5 [==============================] - 0s 16ms/step - loss: 0.0017\n",
      "Epoch 36/100\n",
      "5/5 [==============================] - 0s 14ms/step - loss: 0.0019\n",
      "Epoch 37/100\n",
      "5/5 [==============================] - 0s 14ms/step - loss: 0.0032\n",
      "Epoch 38/100\n",
      "5/5 [==============================] - 0s 14ms/step - loss: 0.0028\n",
      "Epoch 39/100\n",
      "5/5 [==============================] - 0s 14ms/step - loss: 0.0018\n",
      "Epoch 40/100\n",
      "5/5 [==============================] - 0s 14ms/step - loss: 0.0026\n",
      "Epoch 41/100\n",
      "5/5 [==============================] - 0s 14ms/step - loss: 0.0016\n",
      "Epoch 42/100\n",
      "5/5 [==============================] - 0s 14ms/step - loss: 0.0026\n",
      "Epoch 43/100\n",
      "5/5 [==============================] - 0s 14ms/step - loss: 0.0014\n",
      "Epoch 44/100\n",
      "5/5 [==============================] - 0s 15ms/step - loss: 0.0018\n",
      "Epoch 45/100\n",
      "5/5 [==============================] - 0s 14ms/step - loss: 0.0016\n",
      "Epoch 46/100\n",
      "5/5 [==============================] - 0s 15ms/step - loss: 0.0022\n",
      "Epoch 47/100\n",
      "5/5 [==============================] - 0s 14ms/step - loss: 0.0022\n",
      "Epoch 48/100\n",
      "5/5 [==============================] - 0s 14ms/step - loss: 0.0024\n",
      "Epoch 49/100\n",
      "5/5 [==============================] - 0s 14ms/step - loss: 0.0020\n",
      "Epoch 50/100\n",
      "5/5 [==============================] - 0s 14ms/step - loss: 0.0014\n",
      "Epoch 51/100\n",
      "5/5 [==============================] - 0s 14ms/step - loss: 0.0021\n",
      "Epoch 52/100\n",
      "5/5 [==============================] - 0s 14ms/step - loss: 0.0035\n",
      "Epoch 53/100\n",
      "5/5 [==============================] - 0s 14ms/step - loss: 0.0035\n",
      "Epoch 54/100\n",
      "5/5 [==============================] - 0s 15ms/step - loss: 0.0058\n",
      "Epoch 55/100\n",
      "5/5 [==============================] - 0s 14ms/step - loss: 0.0036\n",
      "Epoch 56/100\n",
      "5/5 [==============================] - 0s 14ms/step - loss: 0.0035\n",
      "Epoch 57/100\n",
      "5/5 [==============================] - 0s 15ms/step - loss: 0.0040\n",
      "Epoch 58/100\n",
      "5/5 [==============================] - 0s 16ms/step - loss: 0.0020\n",
      "Epoch 59/100\n",
      "5/5 [==============================] - 0s 15ms/step - loss: 0.0015\n",
      "Epoch 60/100\n",
      "5/5 [==============================] - 0s 14ms/step - loss: 0.0021\n",
      "Epoch 61/100\n",
      "5/5 [==============================] - 0s 15ms/step - loss: 0.0018\n",
      "Epoch 62/100\n",
      "5/5 [==============================] - 0s 14ms/step - loss: 0.0022\n",
      "Epoch 63/100\n",
      "5/5 [==============================] - 0s 14ms/step - loss: 0.0011\n",
      "Epoch 64/100\n",
      "5/5 [==============================] - 0s 14ms/step - loss: 0.0013\n",
      "Epoch 65/100\n",
      "5/5 [==============================] - 0s 14ms/step - loss: 0.0029\n",
      "Epoch 66/100\n",
      "5/5 [==============================] - 0s 14ms/step - loss: 0.0020\n",
      "Epoch 67/100\n",
      "5/5 [==============================] - 0s 15ms/step - loss: 0.0021\n",
      "Epoch 68/100\n",
      "5/5 [==============================] - 0s 14ms/step - loss: 0.0017\n",
      "Epoch 69/100\n",
      "5/5 [==============================] - 0s 14ms/step - loss: 0.0029\n",
      "Epoch 70/100\n",
      "5/5 [==============================] - 0s 14ms/step - loss: 0.0019\n",
      "Epoch 71/100\n",
      "5/5 [==============================] - 0s 14ms/step - loss: 0.0019\n",
      "Epoch 72/100\n",
      "5/5 [==============================] - 0s 13ms/step - loss: 0.0036\n",
      "Epoch 73/100\n",
      "5/5 [==============================] - 0s 14ms/step - loss: 0.0017\n",
      "Epoch 74/100\n",
      "5/5 [==============================] - 0s 14ms/step - loss: 0.0046\n",
      "Epoch 75/100\n",
      "5/5 [==============================] - 0s 14ms/step - loss: 0.0026\n",
      "Epoch 76/100\n",
      "5/5 [==============================] - 0s 14ms/step - loss: 0.0058\n",
      "Epoch 77/100\n",
      "5/5 [==============================] - 0s 14ms/step - loss: 0.0032\n",
      "Epoch 78/100\n",
      "5/5 [==============================] - 0s 15ms/step - loss: 0.0019\n",
      "Epoch 79/100\n",
      "5/5 [==============================] - 0s 15ms/step - loss: 0.0023\n",
      "Epoch 80/100\n",
      "5/5 [==============================] - 0s 14ms/step - loss: 0.0036\n",
      "Epoch 81/100\n",
      "5/5 [==============================] - 0s 14ms/step - loss: 0.0024\n",
      "Epoch 82/100\n",
      "5/5 [==============================] - 0s 14ms/step - loss: 0.0020\n",
      "Epoch 83/100\n",
      "5/5 [==============================] - 0s 15ms/step - loss: 0.0026\n",
      "Epoch 84/100\n",
      "5/5 [==============================] - 0s 16ms/step - loss: 0.0016\n",
      "Epoch 85/100\n",
      "5/5 [==============================] - 0s 15ms/step - loss: 0.0031\n",
      "Epoch 86/100\n",
      "5/5 [==============================] - 0s 14ms/step - loss: 0.0012\n",
      "Epoch 87/100\n",
      "5/5 [==============================] - 0s 14ms/step - loss: 0.0015\n",
      "Epoch 88/100\n",
      "5/5 [==============================] - 0s 14ms/step - loss: 0.0022\n",
      "Epoch 89/100\n",
      "5/5 [==============================] - 0s 14ms/step - loss: 0.0015\n",
      "Epoch 90/100\n",
      "5/5 [==============================] - 0s 14ms/step - loss: 0.0012\n",
      "Epoch 91/100\n",
      "5/5 [==============================] - 0s 14ms/step - loss: 0.0016\n",
      "Epoch 92/100\n",
      "5/5 [==============================] - 0s 14ms/step - loss: 8.8227e-04\n",
      "Epoch 93/100\n",
      "5/5 [==============================] - 0s 14ms/step - loss: 0.0021\n",
      "Epoch 94/100\n",
      "5/5 [==============================] - 0s 14ms/step - loss: 0.0019\n",
      "Epoch 95/100\n",
      "5/5 [==============================] - 0s 13ms/step - loss: 0.0015\n",
      "Epoch 96/100\n"
     ]
    },
    {
     "name": "stdout",
     "output_type": "stream",
     "text": [
      "5/5 [==============================] - 0s 13ms/step - loss: 9.6050e-04\n",
      "Epoch 97/100\n",
      "5/5 [==============================] - 0s 14ms/step - loss: 0.0036\n",
      "Epoch 98/100\n",
      "5/5 [==============================] - 0s 14ms/step - loss: 0.0027\n",
      "Epoch 99/100\n",
      "5/5 [==============================] - 0s 14ms/step - loss: 0.0028\n",
      "Epoch 100/100\n",
      "5/5 [==============================] - 0s 14ms/step - loss: 0.0021\n",
      "INFO:tensorflow:Converted call: <function TensorLikeDataAdapter.__init__.<locals>.permutation at 0x0000026EFAAE46A8>\n",
      "    args: (<tf.Tensor 'args_0:0' shape=() dtype=int64>,)\n",
      "    kwargs: {}\n",
      "\n",
      "INFO:tensorflow:Converted call: <function TensorLikeDataAdapter.__init__.<locals>.slice_batch_indices at 0x0000026EED5AA0D0>\n",
      "    args: (<tf.Tensor 'args_0:0' shape=(1,) dtype=int64>,)\n",
      "    kwargs: {}\n",
      "\n",
      "INFO:tensorflow:Converted call: <function TensorLikeDataAdapter.slice_inputs.<locals>.grab_batch at 0x0000026EEDAF1158>\n",
      "    args: (<tf.Tensor 'args_0:0' shape=(None,) dtype=int64>, (<tf.Tensor 'args_1:0' shape=(1, 14, 1) dtype=float64>,))\n",
      "    kwargs: {}\n",
      "\n",
      "INFO:tensorflow:Converted call: <function TensorLikeDataAdapter.__init__.<locals>.permutation at 0x0000026EEDB75378>\n",
      "    args: (<tf.Tensor 'args_0:0' shape=() dtype=int64>,)\n",
      "    kwargs: {}\n",
      "\n",
      "INFO:tensorflow:Converted call: <function TensorLikeDataAdapter.__init__.<locals>.slice_batch_indices at 0x0000026EFABA91E0>\n",
      "    args: (<tf.Tensor 'args_0:0' shape=(1,) dtype=int64>,)\n",
      "    kwargs: {}\n",
      "\n",
      "INFO:tensorflow:Converted call: <function TensorLikeDataAdapter.slice_inputs.<locals>.grab_batch at 0x0000026EFABA9D08>\n",
      "    args: (<tf.Tensor 'args_0:0' shape=(None,) dtype=int64>, (<tf.Tensor 'args_1:0' shape=(1, 14, 1) dtype=float64>,))\n",
      "    kwargs: {}\n",
      "\n",
      "INFO:tensorflow:Converted call: <function TensorLikeDataAdapter.__init__.<locals>.permutation at 0x0000026EFADCD378>\n",
      "    args: (<tf.Tensor 'args_0:0' shape=() dtype=int64>,)\n",
      "    kwargs: {}\n",
      "\n",
      "INFO:tensorflow:Converted call: <function TensorLikeDataAdapter.__init__.<locals>.slice_batch_indices at 0x0000026EFADCD9D8>\n",
      "    args: (<tf.Tensor 'args_0:0' shape=(1,) dtype=int64>,)\n",
      "    kwargs: {}\n",
      "\n",
      "INFO:tensorflow:Converted call: <function TensorLikeDataAdapter.slice_inputs.<locals>.grab_batch at 0x0000026EFADCDD08>\n",
      "    args: (<tf.Tensor 'args_0:0' shape=(None,) dtype=int64>, (<tf.Tensor 'args_1:0' shape=(1, 14, 1) dtype=float64>,))\n",
      "    kwargs: {}\n",
      "\n",
      "INFO:tensorflow:Converted call: <function TensorLikeDataAdapter.__init__.<locals>.permutation at 0x0000026EFBDC1048>\n",
      "    args: (<tf.Tensor 'args_0:0' shape=() dtype=int64>,)\n",
      "    kwargs: {}\n",
      "\n",
      "INFO:tensorflow:Converted call: <function TensorLikeDataAdapter.__init__.<locals>.slice_batch_indices at 0x0000026EFBDC16A8>\n",
      "    args: (<tf.Tensor 'args_0:0' shape=(1,) dtype=int64>,)\n",
      "    kwargs: {}\n",
      "\n",
      "INFO:tensorflow:Converted call: <function TensorLikeDataAdapter.slice_inputs.<locals>.grab_batch at 0x0000026EFBDC19D8>\n",
      "    args: (<tf.Tensor 'args_0:0' shape=(None,) dtype=int64>, (<tf.Tensor 'args_1:0' shape=(1, 14, 1) dtype=float64>,))\n",
      "    kwargs: {}\n",
      "\n",
      "INFO:tensorflow:Converted call: <function TensorLikeDataAdapter.__init__.<locals>.permutation at 0x0000026EFBDC1C80>\n",
      "    args: (<tf.Tensor 'args_0:0' shape=() dtype=int64>,)\n",
      "    kwargs: {}\n",
      "\n",
      "INFO:tensorflow:Converted call: <function TensorLikeDataAdapter.__init__.<locals>.slice_batch_indices at 0x0000026EFBDC1BF8>\n",
      "    args: (<tf.Tensor 'args_0:0' shape=(1,) dtype=int64>,)\n",
      "    kwargs: {}\n",
      "\n",
      "INFO:tensorflow:Converted call: <function TensorLikeDataAdapter.slice_inputs.<locals>.grab_batch at 0x0000026EFBDE9598>\n",
      "    args: (<tf.Tensor 'args_0:0' shape=(None,) dtype=int64>, (<tf.Tensor 'args_1:0' shape=(1, 14, 1) dtype=float64>,))\n",
      "    kwargs: {}\n",
      "\n",
      "INFO:tensorflow:Converted call: <function TensorLikeDataAdapter.__init__.<locals>.permutation at 0x0000026EFBDE9840>\n",
      "    args: (<tf.Tensor 'args_0:0' shape=() dtype=int64>,)\n",
      "    kwargs: {}\n",
      "\n",
      "INFO:tensorflow:Converted call: <function TensorLikeDataAdapter.__init__.<locals>.slice_batch_indices at 0x0000026EFBDE9EA0>\n",
      "    args: (<tf.Tensor 'args_0:0' shape=(1,) dtype=int64>,)\n",
      "    kwargs: {}\n",
      "\n",
      "INFO:tensorflow:Converted call: <function TensorLikeDataAdapter.slice_inputs.<locals>.grab_batch at 0x0000026EFBE080D0>\n",
      "    args: (<tf.Tensor 'args_0:0' shape=(None,) dtype=int64>, (<tf.Tensor 'args_1:0' shape=(1, 14, 1) dtype=float64>,))\n",
      "    kwargs: {}\n",
      "\n",
      "INFO:tensorflow:Converted call: <function TensorLikeDataAdapter.__init__.<locals>.permutation at 0x0000026EFBE08510>\n",
      "    args: (<tf.Tensor 'args_0:0' shape=() dtype=int64>,)\n",
      "    kwargs: {}\n",
      "\n",
      "INFO:tensorflow:Converted call: <function TensorLikeDataAdapter.__init__.<locals>.slice_batch_indices at 0x0000026EFBE08B70>\n",
      "    args: (<tf.Tensor 'args_0:0' shape=(1,) dtype=int64>,)\n",
      "    kwargs: {}\n",
      "\n",
      "INFO:tensorflow:Converted call: <function TensorLikeDataAdapter.slice_inputs.<locals>.grab_batch at 0x0000026EFBE08D90>\n",
      "    args: (<tf.Tensor 'args_0:0' shape=(None,) dtype=int64>, (<tf.Tensor 'args_1:0' shape=(1, 14, 1) dtype=float64>,))\n",
      "    kwargs: {}\n",
      "\n",
      "INFO:tensorflow:Converted call: <function TensorLikeDataAdapter.__init__.<locals>.permutation at 0x0000026EFBE082F0>\n",
      "    args: (<tf.Tensor 'args_0:0' shape=() dtype=int64>,)\n",
      "    kwargs: {}\n",
      "\n",
      "INFO:tensorflow:Converted call: <function TensorLikeDataAdapter.__init__.<locals>.slice_batch_indices at 0x0000026EEDB75268>\n",
      "    args: (<tf.Tensor 'args_0:0' shape=(1,) dtype=int64>,)\n",
      "    kwargs: {}\n",
      "\n",
      "INFO:tensorflow:Converted call: <function TensorLikeDataAdapter.slice_inputs.<locals>.grab_batch at 0x0000026EFAB6DF28>\n",
      "    args: (<tf.Tensor 'args_0:0' shape=(None,) dtype=int64>, (<tf.Tensor 'args_1:0' shape=(1, 14, 1) dtype=float64>,))\n",
      "    kwargs: {}\n",
      "\n",
      "INFO:tensorflow:Converted call: <function TensorLikeDataAdapter.__init__.<locals>.permutation at 0x0000026EFABA9EA0>\n",
      "    args: (<tf.Tensor 'args_0:0' shape=() dtype=int64>,)\n",
      "    kwargs: {}\n",
      "\n",
      "INFO:tensorflow:Converted call: <function TensorLikeDataAdapter.__init__.<locals>.slice_batch_indices at 0x0000026EFBE2E400>\n",
      "    args: (<tf.Tensor 'args_0:0' shape=(1,) dtype=int64>,)\n",
      "    kwargs: {}\n",
      "\n",
      "INFO:tensorflow:Converted call: <function TensorLikeDataAdapter.slice_inputs.<locals>.grab_batch at 0x0000026EFBE2E840>\n",
      "    args: (<tf.Tensor 'args_0:0' shape=(None,) dtype=int64>, (<tf.Tensor 'args_1:0' shape=(1, 14, 1) dtype=float64>,))\n",
      "    kwargs: {}\n",
      "\n",
      "INFO:tensorflow:Converted call: <function TensorLikeDataAdapter.__init__.<locals>.permutation at 0x0000026EFBE2EAE8>\n",
      "    args: (<tf.Tensor 'args_0:0' shape=() dtype=int64>,)\n",
      "    kwargs: {}\n",
      "\n",
      "INFO:tensorflow:Converted call: <function TensorLikeDataAdapter.__init__.<locals>.slice_batch_indices at 0x0000026EFBE2E730>\n",
      "    args: (<tf.Tensor 'args_0:0' shape=(1,) dtype=int64>,)\n",
      "    kwargs: {}\n",
      "\n",
      "INFO:tensorflow:Converted call: <function TensorLikeDataAdapter.slice_inputs.<locals>.grab_batch at 0x0000026EFBDFA400>\n",
      "    args: (<tf.Tensor 'args_0:0' shape=(None,) dtype=int64>, (<tf.Tensor 'args_1:0' shape=(1, 14, 1) dtype=float64>,))\n",
      "    kwargs: {}\n",
      "\n",
      "INFO:tensorflow:Converted call: <function TensorLikeDataAdapter.__init__.<locals>.permutation at 0x0000026EFBDFA7B8>\n",
      "    args: (<tf.Tensor 'args_0:0' shape=() dtype=int64>,)\n",
      "    kwargs: {}\n",
      "\n",
      "INFO:tensorflow:Converted call: <function TensorLikeDataAdapter.__init__.<locals>.slice_batch_indices at 0x0000026EFBDFAE18>\n",
      "    args: (<tf.Tensor 'args_0:0' shape=(1,) dtype=int64>,)\n",
      "    kwargs: {}\n",
      "\n",
      "INFO:tensorflow:Converted call: <function TensorLikeDataAdapter.slice_inputs.<locals>.grab_batch at 0x0000026EFBDE21E0>\n",
      "    args: (<tf.Tensor 'args_0:0' shape=(None,) dtype=int64>, (<tf.Tensor 'args_1:0' shape=(1, 14, 1) dtype=float64>,))\n",
      "    kwargs: {}\n",
      "\n",
      "INFO:tensorflow:Converted call: <function TensorLikeDataAdapter.__init__.<locals>.permutation at 0x0000026EFBDE2488>\n",
      "    args: (<tf.Tensor 'args_0:0' shape=() dtype=int64>,)\n",
      "    kwargs: {}\n",
      "\n",
      "INFO:tensorflow:Converted call: <function TensorLikeDataAdapter.__init__.<locals>.slice_batch_indices at 0x0000026EFBDE2A60>\n",
      "    args: (<tf.Tensor 'args_0:0' shape=(1,) dtype=int64>,)\n",
      "    kwargs: {}\n",
      "\n",
      "INFO:tensorflow:Converted call: <function TensorLikeDataAdapter.slice_inputs.<locals>.grab_batch at 0x0000026EFBDE2C80>\n",
      "    args: (<tf.Tensor 'args_0:0' shape=(None,) dtype=int64>, (<tf.Tensor 'args_1:0' shape=(1, 14, 1) dtype=float64>,))\n",
      "    kwargs: {}\n",
      "\n",
      "INFO:tensorflow:Converted call: <function TensorLikeDataAdapter.__init__.<locals>.permutation at 0x0000026EFBDB3158>\n",
      "    args: (<tf.Tensor 'args_0:0' shape=() dtype=int64>,)\n",
      "    kwargs: {}\n",
      "\n"
     ]
    },
    {
     "name": "stdout",
     "output_type": "stream",
     "text": [
      "INFO:tensorflow:Converted call: <function TensorLikeDataAdapter.__init__.<locals>.slice_batch_indices at 0x0000026EFBDB36A8>\n",
      "    args: (<tf.Tensor 'args_0:0' shape=(1,) dtype=int64>,)\n",
      "    kwargs: {}\n",
      "\n",
      "INFO:tensorflow:Converted call: <function TensorLikeDataAdapter.slice_inputs.<locals>.grab_batch at 0x0000026EFBDB3840>\n",
      "    args: (<tf.Tensor 'args_0:0' shape=(None,) dtype=int64>, (<tf.Tensor 'args_1:0' shape=(1, 14, 1) dtype=float64>,))\n",
      "    kwargs: {}\n",
      "\n",
      "INFO:tensorflow:Converted call: <function TensorLikeDataAdapter.__init__.<locals>.permutation at 0x0000026EFBDB3BF8>\n",
      "    args: (<tf.Tensor 'args_0:0' shape=() dtype=int64>,)\n",
      "    kwargs: {}\n",
      "\n",
      "INFO:tensorflow:Converted call: <function TensorLikeDataAdapter.__init__.<locals>.slice_batch_indices at 0x0000026EFBE620D0>\n",
      "    args: (<tf.Tensor 'args_0:0' shape=(1,) dtype=int64>,)\n",
      "    kwargs: {}\n",
      "\n",
      "INFO:tensorflow:Converted call: <function TensorLikeDataAdapter.slice_inputs.<locals>.grab_batch at 0x0000026EFBE62510>\n",
      "    args: (<tf.Tensor 'args_0:0' shape=(None,) dtype=int64>, (<tf.Tensor 'args_1:0' shape=(1, 14, 1) dtype=float64>,))\n",
      "    kwargs: {}\n",
      "\n"
     ]
    }
   ],
   "source": [
    "# Checking the world population in 2030\n",
    "pop_ts = TimeSeriesPredictor(pop_sums, 14 , 1)"
   ]
  },
  {
   "cell_type": "code",
   "execution_count": 12,
   "metadata": {},
   "outputs": [],
   "source": [
    "# Extract out projections from the training functions\n",
    "obs_hist = obs_ts[0]\n",
    "obs_project = obs_ts[1]\n",
    "\n",
    "pop_hist = pop_ts[0]\n",
    "pop_project = pop_ts[1]"
   ]
  },
  {
   "cell_type": "code",
   "execution_count": 13,
   "metadata": {},
   "outputs": [
    {
     "data": {
      "application/vnd.plotly.v1+json": {
       "config": {
        "linkText": "Export to plot.ly",
        "plotlyServerURL": "https://plot.ly",
        "showLink": false
       },
       "data": [
        {
         "name": "Obesity",
         "type": "scatter",
         "x": [
          0,
          1,
          2,
          3,
          4,
          5,
          6,
          7,
          8,
          9,
          10,
          11,
          12,
          13,
          14,
          15,
          16,
          17,
          18,
          19,
          20,
          21,
          22,
          23,
          24,
          25,
          26,
          27,
          28,
          29,
          30,
          31,
          32,
          33,
          34,
          35,
          36,
          37,
          38,
          39,
          40,
          41,
          42,
          43,
          44,
          45,
          46,
          47,
          48,
          49,
          50,
          51,
          52,
          53,
          54,
          55,
          56,
          57,
          58,
          59,
          60,
          61,
          62,
          63,
          64,
          65,
          66,
          67,
          68,
          69,
          70,
          71,
          72,
          73,
          74,
          75,
          76,
          77,
          78,
          79,
          80,
          81,
          82,
          83,
          84,
          85,
          86,
          87,
          88,
          89,
          90,
          91,
          92,
          93,
          94,
          95,
          96,
          97,
          98,
          99
         ],
         "y": [
          0.2357337142207793,
          0.15693131937379284,
          0.059751671622507274,
          0.0226983325805382,
          0.0057881718468187114,
          0.01102719213564082,
          0.006591823891670044,
          0.004998663274039116,
          0.0015410044205574585,
          0.00142211200103962,
          0.003139466851800015,
          0.002960012444028897,
          0.0029665071301029195,
          0.0012655172706997422,
          0.0021240155079535077,
          0.0017463378317188472,
          0.0013001801188303424,
          0.0013837091433483043,
          0.0009708947306665193,
          0.0008952014775007099,
          0.001666187558190099,
          0.0016642301073131552,
          0.0008419550857589846,
          0.0011908879096154124,
          0.0012071983198568756,
          0.0018134595032149395,
          0.0017112210792090213,
          0.0021689857738757773,
          0.001265321445576514,
          0.0007210802744209234,
          0.0012159369317877072,
          0.001109284452728129,
          0.0007537170729067709,
          0.00097935845198143,
          0.000770216724569244,
          0.001975101119439517,
          0.0010411636851910902,
          0.0005119646375533193,
          0.001267399161276574,
          0.0008953086015545912,
          0.001412517501324016,
          0.0015715826126064972,
          0.0011542916950669938,
          0.0023646789231861476,
          0.0014623625351565092,
          0.0005647813304676674,
          0.0014627785255600298,
          0.0016967029348182092,
          0.001813649871369957,
          0.0015188913977388957,
          0.0005178295700066623,
          0.0016380079198695188,
          0.00084725810042333,
          0.0026732312149501274,
          0.0012493555420535682,
          0.0034360776563906775,
          0.0026723069199111444,
          0.0016895067456061952,
          0.0016385203821950459,
          0.0010263939620926976,
          0.0015655454086040013,
          0.0015807251994764166,
          0.0016777700387007957,
          0.0015456032238684461,
          0.001938823496207728,
          0.00224205636914121,
          0.0008910427111134465,
          0.0014397628339273588,
          0.00653384299740927,
          0.0033303150474759085,
          0.0013409501313747438,
          0.002686979380606707,
          0.001595278041869668,
          0.0004975641838557619,
          0.0013043571629428438,
          0.0014914019276537666,
          0.0017113162523725936,
          0.0033829388505962144,
          0.0017956604258090789,
          0.0016304861887225083,
          0.001649101678464961,
          0.0013765606262105784,
          0.002599521339496797,
          0.0012216327450005338,
          0.0011139464695588686,
          0.0016741071471447608,
          0.002526166183607919,
          0.005598692646474644,
          0.003226669457425097,
          0.005830217936558516,
          0.003984816826622202,
          0.0028162697500582518,
          0.0022889406619859593,
          0.009753447886656172,
          0.003997906260857624,
          0.00418167109663565,
          0.0067928960717316455,
          0.003407783939370087,
          0.0027323049247830306,
          0.002126296716076987
         ]
        },
        {
         "name": "Population",
         "type": "scatter",
         "x": [
          0,
          1,
          2,
          3,
          4,
          5,
          6,
          7,
          8,
          9,
          10,
          11,
          12,
          13,
          14,
          15,
          16,
          17,
          18,
          19,
          20,
          21,
          22,
          23,
          24,
          25,
          26,
          27,
          28,
          29,
          30,
          31,
          32,
          33,
          34,
          35,
          36,
          37,
          38,
          39,
          40,
          41,
          42,
          43,
          44,
          45,
          46,
          47,
          48,
          49,
          50,
          51,
          52,
          53,
          54,
          55,
          56,
          57,
          58,
          59,
          60,
          61,
          62,
          63,
          64,
          65,
          66,
          67,
          68,
          69,
          70,
          71,
          72,
          73,
          74,
          75,
          76,
          77,
          78,
          79,
          80,
          81,
          82,
          83,
          84,
          85,
          86,
          87,
          88,
          89,
          90,
          91,
          92,
          93,
          94,
          95,
          96,
          97,
          98,
          99
         ],
         "y": [
          0.35592860728502274,
          0.17212502072964395,
          0.03224683762528002,
          0.0318822448274919,
          0.0019046965504198202,
          0.012652819826533752,
          0.004115739779081196,
          0.002210349081516532,
          0.0056816591947738615,
          0.0024850468284317423,
          0.0010619536104578792,
          0.0023588232579641044,
          0.0022512865169639035,
          0.003145790656812356,
          0.002696888111781196,
          0.006234427622985095,
          0.0031755073453366223,
          0.003384932684379497,
          0.0024959803766770555,
          0.0024141706942048457,
          0.0019333539863250085,
          0.0030492633231915534,
          0.0024542593663292272,
          0.0015261786341268038,
          0.0013065140000045566,
          0.002420275396226706,
          0.001444937474194116,
          0.0030765317579997437,
          0.001645244100862848,
          0.002196644715565656,
          0.0031064194502375487,
          0.0012877685517846008,
          0.0015907135467776762,
          0.000679223622552984,
          0.0015546281824104621,
          0.0017612652611985271,
          0.003023427869525871,
          0.002599348752742766,
          0.0016088775633501687,
          0.002215274518156158,
          0.0016566255362704396,
          0.0023516676862657604,
          0.001250547485791945,
          0.0016500717403167592,
          0.0016305431158148817,
          0.002028187778445759,
          0.001996648344044973,
          0.0020379356033767442,
          0.0019028890944485153,
          0.0013593961359999543,
          0.0020158031340023236,
          0.0031838316291603924,
          0.0035286833964554326,
          0.004899953400516617,
          0.0032425548436419505,
          0.00354781884068091,
          0.0036815027540017453,
          0.002104503838511716,
          0.0013918450838121185,
          0.0018903205657677194,
          0.001794435948665653,
          0.0020398520615084897,
          0.0010704380318722023,
          0.001221395525915016,
          0.0025672387148785803,
          0.002069330160988362,
          0.0020458966422925834,
          0.001605917005300788,
          0.0027578021524407503,
          0.001893252832815051,
          0.0018729657084415002,
          0.003425951855855861,
          0.0016377375577576458,
          0.004295428973689143,
          0.0022763190042626646,
          0.0048348644631914794,
          0.002672823944262096,
          0.001765443294841264,
          0.002109381480425197,
          0.0034676163548803224,
          0.002220872718940622,
          0.001863878355444675,
          0.0023300068610946517,
          0.0015178794180558594,
          0.003210209869264093,
          0.0011516933071626617,
          0.0014394695795739868,
          0.0020458782756967203,
          0.0015062783246061631,
          0.0011323112921672873,
          0.0013939650878975435,
          0.0009060281923406624,
          0.001980947733889999,
          0.0017835409796264554,
          0.001443943488993682,
          0.000910518789688857,
          0.003135572112764099,
          0.002311915495998359,
          0.002610403863530207,
          0.0019637835170474966
         ]
        }
       ],
       "layout": {
        "template": {
         "data": {
          "bar": [
           {
            "error_x": {
             "color": "#2a3f5f"
            },
            "error_y": {
             "color": "#2a3f5f"
            },
            "marker": {
             "line": {
              "color": "#E5ECF6",
              "width": 0.5
             }
            },
            "type": "bar"
           }
          ],
          "barpolar": [
           {
            "marker": {
             "line": {
              "color": "#E5ECF6",
              "width": 0.5
             }
            },
            "type": "barpolar"
           }
          ],
          "carpet": [
           {
            "aaxis": {
             "endlinecolor": "#2a3f5f",
             "gridcolor": "white",
             "linecolor": "white",
             "minorgridcolor": "white",
             "startlinecolor": "#2a3f5f"
            },
            "baxis": {
             "endlinecolor": "#2a3f5f",
             "gridcolor": "white",
             "linecolor": "white",
             "minorgridcolor": "white",
             "startlinecolor": "#2a3f5f"
            },
            "type": "carpet"
           }
          ],
          "choropleth": [
           {
            "colorbar": {
             "outlinewidth": 0,
             "ticks": ""
            },
            "type": "choropleth"
           }
          ],
          "contour": [
           {
            "colorbar": {
             "outlinewidth": 0,
             "ticks": ""
            },
            "colorscale": [
             [
              0,
              "#0d0887"
             ],
             [
              0.1111111111111111,
              "#46039f"
             ],
             [
              0.2222222222222222,
              "#7201a8"
             ],
             [
              0.3333333333333333,
              "#9c179e"
             ],
             [
              0.4444444444444444,
              "#bd3786"
             ],
             [
              0.5555555555555556,
              "#d8576b"
             ],
             [
              0.6666666666666666,
              "#ed7953"
             ],
             [
              0.7777777777777778,
              "#fb9f3a"
             ],
             [
              0.8888888888888888,
              "#fdca26"
             ],
             [
              1,
              "#f0f921"
             ]
            ],
            "type": "contour"
           }
          ],
          "contourcarpet": [
           {
            "colorbar": {
             "outlinewidth": 0,
             "ticks": ""
            },
            "type": "contourcarpet"
           }
          ],
          "heatmap": [
           {
            "colorbar": {
             "outlinewidth": 0,
             "ticks": ""
            },
            "colorscale": [
             [
              0,
              "#0d0887"
             ],
             [
              0.1111111111111111,
              "#46039f"
             ],
             [
              0.2222222222222222,
              "#7201a8"
             ],
             [
              0.3333333333333333,
              "#9c179e"
             ],
             [
              0.4444444444444444,
              "#bd3786"
             ],
             [
              0.5555555555555556,
              "#d8576b"
             ],
             [
              0.6666666666666666,
              "#ed7953"
             ],
             [
              0.7777777777777778,
              "#fb9f3a"
             ],
             [
              0.8888888888888888,
              "#fdca26"
             ],
             [
              1,
              "#f0f921"
             ]
            ],
            "type": "heatmap"
           }
          ],
          "heatmapgl": [
           {
            "colorbar": {
             "outlinewidth": 0,
             "ticks": ""
            },
            "colorscale": [
             [
              0,
              "#0d0887"
             ],
             [
              0.1111111111111111,
              "#46039f"
             ],
             [
              0.2222222222222222,
              "#7201a8"
             ],
             [
              0.3333333333333333,
              "#9c179e"
             ],
             [
              0.4444444444444444,
              "#bd3786"
             ],
             [
              0.5555555555555556,
              "#d8576b"
             ],
             [
              0.6666666666666666,
              "#ed7953"
             ],
             [
              0.7777777777777778,
              "#fb9f3a"
             ],
             [
              0.8888888888888888,
              "#fdca26"
             ],
             [
              1,
              "#f0f921"
             ]
            ],
            "type": "heatmapgl"
           }
          ],
          "histogram": [
           {
            "marker": {
             "colorbar": {
              "outlinewidth": 0,
              "ticks": ""
             }
            },
            "type": "histogram"
           }
          ],
          "histogram2d": [
           {
            "colorbar": {
             "outlinewidth": 0,
             "ticks": ""
            },
            "colorscale": [
             [
              0,
              "#0d0887"
             ],
             [
              0.1111111111111111,
              "#46039f"
             ],
             [
              0.2222222222222222,
              "#7201a8"
             ],
             [
              0.3333333333333333,
              "#9c179e"
             ],
             [
              0.4444444444444444,
              "#bd3786"
             ],
             [
              0.5555555555555556,
              "#d8576b"
             ],
             [
              0.6666666666666666,
              "#ed7953"
             ],
             [
              0.7777777777777778,
              "#fb9f3a"
             ],
             [
              0.8888888888888888,
              "#fdca26"
             ],
             [
              1,
              "#f0f921"
             ]
            ],
            "type": "histogram2d"
           }
          ],
          "histogram2dcontour": [
           {
            "colorbar": {
             "outlinewidth": 0,
             "ticks": ""
            },
            "colorscale": [
             [
              0,
              "#0d0887"
             ],
             [
              0.1111111111111111,
              "#46039f"
             ],
             [
              0.2222222222222222,
              "#7201a8"
             ],
             [
              0.3333333333333333,
              "#9c179e"
             ],
             [
              0.4444444444444444,
              "#bd3786"
             ],
             [
              0.5555555555555556,
              "#d8576b"
             ],
             [
              0.6666666666666666,
              "#ed7953"
             ],
             [
              0.7777777777777778,
              "#fb9f3a"
             ],
             [
              0.8888888888888888,
              "#fdca26"
             ],
             [
              1,
              "#f0f921"
             ]
            ],
            "type": "histogram2dcontour"
           }
          ],
          "mesh3d": [
           {
            "colorbar": {
             "outlinewidth": 0,
             "ticks": ""
            },
            "type": "mesh3d"
           }
          ],
          "parcoords": [
           {
            "line": {
             "colorbar": {
              "outlinewidth": 0,
              "ticks": ""
             }
            },
            "type": "parcoords"
           }
          ],
          "scatter": [
           {
            "marker": {
             "colorbar": {
              "outlinewidth": 0,
              "ticks": ""
             }
            },
            "type": "scatter"
           }
          ],
          "scatter3d": [
           {
            "line": {
             "colorbar": {
              "outlinewidth": 0,
              "ticks": ""
             }
            },
            "marker": {
             "colorbar": {
              "outlinewidth": 0,
              "ticks": ""
             }
            },
            "type": "scatter3d"
           }
          ],
          "scattercarpet": [
           {
            "marker": {
             "colorbar": {
              "outlinewidth": 0,
              "ticks": ""
             }
            },
            "type": "scattercarpet"
           }
          ],
          "scattergeo": [
           {
            "marker": {
             "colorbar": {
              "outlinewidth": 0,
              "ticks": ""
             }
            },
            "type": "scattergeo"
           }
          ],
          "scattergl": [
           {
            "marker": {
             "colorbar": {
              "outlinewidth": 0,
              "ticks": ""
             }
            },
            "type": "scattergl"
           }
          ],
          "scattermapbox": [
           {
            "marker": {
             "colorbar": {
              "outlinewidth": 0,
              "ticks": ""
             }
            },
            "type": "scattermapbox"
           }
          ],
          "scatterpolar": [
           {
            "marker": {
             "colorbar": {
              "outlinewidth": 0,
              "ticks": ""
             }
            },
            "type": "scatterpolar"
           }
          ],
          "scatterpolargl": [
           {
            "marker": {
             "colorbar": {
              "outlinewidth": 0,
              "ticks": ""
             }
            },
            "type": "scatterpolargl"
           }
          ],
          "scatterternary": [
           {
            "marker": {
             "colorbar": {
              "outlinewidth": 0,
              "ticks": ""
             }
            },
            "type": "scatterternary"
           }
          ],
          "surface": [
           {
            "colorbar": {
             "outlinewidth": 0,
             "ticks": ""
            },
            "colorscale": [
             [
              0,
              "#0d0887"
             ],
             [
              0.1111111111111111,
              "#46039f"
             ],
             [
              0.2222222222222222,
              "#7201a8"
             ],
             [
              0.3333333333333333,
              "#9c179e"
             ],
             [
              0.4444444444444444,
              "#bd3786"
             ],
             [
              0.5555555555555556,
              "#d8576b"
             ],
             [
              0.6666666666666666,
              "#ed7953"
             ],
             [
              0.7777777777777778,
              "#fb9f3a"
             ],
             [
              0.8888888888888888,
              "#fdca26"
             ],
             [
              1,
              "#f0f921"
             ]
            ],
            "type": "surface"
           }
          ],
          "table": [
           {
            "cells": {
             "fill": {
              "color": "#EBF0F8"
             },
             "line": {
              "color": "white"
             }
            },
            "header": {
             "fill": {
              "color": "#C8D4E3"
             },
             "line": {
              "color": "white"
             }
            },
            "type": "table"
           }
          ]
         },
         "layout": {
          "annotationdefaults": {
           "arrowcolor": "#2a3f5f",
           "arrowhead": 0,
           "arrowwidth": 1
          },
          "colorscale": {
           "diverging": [
            [
             0,
             "#8e0152"
            ],
            [
             0.1,
             "#c51b7d"
            ],
            [
             0.2,
             "#de77ae"
            ],
            [
             0.3,
             "#f1b6da"
            ],
            [
             0.4,
             "#fde0ef"
            ],
            [
             0.5,
             "#f7f7f7"
            ],
            [
             0.6,
             "#e6f5d0"
            ],
            [
             0.7,
             "#b8e186"
            ],
            [
             0.8,
             "#7fbc41"
            ],
            [
             0.9,
             "#4d9221"
            ],
            [
             1,
             "#276419"
            ]
           ],
           "sequential": [
            [
             0,
             "#0d0887"
            ],
            [
             0.1111111111111111,
             "#46039f"
            ],
            [
             0.2222222222222222,
             "#7201a8"
            ],
            [
             0.3333333333333333,
             "#9c179e"
            ],
            [
             0.4444444444444444,
             "#bd3786"
            ],
            [
             0.5555555555555556,
             "#d8576b"
            ],
            [
             0.6666666666666666,
             "#ed7953"
            ],
            [
             0.7777777777777778,
             "#fb9f3a"
            ],
            [
             0.8888888888888888,
             "#fdca26"
            ],
            [
             1,
             "#f0f921"
            ]
           ],
           "sequentialminus": [
            [
             0,
             "#0d0887"
            ],
            [
             0.1111111111111111,
             "#46039f"
            ],
            [
             0.2222222222222222,
             "#7201a8"
            ],
            [
             0.3333333333333333,
             "#9c179e"
            ],
            [
             0.4444444444444444,
             "#bd3786"
            ],
            [
             0.5555555555555556,
             "#d8576b"
            ],
            [
             0.6666666666666666,
             "#ed7953"
            ],
            [
             0.7777777777777778,
             "#fb9f3a"
            ],
            [
             0.8888888888888888,
             "#fdca26"
            ],
            [
             1,
             "#f0f921"
            ]
           ]
          },
          "colorway": [
           "#636efa",
           "#EF553B",
           "#00cc96",
           "#ab63fa",
           "#FFA15A",
           "#19d3f3",
           "#FF6692",
           "#B6E880",
           "#FF97FF",
           "#FECB52"
          ],
          "font": {
           "color": "#2a3f5f"
          },
          "geo": {
           "bgcolor": "white",
           "lakecolor": "white",
           "landcolor": "#E5ECF6",
           "showlakes": true,
           "showland": true,
           "subunitcolor": "white"
          },
          "hoverlabel": {
           "align": "left"
          },
          "hovermode": "closest",
          "mapbox": {
           "style": "light"
          },
          "paper_bgcolor": "white",
          "plot_bgcolor": "#E5ECF6",
          "polar": {
           "angularaxis": {
            "gridcolor": "white",
            "linecolor": "white",
            "ticks": ""
           },
           "bgcolor": "#E5ECF6",
           "radialaxis": {
            "gridcolor": "white",
            "linecolor": "white",
            "ticks": ""
           }
          },
          "scene": {
           "xaxis": {
            "backgroundcolor": "#E5ECF6",
            "gridcolor": "white",
            "gridwidth": 2,
            "linecolor": "white",
            "showbackground": true,
            "ticks": "",
            "zerolinecolor": "white"
           },
           "yaxis": {
            "backgroundcolor": "#E5ECF6",
            "gridcolor": "white",
            "gridwidth": 2,
            "linecolor": "white",
            "showbackground": true,
            "ticks": "",
            "zerolinecolor": "white"
           },
           "zaxis": {
            "backgroundcolor": "#E5ECF6",
            "gridcolor": "white",
            "gridwidth": 2,
            "linecolor": "white",
            "showbackground": true,
            "ticks": "",
            "zerolinecolor": "white"
           }
          },
          "shapedefaults": {
           "line": {
            "color": "#2a3f5f"
           }
          },
          "ternary": {
           "aaxis": {
            "gridcolor": "white",
            "linecolor": "white",
            "ticks": ""
           },
           "baxis": {
            "gridcolor": "white",
            "linecolor": "white",
            "ticks": ""
           },
           "bgcolor": "#E5ECF6",
           "caxis": {
            "gridcolor": "white",
            "linecolor": "white",
            "ticks": ""
           }
          },
          "title": {
           "x": 0.05
          },
          "xaxis": {
           "automargin": true,
           "gridcolor": "white",
           "linecolor": "white",
           "ticks": "",
           "zerolinecolor": "white",
           "zerolinewidth": 2
          },
          "yaxis": {
           "automargin": true,
           "gridcolor": "white",
           "linecolor": "white",
           "ticks": "",
           "zerolinecolor": "white",
           "zerolinewidth": 2
          }
         }
        },
        "title": {
         "text": "Training Losses"
        }
       }
      },
      "text/html": [
       "<div>\n",
       "        \n",
       "        \n",
       "            <div id=\"945bcff8-f42d-4551-a094-349952ff0cf7\" class=\"plotly-graph-div\" style=\"height:525px; width:100%;\"></div>\n",
       "            <script type=\"text/javascript\">\n",
       "                require([\"plotly\"], function(Plotly) {\n",
       "                    window.PLOTLYENV=window.PLOTLYENV || {};\n",
       "                    \n",
       "                if (document.getElementById(\"945bcff8-f42d-4551-a094-349952ff0cf7\")) {\n",
       "                    Plotly.newPlot(\n",
       "                        '945bcff8-f42d-4551-a094-349952ff0cf7',\n",
       "                        [{\"name\": \"Obesity\", \"type\": \"scatter\", \"x\": [0, 1, 2, 3, 4, 5, 6, 7, 8, 9, 10, 11, 12, 13, 14, 15, 16, 17, 18, 19, 20, 21, 22, 23, 24, 25, 26, 27, 28, 29, 30, 31, 32, 33, 34, 35, 36, 37, 38, 39, 40, 41, 42, 43, 44, 45, 46, 47, 48, 49, 50, 51, 52, 53, 54, 55, 56, 57, 58, 59, 60, 61, 62, 63, 64, 65, 66, 67, 68, 69, 70, 71, 72, 73, 74, 75, 76, 77, 78, 79, 80, 81, 82, 83, 84, 85, 86, 87, 88, 89, 90, 91, 92, 93, 94, 95, 96, 97, 98, 99], \"y\": [0.2357337142207793, 0.15693131937379284, 0.059751671622507274, 0.0226983325805382, 0.0057881718468187114, 0.01102719213564082, 0.006591823891670044, 0.004998663274039116, 0.0015410044205574585, 0.00142211200103962, 0.003139466851800015, 0.002960012444028897, 0.0029665071301029195, 0.0012655172706997422, 0.0021240155079535077, 0.0017463378317188472, 0.0013001801188303424, 0.0013837091433483043, 0.0009708947306665193, 0.0008952014775007099, 0.001666187558190099, 0.0016642301073131552, 0.0008419550857589846, 0.0011908879096154124, 0.0012071983198568756, 0.0018134595032149395, 0.0017112210792090213, 0.0021689857738757773, 0.001265321445576514, 0.0007210802744209234, 0.0012159369317877072, 0.001109284452728129, 0.0007537170729067709, 0.00097935845198143, 0.000770216724569244, 0.001975101119439517, 0.0010411636851910902, 0.0005119646375533193, 0.001267399161276574, 0.0008953086015545912, 0.001412517501324016, 0.0015715826126064972, 0.0011542916950669938, 0.0023646789231861476, 0.0014623625351565092, 0.0005647813304676674, 0.0014627785255600298, 0.0016967029348182092, 0.001813649871369957, 0.0015188913977388957, 0.0005178295700066623, 0.0016380079198695188, 0.00084725810042333, 0.0026732312149501274, 0.0012493555420535682, 0.0034360776563906775, 0.0026723069199111444, 0.0016895067456061952, 0.0016385203821950459, 0.0010263939620926976, 0.0015655454086040013, 0.0015807251994764166, 0.0016777700387007957, 0.0015456032238684461, 0.001938823496207728, 0.00224205636914121, 0.0008910427111134465, 0.0014397628339273588, 0.00653384299740927, 0.0033303150474759085, 0.0013409501313747438, 0.002686979380606707, 0.001595278041869668, 0.0004975641838557619, 0.0013043571629428438, 0.0014914019276537666, 0.0017113162523725936, 0.0033829388505962144, 0.0017956604258090789, 0.0016304861887225083, 0.001649101678464961, 0.0013765606262105784, 0.002599521339496797, 0.0012216327450005338, 0.0011139464695588686, 0.0016741071471447608, 0.002526166183607919, 0.005598692646474644, 0.003226669457425097, 0.005830217936558516, 0.003984816826622202, 0.0028162697500582518, 0.0022889406619859593, 0.009753447886656172, 0.003997906260857624, 0.00418167109663565, 0.0067928960717316455, 0.003407783939370087, 0.0027323049247830306, 0.002126296716076987]}, {\"name\": \"Population\", \"type\": \"scatter\", \"x\": [0, 1, 2, 3, 4, 5, 6, 7, 8, 9, 10, 11, 12, 13, 14, 15, 16, 17, 18, 19, 20, 21, 22, 23, 24, 25, 26, 27, 28, 29, 30, 31, 32, 33, 34, 35, 36, 37, 38, 39, 40, 41, 42, 43, 44, 45, 46, 47, 48, 49, 50, 51, 52, 53, 54, 55, 56, 57, 58, 59, 60, 61, 62, 63, 64, 65, 66, 67, 68, 69, 70, 71, 72, 73, 74, 75, 76, 77, 78, 79, 80, 81, 82, 83, 84, 85, 86, 87, 88, 89, 90, 91, 92, 93, 94, 95, 96, 97, 98, 99], \"y\": [0.35592860728502274, 0.17212502072964395, 0.03224683762528002, 0.0318822448274919, 0.0019046965504198202, 0.012652819826533752, 0.004115739779081196, 0.002210349081516532, 0.0056816591947738615, 0.0024850468284317423, 0.0010619536104578792, 0.0023588232579641044, 0.0022512865169639035, 0.003145790656812356, 0.002696888111781196, 0.006234427622985095, 0.0031755073453366223, 0.003384932684379497, 0.0024959803766770555, 0.0024141706942048457, 0.0019333539863250085, 0.0030492633231915534, 0.0024542593663292272, 0.0015261786341268038, 0.0013065140000045566, 0.002420275396226706, 0.001444937474194116, 0.0030765317579997437, 0.001645244100862848, 0.002196644715565656, 0.0031064194502375487, 0.0012877685517846008, 0.0015907135467776762, 0.000679223622552984, 0.0015546281824104621, 0.0017612652611985271, 0.003023427869525871, 0.002599348752742766, 0.0016088775633501687, 0.002215274518156158, 0.0016566255362704396, 0.0023516676862657604, 0.001250547485791945, 0.0016500717403167592, 0.0016305431158148817, 0.002028187778445759, 0.001996648344044973, 0.0020379356033767442, 0.0019028890944485153, 0.0013593961359999543, 0.0020158031340023236, 0.0031838316291603924, 0.0035286833964554326, 0.004899953400516617, 0.0032425548436419505, 0.00354781884068091, 0.0036815027540017453, 0.002104503838511716, 0.0013918450838121185, 0.0018903205657677194, 0.001794435948665653, 0.0020398520615084897, 0.0010704380318722023, 0.001221395525915016, 0.0025672387148785803, 0.002069330160988362, 0.0020458966422925834, 0.001605917005300788, 0.0027578021524407503, 0.001893252832815051, 0.0018729657084415002, 0.003425951855855861, 0.0016377375577576458, 0.004295428973689143, 0.0022763190042626646, 0.0048348644631914794, 0.002672823944262096, 0.001765443294841264, 0.002109381480425197, 0.0034676163548803224, 0.002220872718940622, 0.001863878355444675, 0.0023300068610946517, 0.0015178794180558594, 0.003210209869264093, 0.0011516933071626617, 0.0014394695795739868, 0.0020458782756967203, 0.0015062783246061631, 0.0011323112921672873, 0.0013939650878975435, 0.0009060281923406624, 0.001980947733889999, 0.0017835409796264554, 0.001443943488993682, 0.000910518789688857, 0.003135572112764099, 0.002311915495998359, 0.002610403863530207, 0.0019637835170474966]}],\n",
       "                        {\"template\": {\"data\": {\"bar\": [{\"error_x\": {\"color\": \"#2a3f5f\"}, \"error_y\": {\"color\": \"#2a3f5f\"}, \"marker\": {\"line\": {\"color\": \"#E5ECF6\", \"width\": 0.5}}, \"type\": \"bar\"}], \"barpolar\": [{\"marker\": {\"line\": {\"color\": \"#E5ECF6\", \"width\": 0.5}}, \"type\": \"barpolar\"}], \"carpet\": [{\"aaxis\": {\"endlinecolor\": \"#2a3f5f\", \"gridcolor\": \"white\", \"linecolor\": \"white\", \"minorgridcolor\": \"white\", \"startlinecolor\": \"#2a3f5f\"}, \"baxis\": {\"endlinecolor\": \"#2a3f5f\", \"gridcolor\": \"white\", \"linecolor\": \"white\", \"minorgridcolor\": \"white\", \"startlinecolor\": \"#2a3f5f\"}, \"type\": \"carpet\"}], \"choropleth\": [{\"colorbar\": {\"outlinewidth\": 0, \"ticks\": \"\"}, \"type\": \"choropleth\"}], \"contour\": [{\"colorbar\": {\"outlinewidth\": 0, \"ticks\": \"\"}, \"colorscale\": [[0.0, \"#0d0887\"], [0.1111111111111111, \"#46039f\"], [0.2222222222222222, \"#7201a8\"], [0.3333333333333333, \"#9c179e\"], [0.4444444444444444, \"#bd3786\"], [0.5555555555555556, \"#d8576b\"], [0.6666666666666666, \"#ed7953\"], [0.7777777777777778, \"#fb9f3a\"], [0.8888888888888888, \"#fdca26\"], [1.0, \"#f0f921\"]], \"type\": \"contour\"}], \"contourcarpet\": [{\"colorbar\": {\"outlinewidth\": 0, \"ticks\": \"\"}, \"type\": \"contourcarpet\"}], \"heatmap\": [{\"colorbar\": {\"outlinewidth\": 0, \"ticks\": \"\"}, \"colorscale\": [[0.0, \"#0d0887\"], [0.1111111111111111, \"#46039f\"], [0.2222222222222222, \"#7201a8\"], [0.3333333333333333, \"#9c179e\"], [0.4444444444444444, \"#bd3786\"], [0.5555555555555556, \"#d8576b\"], [0.6666666666666666, \"#ed7953\"], [0.7777777777777778, \"#fb9f3a\"], [0.8888888888888888, \"#fdca26\"], [1.0, \"#f0f921\"]], \"type\": \"heatmap\"}], \"heatmapgl\": [{\"colorbar\": {\"outlinewidth\": 0, \"ticks\": \"\"}, \"colorscale\": [[0.0, \"#0d0887\"], [0.1111111111111111, \"#46039f\"], [0.2222222222222222, \"#7201a8\"], [0.3333333333333333, \"#9c179e\"], [0.4444444444444444, \"#bd3786\"], [0.5555555555555556, \"#d8576b\"], [0.6666666666666666, \"#ed7953\"], [0.7777777777777778, \"#fb9f3a\"], [0.8888888888888888, \"#fdca26\"], [1.0, \"#f0f921\"]], \"type\": \"heatmapgl\"}], \"histogram\": [{\"marker\": {\"colorbar\": {\"outlinewidth\": 0, \"ticks\": \"\"}}, \"type\": \"histogram\"}], \"histogram2d\": [{\"colorbar\": {\"outlinewidth\": 0, \"ticks\": \"\"}, \"colorscale\": [[0.0, \"#0d0887\"], [0.1111111111111111, \"#46039f\"], [0.2222222222222222, \"#7201a8\"], [0.3333333333333333, \"#9c179e\"], [0.4444444444444444, \"#bd3786\"], [0.5555555555555556, \"#d8576b\"], [0.6666666666666666, \"#ed7953\"], [0.7777777777777778, \"#fb9f3a\"], [0.8888888888888888, \"#fdca26\"], [1.0, \"#f0f921\"]], \"type\": \"histogram2d\"}], \"histogram2dcontour\": [{\"colorbar\": {\"outlinewidth\": 0, \"ticks\": \"\"}, \"colorscale\": [[0.0, \"#0d0887\"], [0.1111111111111111, \"#46039f\"], [0.2222222222222222, \"#7201a8\"], [0.3333333333333333, \"#9c179e\"], [0.4444444444444444, \"#bd3786\"], [0.5555555555555556, \"#d8576b\"], [0.6666666666666666, \"#ed7953\"], [0.7777777777777778, \"#fb9f3a\"], [0.8888888888888888, \"#fdca26\"], [1.0, \"#f0f921\"]], \"type\": \"histogram2dcontour\"}], \"mesh3d\": [{\"colorbar\": {\"outlinewidth\": 0, \"ticks\": \"\"}, \"type\": \"mesh3d\"}], \"parcoords\": [{\"line\": {\"colorbar\": {\"outlinewidth\": 0, \"ticks\": \"\"}}, \"type\": \"parcoords\"}], \"scatter\": [{\"marker\": {\"colorbar\": {\"outlinewidth\": 0, \"ticks\": \"\"}}, \"type\": \"scatter\"}], \"scatter3d\": [{\"line\": {\"colorbar\": {\"outlinewidth\": 0, \"ticks\": \"\"}}, \"marker\": {\"colorbar\": {\"outlinewidth\": 0, \"ticks\": \"\"}}, \"type\": \"scatter3d\"}], \"scattercarpet\": [{\"marker\": {\"colorbar\": {\"outlinewidth\": 0, \"ticks\": \"\"}}, \"type\": \"scattercarpet\"}], \"scattergeo\": [{\"marker\": {\"colorbar\": {\"outlinewidth\": 0, \"ticks\": \"\"}}, \"type\": \"scattergeo\"}], \"scattergl\": [{\"marker\": {\"colorbar\": {\"outlinewidth\": 0, \"ticks\": \"\"}}, \"type\": \"scattergl\"}], \"scattermapbox\": [{\"marker\": {\"colorbar\": {\"outlinewidth\": 0, \"ticks\": \"\"}}, \"type\": \"scattermapbox\"}], \"scatterpolar\": [{\"marker\": {\"colorbar\": {\"outlinewidth\": 0, \"ticks\": \"\"}}, \"type\": \"scatterpolar\"}], \"scatterpolargl\": [{\"marker\": {\"colorbar\": {\"outlinewidth\": 0, \"ticks\": \"\"}}, \"type\": \"scatterpolargl\"}], \"scatterternary\": [{\"marker\": {\"colorbar\": {\"outlinewidth\": 0, \"ticks\": \"\"}}, \"type\": \"scatterternary\"}], \"surface\": [{\"colorbar\": {\"outlinewidth\": 0, \"ticks\": \"\"}, \"colorscale\": [[0.0, \"#0d0887\"], [0.1111111111111111, \"#46039f\"], [0.2222222222222222, \"#7201a8\"], [0.3333333333333333, \"#9c179e\"], [0.4444444444444444, \"#bd3786\"], [0.5555555555555556, \"#d8576b\"], [0.6666666666666666, \"#ed7953\"], [0.7777777777777778, \"#fb9f3a\"], [0.8888888888888888, \"#fdca26\"], [1.0, \"#f0f921\"]], \"type\": \"surface\"}], \"table\": [{\"cells\": {\"fill\": {\"color\": \"#EBF0F8\"}, \"line\": {\"color\": \"white\"}}, \"header\": {\"fill\": {\"color\": \"#C8D4E3\"}, \"line\": {\"color\": \"white\"}}, \"type\": \"table\"}]}, \"layout\": {\"annotationdefaults\": {\"arrowcolor\": \"#2a3f5f\", \"arrowhead\": 0, \"arrowwidth\": 1}, \"colorscale\": {\"diverging\": [[0, \"#8e0152\"], [0.1, \"#c51b7d\"], [0.2, \"#de77ae\"], [0.3, \"#f1b6da\"], [0.4, \"#fde0ef\"], [0.5, \"#f7f7f7\"], [0.6, \"#e6f5d0\"], [0.7, \"#b8e186\"], [0.8, \"#7fbc41\"], [0.9, \"#4d9221\"], [1, \"#276419\"]], \"sequential\": [[0.0, \"#0d0887\"], [0.1111111111111111, \"#46039f\"], [0.2222222222222222, \"#7201a8\"], [0.3333333333333333, \"#9c179e\"], [0.4444444444444444, \"#bd3786\"], [0.5555555555555556, \"#d8576b\"], [0.6666666666666666, \"#ed7953\"], [0.7777777777777778, \"#fb9f3a\"], [0.8888888888888888, \"#fdca26\"], [1.0, \"#f0f921\"]], \"sequentialminus\": [[0.0, \"#0d0887\"], [0.1111111111111111, \"#46039f\"], [0.2222222222222222, \"#7201a8\"], [0.3333333333333333, \"#9c179e\"], [0.4444444444444444, \"#bd3786\"], [0.5555555555555556, \"#d8576b\"], [0.6666666666666666, \"#ed7953\"], [0.7777777777777778, \"#fb9f3a\"], [0.8888888888888888, \"#fdca26\"], [1.0, \"#f0f921\"]]}, \"colorway\": [\"#636efa\", \"#EF553B\", \"#00cc96\", \"#ab63fa\", \"#FFA15A\", \"#19d3f3\", \"#FF6692\", \"#B6E880\", \"#FF97FF\", \"#FECB52\"], \"font\": {\"color\": \"#2a3f5f\"}, \"geo\": {\"bgcolor\": \"white\", \"lakecolor\": \"white\", \"landcolor\": \"#E5ECF6\", \"showlakes\": true, \"showland\": true, \"subunitcolor\": \"white\"}, \"hoverlabel\": {\"align\": \"left\"}, \"hovermode\": \"closest\", \"mapbox\": {\"style\": \"light\"}, \"paper_bgcolor\": \"white\", \"plot_bgcolor\": \"#E5ECF6\", \"polar\": {\"angularaxis\": {\"gridcolor\": \"white\", \"linecolor\": \"white\", \"ticks\": \"\"}, \"bgcolor\": \"#E5ECF6\", \"radialaxis\": {\"gridcolor\": \"white\", \"linecolor\": \"white\", \"ticks\": \"\"}}, \"scene\": {\"xaxis\": {\"backgroundcolor\": \"#E5ECF6\", \"gridcolor\": \"white\", \"gridwidth\": 2, \"linecolor\": \"white\", \"showbackground\": true, \"ticks\": \"\", \"zerolinecolor\": \"white\"}, \"yaxis\": {\"backgroundcolor\": \"#E5ECF6\", \"gridcolor\": \"white\", \"gridwidth\": 2, \"linecolor\": \"white\", \"showbackground\": true, \"ticks\": \"\", \"zerolinecolor\": \"white\"}, \"zaxis\": {\"backgroundcolor\": \"#E5ECF6\", \"gridcolor\": \"white\", \"gridwidth\": 2, \"linecolor\": \"white\", \"showbackground\": true, \"ticks\": \"\", \"zerolinecolor\": \"white\"}}, \"shapedefaults\": {\"line\": {\"color\": \"#2a3f5f\"}}, \"ternary\": {\"aaxis\": {\"gridcolor\": \"white\", \"linecolor\": \"white\", \"ticks\": \"\"}, \"baxis\": {\"gridcolor\": \"white\", \"linecolor\": \"white\", \"ticks\": \"\"}, \"bgcolor\": \"#E5ECF6\", \"caxis\": {\"gridcolor\": \"white\", \"linecolor\": \"white\", \"ticks\": \"\"}}, \"title\": {\"x\": 0.05}, \"xaxis\": {\"automargin\": true, \"gridcolor\": \"white\", \"linecolor\": \"white\", \"ticks\": \"\", \"zerolinecolor\": \"white\", \"zerolinewidth\": 2}, \"yaxis\": {\"automargin\": true, \"gridcolor\": \"white\", \"linecolor\": \"white\", \"ticks\": \"\", \"zerolinecolor\": \"white\", \"zerolinewidth\": 2}}}, \"title\": {\"text\": \"Training Losses\"}},\n",
       "                        {\"responsive\": true}\n",
       "                    ).then(function(){\n",
       "                            \n",
       "var gd = document.getElementById('945bcff8-f42d-4551-a094-349952ff0cf7');\n",
       "var x = new MutationObserver(function (mutations, observer) {{\n",
       "        var display = window.getComputedStyle(gd).display;\n",
       "        if (!display || display === 'none') {{\n",
       "            console.log([gd, 'removed!']);\n",
       "            Plotly.purge(gd);\n",
       "            observer.disconnect();\n",
       "        }}\n",
       "}});\n",
       "\n",
       "// Listen for the removal of the full notebook cells\n",
       "var notebookContainer = gd.closest('#notebook-container');\n",
       "if (notebookContainer) {{\n",
       "    x.observe(notebookContainer, {childList: true});\n",
       "}}\n",
       "\n",
       "// Listen for the clearing of the current output cell\n",
       "var outputEl = gd.closest('.output');\n",
       "if (outputEl) {{\n",
       "    x.observe(outputEl, {childList: true});\n",
       "}}\n",
       "\n",
       "                        })\n",
       "                };\n",
       "                });\n",
       "            </script>\n",
       "        </div>"
      ]
     },
     "metadata": {},
     "output_type": "display_data"
    }
   ],
   "source": [
    "# How much loss did we see when building our model?\n",
    "plot_data = [go.Scatter(x = obs_hist['epoch'], \n",
    "                        y = obs_hist['loss'], \n",
    "                        name = 'Obesity'),\n",
    "             go.Scatter(x = pop_hist['epoch'], \n",
    "                        y = pop_hist['loss'], \n",
    "                        name = 'Population')]\n",
    "\n",
    "plot_layout = go.Layout(title = 'Training Losses')\n",
    "\n",
    "fig = go.Figure(data = plot_data, layout = plot_layout)\n",
    "\n",
    "pyoff.iplot(fig)"
   ]
  },
  {
   "cell_type": "code",
   "execution_count": 14,
   "metadata": {},
   "outputs": [
    {
     "data": {
      "application/vnd.plotly.v1+json": {
       "config": {
        "linkText": "Export to plot.ly",
        "plotlyServerURL": "https://plot.ly",
        "showLink": false
       },
       "data": [
        {
         "name": "Obesity Actual",
         "type": "scatter",
         "x": [
          "1975-01-01T00:00:00",
          "1976-01-01T00:00:00",
          "1977-01-01T00:00:00",
          "1978-01-01T00:00:00",
          "1979-01-01T00:00:00",
          "1980-01-01T00:00:00",
          "1981-01-01T00:00:00",
          "1982-01-01T00:00:00",
          "1983-01-01T00:00:00",
          "1984-01-01T00:00:00",
          "1985-01-01T00:00:00",
          "1986-01-01T00:00:00",
          "1987-01-01T00:00:00",
          "1988-01-01T00:00:00",
          "1989-01-01T00:00:00",
          "1990-01-01T00:00:00",
          "1991-01-01T00:00:00",
          "1992-01-01T00:00:00",
          "1993-01-01T00:00:00",
          "1994-01-01T00:00:00",
          "1995-01-01T00:00:00",
          "1996-01-01T00:00:00",
          "1997-01-01T00:00:00",
          "1998-01-01T00:00:00",
          "1999-01-01T00:00:00",
          "2000-01-01T00:00:00",
          "2001-01-01T00:00:00",
          "2002-01-01T00:00:00",
          "2003-01-01T00:00:00",
          "2004-01-01T00:00:00",
          "2005-01-01T00:00:00",
          "2006-01-01T00:00:00",
          "2007-01-01T00:00:00",
          "2008-01-01T00:00:00",
          "2009-01-01T00:00:00",
          "2010-01-01T00:00:00",
          "2011-01-01T00:00:00",
          "2012-01-01T00:00:00",
          "2013-01-01T00:00:00",
          "2014-01-01T00:00:00",
          "2015-01-01T00:00:00",
          "2016-01-01T00:00:00",
          "2017-01-01T00:00:00",
          "2018-01-01T00:00:00",
          "2019-01-01T00:00:00",
          "2020-01-01T00:00:00",
          "2021-01-01T00:00:00",
          "2022-01-01T00:00:00",
          "2023-01-01T00:00:00",
          "2024-01-01T00:00:00",
          "2025-01-01T00:00:00",
          "2026-01-01T00:00:00",
          "2027-01-01T00:00:00",
          "2028-01-01T00:00:00",
          "2029-01-01T00:00:00",
          "2030-01-01T00:00:00"
         ],
         "y": [
          101690339.65899998,
          107017717.02199998,
          112218401.036,
          117352193.04,
          122956009.07099998,
          129019565.05400002,
          135411155.671,
          141375580.31599998,
          148483688.15600002,
          155433357.38199997,
          163219921.745,
          170567836.225,
          179554514.82900003,
          188338033.543,
          197300566.028,
          217110413.116,
          227997216.902,
          238443915.699,
          250173381.41099998,
          262304006.62300003,
          274716166.614,
          287741489.581,
          301679067.951,
          316248243.72900003,
          330781383.436,
          346938029.704,
          363644299.7880001,
          380313145.18,
          398254940.881,
          417306039.431,
          436394331.238,
          457797506.118,
          478610688.6650001,
          500228275.231,
          523079254.2800001,
          547703378.098,
          572280362.24,
          597090456.54,
          625087423.9760001,
          652936610.336,
          682356315.3980001,
          712785966.787,
          null,
          null,
          null,
          null,
          null,
          null,
          null,
          null,
          null,
          null,
          null,
          null,
          null,
          null
         ]
        },
        {
         "name": "Obesity Prediction",
         "type": "scatter",
         "x": [
          "1975-01-01T00:00:00",
          "1976-01-01T00:00:00",
          "1977-01-01T00:00:00",
          "1978-01-01T00:00:00",
          "1979-01-01T00:00:00",
          "1980-01-01T00:00:00",
          "1981-01-01T00:00:00",
          "1982-01-01T00:00:00",
          "1983-01-01T00:00:00",
          "1984-01-01T00:00:00",
          "1985-01-01T00:00:00",
          "1986-01-01T00:00:00",
          "1987-01-01T00:00:00",
          "1988-01-01T00:00:00",
          "1989-01-01T00:00:00",
          "1990-01-01T00:00:00",
          "1991-01-01T00:00:00",
          "1992-01-01T00:00:00",
          "1993-01-01T00:00:00",
          "1994-01-01T00:00:00",
          "1995-01-01T00:00:00",
          "1996-01-01T00:00:00",
          "1997-01-01T00:00:00",
          "1998-01-01T00:00:00",
          "1999-01-01T00:00:00",
          "2000-01-01T00:00:00",
          "2001-01-01T00:00:00",
          "2002-01-01T00:00:00",
          "2003-01-01T00:00:00",
          "2004-01-01T00:00:00",
          "2005-01-01T00:00:00",
          "2006-01-01T00:00:00",
          "2007-01-01T00:00:00",
          "2008-01-01T00:00:00",
          "2009-01-01T00:00:00",
          "2010-01-01T00:00:00",
          "2011-01-01T00:00:00",
          "2012-01-01T00:00:00",
          "2013-01-01T00:00:00",
          "2014-01-01T00:00:00",
          "2015-01-01T00:00:00",
          "2016-01-01T00:00:00",
          "2017-01-01T00:00:00",
          "2018-01-01T00:00:00",
          "2019-01-01T00:00:00",
          "2020-01-01T00:00:00",
          "2021-01-01T00:00:00",
          "2022-01-01T00:00:00",
          "2023-01-01T00:00:00",
          "2024-01-01T00:00:00",
          "2025-01-01T00:00:00",
          "2026-01-01T00:00:00",
          "2027-01-01T00:00:00",
          "2028-01-01T00:00:00",
          "2029-01-01T00:00:00",
          "2030-01-01T00:00:00"
         ],
         "y": [
          null,
          null,
          null,
          null,
          null,
          null,
          null,
          null,
          null,
          null,
          null,
          null,
          null,
          null,
          null,
          null,
          null,
          null,
          null,
          null,
          null,
          null,
          null,
          null,
          null,
          null,
          null,
          null,
          null,
          null,
          null,
          null,
          null,
          null,
          null,
          null,
          null,
          null,
          null,
          null,
          null,
          null,
          697952491.6455649,
          724043502.2020056,
          751085656.268263,
          779118911.1234803,
          808200452.6639705,
          838679224.1296537,
          870749803.2645444,
          904441475.0754164,
          939866061.6652508,
          977251068.1986134,
          1016862609.426116,
          1058750877.8096178,
          1103255710.5545945,
          1150546698.446544
         ]
        },
        {
         "name": "Population Actual",
         "type": "scatter",
         "x": [
          "1975-01-01T00:00:00",
          "1976-01-01T00:00:00",
          "1977-01-01T00:00:00",
          "1978-01-01T00:00:00",
          "1979-01-01T00:00:00",
          "1980-01-01T00:00:00",
          "1981-01-01T00:00:00",
          "1982-01-01T00:00:00",
          "1983-01-01T00:00:00",
          "1984-01-01T00:00:00",
          "1985-01-01T00:00:00",
          "1986-01-01T00:00:00",
          "1987-01-01T00:00:00",
          "1988-01-01T00:00:00",
          "1989-01-01T00:00:00",
          "1990-01-01T00:00:00",
          "1991-01-01T00:00:00",
          "1992-01-01T00:00:00",
          "1993-01-01T00:00:00",
          "1994-01-01T00:00:00",
          "1995-01-01T00:00:00",
          "1996-01-01T00:00:00",
          "1997-01-01T00:00:00",
          "1998-01-01T00:00:00",
          "1999-01-01T00:00:00",
          "2000-01-01T00:00:00",
          "2001-01-01T00:00:00",
          "2002-01-01T00:00:00",
          "2003-01-01T00:00:00",
          "2004-01-01T00:00:00",
          "2005-01-01T00:00:00",
          "2006-01-01T00:00:00",
          "2007-01-01T00:00:00",
          "2008-01-01T00:00:00",
          "2009-01-01T00:00:00",
          "2010-01-01T00:00:00",
          "2011-01-01T00:00:00",
          "2012-01-01T00:00:00",
          "2013-01-01T00:00:00",
          "2014-01-01T00:00:00",
          "2015-01-01T00:00:00",
          "2016-01-01T00:00:00",
          "2017-01-01T00:00:00",
          "2018-01-01T00:00:00",
          "2019-01-01T00:00:00",
          "2020-01-01T00:00:00",
          "2021-01-01T00:00:00",
          "2022-01-01T00:00:00",
          "2023-01-01T00:00:00",
          "2024-01-01T00:00:00",
          "2025-01-01T00:00:00",
          "2026-01-01T00:00:00",
          "2027-01-01T00:00:00",
          "2028-01-01T00:00:00",
          "2029-01-01T00:00:00",
          "2030-01-01T00:00:00"
         ],
         "y": [
          2445823297,
          2498616121,
          2583691665,
          2643168001,
          2705040608,
          2767977050,
          2832320001,
          2898084147,
          2964288852,
          3030891648,
          3098855592,
          3162919221,
          3229334431,
          3296907648,
          3364998707,
          3506689498,
          3571209462,
          3637961217,
          3708349412,
          3778999785,
          3850315150,
          3925675840,
          3997880893,
          4069225019,
          4143409388,
          4222081588,
          4297202691,
          4377563123,
          4461123278,
          4543979201,
          4623946080,
          4701004414,
          4775678730,
          4849009647,
          4921496668,
          4993746459,
          5062855853,
          5132133634,
          5204414300,
          5277185538,
          5349933636,
          5422586571,
          null,
          null,
          null,
          null,
          null,
          null,
          null,
          null,
          null,
          null,
          null,
          null,
          null,
          null
         ]
        },
        {
         "name": "Population Prediction",
         "type": "scatter",
         "x": [
          "1975-01-01T00:00:00",
          "1976-01-01T00:00:00",
          "1977-01-01T00:00:00",
          "1978-01-01T00:00:00",
          "1979-01-01T00:00:00",
          "1980-01-01T00:00:00",
          "1981-01-01T00:00:00",
          "1982-01-01T00:00:00",
          "1983-01-01T00:00:00",
          "1984-01-01T00:00:00",
          "1985-01-01T00:00:00",
          "1986-01-01T00:00:00",
          "1987-01-01T00:00:00",
          "1988-01-01T00:00:00",
          "1989-01-01T00:00:00",
          "1990-01-01T00:00:00",
          "1991-01-01T00:00:00",
          "1992-01-01T00:00:00",
          "1993-01-01T00:00:00",
          "1994-01-01T00:00:00",
          "1995-01-01T00:00:00",
          "1996-01-01T00:00:00",
          "1997-01-01T00:00:00",
          "1998-01-01T00:00:00",
          "1999-01-01T00:00:00",
          "2000-01-01T00:00:00",
          "2001-01-01T00:00:00",
          "2002-01-01T00:00:00",
          "2003-01-01T00:00:00",
          "2004-01-01T00:00:00",
          "2005-01-01T00:00:00",
          "2006-01-01T00:00:00",
          "2007-01-01T00:00:00",
          "2008-01-01T00:00:00",
          "2009-01-01T00:00:00",
          "2010-01-01T00:00:00",
          "2011-01-01T00:00:00",
          "2012-01-01T00:00:00",
          "2013-01-01T00:00:00",
          "2014-01-01T00:00:00",
          "2015-01-01T00:00:00",
          "2016-01-01T00:00:00",
          "2017-01-01T00:00:00",
          "2018-01-01T00:00:00",
          "2019-01-01T00:00:00",
          "2020-01-01T00:00:00",
          "2021-01-01T00:00:00",
          "2022-01-01T00:00:00",
          "2023-01-01T00:00:00",
          "2024-01-01T00:00:00",
          "2025-01-01T00:00:00",
          "2026-01-01T00:00:00",
          "2027-01-01T00:00:00",
          "2028-01-01T00:00:00",
          "2029-01-01T00:00:00",
          "2030-01-01T00:00:00"
         ],
         "y": [
          null,
          null,
          null,
          null,
          null,
          null,
          null,
          null,
          null,
          null,
          null,
          null,
          null,
          null,
          null,
          null,
          null,
          null,
          null,
          null,
          null,
          null,
          null,
          null,
          null,
          null,
          null,
          null,
          null,
          null,
          null,
          null,
          null,
          null,
          null,
          null,
          null,
          null,
          null,
          null,
          null,
          null,
          5492203645.654476,
          5566844442.679818,
          5641711993.86176,
          5716962081.78989,
          5792770361.092562,
          5869298292.0847225,
          5946667591.003798,
          6024971230.6025715,
          6104312474.511044,
          6184950368.948805,
          6266978951.242145,
          6350391479.092196,
          6435261762.928652,
          6521729616.738522
         ]
        }
       ],
       "layout": {
        "template": {
         "data": {
          "bar": [
           {
            "error_x": {
             "color": "#2a3f5f"
            },
            "error_y": {
             "color": "#2a3f5f"
            },
            "marker": {
             "line": {
              "color": "#E5ECF6",
              "width": 0.5
             }
            },
            "type": "bar"
           }
          ],
          "barpolar": [
           {
            "marker": {
             "line": {
              "color": "#E5ECF6",
              "width": 0.5
             }
            },
            "type": "barpolar"
           }
          ],
          "carpet": [
           {
            "aaxis": {
             "endlinecolor": "#2a3f5f",
             "gridcolor": "white",
             "linecolor": "white",
             "minorgridcolor": "white",
             "startlinecolor": "#2a3f5f"
            },
            "baxis": {
             "endlinecolor": "#2a3f5f",
             "gridcolor": "white",
             "linecolor": "white",
             "minorgridcolor": "white",
             "startlinecolor": "#2a3f5f"
            },
            "type": "carpet"
           }
          ],
          "choropleth": [
           {
            "colorbar": {
             "outlinewidth": 0,
             "ticks": ""
            },
            "type": "choropleth"
           }
          ],
          "contour": [
           {
            "colorbar": {
             "outlinewidth": 0,
             "ticks": ""
            },
            "colorscale": [
             [
              0,
              "#0d0887"
             ],
             [
              0.1111111111111111,
              "#46039f"
             ],
             [
              0.2222222222222222,
              "#7201a8"
             ],
             [
              0.3333333333333333,
              "#9c179e"
             ],
             [
              0.4444444444444444,
              "#bd3786"
             ],
             [
              0.5555555555555556,
              "#d8576b"
             ],
             [
              0.6666666666666666,
              "#ed7953"
             ],
             [
              0.7777777777777778,
              "#fb9f3a"
             ],
             [
              0.8888888888888888,
              "#fdca26"
             ],
             [
              1,
              "#f0f921"
             ]
            ],
            "type": "contour"
           }
          ],
          "contourcarpet": [
           {
            "colorbar": {
             "outlinewidth": 0,
             "ticks": ""
            },
            "type": "contourcarpet"
           }
          ],
          "heatmap": [
           {
            "colorbar": {
             "outlinewidth": 0,
             "ticks": ""
            },
            "colorscale": [
             [
              0,
              "#0d0887"
             ],
             [
              0.1111111111111111,
              "#46039f"
             ],
             [
              0.2222222222222222,
              "#7201a8"
             ],
             [
              0.3333333333333333,
              "#9c179e"
             ],
             [
              0.4444444444444444,
              "#bd3786"
             ],
             [
              0.5555555555555556,
              "#d8576b"
             ],
             [
              0.6666666666666666,
              "#ed7953"
             ],
             [
              0.7777777777777778,
              "#fb9f3a"
             ],
             [
              0.8888888888888888,
              "#fdca26"
             ],
             [
              1,
              "#f0f921"
             ]
            ],
            "type": "heatmap"
           }
          ],
          "heatmapgl": [
           {
            "colorbar": {
             "outlinewidth": 0,
             "ticks": ""
            },
            "colorscale": [
             [
              0,
              "#0d0887"
             ],
             [
              0.1111111111111111,
              "#46039f"
             ],
             [
              0.2222222222222222,
              "#7201a8"
             ],
             [
              0.3333333333333333,
              "#9c179e"
             ],
             [
              0.4444444444444444,
              "#bd3786"
             ],
             [
              0.5555555555555556,
              "#d8576b"
             ],
             [
              0.6666666666666666,
              "#ed7953"
             ],
             [
              0.7777777777777778,
              "#fb9f3a"
             ],
             [
              0.8888888888888888,
              "#fdca26"
             ],
             [
              1,
              "#f0f921"
             ]
            ],
            "type": "heatmapgl"
           }
          ],
          "histogram": [
           {
            "marker": {
             "colorbar": {
              "outlinewidth": 0,
              "ticks": ""
             }
            },
            "type": "histogram"
           }
          ],
          "histogram2d": [
           {
            "colorbar": {
             "outlinewidth": 0,
             "ticks": ""
            },
            "colorscale": [
             [
              0,
              "#0d0887"
             ],
             [
              0.1111111111111111,
              "#46039f"
             ],
             [
              0.2222222222222222,
              "#7201a8"
             ],
             [
              0.3333333333333333,
              "#9c179e"
             ],
             [
              0.4444444444444444,
              "#bd3786"
             ],
             [
              0.5555555555555556,
              "#d8576b"
             ],
             [
              0.6666666666666666,
              "#ed7953"
             ],
             [
              0.7777777777777778,
              "#fb9f3a"
             ],
             [
              0.8888888888888888,
              "#fdca26"
             ],
             [
              1,
              "#f0f921"
             ]
            ],
            "type": "histogram2d"
           }
          ],
          "histogram2dcontour": [
           {
            "colorbar": {
             "outlinewidth": 0,
             "ticks": ""
            },
            "colorscale": [
             [
              0,
              "#0d0887"
             ],
             [
              0.1111111111111111,
              "#46039f"
             ],
             [
              0.2222222222222222,
              "#7201a8"
             ],
             [
              0.3333333333333333,
              "#9c179e"
             ],
             [
              0.4444444444444444,
              "#bd3786"
             ],
             [
              0.5555555555555556,
              "#d8576b"
             ],
             [
              0.6666666666666666,
              "#ed7953"
             ],
             [
              0.7777777777777778,
              "#fb9f3a"
             ],
             [
              0.8888888888888888,
              "#fdca26"
             ],
             [
              1,
              "#f0f921"
             ]
            ],
            "type": "histogram2dcontour"
           }
          ],
          "mesh3d": [
           {
            "colorbar": {
             "outlinewidth": 0,
             "ticks": ""
            },
            "type": "mesh3d"
           }
          ],
          "parcoords": [
           {
            "line": {
             "colorbar": {
              "outlinewidth": 0,
              "ticks": ""
             }
            },
            "type": "parcoords"
           }
          ],
          "scatter": [
           {
            "marker": {
             "colorbar": {
              "outlinewidth": 0,
              "ticks": ""
             }
            },
            "type": "scatter"
           }
          ],
          "scatter3d": [
           {
            "line": {
             "colorbar": {
              "outlinewidth": 0,
              "ticks": ""
             }
            },
            "marker": {
             "colorbar": {
              "outlinewidth": 0,
              "ticks": ""
             }
            },
            "type": "scatter3d"
           }
          ],
          "scattercarpet": [
           {
            "marker": {
             "colorbar": {
              "outlinewidth": 0,
              "ticks": ""
             }
            },
            "type": "scattercarpet"
           }
          ],
          "scattergeo": [
           {
            "marker": {
             "colorbar": {
              "outlinewidth": 0,
              "ticks": ""
             }
            },
            "type": "scattergeo"
           }
          ],
          "scattergl": [
           {
            "marker": {
             "colorbar": {
              "outlinewidth": 0,
              "ticks": ""
             }
            },
            "type": "scattergl"
           }
          ],
          "scattermapbox": [
           {
            "marker": {
             "colorbar": {
              "outlinewidth": 0,
              "ticks": ""
             }
            },
            "type": "scattermapbox"
           }
          ],
          "scatterpolar": [
           {
            "marker": {
             "colorbar": {
              "outlinewidth": 0,
              "ticks": ""
             }
            },
            "type": "scatterpolar"
           }
          ],
          "scatterpolargl": [
           {
            "marker": {
             "colorbar": {
              "outlinewidth": 0,
              "ticks": ""
             }
            },
            "type": "scatterpolargl"
           }
          ],
          "scatterternary": [
           {
            "marker": {
             "colorbar": {
              "outlinewidth": 0,
              "ticks": ""
             }
            },
            "type": "scatterternary"
           }
          ],
          "surface": [
           {
            "colorbar": {
             "outlinewidth": 0,
             "ticks": ""
            },
            "colorscale": [
             [
              0,
              "#0d0887"
             ],
             [
              0.1111111111111111,
              "#46039f"
             ],
             [
              0.2222222222222222,
              "#7201a8"
             ],
             [
              0.3333333333333333,
              "#9c179e"
             ],
             [
              0.4444444444444444,
              "#bd3786"
             ],
             [
              0.5555555555555556,
              "#d8576b"
             ],
             [
              0.6666666666666666,
              "#ed7953"
             ],
             [
              0.7777777777777778,
              "#fb9f3a"
             ],
             [
              0.8888888888888888,
              "#fdca26"
             ],
             [
              1,
              "#f0f921"
             ]
            ],
            "type": "surface"
           }
          ],
          "table": [
           {
            "cells": {
             "fill": {
              "color": "#EBF0F8"
             },
             "line": {
              "color": "white"
             }
            },
            "header": {
             "fill": {
              "color": "#C8D4E3"
             },
             "line": {
              "color": "white"
             }
            },
            "type": "table"
           }
          ]
         },
         "layout": {
          "annotationdefaults": {
           "arrowcolor": "#2a3f5f",
           "arrowhead": 0,
           "arrowwidth": 1
          },
          "colorscale": {
           "diverging": [
            [
             0,
             "#8e0152"
            ],
            [
             0.1,
             "#c51b7d"
            ],
            [
             0.2,
             "#de77ae"
            ],
            [
             0.3,
             "#f1b6da"
            ],
            [
             0.4,
             "#fde0ef"
            ],
            [
             0.5,
             "#f7f7f7"
            ],
            [
             0.6,
             "#e6f5d0"
            ],
            [
             0.7,
             "#b8e186"
            ],
            [
             0.8,
             "#7fbc41"
            ],
            [
             0.9,
             "#4d9221"
            ],
            [
             1,
             "#276419"
            ]
           ],
           "sequential": [
            [
             0,
             "#0d0887"
            ],
            [
             0.1111111111111111,
             "#46039f"
            ],
            [
             0.2222222222222222,
             "#7201a8"
            ],
            [
             0.3333333333333333,
             "#9c179e"
            ],
            [
             0.4444444444444444,
             "#bd3786"
            ],
            [
             0.5555555555555556,
             "#d8576b"
            ],
            [
             0.6666666666666666,
             "#ed7953"
            ],
            [
             0.7777777777777778,
             "#fb9f3a"
            ],
            [
             0.8888888888888888,
             "#fdca26"
            ],
            [
             1,
             "#f0f921"
            ]
           ],
           "sequentialminus": [
            [
             0,
             "#0d0887"
            ],
            [
             0.1111111111111111,
             "#46039f"
            ],
            [
             0.2222222222222222,
             "#7201a8"
            ],
            [
             0.3333333333333333,
             "#9c179e"
            ],
            [
             0.4444444444444444,
             "#bd3786"
            ],
            [
             0.5555555555555556,
             "#d8576b"
            ],
            [
             0.6666666666666666,
             "#ed7953"
            ],
            [
             0.7777777777777778,
             "#fb9f3a"
            ],
            [
             0.8888888888888888,
             "#fdca26"
            ],
            [
             1,
             "#f0f921"
            ]
           ]
          },
          "colorway": [
           "#636efa",
           "#EF553B",
           "#00cc96",
           "#ab63fa",
           "#FFA15A",
           "#19d3f3",
           "#FF6692",
           "#B6E880",
           "#FF97FF",
           "#FECB52"
          ],
          "font": {
           "color": "#2a3f5f"
          },
          "geo": {
           "bgcolor": "white",
           "lakecolor": "white",
           "landcolor": "#E5ECF6",
           "showlakes": true,
           "showland": true,
           "subunitcolor": "white"
          },
          "hoverlabel": {
           "align": "left"
          },
          "hovermode": "closest",
          "mapbox": {
           "style": "light"
          },
          "paper_bgcolor": "white",
          "plot_bgcolor": "#E5ECF6",
          "polar": {
           "angularaxis": {
            "gridcolor": "white",
            "linecolor": "white",
            "ticks": ""
           },
           "bgcolor": "#E5ECF6",
           "radialaxis": {
            "gridcolor": "white",
            "linecolor": "white",
            "ticks": ""
           }
          },
          "scene": {
           "xaxis": {
            "backgroundcolor": "#E5ECF6",
            "gridcolor": "white",
            "gridwidth": 2,
            "linecolor": "white",
            "showbackground": true,
            "ticks": "",
            "zerolinecolor": "white"
           },
           "yaxis": {
            "backgroundcolor": "#E5ECF6",
            "gridcolor": "white",
            "gridwidth": 2,
            "linecolor": "white",
            "showbackground": true,
            "ticks": "",
            "zerolinecolor": "white"
           },
           "zaxis": {
            "backgroundcolor": "#E5ECF6",
            "gridcolor": "white",
            "gridwidth": 2,
            "linecolor": "white",
            "showbackground": true,
            "ticks": "",
            "zerolinecolor": "white"
           }
          },
          "shapedefaults": {
           "line": {
            "color": "#2a3f5f"
           }
          },
          "ternary": {
           "aaxis": {
            "gridcolor": "white",
            "linecolor": "white",
            "ticks": ""
           },
           "baxis": {
            "gridcolor": "white",
            "linecolor": "white",
            "ticks": ""
           },
           "bgcolor": "#E5ECF6",
           "caxis": {
            "gridcolor": "white",
            "linecolor": "white",
            "ticks": ""
           }
          },
          "title": {
           "x": 0.05
          },
          "xaxis": {
           "automargin": true,
           "gridcolor": "white",
           "linecolor": "white",
           "ticks": "",
           "zerolinecolor": "white",
           "zerolinewidth": 2
          },
          "yaxis": {
           "automargin": true,
           "gridcolor": "white",
           "linecolor": "white",
           "ticks": "",
           "zerolinecolor": "white",
           "zerolinewidth": 2
          }
         }
        },
        "title": {
         "text": "Population vs. Obesity Growth"
        }
       }
      },
      "text/html": [
       "<div>\n",
       "        \n",
       "        \n",
       "            <div id=\"ab20b7b1-ef39-4e5e-8b00-5118d1848d79\" class=\"plotly-graph-div\" style=\"height:525px; width:100%;\"></div>\n",
       "            <script type=\"text/javascript\">\n",
       "                require([\"plotly\"], function(Plotly) {\n",
       "                    window.PLOTLYENV=window.PLOTLYENV || {};\n",
       "                    \n",
       "                if (document.getElementById(\"ab20b7b1-ef39-4e5e-8b00-5118d1848d79\")) {\n",
       "                    Plotly.newPlot(\n",
       "                        'ab20b7b1-ef39-4e5e-8b00-5118d1848d79',\n",
       "                        [{\"name\": \"Obesity Actual\", \"type\": \"scatter\", \"x\": [\"1975-01-01T00:00:00\", \"1976-01-01T00:00:00\", \"1977-01-01T00:00:00\", \"1978-01-01T00:00:00\", \"1979-01-01T00:00:00\", \"1980-01-01T00:00:00\", \"1981-01-01T00:00:00\", \"1982-01-01T00:00:00\", \"1983-01-01T00:00:00\", \"1984-01-01T00:00:00\", \"1985-01-01T00:00:00\", \"1986-01-01T00:00:00\", \"1987-01-01T00:00:00\", \"1988-01-01T00:00:00\", \"1989-01-01T00:00:00\", \"1990-01-01T00:00:00\", \"1991-01-01T00:00:00\", \"1992-01-01T00:00:00\", \"1993-01-01T00:00:00\", \"1994-01-01T00:00:00\", \"1995-01-01T00:00:00\", \"1996-01-01T00:00:00\", \"1997-01-01T00:00:00\", \"1998-01-01T00:00:00\", \"1999-01-01T00:00:00\", \"2000-01-01T00:00:00\", \"2001-01-01T00:00:00\", \"2002-01-01T00:00:00\", \"2003-01-01T00:00:00\", \"2004-01-01T00:00:00\", \"2005-01-01T00:00:00\", \"2006-01-01T00:00:00\", \"2007-01-01T00:00:00\", \"2008-01-01T00:00:00\", \"2009-01-01T00:00:00\", \"2010-01-01T00:00:00\", \"2011-01-01T00:00:00\", \"2012-01-01T00:00:00\", \"2013-01-01T00:00:00\", \"2014-01-01T00:00:00\", \"2015-01-01T00:00:00\", \"2016-01-01T00:00:00\", \"2017-01-01T00:00:00\", \"2018-01-01T00:00:00\", \"2019-01-01T00:00:00\", \"2020-01-01T00:00:00\", \"2021-01-01T00:00:00\", \"2022-01-01T00:00:00\", \"2023-01-01T00:00:00\", \"2024-01-01T00:00:00\", \"2025-01-01T00:00:00\", \"2026-01-01T00:00:00\", \"2027-01-01T00:00:00\", \"2028-01-01T00:00:00\", \"2029-01-01T00:00:00\", \"2030-01-01T00:00:00\"], \"y\": [101690339.65899998, 107017717.02199998, 112218401.036, 117352193.04, 122956009.07099998, 129019565.05400002, 135411155.671, 141375580.31599998, 148483688.15600002, 155433357.38199997, 163219921.745, 170567836.225, 179554514.82900003, 188338033.543, 197300566.028, 217110413.116, 227997216.902, 238443915.699, 250173381.41099998, 262304006.62300003, 274716166.614, 287741489.581, 301679067.951, 316248243.72900003, 330781383.436, 346938029.704, 363644299.7880001, 380313145.18, 398254940.881, 417306039.431, 436394331.238, 457797506.118, 478610688.6650001, 500228275.231, 523079254.2800001, 547703378.098, 572280362.24, 597090456.54, 625087423.9760001, 652936610.336, 682356315.3980001, 712785966.787, null, null, null, null, null, null, null, null, null, null, null, null, null, null]}, {\"name\": \"Obesity Prediction\", \"type\": \"scatter\", \"x\": [\"1975-01-01T00:00:00\", \"1976-01-01T00:00:00\", \"1977-01-01T00:00:00\", \"1978-01-01T00:00:00\", \"1979-01-01T00:00:00\", \"1980-01-01T00:00:00\", \"1981-01-01T00:00:00\", \"1982-01-01T00:00:00\", \"1983-01-01T00:00:00\", \"1984-01-01T00:00:00\", \"1985-01-01T00:00:00\", \"1986-01-01T00:00:00\", \"1987-01-01T00:00:00\", \"1988-01-01T00:00:00\", \"1989-01-01T00:00:00\", \"1990-01-01T00:00:00\", \"1991-01-01T00:00:00\", \"1992-01-01T00:00:00\", \"1993-01-01T00:00:00\", \"1994-01-01T00:00:00\", \"1995-01-01T00:00:00\", \"1996-01-01T00:00:00\", \"1997-01-01T00:00:00\", \"1998-01-01T00:00:00\", \"1999-01-01T00:00:00\", \"2000-01-01T00:00:00\", \"2001-01-01T00:00:00\", \"2002-01-01T00:00:00\", \"2003-01-01T00:00:00\", \"2004-01-01T00:00:00\", \"2005-01-01T00:00:00\", \"2006-01-01T00:00:00\", \"2007-01-01T00:00:00\", \"2008-01-01T00:00:00\", \"2009-01-01T00:00:00\", \"2010-01-01T00:00:00\", \"2011-01-01T00:00:00\", \"2012-01-01T00:00:00\", \"2013-01-01T00:00:00\", \"2014-01-01T00:00:00\", \"2015-01-01T00:00:00\", \"2016-01-01T00:00:00\", \"2017-01-01T00:00:00\", \"2018-01-01T00:00:00\", \"2019-01-01T00:00:00\", \"2020-01-01T00:00:00\", \"2021-01-01T00:00:00\", \"2022-01-01T00:00:00\", \"2023-01-01T00:00:00\", \"2024-01-01T00:00:00\", \"2025-01-01T00:00:00\", \"2026-01-01T00:00:00\", \"2027-01-01T00:00:00\", \"2028-01-01T00:00:00\", \"2029-01-01T00:00:00\", \"2030-01-01T00:00:00\"], \"y\": [null, null, null, null, null, null, null, null, null, null, null, null, null, null, null, null, null, null, null, null, null, null, null, null, null, null, null, null, null, null, null, null, null, null, null, null, null, null, null, null, null, null, 697952491.6455649, 724043502.2020056, 751085656.268263, 779118911.1234803, 808200452.6639705, 838679224.1296537, 870749803.2645444, 904441475.0754164, 939866061.6652508, 977251068.1986134, 1016862609.426116, 1058750877.8096178, 1103255710.5545945, 1150546698.446544]}, {\"name\": \"Population Actual\", \"type\": \"scatter\", \"x\": [\"1975-01-01T00:00:00\", \"1976-01-01T00:00:00\", \"1977-01-01T00:00:00\", \"1978-01-01T00:00:00\", \"1979-01-01T00:00:00\", \"1980-01-01T00:00:00\", \"1981-01-01T00:00:00\", \"1982-01-01T00:00:00\", \"1983-01-01T00:00:00\", \"1984-01-01T00:00:00\", \"1985-01-01T00:00:00\", \"1986-01-01T00:00:00\", \"1987-01-01T00:00:00\", \"1988-01-01T00:00:00\", \"1989-01-01T00:00:00\", \"1990-01-01T00:00:00\", \"1991-01-01T00:00:00\", \"1992-01-01T00:00:00\", \"1993-01-01T00:00:00\", \"1994-01-01T00:00:00\", \"1995-01-01T00:00:00\", \"1996-01-01T00:00:00\", \"1997-01-01T00:00:00\", \"1998-01-01T00:00:00\", \"1999-01-01T00:00:00\", \"2000-01-01T00:00:00\", \"2001-01-01T00:00:00\", \"2002-01-01T00:00:00\", \"2003-01-01T00:00:00\", \"2004-01-01T00:00:00\", \"2005-01-01T00:00:00\", \"2006-01-01T00:00:00\", \"2007-01-01T00:00:00\", \"2008-01-01T00:00:00\", \"2009-01-01T00:00:00\", \"2010-01-01T00:00:00\", \"2011-01-01T00:00:00\", \"2012-01-01T00:00:00\", \"2013-01-01T00:00:00\", \"2014-01-01T00:00:00\", \"2015-01-01T00:00:00\", \"2016-01-01T00:00:00\", \"2017-01-01T00:00:00\", \"2018-01-01T00:00:00\", \"2019-01-01T00:00:00\", \"2020-01-01T00:00:00\", \"2021-01-01T00:00:00\", \"2022-01-01T00:00:00\", \"2023-01-01T00:00:00\", \"2024-01-01T00:00:00\", \"2025-01-01T00:00:00\", \"2026-01-01T00:00:00\", \"2027-01-01T00:00:00\", \"2028-01-01T00:00:00\", \"2029-01-01T00:00:00\", \"2030-01-01T00:00:00\"], \"y\": [2445823297.0, 2498616121.0, 2583691665.0, 2643168001.0, 2705040608.0, 2767977050.0, 2832320001.0, 2898084147.0, 2964288852.0, 3030891648.0, 3098855592.0, 3162919221.0, 3229334431.0, 3296907648.0, 3364998707.0, 3506689498.0, 3571209462.0, 3637961217.0, 3708349412.0, 3778999785.0, 3850315150.0, 3925675840.0, 3997880893.0, 4069225019.0, 4143409388.0, 4222081588.0, 4297202691.0, 4377563123.0, 4461123278.0, 4543979201.0, 4623946080.0, 4701004414.0, 4775678730.0, 4849009647.0, 4921496668.0, 4993746459.0, 5062855853.0, 5132133634.0, 5204414300.0, 5277185538.0, 5349933636.0, 5422586571.0, null, null, null, null, null, null, null, null, null, null, null, null, null, null]}, {\"name\": \"Population Prediction\", \"type\": \"scatter\", \"x\": [\"1975-01-01T00:00:00\", \"1976-01-01T00:00:00\", \"1977-01-01T00:00:00\", \"1978-01-01T00:00:00\", \"1979-01-01T00:00:00\", \"1980-01-01T00:00:00\", \"1981-01-01T00:00:00\", \"1982-01-01T00:00:00\", \"1983-01-01T00:00:00\", \"1984-01-01T00:00:00\", \"1985-01-01T00:00:00\", \"1986-01-01T00:00:00\", \"1987-01-01T00:00:00\", \"1988-01-01T00:00:00\", \"1989-01-01T00:00:00\", \"1990-01-01T00:00:00\", \"1991-01-01T00:00:00\", \"1992-01-01T00:00:00\", \"1993-01-01T00:00:00\", \"1994-01-01T00:00:00\", \"1995-01-01T00:00:00\", \"1996-01-01T00:00:00\", \"1997-01-01T00:00:00\", \"1998-01-01T00:00:00\", \"1999-01-01T00:00:00\", \"2000-01-01T00:00:00\", \"2001-01-01T00:00:00\", \"2002-01-01T00:00:00\", \"2003-01-01T00:00:00\", \"2004-01-01T00:00:00\", \"2005-01-01T00:00:00\", \"2006-01-01T00:00:00\", \"2007-01-01T00:00:00\", \"2008-01-01T00:00:00\", \"2009-01-01T00:00:00\", \"2010-01-01T00:00:00\", \"2011-01-01T00:00:00\", \"2012-01-01T00:00:00\", \"2013-01-01T00:00:00\", \"2014-01-01T00:00:00\", \"2015-01-01T00:00:00\", \"2016-01-01T00:00:00\", \"2017-01-01T00:00:00\", \"2018-01-01T00:00:00\", \"2019-01-01T00:00:00\", \"2020-01-01T00:00:00\", \"2021-01-01T00:00:00\", \"2022-01-01T00:00:00\", \"2023-01-01T00:00:00\", \"2024-01-01T00:00:00\", \"2025-01-01T00:00:00\", \"2026-01-01T00:00:00\", \"2027-01-01T00:00:00\", \"2028-01-01T00:00:00\", \"2029-01-01T00:00:00\", \"2030-01-01T00:00:00\"], \"y\": [null, null, null, null, null, null, null, null, null, null, null, null, null, null, null, null, null, null, null, null, null, null, null, null, null, null, null, null, null, null, null, null, null, null, null, null, null, null, null, null, null, null, 5492203645.654476, 5566844442.679818, 5641711993.86176, 5716962081.78989, 5792770361.092562, 5869298292.0847225, 5946667591.003798, 6024971230.6025715, 6104312474.511044, 6184950368.948805, 6266978951.242145, 6350391479.092196, 6435261762.928652, 6521729616.738522]}],\n",
       "                        {\"template\": {\"data\": {\"bar\": [{\"error_x\": {\"color\": \"#2a3f5f\"}, \"error_y\": {\"color\": \"#2a3f5f\"}, \"marker\": {\"line\": {\"color\": \"#E5ECF6\", \"width\": 0.5}}, \"type\": \"bar\"}], \"barpolar\": [{\"marker\": {\"line\": {\"color\": \"#E5ECF6\", \"width\": 0.5}}, \"type\": \"barpolar\"}], \"carpet\": [{\"aaxis\": {\"endlinecolor\": \"#2a3f5f\", \"gridcolor\": \"white\", \"linecolor\": \"white\", \"minorgridcolor\": \"white\", \"startlinecolor\": \"#2a3f5f\"}, \"baxis\": {\"endlinecolor\": \"#2a3f5f\", \"gridcolor\": \"white\", \"linecolor\": \"white\", \"minorgridcolor\": \"white\", \"startlinecolor\": \"#2a3f5f\"}, \"type\": \"carpet\"}], \"choropleth\": [{\"colorbar\": {\"outlinewidth\": 0, \"ticks\": \"\"}, \"type\": \"choropleth\"}], \"contour\": [{\"colorbar\": {\"outlinewidth\": 0, \"ticks\": \"\"}, \"colorscale\": [[0.0, \"#0d0887\"], [0.1111111111111111, \"#46039f\"], [0.2222222222222222, \"#7201a8\"], [0.3333333333333333, \"#9c179e\"], [0.4444444444444444, \"#bd3786\"], [0.5555555555555556, \"#d8576b\"], [0.6666666666666666, \"#ed7953\"], [0.7777777777777778, \"#fb9f3a\"], [0.8888888888888888, \"#fdca26\"], [1.0, \"#f0f921\"]], \"type\": \"contour\"}], \"contourcarpet\": [{\"colorbar\": {\"outlinewidth\": 0, \"ticks\": \"\"}, \"type\": \"contourcarpet\"}], \"heatmap\": [{\"colorbar\": {\"outlinewidth\": 0, \"ticks\": \"\"}, \"colorscale\": [[0.0, \"#0d0887\"], [0.1111111111111111, \"#46039f\"], [0.2222222222222222, \"#7201a8\"], [0.3333333333333333, \"#9c179e\"], [0.4444444444444444, \"#bd3786\"], [0.5555555555555556, \"#d8576b\"], [0.6666666666666666, \"#ed7953\"], [0.7777777777777778, \"#fb9f3a\"], [0.8888888888888888, \"#fdca26\"], [1.0, \"#f0f921\"]], \"type\": \"heatmap\"}], \"heatmapgl\": [{\"colorbar\": {\"outlinewidth\": 0, \"ticks\": \"\"}, \"colorscale\": [[0.0, \"#0d0887\"], [0.1111111111111111, \"#46039f\"], [0.2222222222222222, \"#7201a8\"], [0.3333333333333333, \"#9c179e\"], [0.4444444444444444, \"#bd3786\"], [0.5555555555555556, \"#d8576b\"], [0.6666666666666666, \"#ed7953\"], [0.7777777777777778, \"#fb9f3a\"], [0.8888888888888888, \"#fdca26\"], [1.0, \"#f0f921\"]], \"type\": \"heatmapgl\"}], \"histogram\": [{\"marker\": {\"colorbar\": {\"outlinewidth\": 0, \"ticks\": \"\"}}, \"type\": \"histogram\"}], \"histogram2d\": [{\"colorbar\": {\"outlinewidth\": 0, \"ticks\": \"\"}, \"colorscale\": [[0.0, \"#0d0887\"], [0.1111111111111111, \"#46039f\"], [0.2222222222222222, \"#7201a8\"], [0.3333333333333333, \"#9c179e\"], [0.4444444444444444, \"#bd3786\"], [0.5555555555555556, \"#d8576b\"], [0.6666666666666666, \"#ed7953\"], [0.7777777777777778, \"#fb9f3a\"], [0.8888888888888888, \"#fdca26\"], [1.0, \"#f0f921\"]], \"type\": \"histogram2d\"}], \"histogram2dcontour\": [{\"colorbar\": {\"outlinewidth\": 0, \"ticks\": \"\"}, \"colorscale\": [[0.0, \"#0d0887\"], [0.1111111111111111, \"#46039f\"], [0.2222222222222222, \"#7201a8\"], [0.3333333333333333, \"#9c179e\"], [0.4444444444444444, \"#bd3786\"], [0.5555555555555556, \"#d8576b\"], [0.6666666666666666, \"#ed7953\"], [0.7777777777777778, \"#fb9f3a\"], [0.8888888888888888, \"#fdca26\"], [1.0, \"#f0f921\"]], \"type\": \"histogram2dcontour\"}], \"mesh3d\": [{\"colorbar\": {\"outlinewidth\": 0, \"ticks\": \"\"}, \"type\": \"mesh3d\"}], \"parcoords\": [{\"line\": {\"colorbar\": {\"outlinewidth\": 0, \"ticks\": \"\"}}, \"type\": \"parcoords\"}], \"scatter\": [{\"marker\": {\"colorbar\": {\"outlinewidth\": 0, \"ticks\": \"\"}}, \"type\": \"scatter\"}], \"scatter3d\": [{\"line\": {\"colorbar\": {\"outlinewidth\": 0, \"ticks\": \"\"}}, \"marker\": {\"colorbar\": {\"outlinewidth\": 0, \"ticks\": \"\"}}, \"type\": \"scatter3d\"}], \"scattercarpet\": [{\"marker\": {\"colorbar\": {\"outlinewidth\": 0, \"ticks\": \"\"}}, \"type\": \"scattercarpet\"}], \"scattergeo\": [{\"marker\": {\"colorbar\": {\"outlinewidth\": 0, \"ticks\": \"\"}}, \"type\": \"scattergeo\"}], \"scattergl\": [{\"marker\": {\"colorbar\": {\"outlinewidth\": 0, \"ticks\": \"\"}}, \"type\": \"scattergl\"}], \"scattermapbox\": [{\"marker\": {\"colorbar\": {\"outlinewidth\": 0, \"ticks\": \"\"}}, \"type\": \"scattermapbox\"}], \"scatterpolar\": [{\"marker\": {\"colorbar\": {\"outlinewidth\": 0, \"ticks\": \"\"}}, \"type\": \"scatterpolar\"}], \"scatterpolargl\": [{\"marker\": {\"colorbar\": {\"outlinewidth\": 0, \"ticks\": \"\"}}, \"type\": \"scatterpolargl\"}], \"scatterternary\": [{\"marker\": {\"colorbar\": {\"outlinewidth\": 0, \"ticks\": \"\"}}, \"type\": \"scatterternary\"}], \"surface\": [{\"colorbar\": {\"outlinewidth\": 0, \"ticks\": \"\"}, \"colorscale\": [[0.0, \"#0d0887\"], [0.1111111111111111, \"#46039f\"], [0.2222222222222222, \"#7201a8\"], [0.3333333333333333, \"#9c179e\"], [0.4444444444444444, \"#bd3786\"], [0.5555555555555556, \"#d8576b\"], [0.6666666666666666, \"#ed7953\"], [0.7777777777777778, \"#fb9f3a\"], [0.8888888888888888, \"#fdca26\"], [1.0, \"#f0f921\"]], \"type\": \"surface\"}], \"table\": [{\"cells\": {\"fill\": {\"color\": \"#EBF0F8\"}, \"line\": {\"color\": \"white\"}}, \"header\": {\"fill\": {\"color\": \"#C8D4E3\"}, \"line\": {\"color\": \"white\"}}, \"type\": \"table\"}]}, \"layout\": {\"annotationdefaults\": {\"arrowcolor\": \"#2a3f5f\", \"arrowhead\": 0, \"arrowwidth\": 1}, \"colorscale\": {\"diverging\": [[0, \"#8e0152\"], [0.1, \"#c51b7d\"], [0.2, \"#de77ae\"], [0.3, \"#f1b6da\"], [0.4, \"#fde0ef\"], [0.5, \"#f7f7f7\"], [0.6, \"#e6f5d0\"], [0.7, \"#b8e186\"], [0.8, \"#7fbc41\"], [0.9, \"#4d9221\"], [1, \"#276419\"]], \"sequential\": [[0.0, \"#0d0887\"], [0.1111111111111111, \"#46039f\"], [0.2222222222222222, \"#7201a8\"], [0.3333333333333333, \"#9c179e\"], [0.4444444444444444, \"#bd3786\"], [0.5555555555555556, \"#d8576b\"], [0.6666666666666666, \"#ed7953\"], [0.7777777777777778, \"#fb9f3a\"], [0.8888888888888888, \"#fdca26\"], [1.0, \"#f0f921\"]], \"sequentialminus\": [[0.0, \"#0d0887\"], [0.1111111111111111, \"#46039f\"], [0.2222222222222222, \"#7201a8\"], [0.3333333333333333, \"#9c179e\"], [0.4444444444444444, \"#bd3786\"], [0.5555555555555556, \"#d8576b\"], [0.6666666666666666, \"#ed7953\"], [0.7777777777777778, \"#fb9f3a\"], [0.8888888888888888, \"#fdca26\"], [1.0, \"#f0f921\"]]}, \"colorway\": [\"#636efa\", \"#EF553B\", \"#00cc96\", \"#ab63fa\", \"#FFA15A\", \"#19d3f3\", \"#FF6692\", \"#B6E880\", \"#FF97FF\", \"#FECB52\"], \"font\": {\"color\": \"#2a3f5f\"}, \"geo\": {\"bgcolor\": \"white\", \"lakecolor\": \"white\", \"landcolor\": \"#E5ECF6\", \"showlakes\": true, \"showland\": true, \"subunitcolor\": \"white\"}, \"hoverlabel\": {\"align\": \"left\"}, \"hovermode\": \"closest\", \"mapbox\": {\"style\": \"light\"}, \"paper_bgcolor\": \"white\", \"plot_bgcolor\": \"#E5ECF6\", \"polar\": {\"angularaxis\": {\"gridcolor\": \"white\", \"linecolor\": \"white\", \"ticks\": \"\"}, \"bgcolor\": \"#E5ECF6\", \"radialaxis\": {\"gridcolor\": \"white\", \"linecolor\": \"white\", \"ticks\": \"\"}}, \"scene\": {\"xaxis\": {\"backgroundcolor\": \"#E5ECF6\", \"gridcolor\": \"white\", \"gridwidth\": 2, \"linecolor\": \"white\", \"showbackground\": true, \"ticks\": \"\", \"zerolinecolor\": \"white\"}, \"yaxis\": {\"backgroundcolor\": \"#E5ECF6\", \"gridcolor\": \"white\", \"gridwidth\": 2, \"linecolor\": \"white\", \"showbackground\": true, \"ticks\": \"\", \"zerolinecolor\": \"white\"}, \"zaxis\": {\"backgroundcolor\": \"#E5ECF6\", \"gridcolor\": \"white\", \"gridwidth\": 2, \"linecolor\": \"white\", \"showbackground\": true, \"ticks\": \"\", \"zerolinecolor\": \"white\"}}, \"shapedefaults\": {\"line\": {\"color\": \"#2a3f5f\"}}, \"ternary\": {\"aaxis\": {\"gridcolor\": \"white\", \"linecolor\": \"white\", \"ticks\": \"\"}, \"baxis\": {\"gridcolor\": \"white\", \"linecolor\": \"white\", \"ticks\": \"\"}, \"bgcolor\": \"#E5ECF6\", \"caxis\": {\"gridcolor\": \"white\", \"linecolor\": \"white\", \"ticks\": \"\"}}, \"title\": {\"x\": 0.05}, \"xaxis\": {\"automargin\": true, \"gridcolor\": \"white\", \"linecolor\": \"white\", \"ticks\": \"\", \"zerolinecolor\": \"white\", \"zerolinewidth\": 2}, \"yaxis\": {\"automargin\": true, \"gridcolor\": \"white\", \"linecolor\": \"white\", \"ticks\": \"\", \"zerolinecolor\": \"white\", \"zerolinewidth\": 2}}}, \"title\": {\"text\": \"Population vs. Obesity Growth\"}},\n",
       "                        {\"responsive\": true}\n",
       "                    ).then(function(){\n",
       "                            \n",
       "var gd = document.getElementById('ab20b7b1-ef39-4e5e-8b00-5118d1848d79');\n",
       "var x = new MutationObserver(function (mutations, observer) {{\n",
       "        var display = window.getComputedStyle(gd).display;\n",
       "        if (!display || display === 'none') {{\n",
       "            console.log([gd, 'removed!']);\n",
       "            Plotly.purge(gd);\n",
       "            observer.disconnect();\n",
       "        }}\n",
       "}});\n",
       "\n",
       "// Listen for the removal of the full notebook cells\n",
       "var notebookContainer = gd.closest('#notebook-container');\n",
       "if (notebookContainer) {{\n",
       "    x.observe(notebookContainer, {childList: true});\n",
       "}}\n",
       "\n",
       "// Listen for the clearing of the current output cell\n",
       "var outputEl = gd.closest('.output');\n",
       "if (outputEl) {{\n",
       "    x.observe(outputEl, {childList: true});\n",
       "}}\n",
       "\n",
       "                        })\n",
       "                };\n",
       "                });\n",
       "            </script>\n",
       "        </div>"
      ]
     },
     "metadata": {},
     "output_type": "display_data"
    }
   ],
   "source": [
    "# Let's plot our predictions along with our historical data\n",
    "plot_data = [go.Scatter(x = obs_project.index, \n",
    "                        y = obs_project['sum_obs'], \n",
    "                        name = 'Obesity Actual'), \n",
    "             go.Scatter(x = obs_project.index, \n",
    "                        y = obs_project['pred'], \n",
    "                        name = 'Obesity Prediction'),\n",
    "             go.Scatter(x = pop_project.index, \n",
    "                        y = pop_project['sum_pop'], \n",
    "                        name = 'Population Actual'), \n",
    "             go.Scatter(x = pop_project.index, \n",
    "                        y = pop_project['pred'], \n",
    "                        name = 'Population Prediction')]\n",
    "\n",
    "plot_layout = go.Layout(title = 'Population vs. Obesity Growth')\n",
    "\n",
    "fig = go.Figure(data = plot_data, layout = plot_layout)\n",
    "\n",
    "pyoff.iplot(fig)"
   ]
  },
  {
   "cell_type": "code",
   "execution_count": 15,
   "metadata": {},
   "outputs": [
    {
     "data": {
      "text/html": [
       "<div>\n",
       "<style scoped>\n",
       "    .dataframe tbody tr th:only-of-type {\n",
       "        vertical-align: middle;\n",
       "    }\n",
       "\n",
       "    .dataframe tbody tr th {\n",
       "        vertical-align: top;\n",
       "    }\n",
       "\n",
       "    .dataframe thead th {\n",
       "        text-align: right;\n",
       "    }\n",
       "</style>\n",
       "<table border=\"1\" class=\"dataframe\">\n",
       "  <thead>\n",
       "    <tr style=\"text-align: right;\">\n",
       "      <th></th>\n",
       "      <th>sum_obs</th>\n",
       "      <th>pred</th>\n",
       "    </tr>\n",
       "  </thead>\n",
       "  <tbody>\n",
       "    <tr>\n",
       "      <th>1975-01-01</th>\n",
       "      <td>1.016903e+08</td>\n",
       "      <td>NaN</td>\n",
       "    </tr>\n",
       "    <tr>\n",
       "      <th>1976-01-01</th>\n",
       "      <td>1.070177e+08</td>\n",
       "      <td>NaN</td>\n",
       "    </tr>\n",
       "    <tr>\n",
       "      <th>1977-01-01</th>\n",
       "      <td>1.122184e+08</td>\n",
       "      <td>NaN</td>\n",
       "    </tr>\n",
       "    <tr>\n",
       "      <th>1978-01-01</th>\n",
       "      <td>1.173522e+08</td>\n",
       "      <td>NaN</td>\n",
       "    </tr>\n",
       "    <tr>\n",
       "      <th>1979-01-01</th>\n",
       "      <td>1.229560e+08</td>\n",
       "      <td>NaN</td>\n",
       "    </tr>\n",
       "    <tr>\n",
       "      <th>1980-01-01</th>\n",
       "      <td>1.290196e+08</td>\n",
       "      <td>NaN</td>\n",
       "    </tr>\n",
       "    <tr>\n",
       "      <th>1981-01-01</th>\n",
       "      <td>1.354112e+08</td>\n",
       "      <td>NaN</td>\n",
       "    </tr>\n",
       "    <tr>\n",
       "      <th>1982-01-01</th>\n",
       "      <td>1.413756e+08</td>\n",
       "      <td>NaN</td>\n",
       "    </tr>\n",
       "    <tr>\n",
       "      <th>1983-01-01</th>\n",
       "      <td>1.484837e+08</td>\n",
       "      <td>NaN</td>\n",
       "    </tr>\n",
       "    <tr>\n",
       "      <th>1984-01-01</th>\n",
       "      <td>1.554334e+08</td>\n",
       "      <td>NaN</td>\n",
       "    </tr>\n",
       "    <tr>\n",
       "      <th>1985-01-01</th>\n",
       "      <td>1.632199e+08</td>\n",
       "      <td>NaN</td>\n",
       "    </tr>\n",
       "    <tr>\n",
       "      <th>1986-01-01</th>\n",
       "      <td>1.705678e+08</td>\n",
       "      <td>NaN</td>\n",
       "    </tr>\n",
       "    <tr>\n",
       "      <th>1987-01-01</th>\n",
       "      <td>1.795545e+08</td>\n",
       "      <td>NaN</td>\n",
       "    </tr>\n",
       "    <tr>\n",
       "      <th>1988-01-01</th>\n",
       "      <td>1.883380e+08</td>\n",
       "      <td>NaN</td>\n",
       "    </tr>\n",
       "    <tr>\n",
       "      <th>1989-01-01</th>\n",
       "      <td>1.973006e+08</td>\n",
       "      <td>NaN</td>\n",
       "    </tr>\n",
       "    <tr>\n",
       "      <th>1990-01-01</th>\n",
       "      <td>2.171104e+08</td>\n",
       "      <td>NaN</td>\n",
       "    </tr>\n",
       "    <tr>\n",
       "      <th>1991-01-01</th>\n",
       "      <td>2.279972e+08</td>\n",
       "      <td>NaN</td>\n",
       "    </tr>\n",
       "    <tr>\n",
       "      <th>1992-01-01</th>\n",
       "      <td>2.384439e+08</td>\n",
       "      <td>NaN</td>\n",
       "    </tr>\n",
       "    <tr>\n",
       "      <th>1993-01-01</th>\n",
       "      <td>2.501734e+08</td>\n",
       "      <td>NaN</td>\n",
       "    </tr>\n",
       "    <tr>\n",
       "      <th>1994-01-01</th>\n",
       "      <td>2.623040e+08</td>\n",
       "      <td>NaN</td>\n",
       "    </tr>\n",
       "    <tr>\n",
       "      <th>1995-01-01</th>\n",
       "      <td>2.747162e+08</td>\n",
       "      <td>NaN</td>\n",
       "    </tr>\n",
       "    <tr>\n",
       "      <th>1996-01-01</th>\n",
       "      <td>2.877415e+08</td>\n",
       "      <td>NaN</td>\n",
       "    </tr>\n",
       "    <tr>\n",
       "      <th>1997-01-01</th>\n",
       "      <td>3.016791e+08</td>\n",
       "      <td>NaN</td>\n",
       "    </tr>\n",
       "    <tr>\n",
       "      <th>1998-01-01</th>\n",
       "      <td>3.162482e+08</td>\n",
       "      <td>NaN</td>\n",
       "    </tr>\n",
       "    <tr>\n",
       "      <th>1999-01-01</th>\n",
       "      <td>3.307814e+08</td>\n",
       "      <td>NaN</td>\n",
       "    </tr>\n",
       "    <tr>\n",
       "      <th>2000-01-01</th>\n",
       "      <td>3.469380e+08</td>\n",
       "      <td>NaN</td>\n",
       "    </tr>\n",
       "    <tr>\n",
       "      <th>2001-01-01</th>\n",
       "      <td>3.636443e+08</td>\n",
       "      <td>NaN</td>\n",
       "    </tr>\n",
       "    <tr>\n",
       "      <th>2002-01-01</th>\n",
       "      <td>3.803131e+08</td>\n",
       "      <td>NaN</td>\n",
       "    </tr>\n",
       "    <tr>\n",
       "      <th>2003-01-01</th>\n",
       "      <td>3.982549e+08</td>\n",
       "      <td>NaN</td>\n",
       "    </tr>\n",
       "    <tr>\n",
       "      <th>2004-01-01</th>\n",
       "      <td>4.173060e+08</td>\n",
       "      <td>NaN</td>\n",
       "    </tr>\n",
       "    <tr>\n",
       "      <th>2005-01-01</th>\n",
       "      <td>4.363943e+08</td>\n",
       "      <td>NaN</td>\n",
       "    </tr>\n",
       "    <tr>\n",
       "      <th>2006-01-01</th>\n",
       "      <td>4.577975e+08</td>\n",
       "      <td>NaN</td>\n",
       "    </tr>\n",
       "    <tr>\n",
       "      <th>2007-01-01</th>\n",
       "      <td>4.786107e+08</td>\n",
       "      <td>NaN</td>\n",
       "    </tr>\n",
       "    <tr>\n",
       "      <th>2008-01-01</th>\n",
       "      <td>5.002283e+08</td>\n",
       "      <td>NaN</td>\n",
       "    </tr>\n",
       "    <tr>\n",
       "      <th>2009-01-01</th>\n",
       "      <td>5.230793e+08</td>\n",
       "      <td>NaN</td>\n",
       "    </tr>\n",
       "    <tr>\n",
       "      <th>2010-01-01</th>\n",
       "      <td>5.477034e+08</td>\n",
       "      <td>NaN</td>\n",
       "    </tr>\n",
       "    <tr>\n",
       "      <th>2011-01-01</th>\n",
       "      <td>5.722804e+08</td>\n",
       "      <td>NaN</td>\n",
       "    </tr>\n",
       "    <tr>\n",
       "      <th>2012-01-01</th>\n",
       "      <td>5.970905e+08</td>\n",
       "      <td>NaN</td>\n",
       "    </tr>\n",
       "    <tr>\n",
       "      <th>2013-01-01</th>\n",
       "      <td>6.250874e+08</td>\n",
       "      <td>NaN</td>\n",
       "    </tr>\n",
       "    <tr>\n",
       "      <th>2014-01-01</th>\n",
       "      <td>6.529366e+08</td>\n",
       "      <td>NaN</td>\n",
       "    </tr>\n",
       "    <tr>\n",
       "      <th>2015-01-01</th>\n",
       "      <td>6.823563e+08</td>\n",
       "      <td>NaN</td>\n",
       "    </tr>\n",
       "    <tr>\n",
       "      <th>2016-01-01</th>\n",
       "      <td>7.127860e+08</td>\n",
       "      <td>NaN</td>\n",
       "    </tr>\n",
       "    <tr>\n",
       "      <th>2017-01-01</th>\n",
       "      <td>NaN</td>\n",
       "      <td>6.979525e+08</td>\n",
       "    </tr>\n",
       "    <tr>\n",
       "      <th>2018-01-01</th>\n",
       "      <td>NaN</td>\n",
       "      <td>7.240435e+08</td>\n",
       "    </tr>\n",
       "    <tr>\n",
       "      <th>2019-01-01</th>\n",
       "      <td>NaN</td>\n",
       "      <td>7.510857e+08</td>\n",
       "    </tr>\n",
       "    <tr>\n",
       "      <th>2020-01-01</th>\n",
       "      <td>NaN</td>\n",
       "      <td>7.791189e+08</td>\n",
       "    </tr>\n",
       "    <tr>\n",
       "      <th>2021-01-01</th>\n",
       "      <td>NaN</td>\n",
       "      <td>8.082005e+08</td>\n",
       "    </tr>\n",
       "    <tr>\n",
       "      <th>2022-01-01</th>\n",
       "      <td>NaN</td>\n",
       "      <td>8.386792e+08</td>\n",
       "    </tr>\n",
       "    <tr>\n",
       "      <th>2023-01-01</th>\n",
       "      <td>NaN</td>\n",
       "      <td>8.707498e+08</td>\n",
       "    </tr>\n",
       "    <tr>\n",
       "      <th>2024-01-01</th>\n",
       "      <td>NaN</td>\n",
       "      <td>9.044415e+08</td>\n",
       "    </tr>\n",
       "    <tr>\n",
       "      <th>2025-01-01</th>\n",
       "      <td>NaN</td>\n",
       "      <td>9.398661e+08</td>\n",
       "    </tr>\n",
       "    <tr>\n",
       "      <th>2026-01-01</th>\n",
       "      <td>NaN</td>\n",
       "      <td>9.772511e+08</td>\n",
       "    </tr>\n",
       "    <tr>\n",
       "      <th>2027-01-01</th>\n",
       "      <td>NaN</td>\n",
       "      <td>1.016863e+09</td>\n",
       "    </tr>\n",
       "    <tr>\n",
       "      <th>2028-01-01</th>\n",
       "      <td>NaN</td>\n",
       "      <td>1.058751e+09</td>\n",
       "    </tr>\n",
       "    <tr>\n",
       "      <th>2029-01-01</th>\n",
       "      <td>NaN</td>\n",
       "      <td>1.103256e+09</td>\n",
       "    </tr>\n",
       "    <tr>\n",
       "      <th>2030-01-01</th>\n",
       "      <td>NaN</td>\n",
       "      <td>1.150547e+09</td>\n",
       "    </tr>\n",
       "  </tbody>\n",
       "</table>\n",
       "</div>"
      ],
      "text/plain": [
       "                 sum_obs          pred\n",
       "1975-01-01  1.016903e+08           NaN\n",
       "1976-01-01  1.070177e+08           NaN\n",
       "1977-01-01  1.122184e+08           NaN\n",
       "1978-01-01  1.173522e+08           NaN\n",
       "1979-01-01  1.229560e+08           NaN\n",
       "1980-01-01  1.290196e+08           NaN\n",
       "1981-01-01  1.354112e+08           NaN\n",
       "1982-01-01  1.413756e+08           NaN\n",
       "1983-01-01  1.484837e+08           NaN\n",
       "1984-01-01  1.554334e+08           NaN\n",
       "1985-01-01  1.632199e+08           NaN\n",
       "1986-01-01  1.705678e+08           NaN\n",
       "1987-01-01  1.795545e+08           NaN\n",
       "1988-01-01  1.883380e+08           NaN\n",
       "1989-01-01  1.973006e+08           NaN\n",
       "1990-01-01  2.171104e+08           NaN\n",
       "1991-01-01  2.279972e+08           NaN\n",
       "1992-01-01  2.384439e+08           NaN\n",
       "1993-01-01  2.501734e+08           NaN\n",
       "1994-01-01  2.623040e+08           NaN\n",
       "1995-01-01  2.747162e+08           NaN\n",
       "1996-01-01  2.877415e+08           NaN\n",
       "1997-01-01  3.016791e+08           NaN\n",
       "1998-01-01  3.162482e+08           NaN\n",
       "1999-01-01  3.307814e+08           NaN\n",
       "2000-01-01  3.469380e+08           NaN\n",
       "2001-01-01  3.636443e+08           NaN\n",
       "2002-01-01  3.803131e+08           NaN\n",
       "2003-01-01  3.982549e+08           NaN\n",
       "2004-01-01  4.173060e+08           NaN\n",
       "2005-01-01  4.363943e+08           NaN\n",
       "2006-01-01  4.577975e+08           NaN\n",
       "2007-01-01  4.786107e+08           NaN\n",
       "2008-01-01  5.002283e+08           NaN\n",
       "2009-01-01  5.230793e+08           NaN\n",
       "2010-01-01  5.477034e+08           NaN\n",
       "2011-01-01  5.722804e+08           NaN\n",
       "2012-01-01  5.970905e+08           NaN\n",
       "2013-01-01  6.250874e+08           NaN\n",
       "2014-01-01  6.529366e+08           NaN\n",
       "2015-01-01  6.823563e+08           NaN\n",
       "2016-01-01  7.127860e+08           NaN\n",
       "2017-01-01           NaN  6.979525e+08\n",
       "2018-01-01           NaN  7.240435e+08\n",
       "2019-01-01           NaN  7.510857e+08\n",
       "2020-01-01           NaN  7.791189e+08\n",
       "2021-01-01           NaN  8.082005e+08\n",
       "2022-01-01           NaN  8.386792e+08\n",
       "2023-01-01           NaN  8.707498e+08\n",
       "2024-01-01           NaN  9.044415e+08\n",
       "2025-01-01           NaN  9.398661e+08\n",
       "2026-01-01           NaN  9.772511e+08\n",
       "2027-01-01           NaN  1.016863e+09\n",
       "2028-01-01           NaN  1.058751e+09\n",
       "2029-01-01           NaN  1.103256e+09\n",
       "2030-01-01           NaN  1.150547e+09"
      ]
     },
     "execution_count": 15,
     "metadata": {},
     "output_type": "execute_result"
    }
   ],
   "source": [
    "obs_project"
   ]
  }
 ],
 "metadata": {
  "kernelspec": {
   "display_name": "Python 3",
   "language": "python",
   "name": "python3"
  },
  "language_info": {
   "codemirror_mode": {
    "name": "ipython",
    "version": 3
   },
   "file_extension": ".py",
   "mimetype": "text/x-python",
   "name": "python",
   "nbconvert_exporter": "python",
   "pygments_lexer": "ipython3",
   "version": "3.7.3"
  }
 },
 "nbformat": 4,
 "nbformat_minor": 2
}
