{
 "cells": [
  {
   "cell_type": "code",
   "execution_count": 1,
   "metadata": {},
   "outputs": [],
   "source": [
    "import pandas as pd\n",
    "import numpy as np"
   ]
  },
  {
   "cell_type": "code",
   "execution_count": 2,
   "metadata": {},
   "outputs": [],
   "source": [
    "pop = pd.read_csv('./Population-EstimatesData.csv')\n",
    "obs = pd.read_csv('./obesity_clean.csv', index_col = 0)"
   ]
  },
  {
   "cell_type": "code",
   "execution_count": 3,
   "metadata": {},
   "outputs": [
    {
     "data": {
      "text/plain": [
       "(45325, 96)"
      ]
     },
     "execution_count": 3,
     "metadata": {},
     "output_type": "execute_result"
    }
   ],
   "source": [
    "pop.shape"
   ]
  },
  {
   "cell_type": "code",
   "execution_count": 4,
   "metadata": {},
   "outputs": [
    {
     "data": {
      "text/plain": [
       "(8022, 6)"
      ]
     },
     "execution_count": 4,
     "metadata": {},
     "output_type": "execute_result"
    }
   ],
   "source": [
    "obs.shape"
   ]
  },
  {
   "cell_type": "code",
   "execution_count": 5,
   "metadata": {},
   "outputs": [
    {
     "data": {
      "text/plain": [
       "Index(['Country Name', 'Country Code', 'Indicator Name', 'Indicator Code',\n",
       "       '1960', '1961', '1962', '1963', '1964', '1965', '1966', '1967', '1968',\n",
       "       '1969', '1970', '1971', '1972', '1973', '1974', '1975', '1976', '1977',\n",
       "       '1978', '1979', '1980', '1981', '1982', '1983', '1984', '1985', '1986',\n",
       "       '1987', '1988', '1989', '1990', '1991', '1992', '1993', '1994', '1995',\n",
       "       '1996', '1997', '1998', '1999', '2000', '2001', '2002', '2003', '2004',\n",
       "       '2005', '2006', '2007', '2008', '2009', '2010', '2011', '2012', '2013',\n",
       "       '2014', '2015', '2016', '2017', '2018', '2019', '2020', '2021', '2022',\n",
       "       '2023', '2024', '2025', '2026', '2027', '2028', '2029', '2030', '2031',\n",
       "       '2032', '2033', '2034', '2035', '2036', '2037', '2038', '2039', '2040',\n",
       "       '2041', '2042', '2043', '2044', '2045', '2046', '2047', '2048', '2049',\n",
       "       '2050', 'Unnamed: 95'],\n",
       "      dtype='object')"
      ]
     },
     "execution_count": 5,
     "metadata": {},
     "output_type": "execute_result"
    }
   ],
   "source": [
    "pop.columns"
   ]
  },
  {
   "cell_type": "code",
   "execution_count": 6,
   "metadata": {},
   "outputs": [],
   "source": [
    "pop_clean = pd.DataFrame()"
   ]
  },
  {
   "cell_type": "code",
   "execution_count": 7,
   "metadata": {},
   "outputs": [],
   "source": [
    "# We only need data from 1975-2016 and a few other columns, copying from original df\n",
    "for column in pop.columns:\n",
    "    if column in ['Country Name', 'Country Code', 'Indicator Code']:\n",
    "        pop_clean[column] = pop[column]"
   ]
  },
  {
   "cell_type": "code",
   "execution_count": 8,
   "metadata": {},
   "outputs": [
    {
     "data": {
      "text/html": [
       "<div>\n",
       "<style scoped>\n",
       "    .dataframe tbody tr th:only-of-type {\n",
       "        vertical-align: middle;\n",
       "    }\n",
       "\n",
       "    .dataframe tbody tr th {\n",
       "        vertical-align: top;\n",
       "    }\n",
       "\n",
       "    .dataframe thead th {\n",
       "        text-align: right;\n",
       "    }\n",
       "</style>\n",
       "<table border=\"1\" class=\"dataframe\">\n",
       "  <thead>\n",
       "    <tr style=\"text-align: right;\">\n",
       "      <th></th>\n",
       "      <th>Country Name</th>\n",
       "      <th>Country Code</th>\n",
       "      <th>Indicator Code</th>\n",
       "    </tr>\n",
       "  </thead>\n",
       "  <tbody>\n",
       "    <tr>\n",
       "      <th>0</th>\n",
       "      <td>Arab World</td>\n",
       "      <td>ARB</td>\n",
       "      <td>SP.POP.DPND</td>\n",
       "    </tr>\n",
       "    <tr>\n",
       "      <th>1</th>\n",
       "      <td>Arab World</td>\n",
       "      <td>ARB</td>\n",
       "      <td>SP.POP.DPND.OL</td>\n",
       "    </tr>\n",
       "    <tr>\n",
       "      <th>2</th>\n",
       "      <td>Arab World</td>\n",
       "      <td>ARB</td>\n",
       "      <td>SP.POP.DPND.YG</td>\n",
       "    </tr>\n",
       "  </tbody>\n",
       "</table>\n",
       "</div>"
      ],
      "text/plain": [
       "  Country Name Country Code  Indicator Code\n",
       "0   Arab World          ARB     SP.POP.DPND\n",
       "1   Arab World          ARB  SP.POP.DPND.OL\n",
       "2   Arab World          ARB  SP.POP.DPND.YG"
      ]
     },
     "execution_count": 8,
     "metadata": {},
     "output_type": "execute_result"
    }
   ],
   "source": [
    "pop_clean.head(3)"
   ]
  },
  {
   "cell_type": "code",
   "execution_count": 9,
   "metadata": {},
   "outputs": [],
   "source": [
    "# copy the years we have in common between obs and pop to pop_clean\n",
    "for year in range(1965, 2017):\n",
    "    if str(year) in pop.columns:\n",
    "        pop_clean[year] = pop[str(year)]"
   ]
  },
  {
   "cell_type": "code",
   "execution_count": 10,
   "metadata": {},
   "outputs": [
    {
     "data": {
      "text/html": [
       "<div>\n",
       "<style scoped>\n",
       "    .dataframe tbody tr th:only-of-type {\n",
       "        vertical-align: middle;\n",
       "    }\n",
       "\n",
       "    .dataframe tbody tr th {\n",
       "        vertical-align: top;\n",
       "    }\n",
       "\n",
       "    .dataframe thead th {\n",
       "        text-align: right;\n",
       "    }\n",
       "</style>\n",
       "<table border=\"1\" class=\"dataframe\">\n",
       "  <thead>\n",
       "    <tr style=\"text-align: right;\">\n",
       "      <th></th>\n",
       "      <th>Country Name</th>\n",
       "      <th>Country Code</th>\n",
       "      <th>Indicator Code</th>\n",
       "      <th>1965</th>\n",
       "      <th>1966</th>\n",
       "      <th>1967</th>\n",
       "      <th>1968</th>\n",
       "      <th>1969</th>\n",
       "      <th>1970</th>\n",
       "      <th>1971</th>\n",
       "      <th>...</th>\n",
       "      <th>2007</th>\n",
       "      <th>2008</th>\n",
       "      <th>2009</th>\n",
       "      <th>2010</th>\n",
       "      <th>2011</th>\n",
       "      <th>2012</th>\n",
       "      <th>2013</th>\n",
       "      <th>2014</th>\n",
       "      <th>2015</th>\n",
       "      <th>2016</th>\n",
       "    </tr>\n",
       "  </thead>\n",
       "  <tbody>\n",
       "    <tr>\n",
       "      <th>0</th>\n",
       "      <td>Arab World</td>\n",
       "      <td>ARB</td>\n",
       "      <td>SP.POP.DPND</td>\n",
       "      <td>93.201290</td>\n",
       "      <td>94.087535</td>\n",
       "      <td>94.485922</td>\n",
       "      <td>94.544610</td>\n",
       "      <td>94.434251</td>\n",
       "      <td>94.226666</td>\n",
       "      <td>94.523203</td>\n",
       "      <td>...</td>\n",
       "      <td>65.784310</td>\n",
       "      <td>64.778501</td>\n",
       "      <td>63.913830</td>\n",
       "      <td>63.201624</td>\n",
       "      <td>62.572328</td>\n",
       "      <td>62.089329</td>\n",
       "      <td>61.730765</td>\n",
       "      <td>61.446530</td>\n",
       "      <td>61.195307</td>\n",
       "      <td>61.283615</td>\n",
       "    </tr>\n",
       "    <tr>\n",
       "      <th>1</th>\n",
       "      <td>Arab World</td>\n",
       "      <td>ARB</td>\n",
       "      <td>SP.POP.DPND.OL</td>\n",
       "      <td>6.947790</td>\n",
       "      <td>7.015592</td>\n",
       "      <td>7.053468</td>\n",
       "      <td>7.070116</td>\n",
       "      <td>7.075065</td>\n",
       "      <td>7.073558</td>\n",
       "      <td>7.118325</td>\n",
       "      <td>...</td>\n",
       "      <td>6.759558</td>\n",
       "      <td>6.711798</td>\n",
       "      <td>6.676818</td>\n",
       "      <td>6.661625</td>\n",
       "      <td>6.668728</td>\n",
       "      <td>6.686883</td>\n",
       "      <td>6.720703</td>\n",
       "      <td>6.776496</td>\n",
       "      <td>6.858187</td>\n",
       "      <td>6.981482</td>\n",
       "    </tr>\n",
       "    <tr>\n",
       "      <th>2</th>\n",
       "      <td>Arab World</td>\n",
       "      <td>ARB</td>\n",
       "      <td>SP.POP.DPND.YG</td>\n",
       "      <td>85.872972</td>\n",
       "      <td>86.674248</td>\n",
       "      <td>87.052932</td>\n",
       "      <td>87.131942</td>\n",
       "      <td>87.045298</td>\n",
       "      <td>86.848912</td>\n",
       "      <td>87.099372</td>\n",
       "      <td>...</td>\n",
       "      <td>57.203135</td>\n",
       "      <td>56.144645</td>\n",
       "      <td>55.247367</td>\n",
       "      <td>54.517731</td>\n",
       "      <td>53.919135</td>\n",
       "      <td>53.468340</td>\n",
       "      <td>53.136254</td>\n",
       "      <td>52.861795</td>\n",
       "      <td>52.595712</td>\n",
       "      <td>52.611349</td>\n",
       "    </tr>\n",
       "  </tbody>\n",
       "</table>\n",
       "<p>3 rows × 55 columns</p>\n",
       "</div>"
      ],
      "text/plain": [
       "  Country Name Country Code  Indicator Code       1965       1966       1967  \\\n",
       "0   Arab World          ARB     SP.POP.DPND  93.201290  94.087535  94.485922   \n",
       "1   Arab World          ARB  SP.POP.DPND.OL   6.947790   7.015592   7.053468   \n",
       "2   Arab World          ARB  SP.POP.DPND.YG  85.872972  86.674248  87.052932   \n",
       "\n",
       "        1968       1969       1970       1971  ...       2007       2008  \\\n",
       "0  94.544610  94.434251  94.226666  94.523203  ...  65.784310  64.778501   \n",
       "1   7.070116   7.075065   7.073558   7.118325  ...   6.759558   6.711798   \n",
       "2  87.131942  87.045298  86.848912  87.099372  ...  57.203135  56.144645   \n",
       "\n",
       "        2009       2010       2011       2012       2013       2014  \\\n",
       "0  63.913830  63.201624  62.572328  62.089329  61.730765  61.446530   \n",
       "1   6.676818   6.661625   6.668728   6.686883   6.720703   6.776496   \n",
       "2  55.247367  54.517731  53.919135  53.468340  53.136254  52.861795   \n",
       "\n",
       "        2015       2016  \n",
       "0  61.195307  61.283615  \n",
       "1   6.858187   6.981482  \n",
       "2  52.595712  52.611349  \n",
       "\n",
       "[3 rows x 55 columns]"
      ]
     },
     "execution_count": 10,
     "metadata": {},
     "output_type": "execute_result"
    }
   ],
   "source": [
    "pop_clean.head(3)"
   ]
  },
  {
   "cell_type": "code",
   "execution_count": 11,
   "metadata": {},
   "outputs": [],
   "source": [
    "# SP.POP.TOTL minus SP.POP.0014.TO should give us close to the adult populations\n",
    "pop_clean = pop_clean[(pop_clean['Indicator Code'] == 'SP.POP.TOTL') | (pop_clean['Indicator Code'] == 'SP.POP.0014.TO')]"
   ]
  },
  {
   "cell_type": "code",
   "execution_count": 12,
   "metadata": {},
   "outputs": [
    {
     "data": {
      "text/html": [
       "<div>\n",
       "<style scoped>\n",
       "    .dataframe tbody tr th:only-of-type {\n",
       "        vertical-align: middle;\n",
       "    }\n",
       "\n",
       "    .dataframe tbody tr th {\n",
       "        vertical-align: top;\n",
       "    }\n",
       "\n",
       "    .dataframe thead th {\n",
       "        text-align: right;\n",
       "    }\n",
       "</style>\n",
       "<table border=\"1\" class=\"dataframe\">\n",
       "  <thead>\n",
       "    <tr style=\"text-align: right;\">\n",
       "      <th></th>\n",
       "      <th>Country Name</th>\n",
       "      <th>Country Code</th>\n",
       "      <th>Indicator Code</th>\n",
       "      <th>1965</th>\n",
       "      <th>1966</th>\n",
       "      <th>1967</th>\n",
       "      <th>1968</th>\n",
       "      <th>1969</th>\n",
       "      <th>1970</th>\n",
       "      <th>1971</th>\n",
       "      <th>...</th>\n",
       "      <th>2007</th>\n",
       "      <th>2008</th>\n",
       "      <th>2009</th>\n",
       "      <th>2010</th>\n",
       "      <th>2011</th>\n",
       "      <th>2012</th>\n",
       "      <th>2013</th>\n",
       "      <th>2014</th>\n",
       "      <th>2015</th>\n",
       "      <th>2016</th>\n",
       "    </tr>\n",
       "  </thead>\n",
       "  <tbody>\n",
       "    <tr>\n",
       "      <th>84</th>\n",
       "      <td>Arab World</td>\n",
       "      <td>ARB</td>\n",
       "      <td>SP.POP.0014.TO</td>\n",
       "      <td>47089854.0</td>\n",
       "      <td>48668380.0</td>\n",
       "      <td>50184681.0</td>\n",
       "      <td>51657737.0</td>\n",
       "      <td>53108292.0</td>\n",
       "      <td>54542164.0</td>\n",
       "      <td>56131706.0</td>\n",
       "      <td>...</td>\n",
       "      <td>115231484.0</td>\n",
       "      <td>116661771.0</td>\n",
       "      <td>118267397.0</td>\n",
       "      <td>120038945.0</td>\n",
       "      <td>121934515.0</td>\n",
       "      <td>124007632.0</td>\n",
       "      <td>126213709.0</td>\n",
       "      <td>128449757.0</td>\n",
       "      <td>130629538.0</td>\n",
       "      <td>133190635.0</td>\n",
       "    </tr>\n",
       "    <tr>\n",
       "      <th>166</th>\n",
       "      <td>Arab World</td>\n",
       "      <td>ARB</td>\n",
       "      <td>SP.POP.TOTL</td>\n",
       "      <td>105736431.0</td>\n",
       "      <td>108758610.0</td>\n",
       "      <td>111899364.0</td>\n",
       "      <td>115136178.0</td>\n",
       "      <td>118437195.0</td>\n",
       "      <td>121785650.0</td>\n",
       "      <td>125164745.0</td>\n",
       "      <td>...</td>\n",
       "      <td>330290716.0</td>\n",
       "      <td>338395961.0</td>\n",
       "      <td>346629220.0</td>\n",
       "      <td>354890042.0</td>\n",
       "      <td>363158703.0</td>\n",
       "      <td>371443547.0</td>\n",
       "      <td>379705719.0</td>\n",
       "      <td>387907748.0</td>\n",
       "      <td>396028278.0</td>\n",
       "      <td>404024433.0</td>\n",
       "    </tr>\n",
       "  </tbody>\n",
       "</table>\n",
       "<p>2 rows × 55 columns</p>\n",
       "</div>"
      ],
      "text/plain": [
       "    Country Name Country Code  Indicator Code         1965         1966  \\\n",
       "84    Arab World          ARB  SP.POP.0014.TO   47089854.0   48668380.0   \n",
       "166   Arab World          ARB     SP.POP.TOTL  105736431.0  108758610.0   \n",
       "\n",
       "            1967         1968         1969         1970         1971  ...  \\\n",
       "84    50184681.0   51657737.0   53108292.0   54542164.0   56131706.0  ...   \n",
       "166  111899364.0  115136178.0  118437195.0  121785650.0  125164745.0  ...   \n",
       "\n",
       "            2007         2008         2009         2010         2011  \\\n",
       "84   115231484.0  116661771.0  118267397.0  120038945.0  121934515.0   \n",
       "166  330290716.0  338395961.0  346629220.0  354890042.0  363158703.0   \n",
       "\n",
       "            2012         2013         2014         2015         2016  \n",
       "84   124007632.0  126213709.0  128449757.0  130629538.0  133190635.0  \n",
       "166  371443547.0  379705719.0  387907748.0  396028278.0  404024433.0  \n",
       "\n",
       "[2 rows x 55 columns]"
      ]
     },
     "execution_count": 12,
     "metadata": {},
     "output_type": "execute_result"
    }
   ],
   "source": [
    "pop_clean.head(2)"
   ]
  },
  {
   "cell_type": "code",
   "execution_count": 13,
   "metadata": {},
   "outputs": [],
   "source": [
    "# Lets match the columns in obs with with columns in pop_clean\n",
    "pop_clean.rename(columns = {'Country Code' : 'country_code', 'Country Name' : 'country'}, inplace = True)"
   ]
  },
  {
   "cell_type": "code",
   "execution_count": 14,
   "metadata": {},
   "outputs": [],
   "source": [
    "# Transform Dataframe to build a new column\n",
    "pop_clean = pop_clean.\\\n",
    "                pivot_table(columns = ['country', 'country_code', 'Indicator Code']).\\\n",
    "                unstack(level = -1).\\\n",
    "                reset_index().\\\n",
    "                rename_axis('', axis = 'columns').\\\n",
    "                rename(columns = {'level_0' : 'year'}).\\\n",
    "                sort_values(by = ['country', 'year'])"
   ]
  },
  {
   "cell_type": "code",
   "execution_count": 15,
   "metadata": {},
   "outputs": [],
   "source": [
    "# Resetting index again for more logical order\n",
    "pop_clean.reset_index(drop = True, inplace = True)"
   ]
  },
  {
   "cell_type": "code",
   "execution_count": 16,
   "metadata": {},
   "outputs": [],
   "source": [
    "# Move column order for readbility\n",
    "pop_clean = pop_clean[['country', 'country_code', 'year', 'SP.POP.TOTL', 'SP.POP.0014.TO']]"
   ]
  },
  {
   "cell_type": "code",
   "execution_count": 17,
   "metadata": {},
   "outputs": [
    {
     "data": {
      "text/html": [
       "<div>\n",
       "<style scoped>\n",
       "    .dataframe tbody tr th:only-of-type {\n",
       "        vertical-align: middle;\n",
       "    }\n",
       "\n",
       "    .dataframe tbody tr th {\n",
       "        vertical-align: top;\n",
       "    }\n",
       "\n",
       "    .dataframe thead th {\n",
       "        text-align: right;\n",
       "    }\n",
       "</style>\n",
       "<table border=\"1\" class=\"dataframe\">\n",
       "  <thead>\n",
       "    <tr style=\"text-align: right;\">\n",
       "      <th></th>\n",
       "      <th>country</th>\n",
       "      <th>country_code</th>\n",
       "      <th>year</th>\n",
       "      <th>SP.POP.TOTL</th>\n",
       "      <th>SP.POP.0014.TO</th>\n",
       "    </tr>\n",
       "  </thead>\n",
       "  <tbody>\n",
       "    <tr>\n",
       "      <th>0</th>\n",
       "      <td>Afghanistan</td>\n",
       "      <td>AFG</td>\n",
       "      <td>1965</td>\n",
       "      <td>9956320.0</td>\n",
       "      <td>4279406.0</td>\n",
       "    </tr>\n",
       "    <tr>\n",
       "      <th>1</th>\n",
       "      <td>Afghanistan</td>\n",
       "      <td>AFG</td>\n",
       "      <td>1966</td>\n",
       "      <td>10174836.0</td>\n",
       "      <td>4408352.0</td>\n",
       "    </tr>\n",
       "    <tr>\n",
       "      <th>2</th>\n",
       "      <td>Afghanistan</td>\n",
       "      <td>AFG</td>\n",
       "      <td>1967</td>\n",
       "      <td>10399926.0</td>\n",
       "      <td>4537722.0</td>\n",
       "    </tr>\n",
       "  </tbody>\n",
       "</table>\n",
       "</div>"
      ],
      "text/plain": [
       "       country country_code  year  SP.POP.TOTL  SP.POP.0014.TO\n",
       "0  Afghanistan          AFG  1965    9956320.0       4279406.0\n",
       "1  Afghanistan          AFG  1966   10174836.0       4408352.0\n",
       "2  Afghanistan          AFG  1967   10399926.0       4537722.0"
      ]
     },
     "execution_count": 17,
     "metadata": {},
     "output_type": "execute_result"
    }
   ],
   "source": [
    "pop_clean.head(3)"
   ]
  },
  {
   "cell_type": "code",
   "execution_count": 18,
   "metadata": {},
   "outputs": [
    {
     "name": "stdout",
     "output_type": "stream",
     "text": [
      "<class 'pandas.core.frame.DataFrame'>\n",
      "RangeIndex: 13416 entries, 0 to 13415\n",
      "Data columns (total 5 columns):\n",
      "country           13416 non-null object\n",
      "country_code      13416 non-null object\n",
      "year              13416 non-null int64\n",
      "SP.POP.TOTL       13325 non-null float64\n",
      "SP.POP.0014.TO    12162 non-null float64\n",
      "dtypes: float64(2), int64(1), object(2)\n",
      "memory usage: 524.1+ KB\n"
     ]
    }
   ],
   "source": [
    "pop_clean.info()"
   ]
  },
  {
   "cell_type": "code",
   "execution_count": 19,
   "metadata": {},
   "outputs": [],
   "source": [
    "# The NA's in the child population can be filled with zeroes and the total population used\n",
    "pop_clean['SP.POP.0014.TO'].fillna(0, inplace = True)"
   ]
  },
  {
   "cell_type": "code",
   "execution_count": 20,
   "metadata": {},
   "outputs": [],
   "source": [
    "# NA's in the total population have to be removed or errors will occur, less than 100 total\n",
    "pop_clean = pop_clean.drop(pop_clean[pop_clean['SP.POP.TOTL'].isnull()].index)"
   ]
  },
  {
   "cell_type": "code",
   "execution_count": 21,
   "metadata": {},
   "outputs": [],
   "source": [
    "pop_clean['adult_pop'] = pop_clean['SP.POP.TOTL'] - pop_clean['SP.POP.0014.TO']"
   ]
  },
  {
   "cell_type": "code",
   "execution_count": 22,
   "metadata": {},
   "outputs": [
    {
     "name": "stdout",
     "output_type": "stream",
     "text": [
      "<class 'pandas.core.frame.DataFrame'>\n",
      "Int64Index: 13325 entries, 0 to 13415\n",
      "Data columns (total 6 columns):\n",
      "country           13325 non-null object\n",
      "country_code      13325 non-null object\n",
      "year              13325 non-null int64\n",
      "SP.POP.TOTL       13325 non-null float64\n",
      "SP.POP.0014.TO    13325 non-null float64\n",
      "adult_pop         13325 non-null float64\n",
      "dtypes: float64(3), int64(1), object(2)\n",
      "memory usage: 728.7+ KB\n"
     ]
    }
   ],
   "source": [
    "pop_clean.info()"
   ]
  },
  {
   "cell_type": "code",
   "execution_count": 23,
   "metadata": {},
   "outputs": [
    {
     "data": {
      "text/html": [
       "<div>\n",
       "<style scoped>\n",
       "    .dataframe tbody tr th:only-of-type {\n",
       "        vertical-align: middle;\n",
       "    }\n",
       "\n",
       "    .dataframe tbody tr th {\n",
       "        vertical-align: top;\n",
       "    }\n",
       "\n",
       "    .dataframe thead th {\n",
       "        text-align: right;\n",
       "    }\n",
       "</style>\n",
       "<table border=\"1\" class=\"dataframe\">\n",
       "  <thead>\n",
       "    <tr style=\"text-align: right;\">\n",
       "      <th></th>\n",
       "      <th>year</th>\n",
       "      <th>SP.POP.TOTL</th>\n",
       "      <th>SP.POP.0014.TO</th>\n",
       "      <th>adult_pop</th>\n",
       "    </tr>\n",
       "  </thead>\n",
       "  <tbody>\n",
       "    <tr>\n",
       "      <th>count</th>\n",
       "      <td>13325.000000</td>\n",
       "      <td>1.332500e+04</td>\n",
       "      <td>1.332500e+04</td>\n",
       "      <td>1.332500e+04</td>\n",
       "    </tr>\n",
       "    <tr>\n",
       "      <th>mean</th>\n",
       "      <td>1990.564803</td>\n",
       "      <td>1.789865e+08</td>\n",
       "      <td>5.754216e+07</td>\n",
       "      <td>1.214443e+08</td>\n",
       "    </tr>\n",
       "    <tr>\n",
       "      <th>std</th>\n",
       "      <td>15.008812</td>\n",
       "      <td>6.117475e+08</td>\n",
       "      <td>1.946778e+08</td>\n",
       "      <td>4.221257e+08</td>\n",
       "    </tr>\n",
       "    <tr>\n",
       "      <th>min</th>\n",
       "      <td>1965.000000</td>\n",
       "      <td>4.468000e+03</td>\n",
       "      <td>0.000000e+00</td>\n",
       "      <td>4.468000e+03</td>\n",
       "    </tr>\n",
       "    <tr>\n",
       "      <th>25%</th>\n",
       "      <td>1978.000000</td>\n",
       "      <td>8.780420e+05</td>\n",
       "      <td>2.853040e+05</td>\n",
       "      <td>5.360830e+05</td>\n",
       "    </tr>\n",
       "    <tr>\n",
       "      <th>50%</th>\n",
       "      <td>1991.000000</td>\n",
       "      <td>6.249165e+06</td>\n",
       "      <td>2.007206e+06</td>\n",
       "      <td>3.953767e+06</td>\n",
       "    </tr>\n",
       "    <tr>\n",
       "      <th>75%</th>\n",
       "      <td>2004.000000</td>\n",
       "      <td>3.688454e+07</td>\n",
       "      <td>1.119047e+07</td>\n",
       "      <td>2.391570e+07</td>\n",
       "    </tr>\n",
       "    <tr>\n",
       "      <th>max</th>\n",
       "      <td>2016.000000</td>\n",
       "      <td>7.426103e+09</td>\n",
       "      <td>1.935527e+09</td>\n",
       "      <td>5.490576e+09</td>\n",
       "    </tr>\n",
       "  </tbody>\n",
       "</table>\n",
       "</div>"
      ],
      "text/plain": [
       "               year   SP.POP.TOTL  SP.POP.0014.TO     adult_pop\n",
       "count  13325.000000  1.332500e+04    1.332500e+04  1.332500e+04\n",
       "mean    1990.564803  1.789865e+08    5.754216e+07  1.214443e+08\n",
       "std       15.008812  6.117475e+08    1.946778e+08  4.221257e+08\n",
       "min     1965.000000  4.468000e+03    0.000000e+00  4.468000e+03\n",
       "25%     1978.000000  8.780420e+05    2.853040e+05  5.360830e+05\n",
       "50%     1991.000000  6.249165e+06    2.007206e+06  3.953767e+06\n",
       "75%     2004.000000  3.688454e+07    1.119047e+07  2.391570e+07\n",
       "max     2016.000000  7.426103e+09    1.935527e+09  5.490576e+09"
      ]
     },
     "execution_count": 23,
     "metadata": {},
     "output_type": "execute_result"
    }
   ],
   "source": [
    "pop_clean.describe()"
   ]
  },
  {
   "cell_type": "code",
   "execution_count": 24,
   "metadata": {},
   "outputs": [
    {
     "data": {
      "text/html": [
       "<div>\n",
       "<style scoped>\n",
       "    .dataframe tbody tr th:only-of-type {\n",
       "        vertical-align: middle;\n",
       "    }\n",
       "\n",
       "    .dataframe tbody tr th {\n",
       "        vertical-align: top;\n",
       "    }\n",
       "\n",
       "    .dataframe thead th {\n",
       "        text-align: right;\n",
       "    }\n",
       "</style>\n",
       "<table border=\"1\" class=\"dataframe\">\n",
       "  <thead>\n",
       "    <tr style=\"text-align: right;\">\n",
       "      <th></th>\n",
       "      <th>country</th>\n",
       "      <th>country_code</th>\n",
       "    </tr>\n",
       "  </thead>\n",
       "  <tbody>\n",
       "    <tr>\n",
       "      <th>count</th>\n",
       "      <td>13325</td>\n",
       "      <td>13325</td>\n",
       "    </tr>\n",
       "    <tr>\n",
       "      <th>unique</th>\n",
       "      <td>258</td>\n",
       "      <td>258</td>\n",
       "    </tr>\n",
       "    <tr>\n",
       "      <th>top</th>\n",
       "      <td>Least developed countries: UN classification</td>\n",
       "      <td>CHE</td>\n",
       "    </tr>\n",
       "    <tr>\n",
       "      <th>freq</th>\n",
       "      <td>52</td>\n",
       "      <td>52</td>\n",
       "    </tr>\n",
       "  </tbody>\n",
       "</table>\n",
       "</div>"
      ],
      "text/plain": [
       "                                             country country_code\n",
       "count                                          13325        13325\n",
       "unique                                           258          258\n",
       "top     Least developed countries: UN classification          CHE\n",
       "freq                                              52           52"
      ]
     },
     "execution_count": 24,
     "metadata": {},
     "output_type": "execute_result"
    }
   ],
   "source": [
    "pop_clean.describe(include = 'O')"
   ]
  },
  {
   "cell_type": "code",
   "execution_count": 25,
   "metadata": {},
   "outputs": [],
   "source": [
    "# Lastly, let's get rid of nations not in both datasets\n",
    "pop_clean = pop_clean[pop_clean['country_code'].isin(obs['country_code']) == True]"
   ]
  },
  {
   "cell_type": "code",
   "execution_count": 26,
   "metadata": {},
   "outputs": [
    {
     "data": {
      "text/html": [
       "<div>\n",
       "<style scoped>\n",
       "    .dataframe tbody tr th:only-of-type {\n",
       "        vertical-align: middle;\n",
       "    }\n",
       "\n",
       "    .dataframe tbody tr th {\n",
       "        vertical-align: top;\n",
       "    }\n",
       "\n",
       "    .dataframe thead th {\n",
       "        text-align: right;\n",
       "    }\n",
       "</style>\n",
       "<table border=\"1\" class=\"dataframe\">\n",
       "  <thead>\n",
       "    <tr style=\"text-align: right;\">\n",
       "      <th></th>\n",
       "      <th>country</th>\n",
       "      <th>country_code</th>\n",
       "      <th>year</th>\n",
       "      <th>SP.POP.TOTL</th>\n",
       "      <th>SP.POP.0014.TO</th>\n",
       "      <th>adult_pop</th>\n",
       "    </tr>\n",
       "  </thead>\n",
       "  <tbody>\n",
       "    <tr>\n",
       "      <th>0</th>\n",
       "      <td>Afghanistan</td>\n",
       "      <td>AFG</td>\n",
       "      <td>1965</td>\n",
       "      <td>9956320.0</td>\n",
       "      <td>4279406.0</td>\n",
       "      <td>5676914.0</td>\n",
       "    </tr>\n",
       "    <tr>\n",
       "      <th>1</th>\n",
       "      <td>Afghanistan</td>\n",
       "      <td>AFG</td>\n",
       "      <td>1966</td>\n",
       "      <td>10174836.0</td>\n",
       "      <td>4408352.0</td>\n",
       "      <td>5766484.0</td>\n",
       "    </tr>\n",
       "    <tr>\n",
       "      <th>2</th>\n",
       "      <td>Afghanistan</td>\n",
       "      <td>AFG</td>\n",
       "      <td>1967</td>\n",
       "      <td>10399926.0</td>\n",
       "      <td>4537722.0</td>\n",
       "      <td>5862204.0</td>\n",
       "    </tr>\n",
       "    <tr>\n",
       "      <th>3</th>\n",
       "      <td>Afghanistan</td>\n",
       "      <td>AFG</td>\n",
       "      <td>1968</td>\n",
       "      <td>10637063.0</td>\n",
       "      <td>4670217.0</td>\n",
       "      <td>5966846.0</td>\n",
       "    </tr>\n",
       "    <tr>\n",
       "      <th>4</th>\n",
       "      <td>Afghanistan</td>\n",
       "      <td>AFG</td>\n",
       "      <td>1969</td>\n",
       "      <td>10893776.0</td>\n",
       "      <td>4808162.0</td>\n",
       "      <td>6085614.0</td>\n",
       "    </tr>\n",
       "  </tbody>\n",
       "</table>\n",
       "</div>"
      ],
      "text/plain": [
       "       country country_code  year  SP.POP.TOTL  SP.POP.0014.TO  adult_pop\n",
       "0  Afghanistan          AFG  1965    9956320.0       4279406.0  5676914.0\n",
       "1  Afghanistan          AFG  1966   10174836.0       4408352.0  5766484.0\n",
       "2  Afghanistan          AFG  1967   10399926.0       4537722.0  5862204.0\n",
       "3  Afghanistan          AFG  1968   10637063.0       4670217.0  5966846.0\n",
       "4  Afghanistan          AFG  1969   10893776.0       4808162.0  6085614.0"
      ]
     },
     "execution_count": 26,
     "metadata": {},
     "output_type": "execute_result"
    }
   ],
   "source": [
    "pop_clean.head(5)"
   ]
  },
  {
   "cell_type": "code",
   "execution_count": 27,
   "metadata": {},
   "outputs": [
    {
     "name": "stdout",
     "output_type": "stream",
     "text": [
      "<class 'pandas.core.frame.DataFrame'>\n",
      "Int64Index: 9795 entries, 0 to 13415\n",
      "Data columns (total 6 columns):\n",
      "country           9795 non-null object\n",
      "country_code      9795 non-null object\n",
      "year              9795 non-null int64\n",
      "SP.POP.TOTL       9795 non-null float64\n",
      "SP.POP.0014.TO    9795 non-null float64\n",
      "adult_pop         9795 non-null float64\n",
      "dtypes: float64(3), int64(1), object(2)\n",
      "memory usage: 535.7+ KB\n"
     ]
    }
   ],
   "source": [
    "pop_clean.info()"
   ]
  },
  {
   "cell_type": "code",
   "execution_count": 28,
   "metadata": {},
   "outputs": [],
   "source": [
    "# All clean, let's save this thing\n",
    "pop_clean.to_csv('./pop_clean.csv')"
   ]
  }
 ],
 "metadata": {
  "kernelspec": {
   "display_name": "Python 3",
   "language": "python",
   "name": "python3"
  },
  "language_info": {
   "codemirror_mode": {
    "name": "ipython",
    "version": 3
   },
   "file_extension": ".py",
   "mimetype": "text/x-python",
   "name": "python",
   "nbconvert_exporter": "python",
   "pygments_lexer": "ipython3",
   "version": "3.7.3"
  }
 },
 "nbformat": 4,
 "nbformat_minor": 2
}
