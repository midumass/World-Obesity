{
 "cells": [
  {
   "cell_type": "code",
   "execution_count": 1,
   "metadata": {},
   "outputs": [],
   "source": [
    "import pandas as pd\n",
    "import numpy as np\n",
    "import plotly.express as px\n",
    "import plotly.graph_objects as go"
   ]
  },
  {
   "cell_type": "code",
   "execution_count": 2,
   "metadata": {},
   "outputs": [],
   "source": [
    "obs = pd.read_csv('./obesity_clean.csv', index_col = 0)"
   ]
  },
  {
   "cell_type": "code",
   "execution_count": 3,
   "metadata": {},
   "outputs": [
    {
     "data": {
      "text/html": [
       "<div>\n",
       "<style scoped>\n",
       "    .dataframe tbody tr th:only-of-type {\n",
       "        vertical-align: middle;\n",
       "    }\n",
       "\n",
       "    .dataframe tbody tr th {\n",
       "        vertical-align: top;\n",
       "    }\n",
       "\n",
       "    .dataframe thead th {\n",
       "        text-align: right;\n",
       "    }\n",
       "</style>\n",
       "<table border=\"1\" class=\"dataframe\">\n",
       "  <thead>\n",
       "    <tr style=\"text-align: right;\">\n",
       "      <th></th>\n",
       "      <th>country</th>\n",
       "      <th>year</th>\n",
       "      <th>pct_obese</th>\n",
       "      <th>country_code</th>\n",
       "      <th>sex</th>\n",
       "      <th>latest</th>\n",
       "    </tr>\n",
       "  </thead>\n",
       "  <tbody>\n",
       "    <tr>\n",
       "      <th>7</th>\n",
       "      <td>Afghanistan</td>\n",
       "      <td>2016</td>\n",
       "      <td>4.5</td>\n",
       "      <td>AFG</td>\n",
       "      <td>BTSX</td>\n",
       "      <td>True</td>\n",
       "    </tr>\n",
       "    <tr>\n",
       "      <th>9</th>\n",
       "      <td>Afghanistan</td>\n",
       "      <td>2015</td>\n",
       "      <td>4.3</td>\n",
       "      <td>AFG</td>\n",
       "      <td>BTSX</td>\n",
       "      <td>False</td>\n",
       "    </tr>\n",
       "    <tr>\n",
       "      <th>11</th>\n",
       "      <td>Afghanistan</td>\n",
       "      <td>2014</td>\n",
       "      <td>4.1</td>\n",
       "      <td>AFG</td>\n",
       "      <td>BTSX</td>\n",
       "      <td>False</td>\n",
       "    </tr>\n",
       "  </tbody>\n",
       "</table>\n",
       "</div>"
      ],
      "text/plain": [
       "        country  year  pct_obese country_code   sex  latest\n",
       "7   Afghanistan  2016        4.5          AFG  BTSX    True\n",
       "9   Afghanistan  2015        4.3          AFG  BTSX   False\n",
       "11  Afghanistan  2014        4.1          AFG  BTSX   False"
      ]
     },
     "execution_count": 3,
     "metadata": {},
     "output_type": "execute_result"
    }
   ],
   "source": [
    "obs.head(3)"
   ]
  },
  {
   "cell_type": "code",
   "execution_count": 4,
   "metadata": {},
   "outputs": [
    {
     "data": {
      "text/plain": [
       "country          object\n",
       "year              int64\n",
       "pct_obese       float64\n",
       "country_code     object\n",
       "sex              object\n",
       "latest             bool\n",
       "dtype: object"
      ]
     },
     "execution_count": 4,
     "metadata": {},
     "output_type": "execute_result"
    }
   ],
   "source": [
    "obs.dtypes"
   ]
  },
  {
   "cell_type": "code",
   "execution_count": 33,
   "metadata": {},
   "outputs": [
    {
     "data": {
      "application/vnd.plotly.v1+json": {
       "config": {
        "plotlyServerURL": "https://plot.ly"
       },
       "data": [
        {
         "coloraxis": "coloraxis",
         "geo": "geo",
         "hoverlabel": {
          "namelength": 0
         },
         "hovertemplate": "<b>%{hovertext}</b><br><br>country_code=%{location}<br>Percent Obese=%{z}",
         "hovertext": [
          "Afghanistan",
          "Albania",
          "Algeria",
          "Andorra",
          "Angola",
          "Antigua and Barbuda",
          "Argentina",
          "Armenia",
          "Australia",
          "Austria",
          "Azerbaijan",
          "Bahamas",
          "Bahrain",
          "Bangladesh",
          "Barbados",
          "Belarus",
          "Belgium",
          "Belize",
          "Benin",
          "Bhutan",
          "Bolivia (Plurinational State of)",
          "Bosnia and Herzegovina",
          "Botswana",
          "Brazil",
          "Brunei Darussalam",
          "Bulgaria",
          "Burkina Faso",
          "Burundi",
          "Cabo Verde",
          "Cambodia",
          "Cameroon",
          "Canada",
          "Central African Republic",
          "Chad",
          "Chile",
          "China",
          "Colombia",
          "Comoros",
          "Congo",
          "Cook Islands",
          "Costa Rica",
          "Côte d’Ivoire",
          "Croatia",
          "Cuba",
          "Cyprus",
          "Czechia",
          "Democratic People's Republic of Korea",
          "Democratic Republic of the Congo",
          "Denmark",
          "Djibouti",
          "Dominica",
          "Dominican Republic",
          "Ecuador",
          "Egypt",
          "El Salvador",
          "Equatorial Guinea",
          "Eritrea",
          "Estonia",
          "Eswatini",
          "Ethiopia",
          "Fiji",
          "Finland",
          "France",
          "Gabon",
          "Gambia",
          "Georgia",
          "Germany",
          "Ghana",
          "Greece",
          "Grenada",
          "Guatemala",
          "Guinea",
          "Guinea-Bissau",
          "Guyana",
          "Haiti",
          "Honduras",
          "Hungary",
          "Iceland",
          "India",
          "Indonesia",
          "Iran (Islamic Republic of)",
          "Iraq",
          "Ireland",
          "Israel",
          "Italy",
          "Jamaica",
          "Japan",
          "Jordan",
          "Kazakhstan",
          "Kenya",
          "Kiribati",
          "Kuwait",
          "Kyrgyzstan",
          "Lao People's Democratic Republic",
          "Latvia",
          "Lebanon",
          "Lesotho",
          "Liberia",
          "Libya",
          "Lithuania",
          "Luxembourg",
          "Madagascar",
          "Malawi",
          "Malaysia",
          "Maldives",
          "Mali",
          "Malta",
          "Marshall Islands",
          "Mauritania",
          "Mauritius",
          "Mexico",
          "Micronesia (Federated States of)",
          "Mongolia",
          "Montenegro",
          "Morocco",
          "Mozambique",
          "Myanmar",
          "Namibia",
          "Nauru",
          "Nepal",
          "Netherlands",
          "New Zealand",
          "Nicaragua",
          "Niger",
          "Nigeria",
          "Niue",
          "Norway",
          "Oman",
          "Pakistan",
          "Palau",
          "Panama",
          "Papua New Guinea",
          "Paraguay",
          "Peru",
          "Philippines",
          "Poland",
          "Portugal",
          "Qatar",
          "Republic of Korea",
          "Republic of Moldova",
          "Romania",
          "Russian Federation",
          "Rwanda",
          "Saint Kitts and Nevis",
          "Saint Lucia",
          "Saint Vincent and the Grenadines",
          "Samoa",
          "Sao Tome and Principe",
          "Saudi Arabia",
          "Senegal",
          "Serbia",
          "Seychelles",
          "Sierra Leone",
          "Singapore",
          "Slovakia",
          "Slovenia",
          "Solomon Islands",
          "Somalia",
          "South Africa",
          "Spain",
          "Sri Lanka",
          "Sudan (until 2011)",
          "Suriname",
          "Sweden",
          "Switzerland",
          "Syrian Arab Republic",
          "Tajikistan",
          "Thailand",
          "The former Yugoslav Republic of Macedonia",
          "Timor-Leste",
          "Togo",
          "Tonga",
          "Trinidad and Tobago",
          "Tunisia",
          "Turkey",
          "Turkmenistan",
          "Tuvalu",
          "Uganda",
          "Ukraine",
          "United Arab Emirates",
          "United Kingdom of Great Britain and Northern Ireland",
          "United Republic of Tanzania",
          "United States of America",
          "Uruguay",
          "Uzbekistan",
          "Vanuatu",
          "Venezuela (Bolivarian Republic of)",
          "Viet Nam",
          "Yemen",
          "Zambia",
          "Zimbabwe"
         ],
         "locations": [
          "AFG",
          "ALB",
          "DZA",
          "AND",
          "AGO",
          "ATG",
          "ARG",
          "ARM",
          "AUS",
          "AUT",
          "AZE",
          "BHS",
          "BHR",
          "BGD",
          "BRB",
          "BLR",
          "BEL",
          "BLZ",
          "BEN",
          "BTN",
          "BOL",
          "BIH",
          "BWA",
          "BRA",
          "BRN",
          "BGR",
          "BFA",
          "BDI",
          "CPV",
          "KHM",
          "CMR",
          "CAN",
          "CAF",
          "TCD",
          "CHL",
          "CHN",
          "COL",
          "COM",
          "COG",
          "COK",
          "CRI",
          "CIV",
          "HRV",
          "CUB",
          "CYP",
          "CZE",
          "PRK",
          "COD",
          "DNK",
          "DJI",
          "DMA",
          "DOM",
          "ECU",
          "EGY",
          "SLV",
          "GNQ",
          "ERI",
          "EST",
          "SWZ",
          "ETH",
          "FJI",
          "FIN",
          "FRA",
          "GAB",
          "GMB",
          "GEO",
          "DEU",
          "GHA",
          "GRC",
          "GRD",
          "GTM",
          "GIN",
          "GNB",
          "GUY",
          "HTI",
          "HND",
          "HUN",
          "ISL",
          "IND",
          "IDN",
          "IRN",
          "IRQ",
          "IRL",
          "ISR",
          "ITA",
          "JAM",
          "JPN",
          "JOR",
          "KAZ",
          "KEN",
          "KIR",
          "KWT",
          "KGZ",
          "LAO",
          "LVA",
          "LBN",
          "LSO",
          "LBR",
          "LBY",
          "LTU",
          "LUX",
          "MDG",
          "MWI",
          "MYS",
          "MDV",
          "MLI",
          "MLT",
          "MHL",
          "MRT",
          "MUS",
          "MEX",
          "FSM",
          "MNG",
          "MNE",
          "MAR",
          "MOZ",
          "MMR",
          "NAM",
          "NRU",
          "NPL",
          "NLD",
          "NZL",
          "NIC",
          "NER",
          "NGA",
          "NIU",
          "NOR",
          "OMN",
          "PAK",
          "PLW",
          "PAN",
          "PNG",
          "PRY",
          "PER",
          "PHL",
          "POL",
          "PRT",
          "QAT",
          "KOR",
          "MDA",
          "ROU",
          "RUS",
          "RWA",
          "KNA",
          "LCA",
          "VCT",
          "WSM",
          "STP",
          "SAU",
          "SEN",
          "SRB",
          "SYC",
          "SLE",
          "SGP",
          "SVK",
          "SVN",
          "SLB",
          "SOM",
          "ZAF",
          "ESP",
          "LKA",
          "SDN",
          "SUR",
          "SWE",
          "CHE",
          "SYR",
          "TJK",
          "THA",
          "MKD",
          "TLS",
          "TGO",
          "TON",
          "TTO",
          "TUN",
          "TUR",
          "TKM",
          "TUV",
          "UGA",
          "UKR",
          "ARE",
          "GBR",
          "TZA",
          "USA",
          "URY",
          "UZB",
          "VUT",
          "VEN",
          "VNM",
          "YEM",
          "ZMB",
          "ZWE"
         ],
         "name": "",
         "type": "choropleth",
         "z": [
          4.5,
          22.3,
          26.6,
          28,
          6.8,
          19.1,
          28.5,
          20.9,
          30.4,
          21.9,
          19.9,
          32.1,
          28.7,
          3.4,
          24.8,
          26.6,
          24.5,
          22.4,
          8.2,
          5.8,
          18.7,
          19.4,
          16.1,
          22.3,
          14.7,
          27.4,
          4.5,
          4.4,
          10.6,
          3.5,
          9.5,
          31.3,
          6.3,
          4.8,
          28.8,
          6.6,
          22.1,
          6.9,
          8.4,
          55.3,
          25.7,
          9,
          27.1,
          26.7,
          22.6,
          28.5,
          7.1,
          5.6,
          21.3,
          12.2,
          28.2,
          26.9,
          19.3,
          31.1,
          22.7,
          7.4,
          4.1,
          23.8,
          13.5,
          3.6,
          30,
          24.9,
          23.2,
          13.4,
          8.7,
          23.3,
          25.7,
          9.7,
          27.4,
          20.2,
          18.8,
          6.6,
          8.2,
          19.2,
          20.5,
          19.4,
          28.6,
          23.1,
          3.8,
          6.9,
          25.5,
          27.4,
          26.9,
          26.7,
          22.9,
          24.4,
          4.4,
          33.4,
          21.3,
          6,
          45.6,
          37,
          15.4,
          4.5,
          25.7,
          31.3,
          13.5,
          8.6,
          31.8,
          28.4,
          24.2,
          4.5,
          4.7,
          15.3,
          7.9,
          7.1,
          31,
          52.4,
          11.3,
          11.5,
          28.4,
          41.6,
          19.6,
          24.9,
          25.6,
          6,
          5.7,
          15,
          60.7,
          3.8,
          23.1,
          32,
          21.8,
          4.7,
          7.8,
          49.3,
          25,
          22.9,
          7.8,
          54.9,
          22.5,
          19.4,
          19,
          19.1,
          6,
          25.6,
          23.2,
          33.9,
          4.9,
          20.1,
          24.5,
          25.7,
          4.8,
          23.1,
          19.8,
          23.8,
          45.5,
          10.6,
          35,
          7.4,
          23.5,
          14.6,
          7.5,
          6.6,
          22.4,
          22.5,
          20.5,
          6.9,
          27,
          27.1,
          5.4,
          7.4,
          26.5,
          22.1,
          21.2,
          25.8,
          12.6,
          10.8,
          23.9,
          2.9,
          7.1,
          45.9,
          19.7,
          27.3,
          32.2,
          17.5,
          51,
          4.1,
          26.1,
          29.9,
          29.5,
          7.1,
          37.3,
          28.9,
          15.3,
          23.5,
          25.2,
          2.1,
          14.1,
          6.5,
          12.3
         ]
        }
       ],
       "layout": {
        "annotations": [
         {
          "font": {
           "color": "rgb(37,37,37)",
           "family": "Arial",
           "size": 24
          },
          "showarrow": false,
          "text": "World Obesity Prevalence by Country",
          "x": 0,
          "xanchor": "left",
          "y": 0.95,
          "yanchor": "bottom"
         },
         {
          "font": {
           "color": "rgb(150,150,150)",
           "family": "Arial",
           "size": 12
          },
          "showarrow": false,
          "text": "Source: World Health Organization",
          "x": 0.5,
          "xanchor": "center",
          "y": 0,
          "yanchor": "top"
         }
        ],
        "coloraxis": {
         "colorbar": {
          "title": {
           "text": "Percent Obese"
          }
         },
         "colorscale": [
          [
           0,
           "rgb(255,245,240)"
          ],
          [
           0.125,
           "rgb(254,224,210)"
          ],
          [
           0.25,
           "rgb(252,187,161)"
          ],
          [
           0.375,
           "rgb(252,146,114)"
          ],
          [
           0.5,
           "rgb(251,106,74)"
          ],
          [
           0.625,
           "rgb(239,59,44)"
          ],
          [
           0.75,
           "rgb(203,24,29)"
          ],
          [
           0.875,
           "rgb(165,15,21)"
          ],
          [
           1,
           "rgb(103,0,13)"
          ]
         ]
        },
        "geo": {
         "center": {},
         "domain": {
          "x": [
           0,
           0.98
          ],
          "y": [
           0,
           1
          ]
         }
        },
        "height": 600,
        "legend": {
         "tracegroupgap": 0
        },
        "margin": {
         "t": 60
        },
        "template": {
         "data": {
          "bar": [
           {
            "error_x": {
             "color": "#2a3f5f"
            },
            "error_y": {
             "color": "#2a3f5f"
            },
            "marker": {
             "line": {
              "color": "#E5ECF6",
              "width": 0.5
             }
            },
            "type": "bar"
           }
          ],
          "barpolar": [
           {
            "marker": {
             "line": {
              "color": "#E5ECF6",
              "width": 0.5
             }
            },
            "type": "barpolar"
           }
          ],
          "carpet": [
           {
            "aaxis": {
             "endlinecolor": "#2a3f5f",
             "gridcolor": "white",
             "linecolor": "white",
             "minorgridcolor": "white",
             "startlinecolor": "#2a3f5f"
            },
            "baxis": {
             "endlinecolor": "#2a3f5f",
             "gridcolor": "white",
             "linecolor": "white",
             "minorgridcolor": "white",
             "startlinecolor": "#2a3f5f"
            },
            "type": "carpet"
           }
          ],
          "choropleth": [
           {
            "colorbar": {
             "outlinewidth": 0,
             "ticks": ""
            },
            "type": "choropleth"
           }
          ],
          "contour": [
           {
            "colorbar": {
             "outlinewidth": 0,
             "ticks": ""
            },
            "colorscale": [
             [
              0,
              "#0d0887"
             ],
             [
              0.1111111111111111,
              "#46039f"
             ],
             [
              0.2222222222222222,
              "#7201a8"
             ],
             [
              0.3333333333333333,
              "#9c179e"
             ],
             [
              0.4444444444444444,
              "#bd3786"
             ],
             [
              0.5555555555555556,
              "#d8576b"
             ],
             [
              0.6666666666666666,
              "#ed7953"
             ],
             [
              0.7777777777777778,
              "#fb9f3a"
             ],
             [
              0.8888888888888888,
              "#fdca26"
             ],
             [
              1,
              "#f0f921"
             ]
            ],
            "type": "contour"
           }
          ],
          "contourcarpet": [
           {
            "colorbar": {
             "outlinewidth": 0,
             "ticks": ""
            },
            "type": "contourcarpet"
           }
          ],
          "heatmap": [
           {
            "colorbar": {
             "outlinewidth": 0,
             "ticks": ""
            },
            "colorscale": [
             [
              0,
              "#0d0887"
             ],
             [
              0.1111111111111111,
              "#46039f"
             ],
             [
              0.2222222222222222,
              "#7201a8"
             ],
             [
              0.3333333333333333,
              "#9c179e"
             ],
             [
              0.4444444444444444,
              "#bd3786"
             ],
             [
              0.5555555555555556,
              "#d8576b"
             ],
             [
              0.6666666666666666,
              "#ed7953"
             ],
             [
              0.7777777777777778,
              "#fb9f3a"
             ],
             [
              0.8888888888888888,
              "#fdca26"
             ],
             [
              1,
              "#f0f921"
             ]
            ],
            "type": "heatmap"
           }
          ],
          "heatmapgl": [
           {
            "colorbar": {
             "outlinewidth": 0,
             "ticks": ""
            },
            "colorscale": [
             [
              0,
              "#0d0887"
             ],
             [
              0.1111111111111111,
              "#46039f"
             ],
             [
              0.2222222222222222,
              "#7201a8"
             ],
             [
              0.3333333333333333,
              "#9c179e"
             ],
             [
              0.4444444444444444,
              "#bd3786"
             ],
             [
              0.5555555555555556,
              "#d8576b"
             ],
             [
              0.6666666666666666,
              "#ed7953"
             ],
             [
              0.7777777777777778,
              "#fb9f3a"
             ],
             [
              0.8888888888888888,
              "#fdca26"
             ],
             [
              1,
              "#f0f921"
             ]
            ],
            "type": "heatmapgl"
           }
          ],
          "histogram": [
           {
            "marker": {
             "colorbar": {
              "outlinewidth": 0,
              "ticks": ""
             }
            },
            "type": "histogram"
           }
          ],
          "histogram2d": [
           {
            "colorbar": {
             "outlinewidth": 0,
             "ticks": ""
            },
            "colorscale": [
             [
              0,
              "#0d0887"
             ],
             [
              0.1111111111111111,
              "#46039f"
             ],
             [
              0.2222222222222222,
              "#7201a8"
             ],
             [
              0.3333333333333333,
              "#9c179e"
             ],
             [
              0.4444444444444444,
              "#bd3786"
             ],
             [
              0.5555555555555556,
              "#d8576b"
             ],
             [
              0.6666666666666666,
              "#ed7953"
             ],
             [
              0.7777777777777778,
              "#fb9f3a"
             ],
             [
              0.8888888888888888,
              "#fdca26"
             ],
             [
              1,
              "#f0f921"
             ]
            ],
            "type": "histogram2d"
           }
          ],
          "histogram2dcontour": [
           {
            "colorbar": {
             "outlinewidth": 0,
             "ticks": ""
            },
            "colorscale": [
             [
              0,
              "#0d0887"
             ],
             [
              0.1111111111111111,
              "#46039f"
             ],
             [
              0.2222222222222222,
              "#7201a8"
             ],
             [
              0.3333333333333333,
              "#9c179e"
             ],
             [
              0.4444444444444444,
              "#bd3786"
             ],
             [
              0.5555555555555556,
              "#d8576b"
             ],
             [
              0.6666666666666666,
              "#ed7953"
             ],
             [
              0.7777777777777778,
              "#fb9f3a"
             ],
             [
              0.8888888888888888,
              "#fdca26"
             ],
             [
              1,
              "#f0f921"
             ]
            ],
            "type": "histogram2dcontour"
           }
          ],
          "mesh3d": [
           {
            "colorbar": {
             "outlinewidth": 0,
             "ticks": ""
            },
            "type": "mesh3d"
           }
          ],
          "parcoords": [
           {
            "line": {
             "colorbar": {
              "outlinewidth": 0,
              "ticks": ""
             }
            },
            "type": "parcoords"
           }
          ],
          "scatter": [
           {
            "marker": {
             "colorbar": {
              "outlinewidth": 0,
              "ticks": ""
             }
            },
            "type": "scatter"
           }
          ],
          "scatter3d": [
           {
            "line": {
             "colorbar": {
              "outlinewidth": 0,
              "ticks": ""
             }
            },
            "marker": {
             "colorbar": {
              "outlinewidth": 0,
              "ticks": ""
             }
            },
            "type": "scatter3d"
           }
          ],
          "scattercarpet": [
           {
            "marker": {
             "colorbar": {
              "outlinewidth": 0,
              "ticks": ""
             }
            },
            "type": "scattercarpet"
           }
          ],
          "scattergeo": [
           {
            "marker": {
             "colorbar": {
              "outlinewidth": 0,
              "ticks": ""
             }
            },
            "type": "scattergeo"
           }
          ],
          "scattergl": [
           {
            "marker": {
             "colorbar": {
              "outlinewidth": 0,
              "ticks": ""
             }
            },
            "type": "scattergl"
           }
          ],
          "scattermapbox": [
           {
            "marker": {
             "colorbar": {
              "outlinewidth": 0,
              "ticks": ""
             }
            },
            "type": "scattermapbox"
           }
          ],
          "scatterpolar": [
           {
            "marker": {
             "colorbar": {
              "outlinewidth": 0,
              "ticks": ""
             }
            },
            "type": "scatterpolar"
           }
          ],
          "scatterpolargl": [
           {
            "marker": {
             "colorbar": {
              "outlinewidth": 0,
              "ticks": ""
             }
            },
            "type": "scatterpolargl"
           }
          ],
          "scatterternary": [
           {
            "marker": {
             "colorbar": {
              "outlinewidth": 0,
              "ticks": ""
             }
            },
            "type": "scatterternary"
           }
          ],
          "surface": [
           {
            "colorbar": {
             "outlinewidth": 0,
             "ticks": ""
            },
            "colorscale": [
             [
              0,
              "#0d0887"
             ],
             [
              0.1111111111111111,
              "#46039f"
             ],
             [
              0.2222222222222222,
              "#7201a8"
             ],
             [
              0.3333333333333333,
              "#9c179e"
             ],
             [
              0.4444444444444444,
              "#bd3786"
             ],
             [
              0.5555555555555556,
              "#d8576b"
             ],
             [
              0.6666666666666666,
              "#ed7953"
             ],
             [
              0.7777777777777778,
              "#fb9f3a"
             ],
             [
              0.8888888888888888,
              "#fdca26"
             ],
             [
              1,
              "#f0f921"
             ]
            ],
            "type": "surface"
           }
          ],
          "table": [
           {
            "cells": {
             "fill": {
              "color": "#EBF0F8"
             },
             "line": {
              "color": "white"
             }
            },
            "header": {
             "fill": {
              "color": "#C8D4E3"
             },
             "line": {
              "color": "white"
             }
            },
            "type": "table"
           }
          ]
         },
         "layout": {
          "annotationdefaults": {
           "arrowcolor": "#2a3f5f",
           "arrowhead": 0,
           "arrowwidth": 1
          },
          "colorscale": {
           "diverging": [
            [
             0,
             "#8e0152"
            ],
            [
             0.1,
             "#c51b7d"
            ],
            [
             0.2,
             "#de77ae"
            ],
            [
             0.3,
             "#f1b6da"
            ],
            [
             0.4,
             "#fde0ef"
            ],
            [
             0.5,
             "#f7f7f7"
            ],
            [
             0.6,
             "#e6f5d0"
            ],
            [
             0.7,
             "#b8e186"
            ],
            [
             0.8,
             "#7fbc41"
            ],
            [
             0.9,
             "#4d9221"
            ],
            [
             1,
             "#276419"
            ]
           ],
           "sequential": [
            [
             0,
             "#0d0887"
            ],
            [
             0.1111111111111111,
             "#46039f"
            ],
            [
             0.2222222222222222,
             "#7201a8"
            ],
            [
             0.3333333333333333,
             "#9c179e"
            ],
            [
             0.4444444444444444,
             "#bd3786"
            ],
            [
             0.5555555555555556,
             "#d8576b"
            ],
            [
             0.6666666666666666,
             "#ed7953"
            ],
            [
             0.7777777777777778,
             "#fb9f3a"
            ],
            [
             0.8888888888888888,
             "#fdca26"
            ],
            [
             1,
             "#f0f921"
            ]
           ],
           "sequentialminus": [
            [
             0,
             "#0d0887"
            ],
            [
             0.1111111111111111,
             "#46039f"
            ],
            [
             0.2222222222222222,
             "#7201a8"
            ],
            [
             0.3333333333333333,
             "#9c179e"
            ],
            [
             0.4444444444444444,
             "#bd3786"
            ],
            [
             0.5555555555555556,
             "#d8576b"
            ],
            [
             0.6666666666666666,
             "#ed7953"
            ],
            [
             0.7777777777777778,
             "#fb9f3a"
            ],
            [
             0.8888888888888888,
             "#fdca26"
            ],
            [
             1,
             "#f0f921"
            ]
           ]
          },
          "colorway": [
           "#636efa",
           "#EF553B",
           "#00cc96",
           "#ab63fa",
           "#FFA15A",
           "#19d3f3",
           "#FF6692",
           "#B6E880",
           "#FF97FF",
           "#FECB52"
          ],
          "font": {
           "color": "#2a3f5f"
          },
          "geo": {
           "bgcolor": "white",
           "lakecolor": "white",
           "landcolor": "#E5ECF6",
           "showlakes": true,
           "showland": true,
           "subunitcolor": "white"
          },
          "hoverlabel": {
           "align": "left"
          },
          "hovermode": "closest",
          "mapbox": {
           "style": "light"
          },
          "paper_bgcolor": "white",
          "plot_bgcolor": "#E5ECF6",
          "polar": {
           "angularaxis": {
            "gridcolor": "white",
            "linecolor": "white",
            "ticks": ""
           },
           "bgcolor": "#E5ECF6",
           "radialaxis": {
            "gridcolor": "white",
            "linecolor": "white",
            "ticks": ""
           }
          },
          "scene": {
           "xaxis": {
            "backgroundcolor": "#E5ECF6",
            "gridcolor": "white",
            "gridwidth": 2,
            "linecolor": "white",
            "showbackground": true,
            "ticks": "",
            "zerolinecolor": "white"
           },
           "yaxis": {
            "backgroundcolor": "#E5ECF6",
            "gridcolor": "white",
            "gridwidth": 2,
            "linecolor": "white",
            "showbackground": true,
            "ticks": "",
            "zerolinecolor": "white"
           },
           "zaxis": {
            "backgroundcolor": "#E5ECF6",
            "gridcolor": "white",
            "gridwidth": 2,
            "linecolor": "white",
            "showbackground": true,
            "ticks": "",
            "zerolinecolor": "white"
           }
          },
          "shapedefaults": {
           "line": {
            "color": "#2a3f5f"
           }
          },
          "ternary": {
           "aaxis": {
            "gridcolor": "white",
            "linecolor": "white",
            "ticks": ""
           },
           "baxis": {
            "gridcolor": "white",
            "linecolor": "white",
            "ticks": ""
           },
           "bgcolor": "#E5ECF6",
           "caxis": {
            "gridcolor": "white",
            "linecolor": "white",
            "ticks": ""
           }
          },
          "title": {
           "x": 0.05
          },
          "xaxis": {
           "automargin": true,
           "gridcolor": "white",
           "linecolor": "white",
           "ticks": "",
           "zerolinecolor": "white",
           "zerolinewidth": 2
          },
          "yaxis": {
           "automargin": true,
           "gridcolor": "white",
           "linecolor": "white",
           "ticks": "",
           "zerolinecolor": "white",
           "zerolinewidth": 2
          }
         }
        }
       }
      },
      "text/html": [
       "<div>\n",
       "        \n",
       "        \n",
       "            <div id=\"cbf5ec96-1c62-4e04-acfb-690ccdc0ef42\" class=\"plotly-graph-div\" style=\"height:600px; width:100%;\"></div>\n",
       "            <script type=\"text/javascript\">\n",
       "                require([\"plotly\"], function(Plotly) {\n",
       "                    window.PLOTLYENV=window.PLOTLYENV || {};\n",
       "                    \n",
       "                if (document.getElementById(\"cbf5ec96-1c62-4e04-acfb-690ccdc0ef42\")) {\n",
       "                    Plotly.newPlot(\n",
       "                        'cbf5ec96-1c62-4e04-acfb-690ccdc0ef42',\n",
       "                        [{\"coloraxis\": \"coloraxis\", \"geo\": \"geo\", \"hoverlabel\": {\"namelength\": 0}, \"hovertemplate\": \"<b>%{hovertext}</b><br><br>country_code=%{location}<br>Percent Obese=%{z}\", \"hovertext\": [\"Afghanistan\", \"Albania\", \"Algeria\", \"Andorra\", \"Angola\", \"Antigua and Barbuda\", \"Argentina\", \"Armenia\", \"Australia\", \"Austria\", \"Azerbaijan\", \"Bahamas\", \"Bahrain\", \"Bangladesh\", \"Barbados\", \"Belarus\", \"Belgium\", \"Belize\", \"Benin\", \"Bhutan\", \"Bolivia (Plurinational State of)\", \"Bosnia and Herzegovina\", \"Botswana\", \"Brazil\", \"Brunei Darussalam\", \"Bulgaria\", \"Burkina Faso\", \"Burundi\", \"Cabo Verde\", \"Cambodia\", \"Cameroon\", \"Canada\", \"Central African Republic\", \"Chad\", \"Chile\", \"China\", \"Colombia\", \"Comoros\", \"Congo\", \"Cook Islands\", \"Costa Rica\", \"C\\u00f4te d\\u2019Ivoire\", \"Croatia\", \"Cuba\", \"Cyprus\", \"Czechia\", \"Democratic People's Republic of Korea\", \"Democratic Republic of the Congo\", \"Denmark\", \"Djibouti\", \"Dominica\", \"Dominican Republic\", \"Ecuador\", \"Egypt\", \"El Salvador\", \"Equatorial Guinea\", \"Eritrea\", \"Estonia\", \"Eswatini\", \"Ethiopia\", \"Fiji\", \"Finland\", \"France\", \"Gabon\", \"Gambia\", \"Georgia\", \"Germany\", \"Ghana\", \"Greece\", \"Grenada\", \"Guatemala\", \"Guinea\", \"Guinea-Bissau\", \"Guyana\", \"Haiti\", \"Honduras\", \"Hungary\", \"Iceland\", \"India\", \"Indonesia\", \"Iran (Islamic Republic of)\", \"Iraq\", \"Ireland\", \"Israel\", \"Italy\", \"Jamaica\", \"Japan\", \"Jordan\", \"Kazakhstan\", \"Kenya\", \"Kiribati\", \"Kuwait\", \"Kyrgyzstan\", \"Lao People's Democratic Republic\", \"Latvia\", \"Lebanon\", \"Lesotho\", \"Liberia\", \"Libya\", \"Lithuania\", \"Luxembourg\", \"Madagascar\", \"Malawi\", \"Malaysia\", \"Maldives\", \"Mali\", \"Malta\", \"Marshall Islands\", \"Mauritania\", \"Mauritius\", \"Mexico\", \"Micronesia (Federated States of)\", \"Mongolia\", \"Montenegro\", \"Morocco\", \"Mozambique\", \"Myanmar\", \"Namibia\", \"Nauru\", \"Nepal\", \"Netherlands\", \"New Zealand\", \"Nicaragua\", \"Niger\", \"Nigeria\", \"Niue\", \"Norway\", \"Oman\", \"Pakistan\", \"Palau\", \"Panama\", \"Papua New Guinea\", \"Paraguay\", \"Peru\", \"Philippines\", \"Poland\", \"Portugal\", \"Qatar\", \"Republic of Korea\", \"Republic of Moldova\", \"Romania\", \"Russian Federation\", \"Rwanda\", \"Saint Kitts and Nevis\", \"Saint Lucia\", \"Saint Vincent and the Grenadines\", \"Samoa\", \"Sao Tome and Principe\", \"Saudi Arabia\", \"Senegal\", \"Serbia\", \"Seychelles\", \"Sierra Leone\", \"Singapore\", \"Slovakia\", \"Slovenia\", \"Solomon Islands\", \"Somalia\", \"South Africa\", \"Spain\", \"Sri Lanka\", \"Sudan (until 2011)\", \"Suriname\", \"Sweden\", \"Switzerland\", \"Syrian Arab Republic\", \"Tajikistan\", \"Thailand\", \"The former Yugoslav Republic of Macedonia\", \"Timor-Leste\", \"Togo\", \"Tonga\", \"Trinidad and Tobago\", \"Tunisia\", \"Turkey\", \"Turkmenistan\", \"Tuvalu\", \"Uganda\", \"Ukraine\", \"United Arab Emirates\", \"United Kingdom of Great Britain and Northern Ireland\", \"United Republic of Tanzania\", \"United States of America\", \"Uruguay\", \"Uzbekistan\", \"Vanuatu\", \"Venezuela (Bolivarian Republic of)\", \"Viet Nam\", \"Yemen\", \"Zambia\", \"Zimbabwe\"], \"locations\": [\"AFG\", \"ALB\", \"DZA\", \"AND\", \"AGO\", \"ATG\", \"ARG\", \"ARM\", \"AUS\", \"AUT\", \"AZE\", \"BHS\", \"BHR\", \"BGD\", \"BRB\", \"BLR\", \"BEL\", \"BLZ\", \"BEN\", \"BTN\", \"BOL\", \"BIH\", \"BWA\", \"BRA\", \"BRN\", \"BGR\", \"BFA\", \"BDI\", \"CPV\", \"KHM\", \"CMR\", \"CAN\", \"CAF\", \"TCD\", \"CHL\", \"CHN\", \"COL\", \"COM\", \"COG\", \"COK\", \"CRI\", \"CIV\", \"HRV\", \"CUB\", \"CYP\", \"CZE\", \"PRK\", \"COD\", \"DNK\", \"DJI\", \"DMA\", \"DOM\", \"ECU\", \"EGY\", \"SLV\", \"GNQ\", \"ERI\", \"EST\", \"SWZ\", \"ETH\", \"FJI\", \"FIN\", \"FRA\", \"GAB\", \"GMB\", \"GEO\", \"DEU\", \"GHA\", \"GRC\", \"GRD\", \"GTM\", \"GIN\", \"GNB\", \"GUY\", \"HTI\", \"HND\", \"HUN\", \"ISL\", \"IND\", \"IDN\", \"IRN\", \"IRQ\", \"IRL\", \"ISR\", \"ITA\", \"JAM\", \"JPN\", \"JOR\", \"KAZ\", \"KEN\", \"KIR\", \"KWT\", \"KGZ\", \"LAO\", \"LVA\", \"LBN\", \"LSO\", \"LBR\", \"LBY\", \"LTU\", \"LUX\", \"MDG\", \"MWI\", \"MYS\", \"MDV\", \"MLI\", \"MLT\", \"MHL\", \"MRT\", \"MUS\", \"MEX\", \"FSM\", \"MNG\", \"MNE\", \"MAR\", \"MOZ\", \"MMR\", \"NAM\", \"NRU\", \"NPL\", \"NLD\", \"NZL\", \"NIC\", \"NER\", \"NGA\", \"NIU\", \"NOR\", \"OMN\", \"PAK\", \"PLW\", \"PAN\", \"PNG\", \"PRY\", \"PER\", \"PHL\", \"POL\", \"PRT\", \"QAT\", \"KOR\", \"MDA\", \"ROU\", \"RUS\", \"RWA\", \"KNA\", \"LCA\", \"VCT\", \"WSM\", \"STP\", \"SAU\", \"SEN\", \"SRB\", \"SYC\", \"SLE\", \"SGP\", \"SVK\", \"SVN\", \"SLB\", \"SOM\", \"ZAF\", \"ESP\", \"LKA\", \"SDN\", \"SUR\", \"SWE\", \"CHE\", \"SYR\", \"TJK\", \"THA\", \"MKD\", \"TLS\", \"TGO\", \"TON\", \"TTO\", \"TUN\", \"TUR\", \"TKM\", \"TUV\", \"UGA\", \"UKR\", \"ARE\", \"GBR\", \"TZA\", \"USA\", \"URY\", \"UZB\", \"VUT\", \"VEN\", \"VNM\", \"YEM\", \"ZMB\", \"ZWE\"], \"name\": \"\", \"type\": \"choropleth\", \"z\": [4.5, 22.3, 26.6, 28.0, 6.8, 19.1, 28.5, 20.9, 30.4, 21.9, 19.9, 32.1, 28.7, 3.4, 24.8, 26.6, 24.5, 22.4, 8.2, 5.8, 18.7, 19.4, 16.1, 22.3, 14.7, 27.4, 4.5, 4.4, 10.6, 3.5, 9.5, 31.3, 6.3, 4.8, 28.8, 6.6, 22.1, 6.9, 8.4, 55.3, 25.7, 9.0, 27.1, 26.7, 22.6, 28.5, 7.1, 5.6, 21.3, 12.2, 28.2, 26.9, 19.3, 31.1, 22.7, 7.4, 4.1, 23.8, 13.5, 3.6, 30.0, 24.9, 23.2, 13.4, 8.7, 23.3, 25.7, 9.7, 27.4, 20.2, 18.8, 6.6, 8.2, 19.2, 20.5, 19.4, 28.6, 23.1, 3.8, 6.9, 25.5, 27.4, 26.9, 26.7, 22.9, 24.4, 4.4, 33.4, 21.3, 6.0, 45.6, 37.0, 15.4, 4.5, 25.7, 31.3, 13.5, 8.6, 31.8, 28.4, 24.2, 4.5, 4.7, 15.3, 7.9, 7.1, 31.0, 52.4, 11.3, 11.5, 28.4, 41.6, 19.6, 24.9, 25.6, 6.0, 5.7, 15.0, 60.7, 3.8, 23.1, 32.0, 21.8, 4.7, 7.8, 49.3, 25.0, 22.9, 7.8, 54.9, 22.5, 19.4, 19.0, 19.1, 6.0, 25.6, 23.2, 33.9, 4.9, 20.1, 24.5, 25.7, 4.8, 23.1, 19.8, 23.8, 45.5, 10.6, 35.0, 7.4, 23.5, 14.6, 7.5, 6.6, 22.4, 22.5, 20.5, 6.9, 27.0, 27.1, 5.4, 7.4, 26.5, 22.1, 21.2, 25.8, 12.6, 10.8, 23.9, 2.9, 7.1, 45.9, 19.7, 27.3, 32.2, 17.5, 51.0, 4.1, 26.1, 29.9, 29.5, 7.1, 37.3, 28.9, 15.3, 23.5, 25.2, 2.1, 14.1, 6.5, 12.3]}],\n",
       "                        {\"annotations\": [{\"font\": {\"color\": \"rgb(37,37,37)\", \"family\": \"Arial\", \"size\": 24}, \"showarrow\": false, \"text\": \"World Obesity Prevalence by Country\", \"x\": 0.0, \"xanchor\": \"left\", \"y\": 0.95, \"yanchor\": \"bottom\"}, {\"font\": {\"color\": \"rgb(150,150,150)\", \"family\": \"Arial\", \"size\": 12}, \"showarrow\": false, \"text\": \"Source: World Health Organization\", \"x\": 0.5, \"xanchor\": \"center\", \"y\": 0, \"yanchor\": \"top\"}], \"coloraxis\": {\"colorbar\": {\"title\": {\"text\": \"Percent Obese\"}}, \"colorscale\": [[0.0, \"rgb(255,245,240)\"], [0.125, \"rgb(254,224,210)\"], [0.25, \"rgb(252,187,161)\"], [0.375, \"rgb(252,146,114)\"], [0.5, \"rgb(251,106,74)\"], [0.625, \"rgb(239,59,44)\"], [0.75, \"rgb(203,24,29)\"], [0.875, \"rgb(165,15,21)\"], [1.0, \"rgb(103,0,13)\"]]}, \"geo\": {\"center\": {}, \"domain\": {\"x\": [0.0, 0.98], \"y\": [0.0, 1.0]}}, \"height\": 600, \"legend\": {\"tracegroupgap\": 0}, \"margin\": {\"t\": 60}, \"template\": {\"data\": {\"bar\": [{\"error_x\": {\"color\": \"#2a3f5f\"}, \"error_y\": {\"color\": \"#2a3f5f\"}, \"marker\": {\"line\": {\"color\": \"#E5ECF6\", \"width\": 0.5}}, \"type\": \"bar\"}], \"barpolar\": [{\"marker\": {\"line\": {\"color\": \"#E5ECF6\", \"width\": 0.5}}, \"type\": \"barpolar\"}], \"carpet\": [{\"aaxis\": {\"endlinecolor\": \"#2a3f5f\", \"gridcolor\": \"white\", \"linecolor\": \"white\", \"minorgridcolor\": \"white\", \"startlinecolor\": \"#2a3f5f\"}, \"baxis\": {\"endlinecolor\": \"#2a3f5f\", \"gridcolor\": \"white\", \"linecolor\": \"white\", \"minorgridcolor\": \"white\", \"startlinecolor\": \"#2a3f5f\"}, \"type\": \"carpet\"}], \"choropleth\": [{\"colorbar\": {\"outlinewidth\": 0, \"ticks\": \"\"}, \"type\": \"choropleth\"}], \"contour\": [{\"colorbar\": {\"outlinewidth\": 0, \"ticks\": \"\"}, \"colorscale\": [[0.0, \"#0d0887\"], [0.1111111111111111, \"#46039f\"], [0.2222222222222222, \"#7201a8\"], [0.3333333333333333, \"#9c179e\"], [0.4444444444444444, \"#bd3786\"], [0.5555555555555556, \"#d8576b\"], [0.6666666666666666, \"#ed7953\"], [0.7777777777777778, \"#fb9f3a\"], [0.8888888888888888, \"#fdca26\"], [1.0, \"#f0f921\"]], \"type\": \"contour\"}], \"contourcarpet\": [{\"colorbar\": {\"outlinewidth\": 0, \"ticks\": \"\"}, \"type\": \"contourcarpet\"}], \"heatmap\": [{\"colorbar\": {\"outlinewidth\": 0, \"ticks\": \"\"}, \"colorscale\": [[0.0, \"#0d0887\"], [0.1111111111111111, \"#46039f\"], [0.2222222222222222, \"#7201a8\"], [0.3333333333333333, \"#9c179e\"], [0.4444444444444444, \"#bd3786\"], [0.5555555555555556, \"#d8576b\"], [0.6666666666666666, \"#ed7953\"], [0.7777777777777778, \"#fb9f3a\"], [0.8888888888888888, \"#fdca26\"], [1.0, \"#f0f921\"]], \"type\": \"heatmap\"}], \"heatmapgl\": [{\"colorbar\": {\"outlinewidth\": 0, \"ticks\": \"\"}, \"colorscale\": [[0.0, \"#0d0887\"], [0.1111111111111111, \"#46039f\"], [0.2222222222222222, \"#7201a8\"], [0.3333333333333333, \"#9c179e\"], [0.4444444444444444, \"#bd3786\"], [0.5555555555555556, \"#d8576b\"], [0.6666666666666666, \"#ed7953\"], [0.7777777777777778, \"#fb9f3a\"], [0.8888888888888888, \"#fdca26\"], [1.0, \"#f0f921\"]], \"type\": \"heatmapgl\"}], \"histogram\": [{\"marker\": {\"colorbar\": {\"outlinewidth\": 0, \"ticks\": \"\"}}, \"type\": \"histogram\"}], \"histogram2d\": [{\"colorbar\": {\"outlinewidth\": 0, \"ticks\": \"\"}, \"colorscale\": [[0.0, \"#0d0887\"], [0.1111111111111111, \"#46039f\"], [0.2222222222222222, \"#7201a8\"], [0.3333333333333333, \"#9c179e\"], [0.4444444444444444, \"#bd3786\"], [0.5555555555555556, \"#d8576b\"], [0.6666666666666666, \"#ed7953\"], [0.7777777777777778, \"#fb9f3a\"], [0.8888888888888888, \"#fdca26\"], [1.0, \"#f0f921\"]], \"type\": \"histogram2d\"}], \"histogram2dcontour\": [{\"colorbar\": {\"outlinewidth\": 0, \"ticks\": \"\"}, \"colorscale\": [[0.0, \"#0d0887\"], [0.1111111111111111, \"#46039f\"], [0.2222222222222222, \"#7201a8\"], [0.3333333333333333, \"#9c179e\"], [0.4444444444444444, \"#bd3786\"], [0.5555555555555556, \"#d8576b\"], [0.6666666666666666, \"#ed7953\"], [0.7777777777777778, \"#fb9f3a\"], [0.8888888888888888, \"#fdca26\"], [1.0, \"#f0f921\"]], \"type\": \"histogram2dcontour\"}], \"mesh3d\": [{\"colorbar\": {\"outlinewidth\": 0, \"ticks\": \"\"}, \"type\": \"mesh3d\"}], \"parcoords\": [{\"line\": {\"colorbar\": {\"outlinewidth\": 0, \"ticks\": \"\"}}, \"type\": \"parcoords\"}], \"scatter\": [{\"marker\": {\"colorbar\": {\"outlinewidth\": 0, \"ticks\": \"\"}}, \"type\": \"scatter\"}], \"scatter3d\": [{\"line\": {\"colorbar\": {\"outlinewidth\": 0, \"ticks\": \"\"}}, \"marker\": {\"colorbar\": {\"outlinewidth\": 0, \"ticks\": \"\"}}, \"type\": \"scatter3d\"}], \"scattercarpet\": [{\"marker\": {\"colorbar\": {\"outlinewidth\": 0, \"ticks\": \"\"}}, \"type\": \"scattercarpet\"}], \"scattergeo\": [{\"marker\": {\"colorbar\": {\"outlinewidth\": 0, \"ticks\": \"\"}}, \"type\": \"scattergeo\"}], \"scattergl\": [{\"marker\": {\"colorbar\": {\"outlinewidth\": 0, \"ticks\": \"\"}}, \"type\": \"scattergl\"}], \"scattermapbox\": [{\"marker\": {\"colorbar\": {\"outlinewidth\": 0, \"ticks\": \"\"}}, \"type\": \"scattermapbox\"}], \"scatterpolar\": [{\"marker\": {\"colorbar\": {\"outlinewidth\": 0, \"ticks\": \"\"}}, \"type\": \"scatterpolar\"}], \"scatterpolargl\": [{\"marker\": {\"colorbar\": {\"outlinewidth\": 0, \"ticks\": \"\"}}, \"type\": \"scatterpolargl\"}], \"scatterternary\": [{\"marker\": {\"colorbar\": {\"outlinewidth\": 0, \"ticks\": \"\"}}, \"type\": \"scatterternary\"}], \"surface\": [{\"colorbar\": {\"outlinewidth\": 0, \"ticks\": \"\"}, \"colorscale\": [[0.0, \"#0d0887\"], [0.1111111111111111, \"#46039f\"], [0.2222222222222222, \"#7201a8\"], [0.3333333333333333, \"#9c179e\"], [0.4444444444444444, \"#bd3786\"], [0.5555555555555556, \"#d8576b\"], [0.6666666666666666, \"#ed7953\"], [0.7777777777777778, \"#fb9f3a\"], [0.8888888888888888, \"#fdca26\"], [1.0, \"#f0f921\"]], \"type\": \"surface\"}], \"table\": [{\"cells\": {\"fill\": {\"color\": \"#EBF0F8\"}, \"line\": {\"color\": \"white\"}}, \"header\": {\"fill\": {\"color\": \"#C8D4E3\"}, \"line\": {\"color\": \"white\"}}, \"type\": \"table\"}]}, \"layout\": {\"annotationdefaults\": {\"arrowcolor\": \"#2a3f5f\", \"arrowhead\": 0, \"arrowwidth\": 1}, \"colorscale\": {\"diverging\": [[0, \"#8e0152\"], [0.1, \"#c51b7d\"], [0.2, \"#de77ae\"], [0.3, \"#f1b6da\"], [0.4, \"#fde0ef\"], [0.5, \"#f7f7f7\"], [0.6, \"#e6f5d0\"], [0.7, \"#b8e186\"], [0.8, \"#7fbc41\"], [0.9, \"#4d9221\"], [1, \"#276419\"]], \"sequential\": [[0.0, \"#0d0887\"], [0.1111111111111111, \"#46039f\"], [0.2222222222222222, \"#7201a8\"], [0.3333333333333333, \"#9c179e\"], [0.4444444444444444, \"#bd3786\"], [0.5555555555555556, \"#d8576b\"], [0.6666666666666666, \"#ed7953\"], [0.7777777777777778, \"#fb9f3a\"], [0.8888888888888888, \"#fdca26\"], [1.0, \"#f0f921\"]], \"sequentialminus\": [[0.0, \"#0d0887\"], [0.1111111111111111, \"#46039f\"], [0.2222222222222222, \"#7201a8\"], [0.3333333333333333, \"#9c179e\"], [0.4444444444444444, \"#bd3786\"], [0.5555555555555556, \"#d8576b\"], [0.6666666666666666, \"#ed7953\"], [0.7777777777777778, \"#fb9f3a\"], [0.8888888888888888, \"#fdca26\"], [1.0, \"#f0f921\"]]}, \"colorway\": [\"#636efa\", \"#EF553B\", \"#00cc96\", \"#ab63fa\", \"#FFA15A\", \"#19d3f3\", \"#FF6692\", \"#B6E880\", \"#FF97FF\", \"#FECB52\"], \"font\": {\"color\": \"#2a3f5f\"}, \"geo\": {\"bgcolor\": \"white\", \"lakecolor\": \"white\", \"landcolor\": \"#E5ECF6\", \"showlakes\": true, \"showland\": true, \"subunitcolor\": \"white\"}, \"hoverlabel\": {\"align\": \"left\"}, \"hovermode\": \"closest\", \"mapbox\": {\"style\": \"light\"}, \"paper_bgcolor\": \"white\", \"plot_bgcolor\": \"#E5ECF6\", \"polar\": {\"angularaxis\": {\"gridcolor\": \"white\", \"linecolor\": \"white\", \"ticks\": \"\"}, \"bgcolor\": \"#E5ECF6\", \"radialaxis\": {\"gridcolor\": \"white\", \"linecolor\": \"white\", \"ticks\": \"\"}}, \"scene\": {\"xaxis\": {\"backgroundcolor\": \"#E5ECF6\", \"gridcolor\": \"white\", \"gridwidth\": 2, \"linecolor\": \"white\", \"showbackground\": true, \"ticks\": \"\", \"zerolinecolor\": \"white\"}, \"yaxis\": {\"backgroundcolor\": \"#E5ECF6\", \"gridcolor\": \"white\", \"gridwidth\": 2, \"linecolor\": \"white\", \"showbackground\": true, \"ticks\": \"\", \"zerolinecolor\": \"white\"}, \"zaxis\": {\"backgroundcolor\": \"#E5ECF6\", \"gridcolor\": \"white\", \"gridwidth\": 2, \"linecolor\": \"white\", \"showbackground\": true, \"ticks\": \"\", \"zerolinecolor\": \"white\"}}, \"shapedefaults\": {\"line\": {\"color\": \"#2a3f5f\"}}, \"ternary\": {\"aaxis\": {\"gridcolor\": \"white\", \"linecolor\": \"white\", \"ticks\": \"\"}, \"baxis\": {\"gridcolor\": \"white\", \"linecolor\": \"white\", \"ticks\": \"\"}, \"bgcolor\": \"#E5ECF6\", \"caxis\": {\"gridcolor\": \"white\", \"linecolor\": \"white\", \"ticks\": \"\"}}, \"title\": {\"x\": 0.05}, \"xaxis\": {\"automargin\": true, \"gridcolor\": \"white\", \"linecolor\": \"white\", \"ticks\": \"\", \"zerolinecolor\": \"white\", \"zerolinewidth\": 2}, \"yaxis\": {\"automargin\": true, \"gridcolor\": \"white\", \"linecolor\": \"white\", \"ticks\": \"\", \"zerolinecolor\": \"white\", \"zerolinewidth\": 2}}}},\n",
       "                        {\"responsive\": true}\n",
       "                    ).then(function(){\n",
       "                            \n",
       "var gd = document.getElementById('cbf5ec96-1c62-4e04-acfb-690ccdc0ef42');\n",
       "var x = new MutationObserver(function (mutations, observer) {{\n",
       "        var display = window.getComputedStyle(gd).display;\n",
       "        if (!display || display === 'none') {{\n",
       "            console.log([gd, 'removed!']);\n",
       "            Plotly.purge(gd);\n",
       "            observer.disconnect();\n",
       "        }}\n",
       "}});\n",
       "\n",
       "// Listen for the removal of the full notebook cells\n",
       "var notebookContainer = gd.closest('#notebook-container');\n",
       "if (notebookContainer) {{\n",
       "    x.observe(notebookContainer, {childList: true});\n",
       "}}\n",
       "\n",
       "// Listen for the clearing of the current output cell\n",
       "var outputEl = gd.closest('.output');\n",
       "if (outputEl) {{\n",
       "    x.observe(outputEl, {childList: true});\n",
       "}}\n",
       "\n",
       "                        })\n",
       "                };\n",
       "                });\n",
       "            </script>\n",
       "        </div>"
      ]
     },
     "metadata": {},
     "output_type": "display_data"
    }
   ],
   "source": [
    "fig = px.choropleth(obs.query('year == 2016'), \n",
    "                    locations = 'country_code',\n",
    "                    color = 'pct_obese',\n",
    "                    hover_name = 'country',\n",
    "                    labels={'pct_obese':'Percent Obese'},\n",
    "                    color_continuous_scale = px.colors.sequential.Reds)\n",
    "\n",
    "annotations = []\n",
    "\n",
    "# Adding labels\n",
    "# Title\n",
    "annotations.append(dict(x = 0.0, y = .95,\n",
    "                              xanchor = 'left', yanchor = 'bottom',\n",
    "                              text = 'World Obesity Prevalence by Country',\n",
    "                              font = dict(family = 'Arial', \n",
    "                                          size = 24, \n",
    "                                          color = 'rgb(37,37,37)'),\n",
    "                              showarrow = False))\n",
    "# Source\n",
    "annotations.append(dict(x = 0.5, y = 0,\n",
    "                              xanchor = 'center', yanchor = 'top',\n",
    "                              text = 'Source: World Health Organization',\n",
    "                              font = dict(family = 'Arial', \n",
    "                                          size = 12, \n",
    "                                          color = 'rgb(150,150,150)'),\n",
    "                              showarrow=False))\n",
    "\n",
    "fig.update_layout(annotations = annotations)\n",
    "\n",
    "fig.show()"
   ]
  },
  {
   "cell_type": "code",
   "execution_count": 6,
   "metadata": {},
   "outputs": [],
   "source": [
    "# I need to get the obesity percent for each year for each country, then get the mean\n",
    "obs_means = obs.pivot_table(index = 'year', columns = 'country', values = 'pct_obese').\\\n",
    "                                    reset_index().\\\n",
    "                                    rename_axis('', axis = 'columns')"
   ]
  },
  {
   "cell_type": "code",
   "execution_count": 7,
   "metadata": {},
   "outputs": [],
   "source": [
    "obs_means['mean_yr'] = obs_means.loc[:, obs_means.columns != 'year'].mean(axis = 1, skipna = True)"
   ]
  },
  {
   "cell_type": "code",
   "execution_count": 8,
   "metadata": {},
   "outputs": [
    {
     "data": {
      "text/html": [
       "<div>\n",
       "<style scoped>\n",
       "    .dataframe tbody tr th:only-of-type {\n",
       "        vertical-align: middle;\n",
       "    }\n",
       "\n",
       "    .dataframe tbody tr th {\n",
       "        vertical-align: top;\n",
       "    }\n",
       "\n",
       "    .dataframe thead th {\n",
       "        text-align: right;\n",
       "    }\n",
       "</style>\n",
       "<table border=\"1\" class=\"dataframe\">\n",
       "  <thead>\n",
       "    <tr style=\"text-align: right;\">\n",
       "      <th></th>\n",
       "      <th>year</th>\n",
       "      <th>Afghanistan</th>\n",
       "      <th>Albania</th>\n",
       "      <th>Algeria</th>\n",
       "      <th>Andorra</th>\n",
       "      <th>Angola</th>\n",
       "      <th>Antigua and Barbuda</th>\n",
       "      <th>Argentina</th>\n",
       "      <th>Armenia</th>\n",
       "      <th>Australia</th>\n",
       "      <th>...</th>\n",
       "      <th>Uruguay</th>\n",
       "      <th>Uzbekistan</th>\n",
       "      <th>Vanuatu</th>\n",
       "      <th>Venezuela (Bolivarian Republic of)</th>\n",
       "      <th>Viet Nam</th>\n",
       "      <th>Yemen</th>\n",
       "      <th>Yemen Arab Republic (until 1990)</th>\n",
       "      <th>Zambia</th>\n",
       "      <th>Zimbabwe</th>\n",
       "      <th>mean_yr</th>\n",
       "    </tr>\n",
       "  </thead>\n",
       "  <tbody>\n",
       "    <tr>\n",
       "      <th>0</th>\n",
       "      <td>1975</td>\n",
       "      <td>0.4</td>\n",
       "      <td>5.7</td>\n",
       "      <td>5.9</td>\n",
       "      <td>13.4</td>\n",
       "      <td>0.7</td>\n",
       "      <td>5.1</td>\n",
       "      <td>11.1</td>\n",
       "      <td>6.6</td>\n",
       "      <td>10.5</td>\n",
       "      <td>...</td>\n",
       "      <td>11.8</td>\n",
       "      <td>3.9</td>\n",
       "      <td>4.7</td>\n",
       "      <td>8.3</td>\n",
       "      <td>NaN</td>\n",
       "      <td>NaN</td>\n",
       "      <td>2.5</td>\n",
       "      <td>1.3</td>\n",
       "      <td>3.0</td>\n",
       "      <td>6.074346</td>\n",
       "    </tr>\n",
       "    <tr>\n",
       "      <th>1</th>\n",
       "      <td>1976</td>\n",
       "      <td>0.4</td>\n",
       "      <td>5.8</td>\n",
       "      <td>6.1</td>\n",
       "      <td>14.0</td>\n",
       "      <td>0.8</td>\n",
       "      <td>5.3</td>\n",
       "      <td>11.5</td>\n",
       "      <td>6.8</td>\n",
       "      <td>10.7</td>\n",
       "      <td>...</td>\n",
       "      <td>12.1</td>\n",
       "      <td>4.0</td>\n",
       "      <td>4.9</td>\n",
       "      <td>8.6</td>\n",
       "      <td>NaN</td>\n",
       "      <td>NaN</td>\n",
       "      <td>2.6</td>\n",
       "      <td>1.4</td>\n",
       "      <td>3.2</td>\n",
       "      <td>6.270681</td>\n",
       "    </tr>\n",
       "    <tr>\n",
       "      <th>2</th>\n",
       "      <td>1977</td>\n",
       "      <td>0.5</td>\n",
       "      <td>6.0</td>\n",
       "      <td>6.2</td>\n",
       "      <td>14.5</td>\n",
       "      <td>0.8</td>\n",
       "      <td>5.4</td>\n",
       "      <td>11.8</td>\n",
       "      <td>7.0</td>\n",
       "      <td>11.0</td>\n",
       "      <td>...</td>\n",
       "      <td>12.4</td>\n",
       "      <td>4.2</td>\n",
       "      <td>5.1</td>\n",
       "      <td>8.8</td>\n",
       "      <td>0.1</td>\n",
       "      <td>NaN</td>\n",
       "      <td>2.7</td>\n",
       "      <td>1.5</td>\n",
       "      <td>3.3</td>\n",
       "      <td>6.467539</td>\n",
       "    </tr>\n",
       "  </tbody>\n",
       "</table>\n",
       "<p>3 rows × 197 columns</p>\n",
       "</div>"
      ],
      "text/plain": [
       "   year  Afghanistan  Albania  Algeria  Andorra  Angola  Antigua and Barbuda  \\\n",
       "0  1975          0.4      5.7      5.9     13.4     0.7                  5.1   \n",
       "1  1976          0.4      5.8      6.1     14.0     0.8                  5.3   \n",
       "2  1977          0.5      6.0      6.2     14.5     0.8                  5.4   \n",
       "\n",
       "   Argentina  Armenia  Australia  ...  Uruguay  Uzbekistan  Vanuatu  \\\n",
       "0       11.1      6.6       10.5  ...     11.8         3.9      4.7   \n",
       "1       11.5      6.8       10.7  ...     12.1         4.0      4.9   \n",
       "2       11.8      7.0       11.0  ...     12.4         4.2      5.1   \n",
       "\n",
       "   Venezuela (Bolivarian Republic of)  Viet Nam  Yemen  \\\n",
       "0                                 8.3       NaN    NaN   \n",
       "1                                 8.6       NaN    NaN   \n",
       "2                                 8.8       0.1    NaN   \n",
       "\n",
       "   Yemen Arab Republic (until 1990)  Zambia  Zimbabwe   mean_yr  \n",
       "0                               2.5     1.3       3.0  6.074346  \n",
       "1                               2.6     1.4       3.2  6.270681  \n",
       "2                               2.7     1.5       3.3  6.467539  \n",
       "\n",
       "[3 rows x 197 columns]"
      ]
     },
     "execution_count": 8,
     "metadata": {},
     "output_type": "execute_result"
    }
   ],
   "source": [
    "obs_means.head(3)"
   ]
  },
  {
   "cell_type": "code",
   "execution_count": 9,
   "metadata": {
    "scrolled": false
   },
   "outputs": [
    {
     "data": {
      "application/vnd.plotly.v1+json": {
       "config": {
        "plotlyServerURL": "https://plot.ly"
       },
       "data": [
        {
         "hoverlabel": {
          "namelength": 0
         },
         "hovertemplate": "year=%{x}<br>mean_yr=%{y}",
         "legendgroup": "",
         "line": {
          "color": "#636efa",
          "dash": "solid"
         },
         "mode": "lines",
         "name": "",
         "showlegend": false,
         "type": "scatter",
         "x": [
          1975,
          1976,
          1977,
          1978,
          1979,
          1980,
          1981,
          1982,
          1983,
          1984,
          1985,
          1986,
          1987,
          1988,
          1989,
          1990,
          1991,
          1992,
          1993,
          1994,
          1995,
          1996,
          1997,
          1998,
          1999,
          2000,
          2001,
          2002,
          2003,
          2004,
          2005,
          2006,
          2007,
          2008,
          2009,
          2010,
          2011,
          2012,
          2013,
          2014,
          2015,
          2016
         ],
         "xaxis": "x",
         "y": [
          6.074345549738221,
          6.270680628272252,
          6.467539267015705,
          6.671727748691098,
          6.886387434554973,
          7.1000000000000005,
          7.329319371727747,
          7.562827225130891,
          7.8047120418848195,
          8.059162303664921,
          8.31675392670157,
          8.587958115183248,
          8.869633507853399,
          9.150261780104715,
          9.4413612565445,
          9.752879581151827,
          10.061780104712039,
          10.373298429319378,
          10.691623036649213,
          11.010994764397912,
          11.333507853403143,
          11.669633507853408,
          12.00366492146597,
          12.348691099476437,
          12.700523560209417,
          13.048691099476434,
          13.398952879581149,
          13.760732984293195,
          14.130890052356019,
          14.509947643979059,
          14.8848167539267,
          15.268062827225124,
          15.66544502617801,
          16.075916230366495,
          16.489005235602086,
          16.92513089005236,
          17.368062827225135,
          17.82356020942409,
          18.289528795811513,
          18.774869109947648,
          19.282722513089016,
          19.79005235602095
         ],
         "yaxis": "y"
        }
       ],
       "layout": {
        "height": 600,
        "legend": {
         "tracegroupgap": 0
        },
        "margin": {
         "t": 60
        },
        "template": {
         "data": {
          "bar": [
           {
            "error_x": {
             "color": "#2a3f5f"
            },
            "error_y": {
             "color": "#2a3f5f"
            },
            "marker": {
             "line": {
              "color": "#E5ECF6",
              "width": 0.5
             }
            },
            "type": "bar"
           }
          ],
          "barpolar": [
           {
            "marker": {
             "line": {
              "color": "#E5ECF6",
              "width": 0.5
             }
            },
            "type": "barpolar"
           }
          ],
          "carpet": [
           {
            "aaxis": {
             "endlinecolor": "#2a3f5f",
             "gridcolor": "white",
             "linecolor": "white",
             "minorgridcolor": "white",
             "startlinecolor": "#2a3f5f"
            },
            "baxis": {
             "endlinecolor": "#2a3f5f",
             "gridcolor": "white",
             "linecolor": "white",
             "minorgridcolor": "white",
             "startlinecolor": "#2a3f5f"
            },
            "type": "carpet"
           }
          ],
          "choropleth": [
           {
            "colorbar": {
             "outlinewidth": 0,
             "ticks": ""
            },
            "type": "choropleth"
           }
          ],
          "contour": [
           {
            "colorbar": {
             "outlinewidth": 0,
             "ticks": ""
            },
            "colorscale": [
             [
              0,
              "#0d0887"
             ],
             [
              0.1111111111111111,
              "#46039f"
             ],
             [
              0.2222222222222222,
              "#7201a8"
             ],
             [
              0.3333333333333333,
              "#9c179e"
             ],
             [
              0.4444444444444444,
              "#bd3786"
             ],
             [
              0.5555555555555556,
              "#d8576b"
             ],
             [
              0.6666666666666666,
              "#ed7953"
             ],
             [
              0.7777777777777778,
              "#fb9f3a"
             ],
             [
              0.8888888888888888,
              "#fdca26"
             ],
             [
              1,
              "#f0f921"
             ]
            ],
            "type": "contour"
           }
          ],
          "contourcarpet": [
           {
            "colorbar": {
             "outlinewidth": 0,
             "ticks": ""
            },
            "type": "contourcarpet"
           }
          ],
          "heatmap": [
           {
            "colorbar": {
             "outlinewidth": 0,
             "ticks": ""
            },
            "colorscale": [
             [
              0,
              "#0d0887"
             ],
             [
              0.1111111111111111,
              "#46039f"
             ],
             [
              0.2222222222222222,
              "#7201a8"
             ],
             [
              0.3333333333333333,
              "#9c179e"
             ],
             [
              0.4444444444444444,
              "#bd3786"
             ],
             [
              0.5555555555555556,
              "#d8576b"
             ],
             [
              0.6666666666666666,
              "#ed7953"
             ],
             [
              0.7777777777777778,
              "#fb9f3a"
             ],
             [
              0.8888888888888888,
              "#fdca26"
             ],
             [
              1,
              "#f0f921"
             ]
            ],
            "type": "heatmap"
           }
          ],
          "heatmapgl": [
           {
            "colorbar": {
             "outlinewidth": 0,
             "ticks": ""
            },
            "colorscale": [
             [
              0,
              "#0d0887"
             ],
             [
              0.1111111111111111,
              "#46039f"
             ],
             [
              0.2222222222222222,
              "#7201a8"
             ],
             [
              0.3333333333333333,
              "#9c179e"
             ],
             [
              0.4444444444444444,
              "#bd3786"
             ],
             [
              0.5555555555555556,
              "#d8576b"
             ],
             [
              0.6666666666666666,
              "#ed7953"
             ],
             [
              0.7777777777777778,
              "#fb9f3a"
             ],
             [
              0.8888888888888888,
              "#fdca26"
             ],
             [
              1,
              "#f0f921"
             ]
            ],
            "type": "heatmapgl"
           }
          ],
          "histogram": [
           {
            "marker": {
             "colorbar": {
              "outlinewidth": 0,
              "ticks": ""
             }
            },
            "type": "histogram"
           }
          ],
          "histogram2d": [
           {
            "colorbar": {
             "outlinewidth": 0,
             "ticks": ""
            },
            "colorscale": [
             [
              0,
              "#0d0887"
             ],
             [
              0.1111111111111111,
              "#46039f"
             ],
             [
              0.2222222222222222,
              "#7201a8"
             ],
             [
              0.3333333333333333,
              "#9c179e"
             ],
             [
              0.4444444444444444,
              "#bd3786"
             ],
             [
              0.5555555555555556,
              "#d8576b"
             ],
             [
              0.6666666666666666,
              "#ed7953"
             ],
             [
              0.7777777777777778,
              "#fb9f3a"
             ],
             [
              0.8888888888888888,
              "#fdca26"
             ],
             [
              1,
              "#f0f921"
             ]
            ],
            "type": "histogram2d"
           }
          ],
          "histogram2dcontour": [
           {
            "colorbar": {
             "outlinewidth": 0,
             "ticks": ""
            },
            "colorscale": [
             [
              0,
              "#0d0887"
             ],
             [
              0.1111111111111111,
              "#46039f"
             ],
             [
              0.2222222222222222,
              "#7201a8"
             ],
             [
              0.3333333333333333,
              "#9c179e"
             ],
             [
              0.4444444444444444,
              "#bd3786"
             ],
             [
              0.5555555555555556,
              "#d8576b"
             ],
             [
              0.6666666666666666,
              "#ed7953"
             ],
             [
              0.7777777777777778,
              "#fb9f3a"
             ],
             [
              0.8888888888888888,
              "#fdca26"
             ],
             [
              1,
              "#f0f921"
             ]
            ],
            "type": "histogram2dcontour"
           }
          ],
          "mesh3d": [
           {
            "colorbar": {
             "outlinewidth": 0,
             "ticks": ""
            },
            "type": "mesh3d"
           }
          ],
          "parcoords": [
           {
            "line": {
             "colorbar": {
              "outlinewidth": 0,
              "ticks": ""
             }
            },
            "type": "parcoords"
           }
          ],
          "scatter": [
           {
            "marker": {
             "colorbar": {
              "outlinewidth": 0,
              "ticks": ""
             }
            },
            "type": "scatter"
           }
          ],
          "scatter3d": [
           {
            "line": {
             "colorbar": {
              "outlinewidth": 0,
              "ticks": ""
             }
            },
            "marker": {
             "colorbar": {
              "outlinewidth": 0,
              "ticks": ""
             }
            },
            "type": "scatter3d"
           }
          ],
          "scattercarpet": [
           {
            "marker": {
             "colorbar": {
              "outlinewidth": 0,
              "ticks": ""
             }
            },
            "type": "scattercarpet"
           }
          ],
          "scattergeo": [
           {
            "marker": {
             "colorbar": {
              "outlinewidth": 0,
              "ticks": ""
             }
            },
            "type": "scattergeo"
           }
          ],
          "scattergl": [
           {
            "marker": {
             "colorbar": {
              "outlinewidth": 0,
              "ticks": ""
             }
            },
            "type": "scattergl"
           }
          ],
          "scattermapbox": [
           {
            "marker": {
             "colorbar": {
              "outlinewidth": 0,
              "ticks": ""
             }
            },
            "type": "scattermapbox"
           }
          ],
          "scatterpolar": [
           {
            "marker": {
             "colorbar": {
              "outlinewidth": 0,
              "ticks": ""
             }
            },
            "type": "scatterpolar"
           }
          ],
          "scatterpolargl": [
           {
            "marker": {
             "colorbar": {
              "outlinewidth": 0,
              "ticks": ""
             }
            },
            "type": "scatterpolargl"
           }
          ],
          "scatterternary": [
           {
            "marker": {
             "colorbar": {
              "outlinewidth": 0,
              "ticks": ""
             }
            },
            "type": "scatterternary"
           }
          ],
          "surface": [
           {
            "colorbar": {
             "outlinewidth": 0,
             "ticks": ""
            },
            "colorscale": [
             [
              0,
              "#0d0887"
             ],
             [
              0.1111111111111111,
              "#46039f"
             ],
             [
              0.2222222222222222,
              "#7201a8"
             ],
             [
              0.3333333333333333,
              "#9c179e"
             ],
             [
              0.4444444444444444,
              "#bd3786"
             ],
             [
              0.5555555555555556,
              "#d8576b"
             ],
             [
              0.6666666666666666,
              "#ed7953"
             ],
             [
              0.7777777777777778,
              "#fb9f3a"
             ],
             [
              0.8888888888888888,
              "#fdca26"
             ],
             [
              1,
              "#f0f921"
             ]
            ],
            "type": "surface"
           }
          ],
          "table": [
           {
            "cells": {
             "fill": {
              "color": "#EBF0F8"
             },
             "line": {
              "color": "white"
             }
            },
            "header": {
             "fill": {
              "color": "#C8D4E3"
             },
             "line": {
              "color": "white"
             }
            },
            "type": "table"
           }
          ]
         },
         "layout": {
          "annotationdefaults": {
           "arrowcolor": "#2a3f5f",
           "arrowhead": 0,
           "arrowwidth": 1
          },
          "colorscale": {
           "diverging": [
            [
             0,
             "#8e0152"
            ],
            [
             0.1,
             "#c51b7d"
            ],
            [
             0.2,
             "#de77ae"
            ],
            [
             0.3,
             "#f1b6da"
            ],
            [
             0.4,
             "#fde0ef"
            ],
            [
             0.5,
             "#f7f7f7"
            ],
            [
             0.6,
             "#e6f5d0"
            ],
            [
             0.7,
             "#b8e186"
            ],
            [
             0.8,
             "#7fbc41"
            ],
            [
             0.9,
             "#4d9221"
            ],
            [
             1,
             "#276419"
            ]
           ],
           "sequential": [
            [
             0,
             "#0d0887"
            ],
            [
             0.1111111111111111,
             "#46039f"
            ],
            [
             0.2222222222222222,
             "#7201a8"
            ],
            [
             0.3333333333333333,
             "#9c179e"
            ],
            [
             0.4444444444444444,
             "#bd3786"
            ],
            [
             0.5555555555555556,
             "#d8576b"
            ],
            [
             0.6666666666666666,
             "#ed7953"
            ],
            [
             0.7777777777777778,
             "#fb9f3a"
            ],
            [
             0.8888888888888888,
             "#fdca26"
            ],
            [
             1,
             "#f0f921"
            ]
           ],
           "sequentialminus": [
            [
             0,
             "#0d0887"
            ],
            [
             0.1111111111111111,
             "#46039f"
            ],
            [
             0.2222222222222222,
             "#7201a8"
            ],
            [
             0.3333333333333333,
             "#9c179e"
            ],
            [
             0.4444444444444444,
             "#bd3786"
            ],
            [
             0.5555555555555556,
             "#d8576b"
            ],
            [
             0.6666666666666666,
             "#ed7953"
            ],
            [
             0.7777777777777778,
             "#fb9f3a"
            ],
            [
             0.8888888888888888,
             "#fdca26"
            ],
            [
             1,
             "#f0f921"
            ]
           ]
          },
          "colorway": [
           "#636efa",
           "#EF553B",
           "#00cc96",
           "#ab63fa",
           "#FFA15A",
           "#19d3f3",
           "#FF6692",
           "#B6E880",
           "#FF97FF",
           "#FECB52"
          ],
          "font": {
           "color": "#2a3f5f"
          },
          "geo": {
           "bgcolor": "white",
           "lakecolor": "white",
           "landcolor": "#E5ECF6",
           "showlakes": true,
           "showland": true,
           "subunitcolor": "white"
          },
          "hoverlabel": {
           "align": "left"
          },
          "hovermode": "closest",
          "mapbox": {
           "style": "light"
          },
          "paper_bgcolor": "white",
          "plot_bgcolor": "#E5ECF6",
          "polar": {
           "angularaxis": {
            "gridcolor": "white",
            "linecolor": "white",
            "ticks": ""
           },
           "bgcolor": "#E5ECF6",
           "radialaxis": {
            "gridcolor": "white",
            "linecolor": "white",
            "ticks": ""
           }
          },
          "scene": {
           "xaxis": {
            "backgroundcolor": "#E5ECF6",
            "gridcolor": "white",
            "gridwidth": 2,
            "linecolor": "white",
            "showbackground": true,
            "ticks": "",
            "zerolinecolor": "white"
           },
           "yaxis": {
            "backgroundcolor": "#E5ECF6",
            "gridcolor": "white",
            "gridwidth": 2,
            "linecolor": "white",
            "showbackground": true,
            "ticks": "",
            "zerolinecolor": "white"
           },
           "zaxis": {
            "backgroundcolor": "#E5ECF6",
            "gridcolor": "white",
            "gridwidth": 2,
            "linecolor": "white",
            "showbackground": true,
            "ticks": "",
            "zerolinecolor": "white"
           }
          },
          "shapedefaults": {
           "line": {
            "color": "#2a3f5f"
           }
          },
          "ternary": {
           "aaxis": {
            "gridcolor": "white",
            "linecolor": "white",
            "ticks": ""
           },
           "baxis": {
            "gridcolor": "white",
            "linecolor": "white",
            "ticks": ""
           },
           "bgcolor": "#E5ECF6",
           "caxis": {
            "gridcolor": "white",
            "linecolor": "white",
            "ticks": ""
           }
          },
          "title": {
           "x": 0.05
          },
          "xaxis": {
           "automargin": true,
           "gridcolor": "white",
           "linecolor": "white",
           "ticks": "",
           "zerolinecolor": "white",
           "zerolinewidth": 2
          },
          "yaxis": {
           "automargin": true,
           "gridcolor": "white",
           "linecolor": "white",
           "ticks": "",
           "zerolinecolor": "white",
           "zerolinewidth": 2
          }
         }
        },
        "xaxis": {
         "anchor": "y",
         "domain": [
          0,
          0.98
         ],
         "title": {
          "text": "year"
         }
        },
        "yaxis": {
         "anchor": "x",
         "domain": [
          0,
          1
         ],
         "title": {
          "text": "mean_yr"
         }
        }
       }
      },
      "text/html": [
       "<div>\n",
       "        \n",
       "        \n",
       "            <div id=\"7c6fec0f-a5be-4578-a7ef-df8d590edcba\" class=\"plotly-graph-div\" style=\"height:600px; width:100%;\"></div>\n",
       "            <script type=\"text/javascript\">\n",
       "                require([\"plotly\"], function(Plotly) {\n",
       "                    window.PLOTLYENV=window.PLOTLYENV || {};\n",
       "                    \n",
       "                if (document.getElementById(\"7c6fec0f-a5be-4578-a7ef-df8d590edcba\")) {\n",
       "                    Plotly.newPlot(\n",
       "                        '7c6fec0f-a5be-4578-a7ef-df8d590edcba',\n",
       "                        [{\"hoverlabel\": {\"namelength\": 0}, \"hovertemplate\": \"year=%{x}<br>mean_yr=%{y}\", \"legendgroup\": \"\", \"line\": {\"color\": \"#636efa\", \"dash\": \"solid\"}, \"mode\": \"lines\", \"name\": \"\", \"showlegend\": false, \"type\": \"scatter\", \"x\": [1975, 1976, 1977, 1978, 1979, 1980, 1981, 1982, 1983, 1984, 1985, 1986, 1987, 1988, 1989, 1990, 1991, 1992, 1993, 1994, 1995, 1996, 1997, 1998, 1999, 2000, 2001, 2002, 2003, 2004, 2005, 2006, 2007, 2008, 2009, 2010, 2011, 2012, 2013, 2014, 2015, 2016], \"xaxis\": \"x\", \"y\": [6.074345549738221, 6.270680628272252, 6.467539267015705, 6.671727748691098, 6.886387434554973, 7.1000000000000005, 7.329319371727747, 7.562827225130891, 7.8047120418848195, 8.059162303664921, 8.31675392670157, 8.587958115183248, 8.869633507853399, 9.150261780104715, 9.4413612565445, 9.752879581151827, 10.061780104712039, 10.373298429319378, 10.691623036649213, 11.010994764397912, 11.333507853403143, 11.669633507853408, 12.00366492146597, 12.348691099476437, 12.700523560209417, 13.048691099476434, 13.398952879581149, 13.760732984293195, 14.130890052356019, 14.509947643979059, 14.8848167539267, 15.268062827225124, 15.66544502617801, 16.075916230366495, 16.489005235602086, 16.92513089005236, 17.368062827225135, 17.82356020942409, 18.289528795811513, 18.774869109947648, 19.282722513089016, 19.79005235602095], \"yaxis\": \"y\"}],\n",
       "                        {\"height\": 600, \"legend\": {\"tracegroupgap\": 0}, \"margin\": {\"t\": 60}, \"template\": {\"data\": {\"bar\": [{\"error_x\": {\"color\": \"#2a3f5f\"}, \"error_y\": {\"color\": \"#2a3f5f\"}, \"marker\": {\"line\": {\"color\": \"#E5ECF6\", \"width\": 0.5}}, \"type\": \"bar\"}], \"barpolar\": [{\"marker\": {\"line\": {\"color\": \"#E5ECF6\", \"width\": 0.5}}, \"type\": \"barpolar\"}], \"carpet\": [{\"aaxis\": {\"endlinecolor\": \"#2a3f5f\", \"gridcolor\": \"white\", \"linecolor\": \"white\", \"minorgridcolor\": \"white\", \"startlinecolor\": \"#2a3f5f\"}, \"baxis\": {\"endlinecolor\": \"#2a3f5f\", \"gridcolor\": \"white\", \"linecolor\": \"white\", \"minorgridcolor\": \"white\", \"startlinecolor\": \"#2a3f5f\"}, \"type\": \"carpet\"}], \"choropleth\": [{\"colorbar\": {\"outlinewidth\": 0, \"ticks\": \"\"}, \"type\": \"choropleth\"}], \"contour\": [{\"colorbar\": {\"outlinewidth\": 0, \"ticks\": \"\"}, \"colorscale\": [[0.0, \"#0d0887\"], [0.1111111111111111, \"#46039f\"], [0.2222222222222222, \"#7201a8\"], [0.3333333333333333, \"#9c179e\"], [0.4444444444444444, \"#bd3786\"], [0.5555555555555556, \"#d8576b\"], [0.6666666666666666, \"#ed7953\"], [0.7777777777777778, \"#fb9f3a\"], [0.8888888888888888, \"#fdca26\"], [1.0, \"#f0f921\"]], \"type\": \"contour\"}], \"contourcarpet\": [{\"colorbar\": {\"outlinewidth\": 0, \"ticks\": \"\"}, \"type\": \"contourcarpet\"}], \"heatmap\": [{\"colorbar\": {\"outlinewidth\": 0, \"ticks\": \"\"}, \"colorscale\": [[0.0, \"#0d0887\"], [0.1111111111111111, \"#46039f\"], [0.2222222222222222, \"#7201a8\"], [0.3333333333333333, \"#9c179e\"], [0.4444444444444444, \"#bd3786\"], [0.5555555555555556, \"#d8576b\"], [0.6666666666666666, \"#ed7953\"], [0.7777777777777778, \"#fb9f3a\"], [0.8888888888888888, \"#fdca26\"], [1.0, \"#f0f921\"]], \"type\": \"heatmap\"}], \"heatmapgl\": [{\"colorbar\": {\"outlinewidth\": 0, \"ticks\": \"\"}, \"colorscale\": [[0.0, \"#0d0887\"], [0.1111111111111111, \"#46039f\"], [0.2222222222222222, \"#7201a8\"], [0.3333333333333333, \"#9c179e\"], [0.4444444444444444, \"#bd3786\"], [0.5555555555555556, \"#d8576b\"], [0.6666666666666666, \"#ed7953\"], [0.7777777777777778, \"#fb9f3a\"], [0.8888888888888888, \"#fdca26\"], [1.0, \"#f0f921\"]], \"type\": \"heatmapgl\"}], \"histogram\": [{\"marker\": {\"colorbar\": {\"outlinewidth\": 0, \"ticks\": \"\"}}, \"type\": \"histogram\"}], \"histogram2d\": [{\"colorbar\": {\"outlinewidth\": 0, \"ticks\": \"\"}, \"colorscale\": [[0.0, \"#0d0887\"], [0.1111111111111111, \"#46039f\"], [0.2222222222222222, \"#7201a8\"], [0.3333333333333333, \"#9c179e\"], [0.4444444444444444, \"#bd3786\"], [0.5555555555555556, \"#d8576b\"], [0.6666666666666666, \"#ed7953\"], [0.7777777777777778, \"#fb9f3a\"], [0.8888888888888888, \"#fdca26\"], [1.0, \"#f0f921\"]], \"type\": \"histogram2d\"}], \"histogram2dcontour\": [{\"colorbar\": {\"outlinewidth\": 0, \"ticks\": \"\"}, \"colorscale\": [[0.0, \"#0d0887\"], [0.1111111111111111, \"#46039f\"], [0.2222222222222222, \"#7201a8\"], [0.3333333333333333, \"#9c179e\"], [0.4444444444444444, \"#bd3786\"], [0.5555555555555556, \"#d8576b\"], [0.6666666666666666, \"#ed7953\"], [0.7777777777777778, \"#fb9f3a\"], [0.8888888888888888, \"#fdca26\"], [1.0, \"#f0f921\"]], \"type\": \"histogram2dcontour\"}], \"mesh3d\": [{\"colorbar\": {\"outlinewidth\": 0, \"ticks\": \"\"}, \"type\": \"mesh3d\"}], \"parcoords\": [{\"line\": {\"colorbar\": {\"outlinewidth\": 0, \"ticks\": \"\"}}, \"type\": \"parcoords\"}], \"scatter\": [{\"marker\": {\"colorbar\": {\"outlinewidth\": 0, \"ticks\": \"\"}}, \"type\": \"scatter\"}], \"scatter3d\": [{\"line\": {\"colorbar\": {\"outlinewidth\": 0, \"ticks\": \"\"}}, \"marker\": {\"colorbar\": {\"outlinewidth\": 0, \"ticks\": \"\"}}, \"type\": \"scatter3d\"}], \"scattercarpet\": [{\"marker\": {\"colorbar\": {\"outlinewidth\": 0, \"ticks\": \"\"}}, \"type\": \"scattercarpet\"}], \"scattergeo\": [{\"marker\": {\"colorbar\": {\"outlinewidth\": 0, \"ticks\": \"\"}}, \"type\": \"scattergeo\"}], \"scattergl\": [{\"marker\": {\"colorbar\": {\"outlinewidth\": 0, \"ticks\": \"\"}}, \"type\": \"scattergl\"}], \"scattermapbox\": [{\"marker\": {\"colorbar\": {\"outlinewidth\": 0, \"ticks\": \"\"}}, \"type\": \"scattermapbox\"}], \"scatterpolar\": [{\"marker\": {\"colorbar\": {\"outlinewidth\": 0, \"ticks\": \"\"}}, \"type\": \"scatterpolar\"}], \"scatterpolargl\": [{\"marker\": {\"colorbar\": {\"outlinewidth\": 0, \"ticks\": \"\"}}, \"type\": \"scatterpolargl\"}], \"scatterternary\": [{\"marker\": {\"colorbar\": {\"outlinewidth\": 0, \"ticks\": \"\"}}, \"type\": \"scatterternary\"}], \"surface\": [{\"colorbar\": {\"outlinewidth\": 0, \"ticks\": \"\"}, \"colorscale\": [[0.0, \"#0d0887\"], [0.1111111111111111, \"#46039f\"], [0.2222222222222222, \"#7201a8\"], [0.3333333333333333, \"#9c179e\"], [0.4444444444444444, \"#bd3786\"], [0.5555555555555556, \"#d8576b\"], [0.6666666666666666, \"#ed7953\"], [0.7777777777777778, \"#fb9f3a\"], [0.8888888888888888, \"#fdca26\"], [1.0, \"#f0f921\"]], \"type\": \"surface\"}], \"table\": [{\"cells\": {\"fill\": {\"color\": \"#EBF0F8\"}, \"line\": {\"color\": \"white\"}}, \"header\": {\"fill\": {\"color\": \"#C8D4E3\"}, \"line\": {\"color\": \"white\"}}, \"type\": \"table\"}]}, \"layout\": {\"annotationdefaults\": {\"arrowcolor\": \"#2a3f5f\", \"arrowhead\": 0, \"arrowwidth\": 1}, \"colorscale\": {\"diverging\": [[0, \"#8e0152\"], [0.1, \"#c51b7d\"], [0.2, \"#de77ae\"], [0.3, \"#f1b6da\"], [0.4, \"#fde0ef\"], [0.5, \"#f7f7f7\"], [0.6, \"#e6f5d0\"], [0.7, \"#b8e186\"], [0.8, \"#7fbc41\"], [0.9, \"#4d9221\"], [1, \"#276419\"]], \"sequential\": [[0.0, \"#0d0887\"], [0.1111111111111111, \"#46039f\"], [0.2222222222222222, \"#7201a8\"], [0.3333333333333333, \"#9c179e\"], [0.4444444444444444, \"#bd3786\"], [0.5555555555555556, \"#d8576b\"], [0.6666666666666666, \"#ed7953\"], [0.7777777777777778, \"#fb9f3a\"], [0.8888888888888888, \"#fdca26\"], [1.0, \"#f0f921\"]], \"sequentialminus\": [[0.0, \"#0d0887\"], [0.1111111111111111, \"#46039f\"], [0.2222222222222222, \"#7201a8\"], [0.3333333333333333, \"#9c179e\"], [0.4444444444444444, \"#bd3786\"], [0.5555555555555556, \"#d8576b\"], [0.6666666666666666, \"#ed7953\"], [0.7777777777777778, \"#fb9f3a\"], [0.8888888888888888, \"#fdca26\"], [1.0, \"#f0f921\"]]}, \"colorway\": [\"#636efa\", \"#EF553B\", \"#00cc96\", \"#ab63fa\", \"#FFA15A\", \"#19d3f3\", \"#FF6692\", \"#B6E880\", \"#FF97FF\", \"#FECB52\"], \"font\": {\"color\": \"#2a3f5f\"}, \"geo\": {\"bgcolor\": \"white\", \"lakecolor\": \"white\", \"landcolor\": \"#E5ECF6\", \"showlakes\": true, \"showland\": true, \"subunitcolor\": \"white\"}, \"hoverlabel\": {\"align\": \"left\"}, \"hovermode\": \"closest\", \"mapbox\": {\"style\": \"light\"}, \"paper_bgcolor\": \"white\", \"plot_bgcolor\": \"#E5ECF6\", \"polar\": {\"angularaxis\": {\"gridcolor\": \"white\", \"linecolor\": \"white\", \"ticks\": \"\"}, \"bgcolor\": \"#E5ECF6\", \"radialaxis\": {\"gridcolor\": \"white\", \"linecolor\": \"white\", \"ticks\": \"\"}}, \"scene\": {\"xaxis\": {\"backgroundcolor\": \"#E5ECF6\", \"gridcolor\": \"white\", \"gridwidth\": 2, \"linecolor\": \"white\", \"showbackground\": true, \"ticks\": \"\", \"zerolinecolor\": \"white\"}, \"yaxis\": {\"backgroundcolor\": \"#E5ECF6\", \"gridcolor\": \"white\", \"gridwidth\": 2, \"linecolor\": \"white\", \"showbackground\": true, \"ticks\": \"\", \"zerolinecolor\": \"white\"}, \"zaxis\": {\"backgroundcolor\": \"#E5ECF6\", \"gridcolor\": \"white\", \"gridwidth\": 2, \"linecolor\": \"white\", \"showbackground\": true, \"ticks\": \"\", \"zerolinecolor\": \"white\"}}, \"shapedefaults\": {\"line\": {\"color\": \"#2a3f5f\"}}, \"ternary\": {\"aaxis\": {\"gridcolor\": \"white\", \"linecolor\": \"white\", \"ticks\": \"\"}, \"baxis\": {\"gridcolor\": \"white\", \"linecolor\": \"white\", \"ticks\": \"\"}, \"bgcolor\": \"#E5ECF6\", \"caxis\": {\"gridcolor\": \"white\", \"linecolor\": \"white\", \"ticks\": \"\"}}, \"title\": {\"x\": 0.05}, \"xaxis\": {\"automargin\": true, \"gridcolor\": \"white\", \"linecolor\": \"white\", \"ticks\": \"\", \"zerolinecolor\": \"white\", \"zerolinewidth\": 2}, \"yaxis\": {\"automargin\": true, \"gridcolor\": \"white\", \"linecolor\": \"white\", \"ticks\": \"\", \"zerolinecolor\": \"white\", \"zerolinewidth\": 2}}}, \"xaxis\": {\"anchor\": \"y\", \"domain\": [0.0, 0.98], \"title\": {\"text\": \"year\"}}, \"yaxis\": {\"anchor\": \"x\", \"domain\": [0.0, 1.0], \"title\": {\"text\": \"mean_yr\"}}},\n",
       "                        {\"responsive\": true}\n",
       "                    ).then(function(){\n",
       "                            \n",
       "var gd = document.getElementById('7c6fec0f-a5be-4578-a7ef-df8d590edcba');\n",
       "var x = new MutationObserver(function (mutations, observer) {{\n",
       "        var display = window.getComputedStyle(gd).display;\n",
       "        if (!display || display === 'none') {{\n",
       "            console.log([gd, 'removed!']);\n",
       "            Plotly.purge(gd);\n",
       "            observer.disconnect();\n",
       "        }}\n",
       "}});\n",
       "\n",
       "// Listen for the removal of the full notebook cells\n",
       "var notebookContainer = gd.closest('#notebook-container');\n",
       "if (notebookContainer) {{\n",
       "    x.observe(notebookContainer, {childList: true});\n",
       "}}\n",
       "\n",
       "// Listen for the clearing of the current output cell\n",
       "var outputEl = gd.closest('.output');\n",
       "if (outputEl) {{\n",
       "    x.observe(outputEl, {childList: true});\n",
       "}}\n",
       "\n",
       "                        })\n",
       "                };\n",
       "                });\n",
       "            </script>\n",
       "        </div>"
      ]
     },
     "metadata": {},
     "output_type": "display_data"
    }
   ],
   "source": [
    "fig = px.line(obs_means, x = 'year', y = 'mean_yr')\n",
    "\n",
    "fig.show()"
   ]
  },
  {
   "cell_type": "code",
   "execution_count": 10,
   "metadata": {
    "scrolled": false
   },
   "outputs": [
    {
     "data": {
      "application/vnd.plotly.v1+json": {
       "config": {
        "plotlyServerURL": "https://plot.ly"
       },
       "data": [
        {
         "name": "1975",
         "nbinsx": 60,
         "opacity": 0.75,
         "type": "histogram",
         "x": [
          0.4,
          5.7,
          5.9,
          13.4,
          0.7,
          5.1,
          11.1,
          6.6,
          10.5,
          7.7,
          5.8,
          10.7,
          12,
          0.2,
          7.4,
          10.1,
          11.3,
          7.6,
          1,
          0.4,
          4.2,
          5.4,
          2.2,
          4.5,
          2.3,
          10.7,
          0.4,
          0.5,
          1,
          0.2,
          1.2,
          9.5,
          1.1,
          0.6,
          10.2,
          0.4,
          5.5,
          1.1,
          1.3,
          25.1,
          4.5,
          1.2,
          9.4,
          7.4,
          5.4,
          14.5,
          1.6,
          0.7,
          7.5,
          3.4,
          6,
          4.9,
          4.3,
          11.1,
          5,
          1.3,
          0.5,
          13.5,
          3.1,
          0.4,
          8,
          7.1,
          9.1,
          1.8,
          0.8,
          6.5,
          9.9,
          1.3,
          10.5,
          5.3,
          4.4,
          0.8,
          0.8,
          4.3,
          2.8,
          3.6,
          13.3,
          8.1,
          0.3,
          0.4,
          5.8,
          10.2,
          6.5,
          12.5,
          9.1,
          6.5,
          1,
          10.6,
          6.1,
          0.7,
          13.9,
          16.2,
          4.2,
          0.3,
          14.1,
          9.9,
          3.1,
          1.1,
          9.3,
          13.3,
          8.3,
          0.5,
          0.6,
          1.3,
          0.5,
          0.8,
          14.8,
          23.8,
          1,
          2.5,
          8.3,
          16.8,
          4.5,
          5.6,
          5.6,
          0.6,
          0.5,
          3,
          41.5,
          0.3,
          5.6,
          10.7,
          5.8,
          0.5,
          0.8,
          16.7,
          8,
          4.4,
          0.9,
          25.1,
          5.2,
          4.2,
          3.6,
          5.5,
          0.6,
          10.6,
          5.7,
          13.2,
          0.5,
          7.4,
          8.5,
          14.2,
          0.4,
          5.8,
          4.6,
          4.9,
          17.6,
          1.3,
          9.5,
          1.2,
          7.9,
          3.1,
          1.1,
          2.6,
          7.9,
          8,
          4.2,
          1.1,
          8.7,
          0.1,
          10.3,
          0.5,
          0.9,
          6.6,
          8.6,
          5.3,
          7.2,
          3.7,
          0.7,
          8.6,
          0.2,
          0.9,
          17.8,
          3.4,
          6.5,
          7.6,
          5,
          15.7,
          0.5,
          12.8,
          10.8,
          10,
          0.7,
          11.7,
          11.8,
          3.9,
          4.7,
          8.3,
          2.5,
          1.3,
          3
         ]
        },
        {
         "name": "2016",
         "nbinsx": 120,
         "opacity": 0.75,
         "type": "histogram",
         "x": [
          4.5,
          22.3,
          26.6,
          28,
          6.8,
          19.1,
          28.5,
          20.9,
          30.4,
          21.9,
          19.9,
          32.1,
          28.7,
          3.4,
          24.8,
          26.6,
          24.5,
          22.4,
          8.2,
          5.8,
          18.7,
          19.4,
          16.1,
          22.3,
          14.7,
          27.4,
          4.5,
          4.4,
          10.6,
          3.5,
          9.5,
          31.3,
          6.3,
          4.8,
          28.8,
          6.6,
          22.1,
          6.9,
          8.4,
          55.3,
          25.7,
          9,
          27.1,
          26.7,
          22.6,
          28.5,
          7.1,
          5.6,
          21.3,
          12.2,
          28.2,
          26.9,
          19.3,
          31.1,
          22.7,
          7.4,
          4.1,
          23.8,
          13.5,
          3.6,
          30,
          24.9,
          23.2,
          13.4,
          8.7,
          23.3,
          25.7,
          13.6,
          9.7,
          27.4,
          20.2,
          18.8,
          6.6,
          8.2,
          19.2,
          20.5,
          19.4,
          28.6,
          23.1,
          3.8,
          6.9,
          25.5,
          27.4,
          26.9,
          26.7,
          22.9,
          24.4,
          4.4,
          33.4,
          21.3,
          6,
          45.6,
          19.1,
          37,
          15.4,
          4.5,
          25.7,
          31.3,
          13.5,
          8.6,
          31.8,
          28.4,
          24.2,
          4.5,
          4.7,
          15.3,
          7.9,
          7.1,
          31,
          52.4,
          11.3,
          11.5,
          28.4,
          41.6,
          19.6,
          24.9,
          25.6,
          6,
          5.7,
          15,
          60.7,
          3.8,
          23.1,
          32,
          21.8,
          4.7,
          7.8,
          49.3,
          25,
          22.9,
          7.8,
          54.9,
          22.5,
          19.4,
          19,
          19.1,
          6,
          25.6,
          23.2,
          33.9,
          4.9,
          20.1,
          24.5,
          25.7,
          4.8,
          23.1,
          19.8,
          23.8,
          45.5,
          10.6,
          35,
          7.4,
          23.5,
          14.6,
          7.5,
          6.6,
          22.4,
          22.5,
          20.5,
          6.9,
          27,
          0.1,
          27.1,
          5.4,
          7.4,
          26.5,
          22.1,
          21.2,
          25.8,
          12.6,
          10.8,
          23.9,
          2.9,
          7.1,
          45.9,
          19.7,
          27.3,
          32.2,
          17.5,
          51,
          4.1,
          26.1,
          29.9,
          29.5,
          7.1,
          37.3,
          28.9,
          15.3,
          23.5,
          25.2,
          2.1,
          14.1,
          4.5,
          6.5,
          12.3
         ]
        }
       ],
       "layout": {
        "barmode": "overlay",
        "template": {
         "data": {
          "bar": [
           {
            "error_x": {
             "color": "#2a3f5f"
            },
            "error_y": {
             "color": "#2a3f5f"
            },
            "marker": {
             "line": {
              "color": "#E5ECF6",
              "width": 0.5
             }
            },
            "type": "bar"
           }
          ],
          "barpolar": [
           {
            "marker": {
             "line": {
              "color": "#E5ECF6",
              "width": 0.5
             }
            },
            "type": "barpolar"
           }
          ],
          "carpet": [
           {
            "aaxis": {
             "endlinecolor": "#2a3f5f",
             "gridcolor": "white",
             "linecolor": "white",
             "minorgridcolor": "white",
             "startlinecolor": "#2a3f5f"
            },
            "baxis": {
             "endlinecolor": "#2a3f5f",
             "gridcolor": "white",
             "linecolor": "white",
             "minorgridcolor": "white",
             "startlinecolor": "#2a3f5f"
            },
            "type": "carpet"
           }
          ],
          "choropleth": [
           {
            "colorbar": {
             "outlinewidth": 0,
             "ticks": ""
            },
            "type": "choropleth"
           }
          ],
          "contour": [
           {
            "colorbar": {
             "outlinewidth": 0,
             "ticks": ""
            },
            "colorscale": [
             [
              0,
              "#0d0887"
             ],
             [
              0.1111111111111111,
              "#46039f"
             ],
             [
              0.2222222222222222,
              "#7201a8"
             ],
             [
              0.3333333333333333,
              "#9c179e"
             ],
             [
              0.4444444444444444,
              "#bd3786"
             ],
             [
              0.5555555555555556,
              "#d8576b"
             ],
             [
              0.6666666666666666,
              "#ed7953"
             ],
             [
              0.7777777777777778,
              "#fb9f3a"
             ],
             [
              0.8888888888888888,
              "#fdca26"
             ],
             [
              1,
              "#f0f921"
             ]
            ],
            "type": "contour"
           }
          ],
          "contourcarpet": [
           {
            "colorbar": {
             "outlinewidth": 0,
             "ticks": ""
            },
            "type": "contourcarpet"
           }
          ],
          "heatmap": [
           {
            "colorbar": {
             "outlinewidth": 0,
             "ticks": ""
            },
            "colorscale": [
             [
              0,
              "#0d0887"
             ],
             [
              0.1111111111111111,
              "#46039f"
             ],
             [
              0.2222222222222222,
              "#7201a8"
             ],
             [
              0.3333333333333333,
              "#9c179e"
             ],
             [
              0.4444444444444444,
              "#bd3786"
             ],
             [
              0.5555555555555556,
              "#d8576b"
             ],
             [
              0.6666666666666666,
              "#ed7953"
             ],
             [
              0.7777777777777778,
              "#fb9f3a"
             ],
             [
              0.8888888888888888,
              "#fdca26"
             ],
             [
              1,
              "#f0f921"
             ]
            ],
            "type": "heatmap"
           }
          ],
          "heatmapgl": [
           {
            "colorbar": {
             "outlinewidth": 0,
             "ticks": ""
            },
            "colorscale": [
             [
              0,
              "#0d0887"
             ],
             [
              0.1111111111111111,
              "#46039f"
             ],
             [
              0.2222222222222222,
              "#7201a8"
             ],
             [
              0.3333333333333333,
              "#9c179e"
             ],
             [
              0.4444444444444444,
              "#bd3786"
             ],
             [
              0.5555555555555556,
              "#d8576b"
             ],
             [
              0.6666666666666666,
              "#ed7953"
             ],
             [
              0.7777777777777778,
              "#fb9f3a"
             ],
             [
              0.8888888888888888,
              "#fdca26"
             ],
             [
              1,
              "#f0f921"
             ]
            ],
            "type": "heatmapgl"
           }
          ],
          "histogram": [
           {
            "marker": {
             "colorbar": {
              "outlinewidth": 0,
              "ticks": ""
             }
            },
            "type": "histogram"
           }
          ],
          "histogram2d": [
           {
            "colorbar": {
             "outlinewidth": 0,
             "ticks": ""
            },
            "colorscale": [
             [
              0,
              "#0d0887"
             ],
             [
              0.1111111111111111,
              "#46039f"
             ],
             [
              0.2222222222222222,
              "#7201a8"
             ],
             [
              0.3333333333333333,
              "#9c179e"
             ],
             [
              0.4444444444444444,
              "#bd3786"
             ],
             [
              0.5555555555555556,
              "#d8576b"
             ],
             [
              0.6666666666666666,
              "#ed7953"
             ],
             [
              0.7777777777777778,
              "#fb9f3a"
             ],
             [
              0.8888888888888888,
              "#fdca26"
             ],
             [
              1,
              "#f0f921"
             ]
            ],
            "type": "histogram2d"
           }
          ],
          "histogram2dcontour": [
           {
            "colorbar": {
             "outlinewidth": 0,
             "ticks": ""
            },
            "colorscale": [
             [
              0,
              "#0d0887"
             ],
             [
              0.1111111111111111,
              "#46039f"
             ],
             [
              0.2222222222222222,
              "#7201a8"
             ],
             [
              0.3333333333333333,
              "#9c179e"
             ],
             [
              0.4444444444444444,
              "#bd3786"
             ],
             [
              0.5555555555555556,
              "#d8576b"
             ],
             [
              0.6666666666666666,
              "#ed7953"
             ],
             [
              0.7777777777777778,
              "#fb9f3a"
             ],
             [
              0.8888888888888888,
              "#fdca26"
             ],
             [
              1,
              "#f0f921"
             ]
            ],
            "type": "histogram2dcontour"
           }
          ],
          "mesh3d": [
           {
            "colorbar": {
             "outlinewidth": 0,
             "ticks": ""
            },
            "type": "mesh3d"
           }
          ],
          "parcoords": [
           {
            "line": {
             "colorbar": {
              "outlinewidth": 0,
              "ticks": ""
             }
            },
            "type": "parcoords"
           }
          ],
          "scatter": [
           {
            "marker": {
             "colorbar": {
              "outlinewidth": 0,
              "ticks": ""
             }
            },
            "type": "scatter"
           }
          ],
          "scatter3d": [
           {
            "line": {
             "colorbar": {
              "outlinewidth": 0,
              "ticks": ""
             }
            },
            "marker": {
             "colorbar": {
              "outlinewidth": 0,
              "ticks": ""
             }
            },
            "type": "scatter3d"
           }
          ],
          "scattercarpet": [
           {
            "marker": {
             "colorbar": {
              "outlinewidth": 0,
              "ticks": ""
             }
            },
            "type": "scattercarpet"
           }
          ],
          "scattergeo": [
           {
            "marker": {
             "colorbar": {
              "outlinewidth": 0,
              "ticks": ""
             }
            },
            "type": "scattergeo"
           }
          ],
          "scattergl": [
           {
            "marker": {
             "colorbar": {
              "outlinewidth": 0,
              "ticks": ""
             }
            },
            "type": "scattergl"
           }
          ],
          "scattermapbox": [
           {
            "marker": {
             "colorbar": {
              "outlinewidth": 0,
              "ticks": ""
             }
            },
            "type": "scattermapbox"
           }
          ],
          "scatterpolar": [
           {
            "marker": {
             "colorbar": {
              "outlinewidth": 0,
              "ticks": ""
             }
            },
            "type": "scatterpolar"
           }
          ],
          "scatterpolargl": [
           {
            "marker": {
             "colorbar": {
              "outlinewidth": 0,
              "ticks": ""
             }
            },
            "type": "scatterpolargl"
           }
          ],
          "scatterternary": [
           {
            "marker": {
             "colorbar": {
              "outlinewidth": 0,
              "ticks": ""
             }
            },
            "type": "scatterternary"
           }
          ],
          "surface": [
           {
            "colorbar": {
             "outlinewidth": 0,
             "ticks": ""
            },
            "colorscale": [
             [
              0,
              "#0d0887"
             ],
             [
              0.1111111111111111,
              "#46039f"
             ],
             [
              0.2222222222222222,
              "#7201a8"
             ],
             [
              0.3333333333333333,
              "#9c179e"
             ],
             [
              0.4444444444444444,
              "#bd3786"
             ],
             [
              0.5555555555555556,
              "#d8576b"
             ],
             [
              0.6666666666666666,
              "#ed7953"
             ],
             [
              0.7777777777777778,
              "#fb9f3a"
             ],
             [
              0.8888888888888888,
              "#fdca26"
             ],
             [
              1,
              "#f0f921"
             ]
            ],
            "type": "surface"
           }
          ],
          "table": [
           {
            "cells": {
             "fill": {
              "color": "#EBF0F8"
             },
             "line": {
              "color": "white"
             }
            },
            "header": {
             "fill": {
              "color": "#C8D4E3"
             },
             "line": {
              "color": "white"
             }
            },
            "type": "table"
           }
          ]
         },
         "layout": {
          "annotationdefaults": {
           "arrowcolor": "#2a3f5f",
           "arrowhead": 0,
           "arrowwidth": 1
          },
          "colorscale": {
           "diverging": [
            [
             0,
             "#8e0152"
            ],
            [
             0.1,
             "#c51b7d"
            ],
            [
             0.2,
             "#de77ae"
            ],
            [
             0.3,
             "#f1b6da"
            ],
            [
             0.4,
             "#fde0ef"
            ],
            [
             0.5,
             "#f7f7f7"
            ],
            [
             0.6,
             "#e6f5d0"
            ],
            [
             0.7,
             "#b8e186"
            ],
            [
             0.8,
             "#7fbc41"
            ],
            [
             0.9,
             "#4d9221"
            ],
            [
             1,
             "#276419"
            ]
           ],
           "sequential": [
            [
             0,
             "#0d0887"
            ],
            [
             0.1111111111111111,
             "#46039f"
            ],
            [
             0.2222222222222222,
             "#7201a8"
            ],
            [
             0.3333333333333333,
             "#9c179e"
            ],
            [
             0.4444444444444444,
             "#bd3786"
            ],
            [
             0.5555555555555556,
             "#d8576b"
            ],
            [
             0.6666666666666666,
             "#ed7953"
            ],
            [
             0.7777777777777778,
             "#fb9f3a"
            ],
            [
             0.8888888888888888,
             "#fdca26"
            ],
            [
             1,
             "#f0f921"
            ]
           ],
           "sequentialminus": [
            [
             0,
             "#0d0887"
            ],
            [
             0.1111111111111111,
             "#46039f"
            ],
            [
             0.2222222222222222,
             "#7201a8"
            ],
            [
             0.3333333333333333,
             "#9c179e"
            ],
            [
             0.4444444444444444,
             "#bd3786"
            ],
            [
             0.5555555555555556,
             "#d8576b"
            ],
            [
             0.6666666666666666,
             "#ed7953"
            ],
            [
             0.7777777777777778,
             "#fb9f3a"
            ],
            [
             0.8888888888888888,
             "#fdca26"
            ],
            [
             1,
             "#f0f921"
            ]
           ]
          },
          "colorway": [
           "#636efa",
           "#EF553B",
           "#00cc96",
           "#ab63fa",
           "#FFA15A",
           "#19d3f3",
           "#FF6692",
           "#B6E880",
           "#FF97FF",
           "#FECB52"
          ],
          "font": {
           "color": "#2a3f5f"
          },
          "geo": {
           "bgcolor": "white",
           "lakecolor": "white",
           "landcolor": "#E5ECF6",
           "showlakes": true,
           "showland": true,
           "subunitcolor": "white"
          },
          "hoverlabel": {
           "align": "left"
          },
          "hovermode": "closest",
          "mapbox": {
           "style": "light"
          },
          "paper_bgcolor": "white",
          "plot_bgcolor": "#E5ECF6",
          "polar": {
           "angularaxis": {
            "gridcolor": "white",
            "linecolor": "white",
            "ticks": ""
           },
           "bgcolor": "#E5ECF6",
           "radialaxis": {
            "gridcolor": "white",
            "linecolor": "white",
            "ticks": ""
           }
          },
          "scene": {
           "xaxis": {
            "backgroundcolor": "#E5ECF6",
            "gridcolor": "white",
            "gridwidth": 2,
            "linecolor": "white",
            "showbackground": true,
            "ticks": "",
            "zerolinecolor": "white"
           },
           "yaxis": {
            "backgroundcolor": "#E5ECF6",
            "gridcolor": "white",
            "gridwidth": 2,
            "linecolor": "white",
            "showbackground": true,
            "ticks": "",
            "zerolinecolor": "white"
           },
           "zaxis": {
            "backgroundcolor": "#E5ECF6",
            "gridcolor": "white",
            "gridwidth": 2,
            "linecolor": "white",
            "showbackground": true,
            "ticks": "",
            "zerolinecolor": "white"
           }
          },
          "shapedefaults": {
           "line": {
            "color": "#2a3f5f"
           }
          },
          "ternary": {
           "aaxis": {
            "gridcolor": "white",
            "linecolor": "white",
            "ticks": ""
           },
           "baxis": {
            "gridcolor": "white",
            "linecolor": "white",
            "ticks": ""
           },
           "bgcolor": "#E5ECF6",
           "caxis": {
            "gridcolor": "white",
            "linecolor": "white",
            "ticks": ""
           }
          },
          "title": {
           "x": 0.05
          },
          "xaxis": {
           "automargin": true,
           "gridcolor": "white",
           "linecolor": "white",
           "ticks": "",
           "zerolinecolor": "white",
           "zerolinewidth": 2
          },
          "yaxis": {
           "automargin": true,
           "gridcolor": "white",
           "linecolor": "white",
           "ticks": "",
           "zerolinecolor": "white",
           "zerolinewidth": 2
          }
         }
        }
       }
      },
      "text/html": [
       "<div>\n",
       "        \n",
       "        \n",
       "            <div id=\"60bd3468-075e-4d5f-9725-49c722066468\" class=\"plotly-graph-div\" style=\"height:525px; width:100%;\"></div>\n",
       "            <script type=\"text/javascript\">\n",
       "                require([\"plotly\"], function(Plotly) {\n",
       "                    window.PLOTLYENV=window.PLOTLYENV || {};\n",
       "                    \n",
       "                if (document.getElementById(\"60bd3468-075e-4d5f-9725-49c722066468\")) {\n",
       "                    Plotly.newPlot(\n",
       "                        '60bd3468-075e-4d5f-9725-49c722066468',\n",
       "                        [{\"name\": \"1975\", \"nbinsx\": 60, \"opacity\": 0.75, \"type\": \"histogram\", \"x\": [0.4, 5.7, 5.9, 13.4, 0.7, 5.1, 11.1, 6.6, 10.5, 7.7, 5.8, 10.7, 12.0, 0.2, 7.4, 10.1, 11.3, 7.6, 1.0, 0.4, 4.2, 5.4, 2.2, 4.5, 2.3, 10.7, 0.4, 0.5, 1.0, 0.2, 1.2, 9.5, 1.1, 0.6, 10.2, 0.4, 5.5, 1.1, 1.3, 25.1, 4.5, 1.2, 9.4, 7.4, 5.4, 14.5, 1.6, 0.7, 7.5, 3.4, 6.0, 4.9, 4.3, 11.1, 5.0, 1.3, 0.5, 13.5, 3.1, 0.4, 8.0, 7.1, 9.1, 1.8, 0.8, 6.5, 9.9, 1.3, 10.5, 5.3, 4.4, 0.8, 0.8, 4.3, 2.8, 3.6, 13.3, 8.1, 0.3, 0.4, 5.8, 10.2, 6.5, 12.5, 9.1, 6.5, 1.0, 10.6, 6.1, 0.7, 13.9, 16.2, 4.2, 0.3, 14.1, 9.9, 3.1, 1.1, 9.3, 13.3, 8.3, 0.5, 0.6, 1.3, 0.5, 0.8, 14.8, 23.8, 1.0, 2.5, 8.3, 16.8, 4.5, 5.6, 5.6, 0.6, 0.5, 3.0, 41.5, 0.3, 5.6, 10.7, 5.8, 0.5, 0.8, 16.7, 8.0, 4.4, 0.9, 25.1, 5.2, 4.2, 3.6, 5.5, 0.6, 10.6, 5.7, 13.2, 0.5, 7.4, 8.5, 14.2, 0.4, 5.8, 4.6, 4.9, 17.6, 1.3, 9.5, 1.2, 7.9, 3.1, 1.1, 2.6, 7.9, 8.0, 4.2, 1.1, 8.7, 0.1, 10.3, 0.5, 0.9, 6.6, 8.6, 5.3, 7.2, 3.7, 0.7, 8.6, 0.2, 0.9, 17.8, 3.4, 6.5, 7.6, 5.0, 15.7, 0.5, 12.8, 10.8, 10.0, 0.7, 11.7, 11.8, 3.9, 4.7, 8.3, 2.5, 1.3, 3.0]}, {\"name\": \"2016\", \"nbinsx\": 120, \"opacity\": 0.75, \"type\": \"histogram\", \"x\": [4.5, 22.3, 26.6, 28.0, 6.8, 19.1, 28.5, 20.9, 30.4, 21.9, 19.9, 32.1, 28.7, 3.4, 24.8, 26.6, 24.5, 22.4, 8.2, 5.8, 18.7, 19.4, 16.1, 22.3, 14.7, 27.4, 4.5, 4.4, 10.6, 3.5, 9.5, 31.3, 6.3, 4.8, 28.8, 6.6, 22.1, 6.9, 8.4, 55.3, 25.7, 9.0, 27.1, 26.7, 22.6, 28.5, 7.1, 5.6, 21.3, 12.2, 28.2, 26.9, 19.3, 31.1, 22.7, 7.4, 4.1, 23.8, 13.5, 3.6, 30.0, 24.9, 23.2, 13.4, 8.7, 23.3, 25.7, 13.6, 9.7, 27.4, 20.2, 18.8, 6.6, 8.2, 19.2, 20.5, 19.4, 28.6, 23.1, 3.8, 6.9, 25.5, 27.4, 26.9, 26.7, 22.9, 24.4, 4.4, 33.4, 21.3, 6.0, 45.6, 19.1, 37.0, 15.4, 4.5, 25.7, 31.3, 13.5, 8.6, 31.8, 28.4, 24.2, 4.5, 4.7, 15.3, 7.9, 7.1, 31.0, 52.4, 11.3, 11.5, 28.4, 41.6, 19.6, 24.9, 25.6, 6.0, 5.7, 15.0, 60.7, 3.8, 23.1, 32.0, 21.8, 4.7, 7.8, 49.3, 25.0, 22.9, 7.8, 54.9, 22.5, 19.4, 19.0, 19.1, 6.0, 25.6, 23.2, 33.9, 4.9, 20.1, 24.5, 25.7, 4.8, 23.1, 19.8, 23.8, 45.5, 10.6, 35.0, 7.4, 23.5, 14.6, 7.5, 6.6, 22.4, 22.5, 20.5, 6.9, 27.0, 0.1, 27.1, 5.4, 7.4, 26.5, 22.1, 21.2, 25.8, 12.6, 10.8, 23.9, 2.9, 7.1, 45.9, 19.7, 27.3, 32.2, 17.5, 51.0, 4.1, 26.1, 29.9, 29.5, 7.1, 37.3, 28.9, 15.3, 23.5, 25.2, 2.1, 14.1, 4.5, 6.5, 12.3]}],\n",
       "                        {\"barmode\": \"overlay\", \"template\": {\"data\": {\"bar\": [{\"error_x\": {\"color\": \"#2a3f5f\"}, \"error_y\": {\"color\": \"#2a3f5f\"}, \"marker\": {\"line\": {\"color\": \"#E5ECF6\", \"width\": 0.5}}, \"type\": \"bar\"}], \"barpolar\": [{\"marker\": {\"line\": {\"color\": \"#E5ECF6\", \"width\": 0.5}}, \"type\": \"barpolar\"}], \"carpet\": [{\"aaxis\": {\"endlinecolor\": \"#2a3f5f\", \"gridcolor\": \"white\", \"linecolor\": \"white\", \"minorgridcolor\": \"white\", \"startlinecolor\": \"#2a3f5f\"}, \"baxis\": {\"endlinecolor\": \"#2a3f5f\", \"gridcolor\": \"white\", \"linecolor\": \"white\", \"minorgridcolor\": \"white\", \"startlinecolor\": \"#2a3f5f\"}, \"type\": \"carpet\"}], \"choropleth\": [{\"colorbar\": {\"outlinewidth\": 0, \"ticks\": \"\"}, \"type\": \"choropleth\"}], \"contour\": [{\"colorbar\": {\"outlinewidth\": 0, \"ticks\": \"\"}, \"colorscale\": [[0.0, \"#0d0887\"], [0.1111111111111111, \"#46039f\"], [0.2222222222222222, \"#7201a8\"], [0.3333333333333333, \"#9c179e\"], [0.4444444444444444, \"#bd3786\"], [0.5555555555555556, \"#d8576b\"], [0.6666666666666666, \"#ed7953\"], [0.7777777777777778, \"#fb9f3a\"], [0.8888888888888888, \"#fdca26\"], [1.0, \"#f0f921\"]], \"type\": \"contour\"}], \"contourcarpet\": [{\"colorbar\": {\"outlinewidth\": 0, \"ticks\": \"\"}, \"type\": \"contourcarpet\"}], \"heatmap\": [{\"colorbar\": {\"outlinewidth\": 0, \"ticks\": \"\"}, \"colorscale\": [[0.0, \"#0d0887\"], [0.1111111111111111, \"#46039f\"], [0.2222222222222222, \"#7201a8\"], [0.3333333333333333, \"#9c179e\"], [0.4444444444444444, \"#bd3786\"], [0.5555555555555556, \"#d8576b\"], [0.6666666666666666, \"#ed7953\"], [0.7777777777777778, \"#fb9f3a\"], [0.8888888888888888, \"#fdca26\"], [1.0, \"#f0f921\"]], \"type\": \"heatmap\"}], \"heatmapgl\": [{\"colorbar\": {\"outlinewidth\": 0, \"ticks\": \"\"}, \"colorscale\": [[0.0, \"#0d0887\"], [0.1111111111111111, \"#46039f\"], [0.2222222222222222, \"#7201a8\"], [0.3333333333333333, \"#9c179e\"], [0.4444444444444444, \"#bd3786\"], [0.5555555555555556, \"#d8576b\"], [0.6666666666666666, \"#ed7953\"], [0.7777777777777778, \"#fb9f3a\"], [0.8888888888888888, \"#fdca26\"], [1.0, \"#f0f921\"]], \"type\": \"heatmapgl\"}], \"histogram\": [{\"marker\": {\"colorbar\": {\"outlinewidth\": 0, \"ticks\": \"\"}}, \"type\": \"histogram\"}], \"histogram2d\": [{\"colorbar\": {\"outlinewidth\": 0, \"ticks\": \"\"}, \"colorscale\": [[0.0, \"#0d0887\"], [0.1111111111111111, \"#46039f\"], [0.2222222222222222, \"#7201a8\"], [0.3333333333333333, \"#9c179e\"], [0.4444444444444444, \"#bd3786\"], [0.5555555555555556, \"#d8576b\"], [0.6666666666666666, \"#ed7953\"], [0.7777777777777778, \"#fb9f3a\"], [0.8888888888888888, \"#fdca26\"], [1.0, \"#f0f921\"]], \"type\": \"histogram2d\"}], \"histogram2dcontour\": [{\"colorbar\": {\"outlinewidth\": 0, \"ticks\": \"\"}, \"colorscale\": [[0.0, \"#0d0887\"], [0.1111111111111111, \"#46039f\"], [0.2222222222222222, \"#7201a8\"], [0.3333333333333333, \"#9c179e\"], [0.4444444444444444, \"#bd3786\"], [0.5555555555555556, \"#d8576b\"], [0.6666666666666666, \"#ed7953\"], [0.7777777777777778, \"#fb9f3a\"], [0.8888888888888888, \"#fdca26\"], [1.0, \"#f0f921\"]], \"type\": \"histogram2dcontour\"}], \"mesh3d\": [{\"colorbar\": {\"outlinewidth\": 0, \"ticks\": \"\"}, \"type\": \"mesh3d\"}], \"parcoords\": [{\"line\": {\"colorbar\": {\"outlinewidth\": 0, \"ticks\": \"\"}}, \"type\": \"parcoords\"}], \"scatter\": [{\"marker\": {\"colorbar\": {\"outlinewidth\": 0, \"ticks\": \"\"}}, \"type\": \"scatter\"}], \"scatter3d\": [{\"line\": {\"colorbar\": {\"outlinewidth\": 0, \"ticks\": \"\"}}, \"marker\": {\"colorbar\": {\"outlinewidth\": 0, \"ticks\": \"\"}}, \"type\": \"scatter3d\"}], \"scattercarpet\": [{\"marker\": {\"colorbar\": {\"outlinewidth\": 0, \"ticks\": \"\"}}, \"type\": \"scattercarpet\"}], \"scattergeo\": [{\"marker\": {\"colorbar\": {\"outlinewidth\": 0, \"ticks\": \"\"}}, \"type\": \"scattergeo\"}], \"scattergl\": [{\"marker\": {\"colorbar\": {\"outlinewidth\": 0, \"ticks\": \"\"}}, \"type\": \"scattergl\"}], \"scattermapbox\": [{\"marker\": {\"colorbar\": {\"outlinewidth\": 0, \"ticks\": \"\"}}, \"type\": \"scattermapbox\"}], \"scatterpolar\": [{\"marker\": {\"colorbar\": {\"outlinewidth\": 0, \"ticks\": \"\"}}, \"type\": \"scatterpolar\"}], \"scatterpolargl\": [{\"marker\": {\"colorbar\": {\"outlinewidth\": 0, \"ticks\": \"\"}}, \"type\": \"scatterpolargl\"}], \"scatterternary\": [{\"marker\": {\"colorbar\": {\"outlinewidth\": 0, \"ticks\": \"\"}}, \"type\": \"scatterternary\"}], \"surface\": [{\"colorbar\": {\"outlinewidth\": 0, \"ticks\": \"\"}, \"colorscale\": [[0.0, \"#0d0887\"], [0.1111111111111111, \"#46039f\"], [0.2222222222222222, \"#7201a8\"], [0.3333333333333333, \"#9c179e\"], [0.4444444444444444, \"#bd3786\"], [0.5555555555555556, \"#d8576b\"], [0.6666666666666666, \"#ed7953\"], [0.7777777777777778, \"#fb9f3a\"], [0.8888888888888888, \"#fdca26\"], [1.0, \"#f0f921\"]], \"type\": \"surface\"}], \"table\": [{\"cells\": {\"fill\": {\"color\": \"#EBF0F8\"}, \"line\": {\"color\": \"white\"}}, \"header\": {\"fill\": {\"color\": \"#C8D4E3\"}, \"line\": {\"color\": \"white\"}}, \"type\": \"table\"}]}, \"layout\": {\"annotationdefaults\": {\"arrowcolor\": \"#2a3f5f\", \"arrowhead\": 0, \"arrowwidth\": 1}, \"colorscale\": {\"diverging\": [[0, \"#8e0152\"], [0.1, \"#c51b7d\"], [0.2, \"#de77ae\"], [0.3, \"#f1b6da\"], [0.4, \"#fde0ef\"], [0.5, \"#f7f7f7\"], [0.6, \"#e6f5d0\"], [0.7, \"#b8e186\"], [0.8, \"#7fbc41\"], [0.9, \"#4d9221\"], [1, \"#276419\"]], \"sequential\": [[0.0, \"#0d0887\"], [0.1111111111111111, \"#46039f\"], [0.2222222222222222, \"#7201a8\"], [0.3333333333333333, \"#9c179e\"], [0.4444444444444444, \"#bd3786\"], [0.5555555555555556, \"#d8576b\"], [0.6666666666666666, \"#ed7953\"], [0.7777777777777778, \"#fb9f3a\"], [0.8888888888888888, \"#fdca26\"], [1.0, \"#f0f921\"]], \"sequentialminus\": [[0.0, \"#0d0887\"], [0.1111111111111111, \"#46039f\"], [0.2222222222222222, \"#7201a8\"], [0.3333333333333333, \"#9c179e\"], [0.4444444444444444, \"#bd3786\"], [0.5555555555555556, \"#d8576b\"], [0.6666666666666666, \"#ed7953\"], [0.7777777777777778, \"#fb9f3a\"], [0.8888888888888888, \"#fdca26\"], [1.0, \"#f0f921\"]]}, \"colorway\": [\"#636efa\", \"#EF553B\", \"#00cc96\", \"#ab63fa\", \"#FFA15A\", \"#19d3f3\", \"#FF6692\", \"#B6E880\", \"#FF97FF\", \"#FECB52\"], \"font\": {\"color\": \"#2a3f5f\"}, \"geo\": {\"bgcolor\": \"white\", \"lakecolor\": \"white\", \"landcolor\": \"#E5ECF6\", \"showlakes\": true, \"showland\": true, \"subunitcolor\": \"white\"}, \"hoverlabel\": {\"align\": \"left\"}, \"hovermode\": \"closest\", \"mapbox\": {\"style\": \"light\"}, \"paper_bgcolor\": \"white\", \"plot_bgcolor\": \"#E5ECF6\", \"polar\": {\"angularaxis\": {\"gridcolor\": \"white\", \"linecolor\": \"white\", \"ticks\": \"\"}, \"bgcolor\": \"#E5ECF6\", \"radialaxis\": {\"gridcolor\": \"white\", \"linecolor\": \"white\", \"ticks\": \"\"}}, \"scene\": {\"xaxis\": {\"backgroundcolor\": \"#E5ECF6\", \"gridcolor\": \"white\", \"gridwidth\": 2, \"linecolor\": \"white\", \"showbackground\": true, \"ticks\": \"\", \"zerolinecolor\": \"white\"}, \"yaxis\": {\"backgroundcolor\": \"#E5ECF6\", \"gridcolor\": \"white\", \"gridwidth\": 2, \"linecolor\": \"white\", \"showbackground\": true, \"ticks\": \"\", \"zerolinecolor\": \"white\"}, \"zaxis\": {\"backgroundcolor\": \"#E5ECF6\", \"gridcolor\": \"white\", \"gridwidth\": 2, \"linecolor\": \"white\", \"showbackground\": true, \"ticks\": \"\", \"zerolinecolor\": \"white\"}}, \"shapedefaults\": {\"line\": {\"color\": \"#2a3f5f\"}}, \"ternary\": {\"aaxis\": {\"gridcolor\": \"white\", \"linecolor\": \"white\", \"ticks\": \"\"}, \"baxis\": {\"gridcolor\": \"white\", \"linecolor\": \"white\", \"ticks\": \"\"}, \"bgcolor\": \"#E5ECF6\", \"caxis\": {\"gridcolor\": \"white\", \"linecolor\": \"white\", \"ticks\": \"\"}}, \"title\": {\"x\": 0.05}, \"xaxis\": {\"automargin\": true, \"gridcolor\": \"white\", \"linecolor\": \"white\", \"ticks\": \"\", \"zerolinecolor\": \"white\", \"zerolinewidth\": 2}, \"yaxis\": {\"automargin\": true, \"gridcolor\": \"white\", \"linecolor\": \"white\", \"ticks\": \"\", \"zerolinecolor\": \"white\", \"zerolinewidth\": 2}}}},\n",
       "                        {\"responsive\": true}\n",
       "                    ).then(function(){\n",
       "                            \n",
       "var gd = document.getElementById('60bd3468-075e-4d5f-9725-49c722066468');\n",
       "var x = new MutationObserver(function (mutations, observer) {{\n",
       "        var display = window.getComputedStyle(gd).display;\n",
       "        if (!display || display === 'none') {{\n",
       "            console.log([gd, 'removed!']);\n",
       "            Plotly.purge(gd);\n",
       "            observer.disconnect();\n",
       "        }}\n",
       "}});\n",
       "\n",
       "// Listen for the removal of the full notebook cells\n",
       "var notebookContainer = gd.closest('#notebook-container');\n",
       "if (notebookContainer) {{\n",
       "    x.observe(notebookContainer, {childList: true});\n",
       "}}\n",
       "\n",
       "// Listen for the clearing of the current output cell\n",
       "var outputEl = gd.closest('.output');\n",
       "if (outputEl) {{\n",
       "    x.observe(outputEl, {childList: true});\n",
       "}}\n",
       "\n",
       "                        })\n",
       "                };\n",
       "                });\n",
       "            </script>\n",
       "        </div>"
      ]
     },
     "metadata": {},
     "output_type": "display_data"
    }
   ],
   "source": [
    "# Static histograms of the prevalence of obesity among adults between 1975 and present\n",
    "fig = go.Figure()\n",
    "fig.add_trace(go.Histogram(x = obs[obs['year'] == obs.year.min()]['pct_obese'], nbinsx = 60, name = '1975'))\n",
    "fig.add_trace(go.Histogram(x = obs[obs['latest'] == True]['pct_obese'], nbinsx = 120, name = '2016'))\n",
    "\n",
    "fig.update_layout(barmode = 'overlay')\n",
    "fig.update_traces(opacity = 0.75)\n",
    "\n",
    "fig.show()"
   ]
  },
  {
   "cell_type": "code",
   "execution_count": 11,
   "metadata": {},
   "outputs": [
    {
     "data": {
      "application/vnd.plotly.v1+json": {
       "config": {
        "plotlyServerURL": "https://plot.ly"
       },
       "data": [
        {
         "alignmentgroup": "True",
         "bingroup": "x",
         "hoverlabel": {
          "namelength": 0
         },
         "hovertemplate": "year=1975<br>pct_obese=%{x}<br>count=%{y}",
         "legendgroup": "",
         "marker": {
          "color": "#636efa"
         },
         "name": "",
         "nbinsx": 60,
         "offsetgroup": "",
         "orientation": "v",
         "showlegend": false,
         "type": "histogram",
         "x": [
          0.8,
          0.5,
          13.9,
          13.5,
          3.1,
          0.5,
          3.7,
          0.7,
          6.1,
          13.4,
          0.4,
          5.8,
          10.5,
          8.7,
          7.1,
          13.2,
          1,
          10.6,
          9.1,
          0.4,
          0.5,
          5.7,
          1,
          7.6,
          1.1,
          8,
          10.7,
          5,
          0.5,
          14.2,
          0.3,
          11.3,
          9.9,
          4.3,
          15.7,
          14.1,
          5.6,
          11.1,
          0.1,
          5,
          8.5,
          1.3,
          7.6,
          0.3,
          2.2,
          1.3,
          1,
          7.7,
          2.6,
          4.2,
          16.2,
          8.3,
          7.9,
          7.4,
          1.8,
          0.2,
          10.6,
          0.8,
          6.6,
          4.4,
          3.6,
          17.8,
          5.4,
          0.4,
          0.8,
          4.2,
          4.4,
          16.8,
          11.1,
          5.8,
          4.3,
          0.2,
          0.3,
          5.2,
          8.1,
          2.8,
          3.6,
          0.9,
          25.1,
          0.9,
          4.2,
          3.9,
          4.5,
          10.2,
          2.3,
          8,
          8.6,
          6.5,
          6.5,
          11.8,
          6.5,
          0.8,
          10.7,
          0.4,
          9.1,
          0.7,
          9.9,
          12.5,
          8,
          0.6,
          4.2,
          16.7,
          1.3,
          3.4,
          4.7,
          6.5,
          10.5,
          5.1,
          5.5,
          2.5,
          5.3,
          0.7,
          11.7,
          13.3,
          0.5,
          5.7,
          17.6,
          0.6,
          7.4,
          10.3,
          1.1,
          5.4,
          12.8,
          1.3,
          12,
          0.6,
          0.5,
          4.5,
          4.5,
          14.5,
          5.8,
          1.6,
          1,
          4.9,
          1.3,
          8.6,
          5.6,
          0.8,
          14.8,
          0.4,
          9.5,
          1.3,
          0.2,
          0.7,
          7.4,
          1.2,
          0.5,
          9.4,
          25.1,
          23.8,
          1.1,
          6.6,
          3.1,
          5.6,
          0.5,
          0.6,
          1.2,
          10,
          10.8,
          9.3,
          7.9,
          3,
          9.5,
          6,
          7.2,
          1.2,
          1.1,
          10.1,
          8.3,
          5.9,
          1.1,
          3.4,
          5.8,
          10.2,
          4.6,
          0.4,
          10.7,
          3,
          5.5,
          5.3,
          0.7,
          4.9,
          3.1,
          8.3,
          0.9,
          41.5,
          0.4,
          7.5,
          0.5,
          13.3,
          2.5
         ],
         "xaxis": "x",
         "yaxis": "y"
        }
       ],
       "frames": [
        {
         "data": [
          {
           "alignmentgroup": "True",
           "bingroup": "x",
           "hoverlabel": {
            "namelength": 0
           },
           "hovertemplate": "year=1975<br>pct_obese=%{x}<br>count=%{y}",
           "legendgroup": "",
           "marker": {
            "color": "#636efa"
           },
           "name": "",
           "nbinsx": 60,
           "offsetgroup": "",
           "orientation": "v",
           "showlegend": false,
           "type": "histogram",
           "x": [
            0.8,
            0.5,
            13.9,
            13.5,
            3.1,
            0.5,
            3.7,
            0.7,
            6.1,
            13.4,
            0.4,
            5.8,
            10.5,
            8.7,
            7.1,
            13.2,
            1,
            10.6,
            9.1,
            0.4,
            0.5,
            5.7,
            1,
            7.6,
            1.1,
            8,
            10.7,
            5,
            0.5,
            14.2,
            0.3,
            11.3,
            9.9,
            4.3,
            15.7,
            14.1,
            5.6,
            11.1,
            0.1,
            5,
            8.5,
            1.3,
            7.6,
            0.3,
            2.2,
            1.3,
            1,
            7.7,
            2.6,
            4.2,
            16.2,
            8.3,
            7.9,
            7.4,
            1.8,
            0.2,
            10.6,
            0.8,
            6.6,
            4.4,
            3.6,
            17.8,
            5.4,
            0.4,
            0.8,
            4.2,
            4.4,
            16.8,
            11.1,
            5.8,
            4.3,
            0.2,
            0.3,
            5.2,
            8.1,
            2.8,
            3.6,
            0.9,
            25.1,
            0.9,
            4.2,
            3.9,
            4.5,
            10.2,
            2.3,
            8,
            8.6,
            6.5,
            6.5,
            11.8,
            6.5,
            0.8,
            10.7,
            0.4,
            9.1,
            0.7,
            9.9,
            12.5,
            8,
            0.6,
            4.2,
            16.7,
            1.3,
            3.4,
            4.7,
            6.5,
            10.5,
            5.1,
            5.5,
            2.5,
            5.3,
            0.7,
            11.7,
            13.3,
            0.5,
            5.7,
            17.6,
            0.6,
            7.4,
            10.3,
            1.1,
            5.4,
            12.8,
            1.3,
            12,
            0.6,
            0.5,
            4.5,
            4.5,
            14.5,
            5.8,
            1.6,
            1,
            4.9,
            1.3,
            8.6,
            5.6,
            0.8,
            14.8,
            0.4,
            9.5,
            1.3,
            0.2,
            0.7,
            7.4,
            1.2,
            0.5,
            9.4,
            25.1,
            23.8,
            1.1,
            6.6,
            3.1,
            5.6,
            0.5,
            0.6,
            1.2,
            10,
            10.8,
            9.3,
            7.9,
            3,
            9.5,
            6,
            7.2,
            1.2,
            1.1,
            10.1,
            8.3,
            5.9,
            1.1,
            3.4,
            5.8,
            10.2,
            4.6,
            0.4,
            10.7,
            3,
            5.5,
            5.3,
            0.7,
            4.9,
            3.1,
            8.3,
            0.9,
            41.5,
            0.4,
            7.5,
            0.5,
            13.3,
            2.5
           ],
           "xaxis": "x",
           "yaxis": "y"
          }
         ],
         "name": "1975"
        },
        {
         "data": [
          {
           "alignmentgroup": "True",
           "bingroup": "x",
           "hoverlabel": {
            "namelength": 0
           },
           "hovertemplate": "year=1976<br>pct_obese=%{x}<br>count=%{y}",
           "legendgroup": "",
           "marker": {
            "color": "#636efa"
           },
           "name": "",
           "nbinsx": 60,
           "offsetgroup": "",
           "orientation": "v",
           "showlegend": false,
           "type": "histogram",
           "x": [
            11,
            4.3,
            2.6,
            1.2,
            4.9,
            0.9,
            24.6,
            6.7,
            8.3,
            11.5,
            2.3,
            4.6,
            0.2,
            0.4,
            4.7,
            2.6,
            12,
            6,
            0.5,
            5.6,
            8.6,
            6.8,
            1.1,
            7,
            8.4,
            5.9,
            10.6,
            0.3,
            3.2,
            0.6,
            17.2,
            0.5,
            3.8,
            14.6,
            5.9,
            5.4,
            10.7,
            11,
            8.6,
            8.6,
            16.6,
            13.8,
            0.7,
            3.1,
            10.5,
            9.9,
            7.7,
            0.1,
            1.2,
            5.8,
            14.4,
            7.4,
            41.9,
            11.5,
            0.3,
            7.8,
            15,
            0.5,
            0.6,
            4.4,
            0.8,
            12.8,
            0.2,
            9.4,
            7.6,
            0.4,
            0.8,
            6.7,
            5.8,
            9,
            6,
            10.4,
            0.8,
            1.1,
            0.6,
            1.1,
            10.9,
            8.9,
            0.6,
            10.7,
            1.4,
            1,
            6.3,
            8.8,
            0.3,
            4.3,
            17.2,
            13.1,
            13.7,
            5.7,
            0.5,
            18.1,
            5.8,
            3.3,
            0.5,
            7.7,
            14,
            0.4,
            8.3,
            1.2,
            7.4,
            13.5,
            3.3,
            9.3,
            0.4,
            9.8,
            1.3,
            9.8,
            5.9,
            2,
            7.9,
            1.4,
            10.8,
            0.8,
            5.1,
            7.6,
            8.2,
            5,
            1.3,
            1.2,
            6.1,
            6.1,
            3.6,
            6.3,
            0.5,
            0.4,
            5.2,
            7.8,
            12.1,
            0.8,
            14.5,
            0.4,
            0.2,
            4.5,
            16.3,
            1.6,
            11.4,
            5.2,
            14.9,
            1.4,
            8.8,
            13.6,
            1.3,
            2.6,
            1,
            0.5,
            4.8,
            6.8,
            0.8,
            4.5,
            5.4,
            4.4,
            1.4,
            10.8,
            10.1,
            5.5,
            8.2,
            5.3,
            5.7,
            3.5,
            4.8,
            1.1,
            4.5,
            3.7,
            0.8,
            18.4,
            10.2,
            5.7,
            1.3,
            0.8,
            2.4,
            2.9,
            10.5,
            0.5,
            10.9,
            4,
            12.1,
            3.2,
            6.8,
            25.6,
            1,
            11.1,
            4.7,
            0.7,
            3.8,
            0.8,
            0.6,
            25.6,
            8.3,
            1.4,
            10.1
           ],
           "xaxis": "x",
           "yaxis": "y"
          }
         ],
         "name": "1976"
        },
        {
         "data": [
          {
           "alignmentgroup": "True",
           "bingroup": "x",
           "hoverlabel": {
            "namelength": 0
           },
           "hovertemplate": "year=1977<br>pct_obese=%{x}<br>count=%{y}",
           "legendgroup": "",
           "marker": {
            "color": "#636efa"
           },
           "name": "",
           "nbinsx": 60,
           "offsetgroup": "",
           "orientation": "v",
           "showlegend": false,
           "type": "histogram",
           "x": [
            0.5,
            8.9,
            0.6,
            0.5,
            5.6,
            3.7,
            5.9,
            10.8,
            14.2,
            0.8,
            8,
            1,
            8.9,
            1.7,
            15.2,
            12.1,
            0.9,
            0.2,
            1.4,
            7.8,
            25.3,
            4.8,
            26.1,
            0.7,
            1.2,
            0.6,
            9,
            0.8,
            2.7,
            10.2,
            7.4,
            6,
            1.2,
            1.5,
            1.4,
            1.2,
            10.9,
            13.4,
            0.6,
            15.3,
            10,
            10.5,
            8,
            10.6,
            13.9,
            1.4,
            5.6,
            5.1,
            11.2,
            13.1,
            1.4,
            4.5,
            10.3,
            7,
            9.7,
            11.5,
            0.4,
            6.9,
            12.4,
            7,
            9.3,
            0.9,
            7.1,
            0.8,
            3.6,
            11,
            1,
            2.4,
            8.6,
            0.4,
            3.1,
            5,
            4.2,
            2.3,
            4.6,
            0.8,
            0.4,
            6.3,
            0.9,
            19,
            5.9,
            4.7,
            0.2,
            10.9,
            1.1,
            11.2,
            0.3,
            7.9,
            5.4,
            11.8,
            14.7,
            16.9,
            4.7,
            1.1,
            0.2,
            10.9,
            3.4,
            12.4,
            5.5,
            6.6,
            7.6,
            1.3,
            11.7,
            8.2,
            4.4,
            17,
            2.2,
            0.4,
            9.6,
            1.1,
            6.5,
            7.7,
            8.6,
            0.5,
            0.8,
            0.6,
            3.8,
            15.2,
            3.5,
            8.8,
            14,
            5.2,
            0.5,
            1.4,
            4,
            6,
            3.5,
            8.6,
            7.9,
            1.5,
            0.7,
            17.8,
            0.6,
            0.5,
            0.1,
            8.6,
            2.7,
            14.5,
            1.5,
            7,
            4.9,
            13.8,
            11.8,
            6.1,
            10.6,
            1,
            4.5,
            0.9,
            0.5,
            2.6,
            9.1,
            42.4,
            0.3,
            6,
            1.3,
            6.2,
            6.3,
            8,
            0.5,
            11.3,
            11,
            11.1,
            5.2,
            3.3,
            14.7,
            6.2,
            6,
            18.6,
            6,
            0.6,
            9.1,
            1.2,
            0.5,
            6.2,
            4.9,
            3.9,
            8.7,
            0.6,
            8.5,
            17.6,
            1.3,
            0.8,
            4.8,
            11.2,
            5.6,
            5.4,
            3.3,
            5.9,
            4.6,
            11.1,
            26.2
           ],
           "xaxis": "x",
           "yaxis": "y"
          }
         ],
         "name": "1977"
        },
        {
         "data": [
          {
           "alignmentgroup": "True",
           "bingroup": "x",
           "hoverlabel": {
            "namelength": 0
           },
           "hovertemplate": "year=1978<br>pct_obese=%{x}<br>count=%{y}",
           "legendgroup": "",
           "marker": {
            "color": "#636efa"
           },
           "name": "",
           "nbinsx": 60,
           "offsetgroup": "",
           "orientation": "v",
           "showlegend": false,
           "type": "histogram",
           "x": [
            6.2,
            0.2,
            6.4,
            0.8,
            0.9,
            11.9,
            6.8,
            17.6,
            0.7,
            1.2,
            0.7,
            12.1,
            8.3,
            1.5,
            11.5,
            2.3,
            0.3,
            9.3,
            11.5,
            5.6,
            2.7,
            0.9,
            10.6,
            1.2,
            1.5,
            15,
            19.5,
            12.7,
            4,
            8,
            6.4,
            6.2,
            1.5,
            3.9,
            6.5,
            5.6,
            0.3,
            0.6,
            8.2,
            4.5,
            6.9,
            15,
            17.4,
            1.3,
            0.5,
            11.7,
            5.8,
            4.9,
            11.5,
            0.9,
            3.7,
            9.2,
            4.9,
            11.3,
            15.9,
            5.8,
            26.7,
            9.6,
            9.4,
            0.5,
            3.2,
            4.7,
            1.5,
            6.1,
            7.2,
            8.9,
            6.5,
            5.3,
            5.8,
            0.5,
            8.1,
            9.8,
            4.2,
            14.2,
            0.2,
            7.3,
            12.1,
            0.4,
            2.4,
            0.5,
            8.8,
            1.1,
            6.4,
            2.6,
            1,
            11.4,
            8.5,
            1,
            11.4,
            1.2,
            0.6,
            7.2,
            14.2,
            4.9,
            0.9,
            9,
            7,
            4.8,
            1.1,
            0.4,
            0.6,
            8.9,
            7.3,
            12,
            8.2,
            9.9,
            5.2,
            4.7,
            18.4,
            13.4,
            14.2,
            4.3,
            8.9,
            0.8,
            5.1,
            5.3,
            3.7,
            0.6,
            5.2,
            12.7,
            2.8,
            15,
            18,
            3.9,
            11.1,
            6.1,
            5.8,
            0.9,
            11.2,
            6.1,
            1.6,
            25.9,
            0.6,
            6.4,
            8.3,
            6.5,
            7.8,
            3.4,
            14.7,
            1.3,
            11.2,
            1.2,
            13.7,
            11.2,
            12.1,
            19,
            11.4,
            15.4,
            10.6,
            0.6,
            3.5,
            9.3,
            6.2,
            1.5,
            8,
            0.7,
            1.5,
            1.5,
            0.8,
            0.5,
            3.6,
            0.1,
            0.6,
            0.7,
            0.2,
            1.3,
            26.6,
            0.5,
            1,
            5,
            10.7,
            9.1,
            6.2,
            7.9,
            10.3,
            9.3,
            11.5,
            5.4,
            15.8,
            1.4,
            11.1,
            3.4,
            42.8,
            8.8,
            2.8,
            0.9,
            1.4,
            0.5,
            5,
            1.8,
            1
           ],
           "xaxis": "x",
           "yaxis": "y"
          }
         ],
         "name": "1978"
        },
        {
         "data": [
          {
           "alignmentgroup": "True",
           "bingroup": "x",
           "hoverlabel": {
            "namelength": 0
           },
           "hovertemplate": "year=1979<br>pct_obese=%{x}<br>count=%{y}",
           "legendgroup": "",
           "marker": {
            "color": "#636efa"
           },
           "name": "",
           "nbinsx": 60,
           "offsetgroup": "",
           "orientation": "v",
           "showlegend": false,
           "type": "histogram",
           "x": [
            27.1,
            0.8,
            6.4,
            0.5,
            0.3,
            7.5,
            5.5,
            9.2,
            1,
            4.2,
            1.6,
            9.6,
            6.8,
            11.8,
            8.4,
            5.6,
            11.9,
            4.4,
            5.2,
            0.2,
            0.7,
            18.4,
            9.2,
            2.3,
            0.5,
            3.9,
            6.5,
            0.7,
            3.6,
            6,
            6.4,
            8.3,
            0.5,
            7.5,
            15.6,
            9.5,
            0.6,
            3.8,
            11.7,
            0.5,
            1,
            5.8,
            5.1,
            1.1,
            10.1,
            0.2,
            8.3,
            1.1,
            11,
            7.6,
            10.8,
            1.4,
            11.7,
            6,
            4.4,
            13,
            6.8,
            1.5,
            4.9,
            9.1,
            1.3,
            3.3,
            7.6,
            9.4,
            5.5,
            12.4,
            12.3,
            4.9,
            0.9,
            27.3,
            14.5,
            1,
            14.6,
            11.7,
            15.6,
            12.5,
            0.7,
            20.1,
            0.4,
            2.6,
            1.6,
            1,
            0.5,
            1.1,
            9,
            11.4,
            5.2,
            6.6,
            2.7,
            26.5,
            0.9,
            1.7,
            0.6,
            8.8,
            2.9,
            13.8,
            5.1,
            11.3,
            3.7,
            9.4,
            14.1,
            11.8,
            9.5,
            5.1,
            19.5,
            15.1,
            11.5,
            16.6,
            13.1,
            0.5,
            3.9,
            3.9,
            11.6,
            3.6,
            6.6,
            0.9,
            0.3,
            15.3,
            6.9,
            6.3,
            7,
            18.3,
            1.3,
            0.7,
            12.4,
            6,
            14.4,
            6.1,
            17.8,
            12,
            8.5,
            0.3,
            12,
            43.2,
            5.2,
            1.4,
            12.1,
            8.1,
            0.9,
            4.1,
            6.4,
            1.8,
            15.3,
            8.2,
            1.5,
            6.7,
            10.6,
            1.6,
            5.6,
            0.4,
            16.3,
            0.6,
            8.4,
            4.6,
            7.2,
            11.8,
            6.7,
            8.6,
            11.8,
            6.4,
            5.9,
            0.6,
            1.2,
            1.5,
            1.7,
            10.2,
            1.6,
            1.4,
            0.6,
            8.4,
            9.7,
            0.7,
            1,
            7.2,
            9.2,
            0.6,
            1.3,
            1.2,
            0.5,
            9.9,
            9.5,
            3,
            0.9,
            11,
            2.7,
            0.8,
            5.3,
            4.9,
            1.6,
            19,
            6.3
           ],
           "xaxis": "x",
           "yaxis": "y"
          }
         ],
         "name": "1979"
        },
        {
         "data": [
          {
           "alignmentgroup": "True",
           "bingroup": "x",
           "hoverlabel": {
            "namelength": 0
           },
           "hovertemplate": "year=1980<br>pct_obese=%{x}<br>count=%{y}",
           "legendgroup": "",
           "marker": {
            "color": "#636efa"
           },
           "name": "",
           "nbinsx": 60,
           "offsetgroup": "",
           "orientation": "v",
           "showlegend": false,
           "type": "histogram",
           "x": [
            11.7,
            4.1,
            0.6,
            11,
            8.7,
            1.7,
            1.3,
            0.6,
            0.7,
            16.8,
            8.8,
            1.5,
            7.5,
            1.7,
            0.6,
            0.6,
            10.9,
            4.2,
            0.9,
            6,
            12.3,
            5.4,
            0.8,
            14.7,
            16,
            9.5,
            3.8,
            6.9,
            5.4,
            1.6,
            6.1,
            7.9,
            6.6,
            5.8,
            1.9,
            0.9,
            14.4,
            1.1,
            9.1,
            1.5,
            0.3,
            27.5,
            15.5,
            10,
            6.9,
            0.7,
            0.9,
            0.5,
            18.9,
            1,
            7.4,
            12.8,
            14.8,
            2.7,
            12.2,
            10.3,
            2.9,
            8.9,
            0.5,
            8.8,
            1.7,
            1.8,
            0.6,
            1.7,
            1.3,
            7,
            6.1,
            6.4,
            9.8,
            9.6,
            5.4,
            20,
            12.8,
            6.4,
            13.3,
            12,
            9.5,
            4,
            13.5,
            1.6,
            1.4,
            11.5,
            7.8,
            11.2,
            5.3,
            11.7,
            5.3,
            6.6,
            0.4,
            7.8,
            8.4,
            12.1,
            1.6,
            6,
            6.7,
            43.6,
            5.8,
            7.7,
            7.1,
            12.3,
            12.2,
            12,
            0.5,
            15.6,
            9.7,
            0.8,
            1.8,
            27.8,
            2.9,
            0.6,
            0.7,
            3.8,
            9.3,
            0.6,
            0.4,
            12.9,
            6.2,
            3.7,
            0.3,
            1.2,
            14.9,
            10.3,
            9.5,
            1.4,
            0.9,
            0.7,
            6.9,
            4,
            17.2,
            11.8,
            12.1,
            4,
            9.8,
            1,
            9.8,
            1.3,
            18.3,
            1,
            8.6,
            3.1,
            12.3,
            14.1,
            6.6,
            5.1,
            8.3,
            19.7,
            12.6,
            15.6,
            0.4,
            10.4,
            7.4,
            4.8,
            1.4,
            0.5,
            12.3,
            0.7,
            6.4,
            0.6,
            5.7,
            5.1,
            6.7,
            4.6,
            3.4,
            15.8,
            5.1,
            26.9,
            1,
            8.9,
            1.5,
            1.1,
            7.1,
            12.6,
            4.4,
            1.1,
            3,
            5.3,
            12.1,
            5.3,
            1.1,
            10,
            18.8,
            2.3,
            20.6,
            0.3,
            7.2,
            6.2,
            1.2,
            8.5,
            9.7,
            0.2,
            4.6
           ],
           "xaxis": "x",
           "yaxis": "y"
          }
         ],
         "name": "1980"
        },
        {
         "data": [
          {
           "alignmentgroup": "True",
           "bingroup": "x",
           "hoverlabel": {
            "namelength": 0
           },
           "hovertemplate": "year=1981<br>pct_obese=%{x}<br>count=%{y}",
           "legendgroup": "",
           "marker": {
            "color": "#636efa"
           },
           "name": "",
           "nbinsx": 60,
           "offsetgroup": "",
           "orientation": "v",
           "showlegend": false,
           "type": "histogram",
           "x": [
            0.7,
            4.9,
            9.8,
            9.4,
            13,
            0.6,
            7.9,
            1.8,
            0.4,
            3.1,
            0.6,
            1.4,
            12.1,
            12.6,
            1.8,
            15.9,
            9.9,
            7.5,
            10,
            6.6,
            0.7,
            12,
            8.7,
            6.8,
            1.8,
            15.8,
            0.3,
            1,
            19.3,
            10.1,
            7.1,
            0.6,
            10.4,
            17.8,
            7.2,
            6.9,
            0.7,
            13.9,
            4.1,
            12.5,
            3.9,
            5.6,
            18.8,
            5.5,
            1.9,
            7.2,
            8.8,
            8.4,
            4.2,
            1.7,
            16.1,
            12.7,
            44,
            3.9,
            12.6,
            7,
            12.8,
            17.2,
            14.7,
            0.6,
            11.9,
            0.9,
            5.6,
            20.5,
            16,
            0.2,
            9.2,
            6.6,
            0.8,
            10,
            0.3,
            7.9,
            12.4,
            11.2,
            0.7,
            1.1,
            1.6,
            6.8,
            4.4,
            11.5,
            5.6,
            12.5,
            1.9,
            13.2,
            0.8,
            4,
            9,
            0.9,
            1.1,
            0.4,
            27.4,
            28,
            8.7,
            1,
            1.6,
            1.7,
            1.5,
            2,
            6,
            6.4,
            0.8,
            12.1,
            1.5,
            7.2,
            9.5,
            28.4,
            3.1,
            9.5,
            0.5,
            1.2,
            15,
            0.5,
            13.2,
            3.1,
            10.4,
            0.3,
            1.2,
            0.8,
            7.4,
            9.2,
            1.8,
            8,
            6.1,
            9.8,
            6.9,
            12.5,
            0.7,
            6.4,
            8.1,
            0.6,
            16.5,
            0.6,
            15.3,
            1.3,
            8.1,
            6.8,
            2.4,
            4.2,
            5.5,
            6.2,
            6.2,
            10.2,
            1.2,
            12.6,
            0.8,
            4.6,
            21.2,
            1.7,
            8.2,
            1.1,
            5.3,
            11.3,
            5.5,
            13.3,
            3.6,
            4.7,
            5.4,
            1,
            10,
            6,
            4.8,
            13.7,
            12.4,
            6.4,
            10.6,
            4.4,
            10.6,
            0.7,
            5.4,
            5.5,
            1.4,
            14.9,
            9.8,
            20.4,
            7.5,
            13.1,
            1.1,
            12.4,
            1.4,
            10.7,
            0.6,
            14.4,
            6.4,
            19.6,
            2.8,
            9,
            3.2,
            1.1,
            1.3,
            1.5,
            7.6
           ],
           "xaxis": "x",
           "yaxis": "y"
          }
         ],
         "name": "1981"
        },
        {
         "data": [
          {
           "alignmentgroup": "True",
           "bingroup": "x",
           "hoverlabel": {
            "namelength": 0
           },
           "hovertemplate": "year=1982<br>pct_obese=%{x}<br>count=%{y}",
           "legendgroup": "",
           "marker": {
            "color": "#636efa"
           },
           "name": "",
           "nbinsx": 60,
           "offsetgroup": "",
           "orientation": "v",
           "showlegend": false,
           "type": "histogram",
           "x": [
            0.7,
            28.5,
            7.3,
            5.8,
            3.8,
            11.5,
            12.8,
            1.2,
            27.9,
            4.6,
            16.5,
            1.2,
            6.6,
            1.3,
            1.2,
            7.5,
            5.9,
            13.2,
            5,
            4.4,
            12.7,
            4.2,
            5.8,
            1.5,
            5.6,
            19.3,
            1.8,
            2,
            5.5,
            3.2,
            1.2,
            13.4,
            10.5,
            5.7,
            7.1,
            6.3,
            0.8,
            20.3,
            5.7,
            7.2,
            10.8,
            4.3,
            0.8,
            19.7,
            16.1,
            1,
            6.7,
            7.7,
            9.9,
            1.1,
            8.4,
            11.8,
            21.7,
            1.8,
            18.5,
            8.5,
            13,
            1.8,
            10.8,
            7.9,
            4.8,
            0.6,
            1.5,
            7.3,
            0.9,
            2.9,
            7.1,
            0.9,
            1.3,
            12.9,
            15.1,
            44.4,
            12.9,
            10.3,
            13.3,
            13,
            10,
            10.1,
            17.7,
            15.1,
            9.6,
            21,
            7.7,
            16.5,
            2,
            13.8,
            1.8,
            8.9,
            14.7,
            11,
            4.1,
            7.1,
            4.6,
            9.3,
            5.6,
            21,
            0.6,
            0.4,
            8.4,
            10,
            1,
            6.8,
            1.7,
            6.2,
            9.4,
            0.9,
            16.2,
            0.9,
            10.3,
            9.8,
            12.3,
            12.6,
            0.7,
            2,
            1.9,
            29.1,
            5,
            0.7,
            1.3,
            5.9,
            1.9,
            15.6,
            7.4,
            8.3,
            0.8,
            4.1,
            0.7,
            0.6,
            0.3,
            10.8,
            10.9,
            8.4,
            1.3,
            3.4,
            1.5,
            6.7,
            10.1,
            7.9,
            9.5,
            0.7,
            0.4,
            0.5,
            15.3,
            10.3,
            0.6,
            10.2,
            7.4,
            8.9,
            1.1,
            12.4,
            8.3,
            8.6,
            5.6,
            13.6,
            17,
            0.6,
            1.9,
            0.2,
            2.5,
            0.6,
            12.4,
            1.9,
            1.6,
            10.5,
            0.7,
            1.4,
            4.1,
            1.2,
            1,
            6.4,
            7.2,
            12.7,
            6.3,
            13.6,
            12.9,
            6.8,
            12.8,
            0.3,
            14.3,
            4.9,
            14,
            6.8,
            3.3,
            0.3,
            1.6,
            6.4,
            9,
            3.4,
            0.6,
            11.6,
            13.7
           ],
           "xaxis": "x",
           "yaxis": "y"
          }
         ],
         "name": "1982"
        },
        {
         "data": [
          {
           "alignmentgroup": "True",
           "bingroup": "x",
           "hoverlabel": {
            "namelength": 0
           },
           "hovertemplate": "year=1983<br>pct_obese=%{x}<br>count=%{y}",
           "legendgroup": "",
           "marker": {
            "color": "#636efa"
           },
           "name": "",
           "nbinsx": 60,
           "offsetgroup": "",
           "orientation": "v",
           "showlegend": false,
           "type": "histogram",
           "x": [
            18.1,
            0.9,
            0.4,
            21.7,
            3.3,
            21,
            13.3,
            7.5,
            1.1,
            13.9,
            21.5,
            13,
            6.1,
            0.9,
            7,
            19.9,
            15.6,
            0.4,
            1.9,
            1.2,
            14.8,
            4.3,
            0.3,
            1.3,
            5,
            13.7,
            0.4,
            13.1,
            1.4,
            10.1,
            11.2,
            9.2,
            1.5,
            0.5,
            10.8,
            0.9,
            13.8,
            7.3,
            4.2,
            10.6,
            2.9,
            29,
            1.2,
            9,
            1,
            8.1,
            7,
            6.7,
            4.3,
            19.1,
            6.9,
            6.1,
            1.6,
            8.7,
            11.2,
            13.2,
            8.1,
            5.2,
            0.6,
            10.7,
            7.3,
            0.9,
            2,
            2.1,
            1.6,
            1,
            0.5,
            29.7,
            2,
            28.4,
            13.2,
            9.8,
            0.7,
            9.5,
            4.5,
            1.1,
            12.8,
            1.4,
            1.2,
            4.8,
            16.9,
            2.1,
            2.2,
            14.1,
            15.4,
            10.4,
            1.9,
            13.3,
            1.7,
            9.2,
            11.3,
            7.7,
            3.5,
            7.6,
            9.2,
            12,
            8.7,
            16.5,
            3.6,
            12.8,
            7.8,
            15.1,
            9.7,
            5.9,
            17.4,
            8,
            8.7,
            2,
            0.8,
            7.4,
            14.4,
            0.6,
            11.1,
            1.1,
            10.8,
            10.4,
            14.4,
            5.7,
            7.4,
            0.6,
            0.8,
            16.4,
            3.7,
            0.7,
            13.3,
            13.3,
            5.9,
            13.4,
            0.6,
            10.3,
            3.9,
            12.1,
            5,
            1.5,
            13.3,
            1.2,
            7.3,
            7.6,
            10,
            5.9,
            0.7,
            16.9,
            11,
            7,
            4.2,
            1.3,
            1.8,
            4.5,
            0.7,
            0.7,
            8.2,
            22.2,
            2.6,
            7,
            10.4,
            8.6,
            6.4,
            12.7,
            6.6,
            10.6,
            13.7,
            1.9,
            6.5,
            44.8,
            8.9,
            2,
            15.4,
            11.7,
            1.4,
            20.2,
            1,
            1.4,
            16,
            10.3,
            14.1,
            2.1,
            5.9,
            6.6,
            1.5,
            0.7,
            0.9,
            7.7,
            10.5,
            6,
            6.1,
            0.7,
            5.2,
            5.8,
            4.9,
            0.2,
            8.7
           ],
           "xaxis": "x",
           "yaxis": "y"
          }
         ],
         "name": "1983"
        },
        {
         "data": [
          {
           "alignmentgroup": "True",
           "bingroup": "x",
           "hoverlabel": {
            "namelength": 0
           },
           "hovertemplate": "year=1984<br>pct_obese=%{x}<br>count=%{y}",
           "legendgroup": "",
           "marker": {
            "color": "#636efa"
           },
           "name": "",
           "nbinsx": 60,
           "offsetgroup": "",
           "orientation": "v",
           "showlegend": false,
           "type": "histogram",
           "x": [
            0.8,
            2.1,
            14.5,
            9,
            2.2,
            1,
            2,
            1.3,
            19.7,
            2.1,
            4.7,
            0.4,
            17.3,
            11.3,
            14.2,
            6.2,
            8.3,
            7.6,
            0.7,
            2.8,
            8.1,
            1.4,
            7.2,
            6.6,
            0.7,
            15.8,
            4.7,
            1.3,
            9.2,
            7.9,
            13.7,
            6.4,
            14.7,
            1.8,
            18.4,
            6.3,
            1.4,
            1.1,
            3.9,
            12.4,
            30.5,
            15.9,
            13.7,
            9.8,
            12,
            0.7,
            0.9,
            0.7,
            0.8,
            29,
            1.1,
            1.1,
            8.6,
            7.9,
            45.2,
            0.2,
            8.4,
            7,
            10.8,
            5.5,
            7.3,
            10,
            5.1,
            0.4,
            5.9,
            6.9,
            14.1,
            3.4,
            21.7,
            5.2,
            6.8,
            15.6,
            0.7,
            1.6,
            0.8,
            3.9,
            0.5,
            1.6,
            10.4,
            6.1,
            5.3,
            11.6,
            1.5,
            0.6,
            16.3,
            1.5,
            7.6,
            20.7,
            11.2,
            7.1,
            3,
            4.1,
            8.4,
            7.8,
            6,
            22.6,
            13.1,
            15.4,
            11.5,
            1.9,
            6.2,
            17.9,
            7.8,
            4.4,
            0.8,
            1.4,
            2.2,
            10.4,
            15.2,
            5,
            11.4,
            9.2,
            7.3,
            10.8,
            1.3,
            4.4,
            0.4,
            13.8,
            16.7,
            0.7,
            6.4,
            9,
            0.8,
            5.9,
            14.7,
            2.1,
            13.7,
            11,
            13.6,
            9.4,
            11.7,
            7.9,
            22,
            4.3,
            13.7,
            8.9,
            13.2,
            3.7,
            1.6,
            6.4,
            4.4,
            14.3,
            7.8,
            1.3,
            11.2,
            2,
            20.5,
            13.2,
            22.5,
            17.3,
            0.7,
            10.9,
            15,
            13.7,
            1.7,
            1.2,
            9.5,
            1,
            1.3,
            5.4,
            1.5,
            2.2,
            0.9,
            13.7,
            2.1,
            29.5,
            1.1,
            9.4,
            12.4,
            10.6,
            14.2,
            8,
            13.4,
            10.1,
            16.8,
            1.6,
            7.7,
            7.3,
            2.3,
            2.1,
            9.5,
            0.7,
            10.9,
            13.1,
            8.8,
            10.6,
            1,
            0.5,
            6.9,
            10.9,
            11.1
           ],
           "xaxis": "x",
           "yaxis": "y"
          }
         ],
         "name": "1984"
        },
        {
         "data": [
          {
           "alignmentgroup": "True",
           "bingroup": "x",
           "hoverlabel": {
            "namelength": 0
           },
           "hovertemplate": "year=1985<br>pct_obese=%{x}<br>count=%{y}",
           "legendgroup": "",
           "marker": {
            "color": "#636efa"
           },
           "name": "",
           "nbinsx": 60,
           "offsetgroup": "",
           "orientation": "v",
           "showlegend": false,
           "type": "histogram",
           "x": [
            2.3,
            10.4,
            1.2,
            7.4,
            11.1,
            8.8,
            30.1,
            7.4,
            0.7,
            2.2,
            9.8,
            8.7,
            11.7,
            1.2,
            5.2,
            1.5,
            12,
            1.5,
            0.6,
            1.7,
            15.8,
            7.8,
            3.1,
            1,
            7.6,
            9,
            9.7,
            8.4,
            13.5,
            15.7,
            2,
            12.1,
            8.1,
            4.6,
            23.2,
            9.3,
            15.1,
            15.6,
            2.3,
            14,
            9.6,
            6.7,
            10.7,
            0.4,
            14.7,
            8.1,
            6.7,
            0.4,
            2.2,
            14.5,
            18.3,
            4.6,
            3.6,
            22.6,
            22.5,
            14.1,
            0.9,
            6.5,
            17.1,
            8.1,
            2.5,
            11.5,
            1.6,
            0.5,
            4.2,
            13.4,
            7.1,
            0.8,
            6.6,
            5,
            11.6,
            6.4,
            0.8,
            2.9,
            8.2,
            14.2,
            10.9,
            1.5,
            4.6,
            17.8,
            2,
            15.1,
            8.1,
            0.7,
            6.8,
            1.1,
            14.8,
            1.2,
            8.4,
            12.3,
            7.7,
            6.6,
            9.5,
            9.1,
            0.8,
            9.3,
            2.1,
            11.2,
            1.5,
            11.2,
            0.7,
            14.1,
            0.8,
            8.2,
            13.8,
            9.2,
            7.5,
            7.1,
            5.4,
            5.7,
            45.7,
            0.2,
            2.3,
            15.8,
            21.2,
            6.4,
            16.7,
            2.3,
            1.7,
            1.5,
            1.4,
            0.8,
            11.9,
            4.2,
            6,
            7.2,
            12.7,
            10.9,
            11.6,
            11.1,
            1.4,
            5.5,
            8.3,
            14,
            11.5,
            6.1,
            23.1,
            10.8,
            14.2,
            1.7,
            0.7,
            5.3,
            17,
            14.7,
            6.2,
            4.3,
            0.8,
            14.3,
            13.4,
            5.5,
            7.4,
            11.3,
            0.7,
            8.6,
            0.4,
            14.8,
            16.1,
            7.8,
            10.5,
            1.1,
            14.1,
            13.6,
            10.1,
            1.2,
            1.4,
            11.4,
            29.6,
            1.4,
            18.7,
            31.3,
            1,
            3.8,
            9.6,
            1.4,
            16.4,
            1.2,
            4.5,
            1.8,
            2.2,
            17.7,
            1.1,
            1.4,
            0.5,
            2.2,
            1.9,
            20.4,
            21.3,
            10,
            0.8,
            12.8,
            4.8
           ],
           "xaxis": "x",
           "yaxis": "y"
          }
         ],
         "name": "1985"
        },
        {
         "data": [
          {
           "alignmentgroup": "True",
           "bingroup": "x",
           "hoverlabel": {
            "namelength": 0
           },
           "hovertemplate": "year=1986<br>pct_obese=%{x}<br>count=%{y}",
           "legendgroup": "",
           "marker": {
            "color": "#636efa"
           },
           "name": "",
           "nbinsx": 60,
           "offsetgroup": "",
           "orientation": "v",
           "showlegend": false,
           "type": "histogram",
           "x": [
            8.8,
            19,
            11.5,
            1.5,
            7,
            14.3,
            12.1,
            7.9,
            6.3,
            4,
            1.2,
            7.8,
            0.4,
            5.8,
            12,
            11.7,
            9.6,
            0.5,
            1.6,
            1.2,
            15.1,
            8.5,
            4.7,
            18.2,
            2,
            14.5,
            2.4,
            9.5,
            14.9,
            1.1,
            23.7,
            13.9,
            23.4,
            23.2,
            3.7,
            4.8,
            1.3,
            7.7,
            16.9,
            11.5,
            10.7,
            1.5,
            13.8,
            32.1,
            1.9,
            0.9,
            2.3,
            1,
            12.4,
            6,
            1.2,
            14.6,
            11,
            0.5,
            46.2,
            8.9,
            0.2,
            12.2,
            14.2,
            16.1,
            2.5,
            4.5,
            21.8,
            13.3,
            18.1,
            1.6,
            6.7,
            0.9,
            2.3,
            1.6,
            1.9,
            17,
            5.7,
            1.6,
            11,
            5.7,
            15.1,
            9.1,
            14.7,
            1.8,
            1.5,
            30.8,
            11.8,
            0.8,
            0.8,
            4.8,
            0.8,
            17.3,
            16.5,
            1.6,
            6.4,
            7.7,
            1.5,
            4.6,
            3.1,
            2,
            1.3,
            5,
            8.1,
            13,
            11.2,
            6.2,
            0.6,
            7.6,
            7.4,
            11.3,
            10.3,
            30.3,
            1.2,
            10.1,
            9.7,
            8.5,
            8.4,
            15.2,
            9.8,
            15.5,
            1.8,
            9.2,
            1.5,
            16.3,
            8.4,
            0.8,
            9.9,
            4.4,
            1.6,
            10.6,
            5.5,
            7.4,
            0.8,
            12.4,
            10.2,
            0.8,
            2.5,
            0.6,
            6.8,
            2.6,
            21.1,
            18.7,
            11.5,
            2.3,
            11.6,
            0.8,
            1.5,
            9.9,
            2.2,
            13.8,
            11.8,
            17.4,
            7.7,
            16,
            8.7,
            0.9,
            8.5,
            7.1,
            10.8,
            14.5,
            5.3,
            0.9,
            5.2,
            6.7,
            7,
            8.2,
            12,
            4.6,
            14.8,
            0.8,
            6.8,
            3.1,
            9,
            8.8,
            24,
            9.7,
            12.6,
            8.5,
            1.3,
            15.5,
            14.4,
            16.2,
            2.1,
            6.9,
            2.4,
            22,
            15.2,
            13.8,
            0.4,
            8.1,
            0.8,
            11.8,
            14.6,
            1.1,
            2.3
           ],
           "xaxis": "x",
           "yaxis": "y"
          }
         ],
         "name": "1986"
        },
        {
         "data": [
          {
           "alignmentgroup": "True",
           "bingroup": "x",
           "hoverlabel": {
            "namelength": 0
           },
           "hovertemplate": "year=1987<br>pct_obese=%{x}<br>count=%{y}",
           "legendgroup": "",
           "marker": {
            "color": "#636efa"
           },
           "name": "",
           "nbinsx": 60,
           "offsetgroup": "",
           "orientation": "v",
           "showlegend": false,
           "type": "histogram",
           "x": [
            5.2,
            15.6,
            1.6,
            17.3,
            4.7,
            11.5,
            7.7,
            10,
            1.4,
            6.4,
            5.9,
            3.2,
            9.2,
            12.9,
            15.6,
            16.3,
            0.2,
            0.9,
            2.7,
            14.5,
            12.1,
            18.6,
            7.1,
            2.3,
            46.7,
            22.4,
            2.5,
            1.3,
            15.7,
            1.7,
            5.9,
            0.9,
            8.7,
            6.2,
            7.9,
            10.2,
            0.9,
            1.7,
            7.6,
            19.3,
            7.2,
            15.8,
            12,
            1.6,
            6.1,
            12,
            12.1,
            17.6,
            8,
            6.9,
            0.5,
            0.9,
            14.2,
            24.2,
            3.2,
            9.2,
            5.4,
            12.4,
            15,
            18.6,
            1.3,
            8.9,
            10,
            4.8,
            22.9,
            1.7,
            11.8,
            5.7,
            15.3,
            4.7,
            14.7,
            8.8,
            7,
            2.2,
            1.6,
            21.8,
            4.8,
            6.7,
            0.8,
            0.9,
            16.8,
            14.8,
            17.6,
            11.9,
            0.8,
            13.4,
            10.3,
            0.8,
            1.9,
            11.3,
            11.2,
            1,
            8.7,
            1.1,
            1.6,
            6.6,
            10,
            9.3,
            4.1,
            11.1,
            12.8,
            7.5,
            2.1,
            1.6,
            9.1,
            8.4,
            7.3,
            9.9,
            16.3,
            11.8,
            0.6,
            2.4,
            0.7,
            0.5,
            14.2,
            1.5,
            17.6,
            1.2,
            19.1,
            2.8,
            1.7,
            7.3,
            12.8,
            0.9,
            1,
            15.1,
            1.4,
            7.1,
            2.2,
            2,
            16.9,
            12.1,
            33,
            31.5,
            10.1,
            2.6,
            24.3,
            8.2,
            9.4,
            0.9,
            8.7,
            1.3,
            1.3,
            24.7,
            1.6,
            7.9,
            8,
            8.8,
            14.9,
            10.8,
            8.2,
            12.8,
            2.4,
            15.3,
            15.5,
            8.3,
            31.1,
            4.9,
            1.1,
            0.5,
            15.8,
            12.2,
            10.4,
            8.8,
            5.1,
            23.8,
            9.3,
            0.9,
            3.8,
            2.4,
            2.5,
            10.6,
            1.7,
            14.9,
            2.1,
            5,
            12.6,
            13.7,
            5.5,
            12.1,
            11.1,
            2.6,
            0.6,
            1.9,
            14.3,
            11.3,
            16.9,
            9.5,
            1.3,
            15.2,
            14.1
           ],
           "xaxis": "x",
           "yaxis": "y"
          }
         ],
         "name": "1987"
        },
        {
         "data": [
          {
           "alignmentgroup": "True",
           "bingroup": "x",
           "hoverlabel": {
            "namelength": 0
           },
           "hovertemplate": "year=1988<br>pct_obese=%{x}<br>count=%{y}",
           "legendgroup": "",
           "marker": {
            "color": "#636efa"
           },
           "name": "",
           "nbinsx": 60,
           "offsetgroup": "",
           "orientation": "v",
           "showlegend": false,
           "type": "histogram",
           "x": [
            9.3,
            1.4,
            10.4,
            0.5,
            2.3,
            19,
            0.9,
            12.3,
            4.3,
            0.9,
            16.2,
            3.4,
            5,
            31.9,
            23.6,
            12.3,
            14.7,
            2.3,
            1.3,
            9.5,
            7.6,
            15.3,
            12.5,
            5.3,
            7.2,
            9.1,
            9.7,
            1.8,
            15.5,
            25.5,
            5.7,
            12.4,
            9.1,
            7.9,
            1.8,
            1,
            12.5,
            2.7,
            2.4,
            15.8,
            16.2,
            17.5,
            8.6,
            15.6,
            1,
            15.9,
            5.7,
            2.5,
            0.9,
            12.5,
            1.7,
            10.7,
            4.9,
            7.4,
            9.2,
            9.7,
            13.2,
            10.9,
            1.5,
            2.6,
            10.3,
            1.7,
            7.4,
            9.1,
            7.3,
            19.4,
            0.6,
            10.5,
            11.5,
            9,
            5.9,
            2.8,
            5,
            1.4,
            8.1,
            11.6,
            1.7,
            3,
            7.5,
            4,
            9.2,
            11.4,
            0.9,
            13.2,
            7.9,
            10.8,
            16.6,
            1,
            12.2,
            22.5,
            14.6,
            15.2,
            0.9,
            0.8,
            17.8,
            17.5,
            1.6,
            2.3,
            12.8,
            0.7,
            11.8,
            2.4,
            2,
            6.5,
            5.3,
            8.8,
            10.2,
            1.5,
            1.8,
            1.7,
            5.1,
            0.5,
            1.7,
            17.2,
            9.9,
            17.9,
            0.9,
            8.3,
            24.8,
            32.2,
            0.9,
            19,
            12.4,
            9.8,
            2,
            11.5,
            6.5,
            8,
            13.2,
            1.8,
            2.9,
            2.5,
            17.6,
            3.3,
            1.8,
            0.9,
            13.7,
            2.6,
            8.6,
            1.1,
            16.5,
            5.4,
            9.6,
            33.8,
            0.2,
            10.4,
            11.7,
            14.9,
            0.6,
            14.2,
            47.3,
            1.4,
            8.3,
            2.1,
            15.6,
            6.2,
            6.1,
            16.1,
            12.9,
            1.2,
            6.9,
            1,
            7.7,
            12.2,
            15.8,
            1.4,
            1.4,
            8.3,
            19.5,
            15.7,
            0.5,
            25.2,
            1.8,
            12.5,
            11.4,
            18.3,
            6.4,
            16.1,
            14.6,
            24.4,
            2.2,
            5.2,
            15.2,
            13.4,
            14.4,
            23,
            8.5,
            15,
            10.2,
            6.8,
            9.4
           ],
           "xaxis": "x",
           "yaxis": "y"
          }
         ],
         "name": "1988"
        },
        {
         "data": [
          {
           "alignmentgroup": "True",
           "bingroup": "x",
           "hoverlabel": {
            "namelength": 0
           },
           "hovertemplate": "year=1989<br>pct_obese=%{x}<br>count=%{y}",
           "legendgroup": "",
           "marker": {
            "color": "#636efa"
           },
           "name": "",
           "nbinsx": 60,
           "offsetgroup": "",
           "orientation": "v",
           "showlegend": false,
           "type": "histogram",
           "x": [
            11.8,
            19,
            5.8,
            9.9,
            8.2,
            16.3,
            0.3,
            1.9,
            16.4,
            13.2,
            10.9,
            6.7,
            1,
            11,
            15.3,
            0.7,
            10.2,
            2.6,
            1,
            1.5,
            11.8,
            12,
            12.8,
            1.2,
            8.7,
            19.4,
            2.5,
            5.4,
            17.9,
            15.5,
            13.2,
            3.3,
            1.6,
            5,
            13.6,
            18.1,
            1.9,
            7.7,
            9.8,
            32.8,
            3.2,
            9,
            1.4,
            10,
            23.6,
            19.5,
            1.8,
            1.6,
            24.3,
            12.8,
            18.2,
            16.4,
            25.4,
            15.9,
            23.3,
            2.4,
            16.9,
            8.4,
            10.4,
            13.6,
            4.2,
            1,
            3.5,
            1.6,
            5.4,
            7.1,
            1.4,
            12.8,
            10,
            3.2,
            12.5,
            9.8,
            1,
            1.5,
            8.8,
            0.9,
            14.7,
            0.5,
            10.9,
            1.9,
            16.1,
            9.7,
            12.7,
            9.4,
            16.5,
            9.4,
            18.1,
            3,
            1.4,
            19.7,
            7.5,
            13.6,
            15.5,
            1.9,
            7,
            6.8,
            0.8,
            6,
            6,
            6.3,
            0.5,
            7.6,
            26.3,
            1.9,
            15,
            8.4,
            1.5,
            25.1,
            11.2,
            12.8,
            1.8,
            4.5,
            6.5,
            8.6,
            16.6,
            15,
            12,
            10.7,
            16.7,
            15.4,
            1.4,
            16,
            1.8,
            5.1,
            2.5,
            12.1,
            13,
            12.7,
            9.1,
            2.1,
            34.7,
            1,
            47.8,
            11.2,
            1.1,
            16.7,
            2.9,
            1,
            18.1,
            5.9,
            1.9,
            0.9,
            14,
            7.8,
            5.2,
            2.4,
            1,
            8.6,
            9.4,
            1.1,
            0.7,
            7.9,
            14.1,
            1.2,
            2.2,
            6.7,
            12.6,
            9.9,
            2.3,
            1.9,
            8.9,
            10.6,
            12.7,
            5.5,
            26.2,
            2.7,
            8.1,
            0.6,
            2.7,
            2.5,
            10.4,
            14.8,
            10.7,
            8.4,
            1,
            12.1,
            19.7,
            7.7,
            0.9,
            16.2,
            15.1,
            9.5,
            2.8,
            17.5,
            16.1,
            15.8,
            5.5,
            9.4,
            2.1,
            33,
            11.9
           ],
           "xaxis": "x",
           "yaxis": "y"
          }
         ],
         "name": "1989"
        },
        {
         "data": [
          {
           "alignmentgroup": "True",
           "bingroup": "x",
           "hoverlabel": {
            "namelength": 0
           },
           "hovertemplate": "year=1990<br>pct_obese=%{x}<br>count=%{y}",
           "legendgroup": "",
           "marker": {
            "color": "#636efa"
           },
           "name": "",
           "nbinsx": 60,
           "offsetgroup": "",
           "orientation": "v",
           "showlegend": false,
           "type": "histogram",
           "x": [
            2.9,
            15.4,
            2,
            19.9,
            0.3,
            2.6,
            11.1,
            2.4,
            19.8,
            3.1,
            0.6,
            2.6,
            13.2,
            24.3,
            11.4,
            1.5,
            6.3,
            9.1,
            1.1,
            3.5,
            2,
            15.8,
            3.7,
            5.3,
            16.9,
            13.3,
            3.4,
            13,
            15.4,
            12.2,
            5.6,
            18.5,
            7.3,
            2,
            16.6,
            1.1,
            0.6,
            17.8,
            16.5,
            7.3,
            1,
            6.9,
            26.1,
            8.1,
            1.3,
            8.8,
            0.7,
            15.8,
            27.2,
            9.2,
            11,
            25.8,
            2.6,
            1.6,
            18.7,
            15.3,
            10.7,
            13.2,
            8.9,
            16.9,
            2.2,
            15.4,
            12.1,
            13,
            16.7,
            1.5,
            16.9,
            48.4,
            9.1,
            35.6,
            6.1,
            15.6,
            14.7,
            1.5,
            10.3,
            10.5,
            7.1,
            6.7,
            12.5,
            13.1,
            9,
            2,
            13.5,
            7.1,
            13,
            5.6,
            11.5,
            19.9,
            3.4,
            2.8,
            0.6,
            1,
            7.9,
            2,
            1.1,
            9.9,
            1.1,
            12.4,
            2,
            10.4,
            1.6,
            14.5,
            15.9,
            1.3,
            14,
            10.2,
            15,
            6.5,
            0.9,
            9.4,
            24.1,
            18.6,
            2.7,
            1.1,
            11.7,
            1.1,
            13.7,
            9.7,
            9.8,
            1.9,
            10.1,
            8.7,
            9.4,
            2.9,
            1.7,
            1.1,
            2,
            13.6,
            9.7,
            10.3,
            24.8,
            1.9,
            17.3,
            27,
            33.7,
            8.6,
            20,
            16.6,
            8,
            12.8,
            2.2,
            13.9,
            0.7,
            10.9,
            17.3,
            8.3,
            33.9,
            2.3,
            11.3,
            9.8,
            17,
            16.4,
            12.5,
            16.3,
            5.8,
            16.6,
            4.7,
            11.1,
            1.7,
            8.6,
            7.8,
            5.7,
            10.3,
            19.6,
            2.3,
            12.8,
            16.3,
            18.2,
            1.1,
            8.8,
            11.3,
            8.2,
            1,
            10.3,
            5.5,
            13.1,
            2.1,
            2.8,
            3.3,
            14,
            18.3,
            12.4,
            6.2,
            0.8,
            4.4,
            6.4,
            5.1,
            1.6,
            1.8,
            2.6,
            1.1
           ],
           "xaxis": "x",
           "yaxis": "y"
          }
         ],
         "name": "1990"
        },
        {
         "data": [
          {
           "alignmentgroup": "True",
           "bingroup": "x",
           "hoverlabel": {
            "namelength": 0
           },
           "hovertemplate": "year=1991<br>pct_obese=%{x}<br>count=%{y}",
           "legendgroup": "",
           "marker": {
            "color": "#636efa"
           },
           "name": "",
           "nbinsx": 60,
           "offsetgroup": "",
           "orientation": "v",
           "showlegend": false,
           "type": "histogram",
           "x": [
            7.6,
            11.4,
            7.1,
            14,
            1.8,
            9.2,
            28.3,
            10.8,
            9.8,
            14.5,
            2.2,
            15.8,
            34.7,
            19.4,
            0.3,
            2.3,
            10.8,
            5.8,
            9,
            9.8,
            5.8,
            1.1,
            18.6,
            17.2,
            2.6,
            1.2,
            3.1,
            1.3,
            2.7,
            3,
            25.1,
            18.5,
            1.6,
            3.5,
            5,
            11.4,
            3.8,
            6,
            2.9,
            14.9,
            1.7,
            9.5,
            0.7,
            10.9,
            12.8,
            0.6,
            6.9,
            11.8,
            1.1,
            9,
            7.5,
            2.3,
            1.8,
            49.1,
            6.9,
            10,
            1.6,
            34.6,
            36.5,
            10.1,
            11.6,
            15.3,
            2.1,
            18.7,
            17.1,
            0.9,
            15.9,
            4.6,
            14.3,
            13.4,
            8.5,
            1,
            9.2,
            6.4,
            25,
            1,
            19.1,
            2.4,
            10.1,
            16.2,
            13.5,
            12.2,
            10.3,
            5.8,
            27.8,
            6.6,
            0.7,
            10.2,
            3.9,
            2.7,
            10.6,
            5.3,
            13.3,
            6.1,
            16.8,
            18,
            16.8,
            8.6,
            12.9,
            8.1,
            17,
            1.2,
            8.2,
            17,
            8.3,
            1.2,
            12.8,
            14.4,
            13.5,
            25.2,
            10.7,
            11.4,
            3.7,
            1.9,
            3.5,
            11.4,
            1.1,
            17.6,
            2,
            13.2,
            6.7,
            8.9,
            1.1,
            1.2,
            2,
            2.2,
            1.8,
            3.1,
            10.6,
            1.1,
            2.1,
            2.9,
            2.7,
            20.3,
            16.6,
            11.7,
            16.1,
            20.2,
            20.2,
            13.4,
            1.6,
            17.5,
            12.4,
            15.9,
            17.1,
            15.3,
            14.1,
            10.6,
            1,
            18.1,
            7.4,
            10.9,
            17.4,
            1.2,
            0.6,
            13.4,
            2.1,
            14.1,
            6.3,
            12.8,
            7.5,
            15.9,
            20.4,
            2.1,
            16.9,
            2.3,
            13.8,
            11,
            2.7,
            5.5,
            1.6,
            11.9,
            26.5,
            3.2,
            15.8,
            16.1,
            9.1,
            0.8,
            13.4,
            9.6,
            17.3,
            2.2,
            8.5,
            9.3,
            9.4,
            1.4,
            20.1,
            27,
            12.5,
            2.1,
            13.6
           ],
           "xaxis": "x",
           "yaxis": "y"
          }
         ],
         "name": "1991"
        },
        {
         "data": [
          {
           "alignmentgroup": "True",
           "bingroup": "x",
           "hoverlabel": {
            "namelength": 0
           },
           "hovertemplate": "year=1992<br>pct_obese=%{x}<br>count=%{y}",
           "legendgroup": "",
           "marker": {
            "color": "#636efa"
           },
           "name": "",
           "nbinsx": 60,
           "offsetgroup": "",
           "orientation": "v",
           "showlegend": false,
           "type": "histogram",
           "x": [
            17.3,
            12.2,
            13.8,
            6,
            28.7,
            1.9,
            6.3,
            14.1,
            29.4,
            10.2,
            2.7,
            2.4,
            18,
            20.6,
            27.3,
            8.8,
            3.3,
            10.5,
            7.4,
            19.6,
            4.8,
            9,
            5.2,
            12.8,
            12.1,
            18.9,
            17.3,
            9.7,
            14.7,
            1.3,
            0.7,
            3.4,
            16.4,
            10,
            1.9,
            2.8,
            13.7,
            3,
            9.7,
            9.5,
            11.4,
            20.1,
            6.4,
            11.3,
            1.3,
            17.4,
            17.5,
            1.7,
            1.2,
            15.7,
            10.7,
            0.3,
            0.7,
            3.9,
            9.4,
            16.2,
            1.7,
            4.2,
            12.4,
            5.7,
            16.4,
            20.5,
            14,
            6.9,
            10.9,
            2.8,
            2.3,
            13.7,
            8.4,
            20.8,
            5.4,
            10.6,
            20.3,
            2.4,
            2.2,
            2.2,
            0.8,
            17.7,
            9.4,
            13.2,
            20.9,
            14.6,
            2.3,
            7.8,
            0.9,
            14.5,
            15.9,
            1.6,
            13.7,
            16.3,
            18.1,
            14.3,
            18.7,
            7.8,
            8.5,
            1,
            3,
            2.1,
            16.9,
            13.6,
            6.9,
            2.1,
            25.4,
            1.2,
            17.3,
            1.3,
            13.2,
            14.8,
            11,
            11.9,
            2,
            11.7,
            8.6,
            2.2,
            1.1,
            11,
            13.4,
            13.7,
            6,
            6.6,
            25.9,
            9.5,
            12.6,
            8.9,
            10.4,
            16.6,
            13.8,
            9.2,
            1.3,
            1.2,
            2.5,
            2.4,
            10.2,
            17.2,
            1.3,
            10.9,
            6.1,
            19,
            1.2,
            11.4,
            1.9,
            0.7,
            2.6,
            7.8,
            12,
            7.2,
            0.8,
            37.4,
            15.4,
            9.9,
            1.2,
            17.4,
            17.7,
            3.6,
            11.7,
            25.9,
            1.7,
            2.2,
            35.5,
            1.4,
            4,
            1.7,
            16.4,
            18.7,
            3.3,
            3.1,
            17.7,
            11.8,
            2.7,
            35.6,
            1.5,
            11.2,
            2.4,
            14.3,
            10.3,
            2.9,
            9.6,
            14.9,
            16.2,
            6.4,
            12.7,
            1.1,
            11.2,
            3.7,
            7.8,
            7.3,
            28,
            16.5,
            13.2,
            18.4,
            49.7
           ],
           "xaxis": "x",
           "yaxis": "y"
          }
         ],
         "name": "1992"
        },
        {
         "data": [
          {
           "alignmentgroup": "True",
           "bingroup": "x",
           "hoverlabel": {
            "namelength": 0
           },
           "hovertemplate": "year=1993<br>pct_obese=%{x}<br>count=%{y}",
           "legendgroup": "",
           "marker": {
            "color": "#636efa"
           },
           "name": "",
           "nbinsx": 60,
           "offsetgroup": "",
           "orientation": "v",
           "showlegend": false,
           "type": "histogram",
           "x": [
            11.5,
            14,
            18.4,
            10.7,
            1.3,
            11.5,
            17,
            25.6,
            1.8,
            17.8,
            2.3,
            13.7,
            10.7,
            2.5,
            2,
            2.2,
            3.5,
            17.2,
            14.7,
            1.3,
            7.1,
            19.2,
            9.7,
            20.8,
            13.8,
            14.5,
            20.5,
            18.7,
            14,
            3,
            14,
            16.6,
            11.3,
            1.7,
            10,
            21.3,
            1.5,
            3.2,
            6.6,
            0.9,
            14.3,
            2.4,
            9.2,
            1.8,
            18.3,
            3.6,
            1.8,
            26.8,
            36.4,
            2.8,
            6.3,
            12.5,
            5.6,
            19.4,
            12.3,
            21.3,
            3,
            2.9,
            38.3,
            11.3,
            12.2,
            16.9,
            0.7,
            29.5,
            15.1,
            6.6,
            1.2,
            3.9,
            2.5,
            14,
            2.6,
            10.1,
            11,
            14.1,
            7.3,
            2.8,
            15.9,
            20.9,
            2.4,
            0.8,
            5.9,
            1.3,
            3.6,
            8.7,
            13.6,
            2.4,
            10,
            9.7,
            10.5,
            5.5,
            6.8,
            6.3,
            10.9,
            16,
            19,
            7.9,
            2.6,
            1,
            17.5,
            8.8,
            15.4,
            18.1,
            14.7,
            1.1,
            1.4,
            4.4,
            13,
            7.6,
            50.3,
            6.8,
            2.4,
            16.5,
            15.2,
            10.3,
            18.1,
            16.8,
            13.6,
            13,
            8,
            1.1,
            1.4,
            29,
            15,
            8,
            8.2,
            19.2,
            26.7,
            12.1,
            17.7,
            3.7,
            3.3,
            2.6,
            9.7,
            4.1,
            2.3,
            1.5,
            8.1,
            14.8,
            18.7,
            11.9,
            16.8,
            16.5,
            7.4,
            13.2,
            36.5,
            11.6,
            1.7,
            1.4,
            2,
            11.5,
            11.1,
            12.6,
            17.9,
            11.8,
            1.3,
            17.8,
            17.9,
            15.2,
            11.7,
            0.3,
            17.6,
            1.3,
            0.7,
            1.3,
            2,
            13,
            1.1,
            9.3,
            12.3,
            0.8,
            20.9,
            10.6,
            10,
            9.3,
            10.8,
            30.4,
            12.1,
            6.3,
            17,
            28.1,
            13.9,
            4.2,
            3.2,
            5,
            9.6,
            16.7,
            2.2,
            20,
            2.5,
            8.9,
            2.1
           ],
           "xaxis": "x",
           "yaxis": "y"
          }
         ],
         "name": "1993"
        },
        {
         "data": [
          {
           "alignmentgroup": "True",
           "bingroup": "x",
           "hoverlabel": {
            "namelength": 0
           },
           "hovertemplate": "year=1994<br>pct_obese=%{x}<br>count=%{y}",
           "legendgroup": "",
           "marker": {
            "color": "#636efa"
           },
           "name": "",
           "nbinsx": 60,
           "offsetgroup": "",
           "orientation": "v",
           "showlegend": false,
           "type": "histogram",
           "x": [
            17.1,
            14.3,
            17.9,
            19.3,
            15.3,
            2.3,
            2.4,
            2.6,
            1.5,
            6.8,
            1.5,
            14.3,
            8.3,
            11.9,
            18.4,
            2.5,
            2.2,
            21.5,
            8.6,
            10.8,
            15.8,
            15.6,
            7.2,
            14.2,
            21.8,
            1.8,
            11.6,
            17.2,
            12.4,
            0.9,
            11.2,
            13.7,
            2.7,
            9.1,
            2.5,
            5.7,
            11.9,
            11.1,
            20.1,
            10,
            12.8,
            21.9,
            9.2,
            2.5,
            10,
            1.2,
            10.3,
            17.3,
            17.9,
            9.2,
            6.6,
            27.7,
            9.6,
            7,
            14.2,
            2.7,
            25.7,
            14.4,
            11.4,
            20.7,
            11.8,
            14.9,
            9.9,
            13.5,
            14.4,
            1.8,
            4.6,
            17.4,
            1.4,
            3.1,
            21.2,
            2.6,
            2.3,
            6.2,
            3.4,
            7.6,
            1.3,
            17.4,
            10.1,
            1.2,
            10.6,
            1.3,
            14.4,
            11.2,
            29.9,
            3.7,
            1.1,
            15.9,
            17,
            12.1,
            12,
            37.4,
            15,
            10.4,
            3,
            11,
            19.4,
            15.5,
            14,
            2.7,
            2.4,
            18.5,
            5.2,
            2.2,
            9.7,
            0.4,
            13.4,
            20.4,
            30.3,
            12.5,
            2.8,
            8.4,
            10.6,
            14.4,
            12.1,
            12.3,
            18.4,
            6.8,
            13.3,
            1.3,
            18.2,
            0.8,
            12.6,
            14.7,
            3.3,
            6.5,
            29,
            31.5,
            9.6,
            11.1,
            1.8,
            10.9,
            12.8,
            1.5,
            5.8,
            2.9,
            18.2,
            16.4,
            2.9,
            16.4,
            17.6,
            2.5,
            19.4,
            1.8,
            12.4,
            8.2,
            2.1,
            18.5,
            18.9,
            7.8,
            4.2,
            50.9,
            15.4,
            7.2,
            4.5,
            21.2,
            3.1,
            14.1,
            17.2,
            39.2,
            18.7,
            16.9,
            1.6,
            1.2,
            16.8,
            1.4,
            18.9,
            0.8,
            0.9,
            1.3,
            3.8,
            19.2,
            11.5,
            1.4,
            4.3,
            27.5,
            37.3,
            13.1,
            3.7,
            6.5,
            2.1,
            0.8,
            17.9,
            1.6,
            12.7,
            1.9,
            8.5,
            3.9,
            3.4,
            15.4,
            7.6
           ],
           "xaxis": "x",
           "yaxis": "y"
          }
         ],
         "name": "1994"
        },
        {
         "data": [
          {
           "alignmentgroup": "True",
           "bingroup": "x",
           "hoverlabel": {
            "namelength": 0
           },
           "hovertemplate": "year=1995<br>pct_obese=%{x}<br>count=%{y}",
           "legendgroup": "",
           "marker": {
            "color": "#636efa"
           },
           "name": "",
           "nbinsx": 60,
           "offsetgroup": "",
           "orientation": "v",
           "showlegend": false,
           "type": "histogram",
           "x": [
            13,
            1.4,
            11.1,
            17.7,
            7.4,
            1.4,
            14.8,
            1.6,
            4.8,
            20.9,
            13,
            2.7,
            12.7,
            14.8,
            6.7,
            2.8,
            12.2,
            3.5,
            1.7,
            15.9,
            2.2,
            17.7,
            1.9,
            1,
            17.1,
            14.5,
            17.3,
            18.8,
            4.3,
            1.9,
            21.5,
            16.9,
            31.2,
            3.4,
            2.4,
            6.8,
            10.6,
            13.3,
            18.2,
            16.8,
            19.7,
            3.1,
            5.8,
            38.3,
            2.8,
            11.8,
            2.2,
            13.7,
            12.9,
            15.9,
            8.8,
            4.9,
            11.4,
            18.5,
            1.6,
            8,
            6.4,
            12.5,
            11.2,
            9.5,
            12.4,
            10.6,
            11.4,
            6.1,
            2.3,
            11,
            18.9,
            18.2,
            0.8,
            1.2,
            2,
            10.3,
            8.8,
            10.3,
            13.2,
            13.5,
            9.4,
            14.8,
            1.5,
            1.9,
            11.6,
            19,
            38.1,
            9.9,
            14.1,
            15.3,
            21.5,
            2.7,
            4,
            0.9,
            1.5,
            17.7,
            4.4,
            13.5,
            9,
            0.4,
            12.5,
            18.7,
            11.9,
            1.5,
            7.6,
            9.6,
            19.9,
            19.1,
            19.6,
            0.9,
            8.4,
            8.1,
            7,
            14.7,
            29.8,
            11.6,
            2.5,
            15.8,
            15.9,
            3.9,
            32.5,
            16.4,
            5.4,
            18.9,
            19.5,
            19.2,
            18.3,
            2.3,
            11.6,
            2.9,
            14.6,
            28.5,
            28.3,
            10.3,
            22.5,
            40,
            1.4,
            14.4,
            17.6,
            3.3,
            30.8,
            1.5,
            2.6,
            19.5,
            7.1,
            2.6,
            12.3,
            14.7,
            26,
            2.4,
            51.5,
            2.7,
            1.2,
            3,
            16.1,
            2.4,
            14.6,
            12.7,
            1.4,
            7.8,
            20.8,
            18,
            3.2,
            0.8,
            6.9,
            7.2,
            3,
            1.7,
            14.2,
            11.5,
            2.7,
            22.3,
            1.1,
            22.2,
            17.7,
            8.6,
            12.9,
            16.4,
            4,
            17.2,
            1.9,
            3.6,
            15.4,
            20.9,
            18.2,
            10.1,
            1.3,
            10.8,
            11.9,
            12.4,
            15.4,
            4,
            2.9,
            14.6,
            10
           ],
           "xaxis": "x",
           "yaxis": "y"
          }
         ],
         "name": "1995"
        },
        {
         "data": [
          {
           "alignmentgroup": "True",
           "bingroup": "x",
           "hoverlabel": {
            "namelength": 0
           },
           "hovertemplate": "year=1996<br>pct_obese=%{x}<br>count=%{y}",
           "legendgroup": "",
           "marker": {
            "color": "#636efa"
           },
           "name": "",
           "nbinsx": 60,
           "offsetgroup": "",
           "orientation": "v",
           "showlegend": false,
           "type": "histogram",
           "x": [
            10.4,
            15,
            9.2,
            8.3,
            4.4,
            19.7,
            29,
            18,
            18.4,
            4.3,
            7.9,
            8.1,
            19.3,
            16.3,
            8.7,
            19.8,
            13.3,
            1.8,
            3.7,
            52.1,
            14.6,
            31.5,
            7.2,
            18.6,
            7.4,
            2.8,
            18.1,
            1.5,
            3.1,
            13.7,
            2.6,
            12.9,
            18.6,
            1.3,
            1.3,
            3.8,
            1.6,
            10.6,
            1.5,
            12,
            14.7,
            3,
            10.6,
            13.1,
            1.7,
            16.5,
            2.5,
            7.3,
            15.2,
            1.3,
            10.6,
            12.3,
            19.2,
            9,
            11.6,
            17,
            2.9,
            18.2,
            1.6,
            13,
            4.1,
            18.3,
            6.3,
            5.2,
            9.8,
            17.4,
            2.7,
            20.5,
            2.9,
            9.4,
            15.1,
            21.8,
            8.4,
            6.7,
            11,
            11.5,
            9.9,
            15.2,
            16.3,
            1.5,
            18,
            1,
            20.1,
            2.1,
            2.4,
            39,
            7,
            1.6,
            1.9,
            14.1,
            18.8,
            2.4,
            13.2,
            3.2,
            12.8,
            19.4,
            11.7,
            0.9,
            13.5,
            15.8,
            7.2,
            32,
            15.1,
            4.6,
            16.3,
            4.1,
            16.5,
            13.4,
            19.5,
            21.8,
            19.9,
            3.4,
            17.7,
            1.8,
            12.7,
            7.6,
            26.4,
            14.9,
            2.6,
            14.8,
            2.9,
            10.9,
            2.8,
            40.8,
            15,
            29.5,
            23.2,
            6,
            3.5,
            18.5,
            21.4,
            21.1,
            2.1,
            12.6,
            15.8,
            2.9,
            12.2,
            2.1,
            22.6,
            2.4,
            1,
            23,
            11.9,
            4.2,
            1.6,
            3.6,
            5.1,
            13.3,
            11.3,
            13.3,
            19.1,
            12.9,
            39.2,
            19.4,
            7.1,
            1,
            15.7,
            30.6,
            12.1,
            14,
            11.9,
            1.7,
            17.1,
            33.6,
            1.2,
            3.2,
            15.2,
            9.3,
            16.9,
            9.8,
            1.5,
            11.6,
            0.9,
            10.4,
            18.9,
            12.4,
            2.8,
            3,
            21.3,
            0.4,
            17.5,
            5.6,
            2.9,
            13.8,
            17.5,
            3.1,
            12,
            19.7,
            14.8,
            2,
            10.3
           ],
           "xaxis": "x",
           "yaxis": "y"
          }
         ],
         "name": "1996"
        },
        {
         "data": [
          {
           "alignmentgroup": "True",
           "bingroup": "x",
           "hoverlabel": {
            "namelength": 0
           },
           "hovertemplate": "year=1997<br>pct_obese=%{x}<br>count=%{y}",
           "legendgroup": "",
           "marker": {
            "color": "#636efa"
           },
           "name": "",
           "nbinsx": 60,
           "offsetgroup": "",
           "orientation": "v",
           "showlegend": false,
           "type": "histogram",
           "x": [
            11.2,
            10.2,
            2.9,
            41.5,
            15.5,
            17.5,
            2.6,
            15.2,
            13.7,
            18.4,
            10.9,
            1.7,
            2.7,
            11,
            1.6,
            19.2,
            2.4,
            3.1,
            29.6,
            12.6,
            13.4,
            0.9,
            16.4,
            12,
            1.1,
            15.2,
            10.2,
            12.1,
            9.8,
            21.2,
            4.9,
            5.8,
            6.6,
            0.4,
            5.5,
            32.9,
            20.3,
            6.9,
            19.3,
            2.2,
            8.9,
            14.1,
            2.5,
            13.8,
            3,
            1.9,
            19.9,
            1.9,
            16.3,
            39.8,
            14.5,
            13.6,
            3.1,
            52.6,
            23,
            1.6,
            21.8,
            4.3,
            30.4,
            11,
            11.4,
            15.4,
            1.4,
            13.5,
            3.1,
            1.1,
            12.7,
            21.9,
            3.8,
            17.1,
            12.5,
            4.2,
            3.3,
            7.6,
            16.8,
            2.5,
            17.6,
            1.6,
            19.5,
            15.4,
            17.9,
            7.2,
            12.1,
            10.7,
            9.5,
            18.8,
            20.2,
            2.6,
            10.8,
            14,
            13.9,
            23.9,
            23.8,
            15.1,
            4.4,
            2.8,
            6.1,
            13.3,
            11.8,
            10.1,
            16.7,
            2.1,
            12.4,
            15.2,
            15.5,
            13.9,
            7.9,
            26.9,
            8.8,
            18.4,
            19.8,
            1.4,
            12.9,
            15.6,
            12.2,
            34.5,
            14.5,
            7.5,
            13.1,
            18.1,
            22.1,
            1.7,
            2,
            21.3,
            5.4,
            3.3,
            13.4,
            2.2,
            1.7,
            17,
            10.7,
            2.7,
            18.4,
            19.6,
            8.6,
            19.7,
            20.7,
            17.7,
            8.3,
            9.7,
            19.7,
            3.5,
            1.3,
            12.6,
            20,
            19.5,
            40.1,
            12.4,
            15.2,
            15.6,
            2.9,
            18.9,
            31.4,
            3,
            1.1,
            4.5,
            18,
            16,
            4,
            18.9,
            22.1,
            18.6,
            1.9,
            12.4,
            20,
            18.7,
            3.4,
            2.2,
            1.6,
            3,
            3.6,
            17.5,
            7.4,
            15.8,
            13.3,
            1,
            3.8,
            1.8,
            32.1,
            8.3,
            1.4,
            1.6,
            13.1,
            7.6,
            3.4,
            3,
            4.5,
            7.3,
            13.7,
            9.6,
            16.8
           ],
           "xaxis": "x",
           "yaxis": "y"
          }
         ],
         "name": "1997"
        },
        {
         "data": [
          {
           "alignmentgroup": "True",
           "bingroup": "x",
           "hoverlabel": {
            "namelength": 0
           },
           "hovertemplate": "year=1998<br>pct_obese=%{x}<br>count=%{y}",
           "legendgroup": "",
           "marker": {
            "color": "#636efa"
           },
           "name": "",
           "nbinsx": 60,
           "offsetgroup": "",
           "orientation": "v",
           "showlegend": false,
           "type": "histogram",
           "x": [
            40.5,
            1.5,
            42.2,
            18.8,
            3.2,
            16.8,
            4.6,
            4.5,
            7.9,
            33.8,
            2.7,
            19.3,
            15.8,
            12.8,
            10.5,
            21.3,
            2.1,
            11.4,
            13.8,
            1.7,
            1.8,
            13.8,
            3.9,
            11.4,
            9.3,
            8.7,
            1.1,
            13.8,
            32.7,
            13.1,
            20.4,
            9.2,
            19.8,
            1.7,
            19.7,
            10.1,
            20.2,
            2,
            13.9,
            10,
            12.8,
            41.1,
            32.3,
            18,
            20,
            1.3,
            20.2,
            30.2,
            16.3,
            18.6,
            15.6,
            1.1,
            20.9,
            10,
            18.2,
            11.1,
            15.8,
            10.6,
            2.2,
            15.9,
            35.5,
            21.8,
            2.9,
            5.1,
            17,
            20.2,
            5.7,
            13.5,
            22.4,
            1,
            15.1,
            4.3,
            4,
            0.5,
            16,
            12.7,
            14,
            14.3,
            13,
            3.2,
            11.2,
            6.1,
            12.6,
            7.5,
            10.2,
            22.4,
            3,
            1.2,
            2.6,
            14.1,
            2,
            16,
            3.1,
            3.1,
            24.6,
            15.5,
            7.8,
            12.5,
            2.3,
            3.5,
            21.6,
            13.6,
            1.5,
            12.3,
            1.7,
            6.3,
            18.4,
            53.1,
            11.1,
            1.6,
            8.9,
            11.6,
            15.7,
            18.7,
            14.3,
            17.6,
            17.2,
            2,
            18.1,
            2.3,
            5.9,
            2.8,
            1.8,
            16.3,
            14.3,
            7.8,
            17.9,
            20.4,
            6.8,
            12.5,
            20.1,
            17.3,
            2.7,
            14.9,
            1.2,
            1.4,
            11.9,
            19.4,
            4.5,
            14.5,
            14.3,
            7.2,
            3.1,
            8.1,
            13.5,
            20,
            19.3,
            20.1,
            17.5,
            7.5,
            4.8,
            15.8,
            24.6,
            2.8,
            3.8,
            2.3,
            2,
            3.5,
            3.6,
            18.7,
            3.1,
            3.3,
            16.1,
            1.8,
            3.7,
            4.2,
            18.8,
            23.4,
            1.7,
            12.9,
            19.3,
            7.8,
            13.1,
            31.4,
            15.3,
            19.9,
            12.9,
            18,
            8.5,
            3.1,
            17,
            3.4,
            27.4,
            14.1,
            22.5,
            10.6,
            11.2,
            22.4,
            3.2,
            13.7,
            2.8
           ],
           "xaxis": "x",
           "yaxis": "y"
          }
         ],
         "name": "1998"
        },
        {
         "data": [
          {
           "alignmentgroup": "True",
           "bingroup": "x",
           "hoverlabel": {
            "namelength": 0
           },
           "hovertemplate": "year=1999<br>pct_obese=%{x}<br>count=%{y}",
           "legendgroup": "",
           "marker": {
            "color": "#636efa"
           },
           "name": "",
           "nbinsx": 60,
           "offsetgroup": "",
           "orientation": "v",
           "showlegend": false,
           "type": "histogram",
           "x": [
            53.6,
            20.5,
            3.2,
            13.1,
            1.2,
            11.7,
            9.3,
            30.7,
            33.1,
            33.3,
            13.6,
            5,
            10.4,
            20.4,
            18.9,
            20.3,
            11.5,
            19.2,
            14.1,
            1.3,
            10.5,
            1.5,
            3.2,
            20.5,
            9.5,
            8.8,
            19.6,
            9.1,
            16.3,
            16.2,
            9.7,
            13.4,
            14.6,
            11.5,
            10.9,
            4.1,
            14.1,
            1.6,
            8.1,
            3.7,
            3.6,
            17.9,
            11.8,
            2.9,
            8.1,
            3.8,
            42.8,
            1.9,
            4.5,
            19.2,
            34.7,
            14.3,
            16.1,
            2.3,
            10.9,
            36.4,
            3.1,
            1.8,
            1.7,
            10.5,
            16.9,
            13,
            17.7,
            12.3,
            13.6,
            4.5,
            3.4,
            13.3,
            20,
            18.7,
            14.5,
            3.2,
            16.4,
            7.1,
            4.5,
            8,
            12.8,
            6.1,
            3.7,
            1.6,
            1.8,
            22.5,
            18.8,
            7.5,
            1.8,
            2.2,
            15.6,
            3,
            5.4,
            20.5,
            4.7,
            4.1,
            15.6,
            14.7,
            13.9,
            13.3,
            0.5,
            22.7,
            6.3,
            16.5,
            25.4,
            11.9,
            14.5,
            10.6,
            13.6,
            22.9,
            8.4,
            8.1,
            15.8,
            11.6,
            6.3,
            7.8,
            14,
            14.7,
            20.6,
            25.3,
            41.3,
            1.8,
            19.8,
            12.9,
            3.3,
            2,
            2.1,
            17.3,
            2.4,
            2.8,
            14.3,
            1.3,
            2.5,
            1.1,
            4.8,
            3.3,
            14.9,
            14.1,
            14.9,
            20.8,
            15.3,
            22.9,
            2.8,
            17.3,
            16.3,
            6.5,
            21.9,
            18.2,
            18.3,
            16.1,
            21.9,
            20.1,
            18.3,
            2.1,
            20.1,
            2.4,
            4,
            22.8,
            19.6,
            42.1,
            20.5,
            19.2,
            2.1,
            1.4,
            11,
            3,
            16.6,
            32.4,
            16.5,
            19.2,
            3.2,
            16,
            7.7,
            3.8,
            18.5,
            13.1,
            2.8,
            1.1,
            20.4,
            14.2,
            17.7,
            18.5,
            17.5,
            11.5,
            4.6,
            2.1,
            3.5,
            21.6,
            20.8,
            28,
            23.8,
            13.3,
            1.8,
            3.3,
            14.6
           ],
           "xaxis": "x",
           "yaxis": "y"
          }
         ],
         "name": "1999"
        },
        {
         "data": [
          {
           "alignmentgroup": "True",
           "bingroup": "x",
           "hoverlabel": {
            "namelength": 0
           },
           "hovertemplate": "year=2000<br>pct_obese=%{x}<br>count=%{y}",
           "legendgroup": "",
           "marker": {
            "color": "#636efa"
           },
           "name": "",
           "nbinsx": 60,
           "offsetgroup": "",
           "orientation": "v",
           "showlegend": false,
           "type": "histogram",
           "x": [
            19.2,
            16.7,
            2.6,
            8.6,
            1.4,
            12.3,
            28.5,
            11.8,
            13.3,
            14.3,
            1.9,
            14,
            3.1,
            15,
            6.6,
            3.9,
            1.7,
            15.1,
            13.8,
            3.8,
            14.6,
            14.4,
            18.1,
            3.5,
            21,
            16.4,
            3.4,
            9.6,
            2.6,
            4.7,
            1.6,
            13.6,
            1.4,
            2.2,
            3.3,
            54.1,
            3.5,
            20.4,
            2.3,
            20.9,
            18.6,
            9,
            3.3,
            2.2,
            23,
            5.3,
            19.9,
            11.4,
            17,
            19.1,
            19.7,
            14.9,
            11.9,
            18.6,
            8.4,
            13.3,
            16.1,
            7.4,
            2.9,
            16.8,
            15.3,
            7.8,
            21.5,
            15.4,
            16.5,
            20.5,
            15.7,
            3,
            12.8,
            3.1,
            18.2,
            1.8,
            17.5,
            18.1,
            1.9,
            15.2,
            23.4,
            6.7,
            23.3,
            19.4,
            8.3,
            20.8,
            19.6,
            26,
            11.8,
            13.5,
            26.1,
            6.6,
            12,
            4.7,
            17.1,
            3.6,
            11.1,
            14.8,
            23,
            0.6,
            4.6,
            16.2,
            6.4,
            20.9,
            5.7,
            4.3,
            23.1,
            14.6,
            16.7,
            3.2,
            17.7,
            11.3,
            7.9,
            2.4,
            16.9,
            13.8,
            4,
            11,
            14.2,
            1.3,
            12.1,
            3.3,
            31.2,
            17,
            1.5,
            20.8,
            19.1,
            43.1,
            10.8,
            34,
            14.4,
            20.9,
            8.1,
            21,
            10.9,
            2.4,
            20.5,
            13.5,
            9.8,
            21.2,
            1.9,
            22.2,
            34,
            14.6,
            1.2,
            18.9,
            9.5,
            14.1,
            5,
            37.3,
            22.1,
            15.9,
            22.4,
            3.7,
            3.9,
            4.9,
            19.6,
            43.4,
            3.4,
            15,
            35.6,
            20.5,
            14.8,
            13.7,
            1.9,
            2,
            3.7,
            19.8,
            18.7,
            20,
            4.7,
            24.3,
            8.4,
            17.8,
            13.6,
            2.9,
            33.4,
            2.2,
            11.3,
            4.2,
            18.4,
            8.3,
            4.3,
            10.2,
            1.1,
            3,
            1.7,
            2.1,
            1.9,
            16.5,
            42,
            20.3,
            12.2,
            2.5,
            14.8
           ],
           "xaxis": "x",
           "yaxis": "y"
          }
         ],
         "name": "2000"
        },
        {
         "data": [
          {
           "alignmentgroup": "True",
           "bingroup": "x",
           "hoverlabel": {
            "namelength": 0
           },
           "hovertemplate": "year=2001<br>pct_obese=%{x}<br>count=%{y}",
           "legendgroup": "",
           "marker": {
            "color": "#636efa"
           },
           "name": "",
           "nbinsx": 60,
           "offsetgroup": "",
           "orientation": "v",
           "showlegend": false,
           "type": "histogram",
           "x": [
            8.1,
            21.4,
            21.4,
            1.4,
            15.4,
            2.3,
            14.7,
            3.6,
            20.3,
            26.9,
            3.4,
            24,
            34.8,
            1.8,
            38.2,
            2,
            5.2,
            22.1,
            20.9,
            13.9,
            15.2,
            20.6,
            18.6,
            16.9,
            22.5,
            12.4,
            13.7,
            15.5,
            21.7,
            44,
            14.7,
            3.9,
            4.1,
            2.7,
            1.5,
            22.9,
            5.1,
            19.2,
            11.4,
            19.3,
            8.4,
            1.2,
            15.4,
            2.3,
            2.2,
            20.8,
            42.7,
            3,
            18.3,
            23,
            16.2,
            14.2,
            3.6,
            3.1,
            14,
            24.7,
            16.8,
            18,
            3.9,
            17.1,
            6,
            19.7,
            44,
            2.6,
            13.8,
            20,
            2,
            15,
            19.3,
            12.2,
            1.3,
            6.8,
            17.6,
            11.5,
            15,
            23.3,
            16.7,
            21.2,
            4.5,
            17.3,
            2.7,
            4.4,
            15.7,
            23.7,
            7.1,
            8.7,
            19,
            4.8,
            2.3,
            2.5,
            21.3,
            15.3,
            3.6,
            18.9,
            23.3,
            20.2,
            17.4,
            11.9,
            2,
            18.6,
            34.4,
            21,
            16,
            26.7,
            29,
            3.3,
            3.7,
            12.6,
            8.9,
            0.6,
            14.7,
            6.8,
            14.5,
            15.1,
            1.5,
            2.7,
            3.3,
            16.4,
            15.8,
            3,
            16.2,
            1.6,
            21.5,
            16.8,
            17.2,
            14.3,
            19.6,
            12.2,
            4,
            14.8,
            18.8,
            2,
            3.2,
            5,
            2.2,
            20.3,
            3.5,
            36.4,
            15.4,
            15.5,
            10.6,
            1.8,
            4.1,
            8.6,
            5.5,
            13.3,
            9.3,
            3.4,
            54.6,
            14.2,
            1.7,
            9.9,
            12.3,
            20,
            2,
            18.6,
            21.1,
            18.1,
            8.1,
            17.3,
            7.7,
            20,
            8.6,
            4.2,
            1.9,
            34.7,
            9.9,
            20.7,
            14.4,
            12.5,
            14,
            4.2,
            3.9,
            11.2,
            14.6,
            10.1,
            6.8,
            21.2,
            23.7,
            31.7,
            3.4,
            11.7,
            11.7,
            20.3,
            4.5,
            12.5,
            4.7,
            2.5,
            8.5,
            17.4,
            11.2
           ],
           "xaxis": "x",
           "yaxis": "y"
          }
         ],
         "name": "2001"
        },
        {
         "data": [
          {
           "alignmentgroup": "True",
           "bingroup": "x",
           "hoverlabel": {
            "namelength": 0
           },
           "hovertemplate": "year=2002<br>pct_obese=%{x}<br>count=%{y}",
           "legendgroup": "",
           "marker": {
            "color": "#636efa"
           },
           "name": "",
           "nbinsx": 60,
           "offsetgroup": "",
           "orientation": "v",
           "showlegend": false,
           "type": "histogram",
           "x": [
            3.8,
            2.6,
            14.9,
            3.6,
            45,
            2.1,
            17.2,
            21,
            20.9,
            24.6,
            21.4,
            18.6,
            3.7,
            44.7,
            17.2,
            4.8,
            37.3,
            3.8,
            22.8,
            8.6,
            15,
            22.3,
            3.8,
            4.1,
            20,
            14.9,
            3.5,
            16.3,
            27.7,
            18.1,
            4.7,
            2.6,
            16.1,
            11.6,
            21.5,
            32.3,
            3.2,
            17.3,
            12.9,
            3.7,
            1.7,
            11.7,
            20.2,
            16.5,
            2.8,
            14.2,
            8.8,
            21.7,
            3.2,
            15.4,
            17.6,
            19.7,
            16.6,
            4.3,
            12.1,
            2,
            19,
            21.2,
            4.8,
            18,
            12.1,
            20.9,
            3.5,
            7.3,
            10.5,
            4.1,
            14.5,
            11.9,
            35.5,
            10.4,
            24.2,
            3.5,
            12.3,
            1.4,
            15.1,
            18.8,
            23.7,
            16.5,
            14.7,
            0.7,
            3.3,
            7,
            14.3,
            4.2,
            2.8,
            35.4,
            4.6,
            27.5,
            9.2,
            29.4,
            25.2,
            12.6,
            3.1,
            2.4,
            7.1,
            11.9,
            15.3,
            16.8,
            2.9,
            23.6,
            17.3,
            43.4,
            21.6,
            17.5,
            18.3,
            16,
            1.3,
            2.4,
            1.6,
            15.6,
            6.2,
            12.9,
            24.1,
            20.5,
            39.1,
            35.7,
            17.9,
            20.6,
            4.1,
            21.4,
            23.6,
            15.3,
            3.5,
            15.8,
            4.3,
            21.9,
            10.3,
            14.4,
            15.7,
            1.9,
            19.2,
            1.6,
            15.2,
            23.5,
            2.4,
            2.9,
            19.1,
            22.8,
            20.9,
            14.2,
            15.9,
            1.4,
            8.3,
            5.3,
            2.1,
            15.9,
            5.5,
            2.1,
            12.9,
            21.9,
            19.7,
            8.9,
            21.8,
            13.9,
            2.2,
            1.9,
            17.8,
            2.3,
            14.8,
            19.4,
            12.5,
            9,
            15.1,
            19.2,
            3.3,
            16.1,
            5.2,
            20.7,
            11.1,
            7.6,
            15.9,
            4.3,
            8.9,
            8,
            8.5,
            20.4,
            19.5,
            5.8,
            9.5,
            1.8,
            55,
            2.4,
            12.6,
            14.7,
            20.7,
            2.1,
            19.1,
            21.8,
            17.7,
            4.9,
            13
           ],
           "xaxis": "x",
           "yaxis": "y"
          }
         ],
         "name": "2002"
        },
        {
         "data": [
          {
           "alignmentgroup": "True",
           "bingroup": "x",
           "hoverlabel": {
            "namelength": 0
           },
           "hovertemplate": "year=2003<br>pct_obese=%{x}<br>count=%{y}",
           "legendgroup": "",
           "marker": {
            "color": "#636efa"
           },
           "name": "",
           "nbinsx": 60,
           "offsetgroup": "",
           "orientation": "v",
           "showlegend": false,
           "type": "histogram",
           "x": [
            3.3,
            19.6,
            16.1,
            17.1,
            25.2,
            28.1,
            5.7,
            36.6,
            4.2,
            21.8,
            3.6,
            45.5,
            15,
            14.4,
            15.3,
            13,
            4.3,
            15.3,
            12.8,
            16.7,
            13.4,
            12.6,
            4.9,
            21.1,
            13.3,
            18,
            9,
            2.2,
            12.4,
            15.5,
            23.9,
            8.9,
            17.5,
            3.3,
            16.9,
            3.5,
            2.1,
            4,
            2.8,
            22.4,
            21.1,
            8.9,
            36.3,
            12.3,
            8.3,
            15.5,
            18.4,
            2.2,
            19.4,
            3.1,
            15,
            16.3,
            4.3,
            7.4,
            21.5,
            8.6,
            2.3,
            23.4,
            3,
            10.9,
            3.7,
            9.5,
            15.5,
            11.6,
            12.1,
            23.2,
            7.3,
            2.6,
            16.2,
            1.7,
            6.6,
            20.8,
            4.5,
            1.8,
            11.9,
            2,
            55.5,
            20.3,
            29.8,
            24.5,
            12.8,
            1.5,
            13.3,
            24.8,
            10.9,
            23.8,
            9.3,
            20.9,
            22.4,
            20.8,
            15.8,
            16.1,
            39.9,
            4.4,
            3.7,
            32.8,
            21.1,
            22.3,
            20.9,
            5.1,
            18.5,
            3.5,
            5.6,
            19.7,
            9.3,
            16.4,
            16.6,
            21.9,
            16.5,
            7.7,
            3.7,
            2.2,
            10.7,
            19.7,
            5.5,
            12.5,
            22.4,
            13.3,
            2.4,
            17.6,
            19.7,
            21.9,
            1.4,
            15.1,
            38.2,
            13,
            20.2,
            3.7,
            24.3,
            21.9,
            15.3,
            46,
            4,
            21.5,
            8,
            18.6,
            4.6,
            14.6,
            15.8,
            4.5,
            4.9,
            9.2,
            17.9,
            3.6,
            19.5,
            16.8,
            16.6,
            15.4,
            21.9,
            21.5,
            0.7,
            4,
            2.5,
            18.1,
            3.9,
            17.9,
            18.7,
            2.2,
            2.5,
            25.6,
            1.8,
            19.3,
            19.6,
            14.6,
            4.8,
            15.7,
            18.4,
            44.1,
            20.4,
            36.3,
            24.1,
            6,
            3.9,
            19.2,
            15.9,
            17.7,
            21.6,
            9.7,
            1.4,
            17.1,
            28.4,
            16.9,
            2,
            5,
            22.9,
            2.6,
            3,
            1.8,
            2.7,
            3,
            14.5
           ],
           "xaxis": "x",
           "yaxis": "y"
          }
         ],
         "name": "2003"
        },
        {
         "data": [
          {
           "alignmentgroup": "True",
           "bingroup": "x",
           "hoverlabel": {
            "namelength": 0
           },
           "hovertemplate": "year=2004<br>pct_obese=%{x}<br>count=%{y}",
           "legendgroup": "",
           "marker": {
            "color": "#636efa"
           },
           "name": "",
           "nbinsx": 60,
           "offsetgroup": "",
           "orientation": "v",
           "showlegend": false,
           "type": "histogram",
           "x": [
            9.5,
            5.8,
            24.1,
            3.3,
            8.5,
            3.5,
            23.1,
            2.2,
            18.8,
            18.9,
            9.6,
            18.5,
            2.3,
            4.9,
            17.6,
            2.7,
            15.9,
            20.1,
            15.8,
            21.3,
            17.5,
            17.3,
            12.1,
            7.5,
            17.3,
            28.4,
            1.9,
            5,
            37.1,
            18.3,
            3.2,
            3.1,
            14.8,
            9.2,
            4.8,
            15,
            3.7,
            24.2,
            4,
            16.3,
            20.6,
            1.5,
            13.4,
            15.8,
            3.4,
            24.9,
            18.4,
            2.7,
            2.6,
            22.3,
            17.2,
            15.8,
            18.3,
            17.2,
            18.1,
            30.3,
            9.8,
            21.5,
            21.4,
            16.5,
            22.8,
            13.6,
            20.1,
            5.3,
            12.9,
            2.2,
            5.1,
            3.8,
            17.2,
            9.6,
            8.2,
            25,
            4.5,
            21.7,
            19.9,
            12.7,
            37.2,
            11.5,
            16.6,
            1.9,
            12.2,
            21.4,
            12.6,
            3,
            22.4,
            16,
            19.9,
            15.5,
            1.9,
            2.3,
            21.2,
            3.9,
            22.3,
            23.6,
            16.6,
            1.8,
            4.6,
            25.8,
            3.1,
            15.8,
            55.9,
            24,
            9.3,
            21.4,
            22,
            8.6,
            16.8,
            8.8,
            13.2,
            20.8,
            2.6,
            3.7,
            5.8,
            17,
            17.2,
            6,
            2.3,
            13.7,
            13,
            19.1,
            2.5,
            18,
            16.5,
            19.7,
            4.2,
            15.9,
            17.3,
            3.8,
            4.2,
            3.8,
            4,
            17.9,
            19.2,
            9.3,
            5.1,
            15.4,
            39,
            22.4,
            13.4,
            2.3,
            46.9,
            24.7,
            20.9,
            15.1,
            20.1,
            29.2,
            4.5,
            22.9,
            2.8,
            23.5,
            5.3,
            16.4,
            4.2,
            46.3,
            22.1,
            2.7,
            25.3,
            18.9,
            19.8,
            22.2,
            3.8,
            13.7,
            4.6,
            26.1,
            21.4,
            22.9,
            22.1,
            11.1,
            4.4,
            15.6,
            12.8,
            44.8,
            7.6,
            9.9,
            1.5,
            19.9,
            11.3,
            2.1,
            15,
            6.3,
            13.3,
            6.9,
            16.3,
            0.8,
            20,
            4.9,
            1.6,
            37.4,
            40.8,
            33.3,
            13.8
           ],
           "xaxis": "x",
           "yaxis": "y"
          }
         ],
         "name": "2004"
        },
        {
         "data": [
          {
           "alignmentgroup": "True",
           "bingroup": "x",
           "hoverlabel": {
            "namelength": 0
           },
           "hovertemplate": "year=2005<br>pct_obese=%{x}<br>count=%{y}",
           "legendgroup": "",
           "marker": {
            "color": "#636efa"
           },
           "name": "",
           "nbinsx": 60,
           "offsetgroup": "",
           "orientation": "v",
           "showlegend": false,
           "type": "histogram",
           "x": [
            6.6,
            17.1,
            16.3,
            18.9,
            23.8,
            5.5,
            19.1,
            16.3,
            18.7,
            16.4,
            3.2,
            3,
            29.9,
            3.4,
            18.7,
            4.7,
            15.2,
            9.4,
            10.2,
            24.5,
            16.1,
            18.4,
            9.7,
            13.8,
            5.1,
            5.3,
            9.8,
            22.8,
            13.7,
            20.4,
            4.2,
            15.6,
            22.9,
            2.5,
            22.6,
            21.1,
            2,
            47.8,
            2.3,
            4,
            16.9,
            22.7,
            14,
            16.2,
            21.3,
            2.4,
            13.1,
            16,
            4.8,
            9,
            12.6,
            4.6,
            21.4,
            4.8,
            8.7,
            17.9,
            38.2,
            22,
            17.9,
            21.9,
            6.1,
            6.3,
            4,
            2.4,
            2.4,
            14.1,
            16.8,
            1.7,
            23.4,
            13.3,
            21.7,
            20.2,
            23.4,
            38,
            16.3,
            2,
            4.2,
            20.3,
            2.2,
            21.9,
            18.6,
            18.3,
            19.5,
            5.2,
            9.9,
            4,
            23.9,
            22.8,
            12.5,
            4.8,
            20.5,
            11.5,
            13.1,
            21.6,
            6.1,
            26.5,
            3.3,
            41.7,
            12.1,
            24.6,
            17.2,
            4.4,
            1.6,
            14,
            22,
            33.9,
            4.1,
            11.8,
            20.3,
            25.9,
            19.6,
            13.5,
            17.1,
            2.1,
            8.9,
            3.8,
            7.8,
            10.1,
            2.8,
            13.6,
            16.4,
            30.7,
            2.7,
            9.7,
            28.5,
            56.4,
            16.3,
            1.9,
            5.2,
            38,
            25.4,
            17,
            9.9,
            22,
            2.5,
            9,
            17.7,
            3.6,
            19.3,
            17.9,
            18.1,
            3.5,
            21.7,
            24.4,
            0.8,
            20.3,
            4.1,
            14.2,
            19.2,
            26.5,
            20.3,
            16.8,
            23.4,
            45.5,
            1.6,
            7.2,
            20.5,
            5.5,
            7.9,
            13.3,
            22.5,
            17.8,
            22.8,
            17.6,
            2.8,
            3.9,
            24,
            17.6,
            25.3,
            2.8,
            19.7,
            15.6,
            20.6,
            13.9,
            17.8,
            17.1,
            15.4,
            4.4,
            3.9,
            2.7,
            25.6,
            17.7,
            3.3,
            5.1,
            15.7,
            21.6,
            4.4,
            2.9,
            3.5,
            47.1,
            39.9
           ],
           "xaxis": "x",
           "yaxis": "y"
          }
         ],
         "name": "2005"
        },
        {
         "data": [
          {
           "alignmentgroup": "True",
           "bingroup": "x",
           "hoverlabel": {
            "namelength": 0
           },
           "hovertemplate": "year=2006<br>pct_obese=%{x}<br>count=%{y}",
           "legendgroup": "",
           "marker": {
            "color": "#636efa"
           },
           "name": "",
           "nbinsx": 60,
           "offsetgroup": "",
           "orientation": "v",
           "showlegend": false,
           "type": "histogram",
           "x": [
            46.2,
            7.5,
            20.8,
            1.7,
            16.2,
            6.8,
            20.4,
            8.2,
            2.6,
            14.4,
            2.3,
            16.8,
            48.7,
            11.9,
            13.8,
            23.4,
            10.4,
            18.8,
            16,
            16.9,
            3.5,
            16.8,
            2.5,
            4.6,
            18.1,
            3.8,
            5.4,
            10.1,
            18.2,
            18.2,
            4.2,
            18.7,
            2.2,
            19.3,
            3.8,
            4.4,
            2.5,
            0.9,
            4.1,
            20.8,
            4.3,
            14.2,
            42.6,
            14.6,
            23.4,
            20.2,
            5.5,
            24.5,
            22.6,
            17.5,
            23.9,
            4,
            4.9,
            21.8,
            2.9,
            21.9,
            16.1,
            9.2,
            20.9,
            2.9,
            14,
            17.5,
            22,
            25.9,
            18.7,
            25.2,
            56.8,
            21.7,
            16.9,
            3.5,
            27.1,
            2.1,
            17.6,
            18.7,
            5,
            23.2,
            22.1,
            24.3,
            4.2,
            10.1,
            40.8,
            9.5,
            6.3,
            47.9,
            17.8,
            14.4,
            5,
            4.8,
            38.9,
            4.7,
            34.5,
            23.2,
            3.8,
            5.8,
            17.3,
            1.8,
            18.2,
            12.4,
            20.1,
            24,
            26.4,
            3,
            14,
            14.6,
            3.1,
            2.5,
            10,
            6.6,
            9.2,
            30.6,
            21.1,
            24.6,
            22.9,
            19.6,
            21.9,
            19,
            10.3,
            23.3,
            12.8,
            10.4,
            8.1,
            13.6,
            3,
            2.2,
            16.8,
            38.8,
            17.7,
            12.7,
            20.7,
            13.5,
            16.6,
            22.3,
            25.9,
            5,
            9.1,
            18.4,
            2.5,
            10.2,
            4.2,
            5.7,
            13.8,
            20.8,
            31.1,
            14.4,
            28.4,
            2.1,
            18.4,
            19.1,
            16.9,
            2.9,
            23,
            14.2,
            3.1,
            26.2,
            19.7,
            16.3,
            3.6,
            1.7,
            4.7,
            17.9,
            21.6,
            15.8,
            17.5,
            15.5,
            4.1,
            24.8,
            9.7,
            3.5,
            5.5,
            19.1,
            38.8,
            3.7,
            5.4,
            4.4,
            24,
            27,
            13.1,
            22.1,
            22.4,
            19.8,
            18.6,
            5.3,
            24.6,
            16.8,
            20.7,
            22.4,
            20.1,
            21,
            17.2,
            6.3,
            2.6
           ],
           "xaxis": "x",
           "yaxis": "y"
          }
         ],
         "name": "2006"
        },
        {
         "data": [
          {
           "alignmentgroup": "True",
           "bingroup": "x",
           "hoverlabel": {
            "namelength": 0
           },
           "hovertemplate": "year=2007<br>pct_obese=%{x}<br>count=%{y}",
           "legendgroup": "",
           "marker": {
            "color": "#636efa"
           },
           "name": "",
           "nbinsx": 60,
           "offsetgroup": "",
           "orientation": "v",
           "showlegend": false,
           "type": "histogram",
           "x": [
            19,
            21.5,
            21.4,
            3.7,
            18.2,
            22.5,
            22.4,
            25.1,
            9.9,
            4,
            21.4,
            16.6,
            25.2,
            22.3,
            15.9,
            18.1,
            5.1,
            26.5,
            5.9,
            22.9,
            19.6,
            25.8,
            19.3,
            31.6,
            57.3,
            5.6,
            6.6,
            4.7,
            3.6,
            17.4,
            27.8,
            17.9,
            2.3,
            18.6,
            19.7,
            3.9,
            5.2,
            23.7,
            20.2,
            4.1,
            10.4,
            24.7,
            4.4,
            2.2,
            39.5,
            2.7,
            21.7,
            2.6,
            16.3,
            23.4,
            20.6,
            10,
            19.2,
            3,
            4.3,
            5.8,
            14.6,
            17.5,
            17.3,
            4.6,
            4.5,
            18.7,
            19.4,
            17.4,
            4.8,
            19,
            17.3,
            3.7,
            19.9,
            4.9,
            26.8,
            20.7,
            2.8,
            20.4,
            10.6,
            31.3,
            3.2,
            16.2,
            3.1,
            22.2,
            5.7,
            3.3,
            25.1,
            18.3,
            6.1,
            4.3,
            23.8,
            3.7,
            5.4,
            18.5,
            1.8,
            48.8,
            41.7,
            18.5,
            49.5,
            23.9,
            15,
            16.6,
            4.9,
            2.7,
            28.5,
            19.3,
            14.8,
            24.4,
            9.6,
            5.3,
            24,
            23.4,
            35.2,
            13.6,
            39.6,
            26.3,
            19,
            27.4,
            5.2,
            15,
            4.9,
            14.4,
            17.1,
            17.8,
            1.9,
            14,
            8.4,
            24.9,
            22.6,
            23.1,
            10.4,
            43.5,
            21.3,
            14.9,
            7.9,
            7.1,
            24.6,
            21.1,
            16.9,
            10.6,
            14.2,
            20.7,
            12.3,
            1.8,
            8.5,
            46.9,
            2.4,
            17.4,
            4.4,
            2.3,
            6,
            22.8,
            17.6,
            14.2,
            2.7,
            20.7,
            21.1,
            12.9,
            17.3,
            6.9,
            14.1,
            21.2,
            18.8,
            2.4,
            4.2,
            22.2,
            19.4,
            4.5,
            21.1,
            1,
            3.1,
            23.8,
            22.5,
            3.1,
            10.8,
            9.4,
            13.1,
            10.7,
            17.9,
            22.3,
            6.6,
            9.6,
            19.2,
            3.1,
            14.7,
            14.5,
            27,
            5.1,
            15,
            13.4,
            18.2,
            39.6,
            10.4,
            24.6,
            2.6
           ],
           "xaxis": "x",
           "yaxis": "y"
          }
         ],
         "name": "2007"
        },
        {
         "data": [
          {
           "alignmentgroup": "True",
           "bingroup": "x",
           "hoverlabel": {
            "namelength": 0
           },
           "hovertemplate": "year=2008<br>pct_obese=%{x}<br>count=%{y}",
           "legendgroup": "",
           "marker": {
            "color": "#636efa"
           },
           "name": "",
           "nbinsx": 60,
           "offsetgroup": "",
           "orientation": "v",
           "showlegend": false,
           "type": "histogram",
           "x": [
            22.2,
            22.6,
            20.3,
            24.9,
            4.7,
            11.1,
            12.8,
            21.9,
            1.1,
            3.3,
            18.1,
            5,
            25.9,
            32,
            10,
            19,
            5.6,
            5.1,
            23,
            1.9,
            6.4,
            18.8,
            15.5,
            14.2,
            18.7,
            18,
            40.4,
            21.6,
            19.7,
            5.3,
            21.4,
            24.4,
            44.4,
            21.5,
            4.5,
            8.8,
            10.7,
            2.8,
            4.9,
            10.1,
            6,
            3.3,
            28.7,
            10.5,
            9.7,
            18.3,
            19.8,
            18.8,
            4.4,
            3.8,
            23.1,
            22.8,
            4.8,
            5.3,
            27.9,
            25,
            21.5,
            47.6,
            8.2,
            19.4,
            17.7,
            21.6,
            1.9,
            2.9,
            20.2,
            21,
            22.5,
            26.9,
            18.3,
            2.6,
            20,
            10.7,
            14.9,
            6.2,
            5.3,
            16.9,
            25.2,
            18.3,
            27.5,
            25.2,
            23.9,
            25.2,
            15.4,
            20.6,
            23.3,
            3.9,
            4.2,
            22.9,
            8.8,
            22.8,
            3.4,
            2.4,
            4.5,
            5.2,
            26.4,
            18.8,
            13.4,
            6.9,
            27.1,
            57.7,
            17.7,
            2.1,
            19.1,
            7.5,
            3.3,
            10.1,
            2.8,
            21.1,
            5.2,
            2.8,
            17.1,
            16.2,
            24.4,
            11,
            15.4,
            23.7,
            6.4,
            35.9,
            5.9,
            14.7,
            13.5,
            19.2,
            50.3,
            3.5,
            15,
            21.2,
            19.5,
            4.8,
            4.3,
            18,
            17.8,
            15,
            3.3,
            3.9,
            49.6,
            22,
            10.9,
            42.6,
            2.5,
            17.5,
            17.9,
            14.4,
            18.8,
            24.2,
            16.6,
            27.5,
            15.3,
            15.3,
            3.9,
            28.5,
            10.7,
            14.1,
            4.2,
            6,
            18.1,
            22.7,
            5.6,
            23.8,
            19.8,
            23.3,
            4.6,
            14.7,
            21,
            19.6,
            4.6,
            40.3,
            7,
            19.9,
            21.9,
            3.2,
            7.3,
            15.3,
            2.9,
            20,
            25.4,
            17.9,
            2.4,
            14.6,
            11.1,
            24.6,
            24.3,
            16.7,
            21.6,
            40.3,
            32,
            19.7,
            2.9,
            5.3,
            19.7,
            2.4,
            25.7
           ],
           "xaxis": "x",
           "yaxis": "y"
          }
         ],
         "name": "2008"
        },
        {
         "data": [
          {
           "alignmentgroup": "True",
           "bingroup": "x",
           "hoverlabel": {
            "namelength": 0
           },
           "hovertemplate": "year=2009<br>pct_obese=%{x}<br>count=%{y}",
           "legendgroup": "",
           "marker": {
            "color": "#636efa"
           },
           "name": "",
           "nbinsx": 60,
           "offsetgroup": "",
           "orientation": "v",
           "showlegend": false,
           "type": "histogram",
           "x": [
            24.8,
            5,
            3.6,
            3,
            21.7,
            2.5,
            2,
            4.5,
            5.5,
            4.8,
            20.2,
            6.3,
            21.7,
            20.1,
            3,
            15.2,
            51.1,
            24.2,
            20,
            43.5,
            5,
            18.3,
            7.8,
            5.9,
            27,
            27.7,
            19.4,
            41.1,
            7.2,
            17.6,
            4.7,
            23.5,
            14.8,
            32.7,
            2.5,
            15.2,
            25.4,
            3.5,
            2.2,
            58.1,
            25,
            14.9,
            3.4,
            23.2,
            11.5,
            4.2,
            22.8,
            5.1,
            4.5,
            3.6,
            19.5,
            20.1,
            14.2,
            18.8,
            25.6,
            41,
            18.4,
            20.4,
            25.8,
            15.9,
            21.1,
            26.7,
            6.8,
            11,
            3,
            4.1,
            21,
            6.3,
            25.9,
            3.4,
            22,
            32.5,
            11.1,
            23.2,
            2.7,
            21.3,
            2.5,
            27.4,
            10.3,
            20.4,
            13.3,
            2.7,
            11.5,
            11,
            25.2,
            45.2,
            6.5,
            5.6,
            25,
            23.7,
            9.9,
            21.8,
            20.7,
            14.8,
            19.8,
            9.1,
            9.1,
            22.5,
            23.9,
            23.3,
            24.3,
            6.7,
            36.6,
            20.2,
            4.5,
            15.8,
            8.6,
            11,
            22.5,
            48.2,
            17.1,
            19.2,
            18.4,
            23,
            18.7,
            4.7,
            22,
            4,
            5,
            28.2,
            22.3,
            5.5,
            28.3,
            3.3,
            25.4,
            7.3,
            2.9,
            20.2,
            1.2,
            18.7,
            5.4,
            4.8,
            4,
            24.7,
            5.7,
            13.7,
            18.1,
            19.1,
            10.4,
            29.2,
            19.4,
            18.2,
            18.2,
            2.1,
            3.1,
            25.7,
            15.5,
            4.7,
            15.8,
            50.4,
            23.3,
            22,
            19.3,
            16.6,
            18.5,
            7.7,
            26.2,
            11.1,
            17,
            16.1,
            20.7,
            21.8,
            11.5,
            29,
            20.4,
            18.5,
            4.4,
            15.5,
            3.1,
            23.8,
            15.4,
            15.7,
            20.5,
            6.1,
            21.6,
            22.8,
            41,
            15.9,
            18.7,
            28.1,
            10.7,
            18.7,
            5.5,
            17.2,
            15.2,
            3.7,
            22,
            19.4,
            5.2,
            5.5,
            24.5
           ],
           "xaxis": "x",
           "yaxis": "y"
          }
         ],
         "name": "2009"
        },
        {
         "data": [
          {
           "alignmentgroup": "True",
           "bingroup": "x",
           "hoverlabel": {
            "namelength": 0
           },
           "hovertemplate": "year=2010<br>pct_obese=%{x}<br>count=%{y}",
           "legendgroup": "",
           "marker": {
            "color": "#636efa"
           },
           "name": "",
           "nbinsx": 60,
           "offsetgroup": "",
           "orientation": "v",
           "showlegend": false,
           "type": "histogram",
           "x": [
            22.8,
            5.7,
            4.9,
            28.7,
            11.3,
            9.5,
            23.1,
            4.6,
            7.3,
            4.2,
            21.2,
            25.3,
            5.3,
            7,
            16.3,
            22.5,
            16.3,
            22.4,
            28.9,
            22.7,
            23,
            18.8,
            17.6,
            8.9,
            23.8,
            19.8,
            25.8,
            20.1,
            24.9,
            6.7,
            48.9,
            19.4,
            22.2,
            4.3,
            22.5,
            19,
            3.2,
            27.4,
            16.3,
            2.2,
            2.9,
            26.5,
            18.8,
            25,
            3.3,
            25.9,
            9.5,
            11.4,
            19.4,
            23.5,
            17.5,
            26.7,
            19.2,
            5.8,
            28.6,
            21.6,
            6.8,
            27.9,
            46.1,
            23.2,
            21,
            11.3,
            2.9,
            15.9,
            13.8,
            2.7,
            23.7,
            10.8,
            19.5,
            19,
            17.5,
            5.1,
            19.9,
            23.3,
            20.8,
            19.6,
            41.7,
            19.1,
            1.3,
            3.5,
            22.4,
            29.5,
            11.5,
            10.2,
            33.1,
            24.3,
            21,
            3.6,
            26.7,
            21.8,
            25.8,
            4.1,
            3.2,
            11.9,
            5.8,
            3,
            21.5,
            37.2,
            16.1,
            6.4,
            25.9,
            58.5,
            2.1,
            25.5,
            17,
            51.1,
            12,
            26,
            5,
            3.6,
            4.5,
            11.2,
            23.3,
            15.7,
            11.7,
            15.6,
            18.8,
            15.9,
            2.4,
            28.3,
            3.8,
            22.4,
            41.9,
            5.4,
            16.7,
            20.3,
            27.6,
            30,
            5.7,
            19.9,
            18.8,
            18.7,
            4.9,
            7.5,
            15.4,
            19,
            4.8,
            11.9,
            23.8,
            18.2,
            3.7,
            14.1,
            21.4,
            2.6,
            3.3,
            33.4,
            6.2,
            24,
            3.8,
            5.7,
            24.5,
            20.5,
            15.4,
            19.7,
            22.1,
            20.7,
            5.8,
            51.8,
            4,
            25.3,
            20.8,
            16,
            21.1,
            22,
            24.4,
            15.7,
            10.6,
            44.3,
            14.9,
            25.7,
            41.7,
            7.6,
            20.6,
            5.6,
            6.5,
            3.1,
            15.6,
            4.7,
            5.4,
            2.7,
            20.6,
            8.1,
            5.3,
            16.3,
            19.4,
            5.1,
            20.9,
            5.8,
            5.2,
            24.3,
            8
           ],
           "xaxis": "x",
           "yaxis": "y"
          }
         ],
         "name": "2010"
        },
        {
         "data": [
          {
           "alignmentgroup": "True",
           "bingroup": "x",
           "hoverlabel": {
            "namelength": 0
           },
           "hovertemplate": "year=2011<br>pct_obese=%{x}<br>count=%{y}",
           "legendgroup": "",
           "marker": {
            "color": "#636efa"
           },
           "name": "",
           "nbinsx": 60,
           "offsetgroup": "",
           "orientation": "v",
           "showlegend": false,
           "type": "histogram",
           "x": [
            19.6,
            19.3,
            5.6,
            21.1,
            11.7,
            14.3,
            3.5,
            42.6,
            3.2,
            5.1,
            6,
            23.8,
            11.3,
            2.9,
            23.5,
            3.5,
            2.8,
            28.3,
            25.8,
            16.3,
            22,
            10.8,
            21.2,
            26.5,
            16.9,
            8.4,
            4.6,
            16.9,
            7,
            21,
            5.3,
            6,
            18.1,
            19.7,
            5.2,
            16.1,
            20.1,
            16.6,
            23.4,
            21.5,
            25.8,
            29.6,
            24.9,
            23.3,
            7.9,
            42.3,
            21.3,
            24.9,
            16.1,
            7.9,
            21.1,
            30.8,
            12.4,
            16,
            5.9,
            22.8,
            24.4,
            22.2,
            27.3,
            33.7,
            6.5,
            3.6,
            23.2,
            19.7,
            2.3,
            42.3,
            26.3,
            17.9,
            5.3,
            28.2,
            10,
            12.1,
            11.7,
            16.4,
            11.6,
            20.9,
            21.9,
            16.2,
            5.3,
            4.2,
            21.6,
            52.4,
            22.6,
            15.6,
            6.8,
            16.6,
            20,
            5.5,
            4.9,
            16.3,
            5.5,
            21.6,
            26.3,
            7.3,
            6.7,
            49.5,
            19.3,
            9.3,
            23.6,
            26.2,
            23.4,
            20.2,
            9.8,
            4.8,
            20.5,
            23.7,
            22.9,
            25.5,
            24.4,
            16.7,
            4.1,
            4,
            19.6,
            19.4,
            7.8,
            18.8,
            5.6,
            26.4,
            11.7,
            3.8,
            23.9,
            2.5,
            19.9,
            8.5,
            24.8,
            6.1,
            3.3,
            22.5,
            45.2,
            19.4,
            5.9,
            28.9,
            6,
            17.3,
            4.8,
            12.4,
            26,
            58.9,
            14.4,
            17.3,
            34,
            2.8,
            51.9,
            3.9,
            12.4,
            24.5,
            5.1,
            20.5,
            28.2,
            22.5,
            37.9,
            3.4,
            21.5,
            19.9,
            23.7,
            29.2,
            20,
            6,
            25.6,
            22.7,
            5.5,
            1.4,
            26.3,
            3.2,
            27.5,
            10.5,
            17.9,
            21.6,
            30,
            12.1,
            3.7,
            4.3,
            20.4,
            7,
            3.4,
            29.1,
            16.5,
            22.9,
            21.9,
            27.2,
            4.4,
            47,
            20,
            5.6,
            3,
            2.4,
            19.2,
            19.4,
            16.8,
            24.9,
            24.1
           ],
           "xaxis": "x",
           "yaxis": "y"
          }
         ],
         "name": "2011"
        },
        {
         "data": [
          {
           "alignmentgroup": "True",
           "bingroup": "x",
           "hoverlabel": {
            "namelength": 0
           },
           "hovertemplate": "year=2012<br>pct_obese=%{x}<br>count=%{y}",
           "legendgroup": "",
           "marker": {
            "color": "#636efa"
           },
           "name": "",
           "nbinsx": 60,
           "offsetgroup": "",
           "orientation": "v",
           "showlegend": false,
           "type": "histogram",
           "x": [
            6.8,
            4,
            12.9,
            34.7,
            2.9,
            20.4,
            2.6,
            16.6,
            5.3,
            3.4,
            23.1,
            27.9,
            19.9,
            26.2,
            3.6,
            21.3,
            14.9,
            3.5,
            22.3,
            3.2,
            25.3,
            11.1,
            3.7,
            26.4,
            8.9,
            11.8,
            47.8,
            29.7,
            43.3,
            12.3,
            12,
            6.2,
            26.8,
            8.1,
            20.1,
            19.9,
            17.2,
            28.8,
            2.7,
            26.6,
            22.9,
            14.7,
            8.3,
            1.5,
            17.1,
            24.2,
            24.9,
            26.3,
            7,
            23.7,
            24.1,
            23.3,
            24.6,
            7.6,
            24.3,
            19.8,
            29,
            12,
            24.5,
            26.6,
            18.5,
            20.3,
            4.6,
            5.4,
            19.9,
            6.1,
            20.9,
            26.9,
            25.4,
            4.5,
            5.1,
            27.2,
            5.5,
            17.7,
            19.9,
            7.3,
            16.6,
            5.8,
            22.2,
            5.8,
            5.6,
            20.7,
            17.5,
            23.5,
            23.2,
            7.1,
            16.7,
            25.6,
            53,
            16.8,
            22.4,
            17,
            27.9,
            21.6,
            10.8,
            26.6,
            17.3,
            16.9,
            9.7,
            34.3,
            52.5,
            21.9,
            17.9,
            21.9,
            26,
            20.2,
            10.1,
            17.1,
            16.7,
            12.9,
            6.3,
            21.4,
            24.2,
            5,
            20.6,
            59.3,
            25.3,
            50.1,
            23.4,
            3.4,
            21,
            29.5,
            30.6,
            17.2,
            38.6,
            5.9,
            20.2,
            4.8,
            8.4,
            3,
            4.3,
            21,
            25,
            4.4,
            18.7,
            29.5,
            5.1,
            10.4,
            19.3,
            3.9,
            24.5,
            30.3,
            22.4,
            23.1,
            7.3,
            6.4,
            46,
            3.8,
            43,
            5.6,
            23,
            16.3,
            5.9,
            2.4,
            12.9,
            20.4,
            4.4,
            12.7,
            31.6,
            26.7,
            42.9,
            3.8,
            17.4,
            23.9,
            3.9,
            19.6,
            8.9,
            28.8,
            5.9,
            22,
            22.7,
            20.4,
            6.1,
            12.5,
            12,
            25,
            22.4,
            21.6,
            20.8,
            23.9,
            20.4,
            24.2,
            3,
            5.4,
            28.3,
            6.2,
            5.9,
            22.1,
            6.3,
            18.3,
            3.6
           ],
           "xaxis": "x",
           "yaxis": "y"
          }
         ],
         "name": "2012"
        },
        {
         "data": [
          {
           "alignmentgroup": "True",
           "bingroup": "x",
           "hoverlabel": {
            "namelength": 0
           },
           "hovertemplate": "year=2013<br>pct_obese=%{x}<br>count=%{y}",
           "legendgroup": "",
           "marker": {
            "color": "#636efa"
           },
           "name": "",
           "nbinsx": 60,
           "offsetgroup": "",
           "orientation": "v",
           "showlegend": false,
           "type": "histogram",
           "x": [
            53.6,
            23.5,
            19.9,
            23.2,
            5.3,
            20.9,
            6.1,
            4.7,
            27.1,
            6.1,
            6.5,
            4.6,
            29.2,
            3.4,
            20.5,
            13.4,
            7.4,
            28.7,
            8,
            22.8,
            6.2,
            20.1,
            20.8,
            4.8,
            29.9,
            6.4,
            50.7,
            24.6,
            6.3,
            11.1,
            24.8,
            27.1,
            25.8,
            26.2,
            13.4,
            10.1,
            21.3,
            10.4,
            24.9,
            26.6,
            25.4,
            24.3,
            4.1,
            39.3,
            17.8,
            27.5,
            3.8,
            17.1,
            5,
            3.5,
            21.8,
            6.7,
            59.7,
            12.3,
            20.5,
            4,
            17.8,
            24.4,
            30.3,
            22.7,
            26.8,
            21,
            18.7,
            20.9,
            22.8,
            4.5,
            31.3,
            1.6,
            25.1,
            21.5,
            23.3,
            2.7,
            24,
            6.2,
            5.7,
            22,
            11.3,
            3.9,
            6.5,
            20.5,
            32.4,
            23.9,
            27,
            28.5,
            12.9,
            6.6,
            17.5,
            9.3,
            43.6,
            26.9,
            21.5,
            19,
            17.9,
            5.9,
            5.5,
            20.5,
            5.2,
            46.9,
            3.7,
            9.3,
            2.9,
            25.1,
            4.1,
            27.3,
            8.4,
            3.8,
            19.9,
            30.1,
            5.6,
            25.5,
            4.2,
            21.5,
            3.2,
            35.4,
            27.1,
            29.4,
            21.1,
            23.5,
            20.6,
            23.8,
            7.3,
            17.7,
            4.8,
            17.3,
            17.3,
            17.7,
            21.4,
            25.8,
            20.8,
            15,
            18.5,
            53.1,
            13.5,
            6.6,
            20.5,
            6.1,
            12.9,
            18.1,
            7.6,
            23.2,
            25.9,
            18,
            3.6,
            9,
            12.3,
            17.5,
            24.5,
            21.7,
            3.2,
            5.8,
            17.4,
            3.1,
            22.7,
            25.6,
            29.8,
            22,
            17.3,
            24.2,
            29.3,
            31,
            24.7,
            10.9,
            22.8,
            26.9,
            21,
            22.4,
            25.6,
            12.4,
            22.5,
            17.1,
            34.9,
            43.7,
            15.5,
            24.9,
            13.5,
            19.3,
            5.1,
            3.9,
            8.6,
            6.2,
            2.5,
            7.7,
            7.1,
            18.1,
            23.6,
            44,
            23.5,
            5.8,
            27.9,
            12.3,
            48.6
           ],
           "xaxis": "x",
           "yaxis": "y"
          }
         ],
         "name": "2013"
        },
        {
         "data": [
          {
           "alignmentgroup": "True",
           "bingroup": "x",
           "hoverlabel": {
            "namelength": 0
           },
           "hovertemplate": "year=2014<br>pct_obese=%{x}<br>count=%{y}",
           "legendgroup": "",
           "marker": {
            "color": "#636efa"
           },
           "name": "",
           "nbinsx": 60,
           "offsetgroup": "",
           "orientation": "v",
           "showlegend": false,
           "type": "histogram",
           "x": [
            5.2,
            18,
            26,
            18.2,
            18.5,
            18.2,
            10.8,
            24,
            15.4,
            24.8,
            35.6,
            6.9,
            44.6,
            9.7,
            24,
            30.7,
            5.8,
            28.2,
            17.9,
            18.5,
            17.9,
            27.2,
            19.2,
            23.7,
            22.1,
            40.1,
            8.3,
            24,
            4,
            6.2,
            22.4,
            25.5,
            21.3,
            23.9,
            22.3,
            21,
            4.4,
            6.3,
            6,
            26.2,
            13.9,
            44.3,
            19.6,
            5.8,
            4.3,
            22.1,
            7.5,
            21.1,
            60,
            7,
            8,
            27.7,
            4.1,
            5.4,
            26.4,
            36,
            13.5,
            4.8,
            18.1,
            12.9,
            26.1,
            44.2,
            54.2,
            22.9,
            53.7,
            24,
            21.7,
            11.4,
            27.4,
            7.7,
            14.1,
            6.2,
            21.7,
            5.5,
            9.5,
            26.4,
            6.4,
            30.6,
            9,
            5,
            21.1,
            12.7,
            6.3,
            23.1,
            21.7,
            25.3,
            30.9,
            23.3,
            3.4,
            6,
            3.7,
            16.1,
            19.9,
            22.1,
            4,
            6.8,
            23,
            18.3,
            25.6,
            4.3,
            23.7,
            4.3,
            19.2,
            21.1,
            25.2,
            25.9,
            24.5,
            14,
            29.9,
            24.7,
            26.8,
            6.3,
            14.1,
            7,
            29.5,
            8,
            49.4,
            21.4,
            22.2,
            3.6,
            18.8,
            23.5,
            22.5,
            30.1,
            2.6,
            11.6,
            2.9,
            4.6,
            3.1,
            25.7,
            27.5,
            24.3,
            32,
            21.5,
            25.8,
            4.1,
            20.4,
            1.8,
            12.7,
            6.8,
            27.8,
            25.4,
            21.1,
            27.5,
            22.1,
            18.1,
            51.3,
            6.6,
            47.7,
            23.3,
            3.9,
            27.3,
            31.8,
            28.6,
            5.1,
            27.6,
            18.7,
            4,
            27.2,
            17.8,
            18.5,
            13.4,
            6.5,
            30.1,
            10.5,
            17.7,
            20.5,
            7.6,
            3.3,
            30.3,
            9.7,
            24.9,
            21.2,
            27.4,
            5.1,
            24.8,
            21.6,
            6.8,
            25.1,
            33.3,
            6.5,
            12.7,
            5.5,
            20.5,
            24.3,
            8.8,
            3.3,
            21,
            29.1,
            11.5,
            17.7
           ],
           "xaxis": "x",
           "yaxis": "y"
          }
         ],
         "name": "2014"
        },
        {
         "data": [
          {
           "alignmentgroup": "True",
           "bingroup": "x",
           "hoverlabel": {
            "namelength": 0
           },
           "hovertemplate": "year=2015<br>pct_obese=%{x}<br>count=%{y}",
           "legendgroup": "",
           "marker": {
            "color": "#636efa"
           },
           "name": "",
           "nbinsx": 60,
           "offsetgroup": "",
           "orientation": "v",
           "showlegend": false,
           "type": "histogram",
           "x": [
            4.2,
            32.5,
            22.4,
            24.5,
            4.3,
            21.9,
            26.4,
            21.5,
            9.3,
            7.4,
            48.5,
            8.3,
            13.5,
            23.9,
            22.5,
            7.9,
            26.2,
            24.7,
            5.7,
            28.1,
            18.2,
            25,
            21.8,
            22,
            18.6,
            26.3,
            19.6,
            22.7,
            6.3,
            26.1,
            3.1,
            1.9,
            32.9,
            2.8,
            21.9,
            4.8,
            24.1,
            24.1,
            26.9,
            5.5,
            18.4,
            7.4,
            4.2,
            14.1,
            26.8,
            23.4,
            6.6,
            4.5,
            21.7,
            26.9,
            14.7,
            54.3,
            19.4,
            19.2,
            19.8,
            21.9,
            19,
            18.9,
            25.2,
            22.8,
            18.6,
            18.8,
            23.7,
            31.5,
            18.2,
            15.8,
            26.4,
            23,
            7.8,
            10.9,
            6.8,
            11.1,
            22.2,
            16.8,
            3.9,
            6.5,
            24.5,
            27.8,
            26.1,
            19.6,
            23.7,
            14.7,
            40.8,
            7.2,
            26.5,
            18.8,
            23,
            28.9,
            22.8,
            36.3,
            8.7,
            18.6,
            7.3,
            45.3,
            7.1,
            24.4,
            25.9,
            14.1,
            28.6,
            4.2,
            27.5,
            13.1,
            7.3,
            11.8,
            30.5,
            25.6,
            25.7,
            21.6,
            28.1,
            6.8,
            34.1,
            20.9,
            26,
            12,
            13.1,
            10.2,
            4.5,
            30.6,
            5.3,
            21.7,
            25.3,
            51.8,
            6.8,
            27.7,
            29.3,
            4.2,
            28,
            18.8,
            3.4,
            6.5,
            24.8,
            54.7,
            24.6,
            22.6,
            5.7,
            4.6,
            6.2,
            22.5,
            7.1,
            26.6,
            25,
            6.1,
            19.2,
            31,
            22.7,
            13.1,
            31.3,
            30.7,
            50.2,
            10.1,
            29.8,
            21.2,
            25.2,
            9.2,
            6.5,
            28.4,
            4.5,
            20.6,
            3.3,
            10.1,
            3.8,
            11.9,
            36.7,
            14.7,
            6.8,
            20.8,
            23.4,
            8,
            5.4,
            31.4,
            6.6,
            5.1,
            3.5,
            21.6,
            22.1,
            20.2,
            28,
            14.5,
            3.6,
            24.8,
            44.9,
            6.2,
            18.7,
            60.4,
            8.4,
            28.3,
            4.3,
            27.9,
            30.2,
            44.8,
            5.8
           ],
           "xaxis": "x",
           "yaxis": "y"
          }
         ],
         "name": "2015"
        },
        {
         "data": [
          {
           "alignmentgroup": "True",
           "bingroup": "x",
           "hoverlabel": {
            "namelength": 0
           },
           "hovertemplate": "year=2016<br>pct_obese=%{x}<br>count=%{y}",
           "legendgroup": "",
           "marker": {
            "color": "#636efa"
           },
           "name": "",
           "nbinsx": 60,
           "offsetgroup": "",
           "orientation": "v",
           "showlegend": false,
           "type": "histogram",
           "x": [
            22.4,
            3.4,
            23.1,
            22.3,
            20.1,
            12.3,
            6.9,
            23.5,
            21.9,
            26.6,
            30.4,
            6.6,
            19.8,
            23.1,
            20.5,
            6.5,
            27.4,
            25.5,
            19.4,
            23.8,
            14.1,
            20.9,
            4.8,
            45.5,
            19.9,
            28.5,
            19.1,
            28.7,
            35,
            24.5,
            10.6,
            14.6,
            28,
            7.4,
            26.9,
            19.2,
            32.1,
            6.8,
            25.7,
            7.5,
            45.9,
            28.6,
            7.1,
            7.8,
            24.8,
            23.2,
            19.6,
            27.1,
            15.4,
            41.6,
            26.7,
            29.5,
            28.4,
            22.6,
            11.5,
            11.3,
            28.5,
            26.5,
            4.5,
            24.9,
            9,
            37,
            7.4,
            22.1,
            5.4,
            6.9,
            32.2,
            5.7,
            7.1,
            8.4,
            6,
            3.8,
            55.3,
            25.6,
            13.4,
            25.7,
            12.6,
            24.9,
            29.9,
            15,
            30,
            52.4,
            4.5,
            4.1,
            24.2,
            31.1,
            21.2,
            22.7,
            17.5,
            23.8,
            7.4,
            25.8,
            8.6,
            31.8,
            4.1,
            51,
            28.4,
            19.3,
            4.7,
            13.5,
            25.7,
            5.6,
            31,
            21.3,
            3.6,
            7.1,
            22.1,
            31.3,
            26.1,
            12.2,
            7.9,
            28.2,
            13.5,
            15.3,
            26.9,
            7.1,
            8.2,
            8.7,
            60.7,
            18.7,
            20.2,
            19,
            24.4,
            19.7,
            23.5,
            19.1,
            19.4,
            22.5,
            20.5,
            16.1,
            4.4,
            54.9,
            15.3,
            19.4,
            5.8,
            6,
            8.2,
            4.9,
            2.9,
            2.1,
            33.9,
            26.6,
            6.6,
            23.2,
            24.5,
            26.7,
            22.5,
            22.4,
            25.6,
            18.8,
            22.9,
            25.2,
            22.3,
            6.6,
            27.4,
            23.9,
            21.8,
            31.3,
            10.8,
            32,
            27.1,
            6.3,
            25.7,
            6,
            23.3,
            23.1,
            45.6,
            37.3,
            3.8,
            28.8,
            4.8,
            9.5,
            28.9,
            4.7,
            14.7,
            7.8,
            27.4,
            22.9,
            4.5,
            9.7,
            25,
            33.4,
            4.4,
            49.3,
            27.3,
            27,
            10.6,
            3.5,
            21.3,
            6.9,
            4.5
           ],
           "xaxis": "x",
           "yaxis": "y"
          }
         ],
         "name": "2016"
        }
       ],
       "layout": {
        "barmode": "relative",
        "height": 600,
        "legend": {
         "tracegroupgap": 0
        },
        "margin": {
         "t": 60
        },
        "sliders": [
         {
          "active": 0,
          "currentvalue": {
           "prefix": "year="
          },
          "len": 0.9,
          "pad": {
           "b": 10,
           "t": 60
          },
          "steps": [
           {
            "args": [
             [
              "1975"
             ],
             {
              "frame": {
               "duration": 0,
               "redraw": true
              },
              "fromcurrent": true,
              "mode": "immediate",
              "transition": {
               "duration": 0,
               "easing": "linear"
              }
             }
            ],
            "label": "1975",
            "method": "animate"
           },
           {
            "args": [
             [
              "1976"
             ],
             {
              "frame": {
               "duration": 0,
               "redraw": true
              },
              "fromcurrent": true,
              "mode": "immediate",
              "transition": {
               "duration": 0,
               "easing": "linear"
              }
             }
            ],
            "label": "1976",
            "method": "animate"
           },
           {
            "args": [
             [
              "1977"
             ],
             {
              "frame": {
               "duration": 0,
               "redraw": true
              },
              "fromcurrent": true,
              "mode": "immediate",
              "transition": {
               "duration": 0,
               "easing": "linear"
              }
             }
            ],
            "label": "1977",
            "method": "animate"
           },
           {
            "args": [
             [
              "1978"
             ],
             {
              "frame": {
               "duration": 0,
               "redraw": true
              },
              "fromcurrent": true,
              "mode": "immediate",
              "transition": {
               "duration": 0,
               "easing": "linear"
              }
             }
            ],
            "label": "1978",
            "method": "animate"
           },
           {
            "args": [
             [
              "1979"
             ],
             {
              "frame": {
               "duration": 0,
               "redraw": true
              },
              "fromcurrent": true,
              "mode": "immediate",
              "transition": {
               "duration": 0,
               "easing": "linear"
              }
             }
            ],
            "label": "1979",
            "method": "animate"
           },
           {
            "args": [
             [
              "1980"
             ],
             {
              "frame": {
               "duration": 0,
               "redraw": true
              },
              "fromcurrent": true,
              "mode": "immediate",
              "transition": {
               "duration": 0,
               "easing": "linear"
              }
             }
            ],
            "label": "1980",
            "method": "animate"
           },
           {
            "args": [
             [
              "1981"
             ],
             {
              "frame": {
               "duration": 0,
               "redraw": true
              },
              "fromcurrent": true,
              "mode": "immediate",
              "transition": {
               "duration": 0,
               "easing": "linear"
              }
             }
            ],
            "label": "1981",
            "method": "animate"
           },
           {
            "args": [
             [
              "1982"
             ],
             {
              "frame": {
               "duration": 0,
               "redraw": true
              },
              "fromcurrent": true,
              "mode": "immediate",
              "transition": {
               "duration": 0,
               "easing": "linear"
              }
             }
            ],
            "label": "1982",
            "method": "animate"
           },
           {
            "args": [
             [
              "1983"
             ],
             {
              "frame": {
               "duration": 0,
               "redraw": true
              },
              "fromcurrent": true,
              "mode": "immediate",
              "transition": {
               "duration": 0,
               "easing": "linear"
              }
             }
            ],
            "label": "1983",
            "method": "animate"
           },
           {
            "args": [
             [
              "1984"
             ],
             {
              "frame": {
               "duration": 0,
               "redraw": true
              },
              "fromcurrent": true,
              "mode": "immediate",
              "transition": {
               "duration": 0,
               "easing": "linear"
              }
             }
            ],
            "label": "1984",
            "method": "animate"
           },
           {
            "args": [
             [
              "1985"
             ],
             {
              "frame": {
               "duration": 0,
               "redraw": true
              },
              "fromcurrent": true,
              "mode": "immediate",
              "transition": {
               "duration": 0,
               "easing": "linear"
              }
             }
            ],
            "label": "1985",
            "method": "animate"
           },
           {
            "args": [
             [
              "1986"
             ],
             {
              "frame": {
               "duration": 0,
               "redraw": true
              },
              "fromcurrent": true,
              "mode": "immediate",
              "transition": {
               "duration": 0,
               "easing": "linear"
              }
             }
            ],
            "label": "1986",
            "method": "animate"
           },
           {
            "args": [
             [
              "1987"
             ],
             {
              "frame": {
               "duration": 0,
               "redraw": true
              },
              "fromcurrent": true,
              "mode": "immediate",
              "transition": {
               "duration": 0,
               "easing": "linear"
              }
             }
            ],
            "label": "1987",
            "method": "animate"
           },
           {
            "args": [
             [
              "1988"
             ],
             {
              "frame": {
               "duration": 0,
               "redraw": true
              },
              "fromcurrent": true,
              "mode": "immediate",
              "transition": {
               "duration": 0,
               "easing": "linear"
              }
             }
            ],
            "label": "1988",
            "method": "animate"
           },
           {
            "args": [
             [
              "1989"
             ],
             {
              "frame": {
               "duration": 0,
               "redraw": true
              },
              "fromcurrent": true,
              "mode": "immediate",
              "transition": {
               "duration": 0,
               "easing": "linear"
              }
             }
            ],
            "label": "1989",
            "method": "animate"
           },
           {
            "args": [
             [
              "1990"
             ],
             {
              "frame": {
               "duration": 0,
               "redraw": true
              },
              "fromcurrent": true,
              "mode": "immediate",
              "transition": {
               "duration": 0,
               "easing": "linear"
              }
             }
            ],
            "label": "1990",
            "method": "animate"
           },
           {
            "args": [
             [
              "1991"
             ],
             {
              "frame": {
               "duration": 0,
               "redraw": true
              },
              "fromcurrent": true,
              "mode": "immediate",
              "transition": {
               "duration": 0,
               "easing": "linear"
              }
             }
            ],
            "label": "1991",
            "method": "animate"
           },
           {
            "args": [
             [
              "1992"
             ],
             {
              "frame": {
               "duration": 0,
               "redraw": true
              },
              "fromcurrent": true,
              "mode": "immediate",
              "transition": {
               "duration": 0,
               "easing": "linear"
              }
             }
            ],
            "label": "1992",
            "method": "animate"
           },
           {
            "args": [
             [
              "1993"
             ],
             {
              "frame": {
               "duration": 0,
               "redraw": true
              },
              "fromcurrent": true,
              "mode": "immediate",
              "transition": {
               "duration": 0,
               "easing": "linear"
              }
             }
            ],
            "label": "1993",
            "method": "animate"
           },
           {
            "args": [
             [
              "1994"
             ],
             {
              "frame": {
               "duration": 0,
               "redraw": true
              },
              "fromcurrent": true,
              "mode": "immediate",
              "transition": {
               "duration": 0,
               "easing": "linear"
              }
             }
            ],
            "label": "1994",
            "method": "animate"
           },
           {
            "args": [
             [
              "1995"
             ],
             {
              "frame": {
               "duration": 0,
               "redraw": true
              },
              "fromcurrent": true,
              "mode": "immediate",
              "transition": {
               "duration": 0,
               "easing": "linear"
              }
             }
            ],
            "label": "1995",
            "method": "animate"
           },
           {
            "args": [
             [
              "1996"
             ],
             {
              "frame": {
               "duration": 0,
               "redraw": true
              },
              "fromcurrent": true,
              "mode": "immediate",
              "transition": {
               "duration": 0,
               "easing": "linear"
              }
             }
            ],
            "label": "1996",
            "method": "animate"
           },
           {
            "args": [
             [
              "1997"
             ],
             {
              "frame": {
               "duration": 0,
               "redraw": true
              },
              "fromcurrent": true,
              "mode": "immediate",
              "transition": {
               "duration": 0,
               "easing": "linear"
              }
             }
            ],
            "label": "1997",
            "method": "animate"
           },
           {
            "args": [
             [
              "1998"
             ],
             {
              "frame": {
               "duration": 0,
               "redraw": true
              },
              "fromcurrent": true,
              "mode": "immediate",
              "transition": {
               "duration": 0,
               "easing": "linear"
              }
             }
            ],
            "label": "1998",
            "method": "animate"
           },
           {
            "args": [
             [
              "1999"
             ],
             {
              "frame": {
               "duration": 0,
               "redraw": true
              },
              "fromcurrent": true,
              "mode": "immediate",
              "transition": {
               "duration": 0,
               "easing": "linear"
              }
             }
            ],
            "label": "1999",
            "method": "animate"
           },
           {
            "args": [
             [
              "2000"
             ],
             {
              "frame": {
               "duration": 0,
               "redraw": true
              },
              "fromcurrent": true,
              "mode": "immediate",
              "transition": {
               "duration": 0,
               "easing": "linear"
              }
             }
            ],
            "label": "2000",
            "method": "animate"
           },
           {
            "args": [
             [
              "2001"
             ],
             {
              "frame": {
               "duration": 0,
               "redraw": true
              },
              "fromcurrent": true,
              "mode": "immediate",
              "transition": {
               "duration": 0,
               "easing": "linear"
              }
             }
            ],
            "label": "2001",
            "method": "animate"
           },
           {
            "args": [
             [
              "2002"
             ],
             {
              "frame": {
               "duration": 0,
               "redraw": true
              },
              "fromcurrent": true,
              "mode": "immediate",
              "transition": {
               "duration": 0,
               "easing": "linear"
              }
             }
            ],
            "label": "2002",
            "method": "animate"
           },
           {
            "args": [
             [
              "2003"
             ],
             {
              "frame": {
               "duration": 0,
               "redraw": true
              },
              "fromcurrent": true,
              "mode": "immediate",
              "transition": {
               "duration": 0,
               "easing": "linear"
              }
             }
            ],
            "label": "2003",
            "method": "animate"
           },
           {
            "args": [
             [
              "2004"
             ],
             {
              "frame": {
               "duration": 0,
               "redraw": true
              },
              "fromcurrent": true,
              "mode": "immediate",
              "transition": {
               "duration": 0,
               "easing": "linear"
              }
             }
            ],
            "label": "2004",
            "method": "animate"
           },
           {
            "args": [
             [
              "2005"
             ],
             {
              "frame": {
               "duration": 0,
               "redraw": true
              },
              "fromcurrent": true,
              "mode": "immediate",
              "transition": {
               "duration": 0,
               "easing": "linear"
              }
             }
            ],
            "label": "2005",
            "method": "animate"
           },
           {
            "args": [
             [
              "2006"
             ],
             {
              "frame": {
               "duration": 0,
               "redraw": true
              },
              "fromcurrent": true,
              "mode": "immediate",
              "transition": {
               "duration": 0,
               "easing": "linear"
              }
             }
            ],
            "label": "2006",
            "method": "animate"
           },
           {
            "args": [
             [
              "2007"
             ],
             {
              "frame": {
               "duration": 0,
               "redraw": true
              },
              "fromcurrent": true,
              "mode": "immediate",
              "transition": {
               "duration": 0,
               "easing": "linear"
              }
             }
            ],
            "label": "2007",
            "method": "animate"
           },
           {
            "args": [
             [
              "2008"
             ],
             {
              "frame": {
               "duration": 0,
               "redraw": true
              },
              "fromcurrent": true,
              "mode": "immediate",
              "transition": {
               "duration": 0,
               "easing": "linear"
              }
             }
            ],
            "label": "2008",
            "method": "animate"
           },
           {
            "args": [
             [
              "2009"
             ],
             {
              "frame": {
               "duration": 0,
               "redraw": true
              },
              "fromcurrent": true,
              "mode": "immediate",
              "transition": {
               "duration": 0,
               "easing": "linear"
              }
             }
            ],
            "label": "2009",
            "method": "animate"
           },
           {
            "args": [
             [
              "2010"
             ],
             {
              "frame": {
               "duration": 0,
               "redraw": true
              },
              "fromcurrent": true,
              "mode": "immediate",
              "transition": {
               "duration": 0,
               "easing": "linear"
              }
             }
            ],
            "label": "2010",
            "method": "animate"
           },
           {
            "args": [
             [
              "2011"
             ],
             {
              "frame": {
               "duration": 0,
               "redraw": true
              },
              "fromcurrent": true,
              "mode": "immediate",
              "transition": {
               "duration": 0,
               "easing": "linear"
              }
             }
            ],
            "label": "2011",
            "method": "animate"
           },
           {
            "args": [
             [
              "2012"
             ],
             {
              "frame": {
               "duration": 0,
               "redraw": true
              },
              "fromcurrent": true,
              "mode": "immediate",
              "transition": {
               "duration": 0,
               "easing": "linear"
              }
             }
            ],
            "label": "2012",
            "method": "animate"
           },
           {
            "args": [
             [
              "2013"
             ],
             {
              "frame": {
               "duration": 0,
               "redraw": true
              },
              "fromcurrent": true,
              "mode": "immediate",
              "transition": {
               "duration": 0,
               "easing": "linear"
              }
             }
            ],
            "label": "2013",
            "method": "animate"
           },
           {
            "args": [
             [
              "2014"
             ],
             {
              "frame": {
               "duration": 0,
               "redraw": true
              },
              "fromcurrent": true,
              "mode": "immediate",
              "transition": {
               "duration": 0,
               "easing": "linear"
              }
             }
            ],
            "label": "2014",
            "method": "animate"
           },
           {
            "args": [
             [
              "2015"
             ],
             {
              "frame": {
               "duration": 0,
               "redraw": true
              },
              "fromcurrent": true,
              "mode": "immediate",
              "transition": {
               "duration": 0,
               "easing": "linear"
              }
             }
            ],
            "label": "2015",
            "method": "animate"
           },
           {
            "args": [
             [
              "2016"
             ],
             {
              "frame": {
               "duration": 0,
               "redraw": true
              },
              "fromcurrent": true,
              "mode": "immediate",
              "transition": {
               "duration": 0,
               "easing": "linear"
              }
             }
            ],
            "label": "2016",
            "method": "animate"
           }
          ],
          "x": 0.1,
          "xanchor": "left",
          "y": 0,
          "yanchor": "top"
         }
        ],
        "template": {
         "data": {
          "bar": [
           {
            "error_x": {
             "color": "#2a3f5f"
            },
            "error_y": {
             "color": "#2a3f5f"
            },
            "marker": {
             "line": {
              "color": "#E5ECF6",
              "width": 0.5
             }
            },
            "type": "bar"
           }
          ],
          "barpolar": [
           {
            "marker": {
             "line": {
              "color": "#E5ECF6",
              "width": 0.5
             }
            },
            "type": "barpolar"
           }
          ],
          "carpet": [
           {
            "aaxis": {
             "endlinecolor": "#2a3f5f",
             "gridcolor": "white",
             "linecolor": "white",
             "minorgridcolor": "white",
             "startlinecolor": "#2a3f5f"
            },
            "baxis": {
             "endlinecolor": "#2a3f5f",
             "gridcolor": "white",
             "linecolor": "white",
             "minorgridcolor": "white",
             "startlinecolor": "#2a3f5f"
            },
            "type": "carpet"
           }
          ],
          "choropleth": [
           {
            "colorbar": {
             "outlinewidth": 0,
             "ticks": ""
            },
            "type": "choropleth"
           }
          ],
          "contour": [
           {
            "colorbar": {
             "outlinewidth": 0,
             "ticks": ""
            },
            "colorscale": [
             [
              0,
              "#0d0887"
             ],
             [
              0.1111111111111111,
              "#46039f"
             ],
             [
              0.2222222222222222,
              "#7201a8"
             ],
             [
              0.3333333333333333,
              "#9c179e"
             ],
             [
              0.4444444444444444,
              "#bd3786"
             ],
             [
              0.5555555555555556,
              "#d8576b"
             ],
             [
              0.6666666666666666,
              "#ed7953"
             ],
             [
              0.7777777777777778,
              "#fb9f3a"
             ],
             [
              0.8888888888888888,
              "#fdca26"
             ],
             [
              1,
              "#f0f921"
             ]
            ],
            "type": "contour"
           }
          ],
          "contourcarpet": [
           {
            "colorbar": {
             "outlinewidth": 0,
             "ticks": ""
            },
            "type": "contourcarpet"
           }
          ],
          "heatmap": [
           {
            "colorbar": {
             "outlinewidth": 0,
             "ticks": ""
            },
            "colorscale": [
             [
              0,
              "#0d0887"
             ],
             [
              0.1111111111111111,
              "#46039f"
             ],
             [
              0.2222222222222222,
              "#7201a8"
             ],
             [
              0.3333333333333333,
              "#9c179e"
             ],
             [
              0.4444444444444444,
              "#bd3786"
             ],
             [
              0.5555555555555556,
              "#d8576b"
             ],
             [
              0.6666666666666666,
              "#ed7953"
             ],
             [
              0.7777777777777778,
              "#fb9f3a"
             ],
             [
              0.8888888888888888,
              "#fdca26"
             ],
             [
              1,
              "#f0f921"
             ]
            ],
            "type": "heatmap"
           }
          ],
          "heatmapgl": [
           {
            "colorbar": {
             "outlinewidth": 0,
             "ticks": ""
            },
            "colorscale": [
             [
              0,
              "#0d0887"
             ],
             [
              0.1111111111111111,
              "#46039f"
             ],
             [
              0.2222222222222222,
              "#7201a8"
             ],
             [
              0.3333333333333333,
              "#9c179e"
             ],
             [
              0.4444444444444444,
              "#bd3786"
             ],
             [
              0.5555555555555556,
              "#d8576b"
             ],
             [
              0.6666666666666666,
              "#ed7953"
             ],
             [
              0.7777777777777778,
              "#fb9f3a"
             ],
             [
              0.8888888888888888,
              "#fdca26"
             ],
             [
              1,
              "#f0f921"
             ]
            ],
            "type": "heatmapgl"
           }
          ],
          "histogram": [
           {
            "marker": {
             "colorbar": {
              "outlinewidth": 0,
              "ticks": ""
             }
            },
            "type": "histogram"
           }
          ],
          "histogram2d": [
           {
            "colorbar": {
             "outlinewidth": 0,
             "ticks": ""
            },
            "colorscale": [
             [
              0,
              "#0d0887"
             ],
             [
              0.1111111111111111,
              "#46039f"
             ],
             [
              0.2222222222222222,
              "#7201a8"
             ],
             [
              0.3333333333333333,
              "#9c179e"
             ],
             [
              0.4444444444444444,
              "#bd3786"
             ],
             [
              0.5555555555555556,
              "#d8576b"
             ],
             [
              0.6666666666666666,
              "#ed7953"
             ],
             [
              0.7777777777777778,
              "#fb9f3a"
             ],
             [
              0.8888888888888888,
              "#fdca26"
             ],
             [
              1,
              "#f0f921"
             ]
            ],
            "type": "histogram2d"
           }
          ],
          "histogram2dcontour": [
           {
            "colorbar": {
             "outlinewidth": 0,
             "ticks": ""
            },
            "colorscale": [
             [
              0,
              "#0d0887"
             ],
             [
              0.1111111111111111,
              "#46039f"
             ],
             [
              0.2222222222222222,
              "#7201a8"
             ],
             [
              0.3333333333333333,
              "#9c179e"
             ],
             [
              0.4444444444444444,
              "#bd3786"
             ],
             [
              0.5555555555555556,
              "#d8576b"
             ],
             [
              0.6666666666666666,
              "#ed7953"
             ],
             [
              0.7777777777777778,
              "#fb9f3a"
             ],
             [
              0.8888888888888888,
              "#fdca26"
             ],
             [
              1,
              "#f0f921"
             ]
            ],
            "type": "histogram2dcontour"
           }
          ],
          "mesh3d": [
           {
            "colorbar": {
             "outlinewidth": 0,
             "ticks": ""
            },
            "type": "mesh3d"
           }
          ],
          "parcoords": [
           {
            "line": {
             "colorbar": {
              "outlinewidth": 0,
              "ticks": ""
             }
            },
            "type": "parcoords"
           }
          ],
          "scatter": [
           {
            "marker": {
             "colorbar": {
              "outlinewidth": 0,
              "ticks": ""
             }
            },
            "type": "scatter"
           }
          ],
          "scatter3d": [
           {
            "line": {
             "colorbar": {
              "outlinewidth": 0,
              "ticks": ""
             }
            },
            "marker": {
             "colorbar": {
              "outlinewidth": 0,
              "ticks": ""
             }
            },
            "type": "scatter3d"
           }
          ],
          "scattercarpet": [
           {
            "marker": {
             "colorbar": {
              "outlinewidth": 0,
              "ticks": ""
             }
            },
            "type": "scattercarpet"
           }
          ],
          "scattergeo": [
           {
            "marker": {
             "colorbar": {
              "outlinewidth": 0,
              "ticks": ""
             }
            },
            "type": "scattergeo"
           }
          ],
          "scattergl": [
           {
            "marker": {
             "colorbar": {
              "outlinewidth": 0,
              "ticks": ""
             }
            },
            "type": "scattergl"
           }
          ],
          "scattermapbox": [
           {
            "marker": {
             "colorbar": {
              "outlinewidth": 0,
              "ticks": ""
             }
            },
            "type": "scattermapbox"
           }
          ],
          "scatterpolar": [
           {
            "marker": {
             "colorbar": {
              "outlinewidth": 0,
              "ticks": ""
             }
            },
            "type": "scatterpolar"
           }
          ],
          "scatterpolargl": [
           {
            "marker": {
             "colorbar": {
              "outlinewidth": 0,
              "ticks": ""
             }
            },
            "type": "scatterpolargl"
           }
          ],
          "scatterternary": [
           {
            "marker": {
             "colorbar": {
              "outlinewidth": 0,
              "ticks": ""
             }
            },
            "type": "scatterternary"
           }
          ],
          "surface": [
           {
            "colorbar": {
             "outlinewidth": 0,
             "ticks": ""
            },
            "colorscale": [
             [
              0,
              "#0d0887"
             ],
             [
              0.1111111111111111,
              "#46039f"
             ],
             [
              0.2222222222222222,
              "#7201a8"
             ],
             [
              0.3333333333333333,
              "#9c179e"
             ],
             [
              0.4444444444444444,
              "#bd3786"
             ],
             [
              0.5555555555555556,
              "#d8576b"
             ],
             [
              0.6666666666666666,
              "#ed7953"
             ],
             [
              0.7777777777777778,
              "#fb9f3a"
             ],
             [
              0.8888888888888888,
              "#fdca26"
             ],
             [
              1,
              "#f0f921"
             ]
            ],
            "type": "surface"
           }
          ],
          "table": [
           {
            "cells": {
             "fill": {
              "color": "#EBF0F8"
             },
             "line": {
              "color": "white"
             }
            },
            "header": {
             "fill": {
              "color": "#C8D4E3"
             },
             "line": {
              "color": "white"
             }
            },
            "type": "table"
           }
          ]
         },
         "layout": {
          "annotationdefaults": {
           "arrowcolor": "#2a3f5f",
           "arrowhead": 0,
           "arrowwidth": 1
          },
          "colorscale": {
           "diverging": [
            [
             0,
             "#8e0152"
            ],
            [
             0.1,
             "#c51b7d"
            ],
            [
             0.2,
             "#de77ae"
            ],
            [
             0.3,
             "#f1b6da"
            ],
            [
             0.4,
             "#fde0ef"
            ],
            [
             0.5,
             "#f7f7f7"
            ],
            [
             0.6,
             "#e6f5d0"
            ],
            [
             0.7,
             "#b8e186"
            ],
            [
             0.8,
             "#7fbc41"
            ],
            [
             0.9,
             "#4d9221"
            ],
            [
             1,
             "#276419"
            ]
           ],
           "sequential": [
            [
             0,
             "#0d0887"
            ],
            [
             0.1111111111111111,
             "#46039f"
            ],
            [
             0.2222222222222222,
             "#7201a8"
            ],
            [
             0.3333333333333333,
             "#9c179e"
            ],
            [
             0.4444444444444444,
             "#bd3786"
            ],
            [
             0.5555555555555556,
             "#d8576b"
            ],
            [
             0.6666666666666666,
             "#ed7953"
            ],
            [
             0.7777777777777778,
             "#fb9f3a"
            ],
            [
             0.8888888888888888,
             "#fdca26"
            ],
            [
             1,
             "#f0f921"
            ]
           ],
           "sequentialminus": [
            [
             0,
             "#0d0887"
            ],
            [
             0.1111111111111111,
             "#46039f"
            ],
            [
             0.2222222222222222,
             "#7201a8"
            ],
            [
             0.3333333333333333,
             "#9c179e"
            ],
            [
             0.4444444444444444,
             "#bd3786"
            ],
            [
             0.5555555555555556,
             "#d8576b"
            ],
            [
             0.6666666666666666,
             "#ed7953"
            ],
            [
             0.7777777777777778,
             "#fb9f3a"
            ],
            [
             0.8888888888888888,
             "#fdca26"
            ],
            [
             1,
             "#f0f921"
            ]
           ]
          },
          "colorway": [
           "#636efa",
           "#EF553B",
           "#00cc96",
           "#ab63fa",
           "#FFA15A",
           "#19d3f3",
           "#FF6692",
           "#B6E880",
           "#FF97FF",
           "#FECB52"
          ],
          "font": {
           "color": "#2a3f5f"
          },
          "geo": {
           "bgcolor": "white",
           "lakecolor": "white",
           "landcolor": "#E5ECF6",
           "showlakes": true,
           "showland": true,
           "subunitcolor": "white"
          },
          "hoverlabel": {
           "align": "left"
          },
          "hovermode": "closest",
          "mapbox": {
           "style": "light"
          },
          "paper_bgcolor": "white",
          "plot_bgcolor": "#E5ECF6",
          "polar": {
           "angularaxis": {
            "gridcolor": "white",
            "linecolor": "white",
            "ticks": ""
           },
           "bgcolor": "#E5ECF6",
           "radialaxis": {
            "gridcolor": "white",
            "linecolor": "white",
            "ticks": ""
           }
          },
          "scene": {
           "xaxis": {
            "backgroundcolor": "#E5ECF6",
            "gridcolor": "white",
            "gridwidth": 2,
            "linecolor": "white",
            "showbackground": true,
            "ticks": "",
            "zerolinecolor": "white"
           },
           "yaxis": {
            "backgroundcolor": "#E5ECF6",
            "gridcolor": "white",
            "gridwidth": 2,
            "linecolor": "white",
            "showbackground": true,
            "ticks": "",
            "zerolinecolor": "white"
           },
           "zaxis": {
            "backgroundcolor": "#E5ECF6",
            "gridcolor": "white",
            "gridwidth": 2,
            "linecolor": "white",
            "showbackground": true,
            "ticks": "",
            "zerolinecolor": "white"
           }
          },
          "shapedefaults": {
           "line": {
            "color": "#2a3f5f"
           }
          },
          "ternary": {
           "aaxis": {
            "gridcolor": "white",
            "linecolor": "white",
            "ticks": ""
           },
           "baxis": {
            "gridcolor": "white",
            "linecolor": "white",
            "ticks": ""
           },
           "bgcolor": "#E5ECF6",
           "caxis": {
            "gridcolor": "white",
            "linecolor": "white",
            "ticks": ""
           }
          },
          "title": {
           "x": 0.05
          },
          "xaxis": {
           "automargin": true,
           "gridcolor": "white",
           "linecolor": "white",
           "ticks": "",
           "zerolinecolor": "white",
           "zerolinewidth": 2
          },
          "yaxis": {
           "automargin": true,
           "gridcolor": "white",
           "linecolor": "white",
           "ticks": "",
           "zerolinecolor": "white",
           "zerolinewidth": 2
          }
         }
        },
        "updatemenus": [
         {
          "buttons": [
           {
            "args": [
             null,
             {
              "frame": {
               "duration": 500,
               "redraw": true
              },
              "fromcurrent": true,
              "mode": "immediate",
              "transition": {
               "duration": 500,
               "easing": "linear"
              }
             }
            ],
            "label": "&#9654;",
            "method": "animate"
           },
           {
            "args": [
             [
              null
             ],
             {
              "frame": {
               "duration": 0,
               "redraw": true
              },
              "fromcurrent": true,
              "mode": "immediate",
              "transition": {
               "duration": 0,
               "easing": "linear"
              }
             }
            ],
            "label": "&#9724;",
            "method": "animate"
           }
          ],
          "direction": "left",
          "pad": {
           "r": 10,
           "t": 70
          },
          "showactive": false,
          "type": "buttons",
          "x": 0.1,
          "xanchor": "right",
          "y": 0,
          "yanchor": "top"
         }
        ],
        "xaxis": {
         "anchor": "y",
         "domain": [
          0,
          0.98
         ],
         "range": [
          0,
          65
         ],
         "title": {
          "text": "pct_obese"
         }
        },
        "yaxis": {
         "anchor": "x",
         "domain": [
          0,
          1
         ],
         "range": [
          0,
          40
         ],
         "title": {
          "text": "count"
         }
        }
       }
      },
      "text/html": [
       "<div>\n",
       "        \n",
       "        \n",
       "            <div id=\"d4c4ff43-b1a1-4b80-b65c-d893b36dc386\" class=\"plotly-graph-div\" style=\"height:600px; width:100%;\"></div>\n",
       "            <script type=\"text/javascript\">\n",
       "                require([\"plotly\"], function(Plotly) {\n",
       "                    window.PLOTLYENV=window.PLOTLYENV || {};\n",
       "                    \n",
       "                if (document.getElementById(\"d4c4ff43-b1a1-4b80-b65c-d893b36dc386\")) {\n",
       "                    Plotly.newPlot(\n",
       "                        'd4c4ff43-b1a1-4b80-b65c-d893b36dc386',\n",
       "                        [{\"alignmentgroup\": \"True\", \"bingroup\": \"x\", \"hoverlabel\": {\"namelength\": 0}, \"hovertemplate\": \"year=1975<br>pct_obese=%{x}<br>count=%{y}\", \"legendgroup\": \"\", \"marker\": {\"color\": \"#636efa\"}, \"name\": \"\", \"nbinsx\": 60, \"offsetgroup\": \"\", \"orientation\": \"v\", \"showlegend\": false, \"type\": \"histogram\", \"x\": [0.8, 0.5, 13.9, 13.5, 3.1, 0.5, 3.7, 0.7, 6.1, 13.4, 0.4, 5.8, 10.5, 8.7, 7.1, 13.2, 1.0, 10.6, 9.1, 0.4, 0.5, 5.7, 1.0, 7.6, 1.1, 8.0, 10.7, 5.0, 0.5, 14.2, 0.3, 11.3, 9.9, 4.3, 15.7, 14.1, 5.6, 11.1, 0.1, 5.0, 8.5, 1.3, 7.6, 0.3, 2.2, 1.3, 1.0, 7.7, 2.6, 4.2, 16.2, 8.3, 7.9, 7.4, 1.8, 0.2, 10.6, 0.8, 6.6, 4.4, 3.6, 17.8, 5.4, 0.4, 0.8, 4.2, 4.4, 16.8, 11.1, 5.8, 4.3, 0.2, 0.3, 5.2, 8.1, 2.8, 3.6, 0.9, 25.1, 0.9, 4.2, 3.9, 4.5, 10.2, 2.3, 8.0, 8.6, 6.5, 6.5, 11.8, 6.5, 0.8, 10.7, 0.4, 9.1, 0.7, 9.9, 12.5, 8.0, 0.6, 4.2, 16.7, 1.3, 3.4, 4.7, 6.5, 10.5, 5.1, 5.5, 2.5, 5.3, 0.7, 11.7, 13.3, 0.5, 5.7, 17.6, 0.6, 7.4, 10.3, 1.1, 5.4, 12.8, 1.3, 12.0, 0.6, 0.5, 4.5, 4.5, 14.5, 5.8, 1.6, 1.0, 4.9, 1.3, 8.6, 5.6, 0.8, 14.8, 0.4, 9.5, 1.3, 0.2, 0.7, 7.4, 1.2, 0.5, 9.4, 25.1, 23.8, 1.1, 6.6, 3.1, 5.6, 0.5, 0.6, 1.2, 10.0, 10.8, 9.3, 7.9, 3.0, 9.5, 6.0, 7.2, 1.2, 1.1, 10.1, 8.3, 5.9, 1.1, 3.4, 5.8, 10.2, 4.6, 0.4, 10.7, 3.0, 5.5, 5.3, 0.7, 4.9, 3.1, 8.3, 0.9, 41.5, 0.4, 7.5, 0.5, 13.3, 2.5], \"xaxis\": \"x\", \"yaxis\": \"y\"}],\n",
       "                        {\"barmode\": \"relative\", \"height\": 600, \"legend\": {\"tracegroupgap\": 0}, \"margin\": {\"t\": 60}, \"sliders\": [{\"active\": 0, \"currentvalue\": {\"prefix\": \"year=\"}, \"len\": 0.9, \"pad\": {\"b\": 10, \"t\": 60}, \"steps\": [{\"args\": [[\"1975\"], {\"frame\": {\"duration\": 0, \"redraw\": true}, \"fromcurrent\": true, \"mode\": \"immediate\", \"transition\": {\"duration\": 0, \"easing\": \"linear\"}}], \"label\": \"1975\", \"method\": \"animate\"}, {\"args\": [[\"1976\"], {\"frame\": {\"duration\": 0, \"redraw\": true}, \"fromcurrent\": true, \"mode\": \"immediate\", \"transition\": {\"duration\": 0, \"easing\": \"linear\"}}], \"label\": \"1976\", \"method\": \"animate\"}, {\"args\": [[\"1977\"], {\"frame\": {\"duration\": 0, \"redraw\": true}, \"fromcurrent\": true, \"mode\": \"immediate\", \"transition\": {\"duration\": 0, \"easing\": \"linear\"}}], \"label\": \"1977\", \"method\": \"animate\"}, {\"args\": [[\"1978\"], {\"frame\": {\"duration\": 0, \"redraw\": true}, \"fromcurrent\": true, \"mode\": \"immediate\", \"transition\": {\"duration\": 0, \"easing\": \"linear\"}}], \"label\": \"1978\", \"method\": \"animate\"}, {\"args\": [[\"1979\"], {\"frame\": {\"duration\": 0, \"redraw\": true}, \"fromcurrent\": true, \"mode\": \"immediate\", \"transition\": {\"duration\": 0, \"easing\": \"linear\"}}], \"label\": \"1979\", \"method\": \"animate\"}, {\"args\": [[\"1980\"], {\"frame\": {\"duration\": 0, \"redraw\": true}, \"fromcurrent\": true, \"mode\": \"immediate\", \"transition\": {\"duration\": 0, \"easing\": \"linear\"}}], \"label\": \"1980\", \"method\": \"animate\"}, {\"args\": [[\"1981\"], {\"frame\": {\"duration\": 0, \"redraw\": true}, \"fromcurrent\": true, \"mode\": \"immediate\", \"transition\": {\"duration\": 0, \"easing\": \"linear\"}}], \"label\": \"1981\", \"method\": \"animate\"}, {\"args\": [[\"1982\"], {\"frame\": {\"duration\": 0, \"redraw\": true}, \"fromcurrent\": true, \"mode\": \"immediate\", \"transition\": {\"duration\": 0, \"easing\": \"linear\"}}], \"label\": \"1982\", \"method\": \"animate\"}, {\"args\": [[\"1983\"], {\"frame\": {\"duration\": 0, \"redraw\": true}, \"fromcurrent\": true, \"mode\": \"immediate\", \"transition\": {\"duration\": 0, \"easing\": \"linear\"}}], \"label\": \"1983\", \"method\": \"animate\"}, {\"args\": [[\"1984\"], {\"frame\": {\"duration\": 0, \"redraw\": true}, \"fromcurrent\": true, \"mode\": \"immediate\", \"transition\": {\"duration\": 0, \"easing\": \"linear\"}}], \"label\": \"1984\", \"method\": \"animate\"}, {\"args\": [[\"1985\"], {\"frame\": {\"duration\": 0, \"redraw\": true}, \"fromcurrent\": true, \"mode\": \"immediate\", \"transition\": {\"duration\": 0, \"easing\": \"linear\"}}], \"label\": \"1985\", \"method\": \"animate\"}, {\"args\": [[\"1986\"], {\"frame\": {\"duration\": 0, \"redraw\": true}, \"fromcurrent\": true, \"mode\": \"immediate\", \"transition\": {\"duration\": 0, \"easing\": \"linear\"}}], \"label\": \"1986\", \"method\": \"animate\"}, {\"args\": [[\"1987\"], {\"frame\": {\"duration\": 0, \"redraw\": true}, \"fromcurrent\": true, \"mode\": \"immediate\", \"transition\": {\"duration\": 0, \"easing\": \"linear\"}}], \"label\": \"1987\", \"method\": \"animate\"}, {\"args\": [[\"1988\"], {\"frame\": {\"duration\": 0, \"redraw\": true}, \"fromcurrent\": true, \"mode\": \"immediate\", \"transition\": {\"duration\": 0, \"easing\": \"linear\"}}], \"label\": \"1988\", \"method\": \"animate\"}, {\"args\": [[\"1989\"], {\"frame\": {\"duration\": 0, \"redraw\": true}, \"fromcurrent\": true, \"mode\": \"immediate\", \"transition\": {\"duration\": 0, \"easing\": \"linear\"}}], \"label\": \"1989\", \"method\": \"animate\"}, {\"args\": [[\"1990\"], {\"frame\": {\"duration\": 0, \"redraw\": true}, \"fromcurrent\": true, \"mode\": \"immediate\", \"transition\": {\"duration\": 0, \"easing\": \"linear\"}}], \"label\": \"1990\", \"method\": \"animate\"}, {\"args\": [[\"1991\"], {\"frame\": {\"duration\": 0, \"redraw\": true}, \"fromcurrent\": true, \"mode\": \"immediate\", \"transition\": {\"duration\": 0, \"easing\": \"linear\"}}], \"label\": \"1991\", \"method\": \"animate\"}, {\"args\": [[\"1992\"], {\"frame\": {\"duration\": 0, \"redraw\": true}, \"fromcurrent\": true, \"mode\": \"immediate\", \"transition\": {\"duration\": 0, \"easing\": \"linear\"}}], \"label\": \"1992\", \"method\": \"animate\"}, {\"args\": [[\"1993\"], {\"frame\": {\"duration\": 0, \"redraw\": true}, \"fromcurrent\": true, \"mode\": \"immediate\", \"transition\": {\"duration\": 0, \"easing\": \"linear\"}}], \"label\": \"1993\", \"method\": \"animate\"}, {\"args\": [[\"1994\"], {\"frame\": {\"duration\": 0, \"redraw\": true}, \"fromcurrent\": true, \"mode\": \"immediate\", \"transition\": {\"duration\": 0, \"easing\": \"linear\"}}], \"label\": \"1994\", \"method\": \"animate\"}, {\"args\": [[\"1995\"], {\"frame\": {\"duration\": 0, \"redraw\": true}, \"fromcurrent\": true, \"mode\": \"immediate\", \"transition\": {\"duration\": 0, \"easing\": \"linear\"}}], \"label\": \"1995\", \"method\": \"animate\"}, {\"args\": [[\"1996\"], {\"frame\": {\"duration\": 0, \"redraw\": true}, \"fromcurrent\": true, \"mode\": \"immediate\", \"transition\": {\"duration\": 0, \"easing\": \"linear\"}}], \"label\": \"1996\", \"method\": \"animate\"}, {\"args\": [[\"1997\"], {\"frame\": {\"duration\": 0, \"redraw\": true}, \"fromcurrent\": true, \"mode\": \"immediate\", \"transition\": {\"duration\": 0, \"easing\": \"linear\"}}], \"label\": \"1997\", \"method\": \"animate\"}, {\"args\": [[\"1998\"], {\"frame\": {\"duration\": 0, \"redraw\": true}, \"fromcurrent\": true, \"mode\": \"immediate\", \"transition\": {\"duration\": 0, \"easing\": \"linear\"}}], \"label\": \"1998\", \"method\": \"animate\"}, {\"args\": [[\"1999\"], {\"frame\": {\"duration\": 0, \"redraw\": true}, \"fromcurrent\": true, \"mode\": \"immediate\", \"transition\": {\"duration\": 0, \"easing\": \"linear\"}}], \"label\": \"1999\", \"method\": \"animate\"}, {\"args\": [[\"2000\"], {\"frame\": {\"duration\": 0, \"redraw\": true}, \"fromcurrent\": true, \"mode\": \"immediate\", \"transition\": {\"duration\": 0, \"easing\": \"linear\"}}], \"label\": \"2000\", \"method\": \"animate\"}, {\"args\": [[\"2001\"], {\"frame\": {\"duration\": 0, \"redraw\": true}, \"fromcurrent\": true, \"mode\": \"immediate\", \"transition\": {\"duration\": 0, \"easing\": \"linear\"}}], \"label\": \"2001\", \"method\": \"animate\"}, {\"args\": [[\"2002\"], {\"frame\": {\"duration\": 0, \"redraw\": true}, \"fromcurrent\": true, \"mode\": \"immediate\", \"transition\": {\"duration\": 0, \"easing\": \"linear\"}}], \"label\": \"2002\", \"method\": \"animate\"}, {\"args\": [[\"2003\"], {\"frame\": {\"duration\": 0, \"redraw\": true}, \"fromcurrent\": true, \"mode\": \"immediate\", \"transition\": {\"duration\": 0, \"easing\": \"linear\"}}], \"label\": \"2003\", \"method\": \"animate\"}, {\"args\": [[\"2004\"], {\"frame\": {\"duration\": 0, \"redraw\": true}, \"fromcurrent\": true, \"mode\": \"immediate\", \"transition\": {\"duration\": 0, \"easing\": \"linear\"}}], \"label\": \"2004\", \"method\": \"animate\"}, {\"args\": [[\"2005\"], {\"frame\": {\"duration\": 0, \"redraw\": true}, \"fromcurrent\": true, \"mode\": \"immediate\", \"transition\": {\"duration\": 0, \"easing\": \"linear\"}}], \"label\": \"2005\", \"method\": \"animate\"}, {\"args\": [[\"2006\"], {\"frame\": {\"duration\": 0, \"redraw\": true}, \"fromcurrent\": true, \"mode\": \"immediate\", \"transition\": {\"duration\": 0, \"easing\": \"linear\"}}], \"label\": \"2006\", \"method\": \"animate\"}, {\"args\": [[\"2007\"], {\"frame\": {\"duration\": 0, \"redraw\": true}, \"fromcurrent\": true, \"mode\": \"immediate\", \"transition\": {\"duration\": 0, \"easing\": \"linear\"}}], \"label\": \"2007\", \"method\": \"animate\"}, {\"args\": [[\"2008\"], {\"frame\": {\"duration\": 0, \"redraw\": true}, \"fromcurrent\": true, \"mode\": \"immediate\", \"transition\": {\"duration\": 0, \"easing\": \"linear\"}}], \"label\": \"2008\", \"method\": \"animate\"}, {\"args\": [[\"2009\"], {\"frame\": {\"duration\": 0, \"redraw\": true}, \"fromcurrent\": true, \"mode\": \"immediate\", \"transition\": {\"duration\": 0, \"easing\": \"linear\"}}], \"label\": \"2009\", \"method\": \"animate\"}, {\"args\": [[\"2010\"], {\"frame\": {\"duration\": 0, \"redraw\": true}, \"fromcurrent\": true, \"mode\": \"immediate\", \"transition\": {\"duration\": 0, \"easing\": \"linear\"}}], \"label\": \"2010\", \"method\": \"animate\"}, {\"args\": [[\"2011\"], {\"frame\": {\"duration\": 0, \"redraw\": true}, \"fromcurrent\": true, \"mode\": \"immediate\", \"transition\": {\"duration\": 0, \"easing\": \"linear\"}}], \"label\": \"2011\", \"method\": \"animate\"}, {\"args\": [[\"2012\"], {\"frame\": {\"duration\": 0, \"redraw\": true}, \"fromcurrent\": true, \"mode\": \"immediate\", \"transition\": {\"duration\": 0, \"easing\": \"linear\"}}], \"label\": \"2012\", \"method\": \"animate\"}, {\"args\": [[\"2013\"], {\"frame\": {\"duration\": 0, \"redraw\": true}, \"fromcurrent\": true, \"mode\": \"immediate\", \"transition\": {\"duration\": 0, \"easing\": \"linear\"}}], \"label\": \"2013\", \"method\": \"animate\"}, {\"args\": [[\"2014\"], {\"frame\": {\"duration\": 0, \"redraw\": true}, \"fromcurrent\": true, \"mode\": \"immediate\", \"transition\": {\"duration\": 0, \"easing\": \"linear\"}}], \"label\": \"2014\", \"method\": \"animate\"}, {\"args\": [[\"2015\"], {\"frame\": {\"duration\": 0, \"redraw\": true}, \"fromcurrent\": true, \"mode\": \"immediate\", \"transition\": {\"duration\": 0, \"easing\": \"linear\"}}], \"label\": \"2015\", \"method\": \"animate\"}, {\"args\": [[\"2016\"], {\"frame\": {\"duration\": 0, \"redraw\": true}, \"fromcurrent\": true, \"mode\": \"immediate\", \"transition\": {\"duration\": 0, \"easing\": \"linear\"}}], \"label\": \"2016\", \"method\": \"animate\"}], \"x\": 0.1, \"xanchor\": \"left\", \"y\": 0, \"yanchor\": \"top\"}], \"template\": {\"data\": {\"bar\": [{\"error_x\": {\"color\": \"#2a3f5f\"}, \"error_y\": {\"color\": \"#2a3f5f\"}, \"marker\": {\"line\": {\"color\": \"#E5ECF6\", \"width\": 0.5}}, \"type\": \"bar\"}], \"barpolar\": [{\"marker\": {\"line\": {\"color\": \"#E5ECF6\", \"width\": 0.5}}, \"type\": \"barpolar\"}], \"carpet\": [{\"aaxis\": {\"endlinecolor\": \"#2a3f5f\", \"gridcolor\": \"white\", \"linecolor\": \"white\", \"minorgridcolor\": \"white\", \"startlinecolor\": \"#2a3f5f\"}, \"baxis\": {\"endlinecolor\": \"#2a3f5f\", \"gridcolor\": \"white\", \"linecolor\": \"white\", \"minorgridcolor\": \"white\", \"startlinecolor\": \"#2a3f5f\"}, \"type\": \"carpet\"}], \"choropleth\": [{\"colorbar\": {\"outlinewidth\": 0, \"ticks\": \"\"}, \"type\": \"choropleth\"}], \"contour\": [{\"colorbar\": {\"outlinewidth\": 0, \"ticks\": \"\"}, \"colorscale\": [[0.0, \"#0d0887\"], [0.1111111111111111, \"#46039f\"], [0.2222222222222222, \"#7201a8\"], [0.3333333333333333, \"#9c179e\"], [0.4444444444444444, \"#bd3786\"], [0.5555555555555556, \"#d8576b\"], [0.6666666666666666, \"#ed7953\"], [0.7777777777777778, \"#fb9f3a\"], [0.8888888888888888, \"#fdca26\"], [1.0, \"#f0f921\"]], \"type\": \"contour\"}], \"contourcarpet\": [{\"colorbar\": {\"outlinewidth\": 0, \"ticks\": \"\"}, \"type\": \"contourcarpet\"}], \"heatmap\": [{\"colorbar\": {\"outlinewidth\": 0, \"ticks\": \"\"}, \"colorscale\": [[0.0, \"#0d0887\"], [0.1111111111111111, \"#46039f\"], [0.2222222222222222, \"#7201a8\"], [0.3333333333333333, \"#9c179e\"], [0.4444444444444444, \"#bd3786\"], [0.5555555555555556, \"#d8576b\"], [0.6666666666666666, \"#ed7953\"], [0.7777777777777778, \"#fb9f3a\"], [0.8888888888888888, \"#fdca26\"], [1.0, \"#f0f921\"]], \"type\": \"heatmap\"}], \"heatmapgl\": [{\"colorbar\": {\"outlinewidth\": 0, \"ticks\": \"\"}, \"colorscale\": [[0.0, \"#0d0887\"], [0.1111111111111111, \"#46039f\"], [0.2222222222222222, \"#7201a8\"], [0.3333333333333333, \"#9c179e\"], [0.4444444444444444, \"#bd3786\"], [0.5555555555555556, \"#d8576b\"], [0.6666666666666666, \"#ed7953\"], [0.7777777777777778, \"#fb9f3a\"], [0.8888888888888888, \"#fdca26\"], [1.0, \"#f0f921\"]], \"type\": \"heatmapgl\"}], \"histogram\": [{\"marker\": {\"colorbar\": {\"outlinewidth\": 0, \"ticks\": \"\"}}, \"type\": \"histogram\"}], \"histogram2d\": [{\"colorbar\": {\"outlinewidth\": 0, \"ticks\": \"\"}, \"colorscale\": [[0.0, \"#0d0887\"], [0.1111111111111111, \"#46039f\"], [0.2222222222222222, \"#7201a8\"], [0.3333333333333333, \"#9c179e\"], [0.4444444444444444, \"#bd3786\"], [0.5555555555555556, \"#d8576b\"], [0.6666666666666666, \"#ed7953\"], [0.7777777777777778, \"#fb9f3a\"], [0.8888888888888888, \"#fdca26\"], [1.0, \"#f0f921\"]], \"type\": \"histogram2d\"}], \"histogram2dcontour\": [{\"colorbar\": {\"outlinewidth\": 0, \"ticks\": \"\"}, \"colorscale\": [[0.0, \"#0d0887\"], [0.1111111111111111, \"#46039f\"], [0.2222222222222222, \"#7201a8\"], [0.3333333333333333, \"#9c179e\"], [0.4444444444444444, \"#bd3786\"], [0.5555555555555556, \"#d8576b\"], [0.6666666666666666, \"#ed7953\"], [0.7777777777777778, \"#fb9f3a\"], [0.8888888888888888, \"#fdca26\"], [1.0, \"#f0f921\"]], \"type\": \"histogram2dcontour\"}], \"mesh3d\": [{\"colorbar\": {\"outlinewidth\": 0, \"ticks\": \"\"}, \"type\": \"mesh3d\"}], \"parcoords\": [{\"line\": {\"colorbar\": {\"outlinewidth\": 0, \"ticks\": \"\"}}, \"type\": \"parcoords\"}], \"scatter\": [{\"marker\": {\"colorbar\": {\"outlinewidth\": 0, \"ticks\": \"\"}}, \"type\": \"scatter\"}], \"scatter3d\": [{\"line\": {\"colorbar\": {\"outlinewidth\": 0, \"ticks\": \"\"}}, \"marker\": {\"colorbar\": {\"outlinewidth\": 0, \"ticks\": \"\"}}, \"type\": \"scatter3d\"}], \"scattercarpet\": [{\"marker\": {\"colorbar\": {\"outlinewidth\": 0, \"ticks\": \"\"}}, \"type\": \"scattercarpet\"}], \"scattergeo\": [{\"marker\": {\"colorbar\": {\"outlinewidth\": 0, \"ticks\": \"\"}}, \"type\": \"scattergeo\"}], \"scattergl\": [{\"marker\": {\"colorbar\": {\"outlinewidth\": 0, \"ticks\": \"\"}}, \"type\": \"scattergl\"}], \"scattermapbox\": [{\"marker\": {\"colorbar\": {\"outlinewidth\": 0, \"ticks\": \"\"}}, \"type\": \"scattermapbox\"}], \"scatterpolar\": [{\"marker\": {\"colorbar\": {\"outlinewidth\": 0, \"ticks\": \"\"}}, \"type\": \"scatterpolar\"}], \"scatterpolargl\": [{\"marker\": {\"colorbar\": {\"outlinewidth\": 0, \"ticks\": \"\"}}, \"type\": \"scatterpolargl\"}], \"scatterternary\": [{\"marker\": {\"colorbar\": {\"outlinewidth\": 0, \"ticks\": \"\"}}, \"type\": \"scatterternary\"}], \"surface\": [{\"colorbar\": {\"outlinewidth\": 0, \"ticks\": \"\"}, \"colorscale\": [[0.0, \"#0d0887\"], [0.1111111111111111, \"#46039f\"], [0.2222222222222222, \"#7201a8\"], [0.3333333333333333, \"#9c179e\"], [0.4444444444444444, \"#bd3786\"], [0.5555555555555556, \"#d8576b\"], [0.6666666666666666, \"#ed7953\"], [0.7777777777777778, \"#fb9f3a\"], [0.8888888888888888, \"#fdca26\"], [1.0, \"#f0f921\"]], \"type\": \"surface\"}], \"table\": [{\"cells\": {\"fill\": {\"color\": \"#EBF0F8\"}, \"line\": {\"color\": \"white\"}}, \"header\": {\"fill\": {\"color\": \"#C8D4E3\"}, \"line\": {\"color\": \"white\"}}, \"type\": \"table\"}]}, \"layout\": {\"annotationdefaults\": {\"arrowcolor\": \"#2a3f5f\", \"arrowhead\": 0, \"arrowwidth\": 1}, \"colorscale\": {\"diverging\": [[0, \"#8e0152\"], [0.1, \"#c51b7d\"], [0.2, \"#de77ae\"], [0.3, \"#f1b6da\"], [0.4, \"#fde0ef\"], [0.5, \"#f7f7f7\"], [0.6, \"#e6f5d0\"], [0.7, \"#b8e186\"], [0.8, \"#7fbc41\"], [0.9, \"#4d9221\"], [1, \"#276419\"]], \"sequential\": [[0.0, \"#0d0887\"], [0.1111111111111111, \"#46039f\"], [0.2222222222222222, \"#7201a8\"], [0.3333333333333333, \"#9c179e\"], [0.4444444444444444, \"#bd3786\"], [0.5555555555555556, \"#d8576b\"], [0.6666666666666666, \"#ed7953\"], [0.7777777777777778, \"#fb9f3a\"], [0.8888888888888888, \"#fdca26\"], [1.0, \"#f0f921\"]], \"sequentialminus\": [[0.0, \"#0d0887\"], [0.1111111111111111, \"#46039f\"], [0.2222222222222222, \"#7201a8\"], [0.3333333333333333, \"#9c179e\"], [0.4444444444444444, \"#bd3786\"], [0.5555555555555556, \"#d8576b\"], [0.6666666666666666, \"#ed7953\"], [0.7777777777777778, \"#fb9f3a\"], [0.8888888888888888, \"#fdca26\"], [1.0, \"#f0f921\"]]}, \"colorway\": [\"#636efa\", \"#EF553B\", \"#00cc96\", \"#ab63fa\", \"#FFA15A\", \"#19d3f3\", \"#FF6692\", \"#B6E880\", \"#FF97FF\", \"#FECB52\"], \"font\": {\"color\": \"#2a3f5f\"}, \"geo\": {\"bgcolor\": \"white\", \"lakecolor\": \"white\", \"landcolor\": \"#E5ECF6\", \"showlakes\": true, \"showland\": true, \"subunitcolor\": \"white\"}, \"hoverlabel\": {\"align\": \"left\"}, \"hovermode\": \"closest\", \"mapbox\": {\"style\": \"light\"}, \"paper_bgcolor\": \"white\", \"plot_bgcolor\": \"#E5ECF6\", \"polar\": {\"angularaxis\": {\"gridcolor\": \"white\", \"linecolor\": \"white\", \"ticks\": \"\"}, \"bgcolor\": \"#E5ECF6\", \"radialaxis\": {\"gridcolor\": \"white\", \"linecolor\": \"white\", \"ticks\": \"\"}}, \"scene\": {\"xaxis\": {\"backgroundcolor\": \"#E5ECF6\", \"gridcolor\": \"white\", \"gridwidth\": 2, \"linecolor\": \"white\", \"showbackground\": true, \"ticks\": \"\", \"zerolinecolor\": \"white\"}, \"yaxis\": {\"backgroundcolor\": \"#E5ECF6\", \"gridcolor\": \"white\", \"gridwidth\": 2, \"linecolor\": \"white\", \"showbackground\": true, \"ticks\": \"\", \"zerolinecolor\": \"white\"}, \"zaxis\": {\"backgroundcolor\": \"#E5ECF6\", \"gridcolor\": \"white\", \"gridwidth\": 2, \"linecolor\": \"white\", \"showbackground\": true, \"ticks\": \"\", \"zerolinecolor\": \"white\"}}, \"shapedefaults\": {\"line\": {\"color\": \"#2a3f5f\"}}, \"ternary\": {\"aaxis\": {\"gridcolor\": \"white\", \"linecolor\": \"white\", \"ticks\": \"\"}, \"baxis\": {\"gridcolor\": \"white\", \"linecolor\": \"white\", \"ticks\": \"\"}, \"bgcolor\": \"#E5ECF6\", \"caxis\": {\"gridcolor\": \"white\", \"linecolor\": \"white\", \"ticks\": \"\"}}, \"title\": {\"x\": 0.05}, \"xaxis\": {\"automargin\": true, \"gridcolor\": \"white\", \"linecolor\": \"white\", \"ticks\": \"\", \"zerolinecolor\": \"white\", \"zerolinewidth\": 2}, \"yaxis\": {\"automargin\": true, \"gridcolor\": \"white\", \"linecolor\": \"white\", \"ticks\": \"\", \"zerolinecolor\": \"white\", \"zerolinewidth\": 2}}}, \"updatemenus\": [{\"buttons\": [{\"args\": [null, {\"frame\": {\"duration\": 500, \"redraw\": true}, \"fromcurrent\": true, \"mode\": \"immediate\", \"transition\": {\"duration\": 500, \"easing\": \"linear\"}}], \"label\": \"&#9654;\", \"method\": \"animate\"}, {\"args\": [[null], {\"frame\": {\"duration\": 0, \"redraw\": true}, \"fromcurrent\": true, \"mode\": \"immediate\", \"transition\": {\"duration\": 0, \"easing\": \"linear\"}}], \"label\": \"&#9724;\", \"method\": \"animate\"}], \"direction\": \"left\", \"pad\": {\"r\": 10, \"t\": 70}, \"showactive\": false, \"type\": \"buttons\", \"x\": 0.1, \"xanchor\": \"right\", \"y\": 0, \"yanchor\": \"top\"}], \"xaxis\": {\"anchor\": \"y\", \"domain\": [0.0, 0.98], \"range\": [0, 65], \"title\": {\"text\": \"pct_obese\"}}, \"yaxis\": {\"anchor\": \"x\", \"domain\": [0.0, 1.0], \"range\": [0, 40], \"title\": {\"text\": \"count\"}}},\n",
       "                        {\"responsive\": true}\n",
       "                    ).then(function(){\n",
       "                            Plotly.addFrames('d4c4ff43-b1a1-4b80-b65c-d893b36dc386', [{\"data\": [{\"alignmentgroup\": \"True\", \"bingroup\": \"x\", \"hoverlabel\": {\"namelength\": 0}, \"hovertemplate\": \"year=1975<br>pct_obese=%{x}<br>count=%{y}\", \"legendgroup\": \"\", \"marker\": {\"color\": \"#636efa\"}, \"name\": \"\", \"nbinsx\": 60, \"offsetgroup\": \"\", \"orientation\": \"v\", \"showlegend\": false, \"x\": [0.8, 0.5, 13.9, 13.5, 3.1, 0.5, 3.7, 0.7, 6.1, 13.4, 0.4, 5.8, 10.5, 8.7, 7.1, 13.2, 1.0, 10.6, 9.1, 0.4, 0.5, 5.7, 1.0, 7.6, 1.1, 8.0, 10.7, 5.0, 0.5, 14.2, 0.3, 11.3, 9.9, 4.3, 15.7, 14.1, 5.6, 11.1, 0.1, 5.0, 8.5, 1.3, 7.6, 0.3, 2.2, 1.3, 1.0, 7.7, 2.6, 4.2, 16.2, 8.3, 7.9, 7.4, 1.8, 0.2, 10.6, 0.8, 6.6, 4.4, 3.6, 17.8, 5.4, 0.4, 0.8, 4.2, 4.4, 16.8, 11.1, 5.8, 4.3, 0.2, 0.3, 5.2, 8.1, 2.8, 3.6, 0.9, 25.1, 0.9, 4.2, 3.9, 4.5, 10.2, 2.3, 8.0, 8.6, 6.5, 6.5, 11.8, 6.5, 0.8, 10.7, 0.4, 9.1, 0.7, 9.9, 12.5, 8.0, 0.6, 4.2, 16.7, 1.3, 3.4, 4.7, 6.5, 10.5, 5.1, 5.5, 2.5, 5.3, 0.7, 11.7, 13.3, 0.5, 5.7, 17.6, 0.6, 7.4, 10.3, 1.1, 5.4, 12.8, 1.3, 12.0, 0.6, 0.5, 4.5, 4.5, 14.5, 5.8, 1.6, 1.0, 4.9, 1.3, 8.6, 5.6, 0.8, 14.8, 0.4, 9.5, 1.3, 0.2, 0.7, 7.4, 1.2, 0.5, 9.4, 25.1, 23.8, 1.1, 6.6, 3.1, 5.6, 0.5, 0.6, 1.2, 10.0, 10.8, 9.3, 7.9, 3.0, 9.5, 6.0, 7.2, 1.2, 1.1, 10.1, 8.3, 5.9, 1.1, 3.4, 5.8, 10.2, 4.6, 0.4, 10.7, 3.0, 5.5, 5.3, 0.7, 4.9, 3.1, 8.3, 0.9, 41.5, 0.4, 7.5, 0.5, 13.3, 2.5], \"xaxis\": \"x\", \"yaxis\": \"y\", \"type\": \"histogram\"}], \"name\": \"1975\"}, {\"data\": [{\"alignmentgroup\": \"True\", \"bingroup\": \"x\", \"hoverlabel\": {\"namelength\": 0}, \"hovertemplate\": \"year=1976<br>pct_obese=%{x}<br>count=%{y}\", \"legendgroup\": \"\", \"marker\": {\"color\": \"#636efa\"}, \"name\": \"\", \"nbinsx\": 60, \"offsetgroup\": \"\", \"orientation\": \"v\", \"showlegend\": false, \"x\": [11.0, 4.3, 2.6, 1.2, 4.9, 0.9, 24.6, 6.7, 8.3, 11.5, 2.3, 4.6, 0.2, 0.4, 4.7, 2.6, 12.0, 6.0, 0.5, 5.6, 8.6, 6.8, 1.1, 7.0, 8.4, 5.9, 10.6, 0.3, 3.2, 0.6, 17.2, 0.5, 3.8, 14.6, 5.9, 5.4, 10.7, 11.0, 8.6, 8.6, 16.6, 13.8, 0.7, 3.1, 10.5, 9.9, 7.7, 0.1, 1.2, 5.8, 14.4, 7.4, 41.9, 11.5, 0.3, 7.8, 15.0, 0.5, 0.6, 4.4, 0.8, 12.8, 0.2, 9.4, 7.6, 0.4, 0.8, 6.7, 5.8, 9.0, 6.0, 10.4, 0.8, 1.1, 0.6, 1.1, 10.9, 8.9, 0.6, 10.7, 1.4, 1.0, 6.3, 8.8, 0.3, 4.3, 17.2, 13.1, 13.7, 5.7, 0.5, 18.1, 5.8, 3.3, 0.5, 7.7, 14.0, 0.4, 8.3, 1.2, 7.4, 13.5, 3.3, 9.3, 0.4, 9.8, 1.3, 9.8, 5.9, 2.0, 7.9, 1.4, 10.8, 0.8, 5.1, 7.6, 8.2, 5.0, 1.3, 1.2, 6.1, 6.1, 3.6, 6.3, 0.5, 0.4, 5.2, 7.8, 12.1, 0.8, 14.5, 0.4, 0.2, 4.5, 16.3, 1.6, 11.4, 5.2, 14.9, 1.4, 8.8, 13.6, 1.3, 2.6, 1.0, 0.5, 4.8, 6.8, 0.8, 4.5, 5.4, 4.4, 1.4, 10.8, 10.1, 5.5, 8.2, 5.3, 5.7, 3.5, 4.8, 1.1, 4.5, 3.7, 0.8, 18.4, 10.2, 5.7, 1.3, 0.8, 2.4, 2.9, 10.5, 0.5, 10.9, 4.0, 12.1, 3.2, 6.8, 25.6, 1.0, 11.1, 4.7, 0.7, 3.8, 0.8, 0.6, 25.6, 8.3, 1.4, 10.1], \"xaxis\": \"x\", \"yaxis\": \"y\", \"type\": \"histogram\"}], \"name\": \"1976\"}, {\"data\": [{\"alignmentgroup\": \"True\", \"bingroup\": \"x\", \"hoverlabel\": {\"namelength\": 0}, \"hovertemplate\": \"year=1977<br>pct_obese=%{x}<br>count=%{y}\", \"legendgroup\": \"\", \"marker\": {\"color\": \"#636efa\"}, \"name\": \"\", \"nbinsx\": 60, \"offsetgroup\": \"\", \"orientation\": \"v\", \"showlegend\": false, \"x\": [0.5, 8.9, 0.6, 0.5, 5.6, 3.7, 5.9, 10.8, 14.2, 0.8, 8.0, 1.0, 8.9, 1.7, 15.2, 12.1, 0.9, 0.2, 1.4, 7.8, 25.3, 4.8, 26.1, 0.7, 1.2, 0.6, 9.0, 0.8, 2.7, 10.2, 7.4, 6.0, 1.2, 1.5, 1.4, 1.2, 10.9, 13.4, 0.6, 15.3, 10.0, 10.5, 8.0, 10.6, 13.9, 1.4, 5.6, 5.1, 11.2, 13.1, 1.4, 4.5, 10.3, 7.0, 9.7, 11.5, 0.4, 6.9, 12.4, 7.0, 9.3, 0.9, 7.1, 0.8, 3.6, 11.0, 1.0, 2.4, 8.6, 0.4, 3.1, 5.0, 4.2, 2.3, 4.6, 0.8, 0.4, 6.3, 0.9, 19.0, 5.9, 4.7, 0.2, 10.9, 1.1, 11.2, 0.3, 7.9, 5.4, 11.8, 14.7, 16.9, 4.7, 1.1, 0.2, 10.9, 3.4, 12.4, 5.5, 6.6, 7.6, 1.3, 11.7, 8.2, 4.4, 17.0, 2.2, 0.4, 9.6, 1.1, 6.5, 7.7, 8.6, 0.5, 0.8, 0.6, 3.8, 15.2, 3.5, 8.8, 14.0, 5.2, 0.5, 1.4, 4.0, 6.0, 3.5, 8.6, 7.9, 1.5, 0.7, 17.8, 0.6, 0.5, 0.1, 8.6, 2.7, 14.5, 1.5, 7.0, 4.9, 13.8, 11.8, 6.1, 10.6, 1.0, 4.5, 0.9, 0.5, 2.6, 9.1, 42.4, 0.3, 6.0, 1.3, 6.2, 6.3, 8.0, 0.5, 11.3, 11.0, 11.1, 5.2, 3.3, 14.7, 6.2, 6.0, 18.6, 6.0, 0.6, 9.1, 1.2, 0.5, 6.2, 4.9, 3.9, 8.7, 0.6, 8.5, 17.6, 1.3, 0.8, 4.8, 11.2, 5.6, 5.4, 3.3, 5.9, 4.6, 11.1, 26.2], \"xaxis\": \"x\", \"yaxis\": \"y\", \"type\": \"histogram\"}], \"name\": \"1977\"}, {\"data\": [{\"alignmentgroup\": \"True\", \"bingroup\": \"x\", \"hoverlabel\": {\"namelength\": 0}, \"hovertemplate\": \"year=1978<br>pct_obese=%{x}<br>count=%{y}\", \"legendgroup\": \"\", \"marker\": {\"color\": \"#636efa\"}, \"name\": \"\", \"nbinsx\": 60, \"offsetgroup\": \"\", \"orientation\": \"v\", \"showlegend\": false, \"x\": [6.2, 0.2, 6.4, 0.8, 0.9, 11.9, 6.8, 17.6, 0.7, 1.2, 0.7, 12.1, 8.3, 1.5, 11.5, 2.3, 0.3, 9.3, 11.5, 5.6, 2.7, 0.9, 10.6, 1.2, 1.5, 15.0, 19.5, 12.7, 4.0, 8.0, 6.4, 6.2, 1.5, 3.9, 6.5, 5.6, 0.3, 0.6, 8.2, 4.5, 6.9, 15.0, 17.4, 1.3, 0.5, 11.7, 5.8, 4.9, 11.5, 0.9, 3.7, 9.2, 4.9, 11.3, 15.9, 5.8, 26.7, 9.6, 9.4, 0.5, 3.2, 4.7, 1.5, 6.1, 7.2, 8.9, 6.5, 5.3, 5.8, 0.5, 8.1, 9.8, 4.2, 14.2, 0.2, 7.3, 12.1, 0.4, 2.4, 0.5, 8.8, 1.1, 6.4, 2.6, 1.0, 11.4, 8.5, 1.0, 11.4, 1.2, 0.6, 7.2, 14.2, 4.9, 0.9, 9.0, 7.0, 4.8, 1.1, 0.4, 0.6, 8.9, 7.3, 12.0, 8.2, 9.9, 5.2, 4.7, 18.4, 13.4, 14.2, 4.3, 8.9, 0.8, 5.1, 5.3, 3.7, 0.6, 5.2, 12.7, 2.8, 15.0, 18.0, 3.9, 11.1, 6.1, 5.8, 0.9, 11.2, 6.1, 1.6, 25.9, 0.6, 6.4, 8.3, 6.5, 7.8, 3.4, 14.7, 1.3, 11.2, 1.2, 13.7, 11.2, 12.1, 19.0, 11.4, 15.4, 10.6, 0.6, 3.5, 9.3, 6.2, 1.5, 8.0, 0.7, 1.5, 1.5, 0.8, 0.5, 3.6, 0.1, 0.6, 0.7, 0.2, 1.3, 26.6, 0.5, 1.0, 5.0, 10.7, 9.1, 6.2, 7.9, 10.3, 9.3, 11.5, 5.4, 15.8, 1.4, 11.1, 3.4, 42.8, 8.8, 2.8, 0.9, 1.4, 0.5, 5.0, 1.8, 1.0], \"xaxis\": \"x\", \"yaxis\": \"y\", \"type\": \"histogram\"}], \"name\": \"1978\"}, {\"data\": [{\"alignmentgroup\": \"True\", \"bingroup\": \"x\", \"hoverlabel\": {\"namelength\": 0}, \"hovertemplate\": \"year=1979<br>pct_obese=%{x}<br>count=%{y}\", \"legendgroup\": \"\", \"marker\": {\"color\": \"#636efa\"}, \"name\": \"\", \"nbinsx\": 60, \"offsetgroup\": \"\", \"orientation\": \"v\", \"showlegend\": false, \"x\": [27.1, 0.8, 6.4, 0.5, 0.3, 7.5, 5.5, 9.2, 1.0, 4.2, 1.6, 9.6, 6.8, 11.8, 8.4, 5.6, 11.9, 4.4, 5.2, 0.2, 0.7, 18.4, 9.2, 2.3, 0.5, 3.9, 6.5, 0.7, 3.6, 6.0, 6.4, 8.3, 0.5, 7.5, 15.6, 9.5, 0.6, 3.8, 11.7, 0.5, 1.0, 5.8, 5.1, 1.1, 10.1, 0.2, 8.3, 1.1, 11.0, 7.6, 10.8, 1.4, 11.7, 6.0, 4.4, 13.0, 6.8, 1.5, 4.9, 9.1, 1.3, 3.3, 7.6, 9.4, 5.5, 12.4, 12.3, 4.9, 0.9, 27.3, 14.5, 1.0, 14.6, 11.7, 15.6, 12.5, 0.7, 20.1, 0.4, 2.6, 1.6, 1.0, 0.5, 1.1, 9.0, 11.4, 5.2, 6.6, 2.7, 26.5, 0.9, 1.7, 0.6, 8.8, 2.9, 13.8, 5.1, 11.3, 3.7, 9.4, 14.1, 11.8, 9.5, 5.1, 19.5, 15.1, 11.5, 16.6, 13.1, 0.5, 3.9, 3.9, 11.6, 3.6, 6.6, 0.9, 0.3, 15.3, 6.9, 6.3, 7.0, 18.3, 1.3, 0.7, 12.4, 6.0, 14.4, 6.1, 17.8, 12.0, 8.5, 0.3, 12.0, 43.2, 5.2, 1.4, 12.1, 8.1, 0.9, 4.1, 6.4, 1.8, 15.3, 8.2, 1.5, 6.7, 10.6, 1.6, 5.6, 0.4, 16.3, 0.6, 8.4, 4.6, 7.2, 11.8, 6.7, 8.6, 11.8, 6.4, 5.9, 0.6, 1.2, 1.5, 1.7, 10.2, 1.6, 1.4, 0.6, 8.4, 9.7, 0.7, 1.0, 7.2, 9.2, 0.6, 1.3, 1.2, 0.5, 9.9, 9.5, 3.0, 0.9, 11.0, 2.7, 0.8, 5.3, 4.9, 1.6, 19.0, 6.3], \"xaxis\": \"x\", \"yaxis\": \"y\", \"type\": \"histogram\"}], \"name\": \"1979\"}, {\"data\": [{\"alignmentgroup\": \"True\", \"bingroup\": \"x\", \"hoverlabel\": {\"namelength\": 0}, \"hovertemplate\": \"year=1980<br>pct_obese=%{x}<br>count=%{y}\", \"legendgroup\": \"\", \"marker\": {\"color\": \"#636efa\"}, \"name\": \"\", \"nbinsx\": 60, \"offsetgroup\": \"\", \"orientation\": \"v\", \"showlegend\": false, \"x\": [11.7, 4.1, 0.6, 11.0, 8.7, 1.7, 1.3, 0.6, 0.7, 16.8, 8.8, 1.5, 7.5, 1.7, 0.6, 0.6, 10.9, 4.2, 0.9, 6.0, 12.3, 5.4, 0.8, 14.7, 16.0, 9.5, 3.8, 6.9, 5.4, 1.6, 6.1, 7.9, 6.6, 5.8, 1.9, 0.9, 14.4, 1.1, 9.1, 1.5, 0.3, 27.5, 15.5, 10.0, 6.9, 0.7, 0.9, 0.5, 18.9, 1.0, 7.4, 12.8, 14.8, 2.7, 12.2, 10.3, 2.9, 8.9, 0.5, 8.8, 1.7, 1.8, 0.6, 1.7, 1.3, 7.0, 6.1, 6.4, 9.8, 9.6, 5.4, 20.0, 12.8, 6.4, 13.3, 12.0, 9.5, 4.0, 13.5, 1.6, 1.4, 11.5, 7.8, 11.2, 5.3, 11.7, 5.3, 6.6, 0.4, 7.8, 8.4, 12.1, 1.6, 6.0, 6.7, 43.6, 5.8, 7.7, 7.1, 12.3, 12.2, 12.0, 0.5, 15.6, 9.7, 0.8, 1.8, 27.8, 2.9, 0.6, 0.7, 3.8, 9.3, 0.6, 0.4, 12.9, 6.2, 3.7, 0.3, 1.2, 14.9, 10.3, 9.5, 1.4, 0.9, 0.7, 6.9, 4.0, 17.2, 11.8, 12.1, 4.0, 9.8, 1.0, 9.8, 1.3, 18.3, 1.0, 8.6, 3.1, 12.3, 14.1, 6.6, 5.1, 8.3, 19.7, 12.6, 15.6, 0.4, 10.4, 7.4, 4.8, 1.4, 0.5, 12.3, 0.7, 6.4, 0.6, 5.7, 5.1, 6.7, 4.6, 3.4, 15.8, 5.1, 26.9, 1.0, 8.9, 1.5, 1.1, 7.1, 12.6, 4.4, 1.1, 3.0, 5.3, 12.1, 5.3, 1.1, 10.0, 18.8, 2.3, 20.6, 0.3, 7.2, 6.2, 1.2, 8.5, 9.7, 0.2, 4.6], \"xaxis\": \"x\", \"yaxis\": \"y\", \"type\": \"histogram\"}], \"name\": \"1980\"}, {\"data\": [{\"alignmentgroup\": \"True\", \"bingroup\": \"x\", \"hoverlabel\": {\"namelength\": 0}, \"hovertemplate\": \"year=1981<br>pct_obese=%{x}<br>count=%{y}\", \"legendgroup\": \"\", \"marker\": {\"color\": \"#636efa\"}, \"name\": \"\", \"nbinsx\": 60, \"offsetgroup\": \"\", \"orientation\": \"v\", \"showlegend\": false, \"x\": [0.7, 4.9, 9.8, 9.4, 13.0, 0.6, 7.9, 1.8, 0.4, 3.1, 0.6, 1.4, 12.1, 12.6, 1.8, 15.9, 9.9, 7.5, 10.0, 6.6, 0.7, 12.0, 8.7, 6.8, 1.8, 15.8, 0.3, 1.0, 19.3, 10.1, 7.1, 0.6, 10.4, 17.8, 7.2, 6.9, 0.7, 13.9, 4.1, 12.5, 3.9, 5.6, 18.8, 5.5, 1.9, 7.2, 8.8, 8.4, 4.2, 1.7, 16.1, 12.7, 44.0, 3.9, 12.6, 7.0, 12.8, 17.2, 14.7, 0.6, 11.9, 0.9, 5.6, 20.5, 16.0, 0.2, 9.2, 6.6, 0.8, 10.0, 0.3, 7.9, 12.4, 11.2, 0.7, 1.1, 1.6, 6.8, 4.4, 11.5, 5.6, 12.5, 1.9, 13.2, 0.8, 4.0, 9.0, 0.9, 1.1, 0.4, 27.4, 28.0, 8.7, 1.0, 1.6, 1.7, 1.5, 2.0, 6.0, 6.4, 0.8, 12.1, 1.5, 7.2, 9.5, 28.4, 3.1, 9.5, 0.5, 1.2, 15.0, 0.5, 13.2, 3.1, 10.4, 0.3, 1.2, 0.8, 7.4, 9.2, 1.8, 8.0, 6.1, 9.8, 6.9, 12.5, 0.7, 6.4, 8.1, 0.6, 16.5, 0.6, 15.3, 1.3, 8.1, 6.8, 2.4, 4.2, 5.5, 6.2, 6.2, 10.2, 1.2, 12.6, 0.8, 4.6, 21.2, 1.7, 8.2, 1.1, 5.3, 11.3, 5.5, 13.3, 3.6, 4.7, 5.4, 1.0, 10.0, 6.0, 4.8, 13.7, 12.4, 6.4, 10.6, 4.4, 10.6, 0.7, 5.4, 5.5, 1.4, 14.9, 9.8, 20.4, 7.5, 13.1, 1.1, 12.4, 1.4, 10.7, 0.6, 14.4, 6.4, 19.6, 2.8, 9.0, 3.2, 1.1, 1.3, 1.5, 7.6], \"xaxis\": \"x\", \"yaxis\": \"y\", \"type\": \"histogram\"}], \"name\": \"1981\"}, {\"data\": [{\"alignmentgroup\": \"True\", \"bingroup\": \"x\", \"hoverlabel\": {\"namelength\": 0}, \"hovertemplate\": \"year=1982<br>pct_obese=%{x}<br>count=%{y}\", \"legendgroup\": \"\", \"marker\": {\"color\": \"#636efa\"}, \"name\": \"\", \"nbinsx\": 60, \"offsetgroup\": \"\", \"orientation\": \"v\", \"showlegend\": false, \"x\": [0.7, 28.5, 7.3, 5.8, 3.8, 11.5, 12.8, 1.2, 27.9, 4.6, 16.5, 1.2, 6.6, 1.3, 1.2, 7.5, 5.9, 13.2, 5.0, 4.4, 12.7, 4.2, 5.8, 1.5, 5.6, 19.3, 1.8, 2.0, 5.5, 3.2, 1.2, 13.4, 10.5, 5.7, 7.1, 6.3, 0.8, 20.3, 5.7, 7.2, 10.8, 4.3, 0.8, 19.7, 16.1, 1.0, 6.7, 7.7, 9.9, 1.1, 8.4, 11.8, 21.7, 1.8, 18.5, 8.5, 13.0, 1.8, 10.8, 7.9, 4.8, 0.6, 1.5, 7.3, 0.9, 2.9, 7.1, 0.9, 1.3, 12.9, 15.1, 44.4, 12.9, 10.3, 13.3, 13.0, 10.0, 10.1, 17.7, 15.1, 9.6, 21.0, 7.7, 16.5, 2.0, 13.8, 1.8, 8.9, 14.7, 11.0, 4.1, 7.1, 4.6, 9.3, 5.6, 21.0, 0.6, 0.4, 8.4, 10.0, 1.0, 6.8, 1.7, 6.2, 9.4, 0.9, 16.2, 0.9, 10.3, 9.8, 12.3, 12.6, 0.7, 2.0, 1.9, 29.1, 5.0, 0.7, 1.3, 5.9, 1.9, 15.6, 7.4, 8.3, 0.8, 4.1, 0.7, 0.6, 0.3, 10.8, 10.9, 8.4, 1.3, 3.4, 1.5, 6.7, 10.1, 7.9, 9.5, 0.7, 0.4, 0.5, 15.3, 10.3, 0.6, 10.2, 7.4, 8.9, 1.1, 12.4, 8.3, 8.6, 5.6, 13.6, 17.0, 0.6, 1.9, 0.2, 2.5, 0.6, 12.4, 1.9, 1.6, 10.5, 0.7, 1.4, 4.1, 1.2, 1.0, 6.4, 7.2, 12.7, 6.3, 13.6, 12.9, 6.8, 12.8, 0.3, 14.3, 4.9, 14.0, 6.8, 3.3, 0.3, 1.6, 6.4, 9.0, 3.4, 0.6, 11.6, 13.7], \"xaxis\": \"x\", \"yaxis\": \"y\", \"type\": \"histogram\"}], \"name\": \"1982\"}, {\"data\": [{\"alignmentgroup\": \"True\", \"bingroup\": \"x\", \"hoverlabel\": {\"namelength\": 0}, \"hovertemplate\": \"year=1983<br>pct_obese=%{x}<br>count=%{y}\", \"legendgroup\": \"\", \"marker\": {\"color\": \"#636efa\"}, \"name\": \"\", \"nbinsx\": 60, \"offsetgroup\": \"\", \"orientation\": \"v\", \"showlegend\": false, \"x\": [18.1, 0.9, 0.4, 21.7, 3.3, 21.0, 13.3, 7.5, 1.1, 13.9, 21.5, 13.0, 6.1, 0.9, 7.0, 19.9, 15.6, 0.4, 1.9, 1.2, 14.8, 4.3, 0.3, 1.3, 5.0, 13.7, 0.4, 13.1, 1.4, 10.1, 11.2, 9.2, 1.5, 0.5, 10.8, 0.9, 13.8, 7.3, 4.2, 10.6, 2.9, 29.0, 1.2, 9.0, 1.0, 8.1, 7.0, 6.7, 4.3, 19.1, 6.9, 6.1, 1.6, 8.7, 11.2, 13.2, 8.1, 5.2, 0.6, 10.7, 7.3, 0.9, 2.0, 2.1, 1.6, 1.0, 0.5, 29.7, 2.0, 28.4, 13.2, 9.8, 0.7, 9.5, 4.5, 1.1, 12.8, 1.4, 1.2, 4.8, 16.9, 2.1, 2.2, 14.1, 15.4, 10.4, 1.9, 13.3, 1.7, 9.2, 11.3, 7.7, 3.5, 7.6, 9.2, 12.0, 8.7, 16.5, 3.6, 12.8, 7.8, 15.1, 9.7, 5.9, 17.4, 8.0, 8.7, 2.0, 0.8, 7.4, 14.4, 0.6, 11.1, 1.1, 10.8, 10.4, 14.4, 5.7, 7.4, 0.6, 0.8, 16.4, 3.7, 0.7, 13.3, 13.3, 5.9, 13.4, 0.6, 10.3, 3.9, 12.1, 5.0, 1.5, 13.3, 1.2, 7.3, 7.6, 10.0, 5.9, 0.7, 16.9, 11.0, 7.0, 4.2, 1.3, 1.8, 4.5, 0.7, 0.7, 8.2, 22.2, 2.6, 7.0, 10.4, 8.6, 6.4, 12.7, 6.6, 10.6, 13.7, 1.9, 6.5, 44.8, 8.9, 2.0, 15.4, 11.7, 1.4, 20.2, 1.0, 1.4, 16.0, 10.3, 14.1, 2.1, 5.9, 6.6, 1.5, 0.7, 0.9, 7.7, 10.5, 6.0, 6.1, 0.7, 5.2, 5.8, 4.9, 0.2, 8.7], \"xaxis\": \"x\", \"yaxis\": \"y\", \"type\": \"histogram\"}], \"name\": \"1983\"}, {\"data\": [{\"alignmentgroup\": \"True\", \"bingroup\": \"x\", \"hoverlabel\": {\"namelength\": 0}, \"hovertemplate\": \"year=1984<br>pct_obese=%{x}<br>count=%{y}\", \"legendgroup\": \"\", \"marker\": {\"color\": \"#636efa\"}, \"name\": \"\", \"nbinsx\": 60, \"offsetgroup\": \"\", \"orientation\": \"v\", \"showlegend\": false, \"x\": [0.8, 2.1, 14.5, 9.0, 2.2, 1.0, 2.0, 1.3, 19.7, 2.1, 4.7, 0.4, 17.3, 11.3, 14.2, 6.2, 8.3, 7.6, 0.7, 2.8, 8.1, 1.4, 7.2, 6.6, 0.7, 15.8, 4.7, 1.3, 9.2, 7.9, 13.7, 6.4, 14.7, 1.8, 18.4, 6.3, 1.4, 1.1, 3.9, 12.4, 30.5, 15.9, 13.7, 9.8, 12.0, 0.7, 0.9, 0.7, 0.8, 29.0, 1.1, 1.1, 8.6, 7.9, 45.2, 0.2, 8.4, 7.0, 10.8, 5.5, 7.3, 10.0, 5.1, 0.4, 5.9, 6.9, 14.1, 3.4, 21.7, 5.2, 6.8, 15.6, 0.7, 1.6, 0.8, 3.9, 0.5, 1.6, 10.4, 6.1, 5.3, 11.6, 1.5, 0.6, 16.3, 1.5, 7.6, 20.7, 11.2, 7.1, 3.0, 4.1, 8.4, 7.8, 6.0, 22.6, 13.1, 15.4, 11.5, 1.9, 6.2, 17.9, 7.8, 4.4, 0.8, 1.4, 2.2, 10.4, 15.2, 5.0, 11.4, 9.2, 7.3, 10.8, 1.3, 4.4, 0.4, 13.8, 16.7, 0.7, 6.4, 9.0, 0.8, 5.9, 14.7, 2.1, 13.7, 11.0, 13.6, 9.4, 11.7, 7.9, 22.0, 4.3, 13.7, 8.9, 13.2, 3.7, 1.6, 6.4, 4.4, 14.3, 7.8, 1.3, 11.2, 2.0, 20.5, 13.2, 22.5, 17.3, 0.7, 10.9, 15.0, 13.7, 1.7, 1.2, 9.5, 1.0, 1.3, 5.4, 1.5, 2.2, 0.9, 13.7, 2.1, 29.5, 1.1, 9.4, 12.4, 10.6, 14.2, 8.0, 13.4, 10.1, 16.8, 1.6, 7.7, 7.3, 2.3, 2.1, 9.5, 0.7, 10.9, 13.1, 8.8, 10.6, 1.0, 0.5, 6.9, 10.9, 11.1], \"xaxis\": \"x\", \"yaxis\": \"y\", \"type\": \"histogram\"}], \"name\": \"1984\"}, {\"data\": [{\"alignmentgroup\": \"True\", \"bingroup\": \"x\", \"hoverlabel\": {\"namelength\": 0}, \"hovertemplate\": \"year=1985<br>pct_obese=%{x}<br>count=%{y}\", \"legendgroup\": \"\", \"marker\": {\"color\": \"#636efa\"}, \"name\": \"\", \"nbinsx\": 60, \"offsetgroup\": \"\", \"orientation\": \"v\", \"showlegend\": false, \"x\": [2.3, 10.4, 1.2, 7.4, 11.1, 8.8, 30.1, 7.4, 0.7, 2.2, 9.8, 8.7, 11.7, 1.2, 5.2, 1.5, 12.0, 1.5, 0.6, 1.7, 15.8, 7.8, 3.1, 1.0, 7.6, 9.0, 9.7, 8.4, 13.5, 15.7, 2.0, 12.1, 8.1, 4.6, 23.2, 9.3, 15.1, 15.6, 2.3, 14.0, 9.6, 6.7, 10.7, 0.4, 14.7, 8.1, 6.7, 0.4, 2.2, 14.5, 18.3, 4.6, 3.6, 22.6, 22.5, 14.1, 0.9, 6.5, 17.1, 8.1, 2.5, 11.5, 1.6, 0.5, 4.2, 13.4, 7.1, 0.8, 6.6, 5.0, 11.6, 6.4, 0.8, 2.9, 8.2, 14.2, 10.9, 1.5, 4.6, 17.8, 2.0, 15.1, 8.1, 0.7, 6.8, 1.1, 14.8, 1.2, 8.4, 12.3, 7.7, 6.6, 9.5, 9.1, 0.8, 9.3, 2.1, 11.2, 1.5, 11.2, 0.7, 14.1, 0.8, 8.2, 13.8, 9.2, 7.5, 7.1, 5.4, 5.7, 45.7, 0.2, 2.3, 15.8, 21.2, 6.4, 16.7, 2.3, 1.7, 1.5, 1.4, 0.8, 11.9, 4.2, 6.0, 7.2, 12.7, 10.9, 11.6, 11.1, 1.4, 5.5, 8.3, 14.0, 11.5, 6.1, 23.1, 10.8, 14.2, 1.7, 0.7, 5.3, 17.0, 14.7, 6.2, 4.3, 0.8, 14.3, 13.4, 5.5, 7.4, 11.3, 0.7, 8.6, 0.4, 14.8, 16.1, 7.8, 10.5, 1.1, 14.1, 13.6, 10.1, 1.2, 1.4, 11.4, 29.6, 1.4, 18.7, 31.3, 1.0, 3.8, 9.6, 1.4, 16.4, 1.2, 4.5, 1.8, 2.2, 17.7, 1.1, 1.4, 0.5, 2.2, 1.9, 20.4, 21.3, 10.0, 0.8, 12.8, 4.8], \"xaxis\": \"x\", \"yaxis\": \"y\", \"type\": \"histogram\"}], \"name\": \"1985\"}, {\"data\": [{\"alignmentgroup\": \"True\", \"bingroup\": \"x\", \"hoverlabel\": {\"namelength\": 0}, \"hovertemplate\": \"year=1986<br>pct_obese=%{x}<br>count=%{y}\", \"legendgroup\": \"\", \"marker\": {\"color\": \"#636efa\"}, \"name\": \"\", \"nbinsx\": 60, \"offsetgroup\": \"\", \"orientation\": \"v\", \"showlegend\": false, \"x\": [8.8, 19.0, 11.5, 1.5, 7.0, 14.3, 12.1, 7.9, 6.3, 4.0, 1.2, 7.8, 0.4, 5.8, 12.0, 11.7, 9.6, 0.5, 1.6, 1.2, 15.1, 8.5, 4.7, 18.2, 2.0, 14.5, 2.4, 9.5, 14.9, 1.1, 23.7, 13.9, 23.4, 23.2, 3.7, 4.8, 1.3, 7.7, 16.9, 11.5, 10.7, 1.5, 13.8, 32.1, 1.9, 0.9, 2.3, 1.0, 12.4, 6.0, 1.2, 14.6, 11.0, 0.5, 46.2, 8.9, 0.2, 12.2, 14.2, 16.1, 2.5, 4.5, 21.8, 13.3, 18.1, 1.6, 6.7, 0.9, 2.3, 1.6, 1.9, 17.0, 5.7, 1.6, 11.0, 5.7, 15.1, 9.1, 14.7, 1.8, 1.5, 30.8, 11.8, 0.8, 0.8, 4.8, 0.8, 17.3, 16.5, 1.6, 6.4, 7.7, 1.5, 4.6, 3.1, 2.0, 1.3, 5.0, 8.1, 13.0, 11.2, 6.2, 0.6, 7.6, 7.4, 11.3, 10.3, 30.3, 1.2, 10.1, 9.7, 8.5, 8.4, 15.2, 9.8, 15.5, 1.8, 9.2, 1.5, 16.3, 8.4, 0.8, 9.9, 4.4, 1.6, 10.6, 5.5, 7.4, 0.8, 12.4, 10.2, 0.8, 2.5, 0.6, 6.8, 2.6, 21.1, 18.7, 11.5, 2.3, 11.6, 0.8, 1.5, 9.9, 2.2, 13.8, 11.8, 17.4, 7.7, 16.0, 8.7, 0.9, 8.5, 7.1, 10.8, 14.5, 5.3, 0.9, 5.2, 6.7, 7.0, 8.2, 12.0, 4.6, 14.8, 0.8, 6.8, 3.1, 9.0, 8.8, 24.0, 9.7, 12.6, 8.5, 1.3, 15.5, 14.4, 16.2, 2.1, 6.9, 2.4, 22.0, 15.2, 13.8, 0.4, 8.1, 0.8, 11.8, 14.6, 1.1, 2.3], \"xaxis\": \"x\", \"yaxis\": \"y\", \"type\": \"histogram\"}], \"name\": \"1986\"}, {\"data\": [{\"alignmentgroup\": \"True\", \"bingroup\": \"x\", \"hoverlabel\": {\"namelength\": 0}, \"hovertemplate\": \"year=1987<br>pct_obese=%{x}<br>count=%{y}\", \"legendgroup\": \"\", \"marker\": {\"color\": \"#636efa\"}, \"name\": \"\", \"nbinsx\": 60, \"offsetgroup\": \"\", \"orientation\": \"v\", \"showlegend\": false, \"x\": [5.2, 15.6, 1.6, 17.3, 4.7, 11.5, 7.7, 10.0, 1.4, 6.4, 5.9, 3.2, 9.2, 12.9, 15.6, 16.3, 0.2, 0.9, 2.7, 14.5, 12.1, 18.6, 7.1, 2.3, 46.7, 22.4, 2.5, 1.3, 15.7, 1.7, 5.9, 0.9, 8.7, 6.2, 7.9, 10.2, 0.9, 1.7, 7.6, 19.3, 7.2, 15.8, 12.0, 1.6, 6.1, 12.0, 12.1, 17.6, 8.0, 6.9, 0.5, 0.9, 14.2, 24.2, 3.2, 9.2, 5.4, 12.4, 15.0, 18.6, 1.3, 8.9, 10.0, 4.8, 22.9, 1.7, 11.8, 5.7, 15.3, 4.7, 14.7, 8.8, 7.0, 2.2, 1.6, 21.8, 4.8, 6.7, 0.8, 0.9, 16.8, 14.8, 17.6, 11.9, 0.8, 13.4, 10.3, 0.8, 1.9, 11.3, 11.2, 1.0, 8.7, 1.1, 1.6, 6.6, 10.0, 9.3, 4.1, 11.1, 12.8, 7.5, 2.1, 1.6, 9.1, 8.4, 7.3, 9.9, 16.3, 11.8, 0.6, 2.4, 0.7, 0.5, 14.2, 1.5, 17.6, 1.2, 19.1, 2.8, 1.7, 7.3, 12.8, 0.9, 1.0, 15.1, 1.4, 7.1, 2.2, 2.0, 16.9, 12.1, 33.0, 31.5, 10.1, 2.6, 24.3, 8.2, 9.4, 0.9, 8.7, 1.3, 1.3, 24.7, 1.6, 7.9, 8.0, 8.8, 14.9, 10.8, 8.2, 12.8, 2.4, 15.3, 15.5, 8.3, 31.1, 4.9, 1.1, 0.5, 15.8, 12.2, 10.4, 8.8, 5.1, 23.8, 9.3, 0.9, 3.8, 2.4, 2.5, 10.6, 1.7, 14.9, 2.1, 5.0, 12.6, 13.7, 5.5, 12.1, 11.1, 2.6, 0.6, 1.9, 14.3, 11.3, 16.9, 9.5, 1.3, 15.2, 14.1], \"xaxis\": \"x\", \"yaxis\": \"y\", \"type\": \"histogram\"}], \"name\": \"1987\"}, {\"data\": [{\"alignmentgroup\": \"True\", \"bingroup\": \"x\", \"hoverlabel\": {\"namelength\": 0}, \"hovertemplate\": \"year=1988<br>pct_obese=%{x}<br>count=%{y}\", \"legendgroup\": \"\", \"marker\": {\"color\": \"#636efa\"}, \"name\": \"\", \"nbinsx\": 60, \"offsetgroup\": \"\", \"orientation\": \"v\", \"showlegend\": false, \"x\": [9.3, 1.4, 10.4, 0.5, 2.3, 19.0, 0.9, 12.3, 4.3, 0.9, 16.2, 3.4, 5.0, 31.9, 23.6, 12.3, 14.7, 2.3, 1.3, 9.5, 7.6, 15.3, 12.5, 5.3, 7.2, 9.1, 9.7, 1.8, 15.5, 25.5, 5.7, 12.4, 9.1, 7.9, 1.8, 1.0, 12.5, 2.7, 2.4, 15.8, 16.2, 17.5, 8.6, 15.6, 1.0, 15.9, 5.7, 2.5, 0.9, 12.5, 1.7, 10.7, 4.9, 7.4, 9.2, 9.7, 13.2, 10.9, 1.5, 2.6, 10.3, 1.7, 7.4, 9.1, 7.3, 19.4, 0.6, 10.5, 11.5, 9.0, 5.9, 2.8, 5.0, 1.4, 8.1, 11.6, 1.7, 3.0, 7.5, 4.0, 9.2, 11.4, 0.9, 13.2, 7.9, 10.8, 16.6, 1.0, 12.2, 22.5, 14.6, 15.2, 0.9, 0.8, 17.8, 17.5, 1.6, 2.3, 12.8, 0.7, 11.8, 2.4, 2.0, 6.5, 5.3, 8.8, 10.2, 1.5, 1.8, 1.7, 5.1, 0.5, 1.7, 17.2, 9.9, 17.9, 0.9, 8.3, 24.8, 32.2, 0.9, 19.0, 12.4, 9.8, 2.0, 11.5, 6.5, 8.0, 13.2, 1.8, 2.9, 2.5, 17.6, 3.3, 1.8, 0.9, 13.7, 2.6, 8.6, 1.1, 16.5, 5.4, 9.6, 33.8, 0.2, 10.4, 11.7, 14.9, 0.6, 14.2, 47.3, 1.4, 8.3, 2.1, 15.6, 6.2, 6.1, 16.1, 12.9, 1.2, 6.9, 1.0, 7.7, 12.2, 15.8, 1.4, 1.4, 8.3, 19.5, 15.7, 0.5, 25.2, 1.8, 12.5, 11.4, 18.3, 6.4, 16.1, 14.6, 24.4, 2.2, 5.2, 15.2, 13.4, 14.4, 23.0, 8.5, 15.0, 10.2, 6.8, 9.4], \"xaxis\": \"x\", \"yaxis\": \"y\", \"type\": \"histogram\"}], \"name\": \"1988\"}, {\"data\": [{\"alignmentgroup\": \"True\", \"bingroup\": \"x\", \"hoverlabel\": {\"namelength\": 0}, \"hovertemplate\": \"year=1989<br>pct_obese=%{x}<br>count=%{y}\", \"legendgroup\": \"\", \"marker\": {\"color\": \"#636efa\"}, \"name\": \"\", \"nbinsx\": 60, \"offsetgroup\": \"\", \"orientation\": \"v\", \"showlegend\": false, \"x\": [11.8, 19.0, 5.8, 9.9, 8.2, 16.3, 0.3, 1.9, 16.4, 13.2, 10.9, 6.7, 1.0, 11.0, 15.3, 0.7, 10.2, 2.6, 1.0, 1.5, 11.8, 12.0, 12.8, 1.2, 8.7, 19.4, 2.5, 5.4, 17.9, 15.5, 13.2, 3.3, 1.6, 5.0, 13.6, 18.1, 1.9, 7.7, 9.8, 32.8, 3.2, 9.0, 1.4, 10.0, 23.6, 19.5, 1.8, 1.6, 24.3, 12.8, 18.2, 16.4, 25.4, 15.9, 23.3, 2.4, 16.9, 8.4, 10.4, 13.6, 4.2, 1.0, 3.5, 1.6, 5.4, 7.1, 1.4, 12.8, 10.0, 3.2, 12.5, 9.8, 1.0, 1.5, 8.8, 0.9, 14.7, 0.5, 10.9, 1.9, 16.1, 9.7, 12.7, 9.4, 16.5, 9.4, 18.1, 3.0, 1.4, 19.7, 7.5, 13.6, 15.5, 1.9, 7.0, 6.8, 0.8, 6.0, 6.0, 6.3, 0.5, 7.6, 26.3, 1.9, 15.0, 8.4, 1.5, 25.1, 11.2, 12.8, 1.8, 4.5, 6.5, 8.6, 16.6, 15.0, 12.0, 10.7, 16.7, 15.4, 1.4, 16.0, 1.8, 5.1, 2.5, 12.1, 13.0, 12.7, 9.1, 2.1, 34.7, 1.0, 47.8, 11.2, 1.1, 16.7, 2.9, 1.0, 18.1, 5.9, 1.9, 0.9, 14.0, 7.8, 5.2, 2.4, 1.0, 8.6, 9.4, 1.1, 0.7, 7.9, 14.1, 1.2, 2.2, 6.7, 12.6, 9.9, 2.3, 1.9, 8.9, 10.6, 12.7, 5.5, 26.2, 2.7, 8.1, 0.6, 2.7, 2.5, 10.4, 14.8, 10.7, 8.4, 1.0, 12.1, 19.7, 7.7, 0.9, 16.2, 15.1, 9.5, 2.8, 17.5, 16.1, 15.8, 5.5, 9.4, 2.1, 33.0, 11.9], \"xaxis\": \"x\", \"yaxis\": \"y\", \"type\": \"histogram\"}], \"name\": \"1989\"}, {\"data\": [{\"alignmentgroup\": \"True\", \"bingroup\": \"x\", \"hoverlabel\": {\"namelength\": 0}, \"hovertemplate\": \"year=1990<br>pct_obese=%{x}<br>count=%{y}\", \"legendgroup\": \"\", \"marker\": {\"color\": \"#636efa\"}, \"name\": \"\", \"nbinsx\": 60, \"offsetgroup\": \"\", \"orientation\": \"v\", \"showlegend\": false, \"x\": [2.9, 15.4, 2.0, 19.9, 0.3, 2.6, 11.1, 2.4, 19.8, 3.1, 0.6, 2.6, 13.2, 24.3, 11.4, 1.5, 6.3, 9.1, 1.1, 3.5, 2.0, 15.8, 3.7, 5.3, 16.9, 13.3, 3.4, 13.0, 15.4, 12.2, 5.6, 18.5, 7.3, 2.0, 16.6, 1.1, 0.6, 17.8, 16.5, 7.3, 1.0, 6.9, 26.1, 8.1, 1.3, 8.8, 0.7, 15.8, 27.2, 9.2, 11.0, 25.8, 2.6, 1.6, 18.7, 15.3, 10.7, 13.2, 8.9, 16.9, 2.2, 15.4, 12.1, 13.0, 16.7, 1.5, 16.9, 48.4, 9.1, 35.6, 6.1, 15.6, 14.7, 1.5, 10.3, 10.5, 7.1, 6.7, 12.5, 13.1, 9.0, 2.0, 13.5, 7.1, 13.0, 5.6, 11.5, 19.9, 3.4, 2.8, 0.6, 1.0, 7.9, 2.0, 1.1, 9.9, 1.1, 12.4, 2.0, 10.4, 1.6, 14.5, 15.9, 1.3, 14.0, 10.2, 15.0, 6.5, 0.9, 9.4, 24.1, 18.6, 2.7, 1.1, 11.7, 1.1, 13.7, 9.7, 9.8, 1.9, 10.1, 8.7, 9.4, 2.9, 1.7, 1.1, 2.0, 13.6, 9.7, 10.3, 24.8, 1.9, 17.3, 27.0, 33.7, 8.6, 20.0, 16.6, 8.0, 12.8, 2.2, 13.9, 0.7, 10.9, 17.3, 8.3, 33.9, 2.3, 11.3, 9.8, 17.0, 16.4, 12.5, 16.3, 5.8, 16.6, 4.7, 11.1, 1.7, 8.6, 7.8, 5.7, 10.3, 19.6, 2.3, 12.8, 16.3, 18.2, 1.1, 8.8, 11.3, 8.2, 1.0, 10.3, 5.5, 13.1, 2.1, 2.8, 3.3, 14.0, 18.3, 12.4, 6.2, 0.8, 4.4, 6.4, 5.1, 1.6, 1.8, 2.6, 1.1], \"xaxis\": \"x\", \"yaxis\": \"y\", \"type\": \"histogram\"}], \"name\": \"1990\"}, {\"data\": [{\"alignmentgroup\": \"True\", \"bingroup\": \"x\", \"hoverlabel\": {\"namelength\": 0}, \"hovertemplate\": \"year=1991<br>pct_obese=%{x}<br>count=%{y}\", \"legendgroup\": \"\", \"marker\": {\"color\": \"#636efa\"}, \"name\": \"\", \"nbinsx\": 60, \"offsetgroup\": \"\", \"orientation\": \"v\", \"showlegend\": false, \"x\": [7.6, 11.4, 7.1, 14.0, 1.8, 9.2, 28.3, 10.8, 9.8, 14.5, 2.2, 15.8, 34.7, 19.4, 0.3, 2.3, 10.8, 5.8, 9.0, 9.8, 5.8, 1.1, 18.6, 17.2, 2.6, 1.2, 3.1, 1.3, 2.7, 3.0, 25.1, 18.5, 1.6, 3.5, 5.0, 11.4, 3.8, 6.0, 2.9, 14.9, 1.7, 9.5, 0.7, 10.9, 12.8, 0.6, 6.9, 11.8, 1.1, 9.0, 7.5, 2.3, 1.8, 49.1, 6.9, 10.0, 1.6, 34.6, 36.5, 10.1, 11.6, 15.3, 2.1, 18.7, 17.1, 0.9, 15.9, 4.6, 14.3, 13.4, 8.5, 1.0, 9.2, 6.4, 25.0, 1.0, 19.1, 2.4, 10.1, 16.2, 13.5, 12.2, 10.3, 5.8, 27.8, 6.6, 0.7, 10.2, 3.9, 2.7, 10.6, 5.3, 13.3, 6.1, 16.8, 18.0, 16.8, 8.6, 12.9, 8.1, 17.0, 1.2, 8.2, 17.0, 8.3, 1.2, 12.8, 14.4, 13.5, 25.2, 10.7, 11.4, 3.7, 1.9, 3.5, 11.4, 1.1, 17.6, 2.0, 13.2, 6.7, 8.9, 1.1, 1.2, 2.0, 2.2, 1.8, 3.1, 10.6, 1.1, 2.1, 2.9, 2.7, 20.3, 16.6, 11.7, 16.1, 20.2, 20.2, 13.4, 1.6, 17.5, 12.4, 15.9, 17.1, 15.3, 14.1, 10.6, 1.0, 18.1, 7.4, 10.9, 17.4, 1.2, 0.6, 13.4, 2.1, 14.1, 6.3, 12.8, 7.5, 15.9, 20.4, 2.1, 16.9, 2.3, 13.8, 11.0, 2.7, 5.5, 1.6, 11.9, 26.5, 3.2, 15.8, 16.1, 9.1, 0.8, 13.4, 9.6, 17.3, 2.2, 8.5, 9.3, 9.4, 1.4, 20.1, 27.0, 12.5, 2.1, 13.6], \"xaxis\": \"x\", \"yaxis\": \"y\", \"type\": \"histogram\"}], \"name\": \"1991\"}, {\"data\": [{\"alignmentgroup\": \"True\", \"bingroup\": \"x\", \"hoverlabel\": {\"namelength\": 0}, \"hovertemplate\": \"year=1992<br>pct_obese=%{x}<br>count=%{y}\", \"legendgroup\": \"\", \"marker\": {\"color\": \"#636efa\"}, \"name\": \"\", \"nbinsx\": 60, \"offsetgroup\": \"\", \"orientation\": \"v\", \"showlegend\": false, \"x\": [17.3, 12.2, 13.8, 6.0, 28.7, 1.9, 6.3, 14.1, 29.4, 10.2, 2.7, 2.4, 18.0, 20.6, 27.3, 8.8, 3.3, 10.5, 7.4, 19.6, 4.8, 9.0, 5.2, 12.8, 12.1, 18.9, 17.3, 9.7, 14.7, 1.3, 0.7, 3.4, 16.4, 10.0, 1.9, 2.8, 13.7, 3.0, 9.7, 9.5, 11.4, 20.1, 6.4, 11.3, 1.3, 17.4, 17.5, 1.7, 1.2, 15.7, 10.7, 0.3, 0.7, 3.9, 9.4, 16.2, 1.7, 4.2, 12.4, 5.7, 16.4, 20.5, 14.0, 6.9, 10.9, 2.8, 2.3, 13.7, 8.4, 20.8, 5.4, 10.6, 20.3, 2.4, 2.2, 2.2, 0.8, 17.7, 9.4, 13.2, 20.9, 14.6, 2.3, 7.8, 0.9, 14.5, 15.9, 1.6, 13.7, 16.3, 18.1, 14.3, 18.7, 7.8, 8.5, 1.0, 3.0, 2.1, 16.9, 13.6, 6.9, 2.1, 25.4, 1.2, 17.3, 1.3, 13.2, 14.8, 11.0, 11.9, 2.0, 11.7, 8.6, 2.2, 1.1, 11.0, 13.4, 13.7, 6.0, 6.6, 25.9, 9.5, 12.6, 8.9, 10.4, 16.6, 13.8, 9.2, 1.3, 1.2, 2.5, 2.4, 10.2, 17.2, 1.3, 10.9, 6.1, 19.0, 1.2, 11.4, 1.9, 0.7, 2.6, 7.8, 12.0, 7.2, 0.8, 37.4, 15.4, 9.9, 1.2, 17.4, 17.7, 3.6, 11.7, 25.9, 1.7, 2.2, 35.5, 1.4, 4.0, 1.7, 16.4, 18.7, 3.3, 3.1, 17.7, 11.8, 2.7, 35.6, 1.5, 11.2, 2.4, 14.3, 10.3, 2.9, 9.6, 14.9, 16.2, 6.4, 12.7, 1.1, 11.2, 3.7, 7.8, 7.3, 28.0, 16.5, 13.2, 18.4, 49.7], \"xaxis\": \"x\", \"yaxis\": \"y\", \"type\": \"histogram\"}], \"name\": \"1992\"}, {\"data\": [{\"alignmentgroup\": \"True\", \"bingroup\": \"x\", \"hoverlabel\": {\"namelength\": 0}, \"hovertemplate\": \"year=1993<br>pct_obese=%{x}<br>count=%{y}\", \"legendgroup\": \"\", \"marker\": {\"color\": \"#636efa\"}, \"name\": \"\", \"nbinsx\": 60, \"offsetgroup\": \"\", \"orientation\": \"v\", \"showlegend\": false, \"x\": [11.5, 14.0, 18.4, 10.7, 1.3, 11.5, 17.0, 25.6, 1.8, 17.8, 2.3, 13.7, 10.7, 2.5, 2.0, 2.2, 3.5, 17.2, 14.7, 1.3, 7.1, 19.2, 9.7, 20.8, 13.8, 14.5, 20.5, 18.7, 14.0, 3.0, 14.0, 16.6, 11.3, 1.7, 10.0, 21.3, 1.5, 3.2, 6.6, 0.9, 14.3, 2.4, 9.2, 1.8, 18.3, 3.6, 1.8, 26.8, 36.4, 2.8, 6.3, 12.5, 5.6, 19.4, 12.3, 21.3, 3.0, 2.9, 38.3, 11.3, 12.2, 16.9, 0.7, 29.5, 15.1, 6.6, 1.2, 3.9, 2.5, 14.0, 2.6, 10.1, 11.0, 14.1, 7.3, 2.8, 15.9, 20.9, 2.4, 0.8, 5.9, 1.3, 3.6, 8.7, 13.6, 2.4, 10.0, 9.7, 10.5, 5.5, 6.8, 6.3, 10.9, 16.0, 19.0, 7.9, 2.6, 1.0, 17.5, 8.8, 15.4, 18.1, 14.7, 1.1, 1.4, 4.4, 13.0, 7.6, 50.3, 6.8, 2.4, 16.5, 15.2, 10.3, 18.1, 16.8, 13.6, 13.0, 8.0, 1.1, 1.4, 29.0, 15.0, 8.0, 8.2, 19.2, 26.7, 12.1, 17.7, 3.7, 3.3, 2.6, 9.7, 4.1, 2.3, 1.5, 8.1, 14.8, 18.7, 11.9, 16.8, 16.5, 7.4, 13.2, 36.5, 11.6, 1.7, 1.4, 2.0, 11.5, 11.1, 12.6, 17.9, 11.8, 1.3, 17.8, 17.9, 15.2, 11.7, 0.3, 17.6, 1.3, 0.7, 1.3, 2.0, 13.0, 1.1, 9.3, 12.3, 0.8, 20.9, 10.6, 10.0, 9.3, 10.8, 30.4, 12.1, 6.3, 17.0, 28.1, 13.9, 4.2, 3.2, 5.0, 9.6, 16.7, 2.2, 20.0, 2.5, 8.9, 2.1], \"xaxis\": \"x\", \"yaxis\": \"y\", \"type\": \"histogram\"}], \"name\": \"1993\"}, {\"data\": [{\"alignmentgroup\": \"True\", \"bingroup\": \"x\", \"hoverlabel\": {\"namelength\": 0}, \"hovertemplate\": \"year=1994<br>pct_obese=%{x}<br>count=%{y}\", \"legendgroup\": \"\", \"marker\": {\"color\": \"#636efa\"}, \"name\": \"\", \"nbinsx\": 60, \"offsetgroup\": \"\", \"orientation\": \"v\", \"showlegend\": false, \"x\": [17.1, 14.3, 17.9, 19.3, 15.3, 2.3, 2.4, 2.6, 1.5, 6.8, 1.5, 14.3, 8.3, 11.9, 18.4, 2.5, 2.2, 21.5, 8.6, 10.8, 15.8, 15.6, 7.2, 14.2, 21.8, 1.8, 11.6, 17.2, 12.4, 0.9, 11.2, 13.7, 2.7, 9.1, 2.5, 5.7, 11.9, 11.1, 20.1, 10.0, 12.8, 21.9, 9.2, 2.5, 10.0, 1.2, 10.3, 17.3, 17.9, 9.2, 6.6, 27.7, 9.6, 7.0, 14.2, 2.7, 25.7, 14.4, 11.4, 20.7, 11.8, 14.9, 9.9, 13.5, 14.4, 1.8, 4.6, 17.4, 1.4, 3.1, 21.2, 2.6, 2.3, 6.2, 3.4, 7.6, 1.3, 17.4, 10.1, 1.2, 10.6, 1.3, 14.4, 11.2, 29.9, 3.7, 1.1, 15.9, 17.0, 12.1, 12.0, 37.4, 15.0, 10.4, 3.0, 11.0, 19.4, 15.5, 14.0, 2.7, 2.4, 18.5, 5.2, 2.2, 9.7, 0.4, 13.4, 20.4, 30.3, 12.5, 2.8, 8.4, 10.6, 14.4, 12.1, 12.3, 18.4, 6.8, 13.3, 1.3, 18.2, 0.8, 12.6, 14.7, 3.3, 6.5, 29.0, 31.5, 9.6, 11.1, 1.8, 10.9, 12.8, 1.5, 5.8, 2.9, 18.2, 16.4, 2.9, 16.4, 17.6, 2.5, 19.4, 1.8, 12.4, 8.2, 2.1, 18.5, 18.9, 7.8, 4.2, 50.9, 15.4, 7.2, 4.5, 21.2, 3.1, 14.1, 17.2, 39.2, 18.7, 16.9, 1.6, 1.2, 16.8, 1.4, 18.9, 0.8, 0.9, 1.3, 3.8, 19.2, 11.5, 1.4, 4.3, 27.5, 37.3, 13.1, 3.7, 6.5, 2.1, 0.8, 17.9, 1.6, 12.7, 1.9, 8.5, 3.9, 3.4, 15.4, 7.6], \"xaxis\": \"x\", \"yaxis\": \"y\", \"type\": \"histogram\"}], \"name\": \"1994\"}, {\"data\": [{\"alignmentgroup\": \"True\", \"bingroup\": \"x\", \"hoverlabel\": {\"namelength\": 0}, \"hovertemplate\": \"year=1995<br>pct_obese=%{x}<br>count=%{y}\", \"legendgroup\": \"\", \"marker\": {\"color\": \"#636efa\"}, \"name\": \"\", \"nbinsx\": 60, \"offsetgroup\": \"\", \"orientation\": \"v\", \"showlegend\": false, \"x\": [13.0, 1.4, 11.1, 17.7, 7.4, 1.4, 14.8, 1.6, 4.8, 20.9, 13.0, 2.7, 12.7, 14.8, 6.7, 2.8, 12.2, 3.5, 1.7, 15.9, 2.2, 17.7, 1.9, 1.0, 17.1, 14.5, 17.3, 18.8, 4.3, 1.9, 21.5, 16.9, 31.2, 3.4, 2.4, 6.8, 10.6, 13.3, 18.2, 16.8, 19.7, 3.1, 5.8, 38.3, 2.8, 11.8, 2.2, 13.7, 12.9, 15.9, 8.8, 4.9, 11.4, 18.5, 1.6, 8.0, 6.4, 12.5, 11.2, 9.5, 12.4, 10.6, 11.4, 6.1, 2.3, 11.0, 18.9, 18.2, 0.8, 1.2, 2.0, 10.3, 8.8, 10.3, 13.2, 13.5, 9.4, 14.8, 1.5, 1.9, 11.6, 19.0, 38.1, 9.9, 14.1, 15.3, 21.5, 2.7, 4.0, 0.9, 1.5, 17.7, 4.4, 13.5, 9.0, 0.4, 12.5, 18.7, 11.9, 1.5, 7.6, 9.6, 19.9, 19.1, 19.6, 0.9, 8.4, 8.1, 7.0, 14.7, 29.8, 11.6, 2.5, 15.8, 15.9, 3.9, 32.5, 16.4, 5.4, 18.9, 19.5, 19.2, 18.3, 2.3, 11.6, 2.9, 14.6, 28.5, 28.3, 10.3, 22.5, 40.0, 1.4, 14.4, 17.6, 3.3, 30.8, 1.5, 2.6, 19.5, 7.1, 2.6, 12.3, 14.7, 26.0, 2.4, 51.5, 2.7, 1.2, 3.0, 16.1, 2.4, 14.6, 12.7, 1.4, 7.8, 20.8, 18.0, 3.2, 0.8, 6.9, 7.2, 3.0, 1.7, 14.2, 11.5, 2.7, 22.3, 1.1, 22.2, 17.7, 8.6, 12.9, 16.4, 4.0, 17.2, 1.9, 3.6, 15.4, 20.9, 18.2, 10.1, 1.3, 10.8, 11.9, 12.4, 15.4, 4.0, 2.9, 14.6, 10.0], \"xaxis\": \"x\", \"yaxis\": \"y\", \"type\": \"histogram\"}], \"name\": \"1995\"}, {\"data\": [{\"alignmentgroup\": \"True\", \"bingroup\": \"x\", \"hoverlabel\": {\"namelength\": 0}, \"hovertemplate\": \"year=1996<br>pct_obese=%{x}<br>count=%{y}\", \"legendgroup\": \"\", \"marker\": {\"color\": \"#636efa\"}, \"name\": \"\", \"nbinsx\": 60, \"offsetgroup\": \"\", \"orientation\": \"v\", \"showlegend\": false, \"x\": [10.4, 15.0, 9.2, 8.3, 4.4, 19.7, 29.0, 18.0, 18.4, 4.3, 7.9, 8.1, 19.3, 16.3, 8.7, 19.8, 13.3, 1.8, 3.7, 52.1, 14.6, 31.5, 7.2, 18.6, 7.4, 2.8, 18.1, 1.5, 3.1, 13.7, 2.6, 12.9, 18.6, 1.3, 1.3, 3.8, 1.6, 10.6, 1.5, 12.0, 14.7, 3.0, 10.6, 13.1, 1.7, 16.5, 2.5, 7.3, 15.2, 1.3, 10.6, 12.3, 19.2, 9.0, 11.6, 17.0, 2.9, 18.2, 1.6, 13.0, 4.1, 18.3, 6.3, 5.2, 9.8, 17.4, 2.7, 20.5, 2.9, 9.4, 15.1, 21.8, 8.4, 6.7, 11.0, 11.5, 9.9, 15.2, 16.3, 1.5, 18.0, 1.0, 20.1, 2.1, 2.4, 39.0, 7.0, 1.6, 1.9, 14.1, 18.8, 2.4, 13.2, 3.2, 12.8, 19.4, 11.7, 0.9, 13.5, 15.8, 7.2, 32.0, 15.1, 4.6, 16.3, 4.1, 16.5, 13.4, 19.5, 21.8, 19.9, 3.4, 17.7, 1.8, 12.7, 7.6, 26.4, 14.9, 2.6, 14.8, 2.9, 10.9, 2.8, 40.8, 15.0, 29.5, 23.2, 6.0, 3.5, 18.5, 21.4, 21.1, 2.1, 12.6, 15.8, 2.9, 12.2, 2.1, 22.6, 2.4, 1.0, 23.0, 11.9, 4.2, 1.6, 3.6, 5.1, 13.3, 11.3, 13.3, 19.1, 12.9, 39.2, 19.4, 7.1, 1.0, 15.7, 30.6, 12.1, 14.0, 11.9, 1.7, 17.1, 33.6, 1.2, 3.2, 15.2, 9.3, 16.9, 9.8, 1.5, 11.6, 0.9, 10.4, 18.9, 12.4, 2.8, 3.0, 21.3, 0.4, 17.5, 5.6, 2.9, 13.8, 17.5, 3.1, 12.0, 19.7, 14.8, 2.0, 10.3], \"xaxis\": \"x\", \"yaxis\": \"y\", \"type\": \"histogram\"}], \"name\": \"1996\"}, {\"data\": [{\"alignmentgroup\": \"True\", \"bingroup\": \"x\", \"hoverlabel\": {\"namelength\": 0}, \"hovertemplate\": \"year=1997<br>pct_obese=%{x}<br>count=%{y}\", \"legendgroup\": \"\", \"marker\": {\"color\": \"#636efa\"}, \"name\": \"\", \"nbinsx\": 60, \"offsetgroup\": \"\", \"orientation\": \"v\", \"showlegend\": false, \"x\": [11.2, 10.2, 2.9, 41.5, 15.5, 17.5, 2.6, 15.2, 13.7, 18.4, 10.9, 1.7, 2.7, 11.0, 1.6, 19.2, 2.4, 3.1, 29.6, 12.6, 13.4, 0.9, 16.4, 12.0, 1.1, 15.2, 10.2, 12.1, 9.8, 21.2, 4.9, 5.8, 6.6, 0.4, 5.5, 32.9, 20.3, 6.9, 19.3, 2.2, 8.9, 14.1, 2.5, 13.8, 3.0, 1.9, 19.9, 1.9, 16.3, 39.8, 14.5, 13.6, 3.1, 52.6, 23.0, 1.6, 21.8, 4.3, 30.4, 11.0, 11.4, 15.4, 1.4, 13.5, 3.1, 1.1, 12.7, 21.9, 3.8, 17.1, 12.5, 4.2, 3.3, 7.6, 16.8, 2.5, 17.6, 1.6, 19.5, 15.4, 17.9, 7.2, 12.1, 10.7, 9.5, 18.8, 20.2, 2.6, 10.8, 14.0, 13.9, 23.9, 23.8, 15.1, 4.4, 2.8, 6.1, 13.3, 11.8, 10.1, 16.7, 2.1, 12.4, 15.2, 15.5, 13.9, 7.9, 26.9, 8.8, 18.4, 19.8, 1.4, 12.9, 15.6, 12.2, 34.5, 14.5, 7.5, 13.1, 18.1, 22.1, 1.7, 2.0, 21.3, 5.4, 3.3, 13.4, 2.2, 1.7, 17.0, 10.7, 2.7, 18.4, 19.6, 8.6, 19.7, 20.7, 17.7, 8.3, 9.7, 19.7, 3.5, 1.3, 12.6, 20.0, 19.5, 40.1, 12.4, 15.2, 15.6, 2.9, 18.9, 31.4, 3.0, 1.1, 4.5, 18.0, 16.0, 4.0, 18.9, 22.1, 18.6, 1.9, 12.4, 20.0, 18.7, 3.4, 2.2, 1.6, 3.0, 3.6, 17.5, 7.4, 15.8, 13.3, 1.0, 3.8, 1.8, 32.1, 8.3, 1.4, 1.6, 13.1, 7.6, 3.4, 3.0, 4.5, 7.3, 13.7, 9.6, 16.8], \"xaxis\": \"x\", \"yaxis\": \"y\", \"type\": \"histogram\"}], \"name\": \"1997\"}, {\"data\": [{\"alignmentgroup\": \"True\", \"bingroup\": \"x\", \"hoverlabel\": {\"namelength\": 0}, \"hovertemplate\": \"year=1998<br>pct_obese=%{x}<br>count=%{y}\", \"legendgroup\": \"\", \"marker\": {\"color\": \"#636efa\"}, \"name\": \"\", \"nbinsx\": 60, \"offsetgroup\": \"\", \"orientation\": \"v\", \"showlegend\": false, \"x\": [40.5, 1.5, 42.2, 18.8, 3.2, 16.8, 4.6, 4.5, 7.9, 33.8, 2.7, 19.3, 15.8, 12.8, 10.5, 21.3, 2.1, 11.4, 13.8, 1.7, 1.8, 13.8, 3.9, 11.4, 9.3, 8.7, 1.1, 13.8, 32.7, 13.1, 20.4, 9.2, 19.8, 1.7, 19.7, 10.1, 20.2, 2.0, 13.9, 10.0, 12.8, 41.1, 32.3, 18.0, 20.0, 1.3, 20.2, 30.2, 16.3, 18.6, 15.6, 1.1, 20.9, 10.0, 18.2, 11.1, 15.8, 10.6, 2.2, 15.9, 35.5, 21.8, 2.9, 5.1, 17.0, 20.2, 5.7, 13.5, 22.4, 1.0, 15.1, 4.3, 4.0, 0.5, 16.0, 12.7, 14.0, 14.3, 13.0, 3.2, 11.2, 6.1, 12.6, 7.5, 10.2, 22.4, 3.0, 1.2, 2.6, 14.1, 2.0, 16.0, 3.1, 3.1, 24.6, 15.5, 7.8, 12.5, 2.3, 3.5, 21.6, 13.6, 1.5, 12.3, 1.7, 6.3, 18.4, 53.1, 11.1, 1.6, 8.9, 11.6, 15.7, 18.7, 14.3, 17.6, 17.2, 2.0, 18.1, 2.3, 5.9, 2.8, 1.8, 16.3, 14.3, 7.8, 17.9, 20.4, 6.8, 12.5, 20.1, 17.3, 2.7, 14.9, 1.2, 1.4, 11.9, 19.4, 4.5, 14.5, 14.3, 7.2, 3.1, 8.1, 13.5, 20.0, 19.3, 20.1, 17.5, 7.5, 4.8, 15.8, 24.6, 2.8, 3.8, 2.3, 2.0, 3.5, 3.6, 18.7, 3.1, 3.3, 16.1, 1.8, 3.7, 4.2, 18.8, 23.4, 1.7, 12.9, 19.3, 7.8, 13.1, 31.4, 15.3, 19.9, 12.9, 18.0, 8.5, 3.1, 17.0, 3.4, 27.4, 14.1, 22.5, 10.6, 11.2, 22.4, 3.2, 13.7, 2.8], \"xaxis\": \"x\", \"yaxis\": \"y\", \"type\": \"histogram\"}], \"name\": \"1998\"}, {\"data\": [{\"alignmentgroup\": \"True\", \"bingroup\": \"x\", \"hoverlabel\": {\"namelength\": 0}, \"hovertemplate\": \"year=1999<br>pct_obese=%{x}<br>count=%{y}\", \"legendgroup\": \"\", \"marker\": {\"color\": \"#636efa\"}, \"name\": \"\", \"nbinsx\": 60, \"offsetgroup\": \"\", \"orientation\": \"v\", \"showlegend\": false, \"x\": [53.6, 20.5, 3.2, 13.1, 1.2, 11.7, 9.3, 30.7, 33.1, 33.3, 13.6, 5.0, 10.4, 20.4, 18.9, 20.3, 11.5, 19.2, 14.1, 1.3, 10.5, 1.5, 3.2, 20.5, 9.5, 8.8, 19.6, 9.1, 16.3, 16.2, 9.7, 13.4, 14.6, 11.5, 10.9, 4.1, 14.1, 1.6, 8.1, 3.7, 3.6, 17.9, 11.8, 2.9, 8.1, 3.8, 42.8, 1.9, 4.5, 19.2, 34.7, 14.3, 16.1, 2.3, 10.9, 36.4, 3.1, 1.8, 1.7, 10.5, 16.9, 13.0, 17.7, 12.3, 13.6, 4.5, 3.4, 13.3, 20.0, 18.7, 14.5, 3.2, 16.4, 7.1, 4.5, 8.0, 12.8, 6.1, 3.7, 1.6, 1.8, 22.5, 18.8, 7.5, 1.8, 2.2, 15.6, 3.0, 5.4, 20.5, 4.7, 4.1, 15.6, 14.7, 13.9, 13.3, 0.5, 22.7, 6.3, 16.5, 25.4, 11.9, 14.5, 10.6, 13.6, 22.9, 8.4, 8.1, 15.8, 11.6, 6.3, 7.8, 14.0, 14.7, 20.6, 25.3, 41.3, 1.8, 19.8, 12.9, 3.3, 2.0, 2.1, 17.3, 2.4, 2.8, 14.3, 1.3, 2.5, 1.1, 4.8, 3.3, 14.9, 14.1, 14.9, 20.8, 15.3, 22.9, 2.8, 17.3, 16.3, 6.5, 21.9, 18.2, 18.3, 16.1, 21.9, 20.1, 18.3, 2.1, 20.1, 2.4, 4.0, 22.8, 19.6, 42.1, 20.5, 19.2, 2.1, 1.4, 11.0, 3.0, 16.6, 32.4, 16.5, 19.2, 3.2, 16.0, 7.7, 3.8, 18.5, 13.1, 2.8, 1.1, 20.4, 14.2, 17.7, 18.5, 17.5, 11.5, 4.6, 2.1, 3.5, 21.6, 20.8, 28.0, 23.8, 13.3, 1.8, 3.3, 14.6], \"xaxis\": \"x\", \"yaxis\": \"y\", \"type\": \"histogram\"}], \"name\": \"1999\"}, {\"data\": [{\"alignmentgroup\": \"True\", \"bingroup\": \"x\", \"hoverlabel\": {\"namelength\": 0}, \"hovertemplate\": \"year=2000<br>pct_obese=%{x}<br>count=%{y}\", \"legendgroup\": \"\", \"marker\": {\"color\": \"#636efa\"}, \"name\": \"\", \"nbinsx\": 60, \"offsetgroup\": \"\", \"orientation\": \"v\", \"showlegend\": false, \"x\": [19.2, 16.7, 2.6, 8.6, 1.4, 12.3, 28.5, 11.8, 13.3, 14.3, 1.9, 14.0, 3.1, 15.0, 6.6, 3.9, 1.7, 15.1, 13.8, 3.8, 14.6, 14.4, 18.1, 3.5, 21.0, 16.4, 3.4, 9.6, 2.6, 4.7, 1.6, 13.6, 1.4, 2.2, 3.3, 54.1, 3.5, 20.4, 2.3, 20.9, 18.6, 9.0, 3.3, 2.2, 23.0, 5.3, 19.9, 11.4, 17.0, 19.1, 19.7, 14.9, 11.9, 18.6, 8.4, 13.3, 16.1, 7.4, 2.9, 16.8, 15.3, 7.8, 21.5, 15.4, 16.5, 20.5, 15.7, 3.0, 12.8, 3.1, 18.2, 1.8, 17.5, 18.1, 1.9, 15.2, 23.4, 6.7, 23.3, 19.4, 8.3, 20.8, 19.6, 26.0, 11.8, 13.5, 26.1, 6.6, 12.0, 4.7, 17.1, 3.6, 11.1, 14.8, 23.0, 0.6, 4.6, 16.2, 6.4, 20.9, 5.7, 4.3, 23.1, 14.6, 16.7, 3.2, 17.7, 11.3, 7.9, 2.4, 16.9, 13.8, 4.0, 11.0, 14.2, 1.3, 12.1, 3.3, 31.2, 17.0, 1.5, 20.8, 19.1, 43.1, 10.8, 34.0, 14.4, 20.9, 8.1, 21.0, 10.9, 2.4, 20.5, 13.5, 9.8, 21.2, 1.9, 22.2, 34.0, 14.6, 1.2, 18.9, 9.5, 14.1, 5.0, 37.3, 22.1, 15.9, 22.4, 3.7, 3.9, 4.9, 19.6, 43.4, 3.4, 15.0, 35.6, 20.5, 14.8, 13.7, 1.9, 2.0, 3.7, 19.8, 18.7, 20.0, 4.7, 24.3, 8.4, 17.8, 13.6, 2.9, 33.4, 2.2, 11.3, 4.2, 18.4, 8.3, 4.3, 10.2, 1.1, 3.0, 1.7, 2.1, 1.9, 16.5, 42.0, 20.3, 12.2, 2.5, 14.8], \"xaxis\": \"x\", \"yaxis\": \"y\", \"type\": \"histogram\"}], \"name\": \"2000\"}, {\"data\": [{\"alignmentgroup\": \"True\", \"bingroup\": \"x\", \"hoverlabel\": {\"namelength\": 0}, \"hovertemplate\": \"year=2001<br>pct_obese=%{x}<br>count=%{y}\", \"legendgroup\": \"\", \"marker\": {\"color\": \"#636efa\"}, \"name\": \"\", \"nbinsx\": 60, \"offsetgroup\": \"\", \"orientation\": \"v\", \"showlegend\": false, \"x\": [8.1, 21.4, 21.4, 1.4, 15.4, 2.3, 14.7, 3.6, 20.3, 26.9, 3.4, 24.0, 34.8, 1.8, 38.2, 2.0, 5.2, 22.1, 20.9, 13.9, 15.2, 20.6, 18.6, 16.9, 22.5, 12.4, 13.7, 15.5, 21.7, 44.0, 14.7, 3.9, 4.1, 2.7, 1.5, 22.9, 5.1, 19.2, 11.4, 19.3, 8.4, 1.2, 15.4, 2.3, 2.2, 20.8, 42.7, 3.0, 18.3, 23.0, 16.2, 14.2, 3.6, 3.1, 14.0, 24.7, 16.8, 18.0, 3.9, 17.1, 6.0, 19.7, 44.0, 2.6, 13.8, 20.0, 2.0, 15.0, 19.3, 12.2, 1.3, 6.8, 17.6, 11.5, 15.0, 23.3, 16.7, 21.2, 4.5, 17.3, 2.7, 4.4, 15.7, 23.7, 7.1, 8.7, 19.0, 4.8, 2.3, 2.5, 21.3, 15.3, 3.6, 18.9, 23.3, 20.2, 17.4, 11.9, 2.0, 18.6, 34.4, 21.0, 16.0, 26.7, 29.0, 3.3, 3.7, 12.6, 8.9, 0.6, 14.7, 6.8, 14.5, 15.1, 1.5, 2.7, 3.3, 16.4, 15.8, 3.0, 16.2, 1.6, 21.5, 16.8, 17.2, 14.3, 19.6, 12.2, 4.0, 14.8, 18.8, 2.0, 3.2, 5.0, 2.2, 20.3, 3.5, 36.4, 15.4, 15.5, 10.6, 1.8, 4.1, 8.6, 5.5, 13.3, 9.3, 3.4, 54.6, 14.2, 1.7, 9.9, 12.3, 20.0, 2.0, 18.6, 21.1, 18.1, 8.1, 17.3, 7.7, 20.0, 8.6, 4.2, 1.9, 34.7, 9.9, 20.7, 14.4, 12.5, 14.0, 4.2, 3.9, 11.2, 14.6, 10.1, 6.8, 21.2, 23.7, 31.7, 3.4, 11.7, 11.7, 20.3, 4.5, 12.5, 4.7, 2.5, 8.5, 17.4, 11.2], \"xaxis\": \"x\", \"yaxis\": \"y\", \"type\": \"histogram\"}], \"name\": \"2001\"}, {\"data\": [{\"alignmentgroup\": \"True\", \"bingroup\": \"x\", \"hoverlabel\": {\"namelength\": 0}, \"hovertemplate\": \"year=2002<br>pct_obese=%{x}<br>count=%{y}\", \"legendgroup\": \"\", \"marker\": {\"color\": \"#636efa\"}, \"name\": \"\", \"nbinsx\": 60, \"offsetgroup\": \"\", \"orientation\": \"v\", \"showlegend\": false, \"x\": [3.8, 2.6, 14.9, 3.6, 45.0, 2.1, 17.2, 21.0, 20.9, 24.6, 21.4, 18.6, 3.7, 44.7, 17.2, 4.8, 37.3, 3.8, 22.8, 8.6, 15.0, 22.3, 3.8, 4.1, 20.0, 14.9, 3.5, 16.3, 27.7, 18.1, 4.7, 2.6, 16.1, 11.6, 21.5, 32.3, 3.2, 17.3, 12.9, 3.7, 1.7, 11.7, 20.2, 16.5, 2.8, 14.2, 8.8, 21.7, 3.2, 15.4, 17.6, 19.7, 16.6, 4.3, 12.1, 2.0, 19.0, 21.2, 4.8, 18.0, 12.1, 20.9, 3.5, 7.3, 10.5, 4.1, 14.5, 11.9, 35.5, 10.4, 24.2, 3.5, 12.3, 1.4, 15.1, 18.8, 23.7, 16.5, 14.7, 0.7, 3.3, 7.0, 14.3, 4.2, 2.8, 35.4, 4.6, 27.5, 9.2, 29.4, 25.2, 12.6, 3.1, 2.4, 7.1, 11.9, 15.3, 16.8, 2.9, 23.6, 17.3, 43.4, 21.6, 17.5, 18.3, 16.0, 1.3, 2.4, 1.6, 15.6, 6.2, 12.9, 24.1, 20.5, 39.1, 35.7, 17.9, 20.6, 4.1, 21.4, 23.6, 15.3, 3.5, 15.8, 4.3, 21.9, 10.3, 14.4, 15.7, 1.9, 19.2, 1.6, 15.2, 23.5, 2.4, 2.9, 19.1, 22.8, 20.9, 14.2, 15.9, 1.4, 8.3, 5.3, 2.1, 15.9, 5.5, 2.1, 12.9, 21.9, 19.7, 8.9, 21.8, 13.9, 2.2, 1.9, 17.8, 2.3, 14.8, 19.4, 12.5, 9.0, 15.1, 19.2, 3.3, 16.1, 5.2, 20.7, 11.1, 7.6, 15.9, 4.3, 8.9, 8.0, 8.5, 20.4, 19.5, 5.8, 9.5, 1.8, 55.0, 2.4, 12.6, 14.7, 20.7, 2.1, 19.1, 21.8, 17.7, 4.9, 13.0], \"xaxis\": \"x\", \"yaxis\": \"y\", \"type\": \"histogram\"}], \"name\": \"2002\"}, {\"data\": [{\"alignmentgroup\": \"True\", \"bingroup\": \"x\", \"hoverlabel\": {\"namelength\": 0}, \"hovertemplate\": \"year=2003<br>pct_obese=%{x}<br>count=%{y}\", \"legendgroup\": \"\", \"marker\": {\"color\": \"#636efa\"}, \"name\": \"\", \"nbinsx\": 60, \"offsetgroup\": \"\", \"orientation\": \"v\", \"showlegend\": false, \"x\": [3.3, 19.6, 16.1, 17.1, 25.2, 28.1, 5.7, 36.6, 4.2, 21.8, 3.6, 45.5, 15.0, 14.4, 15.3, 13.0, 4.3, 15.3, 12.8, 16.7, 13.4, 12.6, 4.9, 21.1, 13.3, 18.0, 9.0, 2.2, 12.4, 15.5, 23.9, 8.9, 17.5, 3.3, 16.9, 3.5, 2.1, 4.0, 2.8, 22.4, 21.1, 8.9, 36.3, 12.3, 8.3, 15.5, 18.4, 2.2, 19.4, 3.1, 15.0, 16.3, 4.3, 7.4, 21.5, 8.6, 2.3, 23.4, 3.0, 10.9, 3.7, 9.5, 15.5, 11.6, 12.1, 23.2, 7.3, 2.6, 16.2, 1.7, 6.6, 20.8, 4.5, 1.8, 11.9, 2.0, 55.5, 20.3, 29.8, 24.5, 12.8, 1.5, 13.3, 24.8, 10.9, 23.8, 9.3, 20.9, 22.4, 20.8, 15.8, 16.1, 39.9, 4.4, 3.7, 32.8, 21.1, 22.3, 20.9, 5.1, 18.5, 3.5, 5.6, 19.7, 9.3, 16.4, 16.6, 21.9, 16.5, 7.7, 3.7, 2.2, 10.7, 19.7, 5.5, 12.5, 22.4, 13.3, 2.4, 17.6, 19.7, 21.9, 1.4, 15.1, 38.2, 13.0, 20.2, 3.7, 24.3, 21.9, 15.3, 46.0, 4.0, 21.5, 8.0, 18.6, 4.6, 14.6, 15.8, 4.5, 4.9, 9.2, 17.9, 3.6, 19.5, 16.8, 16.6, 15.4, 21.9, 21.5, 0.7, 4.0, 2.5, 18.1, 3.9, 17.9, 18.7, 2.2, 2.5, 25.6, 1.8, 19.3, 19.6, 14.6, 4.8, 15.7, 18.4, 44.1, 20.4, 36.3, 24.1, 6.0, 3.9, 19.2, 15.9, 17.7, 21.6, 9.7, 1.4, 17.1, 28.4, 16.9, 2.0, 5.0, 22.9, 2.6, 3.0, 1.8, 2.7, 3.0, 14.5], \"xaxis\": \"x\", \"yaxis\": \"y\", \"type\": \"histogram\"}], \"name\": \"2003\"}, {\"data\": [{\"alignmentgroup\": \"True\", \"bingroup\": \"x\", \"hoverlabel\": {\"namelength\": 0}, \"hovertemplate\": \"year=2004<br>pct_obese=%{x}<br>count=%{y}\", \"legendgroup\": \"\", \"marker\": {\"color\": \"#636efa\"}, \"name\": \"\", \"nbinsx\": 60, \"offsetgroup\": \"\", \"orientation\": \"v\", \"showlegend\": false, \"x\": [9.5, 5.8, 24.1, 3.3, 8.5, 3.5, 23.1, 2.2, 18.8, 18.9, 9.6, 18.5, 2.3, 4.9, 17.6, 2.7, 15.9, 20.1, 15.8, 21.3, 17.5, 17.3, 12.1, 7.5, 17.3, 28.4, 1.9, 5.0, 37.1, 18.3, 3.2, 3.1, 14.8, 9.2, 4.8, 15.0, 3.7, 24.2, 4.0, 16.3, 20.6, 1.5, 13.4, 15.8, 3.4, 24.9, 18.4, 2.7, 2.6, 22.3, 17.2, 15.8, 18.3, 17.2, 18.1, 30.3, 9.8, 21.5, 21.4, 16.5, 22.8, 13.6, 20.1, 5.3, 12.9, 2.2, 5.1, 3.8, 17.2, 9.6, 8.2, 25.0, 4.5, 21.7, 19.9, 12.7, 37.2, 11.5, 16.6, 1.9, 12.2, 21.4, 12.6, 3.0, 22.4, 16.0, 19.9, 15.5, 1.9, 2.3, 21.2, 3.9, 22.3, 23.6, 16.6, 1.8, 4.6, 25.8, 3.1, 15.8, 55.9, 24.0, 9.3, 21.4, 22.0, 8.6, 16.8, 8.8, 13.2, 20.8, 2.6, 3.7, 5.8, 17.0, 17.2, 6.0, 2.3, 13.7, 13.0, 19.1, 2.5, 18.0, 16.5, 19.7, 4.2, 15.9, 17.3, 3.8, 4.2, 3.8, 4.0, 17.9, 19.2, 9.3, 5.1, 15.4, 39.0, 22.4, 13.4, 2.3, 46.9, 24.7, 20.9, 15.1, 20.1, 29.2, 4.5, 22.9, 2.8, 23.5, 5.3, 16.4, 4.2, 46.3, 22.1, 2.7, 25.3, 18.9, 19.8, 22.2, 3.8, 13.7, 4.6, 26.1, 21.4, 22.9, 22.1, 11.1, 4.4, 15.6, 12.8, 44.8, 7.6, 9.9, 1.5, 19.9, 11.3, 2.1, 15.0, 6.3, 13.3, 6.9, 16.3, 0.8, 20.0, 4.9, 1.6, 37.4, 40.8, 33.3, 13.8], \"xaxis\": \"x\", \"yaxis\": \"y\", \"type\": \"histogram\"}], \"name\": \"2004\"}, {\"data\": [{\"alignmentgroup\": \"True\", \"bingroup\": \"x\", \"hoverlabel\": {\"namelength\": 0}, \"hovertemplate\": \"year=2005<br>pct_obese=%{x}<br>count=%{y}\", \"legendgroup\": \"\", \"marker\": {\"color\": \"#636efa\"}, \"name\": \"\", \"nbinsx\": 60, \"offsetgroup\": \"\", \"orientation\": \"v\", \"showlegend\": false, \"x\": [6.6, 17.1, 16.3, 18.9, 23.8, 5.5, 19.1, 16.3, 18.7, 16.4, 3.2, 3.0, 29.9, 3.4, 18.7, 4.7, 15.2, 9.4, 10.2, 24.5, 16.1, 18.4, 9.7, 13.8, 5.1, 5.3, 9.8, 22.8, 13.7, 20.4, 4.2, 15.6, 22.9, 2.5, 22.6, 21.1, 2.0, 47.8, 2.3, 4.0, 16.9, 22.7, 14.0, 16.2, 21.3, 2.4, 13.1, 16.0, 4.8, 9.0, 12.6, 4.6, 21.4, 4.8, 8.7, 17.9, 38.2, 22.0, 17.9, 21.9, 6.1, 6.3, 4.0, 2.4, 2.4, 14.1, 16.8, 1.7, 23.4, 13.3, 21.7, 20.2, 23.4, 38.0, 16.3, 2.0, 4.2, 20.3, 2.2, 21.9, 18.6, 18.3, 19.5, 5.2, 9.9, 4.0, 23.9, 22.8, 12.5, 4.8, 20.5, 11.5, 13.1, 21.6, 6.1, 26.5, 3.3, 41.7, 12.1, 24.6, 17.2, 4.4, 1.6, 14.0, 22.0, 33.9, 4.1, 11.8, 20.3, 25.9, 19.6, 13.5, 17.1, 2.1, 8.9, 3.8, 7.8, 10.1, 2.8, 13.6, 16.4, 30.7, 2.7, 9.7, 28.5, 56.4, 16.3, 1.9, 5.2, 38.0, 25.4, 17.0, 9.9, 22.0, 2.5, 9.0, 17.7, 3.6, 19.3, 17.9, 18.1, 3.5, 21.7, 24.4, 0.8, 20.3, 4.1, 14.2, 19.2, 26.5, 20.3, 16.8, 23.4, 45.5, 1.6, 7.2, 20.5, 5.5, 7.9, 13.3, 22.5, 17.8, 22.8, 17.6, 2.8, 3.9, 24.0, 17.6, 25.3, 2.8, 19.7, 15.6, 20.6, 13.9, 17.8, 17.1, 15.4, 4.4, 3.9, 2.7, 25.6, 17.7, 3.3, 5.1, 15.7, 21.6, 4.4, 2.9, 3.5, 47.1, 39.9], \"xaxis\": \"x\", \"yaxis\": \"y\", \"type\": \"histogram\"}], \"name\": \"2005\"}, {\"data\": [{\"alignmentgroup\": \"True\", \"bingroup\": \"x\", \"hoverlabel\": {\"namelength\": 0}, \"hovertemplate\": \"year=2006<br>pct_obese=%{x}<br>count=%{y}\", \"legendgroup\": \"\", \"marker\": {\"color\": \"#636efa\"}, \"name\": \"\", \"nbinsx\": 60, \"offsetgroup\": \"\", \"orientation\": \"v\", \"showlegend\": false, \"x\": [46.2, 7.5, 20.8, 1.7, 16.2, 6.8, 20.4, 8.2, 2.6, 14.4, 2.3, 16.8, 48.7, 11.9, 13.8, 23.4, 10.4, 18.8, 16.0, 16.9, 3.5, 16.8, 2.5, 4.6, 18.1, 3.8, 5.4, 10.1, 18.2, 18.2, 4.2, 18.7, 2.2, 19.3, 3.8, 4.4, 2.5, 0.9, 4.1, 20.8, 4.3, 14.2, 42.6, 14.6, 23.4, 20.2, 5.5, 24.5, 22.6, 17.5, 23.9, 4.0, 4.9, 21.8, 2.9, 21.9, 16.1, 9.2, 20.9, 2.9, 14.0, 17.5, 22.0, 25.9, 18.7, 25.2, 56.8, 21.7, 16.9, 3.5, 27.1, 2.1, 17.6, 18.7, 5.0, 23.2, 22.1, 24.3, 4.2, 10.1, 40.8, 9.5, 6.3, 47.9, 17.8, 14.4, 5.0, 4.8, 38.9, 4.7, 34.5, 23.2, 3.8, 5.8, 17.3, 1.8, 18.2, 12.4, 20.1, 24.0, 26.4, 3.0, 14.0, 14.6, 3.1, 2.5, 10.0, 6.6, 9.2, 30.6, 21.1, 24.6, 22.9, 19.6, 21.9, 19.0, 10.3, 23.3, 12.8, 10.4, 8.1, 13.6, 3.0, 2.2, 16.8, 38.8, 17.7, 12.7, 20.7, 13.5, 16.6, 22.3, 25.9, 5.0, 9.1, 18.4, 2.5, 10.2, 4.2, 5.7, 13.8, 20.8, 31.1, 14.4, 28.4, 2.1, 18.4, 19.1, 16.9, 2.9, 23.0, 14.2, 3.1, 26.2, 19.7, 16.3, 3.6, 1.7, 4.7, 17.9, 21.6, 15.8, 17.5, 15.5, 4.1, 24.8, 9.7, 3.5, 5.5, 19.1, 38.8, 3.7, 5.4, 4.4, 24.0, 27.0, 13.1, 22.1, 22.4, 19.8, 18.6, 5.3, 24.6, 16.8, 20.7, 22.4, 20.1, 21.0, 17.2, 6.3, 2.6], \"xaxis\": \"x\", \"yaxis\": \"y\", \"type\": \"histogram\"}], \"name\": \"2006\"}, {\"data\": [{\"alignmentgroup\": \"True\", \"bingroup\": \"x\", \"hoverlabel\": {\"namelength\": 0}, \"hovertemplate\": \"year=2007<br>pct_obese=%{x}<br>count=%{y}\", \"legendgroup\": \"\", \"marker\": {\"color\": \"#636efa\"}, \"name\": \"\", \"nbinsx\": 60, \"offsetgroup\": \"\", \"orientation\": \"v\", \"showlegend\": false, \"x\": [19.0, 21.5, 21.4, 3.7, 18.2, 22.5, 22.4, 25.1, 9.9, 4.0, 21.4, 16.6, 25.2, 22.3, 15.9, 18.1, 5.1, 26.5, 5.9, 22.9, 19.6, 25.8, 19.3, 31.6, 57.3, 5.6, 6.6, 4.7, 3.6, 17.4, 27.8, 17.9, 2.3, 18.6, 19.7, 3.9, 5.2, 23.7, 20.2, 4.1, 10.4, 24.7, 4.4, 2.2, 39.5, 2.7, 21.7, 2.6, 16.3, 23.4, 20.6, 10.0, 19.2, 3.0, 4.3, 5.8, 14.6, 17.5, 17.3, 4.6, 4.5, 18.7, 19.4, 17.4, 4.8, 19.0, 17.3, 3.7, 19.9, 4.9, 26.8, 20.7, 2.8, 20.4, 10.6, 31.3, 3.2, 16.2, 3.1, 22.2, 5.7, 3.3, 25.1, 18.3, 6.1, 4.3, 23.8, 3.7, 5.4, 18.5, 1.8, 48.8, 41.7, 18.5, 49.5, 23.9, 15.0, 16.6, 4.9, 2.7, 28.5, 19.3, 14.8, 24.4, 9.6, 5.3, 24.0, 23.4, 35.2, 13.6, 39.6, 26.3, 19.0, 27.4, 5.2, 15.0, 4.9, 14.4, 17.1, 17.8, 1.9, 14.0, 8.4, 24.9, 22.6, 23.1, 10.4, 43.5, 21.3, 14.9, 7.9, 7.1, 24.6, 21.1, 16.9, 10.6, 14.2, 20.7, 12.3, 1.8, 8.5, 46.9, 2.4, 17.4, 4.4, 2.3, 6.0, 22.8, 17.6, 14.2, 2.7, 20.7, 21.1, 12.9, 17.3, 6.9, 14.1, 21.2, 18.8, 2.4, 4.2, 22.2, 19.4, 4.5, 21.1, 1.0, 3.1, 23.8, 22.5, 3.1, 10.8, 9.4, 13.1, 10.7, 17.9, 22.3, 6.6, 9.6, 19.2, 3.1, 14.7, 14.5, 27.0, 5.1, 15.0, 13.4, 18.2, 39.6, 10.4, 24.6, 2.6], \"xaxis\": \"x\", \"yaxis\": \"y\", \"type\": \"histogram\"}], \"name\": \"2007\"}, {\"data\": [{\"alignmentgroup\": \"True\", \"bingroup\": \"x\", \"hoverlabel\": {\"namelength\": 0}, \"hovertemplate\": \"year=2008<br>pct_obese=%{x}<br>count=%{y}\", \"legendgroup\": \"\", \"marker\": {\"color\": \"#636efa\"}, \"name\": \"\", \"nbinsx\": 60, \"offsetgroup\": \"\", \"orientation\": \"v\", \"showlegend\": false, \"x\": [22.2, 22.6, 20.3, 24.9, 4.7, 11.1, 12.8, 21.9, 1.1, 3.3, 18.1, 5.0, 25.9, 32.0, 10.0, 19.0, 5.6, 5.1, 23.0, 1.9, 6.4, 18.8, 15.5, 14.2, 18.7, 18.0, 40.4, 21.6, 19.7, 5.3, 21.4, 24.4, 44.4, 21.5, 4.5, 8.8, 10.7, 2.8, 4.9, 10.1, 6.0, 3.3, 28.7, 10.5, 9.7, 18.3, 19.8, 18.8, 4.4, 3.8, 23.1, 22.8, 4.8, 5.3, 27.9, 25.0, 21.5, 47.6, 8.2, 19.4, 17.7, 21.6, 1.9, 2.9, 20.2, 21.0, 22.5, 26.9, 18.3, 2.6, 20.0, 10.7, 14.9, 6.2, 5.3, 16.9, 25.2, 18.3, 27.5, 25.2, 23.9, 25.2, 15.4, 20.6, 23.3, 3.9, 4.2, 22.9, 8.8, 22.8, 3.4, 2.4, 4.5, 5.2, 26.4, 18.8, 13.4, 6.9, 27.1, 57.7, 17.7, 2.1, 19.1, 7.5, 3.3, 10.1, 2.8, 21.1, 5.2, 2.8, 17.1, 16.2, 24.4, 11.0, 15.4, 23.7, 6.4, 35.9, 5.9, 14.7, 13.5, 19.2, 50.3, 3.5, 15.0, 21.2, 19.5, 4.8, 4.3, 18.0, 17.8, 15.0, 3.3, 3.9, 49.6, 22.0, 10.9, 42.6, 2.5, 17.5, 17.9, 14.4, 18.8, 24.2, 16.6, 27.5, 15.3, 15.3, 3.9, 28.5, 10.7, 14.1, 4.2, 6.0, 18.1, 22.7, 5.6, 23.8, 19.8, 23.3, 4.6, 14.7, 21.0, 19.6, 4.6, 40.3, 7.0, 19.9, 21.9, 3.2, 7.3, 15.3, 2.9, 20.0, 25.4, 17.9, 2.4, 14.6, 11.1, 24.6, 24.3, 16.7, 21.6, 40.3, 32.0, 19.7, 2.9, 5.3, 19.7, 2.4, 25.7], \"xaxis\": \"x\", \"yaxis\": \"y\", \"type\": \"histogram\"}], \"name\": \"2008\"}, {\"data\": [{\"alignmentgroup\": \"True\", \"bingroup\": \"x\", \"hoverlabel\": {\"namelength\": 0}, \"hovertemplate\": \"year=2009<br>pct_obese=%{x}<br>count=%{y}\", \"legendgroup\": \"\", \"marker\": {\"color\": \"#636efa\"}, \"name\": \"\", \"nbinsx\": 60, \"offsetgroup\": \"\", \"orientation\": \"v\", \"showlegend\": false, \"x\": [24.8, 5.0, 3.6, 3.0, 21.7, 2.5, 2.0, 4.5, 5.5, 4.8, 20.2, 6.3, 21.7, 20.1, 3.0, 15.2, 51.1, 24.2, 20.0, 43.5, 5.0, 18.3, 7.8, 5.9, 27.0, 27.7, 19.4, 41.1, 7.2, 17.6, 4.7, 23.5, 14.8, 32.7, 2.5, 15.2, 25.4, 3.5, 2.2, 58.1, 25.0, 14.9, 3.4, 23.2, 11.5, 4.2, 22.8, 5.1, 4.5, 3.6, 19.5, 20.1, 14.2, 18.8, 25.6, 41.0, 18.4, 20.4, 25.8, 15.9, 21.1, 26.7, 6.8, 11.0, 3.0, 4.1, 21.0, 6.3, 25.9, 3.4, 22.0, 32.5, 11.1, 23.2, 2.7, 21.3, 2.5, 27.4, 10.3, 20.4, 13.3, 2.7, 11.5, 11.0, 25.2, 45.2, 6.5, 5.6, 25.0, 23.7, 9.9, 21.8, 20.7, 14.8, 19.8, 9.1, 9.1, 22.5, 23.9, 23.3, 24.3, 6.7, 36.6, 20.2, 4.5, 15.8, 8.6, 11.0, 22.5, 48.2, 17.1, 19.2, 18.4, 23.0, 18.7, 4.7, 22.0, 4.0, 5.0, 28.2, 22.3, 5.5, 28.3, 3.3, 25.4, 7.3, 2.9, 20.2, 1.2, 18.7, 5.4, 4.8, 4.0, 24.7, 5.7, 13.7, 18.1, 19.1, 10.4, 29.2, 19.4, 18.2, 18.2, 2.1, 3.1, 25.7, 15.5, 4.7, 15.8, 50.4, 23.3, 22.0, 19.3, 16.6, 18.5, 7.7, 26.2, 11.1, 17.0, 16.1, 20.7, 21.8, 11.5, 29.0, 20.4, 18.5, 4.4, 15.5, 3.1, 23.8, 15.4, 15.7, 20.5, 6.1, 21.6, 22.8, 41.0, 15.9, 18.7, 28.1, 10.7, 18.7, 5.5, 17.2, 15.2, 3.7, 22.0, 19.4, 5.2, 5.5, 24.5], \"xaxis\": \"x\", \"yaxis\": \"y\", \"type\": \"histogram\"}], \"name\": \"2009\"}, {\"data\": [{\"alignmentgroup\": \"True\", \"bingroup\": \"x\", \"hoverlabel\": {\"namelength\": 0}, \"hovertemplate\": \"year=2010<br>pct_obese=%{x}<br>count=%{y}\", \"legendgroup\": \"\", \"marker\": {\"color\": \"#636efa\"}, \"name\": \"\", \"nbinsx\": 60, \"offsetgroup\": \"\", \"orientation\": \"v\", \"showlegend\": false, \"x\": [22.8, 5.7, 4.9, 28.7, 11.3, 9.5, 23.1, 4.6, 7.3, 4.2, 21.2, 25.3, 5.3, 7.0, 16.3, 22.5, 16.3, 22.4, 28.9, 22.7, 23.0, 18.8, 17.6, 8.9, 23.8, 19.8, 25.8, 20.1, 24.9, 6.7, 48.9, 19.4, 22.2, 4.3, 22.5, 19.0, 3.2, 27.4, 16.3, 2.2, 2.9, 26.5, 18.8, 25.0, 3.3, 25.9, 9.5, 11.4, 19.4, 23.5, 17.5, 26.7, 19.2, 5.8, 28.6, 21.6, 6.8, 27.9, 46.1, 23.2, 21.0, 11.3, 2.9, 15.9, 13.8, 2.7, 23.7, 10.8, 19.5, 19.0, 17.5, 5.1, 19.9, 23.3, 20.8, 19.6, 41.7, 19.1, 1.3, 3.5, 22.4, 29.5, 11.5, 10.2, 33.1, 24.3, 21.0, 3.6, 26.7, 21.8, 25.8, 4.1, 3.2, 11.9, 5.8, 3.0, 21.5, 37.2, 16.1, 6.4, 25.9, 58.5, 2.1, 25.5, 17.0, 51.1, 12.0, 26.0, 5.0, 3.6, 4.5, 11.2, 23.3, 15.7, 11.7, 15.6, 18.8, 15.9, 2.4, 28.3, 3.8, 22.4, 41.9, 5.4, 16.7, 20.3, 27.6, 30.0, 5.7, 19.9, 18.8, 18.7, 4.9, 7.5, 15.4, 19.0, 4.8, 11.9, 23.8, 18.2, 3.7, 14.1, 21.4, 2.6, 3.3, 33.4, 6.2, 24.0, 3.8, 5.7, 24.5, 20.5, 15.4, 19.7, 22.1, 20.7, 5.8, 51.8, 4.0, 25.3, 20.8, 16.0, 21.1, 22.0, 24.4, 15.7, 10.6, 44.3, 14.9, 25.7, 41.7, 7.6, 20.6, 5.6, 6.5, 3.1, 15.6, 4.7, 5.4, 2.7, 20.6, 8.1, 5.3, 16.3, 19.4, 5.1, 20.9, 5.8, 5.2, 24.3, 8.0], \"xaxis\": \"x\", \"yaxis\": \"y\", \"type\": \"histogram\"}], \"name\": \"2010\"}, {\"data\": [{\"alignmentgroup\": \"True\", \"bingroup\": \"x\", \"hoverlabel\": {\"namelength\": 0}, \"hovertemplate\": \"year=2011<br>pct_obese=%{x}<br>count=%{y}\", \"legendgroup\": \"\", \"marker\": {\"color\": \"#636efa\"}, \"name\": \"\", \"nbinsx\": 60, \"offsetgroup\": \"\", \"orientation\": \"v\", \"showlegend\": false, \"x\": [19.6, 19.3, 5.6, 21.1, 11.7, 14.3, 3.5, 42.6, 3.2, 5.1, 6.0, 23.8, 11.3, 2.9, 23.5, 3.5, 2.8, 28.3, 25.8, 16.3, 22.0, 10.8, 21.2, 26.5, 16.9, 8.4, 4.6, 16.9, 7.0, 21.0, 5.3, 6.0, 18.1, 19.7, 5.2, 16.1, 20.1, 16.6, 23.4, 21.5, 25.8, 29.6, 24.9, 23.3, 7.9, 42.3, 21.3, 24.9, 16.1, 7.9, 21.1, 30.8, 12.4, 16.0, 5.9, 22.8, 24.4, 22.2, 27.3, 33.7, 6.5, 3.6, 23.2, 19.7, 2.3, 42.3, 26.3, 17.9, 5.3, 28.2, 10.0, 12.1, 11.7, 16.4, 11.6, 20.9, 21.9, 16.2, 5.3, 4.2, 21.6, 52.4, 22.6, 15.6, 6.8, 16.6, 20.0, 5.5, 4.9, 16.3, 5.5, 21.6, 26.3, 7.3, 6.7, 49.5, 19.3, 9.3, 23.6, 26.2, 23.4, 20.2, 9.8, 4.8, 20.5, 23.7, 22.9, 25.5, 24.4, 16.7, 4.1, 4.0, 19.6, 19.4, 7.8, 18.8, 5.6, 26.4, 11.7, 3.8, 23.9, 2.5, 19.9, 8.5, 24.8, 6.1, 3.3, 22.5, 45.2, 19.4, 5.9, 28.9, 6.0, 17.3, 4.8, 12.4, 26.0, 58.9, 14.4, 17.3, 34.0, 2.8, 51.9, 3.9, 12.4, 24.5, 5.1, 20.5, 28.2, 22.5, 37.9, 3.4, 21.5, 19.9, 23.7, 29.2, 20.0, 6.0, 25.6, 22.7, 5.5, 1.4, 26.3, 3.2, 27.5, 10.5, 17.9, 21.6, 30.0, 12.1, 3.7, 4.3, 20.4, 7.0, 3.4, 29.1, 16.5, 22.9, 21.9, 27.2, 4.4, 47.0, 20.0, 5.6, 3.0, 2.4, 19.2, 19.4, 16.8, 24.9, 24.1], \"xaxis\": \"x\", \"yaxis\": \"y\", \"type\": \"histogram\"}], \"name\": \"2011\"}, {\"data\": [{\"alignmentgroup\": \"True\", \"bingroup\": \"x\", \"hoverlabel\": {\"namelength\": 0}, \"hovertemplate\": \"year=2012<br>pct_obese=%{x}<br>count=%{y}\", \"legendgroup\": \"\", \"marker\": {\"color\": \"#636efa\"}, \"name\": \"\", \"nbinsx\": 60, \"offsetgroup\": \"\", \"orientation\": \"v\", \"showlegend\": false, \"x\": [6.8, 4.0, 12.9, 34.7, 2.9, 20.4, 2.6, 16.6, 5.3, 3.4, 23.1, 27.9, 19.9, 26.2, 3.6, 21.3, 14.9, 3.5, 22.3, 3.2, 25.3, 11.1, 3.7, 26.4, 8.9, 11.8, 47.8, 29.7, 43.3, 12.3, 12.0, 6.2, 26.8, 8.1, 20.1, 19.9, 17.2, 28.8, 2.7, 26.6, 22.9, 14.7, 8.3, 1.5, 17.1, 24.2, 24.9, 26.3, 7.0, 23.7, 24.1, 23.3, 24.6, 7.6, 24.3, 19.8, 29.0, 12.0, 24.5, 26.6, 18.5, 20.3, 4.6, 5.4, 19.9, 6.1, 20.9, 26.9, 25.4, 4.5, 5.1, 27.2, 5.5, 17.7, 19.9, 7.3, 16.6, 5.8, 22.2, 5.8, 5.6, 20.7, 17.5, 23.5, 23.2, 7.1, 16.7, 25.6, 53.0, 16.8, 22.4, 17.0, 27.9, 21.6, 10.8, 26.6, 17.3, 16.9, 9.7, 34.3, 52.5, 21.9, 17.9, 21.9, 26.0, 20.2, 10.1, 17.1, 16.7, 12.9, 6.3, 21.4, 24.2, 5.0, 20.6, 59.3, 25.3, 50.1, 23.4, 3.4, 21.0, 29.5, 30.6, 17.2, 38.6, 5.9, 20.2, 4.8, 8.4, 3.0, 4.3, 21.0, 25.0, 4.4, 18.7, 29.5, 5.1, 10.4, 19.3, 3.9, 24.5, 30.3, 22.4, 23.1, 7.3, 6.4, 46.0, 3.8, 43.0, 5.6, 23.0, 16.3, 5.9, 2.4, 12.9, 20.4, 4.4, 12.7, 31.6, 26.7, 42.9, 3.8, 17.4, 23.9, 3.9, 19.6, 8.9, 28.8, 5.9, 22.0, 22.7, 20.4, 6.1, 12.5, 12.0, 25.0, 22.4, 21.6, 20.8, 23.9, 20.4, 24.2, 3.0, 5.4, 28.3, 6.2, 5.9, 22.1, 6.3, 18.3, 3.6], \"xaxis\": \"x\", \"yaxis\": \"y\", \"type\": \"histogram\"}], \"name\": \"2012\"}, {\"data\": [{\"alignmentgroup\": \"True\", \"bingroup\": \"x\", \"hoverlabel\": {\"namelength\": 0}, \"hovertemplate\": \"year=2013<br>pct_obese=%{x}<br>count=%{y}\", \"legendgroup\": \"\", \"marker\": {\"color\": \"#636efa\"}, \"name\": \"\", \"nbinsx\": 60, \"offsetgroup\": \"\", \"orientation\": \"v\", \"showlegend\": false, \"x\": [53.6, 23.5, 19.9, 23.2, 5.3, 20.9, 6.1, 4.7, 27.1, 6.1, 6.5, 4.6, 29.2, 3.4, 20.5, 13.4, 7.4, 28.7, 8.0, 22.8, 6.2, 20.1, 20.8, 4.8, 29.9, 6.4, 50.7, 24.6, 6.3, 11.1, 24.8, 27.1, 25.8, 26.2, 13.4, 10.1, 21.3, 10.4, 24.9, 26.6, 25.4, 24.3, 4.1, 39.3, 17.8, 27.5, 3.8, 17.1, 5.0, 3.5, 21.8, 6.7, 59.7, 12.3, 20.5, 4.0, 17.8, 24.4, 30.3, 22.7, 26.8, 21.0, 18.7, 20.9, 22.8, 4.5, 31.3, 1.6, 25.1, 21.5, 23.3, 2.7, 24.0, 6.2, 5.7, 22.0, 11.3, 3.9, 6.5, 20.5, 32.4, 23.9, 27.0, 28.5, 12.9, 6.6, 17.5, 9.3, 43.6, 26.9, 21.5, 19.0, 17.9, 5.9, 5.5, 20.5, 5.2, 46.9, 3.7, 9.3, 2.9, 25.1, 4.1, 27.3, 8.4, 3.8, 19.9, 30.1, 5.6, 25.5, 4.2, 21.5, 3.2, 35.4, 27.1, 29.4, 21.1, 23.5, 20.6, 23.8, 7.3, 17.7, 4.8, 17.3, 17.3, 17.7, 21.4, 25.8, 20.8, 15.0, 18.5, 53.1, 13.5, 6.6, 20.5, 6.1, 12.9, 18.1, 7.6, 23.2, 25.9, 18.0, 3.6, 9.0, 12.3, 17.5, 24.5, 21.7, 3.2, 5.8, 17.4, 3.1, 22.7, 25.6, 29.8, 22.0, 17.3, 24.2, 29.3, 31.0, 24.7, 10.9, 22.8, 26.9, 21.0, 22.4, 25.6, 12.4, 22.5, 17.1, 34.9, 43.7, 15.5, 24.9, 13.5, 19.3, 5.1, 3.9, 8.6, 6.2, 2.5, 7.7, 7.1, 18.1, 23.6, 44.0, 23.5, 5.8, 27.9, 12.3, 48.6], \"xaxis\": \"x\", \"yaxis\": \"y\", \"type\": \"histogram\"}], \"name\": \"2013\"}, {\"data\": [{\"alignmentgroup\": \"True\", \"bingroup\": \"x\", \"hoverlabel\": {\"namelength\": 0}, \"hovertemplate\": \"year=2014<br>pct_obese=%{x}<br>count=%{y}\", \"legendgroup\": \"\", \"marker\": {\"color\": \"#636efa\"}, \"name\": \"\", \"nbinsx\": 60, \"offsetgroup\": \"\", \"orientation\": \"v\", \"showlegend\": false, \"x\": [5.2, 18.0, 26.0, 18.2, 18.5, 18.2, 10.8, 24.0, 15.4, 24.8, 35.6, 6.9, 44.6, 9.7, 24.0, 30.7, 5.8, 28.2, 17.9, 18.5, 17.9, 27.2, 19.2, 23.7, 22.1, 40.1, 8.3, 24.0, 4.0, 6.2, 22.4, 25.5, 21.3, 23.9, 22.3, 21.0, 4.4, 6.3, 6.0, 26.2, 13.9, 44.3, 19.6, 5.8, 4.3, 22.1, 7.5, 21.1, 60.0, 7.0, 8.0, 27.7, 4.1, 5.4, 26.4, 36.0, 13.5, 4.8, 18.1, 12.9, 26.1, 44.2, 54.2, 22.9, 53.7, 24.0, 21.7, 11.4, 27.4, 7.7, 14.1, 6.2, 21.7, 5.5, 9.5, 26.4, 6.4, 30.6, 9.0, 5.0, 21.1, 12.7, 6.3, 23.1, 21.7, 25.3, 30.9, 23.3, 3.4, 6.0, 3.7, 16.1, 19.9, 22.1, 4.0, 6.8, 23.0, 18.3, 25.6, 4.3, 23.7, 4.3, 19.2, 21.1, 25.2, 25.9, 24.5, 14.0, 29.9, 24.7, 26.8, 6.3, 14.1, 7.0, 29.5, 8.0, 49.4, 21.4, 22.2, 3.6, 18.8, 23.5, 22.5, 30.1, 2.6, 11.6, 2.9, 4.6, 3.1, 25.7, 27.5, 24.3, 32.0, 21.5, 25.8, 4.1, 20.4, 1.8, 12.7, 6.8, 27.8, 25.4, 21.1, 27.5, 22.1, 18.1, 51.3, 6.6, 47.7, 23.3, 3.9, 27.3, 31.8, 28.6, 5.1, 27.6, 18.7, 4.0, 27.2, 17.8, 18.5, 13.4, 6.5, 30.1, 10.5, 17.7, 20.5, 7.6, 3.3, 30.3, 9.7, 24.9, 21.2, 27.4, 5.1, 24.8, 21.6, 6.8, 25.1, 33.3, 6.5, 12.7, 5.5, 20.5, 24.3, 8.8, 3.3, 21.0, 29.1, 11.5, 17.7], \"xaxis\": \"x\", \"yaxis\": \"y\", \"type\": \"histogram\"}], \"name\": \"2014\"}, {\"data\": [{\"alignmentgroup\": \"True\", \"bingroup\": \"x\", \"hoverlabel\": {\"namelength\": 0}, \"hovertemplate\": \"year=2015<br>pct_obese=%{x}<br>count=%{y}\", \"legendgroup\": \"\", \"marker\": {\"color\": \"#636efa\"}, \"name\": \"\", \"nbinsx\": 60, \"offsetgroup\": \"\", \"orientation\": \"v\", \"showlegend\": false, \"x\": [4.2, 32.5, 22.4, 24.5, 4.3, 21.9, 26.4, 21.5, 9.3, 7.4, 48.5, 8.3, 13.5, 23.9, 22.5, 7.9, 26.2, 24.7, 5.7, 28.1, 18.2, 25.0, 21.8, 22.0, 18.6, 26.3, 19.6, 22.7, 6.3, 26.1, 3.1, 1.9, 32.9, 2.8, 21.9, 4.8, 24.1, 24.1, 26.9, 5.5, 18.4, 7.4, 4.2, 14.1, 26.8, 23.4, 6.6, 4.5, 21.7, 26.9, 14.7, 54.3, 19.4, 19.2, 19.8, 21.9, 19.0, 18.9, 25.2, 22.8, 18.6, 18.8, 23.7, 31.5, 18.2, 15.8, 26.4, 23.0, 7.8, 10.9, 6.8, 11.1, 22.2, 16.8, 3.9, 6.5, 24.5, 27.8, 26.1, 19.6, 23.7, 14.7, 40.8, 7.2, 26.5, 18.8, 23.0, 28.9, 22.8, 36.3, 8.7, 18.6, 7.3, 45.3, 7.1, 24.4, 25.9, 14.1, 28.6, 4.2, 27.5, 13.1, 7.3, 11.8, 30.5, 25.6, 25.7, 21.6, 28.1, 6.8, 34.1, 20.9, 26.0, 12.0, 13.1, 10.2, 4.5, 30.6, 5.3, 21.7, 25.3, 51.8, 6.8, 27.7, 29.3, 4.2, 28.0, 18.8, 3.4, 6.5, 24.8, 54.7, 24.6, 22.6, 5.7, 4.6, 6.2, 22.5, 7.1, 26.6, 25.0, 6.1, 19.2, 31.0, 22.7, 13.1, 31.3, 30.7, 50.2, 10.1, 29.8, 21.2, 25.2, 9.2, 6.5, 28.4, 4.5, 20.6, 3.3, 10.1, 3.8, 11.9, 36.7, 14.7, 6.8, 20.8, 23.4, 8.0, 5.4, 31.4, 6.6, 5.1, 3.5, 21.6, 22.1, 20.2, 28.0, 14.5, 3.6, 24.8, 44.9, 6.2, 18.7, 60.4, 8.4, 28.3, 4.3, 27.9, 30.2, 44.8, 5.8], \"xaxis\": \"x\", \"yaxis\": \"y\", \"type\": \"histogram\"}], \"name\": \"2015\"}, {\"data\": [{\"alignmentgroup\": \"True\", \"bingroup\": \"x\", \"hoverlabel\": {\"namelength\": 0}, \"hovertemplate\": \"year=2016<br>pct_obese=%{x}<br>count=%{y}\", \"legendgroup\": \"\", \"marker\": {\"color\": \"#636efa\"}, \"name\": \"\", \"nbinsx\": 60, \"offsetgroup\": \"\", \"orientation\": \"v\", \"showlegend\": false, \"x\": [22.4, 3.4, 23.1, 22.3, 20.1, 12.3, 6.9, 23.5, 21.9, 26.6, 30.4, 6.6, 19.8, 23.1, 20.5, 6.5, 27.4, 25.5, 19.4, 23.8, 14.1, 20.9, 4.8, 45.5, 19.9, 28.5, 19.1, 28.7, 35.0, 24.5, 10.6, 14.6, 28.0, 7.4, 26.9, 19.2, 32.1, 6.8, 25.7, 7.5, 45.9, 28.6, 7.1, 7.8, 24.8, 23.2, 19.6, 27.1, 15.4, 41.6, 26.7, 29.5, 28.4, 22.6, 11.5, 11.3, 28.5, 26.5, 4.5, 24.9, 9.0, 37.0, 7.4, 22.1, 5.4, 6.9, 32.2, 5.7, 7.1, 8.4, 6.0, 3.8, 55.3, 25.6, 13.4, 25.7, 12.6, 24.9, 29.9, 15.0, 30.0, 52.4, 4.5, 4.1, 24.2, 31.1, 21.2, 22.7, 17.5, 23.8, 7.4, 25.8, 8.6, 31.8, 4.1, 51.0, 28.4, 19.3, 4.7, 13.5, 25.7, 5.6, 31.0, 21.3, 3.6, 7.1, 22.1, 31.3, 26.1, 12.2, 7.9, 28.2, 13.5, 15.3, 26.9, 7.1, 8.2, 8.7, 60.7, 18.7, 20.2, 19.0, 24.4, 19.7, 23.5, 19.1, 19.4, 22.5, 20.5, 16.1, 4.4, 54.9, 15.3, 19.4, 5.8, 6.0, 8.2, 4.9, 2.9, 2.1, 33.9, 26.6, 6.6, 23.2, 24.5, 26.7, 22.5, 22.4, 25.6, 18.8, 22.9, 25.2, 22.3, 6.6, 27.4, 23.9, 21.8, 31.3, 10.8, 32.0, 27.1, 6.3, 25.7, 6.0, 23.3, 23.1, 45.6, 37.3, 3.8, 28.8, 4.8, 9.5, 28.9, 4.7, 14.7, 7.8, 27.4, 22.9, 4.5, 9.7, 25.0, 33.4, 4.4, 49.3, 27.3, 27.0, 10.6, 3.5, 21.3, 6.9, 4.5], \"xaxis\": \"x\", \"yaxis\": \"y\", \"type\": \"histogram\"}], \"name\": \"2016\"}]);\n",
       "                        }).then(function(){\n",
       "                            \n",
       "var gd = document.getElementById('d4c4ff43-b1a1-4b80-b65c-d893b36dc386');\n",
       "var x = new MutationObserver(function (mutations, observer) {{\n",
       "        var display = window.getComputedStyle(gd).display;\n",
       "        if (!display || display === 'none') {{\n",
       "            console.log([gd, 'removed!']);\n",
       "            Plotly.purge(gd);\n",
       "            observer.disconnect();\n",
       "        }}\n",
       "}});\n",
       "\n",
       "// Listen for the removal of the full notebook cells\n",
       "var notebookContainer = gd.closest('#notebook-container');\n",
       "if (notebookContainer) {{\n",
       "    x.observe(notebookContainer, {childList: true});\n",
       "}}\n",
       "\n",
       "// Listen for the clearing of the current output cell\n",
       "var outputEl = gd.closest('.output');\n",
       "if (outputEl) {{\n",
       "    x.observe(outputEl, {childList: true});\n",
       "}}\n",
       "\n",
       "                        })\n",
       "                };\n",
       "                });\n",
       "            </script>\n",
       "        </div>"
      ]
     },
     "metadata": {},
     "output_type": "display_data"
    }
   ],
   "source": [
    "# Animated histograms showing the change in obesity distributions over time.\n",
    "obs_yrs = obs.sort_values(by = ['year'], ascending = True)\n",
    "\n",
    "fig = px.histogram(obs_yrs,\n",
    "                   x = 'pct_obese', \n",
    "                   animation_frame = 'year', \n",
    "                   nbins = 60,\n",
    "                   range_x = [0, 65],\n",
    "                   range_y = [0, 40])\n",
    "\n",
    "fig.show()"
   ]
  },
  {
   "cell_type": "code",
   "execution_count": 12,
   "metadata": {},
   "outputs": [
    {
     "data": {
      "text/html": [
       "<div>\n",
       "<style scoped>\n",
       "    .dataframe tbody tr th:only-of-type {\n",
       "        vertical-align: middle;\n",
       "    }\n",
       "\n",
       "    .dataframe tbody tr th {\n",
       "        vertical-align: top;\n",
       "    }\n",
       "\n",
       "    .dataframe thead th {\n",
       "        text-align: right;\n",
       "    }\n",
       "</style>\n",
       "<table border=\"1\" class=\"dataframe\">\n",
       "  <thead>\n",
       "    <tr style=\"text-align: right;\">\n",
       "      <th></th>\n",
       "      <th>country</th>\n",
       "      <th>1975</th>\n",
       "      <th>1976</th>\n",
       "      <th>1977</th>\n",
       "      <th>1978</th>\n",
       "      <th>1979</th>\n",
       "      <th>1980</th>\n",
       "      <th>1981</th>\n",
       "      <th>1982</th>\n",
       "      <th>1983</th>\n",
       "      <th>...</th>\n",
       "      <th>2007</th>\n",
       "      <th>2008</th>\n",
       "      <th>2009</th>\n",
       "      <th>2010</th>\n",
       "      <th>2011</th>\n",
       "      <th>2012</th>\n",
       "      <th>2013</th>\n",
       "      <th>2014</th>\n",
       "      <th>2015</th>\n",
       "      <th>2016</th>\n",
       "    </tr>\n",
       "  </thead>\n",
       "  <tbody>\n",
       "    <tr>\n",
       "      <th>0</th>\n",
       "      <td>Afghanistan</td>\n",
       "      <td>0.4</td>\n",
       "      <td>0.4</td>\n",
       "      <td>0.5</td>\n",
       "      <td>0.5</td>\n",
       "      <td>0.5</td>\n",
       "      <td>0.6</td>\n",
       "      <td>0.6</td>\n",
       "      <td>0.6</td>\n",
       "      <td>0.7</td>\n",
       "      <td>...</td>\n",
       "      <td>2.8</td>\n",
       "      <td>2.9</td>\n",
       "      <td>3.1</td>\n",
       "      <td>3.3</td>\n",
       "      <td>3.5</td>\n",
       "      <td>3.7</td>\n",
       "      <td>3.9</td>\n",
       "      <td>4.1</td>\n",
       "      <td>4.3</td>\n",
       "      <td>4.5</td>\n",
       "    </tr>\n",
       "    <tr>\n",
       "      <th>1</th>\n",
       "      <td>Albania</td>\n",
       "      <td>5.7</td>\n",
       "      <td>5.8</td>\n",
       "      <td>6.0</td>\n",
       "      <td>6.1</td>\n",
       "      <td>6.3</td>\n",
       "      <td>6.4</td>\n",
       "      <td>6.6</td>\n",
       "      <td>6.8</td>\n",
       "      <td>7.0</td>\n",
       "      <td>...</td>\n",
       "      <td>16.9</td>\n",
       "      <td>17.5</td>\n",
       "      <td>18.1</td>\n",
       "      <td>18.7</td>\n",
       "      <td>19.3</td>\n",
       "      <td>19.9</td>\n",
       "      <td>20.5</td>\n",
       "      <td>21.1</td>\n",
       "      <td>21.7</td>\n",
       "      <td>22.3</td>\n",
       "    </tr>\n",
       "    <tr>\n",
       "      <th>2</th>\n",
       "      <td>Algeria</td>\n",
       "      <td>5.9</td>\n",
       "      <td>6.1</td>\n",
       "      <td>6.2</td>\n",
       "      <td>6.4</td>\n",
       "      <td>6.7</td>\n",
       "      <td>6.9</td>\n",
       "      <td>7.2</td>\n",
       "      <td>7.4</td>\n",
       "      <td>7.8</td>\n",
       "      <td>...</td>\n",
       "      <td>19.2</td>\n",
       "      <td>19.9</td>\n",
       "      <td>20.7</td>\n",
       "      <td>21.4</td>\n",
       "      <td>22.2</td>\n",
       "      <td>23.1</td>\n",
       "      <td>23.9</td>\n",
       "      <td>24.8</td>\n",
       "      <td>25.7</td>\n",
       "      <td>26.6</td>\n",
       "    </tr>\n",
       "  </tbody>\n",
       "</table>\n",
       "<p>3 rows × 43 columns</p>\n",
       "</div>"
      ],
      "text/plain": [
       "       country  1975  1976  1977  1978  1979  1980  1981  1982  1983  ...  \\\n",
       "0  Afghanistan   0.4   0.4   0.5   0.5   0.5   0.6   0.6   0.6   0.7  ...   \n",
       "1      Albania   5.7   5.8   6.0   6.1   6.3   6.4   6.6   6.8   7.0  ...   \n",
       "2      Algeria   5.9   6.1   6.2   6.4   6.7   6.9   7.2   7.4   7.8  ...   \n",
       "\n",
       "   2007  2008  2009  2010  2011  2012  2013  2014  2015  2016  \n",
       "0   2.8   2.9   3.1   3.3   3.5   3.7   3.9   4.1   4.3   4.5  \n",
       "1  16.9  17.5  18.1  18.7  19.3  19.9  20.5  21.1  21.7  22.3  \n",
       "2  19.2  19.9  20.7  21.4  22.2  23.1  23.9  24.8  25.7  26.6  \n",
       "\n",
       "[3 rows x 43 columns]"
      ]
     },
     "execution_count": 12,
     "metadata": {},
     "output_type": "execute_result"
    }
   ],
   "source": [
    "obs_years = obs.pivot_table(values = 'pct_obese', \n",
    "                            columns = 'year', \n",
    "                            index = 'country').\\\n",
    "                        reset_index().\\\n",
    "                        rename_axis('', axis = 'columns')\n",
    "\n",
    "obs_years.head(3)"
   ]
  },
  {
   "cell_type": "code",
   "execution_count": 13,
   "metadata": {},
   "outputs": [
    {
     "name": "stdout",
     "output_type": "stream",
     "text": [
      "Lowest Reported Obesity Rates: \n",
      "1975    0.1\n",
      "2016    2.1\n"
     ]
    }
   ],
   "source": [
    "print('Lowest Reported Obesity Rates:', obs_years[[1975, 2016]].min().to_string())"
   ]
  },
  {
   "cell_type": "code",
   "execution_count": 14,
   "metadata": {},
   "outputs": [
    {
     "name": "stdout",
     "output_type": "stream",
     "text": [
      "Highest Reported Obesity Rates: \n",
      "1975    41.5\n",
      "2016    60.7\n"
     ]
    }
   ],
   "source": [
    "print('Highest Reported Obesity Rates:', obs_years[[1975, 2016]].max().to_string())"
   ]
  },
  {
   "cell_type": "code",
   "execution_count": 15,
   "metadata": {},
   "outputs": [
    {
     "name": "stdout",
     "output_type": "stream",
     "text": [
      "Average Worldwide Obesity Rates: \n",
      "1975     6.074346\n",
      "2016    19.790052\n"
     ]
    }
   ],
   "source": [
    "print('Average Worldwide Obesity Rates:', obs_years[[1975, 2016]].mean().to_string())"
   ]
  },
  {
   "cell_type": "code",
   "execution_count": 16,
   "metadata": {},
   "outputs": [
    {
     "data": {
      "text/html": [
       "<div>\n",
       "<style scoped>\n",
       "    .dataframe tbody tr th:only-of-type {\n",
       "        vertical-align: middle;\n",
       "    }\n",
       "\n",
       "    .dataframe tbody tr th {\n",
       "        vertical-align: top;\n",
       "    }\n",
       "\n",
       "    .dataframe thead th {\n",
       "        text-align: right;\n",
       "    }\n",
       "</style>\n",
       "<table border=\"1\" class=\"dataframe\">\n",
       "  <thead>\n",
       "    <tr style=\"text-align: right;\">\n",
       "      <th></th>\n",
       "      <th>country</th>\n",
       "      <th>1975</th>\n",
       "      <th>2016</th>\n",
       "    </tr>\n",
       "  </thead>\n",
       "  <tbody>\n",
       "    <tr>\n",
       "      <th>35</th>\n",
       "      <td>China</td>\n",
       "      <td>0.4</td>\n",
       "      <td>6.6</td>\n",
       "    </tr>\n",
       "    <tr>\n",
       "      <th>79</th>\n",
       "      <td>India</td>\n",
       "      <td>0.3</td>\n",
       "      <td>3.8</td>\n",
       "    </tr>\n",
       "    <tr>\n",
       "      <th>185</th>\n",
       "      <td>United States of America</td>\n",
       "      <td>11.7</td>\n",
       "      <td>37.3</td>\n",
       "    </tr>\n",
       "  </tbody>\n",
       "</table>\n",
       "</div>"
      ],
      "text/plain": [
       "                      country  1975  2016\n",
       "35                      China   0.4   6.6\n",
       "79                      India   0.3   3.8\n",
       "185  United States of America  11.7  37.3"
      ]
     },
     "execution_count": 16,
     "metadata": {},
     "output_type": "execute_result"
    }
   ],
   "source": [
    "obs_years.loc[obs_years.country.isin(['India', 'China', 'United States of America']), ['country', 1975, 2016]]"
   ]
  },
  {
   "cell_type": "code",
   "execution_count": 17,
   "metadata": {},
   "outputs": [
    {
     "data": {
      "text/html": [
       "<div>\n",
       "<style scoped>\n",
       "    .dataframe tbody tr th:only-of-type {\n",
       "        vertical-align: middle;\n",
       "    }\n",
       "\n",
       "    .dataframe tbody tr th {\n",
       "        vertical-align: top;\n",
       "    }\n",
       "\n",
       "    .dataframe thead th {\n",
       "        text-align: right;\n",
       "    }\n",
       "</style>\n",
       "<table border=\"1\" class=\"dataframe\">\n",
       "  <thead>\n",
       "    <tr style=\"text-align: right;\">\n",
       "      <th></th>\n",
       "      <th>country</th>\n",
       "      <th>1975</th>\n",
       "      <th>2016</th>\n",
       "    </tr>\n",
       "  </thead>\n",
       "  <tbody>\n",
       "    <tr>\n",
       "      <th>120</th>\n",
       "      <td>Nauru</td>\n",
       "      <td>41.5</td>\n",
       "      <td>60.7</td>\n",
       "    </tr>\n",
       "    <tr>\n",
       "      <th>39</th>\n",
       "      <td>Cook Islands</td>\n",
       "      <td>25.1</td>\n",
       "      <td>55.3</td>\n",
       "    </tr>\n",
       "    <tr>\n",
       "      <th>131</th>\n",
       "      <td>Palau</td>\n",
       "      <td>25.1</td>\n",
       "      <td>54.9</td>\n",
       "    </tr>\n",
       "    <tr>\n",
       "      <th>109</th>\n",
       "      <td>Marshall Islands</td>\n",
       "      <td>23.8</td>\n",
       "      <td>52.4</td>\n",
       "    </tr>\n",
       "    <tr>\n",
       "      <th>179</th>\n",
       "      <td>Tuvalu</td>\n",
       "      <td>15.7</td>\n",
       "      <td>51.0</td>\n",
       "    </tr>\n",
       "    <tr>\n",
       "      <th>127</th>\n",
       "      <td>Niue</td>\n",
       "      <td>16.7</td>\n",
       "      <td>49.3</td>\n",
       "    </tr>\n",
       "    <tr>\n",
       "      <th>174</th>\n",
       "      <td>Tonga</td>\n",
       "      <td>17.8</td>\n",
       "      <td>45.9</td>\n",
       "    </tr>\n",
       "    <tr>\n",
       "      <th>91</th>\n",
       "      <td>Kiribati</td>\n",
       "      <td>NaN</td>\n",
       "      <td>45.6</td>\n",
       "    </tr>\n",
       "    <tr>\n",
       "      <th>148</th>\n",
       "      <td>Samoa</td>\n",
       "      <td>17.6</td>\n",
       "      <td>45.5</td>\n",
       "    </tr>\n",
       "    <tr>\n",
       "      <th>113</th>\n",
       "      <td>Micronesia (Federated States of)</td>\n",
       "      <td>16.8</td>\n",
       "      <td>41.6</td>\n",
       "    </tr>\n",
       "  </tbody>\n",
       "</table>\n",
       "</div>"
      ],
      "text/plain": [
       "                              country  1975  2016\n",
       "120                             Nauru  41.5  60.7\n",
       "39                       Cook Islands  25.1  55.3\n",
       "131                             Palau  25.1  54.9\n",
       "109                  Marshall Islands  23.8  52.4\n",
       "179                            Tuvalu  15.7  51.0\n",
       "127                              Niue  16.7  49.3\n",
       "174                             Tonga  17.8  45.9\n",
       "91                           Kiribati   NaN  45.6\n",
       "148                             Samoa  17.6  45.5\n",
       "113  Micronesia (Federated States of)  16.8  41.6"
      ]
     },
     "execution_count": 17,
     "metadata": {},
     "output_type": "execute_result"
    }
   ],
   "source": [
    "obs_years.sort_values(by = 2016, ascending = False).head(10)[['country', 1975, 2016]]"
   ]
  },
  {
   "cell_type": "code",
   "execution_count": 18,
   "metadata": {},
   "outputs": [],
   "source": [
    "obs_means.to_csv('./obesity_means.csv')\n",
    "obs_years.to_csv('./obesity_years.csv')"
   ]
  }
 ],
 "metadata": {
  "kernelspec": {
   "display_name": "Python 3",
   "language": "python",
   "name": "python3"
  },
  "language_info": {
   "codemirror_mode": {
    "name": "ipython",
    "version": 3
   },
   "file_extension": ".py",
   "mimetype": "text/x-python",
   "name": "python",
   "nbconvert_exporter": "python",
   "pygments_lexer": "ipython3",
   "version": "3.7.3"
  }
 },
 "nbformat": 4,
 "nbformat_minor": 2
}
